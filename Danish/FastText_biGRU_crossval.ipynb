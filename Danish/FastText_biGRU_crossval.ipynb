{
  "nbformat": 4,
  "nbformat_minor": 0,
  "metadata": {
    "colab": {
      "name": "Copy of biGRU.ipynb",
      "provenance": [],
      "collapsed_sections": [],
      "include_colab_link": true
    },
    "kernelspec": {
      "name": "python3",
      "display_name": "Python 3"
    },
    "accelerator": "GPU"
  },
  "cells": [
    {
      "cell_type": "markdown",
      "metadata": {
        "id": "view-in-github",
        "colab_type": "text"
      },
      "source": [
        "<a href=\"https://colab.research.google.com/github/talhaanwarch/OffenseEval2020/blob/master/Danish/FastText_biGRU_crossval.ipynb\" target=\"_parent\"><img src=\"https://colab.research.google.com/assets/colab-badge.svg\" alt=\"Open In Colab\"/></a>"
      ]
    },
    {
      "cell_type": "markdown",
      "metadata": {
        "id": "U_tja7FDUpcC",
        "colab_type": "text"
      },
      "source": [
        "# Danish Language\n"
      ]
    },
    {
      "cell_type": "code",
      "metadata": {
        "id": "B8yyBcABHgE8",
        "colab_type": "code",
        "outputId": "175162d5-c44a-4fdf-ddac-695c03e3719a",
        "colab": {
          "base_uri": "https://localhost:8080/",
          "height": 121
        }
      },
      "source": [
        "from google.colab import drive\n",
        "drive.mount('/content/drive',force_remount=True)"
      ],
      "execution_count": 1,
      "outputs": [
        {
          "output_type": "stream",
          "text": [
            "Go to this URL in a browser: https://accounts.google.com/o/oauth2/auth?client_id=947318989803-6bn6qk8qdgf4n4g3pfee6491hc0brc4i.apps.googleusercontent.com&redirect_uri=urn%3aietf%3awg%3aoauth%3a2.0%3aoob&response_type=code&scope=email%20https%3a%2f%2fwww.googleapis.com%2fauth%2fdocs.test%20https%3a%2f%2fwww.googleapis.com%2fauth%2fdrive%20https%3a%2f%2fwww.googleapis.com%2fauth%2fdrive.photos.readonly%20https%3a%2f%2fwww.googleapis.com%2fauth%2fpeopleapi.readonly\n",
            "\n",
            "Enter your authorization code:\n",
            "··········\n",
            "Mounted at /content/drive\n"
          ],
          "name": "stdout"
        }
      ]
    },
    {
      "cell_type": "code",
      "metadata": {
        "id": "XzpBLLtl6MXy",
        "colab_type": "code",
        "outputId": "b8484b6c-5371-443f-a15b-4d7e78c73bd7",
        "colab": {
          "base_uri": "https://localhost:8080/",
          "height": 370
        }
      },
      "source": [
        "!pip install focal-loss\n",
        "!pip install keras-radam"
      ],
      "execution_count": 2,
      "outputs": [
        {
          "output_type": "stream",
          "text": [
            "Collecting focal-loss\n",
            "  Downloading https://files.pythonhosted.org/packages/66/ed/17450291228192ad8595de4514c8ec28a587697b03c707d12d4af5b7f331/focal_loss-0.0.2-py3-none-any.whl\n",
            "Installing collected packages: focal-loss\n",
            "Successfully installed focal-loss-0.0.2\n",
            "Collecting keras-radam\n",
            "  Downloading https://files.pythonhosted.org/packages/46/8d/b83ccaa94253fbc920b21981f038393041d92236bb541751b98a66a2ac1d/keras-radam-0.15.0.tar.gz\n",
            "Requirement already satisfied: numpy in /usr/local/lib/python3.6/dist-packages (from keras-radam) (1.17.5)\n",
            "Requirement already satisfied: Keras in /usr/local/lib/python3.6/dist-packages (from keras-radam) (2.2.5)\n",
            "Requirement already satisfied: keras-applications>=1.0.8 in /usr/local/lib/python3.6/dist-packages (from Keras->keras-radam) (1.0.8)\n",
            "Requirement already satisfied: scipy>=0.14 in /usr/local/lib/python3.6/dist-packages (from Keras->keras-radam) (1.4.1)\n",
            "Requirement already satisfied: keras-preprocessing>=1.1.0 in /usr/local/lib/python3.6/dist-packages (from Keras->keras-radam) (1.1.0)\n",
            "Requirement already satisfied: six>=1.9.0 in /usr/local/lib/python3.6/dist-packages (from Keras->keras-radam) (1.12.0)\n",
            "Requirement already satisfied: pyyaml in /usr/local/lib/python3.6/dist-packages (from Keras->keras-radam) (3.13)\n",
            "Requirement already satisfied: h5py in /usr/local/lib/python3.6/dist-packages (from Keras->keras-radam) (2.8.0)\n",
            "Building wheels for collected packages: keras-radam\n",
            "  Building wheel for keras-radam (setup.py) ... \u001b[?25l\u001b[?25hdone\n",
            "  Created wheel for keras-radam: filename=keras_radam-0.15.0-cp36-none-any.whl size=14685 sha256=0ff31659085378e6d2606aae074dd48593bd0f7ce7c75b48749d72dcc3cab460\n",
            "  Stored in directory: /root/.cache/pip/wheels/79/a0/c0/670b0a118e8f078539fafec7bd02eba0af921f745660c7f83f\n",
            "Successfully built keras-radam\n",
            "Installing collected packages: keras-radam\n",
            "Successfully installed keras-radam-0.15.0\n"
          ],
          "name": "stdout"
        }
      ]
    },
    {
      "cell_type": "code",
      "metadata": {
        "id": "Y0Yzi-0oHqTD",
        "colab_type": "code",
        "outputId": "d411e6e8-8d0b-4400-b03a-a0b648bb2738",
        "colab": {
          "base_uri": "https://localhost:8080/",
          "height": 34
        }
      },
      "source": [
        "cd /content/drive/My Drive/dataset/OffenseEval2020/data/Danish/"
      ],
      "execution_count": 3,
      "outputs": [
        {
          "output_type": "stream",
          "text": [
            "/content/drive/My Drive/dataset/OffenseEval2020/data/Danish\n"
          ],
          "name": "stdout"
        }
      ]
    },
    {
      "cell_type": "code",
      "metadata": {
        "id": "4fN7zvpdTOdo",
        "colab_type": "code",
        "outputId": "4dcb6dc4-98ac-434a-ada3-6e9c3439d843",
        "colab": {
          "base_uri": "https://localhost:8080/",
          "height": 34
        }
      },
      "source": [
        "ls"
      ],
      "execution_count": 4,
      "outputs": [
        {
          "output_type": "stream",
          "text": [
            "cc.da.300.vec  cc.da.300.vec.gz  offenseval-da-training-v1.tsv\n"
          ],
          "name": "stdout"
        }
      ]
    },
    {
      "cell_type": "code",
      "metadata": {
        "id": "04n7RsXqIBlz",
        "colab_type": "code",
        "colab": {}
      },
      "source": [
        "import pandas as pd\n",
        "train=pd.read_csv( 'offenseval-da-training-v1.tsv',sep=\"\\t\")\n",
        "train.drop(train.tail(n=1).index,inplace=True)\n",
        "train['tweet']=train['tweet'].str.lower()\n",
        "train['tweet']=train['tweet'].str.replace('\\d+', '')\n",
        "train=train.sample(frac=1)"
      ],
      "execution_count": 0,
      "outputs": []
    },
    {
      "cell_type": "code",
      "metadata": {
        "id": "mqmIsFmsIFPY",
        "colab_type": "code",
        "outputId": "3ebe7a48-cfbc-4691-ca7e-72ec2777368f",
        "colab": {
          "base_uri": "https://localhost:8080/",
          "height": 195
        }
      },
      "source": [
        "train.head()"
      ],
      "execution_count": 6,
      "outputs": [
        {
          "output_type": "execute_result",
          "data": {
            "text/html": [
              "<div>\n",
              "<style scoped>\n",
              "    .dataframe tbody tr th:only-of-type {\n",
              "        vertical-align: middle;\n",
              "    }\n",
              "\n",
              "    .dataframe tbody tr th {\n",
              "        vertical-align: top;\n",
              "    }\n",
              "\n",
              "    .dataframe thead th {\n",
              "        text-align: right;\n",
              "    }\n",
              "</style>\n",
              "<table border=\"1\" class=\"dataframe\">\n",
              "  <thead>\n",
              "    <tr style=\"text-align: right;\">\n",
              "      <th></th>\n",
              "      <th>id</th>\n",
              "      <th>tweet</th>\n",
              "      <th>subtask_a</th>\n",
              "    </tr>\n",
              "  </thead>\n",
              "  <tbody>\n",
              "    <tr>\n",
              "      <th>2346</th>\n",
              "      <td>2316</td>\n",
              "      <td>så hjælp dog de stakkels mennesker, de har tyd...</td>\n",
              "      <td>NOT</td>\n",
              "    </tr>\n",
              "    <tr>\n",
              "      <th>2138</th>\n",
              "      <td>3092</td>\n",
              "      <td>yderst høj kvalitet, godt gået op.</td>\n",
              "      <td>NOT</td>\n",
              "    </tr>\n",
              "    <tr>\n",
              "      <th>555</th>\n",
              "      <td>1661</td>\n",
              "      <td>er det separatist flag i baggrunden?</td>\n",
              "      <td>NOT</td>\n",
              "    </tr>\n",
              "    <tr>\n",
              "      <th>1992</th>\n",
              "      <td>1254</td>\n",
              "      <td>ja ja, hun er en idiot og hun lyver, men er de...</td>\n",
              "      <td>OFF</td>\n",
              "    </tr>\n",
              "    <tr>\n",
              "      <th>791</th>\n",
              "      <td>1267</td>\n",
              "      <td>så er det frem med langskibene fær at tage vor...</td>\n",
              "      <td>NOT</td>\n",
              "    </tr>\n",
              "  </tbody>\n",
              "</table>\n",
              "</div>"
            ],
            "text/plain": [
              "        id                                              tweet subtask_a\n",
              "2346  2316  så hjælp dog de stakkels mennesker, de har tyd...       NOT\n",
              "2138  3092                 yderst høj kvalitet, godt gået op.       NOT\n",
              "555   1661               er det separatist flag i baggrunden?       NOT\n",
              "1992  1254  ja ja, hun er en idiot og hun lyver, men er de...       OFF\n",
              "791   1267  så er det frem med langskibene fær at tage vor...       NOT"
            ]
          },
          "metadata": {
            "tags": []
          },
          "execution_count": 6
        }
      ]
    },
    {
      "cell_type": "code",
      "metadata": {
        "id": "-ptkGujpIwMH",
        "colab_type": "code",
        "outputId": "8cf60798-9d60-430e-87f8-3d74f89f6254",
        "colab": {
          "base_uri": "https://localhost:8080/",
          "height": 195
        }
      },
      "source": [
        "train.tail()"
      ],
      "execution_count": 7,
      "outputs": [
        {
          "output_type": "execute_result",
          "data": {
            "text/html": [
              "<div>\n",
              "<style scoped>\n",
              "    .dataframe tbody tr th:only-of-type {\n",
              "        vertical-align: middle;\n",
              "    }\n",
              "\n",
              "    .dataframe tbody tr th {\n",
              "        vertical-align: top;\n",
              "    }\n",
              "\n",
              "    .dataframe thead th {\n",
              "        text-align: right;\n",
              "    }\n",
              "</style>\n",
              "<table border=\"1\" class=\"dataframe\">\n",
              "  <thead>\n",
              "    <tr style=\"text-align: right;\">\n",
              "      <th></th>\n",
              "      <th>id</th>\n",
              "      <th>tweet</th>\n",
              "      <th>subtask_a</th>\n",
              "    </tr>\n",
              "  </thead>\n",
              "  <tbody>\n",
              "    <tr>\n",
              "      <th>744</th>\n",
              "      <td>3007</td>\n",
              "      <td>så der dømt op-stemme fest!!!</td>\n",
              "      <td>NOT</td>\n",
              "    </tr>\n",
              "    <tr>\n",
              "      <th>2203</th>\n",
              "      <td>3207</td>\n",
              "      <td>/r/likeus</td>\n",
              "      <td>NOT</td>\n",
              "    </tr>\n",
              "    <tr>\n",
              "      <th>673</th>\n",
              "      <td>2177</td>\n",
              "      <td>du glemmer  - nya ullevi er hellig dansk jord!</td>\n",
              "      <td>NOT</td>\n",
              "    </tr>\n",
              "    <tr>\n",
              "      <th>277</th>\n",
              "      <td>365</td>\n",
              "      <td>@user sikke en lille ting at blive sur over? d...</td>\n",
              "      <td>NOT</td>\n",
              "    </tr>\n",
              "    <tr>\n",
              "      <th>1921</th>\n",
              "      <td>1383</td>\n",
              "      <td>længe leve kongen af danmark</td>\n",
              "      <td>NOT</td>\n",
              "    </tr>\n",
              "  </tbody>\n",
              "</table>\n",
              "</div>"
            ],
            "text/plain": [
              "        id                                              tweet subtask_a\n",
              "744   3007                      så der dømt op-stemme fest!!!       NOT\n",
              "2203  3207                                          /r/likeus       NOT\n",
              "673   2177     du glemmer  - nya ullevi er hellig dansk jord!       NOT\n",
              "277    365  @user sikke en lille ting at blive sur over? d...       NOT\n",
              "1921  1383                       længe leve kongen af danmark       NOT"
            ]
          },
          "metadata": {
            "tags": []
          },
          "execution_count": 7
        }
      ]
    },
    {
      "cell_type": "code",
      "metadata": {
        "id": "8TYe8X52IGha",
        "colab_type": "code",
        "colab": {}
      },
      "source": [
        "labels=train['subtask_a']\n",
        "train=train['tweet']\n",
        "labels=pd.factorize(labels)[0]"
      ],
      "execution_count": 0,
      "outputs": []
    },
    {
      "cell_type": "code",
      "metadata": {
        "id": "KVmlJvlfIP9k",
        "colab_type": "code",
        "outputId": "b332ccd1-e407-46fa-d801-e2e650981d47",
        "colab": {
          "base_uri": "https://localhost:8080/",
          "height": 34
        }
      },
      "source": [
        "import collections\n",
        "collections.Counter(labels)"
      ],
      "execution_count": 9,
      "outputs": [
        {
          "output_type": "execute_result",
          "data": {
            "text/plain": [
              "Counter({0: 2576, 1: 384})"
            ]
          },
          "metadata": {
            "tags": []
          },
          "execution_count": 9
        }
      ]
    },
    {
      "cell_type": "code",
      "metadata": {
        "id": "xRZItSB-IogR",
        "colab_type": "code",
        "outputId": "cbcdd473-8e60-47c4-cab8-832aa03c4c8d",
        "colab": {
          "base_uri": "https://localhost:8080/",
          "height": 79
        }
      },
      "source": [
        "from keras.preprocessing.text import Tokenizer\n",
        "from keras.preprocessing import sequence\n",
        "max_words = 10000 #frequency of words to be kept\n",
        "max_len = 200\n",
        "\n",
        "tokenize = Tokenizer(num_words=max_words)\n",
        "tokenize.fit_on_texts(train)\n",
        "sequences = tokenize.texts_to_sequences(train)\n",
        "word_index = tokenize.word_index\n",
        "sequences_matrix = sequence.pad_sequences(sequences,maxlen=max_len)"
      ],
      "execution_count": 10,
      "outputs": [
        {
          "output_type": "stream",
          "text": [
            "Using TensorFlow backend.\n"
          ],
          "name": "stderr"
        },
        {
          "output_type": "display_data",
          "data": {
            "text/html": [
              "<p style=\"color: red;\">\n",
              "The default version of TensorFlow in Colab will soon switch to TensorFlow 2.x.<br>\n",
              "We recommend you <a href=\"https://www.tensorflow.org/guide/migrate\" target=\"_blank\">upgrade</a> now \n",
              "or ensure your notebook will continue to use TensorFlow 1.x via the <code>%tensorflow_version 1.x</code> magic:\n",
              "<a href=\"https://colab.research.google.com/notebooks/tensorflow_version.ipynb\" target=\"_blank\">more info</a>.</p>\n"
            ],
            "text/plain": [
              "<IPython.core.display.HTML object>"
            ]
          },
          "metadata": {
            "tags": []
          }
        }
      ]
    },
    {
      "cell_type": "code",
      "metadata": {
        "id": "rsBKuk1UOu4W",
        "colab_type": "code",
        "outputId": "7841c533-86de-42bc-abbc-d23bca6c2fe9",
        "colab": {
          "base_uri": "https://localhost:8080/",
          "height": 34
        }
      },
      "source": [
        "len(sequences_matrix),len(labels)"
      ],
      "execution_count": 11,
      "outputs": [
        {
          "output_type": "execute_result",
          "data": {
            "text/plain": [
              "(2960, 2960)"
            ]
          },
          "metadata": {
            "tags": []
          },
          "execution_count": 11
        }
      ]
    },
    {
      "cell_type": "code",
      "metadata": {
        "id": "j_CbYz9jJ1Bc",
        "colab_type": "code",
        "colab": {}
      },
      "source": [
        "from keras.models import Sequential\n",
        "from keras.layers import Embedding,CuDNNGRU,GRU,Dense,Dropout,Bidirectional,GlobalMaxPool1D,GlobalAveragePooling1D, SpatialDropout1D\n",
        "from keras.optimizers import RMSprop\n",
        "from keras.initializers import Constant\n",
        "from sklearn.utils import class_weight\n",
        "from sklearn.metrics import classification_report,f1_score\n",
        "import keras\n",
        "from keras_radam import RAdam\n",
        "import numpy as np\n",
        "from sklearn.model_selection import StratifiedKFold\n",
        "from focal_loss import BinaryFocalLoss\n",
        "import tensorflow as tf\n",
        "tf.logging.set_verbosity(tf.logging.ERROR)"
      ],
      "execution_count": 0,
      "outputs": []
    },
    {
      "cell_type": "code",
      "metadata": {
        "id": "EUpgHo7nCE3C",
        "colab_type": "code",
        "outputId": "1e7b513b-e742-4cc6-8eb0-a8fd10383973",
        "colab": {
          "base_uri": "https://localhost:8080/",
          "height": 34
        }
      },
      "source": [
        "num_words = min(max_words, len(word_index)) + 1\n",
        "print(num_words)"
      ],
      "execution_count": 13,
      "outputs": [
        {
          "output_type": "stream",
          "text": [
            "9813\n"
          ],
          "name": "stdout"
        }
      ]
    },
    {
      "cell_type": "code",
      "metadata": {
        "colab_type": "code",
        "id": "NdNYG_SM_s98",
        "colab": {}
      },
      "source": [
        "# !wget https://dl.fbaipublicfiles.com/fasttext/vectors-crawl/cc.el.300.vec.gz"
      ],
      "execution_count": 0,
      "outputs": []
    },
    {
      "cell_type": "code",
      "metadata": {
        "colab_type": "code",
        "id": "OAAtXRaw_sNX",
        "colab": {}
      },
      "source": [
        "# import gzip\n",
        "# import shutil\n",
        "# with gzip.open('cc.el.300.vec.gz', 'rb') as f_in:\n",
        "#     with open('cc.el.300.vec', 'wb') as f_out:\n",
        "#         shutil.copyfileobj(f_in, f_out)"
      ],
      "execution_count": 0,
      "outputs": []
    },
    {
      "cell_type": "code",
      "metadata": {
        "id": "Hohu_6rE-Z6s",
        "colab_type": "code",
        "colab": {}
      },
      "source": [
        "embed_size=300\n",
        "def get_coefs(word,*arr):\n",
        "    return word, np.asarray(arr, dtype='float32')\n",
        "\n",
        "def build_matrix(embedding_path, word_index):\n",
        "    embedding_index = dict(get_coefs(*o.strip().split(\" \")) for o in open(embedding_path))\n",
        "\n",
        "    nb_words = min(max_words, len(word_index))\n",
        "    embedding_matrix = np.zeros((nb_words + 1, embed_size))\n",
        "    for word, i in word_index.items():\n",
        "        if i >= max_words:\n",
        "            continue\n",
        "        embedding_vector = embedding_index.get(word)\n",
        "        if embedding_vector is not None:\n",
        "            embedding_matrix[i] = embedding_vector\n",
        "    return embedding_matrix"
      ],
      "execution_count": 0,
      "outputs": []
    },
    {
      "cell_type": "code",
      "metadata": {
        "id": "faZVMLbw-cN-",
        "colab_type": "code",
        "colab": {}
      },
      "source": [
        "embeddings=build_matrix('cc.da.300.vec', word_index)\n"
      ],
      "execution_count": 0,
      "outputs": []
    },
    {
      "cell_type": "code",
      "metadata": {
        "id": "et7AvsISBjZP",
        "colab_type": "code",
        "outputId": "3c65933c-57c9-4580-b2b4-d283467e93aa",
        "colab": {
          "base_uri": "https://localhost:8080/",
          "height": 34
        }
      },
      "source": [
        "embeddings.shape"
      ],
      "execution_count": 18,
      "outputs": [
        {
          "output_type": "execute_result",
          "data": {
            "text/plain": [
              "(9813, 300)"
            ]
          },
          "metadata": {
            "tags": []
          },
          "execution_count": 18
        }
      ]
    },
    {
      "cell_type": "code",
      "metadata": {
        "id": "gPExMeUk6Zrx",
        "colab_type": "code",
        "colab": {}
      },
      "source": [
        ""
      ],
      "execution_count": 0,
      "outputs": []
    },
    {
      "cell_type": "code",
      "metadata": {
        "id": "sTLZ31tIJ4Js",
        "colab_type": "code",
        "colab": {}
      },
      "source": [
        "def model_func():\n",
        "  model = Sequential()\n",
        "  model.add(Embedding(num_words,embed_size,embeddings_initializer=Constant(embeddings),input_length=max_len,trainable=False))\n",
        "  model.add(Bidirectional(CuDNNGRU(100, return_sequences = True)))\n",
        "  #model.add(Bidirectional(CuDNNGRU(32, return_sequences = True)))\n",
        "  model.add(GlobalMaxPool1D())\n",
        "  model.add(Dense(100, activation=\"relu\"))\n",
        "  model.add(Dense(50, activation=\"relu\"))\n",
        "  #model.add(Dense(10, activation=\"relu\"))\n",
        "\n",
        "  model.add(Dropout(0.05))\n",
        "  model.add(Dense(1, activation=\"sigmoid\"))\n",
        "  model.compile(loss=BinaryFocalLoss(gamma=2), optimizer='adam', metrics=['accuracy'])\n",
        "  return model"
      ],
      "execution_count": 0,
      "outputs": []
    },
    {
      "cell_type": "code",
      "metadata": {
        "id": "g9qM_Y38hWEu",
        "colab_type": "code",
        "colab": {}
      },
      "source": [
        "import numpy as np\n",
        "class_weights = class_weight.compute_class_weight('balanced',np.unique(labels),labels)\n",
        "class_weights=dict(enumerate(class_weights))"
      ],
      "execution_count": 0,
      "outputs": []
    },
    {
      "cell_type": "code",
      "metadata": {
        "id": "VHE3OFWz3DTk",
        "colab_type": "code",
        "colab": {}
      },
      "source": [
        "from keras.callbacks import ReduceLROnPlateau\n",
        "reduce_lr = ReduceLROnPlateau(monitor='val_loss', factor=0.2,\n",
        "                              patience=2, min_lr=0.000001, verbose=1)"
      ],
      "execution_count": 0,
      "outputs": []
    },
    {
      "cell_type": "code",
      "metadata": {
        "id": "f-6ga8jGg5Pj",
        "colab_type": "code",
        "outputId": "5b3e8446-bfaa-43c6-dabc-a1226e2f7d16",
        "colab": {
          "base_uri": "https://localhost:8080/",
          "height": 1000
        }
      },
      "source": [
        "kfold = StratifiedKFold(n_splits=10, shuffle=False, random_state=2020)\n",
        "cvscores = []\n",
        "\n",
        "for train, test in kfold.split(sequences_matrix, labels):\n",
        "  model=model_func()\n",
        "  \n",
        "  model.fit(sequences_matrix[train], labels[train],batch_size=64,epochs=10,verbose=2,\n",
        "            validation_data=(sequences_matrix[test],labels[test]),callbacks=[reduce_lr])\n",
        "  y_pred = model.predict(sequences_matrix[test], batch_size=64, verbose=1)\n",
        "  y_pred_bool = np.argmax(y_pred, axis=1)\n",
        "  y_pred = (y_pred > 0.5)\n",
        "  f1=f1_score(labels[test], y_pred, average='macro')\n",
        "  cvscores.append(f1)\n",
        "  keras.backend.clear_session()"
      ],
      "execution_count": 22,
      "outputs": [
        {
          "output_type": "stream",
          "text": [
            "/usr/local/lib/python3.6/dist-packages/sklearn/model_selection/_split.py:296: FutureWarning: Setting a random_state has no effect since shuffle is False. This will raise an error in 0.24. You should leave random_state to its default (None), or set shuffle=True.\n",
            "  FutureWarning\n"
          ],
          "name": "stderr"
        },
        {
          "output_type": "stream",
          "text": [
            "Train on 2664 samples, validate on 296 samples\n",
            "Epoch 1/10\n",
            " - 16s - loss: 0.1118 - acc: 0.8634 - val_loss: 0.1014 - val_acc: 0.8716\n",
            "Epoch 2/10\n",
            " - 1s - loss: 0.0912 - acc: 0.8701 - val_loss: 0.0819 - val_acc: 0.8716\n",
            "Epoch 3/10\n",
            " - 1s - loss: 0.0770 - acc: 0.8825 - val_loss: 0.0728 - val_acc: 0.8784\n",
            "Epoch 4/10\n",
            " - 1s - loss: 0.0649 - acc: 0.9084 - val_loss: 0.0696 - val_acc: 0.9054\n",
            "Epoch 5/10\n",
            " - 1s - loss: 0.0568 - acc: 0.9268 - val_loss: 0.0725 - val_acc: 0.9020\n",
            "Epoch 6/10\n",
            " - 1s - loss: 0.0449 - acc: 0.9332 - val_loss: 0.0746 - val_acc: 0.8953\n",
            "\n",
            "Epoch 00006: ReduceLROnPlateau reducing learning rate to 0.00020000000949949026.\n",
            "Epoch 7/10\n",
            " - 1s - loss: 0.0327 - acc: 0.9565 - val_loss: 0.0800 - val_acc: 0.9122\n",
            "Epoch 8/10\n",
            " - 1s - loss: 0.0288 - acc: 0.9621 - val_loss: 0.0788 - val_acc: 0.8953\n",
            "\n",
            "Epoch 00008: ReduceLROnPlateau reducing learning rate to 4.0000001899898055e-05.\n",
            "Epoch 9/10\n",
            " - 1s - loss: 0.0261 - acc: 0.9681 - val_loss: 0.0822 - val_acc: 0.8986\n",
            "Epoch 10/10\n",
            " - 1s - loss: 0.0254 - acc: 0.9688 - val_loss: 0.0825 - val_acc: 0.9020\n",
            "\n",
            "Epoch 00010: ReduceLROnPlateau reducing learning rate to 8.000000525498762e-06.\n",
            "296/296 [==============================] - 0s 477us/step\n",
            "Train on 2664 samples, validate on 296 samples\n",
            "Epoch 1/10\n",
            " - 2s - loss: 0.1103 - acc: 0.8682 - val_loss: 0.1011 - val_acc: 0.8716\n",
            "Epoch 2/10\n",
            " - 1s - loss: 0.0933 - acc: 0.8701 - val_loss: 0.0947 - val_acc: 0.8716\n",
            "Epoch 3/10\n",
            " - 1s - loss: 0.0793 - acc: 0.8814 - val_loss: 0.0868 - val_acc: 0.8919\n",
            "Epoch 4/10\n",
            " - 1s - loss: 0.0659 - acc: 0.9050 - val_loss: 0.0819 - val_acc: 0.9020\n",
            "Epoch 5/10\n",
            " - 1s - loss: 0.0517 - acc: 0.9279 - val_loss: 0.0917 - val_acc: 0.9054\n",
            "Epoch 6/10\n",
            " - 1s - loss: 0.0400 - acc: 0.9452 - val_loss: 0.1011 - val_acc: 0.8547\n",
            "\n",
            "Epoch 00006: ReduceLROnPlateau reducing learning rate to 0.00020000000949949026.\n",
            "Epoch 7/10\n",
            " - 1s - loss: 0.0282 - acc: 0.9643 - val_loss: 0.1149 - val_acc: 0.9020\n",
            "Epoch 8/10\n",
            " - 1s - loss: 0.0242 - acc: 0.9707 - val_loss: 0.1105 - val_acc: 0.8885\n",
            "\n",
            "Epoch 00008: ReduceLROnPlateau reducing learning rate to 4.0000001899898055e-05.\n",
            "Epoch 9/10\n",
            " - 1s - loss: 0.0218 - acc: 0.9797 - val_loss: 0.1192 - val_acc: 0.8953\n",
            "Epoch 10/10\n",
            " - 1s - loss: 0.0212 - acc: 0.9805 - val_loss: 0.1179 - val_acc: 0.8919\n",
            "\n",
            "Epoch 00010: ReduceLROnPlateau reducing learning rate to 8.000000525498762e-06.\n",
            "296/296 [==============================] - 0s 469us/step\n",
            "Train on 2664 samples, validate on 296 samples\n",
            "Epoch 1/10\n",
            " - 2s - loss: 0.1112 - acc: 0.8566 - val_loss: 0.0999 - val_acc: 0.8716\n",
            "Epoch 2/10\n",
            " - 1s - loss: 0.0909 - acc: 0.8701 - val_loss: 0.0889 - val_acc: 0.8716\n",
            "Epoch 3/10\n",
            " - 1s - loss: 0.0757 - acc: 0.8848 - val_loss: 0.0919 - val_acc: 0.8784\n",
            "Epoch 4/10\n",
            " - 1s - loss: 0.0613 - acc: 0.9152 - val_loss: 0.0926 - val_acc: 0.9020\n",
            "\n",
            "Epoch 00004: ReduceLROnPlateau reducing learning rate to 0.00020000000949949026.\n",
            "Epoch 5/10\n",
            " - 1s - loss: 0.0492 - acc: 0.9328 - val_loss: 0.0961 - val_acc: 0.9054\n",
            "Epoch 6/10\n",
            " - 1s - loss: 0.0461 - acc: 0.9332 - val_loss: 0.0954 - val_acc: 0.9020\n",
            "\n",
            "Epoch 00006: ReduceLROnPlateau reducing learning rate to 4.0000001899898055e-05.\n",
            "Epoch 7/10\n",
            " - 1s - loss: 0.0429 - acc: 0.9444 - val_loss: 0.0994 - val_acc: 0.9088\n",
            "Epoch 8/10\n",
            " - 1s - loss: 0.0419 - acc: 0.9429 - val_loss: 0.1000 - val_acc: 0.9088\n",
            "\n",
            "Epoch 00008: ReduceLROnPlateau reducing learning rate to 8.000000525498762e-06.\n",
            "Epoch 9/10\n",
            " - 1s - loss: 0.0414 - acc: 0.9437 - val_loss: 0.0999 - val_acc: 0.9088\n",
            "Epoch 10/10\n",
            " - 1s - loss: 0.0411 - acc: 0.9437 - val_loss: 0.0999 - val_acc: 0.9088\n",
            "\n",
            "Epoch 00010: ReduceLROnPlateau reducing learning rate to 1.6000001778593287e-06.\n",
            "296/296 [==============================] - 0s 489us/step\n",
            "Train on 2664 samples, validate on 296 samples\n",
            "Epoch 1/10\n",
            " - 2s - loss: 0.1099 - acc: 0.8675 - val_loss: 0.0980 - val_acc: 0.8716\n",
            "Epoch 2/10\n",
            " - 1s - loss: 0.0888 - acc: 0.8735 - val_loss: 0.0851 - val_acc: 0.8953\n",
            "Epoch 3/10\n",
            " - 1s - loss: 0.0749 - acc: 0.8990 - val_loss: 0.0819 - val_acc: 0.8953\n",
            "Epoch 4/10\n",
            " - 1s - loss: 0.0607 - acc: 0.9114 - val_loss: 0.0812 - val_acc: 0.8986\n",
            "Epoch 5/10\n",
            " - 1s - loss: 0.0485 - acc: 0.9317 - val_loss: 0.0844 - val_acc: 0.9088\n",
            "Epoch 6/10\n",
            " - 1s - loss: 0.0376 - acc: 0.9531 - val_loss: 0.0819 - val_acc: 0.9054\n",
            "\n",
            "Epoch 00006: ReduceLROnPlateau reducing learning rate to 0.00020000000949949026.\n",
            "Epoch 7/10\n",
            " - 1s - loss: 0.0253 - acc: 0.9673 - val_loss: 0.1043 - val_acc: 0.9054\n",
            "Epoch 8/10\n",
            " - 1s - loss: 0.0215 - acc: 0.9733 - val_loss: 0.1056 - val_acc: 0.9054\n",
            "\n",
            "Epoch 00008: ReduceLROnPlateau reducing learning rate to 4.0000001899898055e-05.\n",
            "Epoch 9/10\n",
            " - 1s - loss: 0.0188 - acc: 0.9790 - val_loss: 0.1032 - val_acc: 0.9054\n",
            "Epoch 10/10\n",
            " - 1s - loss: 0.0183 - acc: 0.9797 - val_loss: 0.1022 - val_acc: 0.9054\n",
            "\n",
            "Epoch 00010: ReduceLROnPlateau reducing learning rate to 8.000000525498762e-06.\n",
            "296/296 [==============================] - 0s 495us/step\n",
            "Train on 2664 samples, validate on 296 samples\n",
            "Epoch 1/10\n",
            " - 2s - loss: 0.1101 - acc: 0.8686 - val_loss: 0.0976 - val_acc: 0.8716\n",
            "Epoch 2/10\n",
            " - 1s - loss: 0.0874 - acc: 0.8754 - val_loss: 0.0888 - val_acc: 0.8682\n",
            "Epoch 3/10\n",
            " - 1s - loss: 0.0704 - acc: 0.9020 - val_loss: 0.0852 - val_acc: 0.8716\n",
            "Epoch 4/10\n",
            " - 1s - loss: 0.0593 - acc: 0.9125 - val_loss: 0.0891 - val_acc: 0.8784\n",
            "Epoch 5/10\n",
            " - 1s - loss: 0.0500 - acc: 0.9306 - val_loss: 0.1060 - val_acc: 0.8851\n",
            "\n",
            "Epoch 00005: ReduceLROnPlateau reducing learning rate to 0.00020000000949949026.\n",
            "Epoch 6/10\n",
            " - 1s - loss: 0.0378 - acc: 0.9474 - val_loss: 0.1009 - val_acc: 0.8885\n",
            "Epoch 7/10\n",
            " - 1s - loss: 0.0342 - acc: 0.9550 - val_loss: 0.1020 - val_acc: 0.8919\n",
            "\n",
            "Epoch 00007: ReduceLROnPlateau reducing learning rate to 4.0000001899898055e-05.\n",
            "Epoch 8/10\n",
            " - 1s - loss: 0.0315 - acc: 0.9595 - val_loss: 0.1040 - val_acc: 0.8919\n",
            "Epoch 9/10\n",
            " - 1s - loss: 0.0308 - acc: 0.9598 - val_loss: 0.1055 - val_acc: 0.8919\n",
            "\n",
            "Epoch 00009: ReduceLROnPlateau reducing learning rate to 8.000000525498762e-06.\n",
            "Epoch 10/10\n",
            " - 1s - loss: 0.0300 - acc: 0.9602 - val_loss: 0.1060 - val_acc: 0.8919\n",
            "296/296 [==============================] - 0s 522us/step\n",
            "Train on 2664 samples, validate on 296 samples\n",
            "Epoch 1/10\n",
            " - 2s - loss: 0.1146 - acc: 0.8521 - val_loss: 0.1051 - val_acc: 0.8716\n",
            "Epoch 2/10\n",
            " - 1s - loss: 0.0946 - acc: 0.8701 - val_loss: 0.0932 - val_acc: 0.8716\n",
            "Epoch 3/10\n",
            " - 1s - loss: 0.0750 - acc: 0.8934 - val_loss: 0.0891 - val_acc: 0.8851\n",
            "Epoch 4/10\n",
            " - 1s - loss: 0.0595 - acc: 0.9174 - val_loss: 0.0866 - val_acc: 0.8682\n",
            "Epoch 5/10\n",
            " - 1s - loss: 0.0481 - acc: 0.9339 - val_loss: 0.1138 - val_acc: 0.8851\n",
            "Epoch 6/10\n",
            " - 1s - loss: 0.0348 - acc: 0.9508 - val_loss: 0.1059 - val_acc: 0.8446\n",
            "\n",
            "Epoch 00006: ReduceLROnPlateau reducing learning rate to 0.00020000000949949026.\n",
            "Epoch 7/10\n",
            " - 1s - loss: 0.0219 - acc: 0.9779 - val_loss: 0.1133 - val_acc: 0.8615\n",
            "Epoch 8/10\n",
            " - 1s - loss: 0.0183 - acc: 0.9835 - val_loss: 0.1183 - val_acc: 0.8682\n",
            "\n",
            "Epoch 00008: ReduceLROnPlateau reducing learning rate to 4.0000001899898055e-05.\n",
            "Epoch 9/10\n",
            " - 1s - loss: 0.0160 - acc: 0.9861 - val_loss: 0.1226 - val_acc: 0.8784\n",
            "Epoch 10/10\n",
            " - 1s - loss: 0.0153 - acc: 0.9884 - val_loss: 0.1262 - val_acc: 0.8784\n",
            "\n",
            "Epoch 00010: ReduceLROnPlateau reducing learning rate to 8.000000525498762e-06.\n",
            "296/296 [==============================] - 0s 473us/step\n",
            "Train on 2664 samples, validate on 296 samples\n",
            "Epoch 1/10\n",
            " - 2s - loss: 0.1130 - acc: 0.8544 - val_loss: 0.0989 - val_acc: 0.8682\n",
            "Epoch 2/10\n",
            " - 1s - loss: 0.0905 - acc: 0.8750 - val_loss: 0.0761 - val_acc: 0.8919\n",
            "Epoch 3/10\n",
            " - 1s - loss: 0.0730 - acc: 0.8971 - val_loss: 0.0690 - val_acc: 0.9122\n",
            "Epoch 4/10\n",
            " - 1s - loss: 0.0625 - acc: 0.9140 - val_loss: 0.0739 - val_acc: 0.9020\n",
            "Epoch 5/10\n",
            " - 1s - loss: 0.0499 - acc: 0.9264 - val_loss: 0.0657 - val_acc: 0.9291\n",
            "Epoch 6/10\n",
            " - 1s - loss: 0.0392 - acc: 0.9452 - val_loss: 0.0765 - val_acc: 0.8919\n",
            "Epoch 7/10\n",
            " - 1s - loss: 0.0291 - acc: 0.9621 - val_loss: 0.0788 - val_acc: 0.9257\n",
            "\n",
            "Epoch 00007: ReduceLROnPlateau reducing learning rate to 0.00020000000949949026.\n",
            "Epoch 8/10\n",
            " - 1s - loss: 0.0178 - acc: 0.9805 - val_loss: 0.0816 - val_acc: 0.9223\n",
            "Epoch 9/10\n",
            " - 1s - loss: 0.0149 - acc: 0.9884 - val_loss: 0.0807 - val_acc: 0.9223\n",
            "\n",
            "Epoch 00009: ReduceLROnPlateau reducing learning rate to 4.0000001899898055e-05.\n",
            "Epoch 10/10\n",
            " - 1s - loss: 0.0133 - acc: 0.9899 - val_loss: 0.0811 - val_acc: 0.9223\n",
            "296/296 [==============================] - 0s 503us/step\n",
            "Train on 2664 samples, validate on 296 samples\n",
            "Epoch 1/10\n",
            " - 2s - loss: 0.1119 - acc: 0.8514 - val_loss: 0.1008 - val_acc: 0.8682\n",
            "Epoch 2/10\n",
            " - 1s - loss: 0.0919 - acc: 0.8705 - val_loss: 0.0823 - val_acc: 0.8682\n",
            "Epoch 3/10\n",
            " - 1s - loss: 0.0759 - acc: 0.8926 - val_loss: 0.0732 - val_acc: 0.8919\n",
            "Epoch 4/10\n",
            " - 1s - loss: 0.0624 - acc: 0.9107 - val_loss: 0.0708 - val_acc: 0.9088\n",
            "Epoch 5/10\n",
            " - 1s - loss: 0.0525 - acc: 0.9294 - val_loss: 0.0703 - val_acc: 0.9088\n",
            "Epoch 6/10\n",
            " - 1s - loss: 0.0382 - acc: 0.9489 - val_loss: 0.1188 - val_acc: 0.8986\n",
            "Epoch 7/10\n",
            " - 1s - loss: 0.0298 - acc: 0.9632 - val_loss: 0.0916 - val_acc: 0.9189\n",
            "\n",
            "Epoch 00007: ReduceLROnPlateau reducing learning rate to 0.00020000000949949026.\n",
            "Epoch 8/10\n",
            " - 1s - loss: 0.0177 - acc: 0.9809 - val_loss: 0.1103 - val_acc: 0.9122\n",
            "Epoch 9/10\n",
            " - 1s - loss: 0.0150 - acc: 0.9854 - val_loss: 0.1057 - val_acc: 0.9189\n",
            "\n",
            "Epoch 00009: ReduceLROnPlateau reducing learning rate to 4.0000001899898055e-05.\n",
            "Epoch 10/10\n",
            " - 1s - loss: 0.0134 - acc: 0.9865 - val_loss: 0.1076 - val_acc: 0.9155\n",
            "296/296 [==============================] - 0s 478us/step\n",
            "Train on 2664 samples, validate on 296 samples\n",
            "Epoch 1/10\n",
            " - 2s - loss: 0.1072 - acc: 0.8705 - val_loss: 0.1010 - val_acc: 0.8682\n",
            "Epoch 2/10\n",
            " - 1s - loss: 0.0873 - acc: 0.8720 - val_loss: 0.0968 - val_acc: 0.8682\n",
            "Epoch 3/10\n",
            " - 1s - loss: 0.0726 - acc: 0.8949 - val_loss: 0.0825 - val_acc: 0.9054\n",
            "Epoch 4/10\n",
            " - 1s - loss: 0.0612 - acc: 0.9167 - val_loss: 0.0848 - val_acc: 0.9054\n",
            "Epoch 5/10\n",
            " - 1s - loss: 0.0507 - acc: 0.9283 - val_loss: 0.1055 - val_acc: 0.9020\n",
            "\n",
            "Epoch 00005: ReduceLROnPlateau reducing learning rate to 0.00020000000949949026.\n",
            "Epoch 6/10\n",
            " - 1s - loss: 0.0387 - acc: 0.9426 - val_loss: 0.0935 - val_acc: 0.9020\n",
            "Epoch 7/10\n",
            " - 1s - loss: 0.0356 - acc: 0.9523 - val_loss: 0.1001 - val_acc: 0.9020\n",
            "\n",
            "Epoch 00007: ReduceLROnPlateau reducing learning rate to 4.0000001899898055e-05.\n",
            "Epoch 8/10\n",
            " - 1s - loss: 0.0329 - acc: 0.9546 - val_loss: 0.0958 - val_acc: 0.8986\n",
            "Epoch 9/10\n",
            " - 1s - loss: 0.0323 - acc: 0.9561 - val_loss: 0.0965 - val_acc: 0.8986\n",
            "\n",
            "Epoch 00009: ReduceLROnPlateau reducing learning rate to 8.000000525498762e-06.\n",
            "Epoch 10/10\n",
            " - 1s - loss: 0.0317 - acc: 0.9572 - val_loss: 0.0976 - val_acc: 0.8953\n",
            "296/296 [==============================] - 0s 495us/step\n",
            "Train on 2664 samples, validate on 296 samples\n",
            "Epoch 1/10\n",
            " - 2s - loss: 0.1137 - acc: 0.8514 - val_loss: 0.1031 - val_acc: 0.8682\n",
            "Epoch 2/10\n",
            " - 1s - loss: 0.0935 - acc: 0.8705 - val_loss: 0.0855 - val_acc: 0.8682\n",
            "Epoch 3/10\n",
            " - 1s - loss: 0.0760 - acc: 0.8818 - val_loss: 0.0850 - val_acc: 0.8953\n",
            "Epoch 4/10\n",
            " - 1s - loss: 0.0636 - acc: 0.9080 - val_loss: 0.0908 - val_acc: 0.9088\n",
            "Epoch 5/10\n",
            " - 1s - loss: 0.0509 - acc: 0.9317 - val_loss: 0.1012 - val_acc: 0.9088\n",
            "\n",
            "Epoch 00005: ReduceLROnPlateau reducing learning rate to 0.00020000000949949026.\n",
            "Epoch 6/10\n",
            " - 1s - loss: 0.0381 - acc: 0.9493 - val_loss: 0.0958 - val_acc: 0.9122\n",
            "Epoch 7/10\n",
            " - 1s - loss: 0.0349 - acc: 0.9553 - val_loss: 0.1066 - val_acc: 0.9155\n",
            "\n",
            "Epoch 00007: ReduceLROnPlateau reducing learning rate to 4.0000001899898055e-05.\n",
            "Epoch 8/10\n",
            " - 1s - loss: 0.0319 - acc: 0.9610 - val_loss: 0.1069 - val_acc: 0.9155\n",
            "Epoch 9/10\n",
            " - 1s - loss: 0.0312 - acc: 0.9636 - val_loss: 0.1090 - val_acc: 0.9155\n",
            "\n",
            "Epoch 00009: ReduceLROnPlateau reducing learning rate to 8.000000525498762e-06.\n",
            "Epoch 10/10\n",
            " - 1s - loss: 0.0307 - acc: 0.9647 - val_loss: 0.1096 - val_acc: 0.9155\n",
            "296/296 [==============================] - 0s 503us/step\n"
          ],
          "name": "stdout"
        }
      ]
    },
    {
      "cell_type": "code",
      "metadata": {
        "id": "NKgIrCHXJ_Gc",
        "colab_type": "code",
        "outputId": "94efbf39-055f-4895-fa9e-2efb8a0153af",
        "colab": {
          "base_uri": "https://localhost:8080/",
          "height": 34
        }
      },
      "source": [
        "np.array(cvscores).mean()"
      ],
      "execution_count": 23,
      "outputs": [
        {
          "output_type": "execute_result",
          "data": {
            "text/plain": [
              "0.731045175374386"
            ]
          },
          "metadata": {
            "tags": []
          },
          "execution_count": 23
        }
      ]
    },
    {
      "cell_type": "code",
      "metadata": {
        "id": "WwZrmmcPMfKm",
        "colab_type": "code",
        "colab": {}
      },
      "source": [
        ""
      ],
      "execution_count": 0,
      "outputs": []
    },
    {
      "cell_type": "code",
      "metadata": {
        "id": "sepj7fJ_REvZ",
        "colab_type": "code",
        "colab": {}
      },
      "source": [
        ""
      ],
      "execution_count": 0,
      "outputs": []
    }
  ]
}