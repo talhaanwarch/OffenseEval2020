{
  "nbformat": 4,
  "nbformat_minor": 0,
  "metadata": {
    "colab": {
      "name": "Copy of biGRU.ipynb",
      "provenance": [],
      "collapsed_sections": [],
      "include_colab_link": true
    },
    "kernelspec": {
      "name": "python3",
      "display_name": "Python 3"
    },
    "accelerator": "GPU"
  },
  "cells": [
    {
      "cell_type": "markdown",
      "metadata": {
        "id": "view-in-github",
        "colab_type": "text"
      },
      "source": [
        "<a href=\"https://colab.research.google.com/github/talhaanwarch/OffenseEval2020/blob/master/Danish/FastText_biGRU_crossval.ipynb\" target=\"_parent\"><img src=\"https://colab.research.google.com/assets/colab-badge.svg\" alt=\"Open In Colab\"/></a>"
      ]
    },
    {
      "cell_type": "markdown",
      "metadata": {
        "id": "U_tja7FDUpcC",
        "colab_type": "text"
      },
      "source": [
        "# Danish Language\n"
      ]
    },
    {
      "cell_type": "code",
      "metadata": {
        "id": "B8yyBcABHgE8",
        "colab_type": "code",
        "outputId": "fc7ac5ed-bc91-4e23-d88c-53f06b4f6fb1",
        "colab": {
          "base_uri": "https://localhost:8080/",
          "height": 121
        }
      },
      "source": [
        "from google.colab import drive\n",
        "drive.mount('/content/drive',force_remount=True)"
      ],
      "execution_count": 1,
      "outputs": [
        {
          "output_type": "stream",
          "text": [
            "Go to this URL in a browser: https://accounts.google.com/o/oauth2/auth?client_id=947318989803-6bn6qk8qdgf4n4g3pfee6491hc0brc4i.apps.googleusercontent.com&redirect_uri=urn%3aietf%3awg%3aoauth%3a2.0%3aoob&response_type=code&scope=email%20https%3a%2f%2fwww.googleapis.com%2fauth%2fdocs.test%20https%3a%2f%2fwww.googleapis.com%2fauth%2fdrive%20https%3a%2f%2fwww.googleapis.com%2fauth%2fdrive.photos.readonly%20https%3a%2f%2fwww.googleapis.com%2fauth%2fpeopleapi.readonly\n",
            "\n",
            "Enter your authorization code:\n",
            "··········\n",
            "Mounted at /content/drive\n"
          ],
          "name": "stdout"
        }
      ]
    },
    {
      "cell_type": "code",
      "metadata": {
        "id": "XzpBLLtl6MXy",
        "colab_type": "code",
        "outputId": "083c1717-b841-4e5d-a2cf-ab1ddab8a86f",
        "colab": {
          "base_uri": "https://localhost:8080/",
          "height": 370
        }
      },
      "source": [
        "!pip install focal-loss\n",
        "!pip install keras-radam"
      ],
      "execution_count": 2,
      "outputs": [
        {
          "output_type": "stream",
          "text": [
            "Collecting focal-loss\n",
            "  Downloading https://files.pythonhosted.org/packages/66/ed/17450291228192ad8595de4514c8ec28a587697b03c707d12d4af5b7f331/focal_loss-0.0.2-py3-none-any.whl\n",
            "Installing collected packages: focal-loss\n",
            "Successfully installed focal-loss-0.0.2\n",
            "Collecting keras-radam\n",
            "  Downloading https://files.pythonhosted.org/packages/46/8d/b83ccaa94253fbc920b21981f038393041d92236bb541751b98a66a2ac1d/keras-radam-0.15.0.tar.gz\n",
            "Requirement already satisfied: numpy in /usr/local/lib/python3.6/dist-packages (from keras-radam) (1.17.5)\n",
            "Requirement already satisfied: Keras in /usr/local/lib/python3.6/dist-packages (from keras-radam) (2.2.5)\n",
            "Requirement already satisfied: keras-preprocessing>=1.1.0 in /usr/local/lib/python3.6/dist-packages (from Keras->keras-radam) (1.1.0)\n",
            "Requirement already satisfied: keras-applications>=1.0.8 in /usr/local/lib/python3.6/dist-packages (from Keras->keras-radam) (1.0.8)\n",
            "Requirement already satisfied: pyyaml in /usr/local/lib/python3.6/dist-packages (from Keras->keras-radam) (3.13)\n",
            "Requirement already satisfied: scipy>=0.14 in /usr/local/lib/python3.6/dist-packages (from Keras->keras-radam) (1.4.1)\n",
            "Requirement already satisfied: h5py in /usr/local/lib/python3.6/dist-packages (from Keras->keras-radam) (2.8.0)\n",
            "Requirement already satisfied: six>=1.9.0 in /usr/local/lib/python3.6/dist-packages (from Keras->keras-radam) (1.12.0)\n",
            "Building wheels for collected packages: keras-radam\n",
            "  Building wheel for keras-radam (setup.py) ... \u001b[?25l\u001b[?25hdone\n",
            "  Created wheel for keras-radam: filename=keras_radam-0.15.0-cp36-none-any.whl size=14685 sha256=3decc46c559dc4b58470c6119799d078bce606820e413d467001f925681cdc69\n",
            "  Stored in directory: /root/.cache/pip/wheels/79/a0/c0/670b0a118e8f078539fafec7bd02eba0af921f745660c7f83f\n",
            "Successfully built keras-radam\n",
            "Installing collected packages: keras-radam\n",
            "Successfully installed keras-radam-0.15.0\n"
          ],
          "name": "stdout"
        }
      ]
    },
    {
      "cell_type": "code",
      "metadata": {
        "id": "Y0Yzi-0oHqTD",
        "colab_type": "code",
        "outputId": "b2408c72-44ea-4825-bb47-600ad7d287d6",
        "colab": {
          "base_uri": "https://localhost:8080/",
          "height": 34
        }
      },
      "source": [
        "cd /content/drive/My Drive/dataset/OffenseEval2020/data/Danish/"
      ],
      "execution_count": 3,
      "outputs": [
        {
          "output_type": "stream",
          "text": [
            "/content/drive/My Drive/dataset/OffenseEval2020/data/Danish\n"
          ],
          "name": "stdout"
        }
      ]
    },
    {
      "cell_type": "code",
      "metadata": {
        "id": "4fN7zvpdTOdo",
        "colab_type": "code",
        "outputId": "ccdd133e-e986-4490-cd80-b670aa466ca2",
        "colab": {
          "base_uri": "https://localhost:8080/",
          "height": 34
        }
      },
      "source": [
        "ls"
      ],
      "execution_count": 4,
      "outputs": [
        {
          "output_type": "stream",
          "text": [
            "cc.da.300.vec  cc.da.300.vec.gz  offenseval-da-training-v1.tsv\n"
          ],
          "name": "stdout"
        }
      ]
    },
    {
      "cell_type": "code",
      "metadata": {
        "id": "04n7RsXqIBlz",
        "colab_type": "code",
        "colab": {}
      },
      "source": [
        "import pandas as pd\n",
        "train=pd.read_csv( 'offenseval-da-training-v1.tsv',sep=\"\\t\")\n",
        "train.drop(train.tail(n=1).index,inplace=True)\n",
        "#train['tweet']=train['tweet'].str.lower()\n",
        "train=train.sample(frac=1)"
      ],
      "execution_count": 0,
      "outputs": []
    },
    {
      "cell_type": "code",
      "metadata": {
        "id": "mqmIsFmsIFPY",
        "colab_type": "code",
        "outputId": "8c267f16-c850-427d-fd81-46f39e5610fe",
        "colab": {
          "base_uri": "https://localhost:8080/",
          "height": 195
        }
      },
      "source": [
        "train.head()"
      ],
      "execution_count": 6,
      "outputs": [
        {
          "output_type": "execute_result",
          "data": {
            "text/html": [
              "<div>\n",
              "<style scoped>\n",
              "    .dataframe tbody tr th:only-of-type {\n",
              "        vertical-align: middle;\n",
              "    }\n",
              "\n",
              "    .dataframe tbody tr th {\n",
              "        vertical-align: top;\n",
              "    }\n",
              "\n",
              "    .dataframe thead th {\n",
              "        text-align: right;\n",
              "    }\n",
              "</style>\n",
              "<table border=\"1\" class=\"dataframe\">\n",
              "  <thead>\n",
              "    <tr style=\"text-align: right;\">\n",
              "      <th></th>\n",
              "      <th>id</th>\n",
              "      <th>tweet</th>\n",
              "      <th>subtask_a</th>\n",
              "    </tr>\n",
              "  </thead>\n",
              "  <tbody>\n",
              "    <tr>\n",
              "      <th>612</th>\n",
              "      <td>584</td>\n",
              "      <td>Igen fylder godt i statistikkerne.</td>\n",
              "      <td>NOT</td>\n",
              "    </tr>\n",
              "    <tr>\n",
              "      <th>224</th>\n",
              "      <td>878</td>\n",
              "      <td>Synes ikke velgørenhed firmaer i dk er værd at...</td>\n",
              "      <td>NOT</td>\n",
              "    </tr>\n",
              "    <tr>\n",
              "      <th>202</th>\n",
              "      <td>2798</td>\n",
              "      <td>Beriget!</td>\n",
              "      <td>NOT</td>\n",
              "    </tr>\n",
              "    <tr>\n",
              "      <th>277</th>\n",
              "      <td>365</td>\n",
              "      <td>@USER sikke en lille ting at blive sur over? D...</td>\n",
              "      <td>NOT</td>\n",
              "    </tr>\n",
              "    <tr>\n",
              "      <th>1493</th>\n",
              "      <td>1753</td>\n",
              "      <td>Det är för att vi alla redan kan engelska.</td>\n",
              "      <td>NOT</td>\n",
              "    </tr>\n",
              "  </tbody>\n",
              "</table>\n",
              "</div>"
            ],
            "text/plain": [
              "        id                                              tweet subtask_a\n",
              "612    584                 Igen fylder godt i statistikkerne.       NOT\n",
              "224    878  Synes ikke velgørenhed firmaer i dk er værd at...       NOT\n",
              "202   2798                                           Beriget!       NOT\n",
              "277    365  @USER sikke en lille ting at blive sur over? D...       NOT\n",
              "1493  1753         Det är för att vi alla redan kan engelska.       NOT"
            ]
          },
          "metadata": {
            "tags": []
          },
          "execution_count": 6
        }
      ]
    },
    {
      "cell_type": "code",
      "metadata": {
        "id": "-ptkGujpIwMH",
        "colab_type": "code",
        "outputId": "bb498356-ad6e-4208-a5be-d4f565c5aa7e",
        "colab": {
          "base_uri": "https://localhost:8080/",
          "height": 195
        }
      },
      "source": [
        "train.tail()"
      ],
      "execution_count": 7,
      "outputs": [
        {
          "output_type": "execute_result",
          "data": {
            "text/html": [
              "<div>\n",
              "<style scoped>\n",
              "    .dataframe tbody tr th:only-of-type {\n",
              "        vertical-align: middle;\n",
              "    }\n",
              "\n",
              "    .dataframe tbody tr th {\n",
              "        vertical-align: top;\n",
              "    }\n",
              "\n",
              "    .dataframe thead th {\n",
              "        text-align: right;\n",
              "    }\n",
              "</style>\n",
              "<table border=\"1\" class=\"dataframe\">\n",
              "  <thead>\n",
              "    <tr style=\"text-align: right;\">\n",
              "      <th></th>\n",
              "      <th>id</th>\n",
              "      <th>tweet</th>\n",
              "      <th>subtask_a</th>\n",
              "    </tr>\n",
              "  </thead>\n",
              "  <tbody>\n",
              "    <tr>\n",
              "      <th>218</th>\n",
              "      <td>3419</td>\n",
              "      <td>[He he he...](URL</td>\n",
              "      <td>NOT</td>\n",
              "    </tr>\n",
              "    <tr>\n",
              "      <th>2844</th>\n",
              "      <td>1436</td>\n",
              "      <td>Mon det bliver oplyst til skat ?????</td>\n",
              "      <td>NOT</td>\n",
              "    </tr>\n",
              "    <tr>\n",
              "      <th>829</th>\n",
              "      <td>981</td>\n",
              "      <td>Ja hvorfor ikk tjene på det man er blevet give...</td>\n",
              "      <td>NOT</td>\n",
              "    </tr>\n",
              "    <tr>\n",
              "      <th>1399</th>\n",
              "      <td>2598</td>\n",
              "      <td>Lel hvor har du fundet den? Det er vidst det j...</td>\n",
              "      <td>OFF</td>\n",
              "    </tr>\n",
              "    <tr>\n",
              "      <th>1906</th>\n",
              "      <td>136</td>\n",
              "      <td>Bliver bange</td>\n",
              "      <td>NOT</td>\n",
              "    </tr>\n",
              "  </tbody>\n",
              "</table>\n",
              "</div>"
            ],
            "text/plain": [
              "        id                                              tweet subtask_a\n",
              "218   3419                                  [He he he...](URL       NOT\n",
              "2844  1436               Mon det bliver oplyst til skat ?????       NOT\n",
              "829    981  Ja hvorfor ikk tjene på det man er blevet give...       NOT\n",
              "1399  2598  Lel hvor har du fundet den? Det er vidst det j...       OFF\n",
              "1906   136                                       Bliver bange       NOT"
            ]
          },
          "metadata": {
            "tags": []
          },
          "execution_count": 7
        }
      ]
    },
    {
      "cell_type": "code",
      "metadata": {
        "id": "8TYe8X52IGha",
        "colab_type": "code",
        "colab": {}
      },
      "source": [
        "labels=train['subtask_a']\n",
        "train=train['tweet']\n",
        "labels=pd.factorize(labels)[0]"
      ],
      "execution_count": 0,
      "outputs": []
    },
    {
      "cell_type": "code",
      "metadata": {
        "id": "KVmlJvlfIP9k",
        "colab_type": "code",
        "outputId": "403d7652-72b0-4125-ec3d-e115e3b46f2d",
        "colab": {
          "base_uri": "https://localhost:8080/",
          "height": 34
        }
      },
      "source": [
        "import collections\n",
        "collections.Counter(labels)"
      ],
      "execution_count": 9,
      "outputs": [
        {
          "output_type": "execute_result",
          "data": {
            "text/plain": [
              "Counter({0: 2576, 1: 384})"
            ]
          },
          "metadata": {
            "tags": []
          },
          "execution_count": 9
        }
      ]
    },
    {
      "cell_type": "code",
      "metadata": {
        "id": "xRZItSB-IogR",
        "colab_type": "code",
        "colab": {
          "base_uri": "https://localhost:8080/",
          "height": 79
        },
        "outputId": "87d88581-1efb-4171-e531-db372ebb3314"
      },
      "source": [
        "from keras.preprocessing.text import Tokenizer\n",
        "from keras.preprocessing import sequence\n",
        "max_words = 10000 #frequency of words to be kept\n",
        "max_len = 200\n",
        "\n",
        "tokenize = Tokenizer(num_words=max_words)\n",
        "tokenize.fit_on_texts(train)\n",
        "sequences = tokenize.texts_to_sequences(train)\n",
        "word_index = tokenize.word_index\n",
        "sequences_matrix = sequence.pad_sequences(sequences,maxlen=max_len)"
      ],
      "execution_count": 10,
      "outputs": [
        {
          "output_type": "stream",
          "text": [
            "Using TensorFlow backend.\n"
          ],
          "name": "stderr"
        },
        {
          "output_type": "display_data",
          "data": {
            "text/html": [
              "<p style=\"color: red;\">\n",
              "The default version of TensorFlow in Colab will soon switch to TensorFlow 2.x.<br>\n",
              "We recommend you <a href=\"https://www.tensorflow.org/guide/migrate\" target=\"_blank\">upgrade</a> now \n",
              "or ensure your notebook will continue to use TensorFlow 1.x via the <code>%tensorflow_version 1.x</code> magic:\n",
              "<a href=\"https://colab.research.google.com/notebooks/tensorflow_version.ipynb\" target=\"_blank\">more info</a>.</p>\n"
            ],
            "text/plain": [
              "<IPython.core.display.HTML object>"
            ]
          },
          "metadata": {
            "tags": []
          }
        }
      ]
    },
    {
      "cell_type": "code",
      "metadata": {
        "id": "rsBKuk1UOu4W",
        "colab_type": "code",
        "outputId": "5c6a0eb0-f5be-45cd-ac52-35390ef9d5eb",
        "colab": {
          "base_uri": "https://localhost:8080/",
          "height": 34
        }
      },
      "source": [
        "len(sequences_matrix),len(labels)"
      ],
      "execution_count": 11,
      "outputs": [
        {
          "output_type": "execute_result",
          "data": {
            "text/plain": [
              "(2960, 2960)"
            ]
          },
          "metadata": {
            "tags": []
          },
          "execution_count": 11
        }
      ]
    },
    {
      "cell_type": "code",
      "metadata": {
        "id": "j_CbYz9jJ1Bc",
        "colab_type": "code",
        "colab": {}
      },
      "source": [
        "from keras.models import Sequential\n",
        "from keras.layers import Embedding,CuDNNGRU,GRU,Dense,Dropout,Bidirectional,GlobalMaxPool1D,GlobalAveragePooling1D, SpatialDropout1D\n",
        "from keras.optimizers import RMSprop\n",
        "from keras.initializers import Constant\n",
        "from sklearn.utils import class_weight\n",
        "from sklearn.metrics import classification_report,f1_score\n",
        "import keras\n",
        "import numpy as np\n",
        "from sklearn.model_selection import StratifiedKFold\n",
        "from focal_loss import BinaryFocalLoss\n",
        "import tensorflow as tf\n",
        "tf.logging.set_verbosity(tf.logging.ERROR)"
      ],
      "execution_count": 0,
      "outputs": []
    },
    {
      "cell_type": "code",
      "metadata": {
        "id": "EUpgHo7nCE3C",
        "colab_type": "code",
        "outputId": "e50f0637-9b8a-48eb-fb20-2225b1eb915d",
        "colab": {
          "base_uri": "https://localhost:8080/",
          "height": 34
        }
      },
      "source": [
        "num_words = min(max_words, len(word_index)) + 1\n",
        "print(num_words)"
      ],
      "execution_count": 13,
      "outputs": [
        {
          "output_type": "stream",
          "text": [
            "9970\n"
          ],
          "name": "stdout"
        }
      ]
    },
    {
      "cell_type": "code",
      "metadata": {
        "colab_type": "code",
        "id": "NdNYG_SM_s98",
        "colab": {}
      },
      "source": [
        "# !wget https://dl.fbaipublicfiles.com/fasttext/vectors-crawl/cc.el.300.vec.gz"
      ],
      "execution_count": 0,
      "outputs": []
    },
    {
      "cell_type": "code",
      "metadata": {
        "colab_type": "code",
        "id": "OAAtXRaw_sNX",
        "colab": {}
      },
      "source": [
        "# import gzip\n",
        "# import shutil\n",
        "# with gzip.open('cc.el.300.vec.gz', 'rb') as f_in:\n",
        "#     with open('cc.el.300.vec', 'wb') as f_out:\n",
        "#         shutil.copyfileobj(f_in, f_out)"
      ],
      "execution_count": 0,
      "outputs": []
    },
    {
      "cell_type": "code",
      "metadata": {
        "id": "Hohu_6rE-Z6s",
        "colab_type": "code",
        "colab": {}
      },
      "source": [
        "embed_size=300\n",
        "def get_coefs(word,*arr):\n",
        "    return word, np.asarray(arr, dtype='float32')\n",
        "\n",
        "def build_matrix(embedding_path, word_index):\n",
        "    embedding_index = dict(get_coefs(*o.strip().split(\" \")) for o in open(embedding_path))\n",
        "\n",
        "    nb_words = min(max_words, len(word_index))\n",
        "    embedding_matrix = np.zeros((nb_words + 1, embed_size))\n",
        "    for word, i in word_index.items():\n",
        "        if i >= max_words:\n",
        "            continue\n",
        "        embedding_vector = embedding_index.get(word)\n",
        "        if embedding_vector is not None:\n",
        "            embedding_matrix[i] = embedding_vector\n",
        "    return embedding_matrix"
      ],
      "execution_count": 0,
      "outputs": []
    },
    {
      "cell_type": "code",
      "metadata": {
        "id": "faZVMLbw-cN-",
        "colab_type": "code",
        "colab": {}
      },
      "source": [
        "embeddings=build_matrix('cc.da.300.vec', word_index)\n"
      ],
      "execution_count": 0,
      "outputs": []
    },
    {
      "cell_type": "code",
      "metadata": {
        "id": "et7AvsISBjZP",
        "colab_type": "code",
        "outputId": "4a4fab9f-c545-45ce-db48-372ac4e8ad0b",
        "colab": {
          "base_uri": "https://localhost:8080/",
          "height": 34
        }
      },
      "source": [
        "embeddings.shape"
      ],
      "execution_count": 18,
      "outputs": [
        {
          "output_type": "execute_result",
          "data": {
            "text/plain": [
              "(9970, 300)"
            ]
          },
          "metadata": {
            "tags": []
          },
          "execution_count": 18
        }
      ]
    },
    {
      "cell_type": "code",
      "metadata": {
        "id": "gPExMeUk6Zrx",
        "colab_type": "code",
        "colab": {}
      },
      "source": [
        ""
      ],
      "execution_count": 0,
      "outputs": []
    },
    {
      "cell_type": "code",
      "metadata": {
        "id": "sTLZ31tIJ4Js",
        "colab_type": "code",
        "colab": {}
      },
      "source": [
        "def model_func():\n",
        "  model = Sequential()\n",
        "  model.add(Embedding(num_words,embed_size,embeddings_initializer=Constant(embeddings),input_length=max_len,trainable=False))\n",
        "  model.add(Bidirectional(CuDNNGRU(100, return_sequences = True)))\n",
        "  #model.add(Bidirectional(CuDNNGRU(32, return_sequences = True)))\n",
        "  model.add(GlobalMaxPool1D())\n",
        "  model.add(Dense(100, activation=\"relu\"))\n",
        "  model.add(Dense(50, activation=\"relu\"))\n",
        "  #model.add(Dense(10, activation=\"relu\"))\n",
        "\n",
        "  model.add(Dropout(0.05))\n",
        "  model.add(Dense(1, activation=\"sigmoid\"))\n",
        "  model.compile(loss=BinaryFocalLoss(gamma=2), optimizer='adam', metrics=['accuracy'])\n",
        "  return model"
      ],
      "execution_count": 0,
      "outputs": []
    },
    {
      "cell_type": "code",
      "metadata": {
        "id": "g9qM_Y38hWEu",
        "colab_type": "code",
        "colab": {}
      },
      "source": [
        "import numpy as np\n",
        "class_weights = class_weight.compute_class_weight('balanced',np.unique(labels),labels)\n",
        "class_weights=dict(enumerate(class_weights))"
      ],
      "execution_count": 0,
      "outputs": []
    },
    {
      "cell_type": "code",
      "metadata": {
        "id": "VHE3OFWz3DTk",
        "colab_type": "code",
        "colab": {}
      },
      "source": [
        "from keras.callbacks import ReduceLROnPlateau\n",
        "reduce_lr = ReduceLROnPlateau(monitor='val_loss', factor=0.2,\n",
        "                              patience=2, min_lr=0.000001, verbose=1)"
      ],
      "execution_count": 0,
      "outputs": []
    },
    {
      "cell_type": "code",
      "metadata": {
        "id": "f-6ga8jGg5Pj",
        "colab_type": "code",
        "outputId": "960f84a4-5648-486a-838a-dc25d538b4af",
        "colab": {
          "base_uri": "https://localhost:8080/",
          "height": 1000
        }
      },
      "source": [
        "kfold = StratifiedKFold(n_splits=10, shuffle=False, random_state=2020)\n",
        "cvscores = []\n",
        "\n",
        "for train, test in kfold.split(sequences_matrix, labels):\n",
        "  model=model_func()\n",
        "  \n",
        "  model.fit(sequences_matrix[train], labels[train],batch_size=256,epochs=10,verbose=2,\n",
        "            validation_data=(sequences_matrix[test],labels[test]),callbacks=[reduce_lr])\n",
        "  y_pred = model.predict(sequences_matrix[test], batch_size=128, verbose=1)\n",
        "  y_pred_bool = np.argmax(y_pred, axis=1)\n",
        "  y_pred = (y_pred > 0.5)\n",
        "  f1=f1_score(labels[test], y_pred, average='macro')\n",
        "  cvscores.append(f1)\n",
        "  keras.backend.clear_session()"
      ],
      "execution_count": 22,
      "outputs": [
        {
          "output_type": "stream",
          "text": [
            "/usr/local/lib/python3.6/dist-packages/sklearn/model_selection/_split.py:296: FutureWarning: Setting a random_state has no effect since shuffle is False. This will raise an error in 0.24. You should leave random_state to its default (None), or set shuffle=True.\n",
            "  FutureWarning\n"
          ],
          "name": "stderr"
        },
        {
          "output_type": "stream",
          "text": [
            "Train on 2664 samples, validate on 296 samples\n",
            "Epoch 1/10\n",
            " - 15s - loss: 0.1241 - acc: 0.8315 - val_loss: 0.1140 - val_acc: 0.8716\n",
            "Epoch 2/10\n",
            " - 1s - loss: 0.1082 - acc: 0.8701 - val_loss: 0.1037 - val_acc: 0.8716\n",
            "Epoch 3/10\n",
            " - 1s - loss: 0.1024 - acc: 0.8701 - val_loss: 0.1011 - val_acc: 0.8716\n",
            "Epoch 4/10\n",
            " - 1s - loss: 0.0951 - acc: 0.8701 - val_loss: 0.0992 - val_acc: 0.8716\n",
            "Epoch 5/10\n",
            " - 1s - loss: 0.0874 - acc: 0.8701 - val_loss: 0.0948 - val_acc: 0.8716\n",
            "Epoch 6/10\n",
            " - 1s - loss: 0.0772 - acc: 0.8701 - val_loss: 0.0914 - val_acc: 0.8716\n",
            "Epoch 7/10\n",
            " - 1s - loss: 0.0694 - acc: 0.8825 - val_loss: 0.0910 - val_acc: 0.8851\n",
            "Epoch 8/10\n",
            " - 1s - loss: 0.0618 - acc: 0.9084 - val_loss: 0.0962 - val_acc: 0.8885\n",
            "Epoch 9/10\n",
            " - 1s - loss: 0.0554 - acc: 0.9197 - val_loss: 0.0983 - val_acc: 0.8885\n",
            "\n",
            "Epoch 00009: ReduceLROnPlateau reducing learning rate to 0.00020000000949949026.\n",
            "Epoch 10/10\n",
            " - 1s - loss: 0.0480 - acc: 0.9328 - val_loss: 0.0976 - val_acc: 0.8818\n",
            "296/296 [==============================] - 0s 590us/step\n",
            "Train on 2664 samples, validate on 296 samples\n",
            "Epoch 1/10\n",
            " - 2s - loss: 0.1217 - acc: 0.8667 - val_loss: 0.1138 - val_acc: 0.8716\n",
            "Epoch 2/10\n",
            " - 1s - loss: 0.1075 - acc: 0.8701 - val_loss: 0.1103 - val_acc: 0.8716\n",
            "Epoch 3/10\n",
            " - 1s - loss: 0.1005 - acc: 0.8701 - val_loss: 0.1029 - val_acc: 0.8716\n",
            "Epoch 4/10\n",
            " - 1s - loss: 0.0939 - acc: 0.8701 - val_loss: 0.0982 - val_acc: 0.8716\n",
            "Epoch 5/10\n",
            " - 1s - loss: 0.0861 - acc: 0.8701 - val_loss: 0.0916 - val_acc: 0.8716\n",
            "Epoch 6/10\n",
            " - 1s - loss: 0.0758 - acc: 0.8724 - val_loss: 0.0872 - val_acc: 0.8682\n",
            "Epoch 7/10\n",
            " - 1s - loss: 0.0683 - acc: 0.8986 - val_loss: 0.0856 - val_acc: 0.8885\n",
            "Epoch 8/10\n",
            " - 1s - loss: 0.0611 - acc: 0.9088 - val_loss: 0.0856 - val_acc: 0.8885\n",
            "Epoch 9/10\n",
            " - 1s - loss: 0.0554 - acc: 0.9212 - val_loss: 0.0971 - val_acc: 0.8885\n",
            "\n",
            "Epoch 00009: ReduceLROnPlateau reducing learning rate to 0.00020000000949949026.\n",
            "Epoch 10/10\n",
            " - 1s - loss: 0.0484 - acc: 0.9272 - val_loss: 0.0885 - val_acc: 0.8885\n",
            "296/296 [==============================] - 0s 621us/step\n",
            "Train on 2664 samples, validate on 296 samples\n",
            "Epoch 1/10\n",
            " - 2s - loss: 0.1225 - acc: 0.8701 - val_loss: 0.1087 - val_acc: 0.8716\n",
            "Epoch 2/10\n",
            " - 1s - loss: 0.1056 - acc: 0.8701 - val_loss: 0.1041 - val_acc: 0.8716\n",
            "Epoch 3/10\n",
            " - 1s - loss: 0.0988 - acc: 0.8701 - val_loss: 0.1011 - val_acc: 0.8716\n",
            "Epoch 4/10\n",
            " - 1s - loss: 0.0916 - acc: 0.8701 - val_loss: 0.0982 - val_acc: 0.8716\n",
            "Epoch 5/10\n",
            " - 1s - loss: 0.0827 - acc: 0.8701 - val_loss: 0.0949 - val_acc: 0.8716\n",
            "Epoch 6/10\n",
            " - 1s - loss: 0.0739 - acc: 0.8731 - val_loss: 0.0926 - val_acc: 0.9020\n",
            "Epoch 7/10\n",
            " - 1s - loss: 0.0662 - acc: 0.9035 - val_loss: 0.0891 - val_acc: 0.9020\n",
            "Epoch 8/10\n",
            " - 1s - loss: 0.0588 - acc: 0.9107 - val_loss: 0.0900 - val_acc: 0.8716\n",
            "Epoch 9/10\n",
            " - 1s - loss: 0.0523 - acc: 0.9261 - val_loss: 0.0905 - val_acc: 0.8919\n",
            "\n",
            "Epoch 00009: ReduceLROnPlateau reducing learning rate to 0.00020000000949949026.\n",
            "Epoch 10/10\n",
            " - 1s - loss: 0.0451 - acc: 0.9362 - val_loss: 0.0913 - val_acc: 0.8885\n",
            "296/296 [==============================] - 0s 604us/step\n",
            "Train on 2664 samples, validate on 296 samples\n",
            "Epoch 1/10\n",
            " - 2s - loss: 0.1326 - acc: 0.7992 - val_loss: 0.1176 - val_acc: 0.8716\n",
            "Epoch 2/10\n",
            " - 1s - loss: 0.1120 - acc: 0.8701 - val_loss: 0.1073 - val_acc: 0.8716\n",
            "Epoch 3/10\n",
            " - 1s - loss: 0.1055 - acc: 0.8701 - val_loss: 0.1023 - val_acc: 0.8716\n",
            "Epoch 4/10\n",
            " - 1s - loss: 0.1007 - acc: 0.8701 - val_loss: 0.0980 - val_acc: 0.8716\n",
            "Epoch 5/10\n",
            " - 1s - loss: 0.0946 - acc: 0.8701 - val_loss: 0.0912 - val_acc: 0.8716\n",
            "Epoch 6/10\n",
            " - 1s - loss: 0.0847 - acc: 0.8701 - val_loss: 0.0842 - val_acc: 0.8716\n",
            "Epoch 7/10\n",
            " - 1s - loss: 0.0767 - acc: 0.8803 - val_loss: 0.0802 - val_acc: 0.8919\n",
            "Epoch 8/10\n",
            " - 1s - loss: 0.0691 - acc: 0.9017 - val_loss: 0.0906 - val_acc: 0.8885\n",
            "Epoch 9/10\n",
            " - 1s - loss: 0.0618 - acc: 0.9107 - val_loss: 0.0789 - val_acc: 0.8885\n",
            "Epoch 10/10\n",
            " - 1s - loss: 0.0534 - acc: 0.9234 - val_loss: 0.0839 - val_acc: 0.8885\n",
            "296/296 [==============================] - 0s 618us/step\n",
            "Train on 2664 samples, validate on 296 samples\n",
            "Epoch 1/10\n",
            " - 2s - loss: 0.1193 - acc: 0.8694 - val_loss: 0.1089 - val_acc: 0.8716\n",
            "Epoch 2/10\n",
            " - 1s - loss: 0.1063 - acc: 0.8701 - val_loss: 0.1037 - val_acc: 0.8716\n",
            "Epoch 3/10\n",
            " - 1s - loss: 0.0996 - acc: 0.8701 - val_loss: 0.0994 - val_acc: 0.8716\n",
            "Epoch 4/10\n",
            " - 1s - loss: 0.0936 - acc: 0.8701 - val_loss: 0.0935 - val_acc: 0.8716\n",
            "Epoch 5/10\n",
            " - 1s - loss: 0.0869 - acc: 0.8701 - val_loss: 0.0905 - val_acc: 0.8716\n",
            "Epoch 6/10\n",
            " - 1s - loss: 0.0794 - acc: 0.8784 - val_loss: 0.0803 - val_acc: 0.8885\n",
            "Epoch 7/10\n",
            " - 1s - loss: 0.0709 - acc: 0.9005 - val_loss: 0.0766 - val_acc: 0.8953\n",
            "Epoch 8/10\n",
            " - 1s - loss: 0.0642 - acc: 0.9092 - val_loss: 0.0775 - val_acc: 0.8919\n",
            "Epoch 9/10\n",
            " - 1s - loss: 0.0571 - acc: 0.9193 - val_loss: 0.0712 - val_acc: 0.8986\n",
            "Epoch 10/10\n",
            " - 1s - loss: 0.0514 - acc: 0.9227 - val_loss: 0.0769 - val_acc: 0.8986\n",
            "296/296 [==============================] - 0s 641us/step\n",
            "Train on 2664 samples, validate on 296 samples\n",
            "Epoch 1/10\n",
            " - 2s - loss: 0.1311 - acc: 0.7943 - val_loss: 0.1089 - val_acc: 0.8716\n",
            "Epoch 2/10\n",
            " - 1s - loss: 0.1093 - acc: 0.8701 - val_loss: 0.1018 - val_acc: 0.8716\n",
            "Epoch 3/10\n",
            " - 1s - loss: 0.1018 - acc: 0.8701 - val_loss: 0.0971 - val_acc: 0.8716\n",
            "Epoch 4/10\n",
            " - 1s - loss: 0.0947 - acc: 0.8701 - val_loss: 0.0932 - val_acc: 0.8716\n",
            "Epoch 5/10\n",
            " - 1s - loss: 0.0856 - acc: 0.8709 - val_loss: 0.0864 - val_acc: 0.8750\n",
            "Epoch 6/10\n",
            " - 1s - loss: 0.0775 - acc: 0.8863 - val_loss: 0.0830 - val_acc: 0.8953\n",
            "Epoch 7/10\n",
            " - 1s - loss: 0.0705 - acc: 0.8998 - val_loss: 0.0760 - val_acc: 0.8986\n",
            "Epoch 8/10\n",
            " - 1s - loss: 0.0639 - acc: 0.9069 - val_loss: 0.0746 - val_acc: 0.8986\n",
            "Epoch 9/10\n",
            " - 1s - loss: 0.0584 - acc: 0.9159 - val_loss: 0.0721 - val_acc: 0.9122\n",
            "Epoch 10/10\n",
            " - 1s - loss: 0.0528 - acc: 0.9227 - val_loss: 0.0745 - val_acc: 0.9122\n",
            "296/296 [==============================] - 0s 737us/step\n",
            "Train on 2664 samples, validate on 296 samples\n",
            "Epoch 1/10\n",
            " - 2s - loss: 0.1316 - acc: 0.7973 - val_loss: 0.1185 - val_acc: 0.8682\n",
            "Epoch 2/10\n",
            " - 1s - loss: 0.1114 - acc: 0.8705 - val_loss: 0.1072 - val_acc: 0.8682\n",
            "Epoch 3/10\n",
            " - 1s - loss: 0.1031 - acc: 0.8705 - val_loss: 0.1020 - val_acc: 0.8682\n",
            "Epoch 4/10\n",
            " - 1s - loss: 0.0975 - acc: 0.8705 - val_loss: 0.0959 - val_acc: 0.8682\n",
            "Epoch 5/10\n",
            " - 1s - loss: 0.0890 - acc: 0.8705 - val_loss: 0.0888 - val_acc: 0.8682\n",
            "Epoch 6/10\n",
            " - 1s - loss: 0.0802 - acc: 0.8705 - val_loss: 0.0813 - val_acc: 0.8716\n",
            "Epoch 7/10\n",
            " - 1s - loss: 0.0710 - acc: 0.8938 - val_loss: 0.0762 - val_acc: 0.8953\n",
            "Epoch 8/10\n",
            " - 1s - loss: 0.0628 - acc: 0.9069 - val_loss: 0.0745 - val_acc: 0.9020\n",
            "Epoch 9/10\n",
            " - 1s - loss: 0.0556 - acc: 0.9189 - val_loss: 0.0731 - val_acc: 0.8919\n",
            "Epoch 10/10\n",
            " - 1s - loss: 0.0473 - acc: 0.9298 - val_loss: 0.0750 - val_acc: 0.8953\n",
            "296/296 [==============================] - 0s 649us/step\n",
            "Train on 2664 samples, validate on 296 samples\n",
            "Epoch 1/10\n",
            " - 2s - loss: 0.1316 - acc: 0.7984 - val_loss: 0.1102 - val_acc: 0.8682\n",
            "Epoch 2/10\n",
            " - 1s - loss: 0.1090 - acc: 0.8705 - val_loss: 0.1053 - val_acc: 0.8682\n",
            "Epoch 3/10\n",
            " - 1s - loss: 0.1039 - acc: 0.8705 - val_loss: 0.1004 - val_acc: 0.8682\n",
            "Epoch 4/10\n",
            " - 1s - loss: 0.0983 - acc: 0.8705 - val_loss: 0.0965 - val_acc: 0.8682\n",
            "Epoch 5/10\n",
            " - 1s - loss: 0.0921 - acc: 0.8705 - val_loss: 0.0905 - val_acc: 0.8682\n",
            "Epoch 6/10\n",
            " - 1s - loss: 0.0842 - acc: 0.8705 - val_loss: 0.0812 - val_acc: 0.8682\n",
            "Epoch 7/10\n",
            " - 1s - loss: 0.0758 - acc: 0.8799 - val_loss: 0.0754 - val_acc: 0.8818\n",
            "Epoch 8/10\n",
            " - 1s - loss: 0.0676 - acc: 0.8968 - val_loss: 0.0720 - val_acc: 0.8953\n",
            "Epoch 9/10\n",
            " - 1s - loss: 0.0591 - acc: 0.9144 - val_loss: 0.0708 - val_acc: 0.8919\n",
            "Epoch 10/10\n",
            " - 1s - loss: 0.0513 - acc: 0.9249 - val_loss: 0.0733 - val_acc: 0.8953\n",
            "296/296 [==============================] - 0s 633us/step\n",
            "Train on 2664 samples, validate on 296 samples\n",
            "Epoch 1/10\n",
            " - 2s - loss: 0.1396 - acc: 0.7639 - val_loss: 0.1153 - val_acc: 0.8682\n",
            "Epoch 2/10\n",
            " - 1s - loss: 0.1124 - acc: 0.8705 - val_loss: 0.1085 - val_acc: 0.8682\n",
            "Epoch 3/10\n",
            " - 1s - loss: 0.1053 - acc: 0.8705 - val_loss: 0.1054 - val_acc: 0.8682\n",
            "Epoch 4/10\n",
            " - 1s - loss: 0.1004 - acc: 0.8705 - val_loss: 0.1005 - val_acc: 0.8682\n",
            "Epoch 5/10\n",
            " - 1s - loss: 0.0942 - acc: 0.8705 - val_loss: 0.0934 - val_acc: 0.8682\n",
            "Epoch 6/10\n",
            " - 1s - loss: 0.0841 - acc: 0.8705 - val_loss: 0.0850 - val_acc: 0.8682\n",
            "Epoch 7/10\n",
            " - 1s - loss: 0.0761 - acc: 0.8863 - val_loss: 0.0832 - val_acc: 0.8919\n",
            "Epoch 8/10\n",
            " - 1s - loss: 0.0696 - acc: 0.9058 - val_loss: 0.0811 - val_acc: 0.8953\n",
            "Epoch 9/10\n",
            " - 1s - loss: 0.0635 - acc: 0.9129 - val_loss: 0.0787 - val_acc: 0.8986\n",
            "Epoch 10/10\n",
            " - 1s - loss: 0.0591 - acc: 0.9167 - val_loss: 0.0814 - val_acc: 0.8953\n",
            "296/296 [==============================] - 0s 618us/step\n",
            "Train on 2664 samples, validate on 296 samples\n",
            "Epoch 1/10\n",
            " - 2s - loss: 0.1261 - acc: 0.8667 - val_loss: 0.1224 - val_acc: 0.8682\n",
            "Epoch 2/10\n",
            " - 1s - loss: 0.1102 - acc: 0.8705 - val_loss: 0.1086 - val_acc: 0.8682\n",
            "Epoch 3/10\n",
            " - 1s - loss: 0.1032 - acc: 0.8705 - val_loss: 0.1043 - val_acc: 0.8682\n",
            "Epoch 4/10\n",
            " - 1s - loss: 0.0959 - acc: 0.8705 - val_loss: 0.1033 - val_acc: 0.8682\n",
            "Epoch 5/10\n",
            " - 1s - loss: 0.0882 - acc: 0.8705 - val_loss: 0.0959 - val_acc: 0.8682\n",
            "Epoch 6/10\n",
            " - 1s - loss: 0.0789 - acc: 0.8720 - val_loss: 0.0909 - val_acc: 0.8682\n",
            "Epoch 7/10\n",
            " - 1s - loss: 0.0733 - acc: 0.8863 - val_loss: 0.0900 - val_acc: 0.8919\n",
            "Epoch 8/10\n",
            " - 1s - loss: 0.0652 - acc: 0.9005 - val_loss: 0.0914 - val_acc: 0.8953\n",
            "Epoch 9/10\n",
            " - 1s - loss: 0.0596 - acc: 0.9095 - val_loss: 0.0973 - val_acc: 0.9054\n",
            "\n",
            "Epoch 00009: ReduceLROnPlateau reducing learning rate to 0.00020000000949949026.\n",
            "Epoch 10/10\n",
            " - 1s - loss: 0.0530 - acc: 0.9163 - val_loss: 0.0930 - val_acc: 0.8986\n",
            "296/296 [==============================] - 0s 648us/step\n"
          ],
          "name": "stdout"
        }
      ]
    },
    {
      "cell_type": "code",
      "metadata": {
        "id": "NKgIrCHXJ_Gc",
        "colab_type": "code",
        "outputId": "44cf8784-2a08-4a65-9526-ae4f20f96b01",
        "colab": {
          "base_uri": "https://localhost:8080/",
          "height": 34
        }
      },
      "source": [
        "np.array(cvscores).mean()"
      ],
      "execution_count": 23,
      "outputs": [
        {
          "output_type": "execute_result",
          "data": {
            "text/plain": [
              "0.7032963451515238"
            ]
          },
          "metadata": {
            "tags": []
          },
          "execution_count": 23
        }
      ]
    },
    {
      "cell_type": "code",
      "metadata": {
        "id": "WwZrmmcPMfKm",
        "colab_type": "code",
        "colab": {}
      },
      "source": [
        ""
      ],
      "execution_count": 0,
      "outputs": []
    },
    {
      "cell_type": "code",
      "metadata": {
        "id": "sepj7fJ_REvZ",
        "colab_type": "code",
        "colab": {}
      },
      "source": [
        ""
      ],
      "execution_count": 0,
      "outputs": []
    }
  ]
}