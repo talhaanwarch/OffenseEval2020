{
  "nbformat": 4,
  "nbformat_minor": 0,
  "metadata": {
    "colab": {
      "name": "Copy of biGRU.ipynb",
      "provenance": [],
      "collapsed_sections": [],
      "include_colab_link": true
    },
    "kernelspec": {
      "name": "python3",
      "display_name": "Python 3"
    },
    "accelerator": "GPU"
  },
  "cells": [
    {
      "cell_type": "markdown",
      "metadata": {
        "id": "view-in-github",
        "colab_type": "text"
      },
      "source": [
        "<a href=\"https://colab.research.google.com/github/talhaanwarch/OffenseEval2020/blob/master/Danish/FastText_biGRU_crossval.ipynb\" target=\"_parent\"><img src=\"https://colab.research.google.com/assets/colab-badge.svg\" alt=\"Open In Colab\"/></a>"
      ]
    },
    {
      "cell_type": "markdown",
      "metadata": {
        "id": "U_tja7FDUpcC",
        "colab_type": "text"
      },
      "source": [
        "# Danish Language\n"
      ]
    },
    {
      "cell_type": "code",
      "metadata": {
        "id": "B8yyBcABHgE8",
        "colab_type": "code",
        "outputId": "6bb3625d-b0bc-4f3a-e1d3-7209e07e14a1",
        "colab": {
          "base_uri": "https://localhost:8080/",
          "height": 121
        }
      },
      "source": [
        "from google.colab import drive\n",
        "drive.mount('/content/drive',force_remount=True)"
      ],
      "execution_count": 1,
      "outputs": [
        {
          "output_type": "stream",
          "text": [
            "Go to this URL in a browser: https://accounts.google.com/o/oauth2/auth?client_id=947318989803-6bn6qk8qdgf4n4g3pfee6491hc0brc4i.apps.googleusercontent.com&redirect_uri=urn%3aietf%3awg%3aoauth%3a2.0%3aoob&response_type=code&scope=email%20https%3a%2f%2fwww.googleapis.com%2fauth%2fdocs.test%20https%3a%2f%2fwww.googleapis.com%2fauth%2fdrive%20https%3a%2f%2fwww.googleapis.com%2fauth%2fdrive.photos.readonly%20https%3a%2f%2fwww.googleapis.com%2fauth%2fpeopleapi.readonly\n",
            "\n",
            "Enter your authorization code:\n",
            "··········\n",
            "Mounted at /content/drive\n"
          ],
          "name": "stdout"
        }
      ]
    },
    {
      "cell_type": "code",
      "metadata": {
        "id": "XzpBLLtl6MXy",
        "colab_type": "code",
        "outputId": "e7a174b3-f113-4a00-b805-ea6cbf593835",
        "colab": {
          "base_uri": "https://localhost:8080/",
          "height": 370
        }
      },
      "source": [
        "!pip install focal-loss\n",
        "!pip install keras-radam"
      ],
      "execution_count": 2,
      "outputs": [
        {
          "output_type": "stream",
          "text": [
            "Collecting focal-loss\n",
            "  Downloading https://files.pythonhosted.org/packages/66/ed/17450291228192ad8595de4514c8ec28a587697b03c707d12d4af5b7f331/focal_loss-0.0.2-py3-none-any.whl\n",
            "Installing collected packages: focal-loss\n",
            "Successfully installed focal-loss-0.0.2\n",
            "Collecting keras-radam\n",
            "  Downloading https://files.pythonhosted.org/packages/46/8d/b83ccaa94253fbc920b21981f038393041d92236bb541751b98a66a2ac1d/keras-radam-0.15.0.tar.gz\n",
            "Requirement already satisfied: numpy in /usr/local/lib/python3.6/dist-packages (from keras-radam) (1.17.5)\n",
            "Requirement already satisfied: Keras in /usr/local/lib/python3.6/dist-packages (from keras-radam) (2.2.5)\n",
            "Requirement already satisfied: six>=1.9.0 in /usr/local/lib/python3.6/dist-packages (from Keras->keras-radam) (1.12.0)\n",
            "Requirement already satisfied: keras-applications>=1.0.8 in /usr/local/lib/python3.6/dist-packages (from Keras->keras-radam) (1.0.8)\n",
            "Requirement already satisfied: pyyaml in /usr/local/lib/python3.6/dist-packages (from Keras->keras-radam) (3.13)\n",
            "Requirement already satisfied: h5py in /usr/local/lib/python3.6/dist-packages (from Keras->keras-radam) (2.8.0)\n",
            "Requirement already satisfied: keras-preprocessing>=1.1.0 in /usr/local/lib/python3.6/dist-packages (from Keras->keras-radam) (1.1.0)\n",
            "Requirement already satisfied: scipy>=0.14 in /usr/local/lib/python3.6/dist-packages (from Keras->keras-radam) (1.4.1)\n",
            "Building wheels for collected packages: keras-radam\n",
            "  Building wheel for keras-radam (setup.py) ... \u001b[?25l\u001b[?25hdone\n",
            "  Created wheel for keras-radam: filename=keras_radam-0.15.0-cp36-none-any.whl size=14685 sha256=58edb1b996bc9fc338564b1979ab455dd4bc026800cffb555e037d1f5a5ff6eb\n",
            "  Stored in directory: /root/.cache/pip/wheels/79/a0/c0/670b0a118e8f078539fafec7bd02eba0af921f745660c7f83f\n",
            "Successfully built keras-radam\n",
            "Installing collected packages: keras-radam\n",
            "Successfully installed keras-radam-0.15.0\n"
          ],
          "name": "stdout"
        }
      ]
    },
    {
      "cell_type": "code",
      "metadata": {
        "id": "Y0Yzi-0oHqTD",
        "colab_type": "code",
        "outputId": "33f026c4-f846-4c83-9a42-2138442ad721",
        "colab": {
          "base_uri": "https://localhost:8080/",
          "height": 34
        }
      },
      "source": [
        "cd /content/drive/My Drive/dataset/OffenseEval2020/data/Danish/"
      ],
      "execution_count": 6,
      "outputs": [
        {
          "output_type": "stream",
          "text": [
            "/content/drive/My Drive/dataset/OffenseEval2020/data/Danish\n"
          ],
          "name": "stdout"
        }
      ]
    },
    {
      "cell_type": "code",
      "metadata": {
        "id": "4fN7zvpdTOdo",
        "colab_type": "code",
        "outputId": "d3cf5a3b-5707-446e-a60b-0d12768bd024",
        "colab": {
          "base_uri": "https://localhost:8080/",
          "height": 34
        }
      },
      "source": [
        "ls"
      ],
      "execution_count": 7,
      "outputs": [
        {
          "output_type": "stream",
          "text": [
            "cc.da.300.vec  cc.da.300.vec.gz  offenseval-da-training-v1.tsv\n"
          ],
          "name": "stdout"
        }
      ]
    },
    {
      "cell_type": "code",
      "metadata": {
        "id": "04n7RsXqIBlz",
        "colab_type": "code",
        "colab": {}
      },
      "source": [
        "import pandas as pd\n",
        "train=pd.read_csv( 'offenseval-da-training-v1.tsv',sep=\"\\t\")\n",
        "train.drop(train.tail(n=1).index,inplace=True)\n",
        "train=train.sample(frac=1)"
      ],
      "execution_count": 0,
      "outputs": []
    },
    {
      "cell_type": "code",
      "metadata": {
        "id": "mqmIsFmsIFPY",
        "colab_type": "code",
        "outputId": "a0517cd7-0c4a-4321-e1a0-f697aa43f1b2",
        "colab": {
          "base_uri": "https://localhost:8080/",
          "height": 195
        }
      },
      "source": [
        "train.head()"
      ],
      "execution_count": 19,
      "outputs": [
        {
          "output_type": "execute_result",
          "data": {
            "text/html": [
              "<div>\n",
              "<style scoped>\n",
              "    .dataframe tbody tr th:only-of-type {\n",
              "        vertical-align: middle;\n",
              "    }\n",
              "\n",
              "    .dataframe tbody tr th {\n",
              "        vertical-align: top;\n",
              "    }\n",
              "\n",
              "    .dataframe thead th {\n",
              "        text-align: right;\n",
              "    }\n",
              "</style>\n",
              "<table border=\"1\" class=\"dataframe\">\n",
              "  <thead>\n",
              "    <tr style=\"text-align: right;\">\n",
              "      <th></th>\n",
              "      <th>id</th>\n",
              "      <th>tweet</th>\n",
              "      <th>subtask_a</th>\n",
              "    </tr>\n",
              "  </thead>\n",
              "  <tbody>\n",
              "    <tr>\n",
              "      <th>1183</th>\n",
              "      <td>2175</td>\n",
              "      <td>Puha var lige ved at falde om!</td>\n",
              "      <td>NOT</td>\n",
              "    </tr>\n",
              "    <tr>\n",
              "      <th>750</th>\n",
              "      <td>1613</td>\n",
              "      <td>Hvad skal den titel betyde?</td>\n",
              "      <td>NOT</td>\n",
              "    </tr>\n",
              "    <tr>\n",
              "      <th>2437</th>\n",
              "      <td>2588</td>\n",
              "      <td>Jävla dansksvin</td>\n",
              "      <td>OFF</td>\n",
              "    </tr>\n",
              "    <tr>\n",
              "      <th>176</th>\n",
              "      <td>3376</td>\n",
              "      <td>Se dét er en god migmig!</td>\n",
              "      <td>NOT</td>\n",
              "    </tr>\n",
              "    <tr>\n",
              "      <th>2063</th>\n",
              "      <td>1648</td>\n",
              "      <td>Jeg troede [den her](URL</td>\n",
              "      <td>NOT</td>\n",
              "    </tr>\n",
              "  </tbody>\n",
              "</table>\n",
              "</div>"
            ],
            "text/plain": [
              "        id                           tweet subtask_a\n",
              "1183  2175  Puha var lige ved at falde om!       NOT\n",
              "750   1613     Hvad skal den titel betyde?       NOT\n",
              "2437  2588                 Jävla dansksvin       OFF\n",
              "176   3376        Se dét er en god migmig!       NOT\n",
              "2063  1648        Jeg troede [den her](URL       NOT"
            ]
          },
          "metadata": {
            "tags": []
          },
          "execution_count": 19
        }
      ]
    },
    {
      "cell_type": "code",
      "metadata": {
        "id": "-ptkGujpIwMH",
        "colab_type": "code",
        "outputId": "3ff527a5-4011-47e5-c02c-0d98b1ec00f4",
        "colab": {
          "base_uri": "https://localhost:8080/",
          "height": 195
        }
      },
      "source": [
        "train.tail()"
      ],
      "execution_count": 20,
      "outputs": [
        {
          "output_type": "execute_result",
          "data": {
            "text/html": [
              "<div>\n",
              "<style scoped>\n",
              "    .dataframe tbody tr th:only-of-type {\n",
              "        vertical-align: middle;\n",
              "    }\n",
              "\n",
              "    .dataframe tbody tr th {\n",
              "        vertical-align: top;\n",
              "    }\n",
              "\n",
              "    .dataframe thead th {\n",
              "        text-align: right;\n",
              "    }\n",
              "</style>\n",
              "<table border=\"1\" class=\"dataframe\">\n",
              "  <thead>\n",
              "    <tr style=\"text-align: right;\">\n",
              "      <th></th>\n",
              "      <th>id</th>\n",
              "      <th>tweet</th>\n",
              "      <th>subtask_a</th>\n",
              "    </tr>\n",
              "  </thead>\n",
              "  <tbody>\n",
              "    <tr>\n",
              "      <th>1296</th>\n",
              "      <td>1762</td>\n",
              "      <td>|rejser sig omgående, triller en patriotisk tå...</td>\n",
              "      <td>NOT</td>\n",
              "    </tr>\n",
              "    <tr>\n",
              "      <th>1119</th>\n",
              "      <td>139</td>\n",
              "      <td>mon ikke at det samme kunne ske hvis manden in...</td>\n",
              "      <td>NOT</td>\n",
              "    </tr>\n",
              "    <tr>\n",
              "      <th>1104</th>\n",
              "      <td>1309</td>\n",
              "      <td>@USER ro og orden i Afrika. tror du selv på de...</td>\n",
              "      <td>OFF</td>\n",
              "    </tr>\n",
              "    <tr>\n",
              "      <th>2176</th>\n",
              "      <td>3279</td>\n",
              "      <td>Godt gået, ven!</td>\n",
              "      <td>NOT</td>\n",
              "    </tr>\n",
              "    <tr>\n",
              "      <th>2595</th>\n",
              "      <td>2060</td>\n",
              "      <td>For fanden da... Lad os hjælpe ham med at stjæ...</td>\n",
              "      <td>NOT</td>\n",
              "    </tr>\n",
              "  </tbody>\n",
              "</table>\n",
              "</div>"
            ],
            "text/plain": [
              "        id                                              tweet subtask_a\n",
              "1296  1762  |rejser sig omgående, triller en patriotisk tå...       NOT\n",
              "1119   139  mon ikke at det samme kunne ske hvis manden in...       NOT\n",
              "1104  1309  @USER ro og orden i Afrika. tror du selv på de...       OFF\n",
              "2176  3279                                    Godt gået, ven!       NOT\n",
              "2595  2060  For fanden da... Lad os hjælpe ham med at stjæ...       NOT"
            ]
          },
          "metadata": {
            "tags": []
          },
          "execution_count": 20
        }
      ]
    },
    {
      "cell_type": "code",
      "metadata": {
        "id": "8TYe8X52IGha",
        "colab_type": "code",
        "colab": {}
      },
      "source": [
        "labels=train['subtask_a']\n",
        "train['tweet'] = train['tweet'].str.replace('\\d+', '')\n",
        "train=train['tweet']\n",
        "labels=pd.factorize(labels)[0]"
      ],
      "execution_count": 0,
      "outputs": []
    },
    {
      "cell_type": "code",
      "metadata": {
        "id": "KVmlJvlfIP9k",
        "colab_type": "code",
        "outputId": "083d6e69-8147-4c0f-8694-45dd0ee5ce1d",
        "colab": {
          "base_uri": "https://localhost:8080/",
          "height": 34
        }
      },
      "source": [
        "import collections\n",
        "collections.Counter(labels)"
      ],
      "execution_count": 22,
      "outputs": [
        {
          "output_type": "execute_result",
          "data": {
            "text/plain": [
              "Counter({0: 2576, 1: 384})"
            ]
          },
          "metadata": {
            "tags": []
          },
          "execution_count": 22
        }
      ]
    },
    {
      "cell_type": "code",
      "metadata": {
        "id": "AYfpcH9ARkiz",
        "colab_type": "code",
        "colab": {}
      },
      "source": [
        ""
      ],
      "execution_count": 0,
      "outputs": []
    },
    {
      "cell_type": "code",
      "metadata": {
        "id": "xRZItSB-IogR",
        "colab_type": "code",
        "colab": {}
      },
      "source": [
        "from keras.preprocessing.text import Tokenizer\n",
        "from keras.preprocessing import sequence\n",
        "max_words = 10000 #frequency of words to be kept\n",
        "max_len = 200\n",
        "\n",
        "tokenize = Tokenizer(num_words=max_words)\n",
        "tokenize.fit_on_texts(train)\n",
        "sequences = tokenize.texts_to_sequences(train)\n",
        "word_index = tokenize.word_index\n",
        "sequences_matrix = sequence.pad_sequences(sequences,maxlen=max_len)"
      ],
      "execution_count": 0,
      "outputs": []
    },
    {
      "cell_type": "code",
      "metadata": {
        "id": "rsBKuk1UOu4W",
        "colab_type": "code",
        "outputId": "f66ee2b4-76bf-485a-f38b-cb4e724b3f5b",
        "colab": {
          "base_uri": "https://localhost:8080/",
          "height": 34
        }
      },
      "source": [
        "len(sequences_matrix),len(labels)"
      ],
      "execution_count": 24,
      "outputs": [
        {
          "output_type": "execute_result",
          "data": {
            "text/plain": [
              "(2960, 2960)"
            ]
          },
          "metadata": {
            "tags": []
          },
          "execution_count": 24
        }
      ]
    },
    {
      "cell_type": "code",
      "metadata": {
        "id": "j_CbYz9jJ1Bc",
        "colab_type": "code",
        "colab": {}
      },
      "source": [
        "from keras.models import Sequential\n",
        "from keras.layers import Embedding,CuDNNGRU,GRU,Dense,Dropout,Bidirectional,GlobalMaxPool1D,GlobalAveragePooling1D, SpatialDropout1D\n",
        "from keras.optimizers import RMSprop\n",
        "from keras.initializers import Constant\n",
        "from sklearn.utils import class_weight\n",
        "from sklearn.metrics import classification_report,f1_score\n",
        "import keras\n",
        "import numpy as np\n",
        "from sklearn.model_selection import StratifiedKFold\n",
        "from focal_loss import BinaryFocalLoss\n",
        "import tensorflow as tf\n",
        "tf.logging.set_verbosity(tf.logging.ERROR)"
      ],
      "execution_count": 0,
      "outputs": []
    },
    {
      "cell_type": "code",
      "metadata": {
        "id": "EUpgHo7nCE3C",
        "colab_type": "code",
        "outputId": "11b69010-59a7-4a41-854e-0ea28e34c982",
        "colab": {
          "base_uri": "https://localhost:8080/",
          "height": 34
        }
      },
      "source": [
        "num_words = min(max_words, len(word_index)) + 1\n",
        "print(num_words)"
      ],
      "execution_count": 26,
      "outputs": [
        {
          "output_type": "stream",
          "text": [
            "9813\n"
          ],
          "name": "stdout"
        }
      ]
    },
    {
      "cell_type": "code",
      "metadata": {
        "colab_type": "code",
        "id": "NdNYG_SM_s98",
        "colab": {}
      },
      "source": [
        "# !wget https://dl.fbaipublicfiles.com/fasttext/vectors-crawl/cc.el.300.vec.gz"
      ],
      "execution_count": 0,
      "outputs": []
    },
    {
      "cell_type": "code",
      "metadata": {
        "colab_type": "code",
        "id": "OAAtXRaw_sNX",
        "colab": {}
      },
      "source": [
        "# import gzip\n",
        "# import shutil\n",
        "# with gzip.open('cc.el.300.vec.gz', 'rb') as f_in:\n",
        "#     with open('cc.el.300.vec', 'wb') as f_out:\n",
        "#         shutil.copyfileobj(f_in, f_out)"
      ],
      "execution_count": 0,
      "outputs": []
    },
    {
      "cell_type": "code",
      "metadata": {
        "id": "Hohu_6rE-Z6s",
        "colab_type": "code",
        "colab": {}
      },
      "source": [
        "embed_size=300\n",
        "def get_coefs(word,*arr):\n",
        "    return word, np.asarray(arr, dtype='float32')\n",
        "\n",
        "def build_matrix(embedding_path, word_index):\n",
        "    embedding_index = dict(get_coefs(*o.strip().split(\" \")) for o in open(embedding_path))\n",
        "\n",
        "    nb_words = min(max_words, len(word_index))\n",
        "    embedding_matrix = np.zeros((nb_words + 1, embed_size))\n",
        "    for word, i in word_index.items():\n",
        "        if i >= max_words:\n",
        "            continue\n",
        "        embedding_vector = embedding_index.get(word)\n",
        "        if embedding_vector is not None:\n",
        "            embedding_matrix[i] = embedding_vector\n",
        "    return embedding_matrix"
      ],
      "execution_count": 0,
      "outputs": []
    },
    {
      "cell_type": "code",
      "metadata": {
        "id": "faZVMLbw-cN-",
        "colab_type": "code",
        "colab": {}
      },
      "source": [
        "embeddings=build_matrix('cc.da.300.vec', word_index)\n"
      ],
      "execution_count": 0,
      "outputs": []
    },
    {
      "cell_type": "code",
      "metadata": {
        "id": "et7AvsISBjZP",
        "colab_type": "code",
        "outputId": "a0f708e7-cc50-46d0-9d8c-46c752869858",
        "colab": {
          "base_uri": "https://localhost:8080/",
          "height": 34
        }
      },
      "source": [
        "embeddings.shape"
      ],
      "execution_count": 31,
      "outputs": [
        {
          "output_type": "execute_result",
          "data": {
            "text/plain": [
              "(9813, 300)"
            ]
          },
          "metadata": {
            "tags": []
          },
          "execution_count": 31
        }
      ]
    },
    {
      "cell_type": "code",
      "metadata": {
        "id": "gPExMeUk6Zrx",
        "colab_type": "code",
        "colab": {}
      },
      "source": [
        ""
      ],
      "execution_count": 0,
      "outputs": []
    },
    {
      "cell_type": "code",
      "metadata": {
        "id": "sTLZ31tIJ4Js",
        "colab_type": "code",
        "colab": {}
      },
      "source": [
        "def model_func():\n",
        "  model = Sequential()\n",
        "  model.add(Embedding(num_words,embed_size,embeddings_initializer=Constant(embeddings),input_length=max_len,trainable=False))\n",
        "  model.add(Bidirectional(CuDNNGRU(100, return_sequences = True)))\n",
        "  #model.add(Bidirectional(CuDNNGRU(32, return_sequences = True)))\n",
        "  model.add(GlobalMaxPool1D())\n",
        "  model.add(Dense(100, activation=\"relu\"))\n",
        "  model.add(Dense(120, activation=\"relu\"))\n",
        "  model.add(Dense(10, activation=\"relu\"))\n",
        "\n",
        "  model.add(Dropout(0.05))\n",
        "  model.add(Dense(1, activation=\"sigmoid\"))\n",
        "  model.compile(loss=BinaryFocalLoss(gamma=2), optimizer='adam', metrics=['accuracy'])\n",
        "  return model"
      ],
      "execution_count": 0,
      "outputs": []
    },
    {
      "cell_type": "code",
      "metadata": {
        "id": "g9qM_Y38hWEu",
        "colab_type": "code",
        "colab": {}
      },
      "source": [
        "import numpy as np\n",
        "class_weights = class_weight.compute_class_weight('balanced',np.unique(labels),labels)\n",
        "class_weights=dict(enumerate(class_weights))"
      ],
      "execution_count": 0,
      "outputs": []
    },
    {
      "cell_type": "code",
      "metadata": {
        "id": "VHE3OFWz3DTk",
        "colab_type": "code",
        "colab": {}
      },
      "source": [
        "from keras.callbacks import ReduceLROnPlateau\n",
        "reduce_lr = ReduceLROnPlateau(monitor='val_loss', factor=0.2,\n",
        "                              patience=2, min_lr=0.000001, verbose=1)"
      ],
      "execution_count": 0,
      "outputs": []
    },
    {
      "cell_type": "code",
      "metadata": {
        "id": "f-6ga8jGg5Pj",
        "colab_type": "code",
        "outputId": "8776ca35-f642-4416-d749-03893f8a02df",
        "colab": {
          "base_uri": "https://localhost:8080/",
          "height": 1000
        }
      },
      "source": [
        "kfold = StratifiedKFold(n_splits=10, shuffle=False, random_state=2020)\n",
        "cvscores = []\n",
        "\n",
        "for train, test in kfold.split(sequences_matrix, labels):\n",
        "  model=model_func()\n",
        "  \n",
        "  model.fit(sequences_matrix[train], labels[train],batch_size=256,epochs=10,verbose=2,\n",
        "            validation_data=(sequences_matrix[test],labels[test]),callbacks=[reduce_lr])\n",
        "  y_pred = model.predict(sequences_matrix[test], batch_size=128, verbose=1)\n",
        "  y_pred_bool = np.argmax(y_pred, axis=1)\n",
        "  y_pred = (y_pred > 0.5)\n",
        "  f1=f1_score(labels[test], y_pred, average='macro')\n",
        "  cvscores.append(f1)\n",
        "  keras.backend.clear_session()"
      ],
      "execution_count": 40,
      "outputs": [
        {
          "output_type": "stream",
          "text": [
            "/usr/local/lib/python3.6/dist-packages/sklearn/model_selection/_split.py:296: FutureWarning: Setting a random_state has no effect since shuffle is False. This will raise an error in 0.24. You should leave random_state to its default (None), or set shuffle=True.\n",
            "  FutureWarning\n"
          ],
          "name": "stderr"
        },
        {
          "output_type": "stream",
          "text": [
            "Train on 2664 samples, validate on 296 samples\n",
            "Epoch 1/10\n",
            " - 1s - loss: 0.1276 - acc: 0.8686 - val_loss: 0.1009 - val_acc: 0.8716\n",
            "Epoch 2/10\n",
            " - 1s - loss: 0.1113 - acc: 0.8701 - val_loss: 0.0991 - val_acc: 0.8716\n",
            "Epoch 3/10\n",
            " - 1s - loss: 0.1047 - acc: 0.8701 - val_loss: 0.0977 - val_acc: 0.8716\n",
            "Epoch 4/10\n",
            " - 1s - loss: 0.0981 - acc: 0.8701 - val_loss: 0.0942 - val_acc: 0.8716\n",
            "Epoch 5/10\n",
            " - 1s - loss: 0.0887 - acc: 0.8701 - val_loss: 0.0879 - val_acc: 0.8716\n",
            "Epoch 6/10\n",
            " - 1s - loss: 0.0795 - acc: 0.8701 - val_loss: 0.0814 - val_acc: 0.8716\n",
            "Epoch 7/10\n",
            " - 1s - loss: 0.0722 - acc: 0.8701 - val_loss: 0.0786 - val_acc: 0.8716\n",
            "Epoch 8/10\n",
            " - 1s - loss: 0.0657 - acc: 0.8784 - val_loss: 0.0777 - val_acc: 0.8682\n",
            "Epoch 9/10\n",
            " - 1s - loss: 0.0625 - acc: 0.9084 - val_loss: 0.0862 - val_acc: 0.8986\n",
            "Epoch 10/10\n",
            " - 1s - loss: 0.0552 - acc: 0.9129 - val_loss: 0.0835 - val_acc: 0.8885\n",
            "\n",
            "Epoch 00010: ReduceLROnPlateau reducing learning rate to 0.00020000000949949026.\n",
            "296/296 [==============================] - 0s 410us/step\n",
            "Train on 2664 samples, validate on 296 samples\n",
            "Epoch 1/10\n",
            " - 1s - loss: 0.1413 - acc: 0.8517 - val_loss: 0.1121 - val_acc: 0.8716\n",
            "Epoch 2/10\n",
            " - 1s - loss: 0.1156 - acc: 0.8701 - val_loss: 0.1089 - val_acc: 0.8716\n",
            "Epoch 3/10\n",
            " - 1s - loss: 0.1083 - acc: 0.8701 - val_loss: 0.1060 - val_acc: 0.8716\n",
            "Epoch 4/10\n",
            " - 1s - loss: 0.1051 - acc: 0.8701 - val_loss: 0.1036 - val_acc: 0.8716\n",
            "Epoch 5/10\n",
            " - 1s - loss: 0.0998 - acc: 0.8701 - val_loss: 0.0989 - val_acc: 0.8716\n",
            "Epoch 6/10\n",
            " - 1s - loss: 0.0908 - acc: 0.8701 - val_loss: 0.0951 - val_acc: 0.8716\n",
            "Epoch 7/10\n",
            " - 1s - loss: 0.0815 - acc: 0.8701 - val_loss: 0.0953 - val_acc: 0.8716\n",
            "Epoch 8/10\n",
            " - 1s - loss: 0.0752 - acc: 0.8765 - val_loss: 0.0919 - val_acc: 0.8818\n",
            "Epoch 9/10\n",
            " - 1s - loss: 0.0669 - acc: 0.9020 - val_loss: 0.1041 - val_acc: 0.8885\n",
            "Epoch 10/10\n",
            " - 1s - loss: 0.0612 - acc: 0.9099 - val_loss: 0.1039 - val_acc: 0.8885\n",
            "\n",
            "Epoch 00010: ReduceLROnPlateau reducing learning rate to 0.00020000000949949026.\n",
            "296/296 [==============================] - 0s 390us/step\n",
            "Train on 2664 samples, validate on 296 samples\n",
            "Epoch 1/10\n",
            " - 1s - loss: 0.1355 - acc: 0.8187 - val_loss: 0.1145 - val_acc: 0.8716\n",
            "Epoch 2/10\n",
            " - 1s - loss: 0.1133 - acc: 0.8701 - val_loss: 0.1066 - val_acc: 0.8716\n",
            "Epoch 3/10\n",
            " - 1s - loss: 0.1073 - acc: 0.8701 - val_loss: 0.1036 - val_acc: 0.8716\n",
            "Epoch 4/10\n",
            " - 1s - loss: 0.1014 - acc: 0.8701 - val_loss: 0.1004 - val_acc: 0.8716\n",
            "Epoch 5/10\n",
            " - 1s - loss: 0.0956 - acc: 0.8701 - val_loss: 0.0945 - val_acc: 0.8716\n",
            "Epoch 6/10\n",
            " - 1s - loss: 0.0873 - acc: 0.8701 - val_loss: 0.0883 - val_acc: 0.8716\n",
            "Epoch 7/10\n",
            " - 1s - loss: 0.0793 - acc: 0.8709 - val_loss: 0.0824 - val_acc: 0.8818\n",
            "Epoch 8/10\n",
            " - 1s - loss: 0.0728 - acc: 0.8968 - val_loss: 0.0807 - val_acc: 0.9054\n",
            "Epoch 9/10\n",
            " - 1s - loss: 0.0643 - acc: 0.9095 - val_loss: 0.0825 - val_acc: 0.8818\n",
            "Epoch 10/10\n",
            " - 1s - loss: 0.0578 - acc: 0.9163 - val_loss: 0.0816 - val_acc: 0.8986\n",
            "\n",
            "Epoch 00010: ReduceLROnPlateau reducing learning rate to 0.00020000000949949026.\n",
            "296/296 [==============================] - 0s 461us/step\n",
            "Train on 2664 samples, validate on 296 samples\n",
            "Epoch 1/10\n",
            " - 1s - loss: 0.1464 - acc: 0.7714 - val_loss: 0.1174 - val_acc: 0.8716\n",
            "Epoch 2/10\n",
            " - 1s - loss: 0.1157 - acc: 0.8701 - val_loss: 0.1115 - val_acc: 0.8716\n",
            "Epoch 3/10\n",
            " - 1s - loss: 0.1079 - acc: 0.8701 - val_loss: 0.1076 - val_acc: 0.8716\n",
            "Epoch 4/10\n",
            " - 1s - loss: 0.1023 - acc: 0.8701 - val_loss: 0.1019 - val_acc: 0.8716\n",
            "Epoch 5/10\n",
            " - 1s - loss: 0.0966 - acc: 0.8701 - val_loss: 0.0958 - val_acc: 0.8716\n",
            "Epoch 6/10\n",
            " - 1s - loss: 0.0879 - acc: 0.8701 - val_loss: 0.0886 - val_acc: 0.8716\n",
            "Epoch 7/10\n",
            " - 1s - loss: 0.0796 - acc: 0.8701 - val_loss: 0.0819 - val_acc: 0.8716\n",
            "Epoch 8/10\n",
            " - 1s - loss: 0.0732 - acc: 0.8701 - val_loss: 0.0790 - val_acc: 0.8716\n",
            "Epoch 9/10\n",
            " - 1s - loss: 0.0659 - acc: 0.8754 - val_loss: 0.0760 - val_acc: 0.9020\n",
            "Epoch 10/10\n",
            " - 1s - loss: 0.0574 - acc: 0.9110 - val_loss: 0.0766 - val_acc: 0.9020\n",
            "296/296 [==============================] - 0s 411us/step\n",
            "Train on 2664 samples, validate on 296 samples\n",
            "Epoch 1/10\n",
            " - 1s - loss: 0.1485 - acc: 0.7598 - val_loss: 0.1153 - val_acc: 0.8716\n",
            "Epoch 2/10\n",
            " - 1s - loss: 0.1165 - acc: 0.8701 - val_loss: 0.1119 - val_acc: 0.8716\n",
            "Epoch 3/10\n",
            " - 1s - loss: 0.1087 - acc: 0.8701 - val_loss: 0.1084 - val_acc: 0.8716\n",
            "Epoch 4/10\n",
            " - 1s - loss: 0.1032 - acc: 0.8701 - val_loss: 0.1048 - val_acc: 0.8716\n",
            "Epoch 5/10\n",
            " - 1s - loss: 0.1001 - acc: 0.8701 - val_loss: 0.0993 - val_acc: 0.8716\n",
            "Epoch 6/10\n",
            " - 1s - loss: 0.0925 - acc: 0.8701 - val_loss: 0.0914 - val_acc: 0.8716\n",
            "Epoch 7/10\n",
            " - 1s - loss: 0.0819 - acc: 0.8701 - val_loss: 0.0857 - val_acc: 0.8716\n",
            "Epoch 8/10\n",
            " - 1s - loss: 0.0726 - acc: 0.8908 - val_loss: 0.0824 - val_acc: 0.8986\n",
            "Epoch 9/10\n",
            " - 1s - loss: 0.0646 - acc: 0.9077 - val_loss: 0.0948 - val_acc: 0.9088\n",
            "Epoch 10/10\n",
            " - 1s - loss: 0.0575 - acc: 0.9238 - val_loss: 0.0854 - val_acc: 0.8986\n",
            "\n",
            "Epoch 00010: ReduceLROnPlateau reducing learning rate to 0.00020000000949949026.\n",
            "296/296 [==============================] - 0s 405us/step\n",
            "Train on 2664 samples, validate on 296 samples\n",
            "Epoch 1/10\n",
            " - 1s - loss: 0.1426 - acc: 0.7872 - val_loss: 0.1115 - val_acc: 0.8716\n",
            "Epoch 2/10\n",
            " - 1s - loss: 0.1145 - acc: 0.8701 - val_loss: 0.1069 - val_acc: 0.8716\n",
            "Epoch 3/10\n",
            " - 1s - loss: 0.1078 - acc: 0.8701 - val_loss: 0.1033 - val_acc: 0.8716\n",
            "Epoch 4/10\n",
            " - 1s - loss: 0.1022 - acc: 0.8701 - val_loss: 0.1006 - val_acc: 0.8716\n",
            "Epoch 5/10\n",
            " - 1s - loss: 0.0960 - acc: 0.8701 - val_loss: 0.0960 - val_acc: 0.8716\n",
            "Epoch 6/10\n",
            " - 1s - loss: 0.0871 - acc: 0.8701 - val_loss: 0.0873 - val_acc: 0.8716\n",
            "Epoch 7/10\n",
            " - 1s - loss: 0.0787 - acc: 0.8701 - val_loss: 0.0799 - val_acc: 0.8716\n",
            "Epoch 8/10\n",
            " - 1s - loss: 0.0689 - acc: 0.8994 - val_loss: 0.0804 - val_acc: 0.8986\n",
            "Epoch 9/10\n",
            " - 1s - loss: 0.0609 - acc: 0.9189 - val_loss: 0.0794 - val_acc: 0.9020\n",
            "Epoch 10/10\n",
            " - 1s - loss: 0.0518 - acc: 0.9272 - val_loss: 0.0822 - val_acc: 0.8682\n",
            "296/296 [==============================] - 0s 446us/step\n",
            "Train on 2664 samples, validate on 296 samples\n",
            "Epoch 1/10\n",
            " - 1s - loss: 0.1255 - acc: 0.8705 - val_loss: 0.1103 - val_acc: 0.8682\n",
            "Epoch 2/10\n",
            " - 1s - loss: 0.1044 - acc: 0.8705 - val_loss: 0.1052 - val_acc: 0.8682\n",
            "Epoch 3/10\n",
            " - 1s - loss: 0.0981 - acc: 0.8705 - val_loss: 0.0975 - val_acc: 0.8682\n",
            "Epoch 4/10\n",
            " - 1s - loss: 0.0890 - acc: 0.8705 - val_loss: 0.0935 - val_acc: 0.8682\n",
            "Epoch 5/10\n",
            " - 1s - loss: 0.0806 - acc: 0.8705 - val_loss: 0.0891 - val_acc: 0.8682\n",
            "Epoch 6/10\n",
            " - 1s - loss: 0.0742 - acc: 0.8705 - val_loss: 0.0874 - val_acc: 0.8682\n",
            "Epoch 7/10\n",
            " - 1s - loss: 0.0660 - acc: 0.8866 - val_loss: 0.0812 - val_acc: 0.9054\n",
            "Epoch 8/10\n",
            " - 1s - loss: 0.0574 - acc: 0.9133 - val_loss: 0.0832 - val_acc: 0.8986\n",
            "Epoch 9/10\n",
            " - 1s - loss: 0.0485 - acc: 0.9294 - val_loss: 0.0829 - val_acc: 0.9054\n",
            "\n",
            "Epoch 00009: ReduceLROnPlateau reducing learning rate to 0.00020000000949949026.\n",
            "Epoch 10/10\n",
            " - 1s - loss: 0.0401 - acc: 0.9441 - val_loss: 0.0902 - val_acc: 0.9054\n",
            "296/296 [==============================] - 0s 410us/step\n",
            "Train on 2664 samples, validate on 296 samples\n",
            "Epoch 1/10\n",
            " - 1s - loss: 0.1235 - acc: 0.8367 - val_loss: 0.1107 - val_acc: 0.8682\n",
            "Epoch 2/10\n",
            " - 1s - loss: 0.1051 - acc: 0.8705 - val_loss: 0.1022 - val_acc: 0.8682\n",
            "Epoch 3/10\n",
            " - 1s - loss: 0.0989 - acc: 0.8705 - val_loss: 0.0974 - val_acc: 0.8682\n",
            "Epoch 4/10\n",
            " - 1s - loss: 0.0943 - acc: 0.8705 - val_loss: 0.0936 - val_acc: 0.8682\n",
            "Epoch 5/10\n",
            " - 1s - loss: 0.0853 - acc: 0.8705 - val_loss: 0.0889 - val_acc: 0.8682\n",
            "Epoch 6/10\n",
            " - 1s - loss: 0.0770 - acc: 0.8705 - val_loss: 0.0879 - val_acc: 0.8682\n",
            "Epoch 7/10\n",
            " - 1s - loss: 0.0693 - acc: 0.8746 - val_loss: 0.0865 - val_acc: 0.8953\n",
            "Epoch 8/10\n",
            " - 1s - loss: 0.0618 - acc: 0.9065 - val_loss: 0.0848 - val_acc: 0.9122\n",
            "Epoch 9/10\n",
            " - 1s - loss: 0.0524 - acc: 0.9234 - val_loss: 0.0932 - val_acc: 0.9088\n",
            "Epoch 10/10\n",
            " - 1s - loss: 0.0436 - acc: 0.9403 - val_loss: 0.0894 - val_acc: 0.9088\n",
            "\n",
            "Epoch 00010: ReduceLROnPlateau reducing learning rate to 0.00020000000949949026.\n",
            "296/296 [==============================] - 0s 397us/step\n",
            "Train on 2664 samples, validate on 296 samples\n",
            "Epoch 1/10\n",
            " - 1s - loss: 0.1277 - acc: 0.8198 - val_loss: 0.1159 - val_acc: 0.8682\n",
            "Epoch 2/10\n",
            " - 1s - loss: 0.1091 - acc: 0.8701 - val_loss: 0.1058 - val_acc: 0.8682\n",
            "Epoch 3/10\n",
            " - 1s - loss: 0.1027 - acc: 0.8705 - val_loss: 0.0999 - val_acc: 0.8682\n",
            "Epoch 4/10\n",
            " - 1s - loss: 0.0956 - acc: 0.8705 - val_loss: 0.0941 - val_acc: 0.8682\n",
            "Epoch 5/10\n",
            " - 1s - loss: 0.0866 - acc: 0.8705 - val_loss: 0.0912 - val_acc: 0.8682\n",
            "Epoch 6/10\n",
            " - 1s - loss: 0.0787 - acc: 0.8705 - val_loss: 0.0859 - val_acc: 0.8682\n",
            "Epoch 7/10\n",
            " - 1s - loss: 0.0717 - acc: 0.8814 - val_loss: 0.0937 - val_acc: 0.8615\n",
            "Epoch 8/10\n",
            " - 1s - loss: 0.0672 - acc: 0.9058 - val_loss: 0.0840 - val_acc: 0.8750\n",
            "Epoch 9/10\n",
            " - 1s - loss: 0.0591 - acc: 0.9114 - val_loss: 0.0828 - val_acc: 0.8784\n",
            "Epoch 10/10\n",
            " - 1s - loss: 0.0570 - acc: 0.9212 - val_loss: 0.0884 - val_acc: 0.8750\n",
            "296/296 [==============================] - 0s 437us/step\n",
            "Train on 2664 samples, validate on 296 samples\n",
            "Epoch 1/10\n",
            " - 1s - loss: 0.1315 - acc: 0.8134 - val_loss: 0.1138 - val_acc: 0.8682\n",
            "Epoch 2/10\n",
            " - 1s - loss: 0.1079 - acc: 0.8705 - val_loss: 0.1070 - val_acc: 0.8682\n",
            "Epoch 3/10\n",
            " - 1s - loss: 0.1030 - acc: 0.8705 - val_loss: 0.1007 - val_acc: 0.8682\n",
            "Epoch 4/10\n",
            " - 1s - loss: 0.0958 - acc: 0.8705 - val_loss: 0.0929 - val_acc: 0.8682\n",
            "Epoch 5/10\n",
            " - 1s - loss: 0.0860 - acc: 0.8705 - val_loss: 0.0945 - val_acc: 0.8682\n",
            "Epoch 6/10\n",
            " - 1s - loss: 0.0799 - acc: 0.8705 - val_loss: 0.0847 - val_acc: 0.8682\n",
            "Epoch 7/10\n",
            " - 1s - loss: 0.0699 - acc: 0.8705 - val_loss: 0.0840 - val_acc: 0.8682\n",
            "Epoch 8/10\n",
            " - 1s - loss: 0.0626 - acc: 0.8911 - val_loss: 0.0834 - val_acc: 0.8919\n",
            "Epoch 9/10\n",
            " - 1s - loss: 0.0531 - acc: 0.9234 - val_loss: 0.0991 - val_acc: 0.8885\n",
            "Epoch 10/10\n",
            " - 1s - loss: 0.0445 - acc: 0.9354 - val_loss: 0.0945 - val_acc: 0.8885\n",
            "\n",
            "Epoch 00010: ReduceLROnPlateau reducing learning rate to 0.00020000000949949026.\n",
            "296/296 [==============================] - 0s 408us/step\n"
          ],
          "name": "stdout"
        }
      ]
    },
    {
      "cell_type": "code",
      "metadata": {
        "id": "NKgIrCHXJ_Gc",
        "colab_type": "code",
        "colab": {
          "base_uri": "https://localhost:8080/",
          "height": 34
        },
        "outputId": "d2670f31-faa3-4782-ddd8-ccf9dd02f98c"
      },
      "source": [
        "np.array(cvscores).mean()"
      ],
      "execution_count": 41,
      "outputs": [
        {
          "output_type": "execute_result",
          "data": {
            "text/plain": [
              "0.7078057510821537"
            ]
          },
          "metadata": {
            "tags": []
          },
          "execution_count": 41
        }
      ]
    },
    {
      "cell_type": "code",
      "metadata": {
        "id": "WwZrmmcPMfKm",
        "colab_type": "code",
        "colab": {}
      },
      "source": [
        ""
      ],
      "execution_count": 0,
      "outputs": []
    },
    {
      "cell_type": "code",
      "metadata": {
        "id": "sepj7fJ_REvZ",
        "colab_type": "code",
        "colab": {}
      },
      "source": [
        ""
      ],
      "execution_count": 0,
      "outputs": []
    }
  ]
}