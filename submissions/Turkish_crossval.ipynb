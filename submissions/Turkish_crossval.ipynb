{
  "nbformat": 4,
  "nbformat_minor": 0,
  "metadata": {
    "colab": {
      "name": "Turkish.ipynb",
      "provenance": [],
      "collapsed_sections": [
        "FwKb7_NBWjAv"
      ],
      "toc_visible": true,
      "include_colab_link": true
    },
    "kernelspec": {
      "name": "python3",
      "display_name": "Python 3"
    },
    "accelerator": "GPU"
  },
  "cells": [
    {
      "cell_type": "markdown",
      "metadata": {
        "id": "view-in-github",
        "colab_type": "text"
      },
      "source": [
        "<a href=\"https://colab.research.google.com/github/talhaanwarch/OffenseEval2020/blob/master/submissions/Turkish_crossval.ipynb\" target=\"_parent\"><img src=\"https://colab.research.google.com/assets/colab-badge.svg\" alt=\"Open In Colab\"/></a>"
      ]
    },
    {
      "cell_type": "code",
      "metadata": {
        "id": "_uqG7k8lK3xz",
        "colab_type": "code",
        "outputId": "790241a7-0f1f-4527-fcb0-1dca174f0fec",
        "colab": {
          "base_uri": "https://localhost:8080/",
          "height": 306
        }
      },
      "source": [
        "!pip install focal-loss\n",
        "!pip install keras-tcn==2.8.3"
      ],
      "execution_count": 1,
      "outputs": [
        {
          "output_type": "stream",
          "text": [
            "Collecting focal-loss\n",
            "  Downloading https://files.pythonhosted.org/packages/66/ed/17450291228192ad8595de4514c8ec28a587697b03c707d12d4af5b7f331/focal_loss-0.0.2-py3-none-any.whl\n",
            "Installing collected packages: focal-loss\n",
            "Successfully installed focal-loss-0.0.2\n",
            "Collecting keras-tcn==2.8.3\n",
            "  Downloading https://files.pythonhosted.org/packages/d4/c4/438c86b27ab11a79cc659d8d6878682c4eb80caa0c0b3d620740cef762f5/keras_tcn-2.8.3-py3-none-any.whl\n",
            "Requirement already satisfied: keras in /usr/local/lib/python3.6/dist-packages (from keras-tcn==2.8.3) (2.2.5)\n",
            "Requirement already satisfied: numpy in /usr/local/lib/python3.6/dist-packages (from keras-tcn==2.8.3) (1.17.5)\n",
            "Requirement already satisfied: scipy>=0.14 in /usr/local/lib/python3.6/dist-packages (from keras->keras-tcn==2.8.3) (1.4.1)\n",
            "Requirement already satisfied: six>=1.9.0 in /usr/local/lib/python3.6/dist-packages (from keras->keras-tcn==2.8.3) (1.12.0)\n",
            "Requirement already satisfied: keras-applications>=1.0.8 in /usr/local/lib/python3.6/dist-packages (from keras->keras-tcn==2.8.3) (1.0.8)\n",
            "Requirement already satisfied: pyyaml in /usr/local/lib/python3.6/dist-packages (from keras->keras-tcn==2.8.3) (3.13)\n",
            "Requirement already satisfied: keras-preprocessing>=1.1.0 in /usr/local/lib/python3.6/dist-packages (from keras->keras-tcn==2.8.3) (1.1.0)\n",
            "Requirement already satisfied: h5py in /usr/local/lib/python3.6/dist-packages (from keras->keras-tcn==2.8.3) (2.8.0)\n",
            "Installing collected packages: keras-tcn\n",
            "Successfully installed keras-tcn-2.8.3\n"
          ],
          "name": "stdout"
        }
      ]
    },
    {
      "cell_type": "code",
      "metadata": {
        "id": "pPexfZvANVks",
        "colab_type": "code",
        "outputId": "18f57187-e468-43b0-aa01-37daa56d3f8a",
        "colab": {
          "base_uri": "https://localhost:8080/",
          "height": 121
        }
      },
      "source": [
        "from google.colab import drive\n",
        "drive.mount('/content/drive',force_remount=True)"
      ],
      "execution_count": 2,
      "outputs": [
        {
          "output_type": "stream",
          "text": [
            "Go to this URL in a browser: https://accounts.google.com/o/oauth2/auth?client_id=947318989803-6bn6qk8qdgf4n4g3pfee6491hc0brc4i.apps.googleusercontent.com&redirect_uri=urn%3aietf%3awg%3aoauth%3a2.0%3aoob&response_type=code&scope=email%20https%3a%2f%2fwww.googleapis.com%2fauth%2fdocs.test%20https%3a%2f%2fwww.googleapis.com%2fauth%2fdrive%20https%3a%2f%2fwww.googleapis.com%2fauth%2fdrive.photos.readonly%20https%3a%2f%2fwww.googleapis.com%2fauth%2fpeopleapi.readonly\n",
            "\n",
            "Enter your authorization code:\n",
            "··········\n",
            "Mounted at /content/drive\n"
          ],
          "name": "stdout"
        }
      ]
    },
    {
      "cell_type": "markdown",
      "metadata": {
        "id": "G6Q3msMuLDpE",
        "colab_type": "text"
      },
      "source": [
        "# Import lib"
      ]
    },
    {
      "cell_type": "code",
      "metadata": {
        "id": "MpTHlh_QLDL7",
        "colab_type": "code",
        "outputId": "7032054c-4a90-43eb-dc62-556a7ece9d7d",
        "colab": {
          "base_uri": "https://localhost:8080/",
          "height": 79
        }
      },
      "source": [
        "import pandas as pd\n",
        "from sklearn.preprocessing import LabelEncoder\n",
        "from keras.models import Sequential,Model\n",
        "from keras.layers import Embedding,CuDNNGRU,CuDNNLSTM,Dense,Dropout,Bidirectional,BatchNormalization,GlobalMaxPooling1D,Flatten, GlobalAveragePooling1D, MaxPooling1D,SpatialDropout1D,Input,Activation,concatenate,Conv1D\n",
        "from keras.optimizers import RMSprop,Adam,Adadelta\n",
        "from keras.initializers import Constant\n",
        "from sklearn.utils import class_weight\n",
        "from sklearn.metrics import classification_report,f1_score\n",
        "import keras\n",
        "import csv\n",
        "import collections\n",
        "import numpy as np\n",
        "from focal_loss import BinaryFocalLoss\n",
        "from sklearn.model_selection import StratifiedKFold\n",
        "from sklearn.model_selection import GridSearchCV\n",
        "from sklearn.linear_model import LogisticRegression\n",
        "from sklearn.feature_extraction.text import CountVectorizer\n",
        "from sklearn.pipeline import make_pipeline\n",
        "from keras import backend as K\n",
        "import tensorflow as tf\n",
        "tf.logging.set_verbosity(tf.logging.ERROR)\n"
      ],
      "execution_count": 3,
      "outputs": [
        {
          "output_type": "stream",
          "text": [
            "Using TensorFlow backend.\n"
          ],
          "name": "stderr"
        },
        {
          "output_type": "display_data",
          "data": {
            "text/html": [
              "<p style=\"color: red;\">\n",
              "The default version of TensorFlow in Colab will soon switch to TensorFlow 2.x.<br>\n",
              "We recommend you <a href=\"https://www.tensorflow.org/guide/migrate\" target=\"_blank\">upgrade</a> now \n",
              "or ensure your notebook will continue to use TensorFlow 1.x via the <code>%tensorflow_version 1.x</code> magic:\n",
              "<a href=\"https://colab.research.google.com/notebooks/tensorflow_version.ipynb\" target=\"_blank\">more info</a>.</p>\n"
            ],
            "text/plain": [
              "<IPython.core.display.HTML object>"
            ]
          },
          "metadata": {
            "tags": []
          }
        }
      ]
    },
    {
      "cell_type": "markdown",
      "metadata": {
        "id": "Udk8qWz-K4cx",
        "colab_type": "text"
      },
      "source": [
        "# Load data"
      ]
    },
    {
      "cell_type": "code",
      "metadata": {
        "id": "52k7345EK6kb",
        "colab_type": "code",
        "outputId": "93ab11d7-d9ab-44c4-b132-80ed3b678682",
        "colab": {
          "base_uri": "https://localhost:8080/",
          "height": 34
        }
      },
      "source": [
        "cd /content/drive/My Drive/dataset/OffenseEval2020/data/Turkish/"
      ],
      "execution_count": 4,
      "outputs": [
        {
          "output_type": "stream",
          "text": [
            "/content/drive/My Drive/dataset/OffenseEval2020/data/Turkish\n"
          ],
          "name": "stdout"
        }
      ]
    },
    {
      "cell_type": "code",
      "metadata": {
        "id": "MnI2RvjGK_Vw",
        "colab_type": "code",
        "outputId": "386c0176-e56f-47c8-96b4-c7d893a61f5d",
        "colab": {
          "base_uri": "https://localhost:8080/",
          "height": 67
        }
      },
      "source": [
        "ls"
      ],
      "execution_count": 5,
      "outputs": [
        {
          "output_type": "stream",
          "text": [
            "cc.tr.300.vec              offenseval-tr-testset-v1.tsv   tcn.npy\n",
            "cc.tr.300.vec.gz           offenseval-tr-training-v1.tsv\n",
            "offenseval-annotation.txt  readme-trainingset-tr.txt\n"
          ],
          "name": "stdout"
        }
      ]
    },
    {
      "cell_type": "code",
      "metadata": {
        "id": "Jnd4B-_5LApL",
        "colab_type": "code",
        "outputId": "cc0ac058-0573-4c9e-bd90-b0cdeeeed469",
        "colab": {
          "base_uri": "https://localhost:8080/",
          "height": 212
        }
      },
      "source": [
        "train=pd.read_csv( 'offenseval-tr-training-v1.tsv',sep='\\t',quoting=csv.QUOTE_NONE,encoding='utf-8')\n",
        "train.drop(train.tail(n=1).index,inplace=True)\n",
        "train[\"tweet\"]= train[\"tweet\"].str.replace('@USER', \"\") \n",
        "train['tweet']=train['tweet'].str.replace('\\d+', '')\n",
        "train['tweet']=train['tweet'].str.replace('URL', '')\n",
        "train[\"tweet\"]= train[\"tweet\"].str.lower()\n",
        "train=train.sample(frac=1)\n",
        "print(len(train))\n",
        "train.head()"
      ],
      "execution_count": 6,
      "outputs": [
        {
          "output_type": "stream",
          "text": [
            "31755\n"
          ],
          "name": "stdout"
        },
        {
          "output_type": "execute_result",
          "data": {
            "text/html": [
              "<div>\n",
              "<style scoped>\n",
              "    .dataframe tbody tr th:only-of-type {\n",
              "        vertical-align: middle;\n",
              "    }\n",
              "\n",
              "    .dataframe tbody tr th {\n",
              "        vertical-align: top;\n",
              "    }\n",
              "\n",
              "    .dataframe thead th {\n",
              "        text-align: right;\n",
              "    }\n",
              "</style>\n",
              "<table border=\"1\" class=\"dataframe\">\n",
              "  <thead>\n",
              "    <tr style=\"text-align: right;\">\n",
              "      <th></th>\n",
              "      <th>id</th>\n",
              "      <th>tweet</th>\n",
              "      <th>subtask_a</th>\n",
              "    </tr>\n",
              "  </thead>\n",
              "  <tbody>\n",
              "    <tr>\n",
              "      <th>18694</th>\n",
              "      <td>31803</td>\n",
              "      <td>merak etmeyin oyları baştan sayamazlar. çünkü ...</td>\n",
              "      <td>OFF</td>\n",
              "    </tr>\n",
              "    <tr>\n",
              "      <th>27428</th>\n",
              "      <td>42612</td>\n",
              "      <td>şu paralara bak yazık günah ya.</td>\n",
              "      <td>NOT</td>\n",
              "    </tr>\n",
              "    <tr>\n",
              "      <th>1012</th>\n",
              "      <td>14481</td>\n",
              "      <td>konusu kapanması gereken konular var..</td>\n",
              "      <td>NOT</td>\n",
              "    </tr>\n",
              "    <tr>\n",
              "      <th>3934</th>\n",
              "      <td>10700</td>\n",
              "      <td>napıyonuz lan herkese yeşil ışık yakmaya devam mı</td>\n",
              "      <td>OFF</td>\n",
              "    </tr>\n",
              "    <tr>\n",
              "      <th>28503</th>\n",
              "      <td>42711</td>\n",
              "      <td>çizgi film izlerken annen evi süpürüyor, ayakl...</td>\n",
              "      <td>NOT</td>\n",
              "    </tr>\n",
              "  </tbody>\n",
              "</table>\n",
              "</div>"
            ],
            "text/plain": [
              "          id                                              tweet subtask_a\n",
              "18694  31803  merak etmeyin oyları baştan sayamazlar. çünkü ...       OFF\n",
              "27428  42612                    şu paralara bak yazık günah ya.       NOT\n",
              "1012   14481             konusu kapanması gereken konular var..       NOT\n",
              "3934   10700  napıyonuz lan herkese yeşil ışık yakmaya devam mı       OFF\n",
              "28503  42711  çizgi film izlerken annen evi süpürüyor, ayakl...       NOT"
            ]
          },
          "metadata": {
            "tags": []
          },
          "execution_count": 6
        }
      ]
    },
    {
      "cell_type": "code",
      "metadata": {
        "id": "JdwHh_q_LLus",
        "colab_type": "code",
        "outputId": "f7b3aa0a-6fc1-4253-e5ea-4ec017ca2f2b",
        "colab": {
          "base_uri": "https://localhost:8080/",
          "height": 118
        }
      },
      "source": [
        "test=pd.read_csv( 'offenseval-tr-testset-v1.tsv',sep='\\t',quoting=csv.QUOTE_NONE,encoding='utf-8')\n",
        "test[\"tweet\"]= test[\"tweet\"].str.replace('@USER', \"\") \n",
        "test['tweet']=test['tweet'].str.replace('\\d+', '')\n",
        "test['tweet']=test['tweet'].str.replace('URL', '')\n",
        "test['tweet']=test['tweet'].str.lower()\n",
        "print(test.head())\n",
        "ids=test['id']\n",
        "test=test['tweet']\n"
      ],
      "execution_count": 66,
      "outputs": [
        {
          "output_type": "stream",
          "text": [
            "      id                                              tweet\n",
            "0  41993          sayın başkanım bu şekilde devam inşallah👏\n",
            "1  23000  herkes gevşekliği kadar duyar kasıyor,hayat bö...\n",
            "2  42478  olgun ilişkisi olan arkadaş size en güzel hedi...\n",
            "3  21748    burada atıp tutacağına o kötü koşullarda  ku...\n",
            "4  13607        i̇şte o onur dediğin sende yok sorun o işte\n"
          ],
          "name": "stdout"
        }
      ]
    },
    {
      "cell_type": "markdown",
      "metadata": {
        "id": "YUFczyikLeYO",
        "colab_type": "text"
      },
      "source": [
        "#Label Encoding"
      ]
    },
    {
      "cell_type": "code",
      "metadata": {
        "id": "CFPv0_zdLnlS",
        "colab_type": "code",
        "colab": {}
      },
      "source": [
        "labels=train['subtask_a']\n",
        "train=train['tweet']"
      ],
      "execution_count": 0,
      "outputs": []
    },
    {
      "cell_type": "code",
      "metadata": {
        "id": "w9PjbFwJLiNA",
        "colab_type": "code",
        "outputId": "779bea62-b7b5-4377-c928-6b981dee59f8",
        "colab": {
          "base_uri": "https://localhost:8080/",
          "height": 34
        }
      },
      "source": [
        "le=LabelEncoder()\n",
        "labels=le.fit_transform(labels)\n",
        "print(len(labels))"
      ],
      "execution_count": 9,
      "outputs": [
        {
          "output_type": "stream",
          "text": [
            "31755\n"
          ],
          "name": "stdout"
        }
      ]
    },
    {
      "cell_type": "markdown",
      "metadata": {
        "id": "Ek_ZUjDef7ZV",
        "colab_type": "text"
      },
      "source": [
        "# Common Parameters"
      ]
    },
    {
      "cell_type": "code",
      "metadata": {
        "id": "vdtjDLnOACbK",
        "colab_type": "code",
        "colab": {}
      },
      "source": [
        "import numpy as np\n",
        "class_weights = class_weight.compute_class_weight('balanced',np.unique(labels),labels)\n",
        "class_weights=dict(enumerate(class_weights))"
      ],
      "execution_count": 0,
      "outputs": []
    },
    {
      "cell_type": "markdown",
      "metadata": {
        "id": "i-IToeBciV1m",
        "colab_type": "text"
      },
      "source": [
        "## Cylic learning rate"
      ]
    },
    {
      "cell_type": "code",
      "metadata": {
        "id": "PIYW6ZAniXzU",
        "colab_type": "code",
        "colab": {}
      },
      "source": [
        "# https://www.kaggle.com/hireme/fun-api-keras-f1-metric-cyclical-learning-rate/code\n",
        "from keras.callbacks import Callback\n",
        "class CyclicLR(Callback):\n",
        "    \"\"\"This callback implements a cyclical learning rate policy (CLR).\n",
        "    The method cycles the learning rate between two boundaries with\n",
        "    some constant frequency, as detailed in this paper (https://arxiv.org/abs/1506.01186).\n",
        "    The amplitude of the cycle can be scaled on a per-iteration or \n",
        "    per-cycle basis.\n",
        "    This class has three built-in policies, as put forth in the paper.\n",
        "    \"triangular\":\n",
        "        A basic triangular cycle w/ no amplitude scaling.\n",
        "    \"triangular2\":\n",
        "        A basic triangular cycle that scales initial amplitude by half each cycle.\n",
        "    \"exp_range\":\n",
        "        A cycle that scales initial amplitude by gamma**(cycle iterations) at each \n",
        "        cycle iteration.\n",
        "    For more detail, please see paper.\n",
        "    \n",
        "    # Example\n",
        "        ```python\n",
        "            clr = CyclicLR(base_lr=0.001, max_lr=0.006,\n",
        "                                step_size=2000., mode='triangular')\n",
        "            model.fit(X_train, Y_train, callbacks=[clr])\n",
        "        ```\n",
        "    \n",
        "    Class also supports custom scaling functions:\n",
        "        ```python\n",
        "            clr_fn = lambda x: 0.5*(1+np.sin(x*np.pi/2.))\n",
        "            clr = CyclicLR(base_lr=0.001, max_lr=0.006,\n",
        "                                step_size=2000., scale_fn=clr_fn,\n",
        "                                scale_mode='cycle')\n",
        "            model.fit(X_train, Y_train, callbacks=[clr])\n",
        "        ```    \n",
        "    # Arguments\n",
        "        base_lr: initial learning rate which is the\n",
        "            lower boundary in the cycle.\n",
        "        max_lr: upper boundary in the cycle. Functionally,\n",
        "            it defines the cycle amplitude (max_lr - base_lr).\n",
        "            The lr at any cycle is the sum of base_lr\n",
        "            and some scaling of the amplitude; therefore \n",
        "            max_lr may not actually be reached depending on\n",
        "            scaling function.\n",
        "        step_size: number of training iterations per\n",
        "            half cycle. Authors suggest setting step_size\n",
        "            2-8 x training iterations in epoch.\n",
        "        mode: one of {triangular, triangular2, exp_range}.\n",
        "            Default 'triangular'.\n",
        "            Values correspond to policies detailed above.\n",
        "            If scale_fn is not None, this argument is ignored.\n",
        "        gamma: constant in 'exp_range' scaling function:\n",
        "            gamma**(cycle iterations)\n",
        "        scale_fn: Custom scaling policy defined by a single\n",
        "            argument lambda function, where \n",
        "            0 <= scale_fn(x) <= 1 for all x >= 0.\n",
        "            mode paramater is ignored \n",
        "        scale_mode: {'cycle', 'iterations'}.\n",
        "            Defines whether scale_fn is evaluated on \n",
        "            cycle number or cycle iterations (training\n",
        "            iterations since start of cycle). Default is 'cycle'.\n",
        "    \"\"\"\n",
        "\n",
        "    def __init__(self, base_lr=0.001, max_lr=0.006, step_size=2000., mode='triangular',\n",
        "                 gamma=1., scale_fn=None, scale_mode='cycle'):\n",
        "        super(CyclicLR, self).__init__()\n",
        "\n",
        "        self.base_lr = base_lr\n",
        "        self.max_lr = max_lr\n",
        "        self.step_size = step_size\n",
        "        self.mode = mode\n",
        "        self.gamma = gamma\n",
        "        if scale_fn == None:\n",
        "            if self.mode == 'triangular':\n",
        "                self.scale_fn = lambda x: 1.\n",
        "                self.scale_mode = 'cycle'\n",
        "            elif self.mode == 'triangular2':\n",
        "                self.scale_fn = lambda x: 1/(2.**(x-1))\n",
        "                self.scale_mode = 'cycle'\n",
        "            elif self.mode == 'exp_range':\n",
        "                self.scale_fn = lambda x: gamma**(x)\n",
        "                self.scale_mode = 'iterations'\n",
        "        else:\n",
        "            self.scale_fn = scale_fn\n",
        "            self.scale_mode = scale_mode\n",
        "        self.clr_iterations = 0.\n",
        "        self.trn_iterations = 0.\n",
        "        self.history = {}\n",
        "\n",
        "        self._reset()\n",
        "\n",
        "    def _reset(self, new_base_lr=None, new_max_lr=None,\n",
        "               new_step_size=None):\n",
        "        \"\"\"Resets cycle iterations.\n",
        "        Optional boundary/step size adjustment.\n",
        "        \"\"\"\n",
        "        if new_base_lr != None:\n",
        "            self.base_lr = new_base_lr\n",
        "        if new_max_lr != None:\n",
        "            self.max_lr = new_max_lr\n",
        "        if new_step_size != None:\n",
        "            self.step_size = new_step_size\n",
        "        self.clr_iterations = 0.\n",
        "        \n",
        "    def clr(self):\n",
        "        cycle = np.floor(1+self.clr_iterations/(2*self.step_size))\n",
        "        x = np.abs(self.clr_iterations/self.step_size - 2*cycle + 1)\n",
        "        if self.scale_mode == 'cycle':\n",
        "            return self.base_lr + (self.max_lr-self.base_lr)*np.maximum(0, (1-x))*self.scale_fn(cycle)\n",
        "        else:\n",
        "            return self.base_lr + (self.max_lr-self.base_lr)*np.maximum(0, (1-x))*self.scale_fn(self.clr_iterations)\n",
        "        \n",
        "    def on_train_begin(self, logs={}):\n",
        "        logs = logs or {}\n",
        "\n",
        "        if self.clr_iterations == 0:\n",
        "            K.set_value(self.model.optimizer.lr, self.base_lr)\n",
        "        else:\n",
        "            K.set_value(self.model.optimizer.lr, self.clr())        \n",
        "            \n",
        "    def on_batch_end(self, epoch, logs=None):\n",
        "        \n",
        "        logs = logs or {}\n",
        "        self.trn_iterations += 1\n",
        "        self.clr_iterations += 1\n",
        "\n",
        "        self.history.setdefault('lr', []).append(K.get_value(self.model.optimizer.lr))\n",
        "        self.history.setdefault('iterations', []).append(self.trn_iterations)\n",
        "\n",
        "        for k, v in logs.items():\n",
        "            self.history.setdefault(k, []).append(v)\n",
        "        \n",
        "        K.set_value(self.model.optimizer.lr, self.clr())"
      ],
      "execution_count": 0,
      "outputs": []
    },
    {
      "cell_type": "code",
      "metadata": {
        "id": "DIcxIjeYjHyo",
        "colab_type": "code",
        "colab": {}
      },
      "source": [
        "clr = CyclicLR(base_lr=0.001, max_lr=0.005,\n",
        "                        step_size=4., mode='exp_range',\n",
        "                        gamma=0.99994)"
      ],
      "execution_count": 0,
      "outputs": []
    },
    {
      "cell_type": "markdown",
      "metadata": {
        "id": "NAv_EEaQLXtY",
        "colab_type": "text"
      },
      "source": [
        "# Tokenize data"
      ]
    },
    {
      "cell_type": "code",
      "metadata": {
        "id": "QomCkNlRLHPG",
        "colab_type": "code",
        "colab": {}
      },
      "source": [
        "from keras.preprocessing.text import Tokenizer\n",
        "from keras.preprocessing import sequence\n",
        "max_words = 10000 #frequency of words to be kept\n",
        "max_len = 200\n",
        "\n",
        "tokenize = Tokenizer(num_words=max_words)\n",
        "tokenize.fit_on_texts(train)\n",
        "sequences = tokenize.texts_to_sequences(train)\n",
        "word_index = tokenize.word_index\n",
        "sequences_matrix = sequence.pad_sequences(sequences,maxlen=max_len,padding='post')"
      ],
      "execution_count": 0,
      "outputs": []
    },
    {
      "cell_type": "code",
      "metadata": {
        "id": "Og1W2rCOLs4w",
        "colab_type": "code",
        "outputId": "ce1c664c-d653-42ac-87a3-3d75900c8820",
        "colab": {
          "base_uri": "https://localhost:8080/",
          "height": 34
        }
      },
      "source": [
        "len(sequences_matrix),len(labels)"
      ],
      "execution_count": 14,
      "outputs": [
        {
          "output_type": "execute_result",
          "data": {
            "text/plain": [
              "(31755, 31755)"
            ]
          },
          "metadata": {
            "tags": []
          },
          "execution_count": 14
        }
      ]
    },
    {
      "cell_type": "code",
      "metadata": {
        "id": "I4kzu1RxLyGk",
        "colab_type": "code",
        "outputId": "93ae95cf-e8c8-470c-dc4d-edc8db699cd3",
        "colab": {
          "base_uri": "https://localhost:8080/",
          "height": 34
        }
      },
      "source": [
        "num_words = min(max_words, len(word_index)) + 1\n",
        "print(num_words)"
      ],
      "execution_count": 15,
      "outputs": [
        {
          "output_type": "stream",
          "text": [
            "10001\n"
          ],
          "name": "stdout"
        }
      ]
    },
    {
      "cell_type": "code",
      "metadata": {
        "id": "4i7WSY3lMmdp",
        "colab_type": "code",
        "colab": {}
      },
      "source": [
        "test_sequences = tokenize.texts_to_sequences(test)\n",
        "X_test_sequences = sequence.pad_sequences(test_sequences,maxlen=max_len,padding='post')"
      ],
      "execution_count": 0,
      "outputs": []
    },
    {
      "cell_type": "code",
      "metadata": {
        "id": "nRZxav1WNle-",
        "colab_type": "code",
        "outputId": "df56d12a-3de0-4ff3-e469-c9c6e4830de1",
        "colab": {
          "base_uri": "https://localhost:8080/",
          "height": 34
        }
      },
      "source": [
        "len(X_test_sequences)"
      ],
      "execution_count": 68,
      "outputs": [
        {
          "output_type": "execute_result",
          "data": {
            "text/plain": [
              "3528"
            ]
          },
          "metadata": {
            "tags": []
          },
          "execution_count": 68
        }
      ]
    },
    {
      "cell_type": "markdown",
      "metadata": {
        "id": "SpzUIu4iL0PO",
        "colab_type": "text"
      },
      "source": [
        "# Embeddings"
      ]
    },
    {
      "cell_type": "code",
      "metadata": {
        "id": "o3UFPJAWL10_",
        "colab_type": "code",
        "colab": {}
      },
      "source": [
        "embed_size=300\n",
        "def get_coefs(word,*arr):\n",
        "    return word, np.asarray(arr, dtype='float32')\n",
        "\n",
        "def build_matrix(embedding_path, word_index):\n",
        "    embedding_index = dict(get_coefs(*o.strip().split(\" \")) for o in open(embedding_path))\n",
        "\n",
        "    nb_words = min(max_words, len(word_index))\n",
        "    embedding_matrix = np.zeros((nb_words + 1, embed_size))\n",
        "    for word, i in word_index.items():\n",
        "        if i >= max_words:\n",
        "            continue\n",
        "        embedding_vector = embedding_index.get(word)\n",
        "        if embedding_vector is not None:\n",
        "            embedding_matrix[i] = embedding_vector\n",
        "    return embedding_matrix"
      ],
      "execution_count": 0,
      "outputs": []
    },
    {
      "cell_type": "code",
      "metadata": {
        "id": "zTviPXodLzRW",
        "colab_type": "code",
        "outputId": "d03b0b1a-5995-4633-c9ab-a93a3e78c8b3",
        "colab": {
          "base_uri": "https://localhost:8080/",
          "height": 34
        }
      },
      "source": [
        "embeddings=build_matrix('cc.tr.300.vec', word_index)\n",
        "embeddings.shape"
      ],
      "execution_count": 19,
      "outputs": [
        {
          "output_type": "execute_result",
          "data": {
            "text/plain": [
              "(10001, 300)"
            ]
          },
          "metadata": {
            "tags": []
          },
          "execution_count": 19
        }
      ]
    },
    {
      "cell_type": "markdown",
      "metadata": {
        "id": "e8_AdRhffkS3",
        "colab_type": "text"
      },
      "source": [
        "# Base Models"
      ]
    },
    {
      "cell_type": "code",
      "metadata": {
        "id": "DaShFhtgJ_Ef",
        "colab_type": "code",
        "outputId": "cf214ea6-611f-4d4d-cf1a-f45b4b610dcf",
        "colab": {
          "base_uri": "https://localhost:8080/",
          "height": 34
        }
      },
      "source": [
        "train.shape,labels.shape"
      ],
      "execution_count": 20,
      "outputs": [
        {
          "output_type": "execute_result",
          "data": {
            "text/plain": [
              "((31755,), (31755,))"
            ]
          },
          "metadata": {
            "tags": []
          },
          "execution_count": 20
        }
      ]
    },
    {
      "cell_type": "markdown",
      "metadata": {
        "id": "jvXD0v5mfm7M",
        "colab_type": "text"
      },
      "source": [
        "## Count Vectorizer"
      ]
    },
    {
      "cell_type": "code",
      "metadata": {
        "id": "7blhzyaD-xvK",
        "colab_type": "code",
        "colab": {}
      },
      "source": [
        "\n",
        "def logistic_param_selection(X, y, func,nfolds):\n",
        "    C= [7,8,9,10,12,15,20,25]\n",
        "    param_grid = {'C': C}\n",
        "    grid_search = GridSearchCV(make_pipeline(func, LogisticRegression(solver='lbfgs',max_iter=500,class_weight=class_weights)),\n",
        "                    param_grid={'logisticregression__C':[10,12,15,20,25]}, cv=nfolds,scoring='f1_macro')\n",
        "    grid_search.fit(X, y)\n",
        "    return grid_search.best_score_,grid_search.best_params_\n",
        "\n"
      ],
      "execution_count": 0,
      "outputs": []
    },
    {
      "cell_type": "code",
      "metadata": {
        "id": "lHFZoqkGI79e",
        "colab_type": "code",
        "colab": {
          "base_uri": "https://localhost:8080/",
          "height": 34
        },
        "outputId": "464339b9-21ca-4eeb-9456-63983c858454"
      },
      "source": [
        "cv_score,c=logistic_param_selection(train,labels,CountVectorizer(),5)\n",
        "cv_score"
      ],
      "execution_count": 22,
      "outputs": [
        {
          "output_type": "execute_result",
          "data": {
            "text/plain": [
              "0.7155848391143292"
            ]
          },
          "metadata": {
            "tags": []
          },
          "execution_count": 22
        }
      ]
    },
    {
      "cell_type": "code",
      "metadata": {
        "id": "FiDB13I898UU",
        "colab_type": "code",
        "colab": {}
      },
      "source": [
        "count_vectorizer = CountVectorizer()\n",
        "count_vectorizer.fit(train)\n",
        "X_train_cv = count_vectorizer.transform(train)\n"
      ],
      "execution_count": 0,
      "outputs": []
    },
    {
      "cell_type": "code",
      "metadata": {
        "id": "BFClZRFJGDum",
        "colab_type": "code",
        "colab": {}
      },
      "source": [
        "X_test_cv=  count_vectorizer.transform(test)"
      ],
      "execution_count": 0,
      "outputs": []
    },
    {
      "cell_type": "code",
      "metadata": {
        "id": "bwXHpKqo-cFB",
        "colab_type": "code",
        "colab": {
          "base_uri": "https://localhost:8080/",
          "height": 118
        },
        "outputId": "1f662ddc-064c-40b3-ad2f-fffa082cb5b5"
      },
      "source": [
        "cv_classifier = LogisticRegression(solver='lbfgs',C=c['logisticregression__C'],max_iter=500,class_weight=class_weights)\n",
        "cv_classifier.fit(X_train_cv, labels)"
      ],
      "execution_count": 24,
      "outputs": [
        {
          "output_type": "execute_result",
          "data": {
            "text/plain": [
              "LogisticRegression(C=10,\n",
              "                   class_weight={0: 0.6196339369341243, 1: 2.5897080411025932},\n",
              "                   dual=False, fit_intercept=True, intercept_scaling=1,\n",
              "                   l1_ratio=None, max_iter=500, multi_class='auto', n_jobs=None,\n",
              "                   penalty='l2', random_state=None, solver='lbfgs', tol=0.0001,\n",
              "                   verbose=0, warm_start=False)"
            ]
          },
          "metadata": {
            "tags": []
          },
          "execution_count": 24
        }
      ]
    },
    {
      "cell_type": "code",
      "metadata": {
        "id": "fBx50ckVP6iP",
        "colab_type": "code",
        "colab": {}
      },
      "source": [
        "cv_test=cv_classifier.predict_proba(X_test_cv)[:,1]"
      ],
      "execution_count": 0,
      "outputs": []
    },
    {
      "cell_type": "markdown",
      "metadata": {
        "id": "hJDyK1lahqqG",
        "colab_type": "text"
      },
      "source": [
        "## TF IDF word vectorizer"
      ]
    },
    {
      "cell_type": "code",
      "metadata": {
        "id": "Gz1WZZEufmEq",
        "colab_type": "code",
        "colab": {}
      },
      "source": [
        "from sklearn.feature_extraction.text import TfidfVectorizer\n",
        "word_vectorizer = TfidfVectorizer(\n",
        "    sublinear_tf=True,\n",
        "    strip_accents='unicode',\n",
        "    analyzer='word',\n",
        "    token_pattern=r'\\w{1,}',\n",
        "    ngram_range=(1, 4),\n",
        "    max_features=10000)\n",
        "word_vectorizer.fit(train)\n",
        "train_word_features = word_vectorizer.transform(train)\n"
      ],
      "execution_count": 0,
      "outputs": []
    },
    {
      "cell_type": "code",
      "metadata": {
        "id": "48SAh1_JGJFz",
        "colab_type": "code",
        "colab": {}
      },
      "source": [
        "test_word_features = word_vectorizer.transform(test)"
      ],
      "execution_count": 0,
      "outputs": []
    },
    {
      "cell_type": "code",
      "metadata": {
        "id": "M8hxtqPQ_KxI",
        "colab_type": "code",
        "colab": {
          "base_uri": "https://localhost:8080/",
          "height": 34
        },
        "outputId": "4df3671b-0b27-4320-f68c-24cd676ea22b"
      },
      "source": [
        "tfw_score,c=logistic_param_selection(train,labels,word_vectorizer,5)\n",
        "tfw_score"
      ],
      "execution_count": 27,
      "outputs": [
        {
          "output_type": "execute_result",
          "data": {
            "text/plain": [
              "0.6875799055023779"
            ]
          },
          "metadata": {
            "tags": []
          },
          "execution_count": 27
        }
      ]
    },
    {
      "cell_type": "code",
      "metadata": {
        "id": "04JmMwoEh4-d",
        "colab_type": "code",
        "colab": {
          "base_uri": "https://localhost:8080/",
          "height": 101
        },
        "outputId": "d7dd2fb5-2c8f-4cc2-b66d-a9f5411dade2"
      },
      "source": [
        "tfw_classifier = LogisticRegression(solver='lbfgs',C=c['logisticregression__C'],max_iter=500)\n",
        "tfw_classifier.fit(train_word_features, labels)\n"
      ],
      "execution_count": 28,
      "outputs": [
        {
          "output_type": "execute_result",
          "data": {
            "text/plain": [
              "LogisticRegression(C=10, class_weight=None, dual=False, fit_intercept=True,\n",
              "                   intercept_scaling=1, l1_ratio=None, max_iter=500,\n",
              "                   multi_class='auto', n_jobs=None, penalty='l2',\n",
              "                   random_state=None, solver='lbfgs', tol=0.0001, verbose=0,\n",
              "                   warm_start=False)"
            ]
          },
          "metadata": {
            "tags": []
          },
          "execution_count": 28
        }
      ]
    },
    {
      "cell_type": "code",
      "metadata": {
        "id": "nQRy9oaBQIfV",
        "colab_type": "code",
        "colab": {}
      },
      "source": [
        "tfw_test = tfw_classifier.predict_proba(test_word_features)[:,1]"
      ],
      "execution_count": 0,
      "outputs": []
    },
    {
      "cell_type": "markdown",
      "metadata": {
        "id": "fNSvwaG1ioq0",
        "colab_type": "text"
      },
      "source": [
        "## TF IDF char vectorizer"
      ]
    },
    {
      "cell_type": "code",
      "metadata": {
        "id": "a_kqct6jiBq1",
        "colab_type": "code",
        "colab": {}
      },
      "source": [
        "char_vectorizer = TfidfVectorizer(\n",
        "    sublinear_tf=True,\n",
        "    strip_accents='unicode',\n",
        "    analyzer='char',\n",
        "    ngram_range=(1, 6),\n",
        "    max_features=30000)\n",
        "char_vectorizer.fit(train)\n",
        "train_char_features = char_vectorizer.transform(train)\n"
      ],
      "execution_count": 0,
      "outputs": []
    },
    {
      "cell_type": "code",
      "metadata": {
        "id": "Fa7j8ty4GL5M",
        "colab_type": "code",
        "colab": {}
      },
      "source": [
        "test_char_features = char_vectorizer.transform(test)"
      ],
      "execution_count": 0,
      "outputs": []
    },
    {
      "cell_type": "code",
      "metadata": {
        "id": "rBU8cBQVCiAI",
        "colab_type": "code",
        "colab": {
          "base_uri": "https://localhost:8080/",
          "height": 34
        },
        "outputId": "644ccd5b-efad-436c-f850-f5bcb90e2665"
      },
      "source": [
        "tfc_score,c=logistic_param_selection(train,labels,char_vectorizer,5)\n",
        "tfc_score"
      ],
      "execution_count": 31,
      "outputs": [
        {
          "output_type": "execute_result",
          "data": {
            "text/plain": [
              "0.7317252065086148"
            ]
          },
          "metadata": {
            "tags": []
          },
          "execution_count": 31
        }
      ]
    },
    {
      "cell_type": "code",
      "metadata": {
        "id": "cYhzRPO0iRMb",
        "colab_type": "code",
        "colab": {
          "base_uri": "https://localhost:8080/",
          "height": 101
        },
        "outputId": "a0a2cb79-b9b6-459e-be12-3ef293c0ad90"
      },
      "source": [
        "tfc_classifier = LogisticRegression(solver='lbfgs',C=c['logisticregression__C'],max_iter=500)\n",
        "tfc_classifier.fit(train_char_features, labels)\n"
      ],
      "execution_count": 32,
      "outputs": [
        {
          "output_type": "execute_result",
          "data": {
            "text/plain": [
              "LogisticRegression(C=10, class_weight=None, dual=False, fit_intercept=True,\n",
              "                   intercept_scaling=1, l1_ratio=None, max_iter=500,\n",
              "                   multi_class='auto', n_jobs=None, penalty='l2',\n",
              "                   random_state=None, solver='lbfgs', tol=0.0001, verbose=0,\n",
              "                   warm_start=False)"
            ]
          },
          "metadata": {
            "tags": []
          },
          "execution_count": 32
        }
      ]
    },
    {
      "cell_type": "code",
      "metadata": {
        "id": "tpkjinLBXX7j",
        "colab_type": "code",
        "colab": {}
      },
      "source": [
        "tfc_test = tfc_classifier.predict_proba(test_char_features)[:,1]"
      ],
      "execution_count": 0,
      "outputs": []
    },
    {
      "cell_type": "markdown",
      "metadata": {
        "id": "I6sOo5OtMQnL",
        "colab_type": "text"
      },
      "source": [
        "# Models"
      ]
    },
    {
      "cell_type": "markdown",
      "metadata": {
        "id": "jv2yPgQWL9de",
        "colab_type": "text"
      },
      "source": [
        "##GRU"
      ]
    },
    {
      "cell_type": "code",
      "metadata": {
        "id": "XXvqlGD0L-sx",
        "colab_type": "code",
        "colab": {}
      },
      "source": [
        "def model_gru():\n",
        "  inp = Input(shape=(max_len,))\n",
        "  x = Embedding(num_words,embed_size,embeddings_initializer=Constant(embeddings),input_length=max_len,trainable=False)(inp)\n",
        "  x = SpatialDropout1D(0.1)(x)\n",
        "  x = Bidirectional(CuDNNLSTM(50, return_sequences=True))(x)\n",
        "  x, x_h, x_c = Bidirectional(CuDNNGRU(50, return_sequences=True, return_state = True))(x)\n",
        "  avg_pool = GlobalAveragePooling1D()(x)\n",
        "  max_pool = GlobalMaxPooling1D()(x)\n",
        "  conc = concatenate([avg_pool, x_h, max_pool])\n",
        "  outp = Dense(1, activation=\"sigmoid\")(conc)    \n",
        "  model = Model(inputs=inp, outputs=outp)\n",
        "  model.compile(loss=BinaryFocalLoss(gamma=2), optimizer='adam', metrics=['accuracy'])\n",
        "  return model"
      ],
      "execution_count": 0,
      "outputs": []
    },
    {
      "cell_type": "markdown",
      "metadata": {
        "id": "7t_Ph6qafOQK",
        "colab_type": "text"
      },
      "source": [
        "## GRU attention"
      ]
    },
    {
      "cell_type": "code",
      "metadata": {
        "id": "KyKea_xMkrmP",
        "colab_type": "code",
        "colab": {}
      },
      "source": [
        "#https://github.com/zake7749/DeepToxic\n",
        "from keras.layers import Layer,Lambda\n",
        "from keras import initializers\n",
        "from keras.engine import InputSpec, Layer\n",
        "from keras import backend as K\n",
        "\n",
        "class AttentionWeightedAverage(Layer):\n",
        "    \"\"\"\n",
        "    Computes a weighted average of the different channels across timesteps.\n",
        "    Uses 1 parameter pr. channel to compute the attention value for a single timestep.\n",
        "    \"\"\"\n",
        "\n",
        "    def __init__(self, return_attention=False, **kwargs):\n",
        "        self.init = initializers.get('uniform')\n",
        "        self.supports_masking = True\n",
        "        self.return_attention = return_attention\n",
        "        super(AttentionWeightedAverage, self).__init__(** kwargs)\n",
        "\n",
        "    def build(self, input_shape):\n",
        "        self.input_spec = [InputSpec(ndim=3)]\n",
        "        assert len(input_shape) == 3\n",
        "\n",
        "        self.W = self.add_weight(shape=(input_shape[2], 1),\n",
        "                                 name='{}_W'.format(self.name),\n",
        "                                 initializer=self.init)\n",
        "        self.trainable_weights = [self.W]\n",
        "        super(AttentionWeightedAverage, self).build(input_shape)\n",
        "\n",
        "    def call(self, x, mask=None):\n",
        "        # computes a probability distribution over the timesteps\n",
        "        # uses 'max trick' for numerical stability\n",
        "        # reshape is done to avoid issue with Tensorflow\n",
        "        # and 1-dimensional weights\n",
        "        logits = K.dot(x, self.W)\n",
        "        x_shape = K.shape(x)\n",
        "        logits = K.reshape(logits, (x_shape[0], x_shape[1]))\n",
        "        ai = K.exp(logits - K.max(logits, axis=-1, keepdims=True))\n",
        "\n",
        "        # masked timesteps have zero weight\n",
        "        if mask is not None:\n",
        "            mask = K.cast(mask, K.floatx())\n",
        "            ai = ai * mask\n",
        "        att_weights = ai / (K.sum(ai, axis=1, keepdims=True) + K.epsilon())\n",
        "        weighted_input = x * K.expand_dims(att_weights)\n",
        "        result = K.sum(weighted_input, axis=1)\n",
        "        if self.return_attention:\n",
        "            return [result, att_weights]\n",
        "        return result\n",
        "\n",
        "    def get_output_shape_for(self, input_shape):\n",
        "        return self.compute_output_shape(input_shape)\n",
        "\n",
        "    def compute_output_shape(self, input_shape):\n",
        "        output_len = input_shape[2]\n",
        "        if self.return_attention:\n",
        "            return [(input_shape[0], output_len), (input_shape[0], input_shape[1])]\n",
        "        return (input_shape[0], output_len)\n",
        "\n",
        "    def compute_mask(self, input, input_mask=None):\n",
        "        if isinstance(input_mask, list):\n",
        "            return [None] * len(input_mask)\n",
        "        else:\n",
        "            return None"
      ],
      "execution_count": 0,
      "outputs": []
    },
    {
      "cell_type": "code",
      "metadata": {
        "id": "hovBxS5jfRbn",
        "colab_type": "code",
        "colab": {}
      },
      "source": [
        "def model_gru_attn():\n",
        "  inp = Input(shape=(max_len,))\n",
        "  x = Embedding(num_words,embed_size,embeddings_initializer=Constant(embeddings),input_length=max_len,trainable=False)(inp)\n",
        "  x = SpatialDropout1D(0.1)(x)\n",
        "  x = Bidirectional(CuDNNLSTM(50, return_sequences=True))(x)\n",
        "  x = Bidirectional(CuDNNGRU(50, return_sequences=True))(x)\n",
        "  avg_pool = GlobalAveragePooling1D()(x)\n",
        "  max_pool = GlobalMaxPooling1D()(x)\n",
        "  last = Lambda(lambda t: t[:, -1])(x)\n",
        "  attn = AttentionWeightedAverage()(x)\n",
        "  conc = concatenate([avg_pool,  max_pool,last,attn])\n",
        "  outp = Dense(1, activation=\"sigmoid\")(conc)    \n",
        "  model = Model(inputs=inp, outputs=outp)\n",
        "  model.compile(loss=BinaryFocalLoss(gamma=2), optimizer='adam', metrics=['accuracy'])\n",
        "  return model"
      ],
      "execution_count": 0,
      "outputs": []
    },
    {
      "cell_type": "markdown",
      "metadata": {
        "id": "I34DRPLqTVru",
        "colab_type": "text"
      },
      "source": [
        "##TCN"
      ]
    },
    {
      "cell_type": "code",
      "metadata": {
        "id": "e-euqTedTWjY",
        "colab_type": "code",
        "colab": {}
      },
      "source": [
        "from tcn import TCN\n",
        "\n",
        "def wave_net_activation(x):\n",
        "    # type: (Layer) -> Layer\n",
        "    \"\"\"This method defines the activation used for WaveNet\n",
        "    described in https://deepmind.com/blog/wavenet-generative-model-raw-audio/\n",
        "    Args:\n",
        "        x: The layer we want to apply the activation to\n",
        "    Returns:\n",
        "        A new layer with the wavenet activation applied\n",
        "    \"\"\"\n",
        "    tanh_out = Activation('tanh')(x)\n",
        "    sigm_out = Activation('sigmoid')(x)\n",
        "    return keras.layers.multiply([tanh_out, sigm_out])\n",
        "\n",
        "def model_tcn(embedding_matrix):\n",
        "    \n",
        "    inp = Input(shape=(max_len,))\n",
        "    x = Embedding(num_words,embed_size,embeddings_initializer=Constant(embeddings),input_length=max_len,trainable=False)(inp)\n",
        "    x = SpatialDropout1D(0.1)(x)\n",
        "    x = TCN(128,dilations = [1, 2, 4], return_sequences=True ,name = 'tnc1')(x)\n",
        "    x = wave_net_activation(x)\n",
        "    x = TCN(64,dilations = [1, 2, 4], return_sequences=True, name = 'tnc2')(x)\n",
        "    x = wave_net_activation(x)\n",
        "    #x = TCN(32,dilations = [1, 2, 4], return_sequences=True, activation = 'wavenet',name = 'tnc3')(x)\n",
        "    avg_pool = GlobalAveragePooling1D()(x)\n",
        "    max_pool = GlobalMaxPooling1D()(x)\n",
        "    \n",
        "    conc = concatenate([avg_pool, max_pool])\n",
        "    conc = Dense(64, activation=\"relu\")(conc)\n",
        "    conc = Dense(32, activation=\"relu\")(conc)\n",
        "\n",
        "    conc = Dropout(0.1)(conc)\n",
        "    outp = Dense(1, activation=\"sigmoid\")(conc)    \n",
        "    model = Model(inputs=inp, outputs=outp)\n",
        "    model.compile(loss=BinaryFocalLoss(gamma=2), optimizer='adam', metrics=['accuracy'])\n",
        "    \n",
        "    return model"
      ],
      "execution_count": 0,
      "outputs": []
    },
    {
      "cell_type": "code",
      "metadata": {
        "id": "3wLyuzTtMErl",
        "colab_type": "code",
        "colab": {}
      },
      "source": [
        ""
      ],
      "execution_count": 0,
      "outputs": []
    },
    {
      "cell_type": "code",
      "metadata": {
        "id": "6d55WTNmBa5w",
        "colab_type": "code",
        "colab": {}
      },
      "source": [
        ""
      ],
      "execution_count": 0,
      "outputs": []
    },
    {
      "cell_type": "markdown",
      "metadata": {
        "id": "mNc6xxspBcTG",
        "colab_type": "text"
      },
      "source": [
        "##KIM"
      ]
    },
    {
      "cell_type": "code",
      "metadata": {
        "id": "nAgtTt9IBfMQ",
        "colab_type": "code",
        "colab": {}
      },
      "source": [
        "conv_filters=128\n",
        "def model_kim():\n",
        "  inp = Input(shape=(max_len,))\n",
        "  emb = Embedding(num_words,embed_size,embeddings_initializer=Constant(embeddings),input_length=max_len,trainable=False)(inp)\n",
        "  # Specify each convolution layer and their kernel siz i.e. n-grams \n",
        "  conv1_1 = Conv1D(filters=conv_filters, kernel_size=3)(emb)\n",
        "  btch1_1 = BatchNormalization()(conv1_1)\n",
        "  drp1_1  = Dropout(0.2)(btch1_1)\n",
        "  actv1_1 = Activation('relu')(drp1_1)\n",
        "  glmp1_1 = GlobalMaxPooling1D()(actv1_1)\n",
        "\n",
        "  conv1_2 = Conv1D(filters=conv_filters, kernel_size=4)(emb)\n",
        "  btch1_2 = BatchNormalization()(conv1_2)\n",
        "  drp1_2  = Dropout(0.2)(btch1_2)\n",
        "  actv1_2 = Activation('relu')(drp1_2)\n",
        "  glmp1_2 = GlobalMaxPooling1D()(actv1_2)\n",
        "\n",
        "  conv1_3 = Conv1D(filters=conv_filters, kernel_size=5)(emb)\n",
        "  btch1_3 = BatchNormalization()(conv1_3)\n",
        "  drp1_3  = Dropout(0.2)(btch1_3)\n",
        "  actv1_3 = Activation('relu')(drp1_3)\n",
        "  glmp1_3 = GlobalMaxPooling1D()(actv1_3)\n",
        "\n",
        "  conv1_4 = Conv1D(filters=conv_filters, kernel_size=6)(emb)\n",
        "  btch1_4 = BatchNormalization()(conv1_4)\n",
        "  drp1_4  = Dropout(0.2)(btch1_4)\n",
        "  actv1_4 = Activation('relu')(drp1_4)\n",
        "  glmp1_4 = GlobalMaxPooling1D()(actv1_4)\n",
        "\n",
        "  # Gather all convolution layers\n",
        "  cnct = concatenate([glmp1_1, glmp1_2, glmp1_3, glmp1_4], axis=1)\n",
        "  drp1 = Dropout(0.2)(cnct)\n",
        "\n",
        "  dns1  = Dense(32, activation='relu')(drp1)\n",
        "  btch1 = BatchNormalization()(dns1)\n",
        "  drp2  = Dropout(0.2)(btch1)\n",
        "\n",
        "  out = Dense(1, activation='sigmoid')(drp2)   \n",
        "  model = Model(inputs=inp, outputs=out)\n",
        "  model.compile(loss=BinaryFocalLoss(gamma=2), optimizer='adam', metrics=['accuracy'])\n",
        "  return model\n"
      ],
      "execution_count": 0,
      "outputs": []
    },
    {
      "cell_type": "markdown",
      "metadata": {
        "id": "nJCuBpqkNx8L",
        "colab_type": "text"
      },
      "source": [
        "# Train model"
      ]
    },
    {
      "cell_type": "markdown",
      "metadata": {
        "id": "oUygUis5N2yN",
        "colab_type": "text"
      },
      "source": [
        "##GRU"
      ]
    },
    {
      "cell_type": "code",
      "metadata": {
        "id": "OdwYL0fG3kQo",
        "colab_type": "code",
        "colab": {
          "base_uri": "https://localhost:8080/",
          "height": 1000
        },
        "outputId": "997565e3-4afe-4c4b-b649-3de35e6f4a05"
      },
      "source": [
        "kfold = StratifiedKFold(n_splits=5, shuffle=False, random_state=2020)\n",
        "gru_scores = []\n",
        "gru_test=[]\n",
        "for train, val in kfold.split(sequences_matrix, labels):\n",
        "  gru_model=model_gru()\n",
        "  \n",
        "  gru_model.fit(sequences_matrix[train], labels[train],batch_size=64,epochs=10,verbose=2,\n",
        "            validation_data=(sequences_matrix[val],labels[val]),callbacks=[clr,])\n",
        "  y_pred = gru_model.predict(sequences_matrix[val], batch_size=64, verbose=1)\n",
        "\n",
        "  gru_test.append(gru_model.predict(X_test_sequences, batch_size=64, verbose=1).ravel())\n",
        "\n",
        "  y_pred = (y_pred > 0.5)\n",
        "  f1=f1_score(labels[val], y_pred, average='macro')\n",
        "  gru_scores.append(f1)\n",
        "  keras.backend.clear_session()"
      ],
      "execution_count": 39,
      "outputs": [
        {
          "output_type": "stream",
          "text": [
            "/usr/local/lib/python3.6/dist-packages/sklearn/model_selection/_split.py:296: FutureWarning: Setting a random_state has no effect since shuffle is False. This will raise an error in 0.24. You should leave random_state to its default (None), or set shuffle=True.\n",
            "  FutureWarning\n"
          ],
          "name": "stderr"
        },
        {
          "output_type": "stream",
          "text": [
            "Train on 25404 samples, validate on 6351 samples\n",
            "Epoch 1/10\n",
            " - 32s - loss: 0.1044 - acc: 0.8409 - val_loss: 0.0964 - val_acc: 0.8547\n",
            "Epoch 2/10\n",
            " - 26s - loss: 0.0940 - acc: 0.8580 - val_loss: 0.0961 - val_acc: 0.8572\n",
            "Epoch 3/10\n",
            " - 26s - loss: 0.0911 - acc: 0.8638 - val_loss: 0.0978 - val_acc: 0.8526\n",
            "Epoch 4/10\n",
            " - 26s - loss: 0.0882 - acc: 0.8666 - val_loss: 0.0940 - val_acc: 0.8605\n",
            "Epoch 5/10\n",
            " - 26s - loss: 0.0847 - acc: 0.8716 - val_loss: 0.0990 - val_acc: 0.8570\n",
            "Epoch 6/10\n",
            " - 26s - loss: 0.0807 - acc: 0.8776 - val_loss: 0.1032 - val_acc: 0.8567\n",
            "Epoch 7/10\n",
            " - 26s - loss: 0.0752 - acc: 0.8864 - val_loss: 0.1004 - val_acc: 0.8529\n",
            "Epoch 8/10\n",
            " - 26s - loss: 0.0698 - acc: 0.8930 - val_loss: 0.1046 - val_acc: 0.8408\n",
            "Epoch 9/10\n",
            " - 26s - loss: 0.0623 - acc: 0.9051 - val_loss: 0.1134 - val_acc: 0.8455\n",
            "Epoch 10/10\n",
            " - 26s - loss: 0.0549 - acc: 0.9165 - val_loss: 0.1226 - val_acc: 0.8407\n",
            "6351/6351 [==============================] - 2s 375us/step\n",
            "31756/31756 [==============================] - 11s 346us/step\n",
            "Train on 25404 samples, validate on 6351 samples\n",
            "Epoch 1/10\n",
            " - 27s - loss: 0.1043 - acc: 0.8409 - val_loss: 0.0992 - val_acc: 0.8547\n",
            "Epoch 2/10\n",
            " - 26s - loss: 0.0942 - acc: 0.8571 - val_loss: 0.0946 - val_acc: 0.8613\n",
            "Epoch 3/10\n",
            " - 26s - loss: 0.0916 - acc: 0.8608 - val_loss: 0.0952 - val_acc: 0.8632\n",
            "Epoch 4/10\n",
            " - 26s - loss: 0.0878 - acc: 0.8675 - val_loss: 0.0932 - val_acc: 0.8651\n",
            "Epoch 5/10\n",
            " - 26s - loss: 0.0857 - acc: 0.8690 - val_loss: 0.0971 - val_acc: 0.8545\n",
            "Epoch 6/10\n",
            " - 26s - loss: 0.0816 - acc: 0.8740 - val_loss: 0.0966 - val_acc: 0.8624\n",
            "Epoch 7/10\n",
            " - 26s - loss: 0.0774 - acc: 0.8788 - val_loss: 0.0993 - val_acc: 0.8570\n",
            "Epoch 8/10\n",
            " - 26s - loss: 0.0721 - acc: 0.8890 - val_loss: 0.1030 - val_acc: 0.8572\n",
            "Epoch 9/10\n",
            " - 26s - loss: 0.0660 - acc: 0.8986 - val_loss: 0.1145 - val_acc: 0.8388\n",
            "Epoch 10/10\n",
            " - 26s - loss: 0.0593 - acc: 0.9107 - val_loss: 0.1201 - val_acc: 0.8413\n",
            "6351/6351 [==============================] - 2s 367us/step\n",
            "31756/31756 [==============================] - 11s 346us/step\n",
            "Train on 25404 samples, validate on 6351 samples\n",
            "Epoch 1/10\n",
            " - 27s - loss: 0.1056 - acc: 0.8401 - val_loss: 0.0959 - val_acc: 0.8518\n",
            "Epoch 2/10\n",
            " - 26s - loss: 0.0950 - acc: 0.8571 - val_loss: 0.0927 - val_acc: 0.8575\n",
            "Epoch 3/10\n",
            " - 26s - loss: 0.0912 - acc: 0.8630 - val_loss: 0.0926 - val_acc: 0.8627\n",
            "Epoch 4/10\n",
            " - 26s - loss: 0.0888 - acc: 0.8647 - val_loss: 0.0941 - val_acc: 0.8616\n",
            "Epoch 5/10\n",
            " - 26s - loss: 0.0858 - acc: 0.8708 - val_loss: 0.0938 - val_acc: 0.8610\n",
            "Epoch 6/10\n",
            " - 26s - loss: 0.0817 - acc: 0.8744 - val_loss: 0.0959 - val_acc: 0.8605\n",
            "Epoch 7/10\n",
            " - 26s - loss: 0.0775 - acc: 0.8815 - val_loss: 0.0976 - val_acc: 0.8562\n",
            "Epoch 8/10\n",
            " - 26s - loss: 0.0721 - acc: 0.8910 - val_loss: 0.1025 - val_acc: 0.8515\n",
            "Epoch 9/10\n",
            " - 26s - loss: 0.0662 - acc: 0.8995 - val_loss: 0.1074 - val_acc: 0.8339\n",
            "Epoch 10/10\n",
            " - 26s - loss: 0.0587 - acc: 0.9105 - val_loss: 0.1151 - val_acc: 0.8449\n",
            "6351/6351 [==============================] - 2s 371us/step\n",
            "31756/31756 [==============================] - 11s 348us/step\n",
            "Train on 25404 samples, validate on 6351 samples\n",
            "Epoch 1/10\n",
            " - 27s - loss: 0.1057 - acc: 0.8404 - val_loss: 0.0939 - val_acc: 0.8555\n",
            "Epoch 2/10\n",
            " - 26s - loss: 0.0956 - acc: 0.8557 - val_loss: 0.0938 - val_acc: 0.8553\n",
            "Epoch 3/10\n",
            " - 26s - loss: 0.0921 - acc: 0.8611 - val_loss: 0.0927 - val_acc: 0.8605\n",
            "Epoch 4/10\n",
            " - 26s - loss: 0.0888 - acc: 0.8686 - val_loss: 0.0915 - val_acc: 0.8589\n",
            "Epoch 5/10\n",
            " - 26s - loss: 0.0869 - acc: 0.8684 - val_loss: 0.0934 - val_acc: 0.8520\n",
            "Epoch 6/10\n",
            " - 26s - loss: 0.0830 - acc: 0.8744 - val_loss: 0.0922 - val_acc: 0.8603\n",
            "Epoch 7/10\n",
            " - 26s - loss: 0.0794 - acc: 0.8792 - val_loss: 0.0958 - val_acc: 0.8567\n",
            "Epoch 8/10\n",
            " - 26s - loss: 0.0750 - acc: 0.8874 - val_loss: 0.0971 - val_acc: 0.8474\n",
            "Epoch 9/10\n",
            " - 26s - loss: 0.0693 - acc: 0.8957 - val_loss: 0.1018 - val_acc: 0.8540\n",
            "Epoch 10/10\n",
            " - 26s - loss: 0.0634 - acc: 0.9045 - val_loss: 0.1097 - val_acc: 0.8344\n",
            "6351/6351 [==============================] - 2s 372us/step\n",
            "31756/31756 [==============================] - 11s 344us/step\n",
            "Train on 25404 samples, validate on 6351 samples\n",
            "Epoch 1/10\n",
            " - 27s - loss: 0.1065 - acc: 0.8343 - val_loss: 0.0957 - val_acc: 0.8544\n",
            "Epoch 2/10\n",
            " - 26s - loss: 0.0953 - acc: 0.8573 - val_loss: 0.0923 - val_acc: 0.8627\n",
            "Epoch 3/10\n",
            " - 26s - loss: 0.0919 - acc: 0.8593 - val_loss: 0.0949 - val_acc: 0.8578\n",
            "Epoch 4/10\n",
            " - 26s - loss: 0.0892 - acc: 0.8645 - val_loss: 0.0915 - val_acc: 0.8644\n",
            "Epoch 5/10\n",
            " - 26s - loss: 0.0865 - acc: 0.8692 - val_loss: 0.0920 - val_acc: 0.8616\n",
            "Epoch 6/10\n",
            " - 26s - loss: 0.0834 - acc: 0.8738 - val_loss: 0.0967 - val_acc: 0.8462\n",
            "Epoch 7/10\n",
            " - 26s - loss: 0.0804 - acc: 0.8786 - val_loss: 0.0946 - val_acc: 0.8610\n",
            "Epoch 8/10\n",
            " - 26s - loss: 0.0761 - acc: 0.8827 - val_loss: 0.0957 - val_acc: 0.8625\n",
            "Epoch 9/10\n",
            " - 26s - loss: 0.0714 - acc: 0.8923 - val_loss: 0.1012 - val_acc: 0.8479\n",
            "Epoch 10/10\n",
            " - 26s - loss: 0.0663 - acc: 0.8995 - val_loss: 0.1054 - val_acc: 0.8482\n",
            "6351/6351 [==============================] - 2s 377us/step\n",
            "31756/31756 [==============================] - 11s 348us/step\n"
          ],
          "name": "stdout"
        }
      ]
    },
    {
      "cell_type": "code",
      "metadata": {
        "id": "ucuevMTN4VPS",
        "colab_type": "code",
        "colab": {
          "base_uri": "https://localhost:8080/",
          "height": 134
        },
        "outputId": "acaa9968-875e-44c9-9363-2ccc12834fe3"
      },
      "source": [
        "len(gru_test),gru_test[0].shape,gru_scores"
      ],
      "execution_count": 40,
      "outputs": [
        {
          "output_type": "execute_result",
          "data": {
            "text/plain": [
              "(5,\n",
              " (31756,),\n",
              " [0.7130705854327701,\n",
              "  0.7311404622809246,\n",
              "  0.7247659740720853,\n",
              "  0.7266155222514541,\n",
              "  0.7262656665808224])"
            ]
          },
          "metadata": {
            "tags": []
          },
          "execution_count": 40
        }
      ]
    },
    {
      "cell_type": "code",
      "metadata": {
        "id": "AKKs8iWX570n",
        "colab_type": "code",
        "colab": {}
      },
      "source": [
        ""
      ],
      "execution_count": 0,
      "outputs": []
    },
    {
      "cell_type": "markdown",
      "metadata": {
        "id": "BaW-Uq0Kldp4",
        "colab_type": "text"
      },
      "source": [
        "## GRU attention"
      ]
    },
    {
      "cell_type": "code",
      "metadata": {
        "id": "XULscbNL6FiP",
        "colab_type": "code",
        "colab": {
          "base_uri": "https://localhost:8080/",
          "height": 1000
        },
        "outputId": "0d8b9d90-0d85-4e8a-8ae3-32113a70a1cd"
      },
      "source": [
        "kfold = StratifiedKFold(n_splits=5, shuffle=False, random_state=2020)\n",
        "atten_scores = []\n",
        "atten_test=[]\n",
        "for train, val in kfold.split(sequences_matrix, labels):\n",
        "  attn_gru_model=model_gru_attn()\n",
        "  \n",
        "  attn_gru_model.fit(sequences_matrix[train], labels[train],batch_size=64,epochs=10,verbose=2,\n",
        "            validation_data=(sequences_matrix[val],labels[val]),callbacks=[clr,])\n",
        "  y_pred = attn_gru_model.predict(sequences_matrix[val], batch_size=64, verbose=1)\n",
        "\n",
        "  atten_test.append(attn_gru_model.predict(X_test_sequences, batch_size=64, verbose=1).ravel())\n",
        "\n",
        "  y_pred = (y_pred > 0.5)\n",
        "  f1=f1_score(labels[val], y_pred, average='macro')\n",
        "  atten_scores.append(f1)\n",
        "  keras.backend.clear_session()"
      ],
      "execution_count": 41,
      "outputs": [
        {
          "output_type": "stream",
          "text": [
            "/usr/local/lib/python3.6/dist-packages/sklearn/model_selection/_split.py:296: FutureWarning: Setting a random_state has no effect since shuffle is False. This will raise an error in 0.24. You should leave random_state to its default (None), or set shuffle=True.\n",
            "  FutureWarning\n"
          ],
          "name": "stderr"
        },
        {
          "output_type": "stream",
          "text": [
            "Train on 25404 samples, validate on 6351 samples\n",
            "Epoch 1/10\n",
            " - 27s - loss: 0.1060 - acc: 0.8362 - val_loss: 0.0986 - val_acc: 0.8499\n",
            "Epoch 2/10\n",
            " - 27s - loss: 0.0951 - acc: 0.8568 - val_loss: 0.0972 - val_acc: 0.8570\n",
            "Epoch 3/10\n",
            " - 27s - loss: 0.0917 - acc: 0.8618 - val_loss: 0.0947 - val_acc: 0.8600\n",
            "Epoch 4/10\n",
            " - 27s - loss: 0.0895 - acc: 0.8653 - val_loss: 0.0969 - val_acc: 0.8503\n",
            "Epoch 5/10\n",
            " - 27s - loss: 0.0864 - acc: 0.8705 - val_loss: 0.0961 - val_acc: 0.8556\n",
            "Epoch 6/10\n",
            " - 27s - loss: 0.0842 - acc: 0.8734 - val_loss: 0.0955 - val_acc: 0.8594\n",
            "Epoch 7/10\n",
            " - 27s - loss: 0.0809 - acc: 0.8779 - val_loss: 0.0994 - val_acc: 0.8529\n",
            "Epoch 8/10\n",
            " - 27s - loss: 0.0770 - acc: 0.8837 - val_loss: 0.1055 - val_acc: 0.8558\n",
            "Epoch 9/10\n",
            " - 27s - loss: 0.0732 - acc: 0.8880 - val_loss: 0.1059 - val_acc: 0.8559\n",
            "Epoch 10/10\n",
            " - 27s - loss: 0.0682 - acc: 0.8979 - val_loss: 0.1094 - val_acc: 0.8427\n",
            "6351/6351 [==============================] - 2s 382us/step\n",
            "31756/31756 [==============================] - 11s 347us/step\n",
            "Train on 25404 samples, validate on 6351 samples\n",
            "Epoch 1/10\n",
            " - 27s - loss: 0.1053 - acc: 0.8376 - val_loss: 0.0965 - val_acc: 0.8528\n",
            "Epoch 2/10\n",
            " - 27s - loss: 0.0953 - acc: 0.8556 - val_loss: 0.0944 - val_acc: 0.8595\n",
            "Epoch 3/10\n",
            " - 27s - loss: 0.0920 - acc: 0.8608 - val_loss: 0.0939 - val_acc: 0.8624\n",
            "Epoch 4/10\n",
            " - 27s - loss: 0.0898 - acc: 0.8646 - val_loss: 0.0947 - val_acc: 0.8622\n",
            "Epoch 5/10\n",
            " - 27s - loss: 0.0875 - acc: 0.8663 - val_loss: 0.0944 - val_acc: 0.8614\n",
            "Epoch 6/10\n",
            " - 27s - loss: 0.0842 - acc: 0.8710 - val_loss: 0.0935 - val_acc: 0.8624\n",
            "Epoch 7/10\n",
            " - 27s - loss: 0.0814 - acc: 0.8759 - val_loss: 0.0970 - val_acc: 0.8627\n",
            "Epoch 8/10\n",
            " - 27s - loss: 0.0771 - acc: 0.8817 - val_loss: 0.0992 - val_acc: 0.8592\n",
            "Epoch 9/10\n",
            " - 26s - loss: 0.0732 - acc: 0.8875 - val_loss: 0.1053 - val_acc: 0.8592\n",
            "Epoch 10/10\n",
            " - 27s - loss: 0.0697 - acc: 0.8954 - val_loss: 0.1054 - val_acc: 0.8512\n",
            "6351/6351 [==============================] - 2s 374us/step\n",
            "31756/31756 [==============================] - 11s 349us/step\n",
            "Train on 25404 samples, validate on 6351 samples\n",
            "Epoch 1/10\n",
            " - 27s - loss: 0.1059 - acc: 0.8371 - val_loss: 0.0968 - val_acc: 0.8507\n",
            "Epoch 2/10\n",
            " - 26s - loss: 0.0962 - acc: 0.8546 - val_loss: 0.0949 - val_acc: 0.8555\n",
            "Epoch 3/10\n",
            " - 26s - loss: 0.0926 - acc: 0.8595 - val_loss: 0.0941 - val_acc: 0.8605\n",
            "Epoch 4/10\n",
            " - 26s - loss: 0.0903 - acc: 0.8640 - val_loss: 0.0943 - val_acc: 0.8613\n",
            "Epoch 5/10\n",
            " - 26s - loss: 0.0876 - acc: 0.8682 - val_loss: 0.0933 - val_acc: 0.8616\n",
            "Epoch 6/10\n",
            " - 26s - loss: 0.0852 - acc: 0.8725 - val_loss: 0.0945 - val_acc: 0.8635\n",
            "Epoch 7/10\n",
            " - 26s - loss: 0.0825 - acc: 0.8768 - val_loss: 0.0934 - val_acc: 0.8614\n",
            "Epoch 8/10\n",
            " - 26s - loss: 0.0788 - acc: 0.8807 - val_loss: 0.0958 - val_acc: 0.8594\n",
            "Epoch 9/10\n",
            " - 26s - loss: 0.0753 - acc: 0.8852 - val_loss: 0.0968 - val_acc: 0.8528\n",
            "Epoch 10/10\n",
            " - 26s - loss: 0.0706 - acc: 0.8935 - val_loss: 0.1007 - val_acc: 0.8484\n",
            "6351/6351 [==============================] - 2s 378us/step\n",
            "31756/31756 [==============================] - 11s 347us/step\n",
            "Train on 25404 samples, validate on 6351 samples\n",
            "Epoch 1/10\n",
            " - 27s - loss: 0.1061 - acc: 0.8370 - val_loss: 0.0957 - val_acc: 0.8476\n",
            "Epoch 2/10\n",
            " - 26s - loss: 0.0963 - acc: 0.8547 - val_loss: 0.0955 - val_acc: 0.8520\n",
            "Epoch 3/10\n",
            " - 26s - loss: 0.0927 - acc: 0.8607 - val_loss: 0.0936 - val_acc: 0.8566\n",
            "Epoch 4/10\n",
            " - 26s - loss: 0.0905 - acc: 0.8647 - val_loss: 0.0916 - val_acc: 0.8588\n",
            "Epoch 5/10\n",
            " - 26s - loss: 0.0881 - acc: 0.8677 - val_loss: 0.0928 - val_acc: 0.8580\n",
            "Epoch 6/10\n",
            " - 27s - loss: 0.0854 - acc: 0.8717 - val_loss: 0.0923 - val_acc: 0.8558\n",
            "Epoch 7/10\n",
            " - 26s - loss: 0.0831 - acc: 0.8752 - val_loss: 0.0931 - val_acc: 0.8607\n",
            "Epoch 8/10\n",
            " - 26s - loss: 0.0796 - acc: 0.8806 - val_loss: 0.0951 - val_acc: 0.8566\n",
            "Epoch 9/10\n",
            " - 27s - loss: 0.0767 - acc: 0.8840 - val_loss: 0.0961 - val_acc: 0.8550\n",
            "Epoch 10/10\n",
            " - 26s - loss: 0.0729 - acc: 0.8907 - val_loss: 0.1012 - val_acc: 0.8492\n",
            "6351/6351 [==============================] - 2s 377us/step\n",
            "31756/31756 [==============================] - 11s 349us/step\n",
            "Train on 25404 samples, validate on 6351 samples\n",
            "Epoch 1/10\n",
            " - 27s - loss: 0.1067 - acc: 0.8326 - val_loss: 0.0965 - val_acc: 0.8539\n",
            "Epoch 2/10\n",
            " - 27s - loss: 0.0961 - acc: 0.8544 - val_loss: 0.0949 - val_acc: 0.8594\n",
            "Epoch 3/10\n",
            " - 27s - loss: 0.0936 - acc: 0.8590 - val_loss: 0.0921 - val_acc: 0.8641\n",
            "Epoch 4/10\n",
            " - 27s - loss: 0.0906 - acc: 0.8614 - val_loss: 0.0938 - val_acc: 0.8632\n",
            "Epoch 5/10\n",
            " - 27s - loss: 0.0882 - acc: 0.8673 - val_loss: 0.0920 - val_acc: 0.8647\n",
            "Epoch 6/10\n",
            " - 27s - loss: 0.0860 - acc: 0.8690 - val_loss: 0.0922 - val_acc: 0.8666\n",
            "Epoch 7/10\n",
            " - 27s - loss: 0.0842 - acc: 0.8723 - val_loss: 0.0928 - val_acc: 0.8624\n",
            "Epoch 8/10\n",
            " - 27s - loss: 0.0806 - acc: 0.8780 - val_loss: 0.0946 - val_acc: 0.8635\n",
            "Epoch 9/10\n",
            " - 27s - loss: 0.0779 - acc: 0.8832 - val_loss: 0.0986 - val_acc: 0.8594\n",
            "Epoch 10/10\n",
            " - 27s - loss: 0.0744 - acc: 0.8875 - val_loss: 0.0973 - val_acc: 0.8567\n",
            "6351/6351 [==============================] - 2s 375us/step\n",
            "31756/31756 [==============================] - 11s 349us/step\n"
          ],
          "name": "stdout"
        }
      ]
    },
    {
      "cell_type": "code",
      "metadata": {
        "id": "Vo1Ec10_FbH4",
        "colab_type": "code",
        "colab": {
          "base_uri": "https://localhost:8080/",
          "height": 101
        },
        "outputId": "44528fd1-a0f6-432d-ea51-efa010705791"
      },
      "source": [
        "atten_scores \n"
      ],
      "execution_count": 42,
      "outputs": [
        {
          "output_type": "execute_result",
          "data": {
            "text/plain": [
              "[0.7301159646748406,\n",
              " 0.7365262571161171,\n",
              " 0.7317050637754045,\n",
              " 0.7396445040104342,\n",
              " 0.7363710923744169]"
            ]
          },
          "metadata": {
            "tags": []
          },
          "execution_count": 42
        }
      ]
    },
    {
      "cell_type": "markdown",
      "metadata": {
        "id": "WlFNurr4T1rh",
        "colab_type": "text"
      },
      "source": [
        "##TCN"
      ]
    },
    {
      "cell_type": "code",
      "metadata": {
        "id": "xKtfxHFBT2wB",
        "colab_type": "code",
        "colab": {
          "base_uri": "https://localhost:8080/",
          "height": 1000
        },
        "outputId": "055e2dc5-599a-4e2a-fea2-a7ae30e7a9bc"
      },
      "source": [
        "kfold = StratifiedKFold(n_splits=5, shuffle=False)\n",
        "tcn_scores = []\n",
        "tcn_test=[]\n",
        "for train, val in kfold.split(sequences_matrix, labels):\n",
        "  model=model_tcn(embeddings)\n",
        "  \n",
        "  model.fit(sequences_matrix[train], labels[train],batch_size=64,epochs=10,verbose=2,\n",
        "            validation_data=(sequences_matrix[val],labels[val]),callbacks=[clr,])\n",
        "  y_pred = model.predict(sequences_matrix[val], batch_size=64, verbose=1)\n",
        "\n",
        "  tcn_test.append(model.predict(X_test_sequences, batch_size=64, verbose=1).ravel())\n",
        "\n",
        "  y_pred = (y_pred > 0.5)\n",
        "  f1=f1_score(labels[val], y_pred, average='macro')\n",
        "  tcn_scores.append(f1)\n",
        "  keras.backend.clear_session()"
      ],
      "execution_count": 43,
      "outputs": [
        {
          "output_type": "stream",
          "text": [
            "Train on 25404 samples, validate on 6351 samples\n",
            "Epoch 1/10\n",
            " - 21s - loss: 0.1116 - acc: 0.8294 - val_loss: 0.0987 - val_acc: 0.8488\n",
            "Epoch 2/10\n",
            " - 15s - loss: 0.0988 - acc: 0.8503 - val_loss: 0.0971 - val_acc: 0.8506\n",
            "Epoch 3/10\n",
            " - 15s - loss: 0.0958 - acc: 0.8575 - val_loss: 0.0966 - val_acc: 0.8525\n",
            "Epoch 4/10\n",
            " - 15s - loss: 0.0940 - acc: 0.8599 - val_loss: 0.0970 - val_acc: 0.8542\n",
            "Epoch 5/10\n",
            " - 15s - loss: 0.0922 - acc: 0.8612 - val_loss: 0.0980 - val_acc: 0.8581\n",
            "Epoch 6/10\n",
            " - 15s - loss: 0.0900 - acc: 0.8646 - val_loss: 0.0964 - val_acc: 0.8503\n",
            "Epoch 7/10\n",
            " - 15s - loss: 0.0883 - acc: 0.8660 - val_loss: 0.0963 - val_acc: 0.8619\n",
            "Epoch 8/10\n",
            " - 15s - loss: 0.0852 - acc: 0.8734 - val_loss: 0.0979 - val_acc: 0.8570\n",
            "Epoch 9/10\n",
            " - 15s - loss: 0.0835 - acc: 0.8737 - val_loss: 0.0978 - val_acc: 0.8564\n",
            "Epoch 10/10\n",
            " - 15s - loss: 0.0811 - acc: 0.8764 - val_loss: 0.1021 - val_acc: 0.8517\n",
            "6351/6351 [==============================] - 2s 240us/step\n",
            "31756/31756 [==============================] - 7s 215us/step\n",
            "Train on 25404 samples, validate on 6351 samples\n",
            "Epoch 1/10\n",
            " - 16s - loss: 0.1130 - acc: 0.8278 - val_loss: 0.0978 - val_acc: 0.8533\n",
            "Epoch 2/10\n",
            " - 15s - loss: 0.1003 - acc: 0.8525 - val_loss: 0.0963 - val_acc: 0.8567\n",
            "Epoch 3/10\n",
            " - 15s - loss: 0.0966 - acc: 0.8562 - val_loss: 0.0952 - val_acc: 0.8558\n",
            "Epoch 4/10\n",
            " - 15s - loss: 0.0954 - acc: 0.8579 - val_loss: 0.0973 - val_acc: 0.8540\n",
            "Epoch 5/10\n",
            " - 15s - loss: 0.0934 - acc: 0.8616 - val_loss: 0.0984 - val_acc: 0.8548\n",
            "Epoch 6/10\n",
            " - 15s - loss: 0.0916 - acc: 0.8622 - val_loss: 0.0965 - val_acc: 0.8599\n",
            "Epoch 7/10\n",
            " - 15s - loss: 0.0906 - acc: 0.8635 - val_loss: 0.0979 - val_acc: 0.8539\n",
            "Epoch 8/10\n",
            " - 15s - loss: 0.0895 - acc: 0.8647 - val_loss: 0.1001 - val_acc: 0.8597\n",
            "Epoch 9/10\n",
            " - 15s - loss: 0.0874 - acc: 0.8675 - val_loss: 0.0979 - val_acc: 0.8580\n",
            "Epoch 10/10\n",
            " - 15s - loss: 0.0850 - acc: 0.8689 - val_loss: 0.1024 - val_acc: 0.8529\n",
            "6351/6351 [==============================] - 2s 239us/step\n",
            "31756/31756 [==============================] - 7s 206us/step\n",
            "Train on 25404 samples, validate on 6351 samples\n",
            "Epoch 1/10\n",
            " - 17s - loss: 0.1110 - acc: 0.8319 - val_loss: 0.0966 - val_acc: 0.8553\n",
            "Epoch 2/10\n",
            " - 15s - loss: 0.0989 - acc: 0.8542 - val_loss: 0.0997 - val_acc: 0.8487\n",
            "Epoch 3/10\n",
            " - 15s - loss: 0.0965 - acc: 0.8583 - val_loss: 0.0981 - val_acc: 0.8542\n",
            "Epoch 4/10\n",
            " - 16s - loss: 0.0947 - acc: 0.8610 - val_loss: 0.1043 - val_acc: 0.8474\n",
            "Epoch 5/10\n",
            " - 16s - loss: 0.0930 - acc: 0.8613 - val_loss: 0.0972 - val_acc: 0.8459\n",
            "Epoch 6/10\n",
            " - 15s - loss: 0.0906 - acc: 0.8636 - val_loss: 0.0943 - val_acc: 0.8562\n",
            "Epoch 7/10\n",
            " - 15s - loss: 0.0890 - acc: 0.8670 - val_loss: 0.0966 - val_acc: 0.8510\n",
            "Epoch 8/10\n",
            " - 15s - loss: 0.0869 - acc: 0.8687 - val_loss: 0.0958 - val_acc: 0.8580\n",
            "Epoch 9/10\n",
            " - 15s - loss: 0.0853 - acc: 0.8718 - val_loss: 0.1001 - val_acc: 0.8517\n",
            "Epoch 10/10\n",
            " - 15s - loss: 0.0827 - acc: 0.8742 - val_loss: 0.1015 - val_acc: 0.8474\n",
            "6351/6351 [==============================] - 2s 241us/step\n",
            "31756/31756 [==============================] - 7s 206us/step\n",
            "Train on 25404 samples, validate on 6351 samples\n",
            "Epoch 1/10\n",
            " - 17s - loss: 0.1091 - acc: 0.8354 - val_loss: 0.0988 - val_acc: 0.8485\n",
            "Epoch 2/10\n",
            " - 15s - loss: 0.0989 - acc: 0.8522 - val_loss: 0.0950 - val_acc: 0.8583\n",
            "Epoch 3/10\n",
            " - 15s - loss: 0.0967 - acc: 0.8562 - val_loss: 0.0932 - val_acc: 0.8602\n",
            "Epoch 4/10\n",
            " - 15s - loss: 0.0948 - acc: 0.8592 - val_loss: 0.0953 - val_acc: 0.8540\n",
            "Epoch 5/10\n",
            " - 15s - loss: 0.0924 - acc: 0.8617 - val_loss: 0.0938 - val_acc: 0.8583\n",
            "Epoch 6/10\n",
            " - 16s - loss: 0.0899 - acc: 0.8649 - val_loss: 0.0944 - val_acc: 0.8556\n",
            "Epoch 7/10\n",
            " - 15s - loss: 0.0880 - acc: 0.8655 - val_loss: 0.0925 - val_acc: 0.8602\n",
            "Epoch 8/10\n",
            " - 15s - loss: 0.0852 - acc: 0.8701 - val_loss: 0.0939 - val_acc: 0.8564\n",
            "Epoch 9/10\n",
            " - 15s - loss: 0.0817 - acc: 0.8750 - val_loss: 0.0982 - val_acc: 0.8465\n",
            "Epoch 10/10\n",
            " - 16s - loss: 0.0784 - acc: 0.8792 - val_loss: 0.0989 - val_acc: 0.8529\n",
            "6351/6351 [==============================] - 2s 248us/step\n",
            "31756/31756 [==============================] - 7s 206us/step\n",
            "Train on 25404 samples, validate on 6351 samples\n",
            "Epoch 1/10\n",
            " - 16s - loss: 0.1105 - acc: 0.8336 - val_loss: 0.1008 - val_acc: 0.8510\n",
            "Epoch 2/10\n",
            " - 15s - loss: 0.0991 - acc: 0.8505 - val_loss: 0.0950 - val_acc: 0.8595\n",
            "Epoch 3/10\n",
            " - 15s - loss: 0.0953 - acc: 0.8578 - val_loss: 0.0937 - val_acc: 0.8599\n",
            "Epoch 4/10\n",
            " - 15s - loss: 0.0940 - acc: 0.8577 - val_loss: 0.0964 - val_acc: 0.8564\n",
            "Epoch 5/10\n",
            " - 15s - loss: 0.0928 - acc: 0.8614 - val_loss: 0.0945 - val_acc: 0.8577\n",
            "Epoch 6/10\n",
            " - 15s - loss: 0.0901 - acc: 0.8638 - val_loss: 0.0952 - val_acc: 0.8572\n",
            "Epoch 7/10\n",
            " - 15s - loss: 0.0885 - acc: 0.8660 - val_loss: 0.0960 - val_acc: 0.8588\n",
            "Epoch 8/10\n",
            " - 15s - loss: 0.0864 - acc: 0.8692 - val_loss: 0.0937 - val_acc: 0.8621\n",
            "Epoch 9/10\n",
            " - 15s - loss: 0.0840 - acc: 0.8712 - val_loss: 0.1010 - val_acc: 0.8566\n",
            "Epoch 10/10\n",
            " - 15s - loss: 0.0811 - acc: 0.8759 - val_loss: 0.0945 - val_acc: 0.8624\n",
            "6351/6351 [==============================] - 2s 240us/step\n",
            "31756/31756 [==============================] - 7s 207us/step\n"
          ],
          "name": "stdout"
        }
      ]
    },
    {
      "cell_type": "markdown",
      "metadata": {
        "id": "Tr_J6FWTCYXB",
        "colab_type": "text"
      },
      "source": [
        "##KIM"
      ]
    },
    {
      "cell_type": "code",
      "metadata": {
        "id": "PgmUF8liCa4M",
        "colab_type": "code",
        "colab": {
          "base_uri": "https://localhost:8080/",
          "height": 1000
        },
        "outputId": "8a2750d2-94f8-455a-cc39-9f376eb4f2c8"
      },
      "source": [
        "kfold = StratifiedKFold(n_splits=5, shuffle=False)\n",
        "kim_scores = []\n",
        "kim_test=[]\n",
        "for train, val in kfold.split(sequences_matrix, labels):\n",
        "  model=model_kim()\n",
        "  \n",
        "  model.fit(sequences_matrix[train], labels[train],batch_size=64,epochs=10,verbose=2,\n",
        "            validation_data=(sequences_matrix[val],labels[val]),callbacks=[clr,])\n",
        "  y_pred = model.predict(sequences_matrix[val], batch_size=64, verbose=1)\n",
        "\n",
        "  kim_test.append(model.predict(X_test_sequences, batch_size=64, verbose=1).ravel())\n",
        "\n",
        "  y_pred = (y_pred > 0.5)\n",
        "  f1=f1_score(labels[val], y_pred, average='macro')\n",
        "  kim_scores.append(f1)\n",
        "  keras.backend.clear_session()"
      ],
      "execution_count": 44,
      "outputs": [
        {
          "output_type": "stream",
          "text": [
            "Train on 25404 samples, validate on 6351 samples\n",
            "Epoch 1/10\n",
            " - 15s - loss: 0.1693 - acc: 0.7543 - val_loss: 0.1056 - val_acc: 0.8367\n",
            "Epoch 2/10\n",
            " - 14s - loss: 0.1130 - acc: 0.8279 - val_loss: 0.1013 - val_acc: 0.8465\n",
            "Epoch 3/10\n",
            " - 14s - loss: 0.0989 - acc: 0.8468 - val_loss: 0.1007 - val_acc: 0.8488\n",
            "Epoch 4/10\n",
            " - 14s - loss: 0.0907 - acc: 0.8621 - val_loss: 0.0996 - val_acc: 0.8499\n",
            "Epoch 5/10\n",
            " - 14s - loss: 0.0835 - acc: 0.8719 - val_loss: 0.1016 - val_acc: 0.8510\n",
            "Epoch 6/10\n",
            " - 14s - loss: 0.0783 - acc: 0.8802 - val_loss: 0.1066 - val_acc: 0.8342\n",
            "Epoch 7/10\n",
            " - 14s - loss: 0.0734 - acc: 0.8859 - val_loss: 0.1032 - val_acc: 0.8430\n",
            "Epoch 8/10\n",
            " - 14s - loss: 0.0667 - acc: 0.8996 - val_loss: 0.1073 - val_acc: 0.8470\n",
            "Epoch 9/10\n",
            " - 14s - loss: 0.0598 - acc: 0.9075 - val_loss: 0.1107 - val_acc: 0.8348\n",
            "Epoch 10/10\n",
            " - 14s - loss: 0.0552 - acc: 0.9164 - val_loss: 0.1199 - val_acc: 0.8345\n",
            "6351/6351 [==============================] - 1s 178us/step\n",
            "31756/31756 [==============================] - 5s 147us/step\n",
            "Train on 25404 samples, validate on 6351 samples\n",
            "Epoch 1/10\n",
            " - 15s - loss: 0.1687 - acc: 0.7587 - val_loss: 0.1036 - val_acc: 0.8430\n",
            "Epoch 2/10\n",
            " - 14s - loss: 0.1157 - acc: 0.8288 - val_loss: 0.1009 - val_acc: 0.8457\n",
            "Epoch 3/10\n",
            " - 14s - loss: 0.1009 - acc: 0.8473 - val_loss: 0.1033 - val_acc: 0.8425\n",
            "Epoch 4/10\n",
            " - 14s - loss: 0.0921 - acc: 0.8594 - val_loss: 0.0995 - val_acc: 0.8528\n",
            "Epoch 5/10\n",
            " - 14s - loss: 0.0858 - acc: 0.8693 - val_loss: 0.0999 - val_acc: 0.8539\n",
            "Epoch 6/10\n",
            " - 14s - loss: 0.0793 - acc: 0.8777 - val_loss: 0.1035 - val_acc: 0.8566\n",
            "Epoch 7/10\n",
            " - 14s - loss: 0.0726 - acc: 0.8887 - val_loss: 0.1114 - val_acc: 0.8533\n",
            "Epoch 8/10\n",
            " - 14s - loss: 0.0679 - acc: 0.8978 - val_loss: 0.1112 - val_acc: 0.8544\n",
            "Epoch 9/10\n",
            " - 14s - loss: 0.0609 - acc: 0.9054 - val_loss: 0.1094 - val_acc: 0.8536\n",
            "Epoch 10/10\n",
            " - 13s - loss: 0.0560 - acc: 0.9158 - val_loss: 0.1199 - val_acc: 0.8539\n",
            "6351/6351 [==============================] - 1s 179us/step\n",
            "31756/31756 [==============================] - 5s 147us/step\n",
            "Train on 25404 samples, validate on 6351 samples\n",
            "Epoch 1/10\n",
            " - 15s - loss: 0.1795 - acc: 0.7533 - val_loss: 0.1044 - val_acc: 0.8402\n",
            "Epoch 2/10\n",
            " - 14s - loss: 0.1138 - acc: 0.8278 - val_loss: 0.1025 - val_acc: 0.8411\n",
            "Epoch 3/10\n",
            " - 14s - loss: 0.1001 - acc: 0.8479 - val_loss: 0.1013 - val_acc: 0.8444\n",
            "Epoch 4/10\n",
            " - 14s - loss: 0.0925 - acc: 0.8584 - val_loss: 0.0983 - val_acc: 0.8523\n",
            "Epoch 5/10\n",
            " - 14s - loss: 0.0852 - acc: 0.8695 - val_loss: 0.1027 - val_acc: 0.8459\n",
            "Epoch 6/10\n",
            " - 14s - loss: 0.0800 - acc: 0.8787 - val_loss: 0.1030 - val_acc: 0.8518\n",
            "Epoch 7/10\n",
            " - 13s - loss: 0.0743 - acc: 0.8884 - val_loss: 0.1091 - val_acc: 0.8499\n",
            "Epoch 8/10\n",
            " - 14s - loss: 0.0696 - acc: 0.8966 - val_loss: 0.1010 - val_acc: 0.8517\n",
            "Epoch 9/10\n",
            " - 14s - loss: 0.0634 - acc: 0.9054 - val_loss: 0.1103 - val_acc: 0.8397\n",
            "Epoch 10/10\n",
            " - 14s - loss: 0.0599 - acc: 0.9091 - val_loss: 0.1114 - val_acc: 0.8482\n",
            "6351/6351 [==============================] - 1s 177us/step\n",
            "31756/31756 [==============================] - 5s 147us/step\n",
            "Train on 25404 samples, validate on 6351 samples\n",
            "Epoch 1/10\n",
            " - 15s - loss: 0.1507 - acc: 0.7712 - val_loss: 0.1031 - val_acc: 0.8392\n",
            "Epoch 2/10\n",
            " - 14s - loss: 0.1083 - acc: 0.8338 - val_loss: 0.1000 - val_acc: 0.8421\n",
            "Epoch 3/10\n",
            " - 14s - loss: 0.0987 - acc: 0.8508 - val_loss: 0.1009 - val_acc: 0.8444\n",
            "Epoch 4/10\n",
            " - 14s - loss: 0.0908 - acc: 0.8607 - val_loss: 0.0965 - val_acc: 0.8512\n",
            "Epoch 5/10\n",
            " - 14s - loss: 0.0845 - acc: 0.8703 - val_loss: 0.0979 - val_acc: 0.8471\n",
            "Epoch 6/10\n",
            " - 14s - loss: 0.0809 - acc: 0.8764 - val_loss: 0.0957 - val_acc: 0.8539\n",
            "Epoch 7/10\n",
            " - 14s - loss: 0.0739 - acc: 0.8873 - val_loss: 0.0990 - val_acc: 0.8455\n",
            "Epoch 8/10\n",
            " - 14s - loss: 0.0681 - acc: 0.8959 - val_loss: 0.0981 - val_acc: 0.8512\n",
            "Epoch 9/10\n",
            " - 14s - loss: 0.0624 - acc: 0.9057 - val_loss: 0.1070 - val_acc: 0.8438\n",
            "Epoch 10/10\n",
            " - 13s - loss: 0.0567 - acc: 0.9132 - val_loss: 0.1055 - val_acc: 0.8402\n",
            "6351/6351 [==============================] - 1s 177us/step\n",
            "31756/31756 [==============================] - 5s 147us/step\n",
            "Train on 25404 samples, validate on 6351 samples\n",
            "Epoch 1/10\n",
            " - 15s - loss: 0.1761 - acc: 0.7483 - val_loss: 0.1045 - val_acc: 0.8414\n",
            "Epoch 2/10\n",
            " - 14s - loss: 0.1161 - acc: 0.8254 - val_loss: 0.1018 - val_acc: 0.8460\n",
            "Epoch 3/10\n",
            " - 14s - loss: 0.1006 - acc: 0.8462 - val_loss: 0.0999 - val_acc: 0.8566\n",
            "Epoch 4/10\n",
            " - 14s - loss: 0.0905 - acc: 0.8597 - val_loss: 0.1010 - val_acc: 0.8518\n",
            "Epoch 5/10\n",
            " - 14s - loss: 0.0849 - acc: 0.8704 - val_loss: 0.0974 - val_acc: 0.8553\n",
            "Epoch 6/10\n",
            " - 14s - loss: 0.0798 - acc: 0.8763 - val_loss: 0.0983 - val_acc: 0.8564\n",
            "Epoch 7/10\n",
            " - 14s - loss: 0.0736 - acc: 0.8866 - val_loss: 0.1033 - val_acc: 0.8540\n",
            "Epoch 8/10\n",
            " - 14s - loss: 0.0675 - acc: 0.8962 - val_loss: 0.1047 - val_acc: 0.8556\n",
            "Epoch 9/10\n",
            " - 14s - loss: 0.0623 - acc: 0.9053 - val_loss: 0.1105 - val_acc: 0.8433\n",
            "Epoch 10/10\n",
            " - 14s - loss: 0.0554 - acc: 0.9153 - val_loss: 0.1331 - val_acc: 0.8547\n",
            "6351/6351 [==============================] - 1s 179us/step\n",
            "31756/31756 [==============================] - 5s 147us/step\n"
          ],
          "name": "stdout"
        }
      ]
    },
    {
      "cell_type": "markdown",
      "metadata": {
        "id": "4bXDiFxJH5Ny",
        "colab_type": "text"
      },
      "source": [
        "#**Result**"
      ]
    },
    {
      "cell_type": "markdown",
      "metadata": {
        "id": "vXd8VkdPhAq2",
        "colab_type": "text"
      },
      "source": [
        "# Result"
      ]
    },
    {
      "cell_type": "code",
      "metadata": {
        "id": "AnC41n_HRKQA",
        "colab_type": "code",
        "colab": {}
      },
      "source": [
        "gru_scores=np.average(np.array(gru_scores))\n",
        "atten_scores=np.average(np.array(atten_scores))\n",
        "tcn_scores=np.average(np.array(tcn_scores))\n",
        "kim_scores=np.average(np.array(kim_scores))"
      ],
      "execution_count": 0,
      "outputs": []
    },
    {
      "cell_type": "code",
      "metadata": {
        "id": "jBp341Qog_uv",
        "colab_type": "code",
        "outputId": "a08bbb26-4e09-41f0-e83c-4ec7b55e3a33",
        "colab": {
          "base_uri": "https://localhost:8080/",
          "height": 134
        }
      },
      "source": [
        "print('f1 score of count vec' ,cv_score)\n",
        "print('f1 score of word tfidf' ,tfw_score)\n",
        "print('f1 score of char tfidf' ,tfc_score)\n",
        "\n",
        "print('f1 score of RNN' ,gru_scores)\n",
        "print('f1 score of gated attention',atten_scores )\n",
        "print('f1 score of tcn',tcn_scores)\n",
        "print('f1 score of kim',kim_scores)\n"
      ],
      "execution_count": 48,
      "outputs": [
        {
          "output_type": "stream",
          "text": [
            "f1 score of count vec 0.7155848391143292\n",
            "f1 score of word tfidf 0.6875799055023779\n",
            "f1 score of char tfidf 0.7317252065086148\n",
            "f1 score of RNN 0.7243716421236114\n",
            "f1 score of gated attention 0.7348725763902426\n",
            "f1 score of tcn 0.7134400047922778\n",
            "f1 score of kim 0.698590423049939\n"
          ],
          "name": "stdout"
        }
      ]
    },
    {
      "cell_type": "code",
      "metadata": {
        "id": "ipijYwvjJPyx",
        "colab_type": "code",
        "colab": {}
      },
      "source": [
        "kim_test_avg=np.mean(np.array(kim_test),axis=0)\n",
        "gru_test_avg=np.mean(np.array(gru_test),axis=0)\n",
        "atten_test_avg=np.mean(np.array(atten_test),axis=0)\n",
        "tcn_test_avg=np.mean(np.array(tcn_test),axis=0)\n"
      ],
      "execution_count": 0,
      "outputs": []
    },
    {
      "cell_type": "code",
      "metadata": {
        "id": "ZZ8CR7s1Qe18",
        "colab_type": "code",
        "outputId": "5bbafdb3-01ae-4b6b-ffb9-e86b1a7b3686",
        "colab": {
          "base_uri": "https://localhost:8080/",
          "height": 134
        }
      },
      "source": [
        "print(cv_test[5:15].round())\n",
        "print(tfw_test[5:15].round())\n",
        "print(tfc_test[5:15].round())\n",
        "print(gru_test_avg[5:15].round())\n",
        "print(atten_test_avg[5:15].round())\n",
        "print(kim_test_avg[5:15].round())\n",
        "print(tcn_test_avg[5:15].round())"
      ],
      "execution_count": 50,
      "outputs": [
        {
          "output_type": "stream",
          "text": [
            "[0. 0. 0. 1. 0. 1. 0. 0. 0. 0.]\n",
            "[0. 0. 0. 0. 0. 1. 0. 0. 0. 0.]\n",
            "[0. 0. 0. 1. 0. 1. 0. 0. 1. 0.]\n",
            "[0. 0. 0. 1. 0. 1. 0. 0. 0. 0.]\n",
            "[0. 0. 0. 1. 0. 1. 0. 0. 0. 0.]\n",
            "[0. 0. 0. 1. 0. 1. 0. 0. 0. 0.]\n",
            "[0. 0. 0. 0. 0. 1. 0. 0. 0. 0.]\n"
          ],
          "name": "stdout"
        }
      ]
    },
    {
      "cell_type": "markdown",
      "metadata": {
        "id": "DW1OugTMEpZg",
        "colab_type": "text"
      },
      "source": [
        "# Ensemble"
      ]
    },
    {
      "cell_type": "markdown",
      "metadata": {
        "id": "f6VT0aVcUIhm",
        "colab_type": "text"
      },
      "source": [
        "we will choose only those, having f1 greater than 0.7. Once they are selected, we will decode labels, and keep label according to mod"
      ]
    },
    {
      "cell_type": "code",
      "metadata": {
        "id": "6wmQlS5LkZLi",
        "colab_type": "code",
        "outputId": "1419925c-57a6-450c-a2cc-b6fad66968be",
        "colab": {
          "base_uri": "https://localhost:8080/",
          "height": 34
        }
      },
      "source": [
        "wt=gru_scores+atten_scores+cv_score+tfw_score+tfc_score+tcn_scores+kim_scores\n",
        "wt"
      ],
      "execution_count": 51,
      "outputs": [
        {
          "output_type": "execute_result",
          "data": {
            "text/plain": [
              "5.006164597481393"
            ]
          },
          "metadata": {
            "tags": []
          },
          "execution_count": 51
        }
      ]
    },
    {
      "cell_type": "code",
      "metadata": {
        "id": "AkCLYtxOcXCA",
        "colab_type": "code",
        "colab": {}
      },
      "source": [
        "y_test=gru_scores/wt * gru_test_avg + atten_scores/wt * atten_test_avg + cv_score/wt * cv_test + tfw_score/wt *tfw_test + tfc_score/wt *tfc_test +kim_scores/wt * kim_test_avg + tcn_scores/wt *tcn_test_avg"
      ],
      "execution_count": 0,
      "outputs": []
    },
    {
      "cell_type": "code",
      "metadata": {
        "id": "EzRAIebNSpMz",
        "colab_type": "code",
        "outputId": "514ff48a-5619-4966-a3ee-78e074bb2208",
        "colab": {
          "base_uri": "https://localhost:8080/",
          "height": 34
        }
      },
      "source": [
        "y_test[5:15].round()"
      ],
      "execution_count": 63,
      "outputs": [
        {
          "output_type": "execute_result",
          "data": {
            "text/plain": [
              "array([0., 0., 0., 1., 0., 1., 0., 0., 0., 0.])"
            ]
          },
          "metadata": {
            "tags": []
          },
          "execution_count": 63
        }
      ]
    },
    {
      "cell_type": "code",
      "metadata": {
        "id": "V9Pu0LvuZIf8",
        "colab_type": "code",
        "colab": {}
      },
      "source": [
        "def decode(y_test):\n",
        "  y_test[y_test>0.5]=1\n",
        "  y_test[y_test<0.5]=0\n",
        "  y_test=y_test.astype('int16').ravel()\n",
        "\n",
        "  y_test=le.inverse_transform(y_test)\n",
        "  y_test=pd.DataFrame(y_test,columns=['label'])\n",
        "  y_test=pd.concat([ids, y_test['label']], axis=1)\n",
        "  return y_test"
      ],
      "execution_count": 0,
      "outputs": []
    },
    {
      "cell_type": "code",
      "metadata": {
        "id": "7PgV77IYZRGP",
        "colab_type": "code",
        "outputId": "c0edb2a0-abae-44c2-e407-9b0fc6b7b8b8",
        "colab": {
          "base_uri": "https://localhost:8080/",
          "height": 195
        }
      },
      "source": [
        "y_test=decode(y_test)\n",
        "y_test.head()\n",
        "\n"
      ],
      "execution_count": 65,
      "outputs": [
        {
          "output_type": "execute_result",
          "data": {
            "text/html": [
              "<div>\n",
              "<style scoped>\n",
              "    .dataframe tbody tr th:only-of-type {\n",
              "        vertical-align: middle;\n",
              "    }\n",
              "\n",
              "    .dataframe tbody tr th {\n",
              "        vertical-align: top;\n",
              "    }\n",
              "\n",
              "    .dataframe thead th {\n",
              "        text-align: right;\n",
              "    }\n",
              "</style>\n",
              "<table border=\"1\" class=\"dataframe\">\n",
              "  <thead>\n",
              "    <tr style=\"text-align: right;\">\n",
              "      <th></th>\n",
              "      <th>id</th>\n",
              "      <th>label</th>\n",
              "    </tr>\n",
              "  </thead>\n",
              "  <tbody>\n",
              "    <tr>\n",
              "      <th>0</th>\n",
              "      <td>20948</td>\n",
              "      <td>NOT</td>\n",
              "    </tr>\n",
              "    <tr>\n",
              "      <th>1</th>\n",
              "      <td>10134</td>\n",
              "      <td>NOT</td>\n",
              "    </tr>\n",
              "    <tr>\n",
              "      <th>2</th>\n",
              "      <td>23457</td>\n",
              "      <td>NOT</td>\n",
              "    </tr>\n",
              "    <tr>\n",
              "      <th>3</th>\n",
              "      <td>18401</td>\n",
              "      <td>NOT</td>\n",
              "    </tr>\n",
              "    <tr>\n",
              "      <th>4</th>\n",
              "      <td>17525</td>\n",
              "      <td>NOT</td>\n",
              "    </tr>\n",
              "  </tbody>\n",
              "</table>\n",
              "</div>"
            ],
            "text/plain": [
              "      id label\n",
              "0  20948   NOT\n",
              "1  10134   NOT\n",
              "2  23457   NOT\n",
              "3  18401   NOT\n",
              "4  17525   NOT"
            ]
          },
          "metadata": {
            "tags": []
          },
          "execution_count": 65
        }
      ]
    },
    {
      "cell_type": "code",
      "metadata": {
        "id": "Np7SweTsAfSl",
        "colab_type": "code",
        "colab": {
          "base_uri": "https://localhost:8080/",
          "height": 343
        },
        "outputId": "790a7824-4a50-435b-b0af-b7b1b22f79c1"
      },
      "source": [
        "y_test[5:15]"
      ],
      "execution_count": 57,
      "outputs": [
        {
          "output_type": "execute_result",
          "data": {
            "text/html": [
              "<div>\n",
              "<style scoped>\n",
              "    .dataframe tbody tr th:only-of-type {\n",
              "        vertical-align: middle;\n",
              "    }\n",
              "\n",
              "    .dataframe tbody tr th {\n",
              "        vertical-align: top;\n",
              "    }\n",
              "\n",
              "    .dataframe thead th {\n",
              "        text-align: right;\n",
              "    }\n",
              "</style>\n",
              "<table border=\"1\" class=\"dataframe\">\n",
              "  <thead>\n",
              "    <tr style=\"text-align: right;\">\n",
              "      <th></th>\n",
              "      <th>id</th>\n",
              "      <th>label</th>\n",
              "    </tr>\n",
              "  </thead>\n",
              "  <tbody>\n",
              "    <tr>\n",
              "      <th>5</th>\n",
              "      <td>11996</td>\n",
              "      <td>NOT</td>\n",
              "    </tr>\n",
              "    <tr>\n",
              "      <th>6</th>\n",
              "      <td>38452</td>\n",
              "      <td>NOT</td>\n",
              "    </tr>\n",
              "    <tr>\n",
              "      <th>7</th>\n",
              "      <td>12615</td>\n",
              "      <td>NOT</td>\n",
              "    </tr>\n",
              "    <tr>\n",
              "      <th>8</th>\n",
              "      <td>13520</td>\n",
              "      <td>OFF</td>\n",
              "    </tr>\n",
              "    <tr>\n",
              "      <th>9</th>\n",
              "      <td>45562</td>\n",
              "      <td>NOT</td>\n",
              "    </tr>\n",
              "    <tr>\n",
              "      <th>10</th>\n",
              "      <td>20724</td>\n",
              "      <td>OFF</td>\n",
              "    </tr>\n",
              "    <tr>\n",
              "      <th>11</th>\n",
              "      <td>24529</td>\n",
              "      <td>NOT</td>\n",
              "    </tr>\n",
              "    <tr>\n",
              "      <th>12</th>\n",
              "      <td>13853</td>\n",
              "      <td>NOT</td>\n",
              "    </tr>\n",
              "    <tr>\n",
              "      <th>13</th>\n",
              "      <td>15493</td>\n",
              "      <td>NOT</td>\n",
              "    </tr>\n",
              "    <tr>\n",
              "      <th>14</th>\n",
              "      <td>13276</td>\n",
              "      <td>NOT</td>\n",
              "    </tr>\n",
              "  </tbody>\n",
              "</table>\n",
              "</div>"
            ],
            "text/plain": [
              "       id label\n",
              "5   11996   NOT\n",
              "6   38452   NOT\n",
              "7   12615   NOT\n",
              "8   13520   OFF\n",
              "9   45562   NOT\n",
              "10  20724   OFF\n",
              "11  24529   NOT\n",
              "12  13853   NOT\n",
              "13  15493   NOT\n",
              "14  13276   NOT"
            ]
          },
          "metadata": {
            "tags": []
          },
          "execution_count": 57
        }
      ]
    },
    {
      "cell_type": "code",
      "metadata": {
        "id": "8avMmBQvb_IR",
        "colab_type": "code",
        "colab": {}
      },
      "source": [
        ""
      ],
      "execution_count": 0,
      "outputs": []
    },
    {
      "cell_type": "markdown",
      "metadata": {
        "id": "Dl57zICXM4c6",
        "colab_type": "text"
      },
      "source": [
        "# Submit file"
      ]
    },
    {
      "cell_type": "code",
      "metadata": {
        "id": "3LkCxvtfEnpl",
        "colab_type": "code",
        "colab": {}
      },
      "source": [
        ""
      ],
      "execution_count": 0,
      "outputs": []
    },
    {
      "cell_type": "code",
      "metadata": {
        "id": "GHTCw4_jP_tr",
        "colab_type": "code",
        "colab": {}
      },
      "source": [
        "y_test.to_csv('/content/final.csv',index=False,header=None)\n"
      ],
      "execution_count": 0,
      "outputs": []
    },
    {
      "cell_type": "code",
      "metadata": {
        "id": "2tPo96DUz_EZ",
        "colab_type": "code",
        "colab": {}
      },
      "source": [
        ""
      ],
      "execution_count": 0,
      "outputs": []
    },
    {
      "cell_type": "markdown",
      "metadata": {
        "id": "FwKb7_NBWjAv",
        "colab_type": "text"
      },
      "source": [
        "# Reset"
      ]
    },
    {
      "cell_type": "code",
      "metadata": {
        "id": "R0Xi3s2KWlKi",
        "colab_type": "code",
        "colab": {}
      },
      "source": [
        "# import keras\n",
        "# keras.backend.clear_session()"
      ],
      "execution_count": 0,
      "outputs": []
    },
    {
      "cell_type": "code",
      "metadata": {
        "id": "T39YK5rbQBoT",
        "colab_type": "code",
        "colab": {}
      },
      "source": [
        ""
      ],
      "execution_count": 0,
      "outputs": []
    }
  ]
}