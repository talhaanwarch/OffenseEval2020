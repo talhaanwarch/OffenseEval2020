{
  "nbformat": 4,
  "nbformat_minor": 0,
  "metadata": {
    "colab": {
      "name": "Turkish.ipynb",
      "provenance": [],
      "collapsed_sections": [
        "FwKb7_NBWjAv"
      ],
      "toc_visible": true,
      "include_colab_link": true
    },
    "kernelspec": {
      "name": "python3",
      "display_name": "Python 3"
    },
    "accelerator": "GPU"
  },
  "cells": [
    {
      "cell_type": "markdown",
      "metadata": {
        "id": "view-in-github",
        "colab_type": "text"
      },
      "source": [
        "<a href=\"https://colab.research.google.com/github/talhaanwarch/OffenseEval2020/blob/master/submissions/Turkish_crossval.ipynb\" target=\"_parent\"><img src=\"https://colab.research.google.com/assets/colab-badge.svg\" alt=\"Open In Colab\"/></a>"
      ]
    },
    {
      "cell_type": "code",
      "metadata": {
        "id": "_uqG7k8lK3xz",
        "colab_type": "code",
        "outputId": "1f8f61c4-26cd-4fe0-aa04-294f66fc407d",
        "colab": {
          "base_uri": "https://localhost:8080/",
          "height": 306
        }
      },
      "source": [
        "!pip install focal-loss\n",
        "!pip install keras-tcn==2.8.3"
      ],
      "execution_count": 1,
      "outputs": [
        {
          "output_type": "stream",
          "text": [
            "Collecting focal-loss\n",
            "  Downloading https://files.pythonhosted.org/packages/66/ed/17450291228192ad8595de4514c8ec28a587697b03c707d12d4af5b7f331/focal_loss-0.0.2-py3-none-any.whl\n",
            "Installing collected packages: focal-loss\n",
            "Successfully installed focal-loss-0.0.2\n",
            "Collecting keras-tcn==2.8.3\n",
            "  Downloading https://files.pythonhosted.org/packages/d4/c4/438c86b27ab11a79cc659d8d6878682c4eb80caa0c0b3d620740cef762f5/keras_tcn-2.8.3-py3-none-any.whl\n",
            "Requirement already satisfied: numpy in /usr/local/lib/python3.6/dist-packages (from keras-tcn==2.8.3) (1.17.5)\n",
            "Requirement already satisfied: keras in /usr/local/lib/python3.6/dist-packages (from keras-tcn==2.8.3) (2.2.5)\n",
            "Requirement already satisfied: h5py in /usr/local/lib/python3.6/dist-packages (from keras->keras-tcn==2.8.3) (2.8.0)\n",
            "Requirement already satisfied: scipy>=0.14 in /usr/local/lib/python3.6/dist-packages (from keras->keras-tcn==2.8.3) (1.4.1)\n",
            "Requirement already satisfied: six>=1.9.0 in /usr/local/lib/python3.6/dist-packages (from keras->keras-tcn==2.8.3) (1.12.0)\n",
            "Requirement already satisfied: pyyaml in /usr/local/lib/python3.6/dist-packages (from keras->keras-tcn==2.8.3) (3.13)\n",
            "Requirement already satisfied: keras-preprocessing>=1.1.0 in /usr/local/lib/python3.6/dist-packages (from keras->keras-tcn==2.8.3) (1.1.0)\n",
            "Requirement already satisfied: keras-applications>=1.0.8 in /usr/local/lib/python3.6/dist-packages (from keras->keras-tcn==2.8.3) (1.0.8)\n",
            "Installing collected packages: keras-tcn\n",
            "Successfully installed keras-tcn-2.8.3\n"
          ],
          "name": "stdout"
        }
      ]
    },
    {
      "cell_type": "code",
      "metadata": {
        "id": "pPexfZvANVks",
        "colab_type": "code",
        "outputId": "4fd8794c-c40b-48e9-f7cd-f0966fa494e9",
        "colab": {
          "base_uri": "https://localhost:8080/",
          "height": 121
        }
      },
      "source": [
        "from google.colab import drive\n",
        "drive.mount('/content/drive',force_remount=True)"
      ],
      "execution_count": 2,
      "outputs": [
        {
          "output_type": "stream",
          "text": [
            "Go to this URL in a browser: https://accounts.google.com/o/oauth2/auth?client_id=947318989803-6bn6qk8qdgf4n4g3pfee6491hc0brc4i.apps.googleusercontent.com&redirect_uri=urn%3aietf%3awg%3aoauth%3a2.0%3aoob&response_type=code&scope=email%20https%3a%2f%2fwww.googleapis.com%2fauth%2fdocs.test%20https%3a%2f%2fwww.googleapis.com%2fauth%2fdrive%20https%3a%2f%2fwww.googleapis.com%2fauth%2fdrive.photos.readonly%20https%3a%2f%2fwww.googleapis.com%2fauth%2fpeopleapi.readonly\n",
            "\n",
            "Enter your authorization code:\n",
            "··········\n",
            "Mounted at /content/drive\n"
          ],
          "name": "stdout"
        }
      ]
    },
    {
      "cell_type": "markdown",
      "metadata": {
        "id": "G6Q3msMuLDpE",
        "colab_type": "text"
      },
      "source": [
        "# Import lib"
      ]
    },
    {
      "cell_type": "code",
      "metadata": {
        "id": "MpTHlh_QLDL7",
        "colab_type": "code",
        "outputId": "644fa035-4406-44e0-c18b-3c7ac6f03a87",
        "colab": {
          "base_uri": "https://localhost:8080/",
          "height": 79
        }
      },
      "source": [
        "import pandas as pd\n",
        "from sklearn.preprocessing import LabelEncoder\n",
        "from keras.models import Sequential,Model\n",
        "from keras.layers import Embedding,CuDNNGRU,CuDNNLSTM,Dense,Dropout,Bidirectional,BatchNormalization,GlobalMaxPooling1D,Flatten, GlobalAveragePooling1D, MaxPooling1D,SpatialDropout1D,Input,Activation,concatenate,Conv1D\n",
        "from keras.optimizers import RMSprop,Adam,Adadelta\n",
        "from keras.initializers import Constant\n",
        "from sklearn.utils import class_weight\n",
        "from sklearn.metrics import classification_report,f1_score\n",
        "import keras\n",
        "import csv\n",
        "import collections\n",
        "import numpy as np\n",
        "from focal_loss import BinaryFocalLoss\n",
        "from sklearn.model_selection import StratifiedKFold\n",
        "from sklearn.model_selection import GridSearchCV\n",
        "from sklearn.linear_model import LogisticRegression\n",
        "from sklearn.feature_extraction.text import CountVectorizer\n",
        "from sklearn.pipeline import make_pipeline\n",
        "from keras import backend as K\n",
        "import tensorflow as tf\n",
        "tf.logging.set_verbosity(tf.logging.ERROR)\n"
      ],
      "execution_count": 3,
      "outputs": [
        {
          "output_type": "stream",
          "text": [
            "Using TensorFlow backend.\n"
          ],
          "name": "stderr"
        },
        {
          "output_type": "display_data",
          "data": {
            "text/html": [
              "<p style=\"color: red;\">\n",
              "The default version of TensorFlow in Colab will soon switch to TensorFlow 2.x.<br>\n",
              "We recommend you <a href=\"https://www.tensorflow.org/guide/migrate\" target=\"_blank\">upgrade</a> now \n",
              "or ensure your notebook will continue to use TensorFlow 1.x via the <code>%tensorflow_version 1.x</code> magic:\n",
              "<a href=\"https://colab.research.google.com/notebooks/tensorflow_version.ipynb\" target=\"_blank\">more info</a>.</p>\n"
            ],
            "text/plain": [
              "<IPython.core.display.HTML object>"
            ]
          },
          "metadata": {
            "tags": []
          }
        }
      ]
    },
    {
      "cell_type": "markdown",
      "metadata": {
        "id": "Udk8qWz-K4cx",
        "colab_type": "text"
      },
      "source": [
        "# Load data"
      ]
    },
    {
      "cell_type": "code",
      "metadata": {
        "id": "52k7345EK6kb",
        "colab_type": "code",
        "outputId": "c88f38a3-5b5b-4a79-e527-65c58f09864b",
        "colab": {
          "base_uri": "https://localhost:8080/",
          "height": 34
        }
      },
      "source": [
        "cd /content/drive/My Drive/dataset/OffenseEval2020/data/Turkish/"
      ],
      "execution_count": 4,
      "outputs": [
        {
          "output_type": "stream",
          "text": [
            "/content/drive/My Drive/dataset/OffenseEval2020/data/Turkish\n"
          ],
          "name": "stdout"
        }
      ]
    },
    {
      "cell_type": "code",
      "metadata": {
        "id": "MnI2RvjGK_Vw",
        "colab_type": "code",
        "outputId": "f33ab5af-9136-4b3f-a429-99e5d23a9dc8",
        "colab": {
          "base_uri": "https://localhost:8080/",
          "height": 67
        }
      },
      "source": [
        "ls"
      ],
      "execution_count": 5,
      "outputs": [
        {
          "output_type": "stream",
          "text": [
            "cc.tr.300.vec              offenseval-tr-testset-v1.tsv   tcn.npy\n",
            "cc.tr.300.vec.gz           offenseval-tr-training-v1.tsv\n",
            "offenseval-annotation.txt  readme-trainingset-tr.txt\n"
          ],
          "name": "stdout"
        }
      ]
    },
    {
      "cell_type": "code",
      "metadata": {
        "id": "Jnd4B-_5LApL",
        "colab_type": "code",
        "outputId": "3ffc8bf7-febe-4e60-dec0-ca120eefb02d",
        "colab": {
          "base_uri": "https://localhost:8080/",
          "height": 212
        }
      },
      "source": [
        "train=pd.read_csv( 'offenseval-tr-training-v1.tsv',sep='\\t',quoting=csv.QUOTE_NONE,encoding='utf-8')\n",
        "train.drop(train.tail(n=1).index,inplace=True)\n",
        "train[\"tweet\"]= train[\"tweet\"].str.replace('@USER', \"\") \n",
        "train['tweet']=train['tweet'].str.replace('\\d+', '')\n",
        "train['tweet']=train['tweet'].str.replace('URL', '')\n",
        "train[\"tweet\"]= train[\"tweet\"].str.lower()\n",
        "train=train.sample(frac=1)\n",
        "print(len(train))\n",
        "train.head()"
      ],
      "execution_count": 6,
      "outputs": [
        {
          "output_type": "stream",
          "text": [
            "31755\n"
          ],
          "name": "stdout"
        },
        {
          "output_type": "execute_result",
          "data": {
            "text/html": [
              "<div>\n",
              "<style scoped>\n",
              "    .dataframe tbody tr th:only-of-type {\n",
              "        vertical-align: middle;\n",
              "    }\n",
              "\n",
              "    .dataframe tbody tr th {\n",
              "        vertical-align: top;\n",
              "    }\n",
              "\n",
              "    .dataframe thead th {\n",
              "        text-align: right;\n",
              "    }\n",
              "</style>\n",
              "<table border=\"1\" class=\"dataframe\">\n",
              "  <thead>\n",
              "    <tr style=\"text-align: right;\">\n",
              "      <th></th>\n",
              "      <th>id</th>\n",
              "      <th>tweet</th>\n",
              "      <th>subtask_a</th>\n",
              "    </tr>\n",
              "  </thead>\n",
              "  <tbody>\n",
              "    <tr>\n",
              "      <th>27201</th>\n",
              "      <td>11608</td>\n",
              "      <td>anasayfama erkek terimleri düştü şimdi kusucam...</td>\n",
              "      <td>NOT</td>\n",
              "    </tr>\n",
              "    <tr>\n",
              "      <th>19899</th>\n",
              "      <td>15359</td>\n",
              "      <td>der. biz bu zihniyeti çok iyi tanıyoruz.  km ...</td>\n",
              "      <td>OFF</td>\n",
              "    </tr>\n",
              "    <tr>\n",
              "      <th>25974</th>\n",
              "      <td>32255</td>\n",
              "      <td>kaçırıyorsun uykularımı bu kadar çok görünme c...</td>\n",
              "      <td>NOT</td>\n",
              "    </tr>\n",
              "    <tr>\n",
              "      <th>754</th>\n",
              "      <td>20552</td>\n",
              "      <td>allah aşkına burada soru cevap yapmak niye ya ...</td>\n",
              "      <td>OFF</td>\n",
              "    </tr>\n",
              "    <tr>\n",
              "      <th>29368</th>\n",
              "      <td>20417</td>\n",
              "      <td>işınlanmayla anca gelirim yoksa yolda erime i...</td>\n",
              "      <td>NOT</td>\n",
              "    </tr>\n",
              "  </tbody>\n",
              "</table>\n",
              "</div>"
            ],
            "text/plain": [
              "          id                                              tweet subtask_a\n",
              "27201  11608  anasayfama erkek terimleri düştü şimdi kusucam...       NOT\n",
              "19899  15359   der. biz bu zihniyeti çok iyi tanıyoruz.  km ...       OFF\n",
              "25974  32255  kaçırıyorsun uykularımı bu kadar çok görünme c...       NOT\n",
              "754    20552  allah aşkına burada soru cevap yapmak niye ya ...       OFF\n",
              "29368  20417   işınlanmayla anca gelirim yoksa yolda erime i...       NOT"
            ]
          },
          "metadata": {
            "tags": []
          },
          "execution_count": 6
        }
      ]
    },
    {
      "cell_type": "code",
      "metadata": {
        "id": "JdwHh_q_LLus",
        "colab_type": "code",
        "outputId": "93edd3ff-0c49-4442-e90b-adb3f858282e",
        "colab": {
          "base_uri": "https://localhost:8080/",
          "height": 118
        }
      },
      "source": [
        "test=pd.read_csv( 'offenseval-tr-testset-v1.tsv',sep='\\t',quoting=csv.QUOTE_NONE,encoding='utf-8')\n",
        "test[\"tweet\"]= test[\"tweet\"].str.replace('@USER', \"\") \n",
        "test['tweet']=test['tweet'].str.replace('\\d+', '')\n",
        "test['tweet']=test['tweet'].str.replace('URL', '')\n",
        "test['tweet']=test['tweet'].str.lower()\n",
        "print(test.head())\n",
        "ids=test['id']\n",
        "test=test['tweet']\n"
      ],
      "execution_count": 7,
      "outputs": [
        {
          "output_type": "stream",
          "text": [
            "      id                                              tweet\n",
            "0  41993          sayın başkanım bu şekilde devam inşallah👏\n",
            "1  23000  herkes gevşekliği kadar duyar kasıyor,hayat bö...\n",
            "2  42478  olgun ilişkisi olan arkadaş size en güzel hedi...\n",
            "3  21748    burada atıp tutacağına o kötü koşullarda  ku...\n",
            "4  13607        i̇şte o onur dediğin sende yok sorun o işte\n"
          ],
          "name": "stdout"
        }
      ]
    },
    {
      "cell_type": "markdown",
      "metadata": {
        "id": "YUFczyikLeYO",
        "colab_type": "text"
      },
      "source": [
        "#Label Encoding"
      ]
    },
    {
      "cell_type": "code",
      "metadata": {
        "id": "CFPv0_zdLnlS",
        "colab_type": "code",
        "colab": {}
      },
      "source": [
        "labels=train['subtask_a']\n",
        "train=train['tweet']"
      ],
      "execution_count": 0,
      "outputs": []
    },
    {
      "cell_type": "code",
      "metadata": {
        "id": "w9PjbFwJLiNA",
        "colab_type": "code",
        "outputId": "2153dfa2-6408-4b52-8747-46fed33cbc3e",
        "colab": {
          "base_uri": "https://localhost:8080/",
          "height": 34
        }
      },
      "source": [
        "le=LabelEncoder()\n",
        "labels=le.fit_transform(labels)\n",
        "print(len(labels))"
      ],
      "execution_count": 9,
      "outputs": [
        {
          "output_type": "stream",
          "text": [
            "31755\n"
          ],
          "name": "stdout"
        }
      ]
    },
    {
      "cell_type": "markdown",
      "metadata": {
        "id": "Ek_ZUjDef7ZV",
        "colab_type": "text"
      },
      "source": [
        "# Common Parameters"
      ]
    },
    {
      "cell_type": "code",
      "metadata": {
        "id": "vdtjDLnOACbK",
        "colab_type": "code",
        "colab": {}
      },
      "source": [
        "import numpy as np\n",
        "class_weights = class_weight.compute_class_weight('balanced',np.unique(labels),labels)\n",
        "class_weights=dict(enumerate(class_weights))"
      ],
      "execution_count": 0,
      "outputs": []
    },
    {
      "cell_type": "markdown",
      "metadata": {
        "id": "i-IToeBciV1m",
        "colab_type": "text"
      },
      "source": [
        "## Cylic learning rate"
      ]
    },
    {
      "cell_type": "code",
      "metadata": {
        "id": "PIYW6ZAniXzU",
        "colab_type": "code",
        "colab": {}
      },
      "source": [
        "# https://www.kaggle.com/hireme/fun-api-keras-f1-metric-cyclical-learning-rate/code\n",
        "from keras.callbacks import Callback\n",
        "class CyclicLR(Callback):\n",
        "    \"\"\"This callback implements a cyclical learning rate policy (CLR).\n",
        "    The method cycles the learning rate between two boundaries with\n",
        "    some constant frequency, as detailed in this paper (https://arxiv.org/abs/1506.01186).\n",
        "    The amplitude of the cycle can be scaled on a per-iteration or \n",
        "    per-cycle basis.\n",
        "    This class has three built-in policies, as put forth in the paper.\n",
        "    \"triangular\":\n",
        "        A basic triangular cycle w/ no amplitude scaling.\n",
        "    \"triangular2\":\n",
        "        A basic triangular cycle that scales initial amplitude by half each cycle.\n",
        "    \"exp_range\":\n",
        "        A cycle that scales initial amplitude by gamma**(cycle iterations) at each \n",
        "        cycle iteration.\n",
        "    For more detail, please see paper.\n",
        "    \n",
        "    # Example\n",
        "        ```python\n",
        "            clr = CyclicLR(base_lr=0.001, max_lr=0.006,\n",
        "                                step_size=2000., mode='triangular')\n",
        "            model.fit(X_train, Y_train, callbacks=[clr])\n",
        "        ```\n",
        "    \n",
        "    Class also supports custom scaling functions:\n",
        "        ```python\n",
        "            clr_fn = lambda x: 0.5*(1+np.sin(x*np.pi/2.))\n",
        "            clr = CyclicLR(base_lr=0.001, max_lr=0.006,\n",
        "                                step_size=2000., scale_fn=clr_fn,\n",
        "                                scale_mode='cycle')\n",
        "            model.fit(X_train, Y_train, callbacks=[clr])\n",
        "        ```    \n",
        "    # Arguments\n",
        "        base_lr: initial learning rate which is the\n",
        "            lower boundary in the cycle.\n",
        "        max_lr: upper boundary in the cycle. Functionally,\n",
        "            it defines the cycle amplitude (max_lr - base_lr).\n",
        "            The lr at any cycle is the sum of base_lr\n",
        "            and some scaling of the amplitude; therefore \n",
        "            max_lr may not actually be reached depending on\n",
        "            scaling function.\n",
        "        step_size: number of training iterations per\n",
        "            half cycle. Authors suggest setting step_size\n",
        "            2-8 x training iterations in epoch.\n",
        "        mode: one of {triangular, triangular2, exp_range}.\n",
        "            Default 'triangular'.\n",
        "            Values correspond to policies detailed above.\n",
        "            If scale_fn is not None, this argument is ignored.\n",
        "        gamma: constant in 'exp_range' scaling function:\n",
        "            gamma**(cycle iterations)\n",
        "        scale_fn: Custom scaling policy defined by a single\n",
        "            argument lambda function, where \n",
        "            0 <= scale_fn(x) <= 1 for all x >= 0.\n",
        "            mode paramater is ignored \n",
        "        scale_mode: {'cycle', 'iterations'}.\n",
        "            Defines whether scale_fn is evaluated on \n",
        "            cycle number or cycle iterations (training\n",
        "            iterations since start of cycle). Default is 'cycle'.\n",
        "    \"\"\"\n",
        "\n",
        "    def __init__(self, base_lr=0.001, max_lr=0.006, step_size=2000., mode='triangular',\n",
        "                 gamma=1., scale_fn=None, scale_mode='cycle'):\n",
        "        super(CyclicLR, self).__init__()\n",
        "\n",
        "        self.base_lr = base_lr\n",
        "        self.max_lr = max_lr\n",
        "        self.step_size = step_size\n",
        "        self.mode = mode\n",
        "        self.gamma = gamma\n",
        "        if scale_fn == None:\n",
        "            if self.mode == 'triangular':\n",
        "                self.scale_fn = lambda x: 1.\n",
        "                self.scale_mode = 'cycle'\n",
        "            elif self.mode == 'triangular2':\n",
        "                self.scale_fn = lambda x: 1/(2.**(x-1))\n",
        "                self.scale_mode = 'cycle'\n",
        "            elif self.mode == 'exp_range':\n",
        "                self.scale_fn = lambda x: gamma**(x)\n",
        "                self.scale_mode = 'iterations'\n",
        "        else:\n",
        "            self.scale_fn = scale_fn\n",
        "            self.scale_mode = scale_mode\n",
        "        self.clr_iterations = 0.\n",
        "        self.trn_iterations = 0.\n",
        "        self.history = {}\n",
        "\n",
        "        self._reset()\n",
        "\n",
        "    def _reset(self, new_base_lr=None, new_max_lr=None,\n",
        "               new_step_size=None):\n",
        "        \"\"\"Resets cycle iterations.\n",
        "        Optional boundary/step size adjustment.\n",
        "        \"\"\"\n",
        "        if new_base_lr != None:\n",
        "            self.base_lr = new_base_lr\n",
        "        if new_max_lr != None:\n",
        "            self.max_lr = new_max_lr\n",
        "        if new_step_size != None:\n",
        "            self.step_size = new_step_size\n",
        "        self.clr_iterations = 0.\n",
        "        \n",
        "    def clr(self):\n",
        "        cycle = np.floor(1+self.clr_iterations/(2*self.step_size))\n",
        "        x = np.abs(self.clr_iterations/self.step_size - 2*cycle + 1)\n",
        "        if self.scale_mode == 'cycle':\n",
        "            return self.base_lr + (self.max_lr-self.base_lr)*np.maximum(0, (1-x))*self.scale_fn(cycle)\n",
        "        else:\n",
        "            return self.base_lr + (self.max_lr-self.base_lr)*np.maximum(0, (1-x))*self.scale_fn(self.clr_iterations)\n",
        "        \n",
        "    def on_train_begin(self, logs={}):\n",
        "        logs = logs or {}\n",
        "\n",
        "        if self.clr_iterations == 0:\n",
        "            K.set_value(self.model.optimizer.lr, self.base_lr)\n",
        "        else:\n",
        "            K.set_value(self.model.optimizer.lr, self.clr())        \n",
        "            \n",
        "    def on_batch_end(self, epoch, logs=None):\n",
        "        \n",
        "        logs = logs or {}\n",
        "        self.trn_iterations += 1\n",
        "        self.clr_iterations += 1\n",
        "\n",
        "        self.history.setdefault('lr', []).append(K.get_value(self.model.optimizer.lr))\n",
        "        self.history.setdefault('iterations', []).append(self.trn_iterations)\n",
        "\n",
        "        for k, v in logs.items():\n",
        "            self.history.setdefault(k, []).append(v)\n",
        "        \n",
        "        K.set_value(self.model.optimizer.lr, self.clr())"
      ],
      "execution_count": 0,
      "outputs": []
    },
    {
      "cell_type": "code",
      "metadata": {
        "id": "DIcxIjeYjHyo",
        "colab_type": "code",
        "colab": {}
      },
      "source": [
        "clr = CyclicLR(base_lr=0.001, max_lr=0.005,\n",
        "                        step_size=4., mode='exp_range',\n",
        "                        gamma=0.99994)"
      ],
      "execution_count": 0,
      "outputs": []
    },
    {
      "cell_type": "markdown",
      "metadata": {
        "id": "NAv_EEaQLXtY",
        "colab_type": "text"
      },
      "source": [
        "# Tokenize data"
      ]
    },
    {
      "cell_type": "code",
      "metadata": {
        "id": "QomCkNlRLHPG",
        "colab_type": "code",
        "colab": {}
      },
      "source": [
        "from keras.preprocessing.text import Tokenizer\n",
        "from keras.preprocessing import sequence\n",
        "max_words = 10000 #frequency of words to be kept\n",
        "max_len = 200\n",
        "\n",
        "tokenize = Tokenizer(num_words=max_words)\n",
        "tokenize.fit_on_texts(train)\n",
        "sequences = tokenize.texts_to_sequences(train)\n",
        "word_index = tokenize.word_index\n",
        "sequences_matrix = sequence.pad_sequences(sequences,maxlen=max_len,padding='post')"
      ],
      "execution_count": 0,
      "outputs": []
    },
    {
      "cell_type": "code",
      "metadata": {
        "id": "Og1W2rCOLs4w",
        "colab_type": "code",
        "outputId": "04df6707-fac0-4314-a854-2cdcbc9a62a1",
        "colab": {
          "base_uri": "https://localhost:8080/",
          "height": 34
        }
      },
      "source": [
        "len(sequences_matrix),len(labels)"
      ],
      "execution_count": 14,
      "outputs": [
        {
          "output_type": "execute_result",
          "data": {
            "text/plain": [
              "(31755, 31755)"
            ]
          },
          "metadata": {
            "tags": []
          },
          "execution_count": 14
        }
      ]
    },
    {
      "cell_type": "code",
      "metadata": {
        "id": "I4kzu1RxLyGk",
        "colab_type": "code",
        "outputId": "24422791-3194-40d7-d834-09bc650aa160",
        "colab": {
          "base_uri": "https://localhost:8080/",
          "height": 34
        }
      },
      "source": [
        "num_words = min(max_words, len(word_index)) + 1\n",
        "print(num_words)"
      ],
      "execution_count": 15,
      "outputs": [
        {
          "output_type": "stream",
          "text": [
            "10001\n"
          ],
          "name": "stdout"
        }
      ]
    },
    {
      "cell_type": "code",
      "metadata": {
        "id": "4i7WSY3lMmdp",
        "colab_type": "code",
        "colab": {}
      },
      "source": [
        "test_sequences = tokenize.texts_to_sequences(test)\n",
        "X_test_sequences = sequence.pad_sequences(test_sequences,maxlen=max_len,padding='post')"
      ],
      "execution_count": 0,
      "outputs": []
    },
    {
      "cell_type": "code",
      "metadata": {
        "id": "nRZxav1WNle-",
        "colab_type": "code",
        "outputId": "aae2118f-a13d-4832-8581-21c3c503ade8",
        "colab": {
          "base_uri": "https://localhost:8080/",
          "height": 34
        }
      },
      "source": [
        "len(X_test_sequences)"
      ],
      "execution_count": 17,
      "outputs": [
        {
          "output_type": "execute_result",
          "data": {
            "text/plain": [
              "3528"
            ]
          },
          "metadata": {
            "tags": []
          },
          "execution_count": 17
        }
      ]
    },
    {
      "cell_type": "markdown",
      "metadata": {
        "id": "SpzUIu4iL0PO",
        "colab_type": "text"
      },
      "source": [
        "# Embeddings"
      ]
    },
    {
      "cell_type": "code",
      "metadata": {
        "id": "o3UFPJAWL10_",
        "colab_type": "code",
        "colab": {}
      },
      "source": [
        "embed_size=300\n",
        "def get_coefs(word,*arr):\n",
        "    return word, np.asarray(arr, dtype='float32')\n",
        "\n",
        "def build_matrix(embedding_path, word_index):\n",
        "    embedding_index = dict(get_coefs(*o.strip().split(\" \")) for o in open(embedding_path))\n",
        "\n",
        "    nb_words = min(max_words, len(word_index))\n",
        "    embedding_matrix = np.zeros((nb_words + 1, embed_size))\n",
        "    for word, i in word_index.items():\n",
        "        if i >= max_words:\n",
        "            continue\n",
        "        embedding_vector = embedding_index.get(word)\n",
        "        if embedding_vector is not None:\n",
        "            embedding_matrix[i] = embedding_vector\n",
        "    return embedding_matrix"
      ],
      "execution_count": 0,
      "outputs": []
    },
    {
      "cell_type": "code",
      "metadata": {
        "id": "zTviPXodLzRW",
        "colab_type": "code",
        "outputId": "bef370ec-90a6-482c-c549-3052770b8f94",
        "colab": {
          "base_uri": "https://localhost:8080/",
          "height": 34
        }
      },
      "source": [
        "embeddings=build_matrix('cc.tr.300.vec', word_index)\n",
        "embeddings.shape"
      ],
      "execution_count": 19,
      "outputs": [
        {
          "output_type": "execute_result",
          "data": {
            "text/plain": [
              "(10001, 300)"
            ]
          },
          "metadata": {
            "tags": []
          },
          "execution_count": 19
        }
      ]
    },
    {
      "cell_type": "markdown",
      "metadata": {
        "id": "e8_AdRhffkS3",
        "colab_type": "text"
      },
      "source": [
        "# Base Models"
      ]
    },
    {
      "cell_type": "code",
      "metadata": {
        "id": "DaShFhtgJ_Ef",
        "colab_type": "code",
        "outputId": "3ae0c90f-a566-495d-b695-ed492ada57fd",
        "colab": {
          "base_uri": "https://localhost:8080/",
          "height": 34
        }
      },
      "source": [
        "train.shape,labels.shape"
      ],
      "execution_count": 20,
      "outputs": [
        {
          "output_type": "execute_result",
          "data": {
            "text/plain": [
              "((31755,), (31755,))"
            ]
          },
          "metadata": {
            "tags": []
          },
          "execution_count": 20
        }
      ]
    },
    {
      "cell_type": "markdown",
      "metadata": {
        "id": "jvXD0v5mfm7M",
        "colab_type": "text"
      },
      "source": [
        "## Count Vectorizer"
      ]
    },
    {
      "cell_type": "code",
      "metadata": {
        "id": "7blhzyaD-xvK",
        "colab_type": "code",
        "colab": {}
      },
      "source": [
        "\n",
        "def logistic_param_selection(X, y, func,nfolds):\n",
        "    C= [7,8,9,10,12,15,20,25]\n",
        "    param_grid = {'C': C}\n",
        "    grid_search = GridSearchCV(make_pipeline(func, LogisticRegression(solver='lbfgs',max_iter=500,class_weight=class_weights)),\n",
        "                    param_grid={'logisticregression__C':[10,12,15,20,25]}, cv=nfolds,scoring='f1_macro')\n",
        "    grid_search.fit(X, y)\n",
        "    return grid_search.best_score_,grid_search.best_params_\n",
        "\n"
      ],
      "execution_count": 0,
      "outputs": []
    },
    {
      "cell_type": "code",
      "metadata": {
        "id": "lHFZoqkGI79e",
        "colab_type": "code",
        "outputId": "8670ea0a-3d6b-4e8b-cbec-0bc520f2e68a",
        "colab": {
          "base_uri": "https://localhost:8080/",
          "height": 34
        }
      },
      "source": [
        "cv_score,c=logistic_param_selection(train,labels,CountVectorizer(),5)\n",
        "cv_score"
      ],
      "execution_count": 22,
      "outputs": [
        {
          "output_type": "execute_result",
          "data": {
            "text/plain": [
              "0.7118123864066545"
            ]
          },
          "metadata": {
            "tags": []
          },
          "execution_count": 22
        }
      ]
    },
    {
      "cell_type": "code",
      "metadata": {
        "id": "FiDB13I898UU",
        "colab_type": "code",
        "colab": {}
      },
      "source": [
        "count_vectorizer = CountVectorizer()\n",
        "count_vectorizer.fit(train)\n",
        "X_train_cv = count_vectorizer.transform(train)\n"
      ],
      "execution_count": 0,
      "outputs": []
    },
    {
      "cell_type": "code",
      "metadata": {
        "id": "BFClZRFJGDum",
        "colab_type": "code",
        "colab": {}
      },
      "source": [
        "X_test_cv=  count_vectorizer.transform(test)"
      ],
      "execution_count": 0,
      "outputs": []
    },
    {
      "cell_type": "code",
      "metadata": {
        "id": "bwXHpKqo-cFB",
        "colab_type": "code",
        "outputId": "fb92f84c-485d-4561-d467-99d3e22f9b44",
        "colab": {
          "base_uri": "https://localhost:8080/",
          "height": 118
        }
      },
      "source": [
        "cv_classifier = LogisticRegression(solver='lbfgs',C=c['logisticregression__C'],max_iter=500,class_weight=class_weights)\n",
        "cv_classifier.fit(X_train_cv, labels)"
      ],
      "execution_count": 25,
      "outputs": [
        {
          "output_type": "execute_result",
          "data": {
            "text/plain": [
              "LogisticRegression(C=10,\n",
              "                   class_weight={0: 0.6196339369341243, 1: 2.5897080411025932},\n",
              "                   dual=False, fit_intercept=True, intercept_scaling=1,\n",
              "                   l1_ratio=None, max_iter=500, multi_class='auto', n_jobs=None,\n",
              "                   penalty='l2', random_state=None, solver='lbfgs', tol=0.0001,\n",
              "                   verbose=0, warm_start=False)"
            ]
          },
          "metadata": {
            "tags": []
          },
          "execution_count": 25
        }
      ]
    },
    {
      "cell_type": "code",
      "metadata": {
        "id": "fBx50ckVP6iP",
        "colab_type": "code",
        "colab": {}
      },
      "source": [
        "cv_test=cv_classifier.predict_proba(X_test_cv)[:,1]"
      ],
      "execution_count": 0,
      "outputs": []
    },
    {
      "cell_type": "markdown",
      "metadata": {
        "id": "hJDyK1lahqqG",
        "colab_type": "text"
      },
      "source": [
        "## TF IDF word vectorizer"
      ]
    },
    {
      "cell_type": "code",
      "metadata": {
        "id": "Gz1WZZEufmEq",
        "colab_type": "code",
        "colab": {}
      },
      "source": [
        "from sklearn.feature_extraction.text import TfidfVectorizer\n",
        "word_vectorizer = TfidfVectorizer(\n",
        "    sublinear_tf=True,\n",
        "    strip_accents='unicode',\n",
        "    analyzer='word',\n",
        "    token_pattern=r'\\w{1,}',\n",
        "    ngram_range=(1, 4),\n",
        "    max_features=10000)\n",
        "word_vectorizer.fit(train)\n",
        "train_word_features = word_vectorizer.transform(train)\n"
      ],
      "execution_count": 0,
      "outputs": []
    },
    {
      "cell_type": "code",
      "metadata": {
        "id": "48SAh1_JGJFz",
        "colab_type": "code",
        "colab": {}
      },
      "source": [
        "test_word_features = word_vectorizer.transform(test)"
      ],
      "execution_count": 0,
      "outputs": []
    },
    {
      "cell_type": "code",
      "metadata": {
        "id": "M8hxtqPQ_KxI",
        "colab_type": "code",
        "outputId": "4f747a37-e644-42d4-cf0f-575a6fd2c2ef",
        "colab": {
          "base_uri": "https://localhost:8080/",
          "height": 34
        }
      },
      "source": [
        "tfw_score,c=logistic_param_selection(train,labels,word_vectorizer,5)\n",
        "tfw_score"
      ],
      "execution_count": 29,
      "outputs": [
        {
          "output_type": "execute_result",
          "data": {
            "text/plain": [
              "0.687353952843696"
            ]
          },
          "metadata": {
            "tags": []
          },
          "execution_count": 29
        }
      ]
    },
    {
      "cell_type": "code",
      "metadata": {
        "id": "04JmMwoEh4-d",
        "colab_type": "code",
        "outputId": "0ec58da1-8f4b-4a97-b7cd-08eb99cc9e5b",
        "colab": {
          "base_uri": "https://localhost:8080/",
          "height": 101
        }
      },
      "source": [
        "tfw_classifier = LogisticRegression(solver='lbfgs',C=c['logisticregression__C'],max_iter=500)\n",
        "tfw_classifier.fit(train_word_features, labels)\n"
      ],
      "execution_count": 30,
      "outputs": [
        {
          "output_type": "execute_result",
          "data": {
            "text/plain": [
              "LogisticRegression(C=10, class_weight=None, dual=False, fit_intercept=True,\n",
              "                   intercept_scaling=1, l1_ratio=None, max_iter=500,\n",
              "                   multi_class='auto', n_jobs=None, penalty='l2',\n",
              "                   random_state=None, solver='lbfgs', tol=0.0001, verbose=0,\n",
              "                   warm_start=False)"
            ]
          },
          "metadata": {
            "tags": []
          },
          "execution_count": 30
        }
      ]
    },
    {
      "cell_type": "code",
      "metadata": {
        "id": "nQRy9oaBQIfV",
        "colab_type": "code",
        "colab": {}
      },
      "source": [
        "tfw_test = tfw_classifier.predict_proba(test_word_features)[:,1]"
      ],
      "execution_count": 0,
      "outputs": []
    },
    {
      "cell_type": "markdown",
      "metadata": {
        "id": "fNSvwaG1ioq0",
        "colab_type": "text"
      },
      "source": [
        "## TF IDF char vectorizer"
      ]
    },
    {
      "cell_type": "code",
      "metadata": {
        "id": "a_kqct6jiBq1",
        "colab_type": "code",
        "colab": {}
      },
      "source": [
        "char_vectorizer = TfidfVectorizer(\n",
        "    sublinear_tf=True,\n",
        "    strip_accents='unicode',\n",
        "    analyzer='char',\n",
        "    ngram_range=(1, 6),\n",
        "    max_features=30000)\n",
        "char_vectorizer.fit(train)\n",
        "train_char_features = char_vectorizer.transform(train)\n"
      ],
      "execution_count": 0,
      "outputs": []
    },
    {
      "cell_type": "code",
      "metadata": {
        "id": "Fa7j8ty4GL5M",
        "colab_type": "code",
        "colab": {}
      },
      "source": [
        "test_char_features = char_vectorizer.transform(test)"
      ],
      "execution_count": 0,
      "outputs": []
    },
    {
      "cell_type": "code",
      "metadata": {
        "id": "rBU8cBQVCiAI",
        "colab_type": "code",
        "outputId": "e8ad868e-68c2-4f11-da9d-04b9c153cc46",
        "colab": {
          "base_uri": "https://localhost:8080/",
          "height": 34
        }
      },
      "source": [
        "tfc_score,c=logistic_param_selection(train,labels,char_vectorizer,5)\n",
        "tfc_score"
      ],
      "execution_count": 34,
      "outputs": [
        {
          "output_type": "execute_result",
          "data": {
            "text/plain": [
              "0.7319249634827353"
            ]
          },
          "metadata": {
            "tags": []
          },
          "execution_count": 34
        }
      ]
    },
    {
      "cell_type": "code",
      "metadata": {
        "id": "cYhzRPO0iRMb",
        "colab_type": "code",
        "outputId": "d1061eab-d453-4b24-fe4b-b23f568387d3",
        "colab": {
          "base_uri": "https://localhost:8080/",
          "height": 101
        }
      },
      "source": [
        "tfc_classifier = LogisticRegression(solver='lbfgs',C=c['logisticregression__C'],max_iter=500)\n",
        "tfc_classifier.fit(train_char_features, labels)\n"
      ],
      "execution_count": 35,
      "outputs": [
        {
          "output_type": "execute_result",
          "data": {
            "text/plain": [
              "LogisticRegression(C=10, class_weight=None, dual=False, fit_intercept=True,\n",
              "                   intercept_scaling=1, l1_ratio=None, max_iter=500,\n",
              "                   multi_class='auto', n_jobs=None, penalty='l2',\n",
              "                   random_state=None, solver='lbfgs', tol=0.0001, verbose=0,\n",
              "                   warm_start=False)"
            ]
          },
          "metadata": {
            "tags": []
          },
          "execution_count": 35
        }
      ]
    },
    {
      "cell_type": "code",
      "metadata": {
        "id": "tpkjinLBXX7j",
        "colab_type": "code",
        "colab": {}
      },
      "source": [
        "tfc_test = tfc_classifier.predict_proba(test_char_features)[:,1]"
      ],
      "execution_count": 0,
      "outputs": []
    },
    {
      "cell_type": "markdown",
      "metadata": {
        "id": "I6sOo5OtMQnL",
        "colab_type": "text"
      },
      "source": [
        "# Models"
      ]
    },
    {
      "cell_type": "markdown",
      "metadata": {
        "id": "jv2yPgQWL9de",
        "colab_type": "text"
      },
      "source": [
        "##GRU"
      ]
    },
    {
      "cell_type": "code",
      "metadata": {
        "id": "XXvqlGD0L-sx",
        "colab_type": "code",
        "colab": {}
      },
      "source": [
        "def model_gru():\n",
        "  inp = Input(shape=(max_len,))\n",
        "  x = Embedding(num_words,embed_size,embeddings_initializer=Constant(embeddings),input_length=max_len,trainable=False)(inp)\n",
        "  x = SpatialDropout1D(0.1)(x)\n",
        "  x = Bidirectional(CuDNNLSTM(50, return_sequences=True))(x)\n",
        "  x, x_h, x_c = Bidirectional(CuDNNGRU(50, return_sequences=True, return_state = True))(x)\n",
        "  avg_pool = GlobalAveragePooling1D()(x)\n",
        "  max_pool = GlobalMaxPooling1D()(x)\n",
        "  conc = concatenate([avg_pool, x_h, max_pool])\n",
        "  outp = Dense(1, activation=\"sigmoid\")(conc)    \n",
        "  model = Model(inputs=inp, outputs=outp)\n",
        "  model.compile(loss=BinaryFocalLoss(gamma=2), optimizer='adam', metrics=['accuracy'])\n",
        "  return model"
      ],
      "execution_count": 0,
      "outputs": []
    },
    {
      "cell_type": "markdown",
      "metadata": {
        "id": "7t_Ph6qafOQK",
        "colab_type": "text"
      },
      "source": [
        "## GRU attention"
      ]
    },
    {
      "cell_type": "code",
      "metadata": {
        "id": "KyKea_xMkrmP",
        "colab_type": "code",
        "colab": {}
      },
      "source": [
        "#https://github.com/zake7749/DeepToxic\n",
        "from keras.layers import Layer,Lambda\n",
        "from keras import initializers\n",
        "from keras.engine import InputSpec, Layer\n",
        "from keras import backend as K\n",
        "\n",
        "class AttentionWeightedAverage(Layer):\n",
        "    \"\"\"\n",
        "    Computes a weighted average of the different channels across timesteps.\n",
        "    Uses 1 parameter pr. channel to compute the attention value for a single timestep.\n",
        "    \"\"\"\n",
        "\n",
        "    def __init__(self, return_attention=False, **kwargs):\n",
        "        self.init = initializers.get('uniform')\n",
        "        self.supports_masking = True\n",
        "        self.return_attention = return_attention\n",
        "        super(AttentionWeightedAverage, self).__init__(** kwargs)\n",
        "\n",
        "    def build(self, input_shape):\n",
        "        self.input_spec = [InputSpec(ndim=3)]\n",
        "        assert len(input_shape) == 3\n",
        "\n",
        "        self.W = self.add_weight(shape=(input_shape[2], 1),\n",
        "                                 name='{}_W'.format(self.name),\n",
        "                                 initializer=self.init)\n",
        "        self.trainable_weights = [self.W]\n",
        "        super(AttentionWeightedAverage, self).build(input_shape)\n",
        "\n",
        "    def call(self, x, mask=None):\n",
        "        # computes a probability distribution over the timesteps\n",
        "        # uses 'max trick' for numerical stability\n",
        "        # reshape is done to avoid issue with Tensorflow\n",
        "        # and 1-dimensional weights\n",
        "        logits = K.dot(x, self.W)\n",
        "        x_shape = K.shape(x)\n",
        "        logits = K.reshape(logits, (x_shape[0], x_shape[1]))\n",
        "        ai = K.exp(logits - K.max(logits, axis=-1, keepdims=True))\n",
        "\n",
        "        # masked timesteps have zero weight\n",
        "        if mask is not None:\n",
        "            mask = K.cast(mask, K.floatx())\n",
        "            ai = ai * mask\n",
        "        att_weights = ai / (K.sum(ai, axis=1, keepdims=True) + K.epsilon())\n",
        "        weighted_input = x * K.expand_dims(att_weights)\n",
        "        result = K.sum(weighted_input, axis=1)\n",
        "        if self.return_attention:\n",
        "            return [result, att_weights]\n",
        "        return result\n",
        "\n",
        "    def get_output_shape_for(self, input_shape):\n",
        "        return self.compute_output_shape(input_shape)\n",
        "\n",
        "    def compute_output_shape(self, input_shape):\n",
        "        output_len = input_shape[2]\n",
        "        if self.return_attention:\n",
        "            return [(input_shape[0], output_len), (input_shape[0], input_shape[1])]\n",
        "        return (input_shape[0], output_len)\n",
        "\n",
        "    def compute_mask(self, input, input_mask=None):\n",
        "        if isinstance(input_mask, list):\n",
        "            return [None] * len(input_mask)\n",
        "        else:\n",
        "            return None"
      ],
      "execution_count": 0,
      "outputs": []
    },
    {
      "cell_type": "code",
      "metadata": {
        "id": "hovBxS5jfRbn",
        "colab_type": "code",
        "colab": {}
      },
      "source": [
        "def model_gru_attn():\n",
        "  inp = Input(shape=(max_len,))\n",
        "  x = Embedding(num_words,embed_size,embeddings_initializer=Constant(embeddings),input_length=max_len,trainable=False)(inp)\n",
        "  x = SpatialDropout1D(0.1)(x)\n",
        "  x = Bidirectional(CuDNNLSTM(50, return_sequences=True))(x)\n",
        "  x = Bidirectional(CuDNNGRU(50, return_sequences=True))(x)\n",
        "  avg_pool = GlobalAveragePooling1D()(x)\n",
        "  max_pool = GlobalMaxPooling1D()(x)\n",
        "  last = Lambda(lambda t: t[:, -1])(x)\n",
        "  attn = AttentionWeightedAverage()(x)\n",
        "  conc = concatenate([avg_pool,  max_pool,last,attn])\n",
        "  outp = Dense(1, activation=\"sigmoid\")(conc)    \n",
        "  model = Model(inputs=inp, outputs=outp)\n",
        "  model.compile(loss=BinaryFocalLoss(gamma=2), optimizer='adam', metrics=['accuracy'])\n",
        "  return model"
      ],
      "execution_count": 0,
      "outputs": []
    },
    {
      "cell_type": "markdown",
      "metadata": {
        "id": "I34DRPLqTVru",
        "colab_type": "text"
      },
      "source": [
        "##TCN"
      ]
    },
    {
      "cell_type": "code",
      "metadata": {
        "id": "e-euqTedTWjY",
        "colab_type": "code",
        "colab": {}
      },
      "source": [
        "from tcn import TCN\n",
        "\n",
        "def wave_net_activation(x):\n",
        "    # type: (Layer) -> Layer\n",
        "    \"\"\"This method defines the activation used for WaveNet\n",
        "    described in https://deepmind.com/blog/wavenet-generative-model-raw-audio/\n",
        "    Args:\n",
        "        x: The layer we want to apply the activation to\n",
        "    Returns:\n",
        "        A new layer with the wavenet activation applied\n",
        "    \"\"\"\n",
        "    tanh_out = Activation('tanh')(x)\n",
        "    sigm_out = Activation('sigmoid')(x)\n",
        "    return keras.layers.multiply([tanh_out, sigm_out])\n",
        "\n",
        "def model_tcn(embedding_matrix):\n",
        "    \n",
        "    inp = Input(shape=(max_len,))\n",
        "    x = Embedding(num_words,embed_size,embeddings_initializer=Constant(embeddings),input_length=max_len,trainable=False)(inp)\n",
        "    x = SpatialDropout1D(0.1)(x)\n",
        "    x = TCN(128,dilations = [1, 2, 4], return_sequences=True ,name = 'tnc1')(x)\n",
        "    x = wave_net_activation(x)\n",
        "    x = TCN(64,dilations = [1, 2, 4], return_sequences=True, name = 'tnc2')(x)\n",
        "    x = wave_net_activation(x)\n",
        "    #x = TCN(32,dilations = [1, 2, 4], return_sequences=True, activation = 'wavenet',name = 'tnc3')(x)\n",
        "    avg_pool = GlobalAveragePooling1D()(x)\n",
        "    max_pool = GlobalMaxPooling1D()(x)\n",
        "    \n",
        "    conc = concatenate([avg_pool, max_pool])\n",
        "    conc = Dense(64, activation=\"relu\")(conc)\n",
        "    conc = Dense(32, activation=\"relu\")(conc)\n",
        "\n",
        "    conc = Dropout(0.1)(conc)\n",
        "    outp = Dense(1, activation=\"sigmoid\")(conc)    \n",
        "    model = Model(inputs=inp, outputs=outp)\n",
        "    model.compile(loss=BinaryFocalLoss(gamma=2), optimizer='adam', metrics=['accuracy'])\n",
        "    \n",
        "    return model"
      ],
      "execution_count": 0,
      "outputs": []
    },
    {
      "cell_type": "code",
      "metadata": {
        "id": "3wLyuzTtMErl",
        "colab_type": "code",
        "colab": {}
      },
      "source": [
        ""
      ],
      "execution_count": 0,
      "outputs": []
    },
    {
      "cell_type": "code",
      "metadata": {
        "id": "6d55WTNmBa5w",
        "colab_type": "code",
        "colab": {}
      },
      "source": [
        ""
      ],
      "execution_count": 0,
      "outputs": []
    },
    {
      "cell_type": "markdown",
      "metadata": {
        "id": "mNc6xxspBcTG",
        "colab_type": "text"
      },
      "source": [
        "##KIM"
      ]
    },
    {
      "cell_type": "code",
      "metadata": {
        "id": "nAgtTt9IBfMQ",
        "colab_type": "code",
        "colab": {}
      },
      "source": [
        "conv_filters=128\n",
        "def model_kim():\n",
        "  inp = Input(shape=(max_len,))\n",
        "  emb = Embedding(num_words,embed_size,embeddings_initializer=Constant(embeddings),input_length=max_len,trainable=False)(inp)\n",
        "  # Specify each convolution layer and their kernel siz i.e. n-grams \n",
        "  conv1_1 = Conv1D(filters=conv_filters, kernel_size=3)(emb)\n",
        "  btch1_1 = BatchNormalization()(conv1_1)\n",
        "  drp1_1  = Dropout(0.2)(btch1_1)\n",
        "  actv1_1 = Activation('relu')(drp1_1)\n",
        "  glmp1_1 = GlobalMaxPooling1D()(actv1_1)\n",
        "\n",
        "  conv1_2 = Conv1D(filters=conv_filters, kernel_size=4)(emb)\n",
        "  btch1_2 = BatchNormalization()(conv1_2)\n",
        "  drp1_2  = Dropout(0.2)(btch1_2)\n",
        "  actv1_2 = Activation('relu')(drp1_2)\n",
        "  glmp1_2 = GlobalMaxPooling1D()(actv1_2)\n",
        "\n",
        "  conv1_3 = Conv1D(filters=conv_filters, kernel_size=5)(emb)\n",
        "  btch1_3 = BatchNormalization()(conv1_3)\n",
        "  drp1_3  = Dropout(0.2)(btch1_3)\n",
        "  actv1_3 = Activation('relu')(drp1_3)\n",
        "  glmp1_3 = GlobalMaxPooling1D()(actv1_3)\n",
        "\n",
        "  conv1_4 = Conv1D(filters=conv_filters, kernel_size=6)(emb)\n",
        "  btch1_4 = BatchNormalization()(conv1_4)\n",
        "  drp1_4  = Dropout(0.2)(btch1_4)\n",
        "  actv1_4 = Activation('relu')(drp1_4)\n",
        "  glmp1_4 = GlobalMaxPooling1D()(actv1_4)\n",
        "\n",
        "  # Gather all convolution layers\n",
        "  cnct = concatenate([glmp1_1, glmp1_2, glmp1_3, glmp1_4], axis=1)\n",
        "  drp1 = Dropout(0.2)(cnct)\n",
        "\n",
        "  dns1  = Dense(32, activation='relu')(drp1)\n",
        "  btch1 = BatchNormalization()(dns1)\n",
        "  drp2  = Dropout(0.2)(btch1)\n",
        "\n",
        "  out = Dense(1, activation='sigmoid')(drp2)   \n",
        "  model = Model(inputs=inp, outputs=out)\n",
        "  model.compile(loss=BinaryFocalLoss(gamma=2), optimizer='adam', metrics=['accuracy'])\n",
        "  return model\n"
      ],
      "execution_count": 0,
      "outputs": []
    },
    {
      "cell_type": "markdown",
      "metadata": {
        "id": "nJCuBpqkNx8L",
        "colab_type": "text"
      },
      "source": [
        "# Train model"
      ]
    },
    {
      "cell_type": "markdown",
      "metadata": {
        "id": "oUygUis5N2yN",
        "colab_type": "text"
      },
      "source": [
        "##GRU"
      ]
    },
    {
      "cell_type": "code",
      "metadata": {
        "id": "OdwYL0fG3kQo",
        "colab_type": "code",
        "outputId": "7a9a02d9-e64c-4550-88a2-c8e5d849f62a",
        "colab": {
          "base_uri": "https://localhost:8080/",
          "height": 1000
        }
      },
      "source": [
        "kfold = StratifiedKFold(n_splits=5, shuffle=False, random_state=2020)\n",
        "gru_scores = []\n",
        "gru_test=[]\n",
        "for train, val in kfold.split(sequences_matrix, labels):\n",
        "  gru_model=model_gru()\n",
        "  \n",
        "  gru_model.fit(sequences_matrix[train], labels[train],batch_size=64,epochs=10,verbose=2,\n",
        "            validation_data=(sequences_matrix[val],labels[val]),callbacks=[clr,])\n",
        "  y_pred = gru_model.predict(sequences_matrix[val], batch_size=64, verbose=1)\n",
        "\n",
        "  gru_test.append(gru_model.predict(X_test_sequences, batch_size=64, verbose=1).ravel())\n",
        "\n",
        "  y_pred = (y_pred > 0.5)\n",
        "  f1=f1_score(labels[val], y_pred, average='macro')\n",
        "  gru_scores.append(f1)\n",
        "  keras.backend.clear_session()"
      ],
      "execution_count": 42,
      "outputs": [
        {
          "output_type": "stream",
          "text": [
            "/usr/local/lib/python3.6/dist-packages/sklearn/model_selection/_split.py:296: FutureWarning: Setting a random_state has no effect since shuffle is False. This will raise an error in 0.24. You should leave random_state to its default (None), or set shuffle=True.\n",
            "  FutureWarning\n"
          ],
          "name": "stderr"
        },
        {
          "output_type": "stream",
          "text": [
            "Train on 25404 samples, validate on 6351 samples\n",
            "Epoch 1/10\n",
            " - 22s - loss: 0.1034 - acc: 0.8436 - val_loss: 0.0965 - val_acc: 0.8523\n",
            "Epoch 2/10\n",
            " - 15s - loss: 0.0946 - acc: 0.8581 - val_loss: 0.0948 - val_acc: 0.8581\n",
            "Epoch 3/10\n",
            " - 15s - loss: 0.0910 - acc: 0.8618 - val_loss: 0.0939 - val_acc: 0.8551\n",
            "Epoch 4/10\n",
            " - 15s - loss: 0.0889 - acc: 0.8660 - val_loss: 0.0934 - val_acc: 0.8586\n",
            "Epoch 5/10\n",
            " - 15s - loss: 0.0847 - acc: 0.8718 - val_loss: 0.0954 - val_acc: 0.8528\n",
            "Epoch 6/10\n",
            " - 15s - loss: 0.0809 - acc: 0.8776 - val_loss: 0.0994 - val_acc: 0.8567\n",
            "Epoch 7/10\n",
            " - 15s - loss: 0.0765 - acc: 0.8851 - val_loss: 0.1015 - val_acc: 0.8566\n",
            "Epoch 8/10\n",
            " - 15s - loss: 0.0696 - acc: 0.8959 - val_loss: 0.1059 - val_acc: 0.8449\n",
            "Epoch 9/10\n",
            " - 15s - loss: 0.0634 - acc: 0.9049 - val_loss: 0.1170 - val_acc: 0.8466\n",
            "Epoch 10/10\n",
            " - 15s - loss: 0.0547 - acc: 0.9179 - val_loss: 0.1262 - val_acc: 0.8372\n",
            "6351/6351 [==============================] - 2s 282us/step\n",
            "3528/3528 [==============================] - 1s 248us/step\n",
            "Train on 25404 samples, validate on 6351 samples\n",
            "Epoch 1/10\n",
            " - 16s - loss: 0.1051 - acc: 0.8410 - val_loss: 0.1038 - val_acc: 0.8503\n",
            "Epoch 2/10\n",
            " - 14s - loss: 0.0938 - acc: 0.8577 - val_loss: 0.0950 - val_acc: 0.8603\n",
            "Epoch 3/10\n",
            " - 14s - loss: 0.0913 - acc: 0.8622 - val_loss: 0.0957 - val_acc: 0.8597\n",
            "Epoch 4/10\n",
            " - 15s - loss: 0.0877 - acc: 0.8660 - val_loss: 0.0939 - val_acc: 0.8608\n",
            "Epoch 5/10\n",
            " - 15s - loss: 0.0857 - acc: 0.8702 - val_loss: 0.0959 - val_acc: 0.8610\n",
            "Epoch 6/10\n",
            " - 15s - loss: 0.0813 - acc: 0.8766 - val_loss: 0.0944 - val_acc: 0.8603\n",
            "Epoch 7/10\n",
            " - 14s - loss: 0.0776 - acc: 0.8815 - val_loss: 0.0964 - val_acc: 0.8536\n",
            "Epoch 8/10\n",
            " - 14s - loss: 0.0713 - acc: 0.8901 - val_loss: 0.0996 - val_acc: 0.8509\n",
            "Epoch 9/10\n",
            " - 15s - loss: 0.0653 - acc: 0.8995 - val_loss: 0.1224 - val_acc: 0.8564\n",
            "Epoch 10/10\n",
            " - 15s - loss: 0.0585 - acc: 0.9117 - val_loss: 0.1189 - val_acc: 0.8369\n",
            "6351/6351 [==============================] - 2s 284us/step\n",
            "3528/3528 [==============================] - 1s 255us/step\n",
            "Train on 25404 samples, validate on 6351 samples\n",
            "Epoch 1/10\n",
            " - 15s - loss: 0.1039 - acc: 0.8410 - val_loss: 0.0962 - val_acc: 0.8536\n",
            "Epoch 2/10\n",
            " - 14s - loss: 0.0948 - acc: 0.8582 - val_loss: 0.0936 - val_acc: 0.8592\n",
            "Epoch 3/10\n",
            " - 15s - loss: 0.0917 - acc: 0.8618 - val_loss: 0.0963 - val_acc: 0.8531\n",
            "Epoch 4/10\n",
            " - 15s - loss: 0.0885 - acc: 0.8671 - val_loss: 0.0949 - val_acc: 0.8556\n",
            "Epoch 5/10\n",
            " - 15s - loss: 0.0855 - acc: 0.8699 - val_loss: 0.0925 - val_acc: 0.8621\n",
            "Epoch 6/10\n",
            " - 15s - loss: 0.0822 - acc: 0.8756 - val_loss: 0.0950 - val_acc: 0.8542\n",
            "Epoch 7/10\n",
            " - 15s - loss: 0.0783 - acc: 0.8814 - val_loss: 0.0999 - val_acc: 0.8603\n",
            "Epoch 8/10\n",
            " - 15s - loss: 0.0735 - acc: 0.8874 - val_loss: 0.1003 - val_acc: 0.8499\n",
            "Epoch 9/10\n",
            " - 15s - loss: 0.0684 - acc: 0.8971 - val_loss: 0.1035 - val_acc: 0.8542\n",
            "Epoch 10/10\n",
            " - 15s - loss: 0.0616 - acc: 0.9064 - val_loss: 0.1091 - val_acc: 0.8418\n",
            "6351/6351 [==============================] - 2s 274us/step\n",
            "3528/3528 [==============================] - 1s 250us/step\n",
            "Train on 25404 samples, validate on 6351 samples\n",
            "Epoch 1/10\n",
            " - 16s - loss: 0.1049 - acc: 0.8405 - val_loss: 0.0955 - val_acc: 0.8561\n",
            "Epoch 2/10\n",
            " - 16s - loss: 0.0958 - acc: 0.8566 - val_loss: 0.0939 - val_acc: 0.8595\n",
            "Epoch 3/10\n",
            " - 15s - loss: 0.0920 - acc: 0.8625 - val_loss: 0.0912 - val_acc: 0.8603\n",
            "Epoch 4/10\n",
            " - 16s - loss: 0.0899 - acc: 0.8650 - val_loss: 0.0904 - val_acc: 0.8611\n",
            "Epoch 5/10\n",
            " - 15s - loss: 0.0866 - acc: 0.8700 - val_loss: 0.0904 - val_acc: 0.8616\n",
            "Epoch 6/10\n",
            " - 15s - loss: 0.0832 - acc: 0.8736 - val_loss: 0.0917 - val_acc: 0.8591\n",
            "Epoch 7/10\n",
            " - 15s - loss: 0.0792 - acc: 0.8806 - val_loss: 0.0951 - val_acc: 0.8595\n",
            "Epoch 8/10\n",
            " - 15s - loss: 0.0750 - acc: 0.8861 - val_loss: 0.0962 - val_acc: 0.8556\n",
            "Epoch 9/10\n",
            " - 15s - loss: 0.0692 - acc: 0.8940 - val_loss: 0.0991 - val_acc: 0.8556\n",
            "Epoch 10/10\n",
            " - 15s - loss: 0.0644 - acc: 0.9010 - val_loss: 0.1089 - val_acc: 0.8580\n",
            "6351/6351 [==============================] - 2s 276us/step\n",
            "3528/3528 [==============================] - 1s 245us/step\n",
            "Train on 25404 samples, validate on 6351 samples\n",
            "Epoch 1/10\n",
            " - 16s - loss: 0.1063 - acc: 0.8365 - val_loss: 0.0955 - val_acc: 0.8581\n",
            "Epoch 2/10\n",
            " - 15s - loss: 0.0950 - acc: 0.8570 - val_loss: 0.0944 - val_acc: 0.8595\n",
            "Epoch 3/10\n",
            " - 15s - loss: 0.0918 - acc: 0.8629 - val_loss: 0.0919 - val_acc: 0.8647\n",
            "Epoch 4/10\n",
            " - 14s - loss: 0.0892 - acc: 0.8646 - val_loss: 0.0925 - val_acc: 0.8619\n",
            "Epoch 5/10\n",
            " - 15s - loss: 0.0865 - acc: 0.8681 - val_loss: 0.0931 - val_acc: 0.8638\n",
            "Epoch 6/10\n",
            " - 14s - loss: 0.0837 - acc: 0.8737 - val_loss: 0.0989 - val_acc: 0.8627\n",
            "Epoch 7/10\n",
            " - 14s - loss: 0.0798 - acc: 0.8783 - val_loss: 0.1026 - val_acc: 0.8610\n",
            "Epoch 8/10\n",
            " - 15s - loss: 0.0750 - acc: 0.8841 - val_loss: 0.1020 - val_acc: 0.8537\n",
            "Epoch 9/10\n",
            " - 15s - loss: 0.0692 - acc: 0.8932 - val_loss: 0.1117 - val_acc: 0.8399\n",
            "Epoch 10/10\n",
            " - 15s - loss: 0.0649 - acc: 0.9007 - val_loss: 0.1152 - val_acc: 0.8578\n",
            "6351/6351 [==============================] - 2s 262us/step\n",
            "3528/3528 [==============================] - 1s 238us/step\n"
          ],
          "name": "stdout"
        }
      ]
    },
    {
      "cell_type": "code",
      "metadata": {
        "id": "ucuevMTN4VPS",
        "colab_type": "code",
        "outputId": "5ec0dcce-fca2-4987-d01a-9324ed8bf2e0",
        "colab": {
          "base_uri": "https://localhost:8080/",
          "height": 134
        }
      },
      "source": [
        "len(gru_test),gru_test[0].shape,gru_scores"
      ],
      "execution_count": 43,
      "outputs": [
        {
          "output_type": "execute_result",
          "data": {
            "text/plain": [
              "(5,\n",
              " (3528,),\n",
              " [0.7120300302154442,\n",
              "  0.7268300905413215,\n",
              "  0.7244354173875709,\n",
              "  0.7251543157752521,\n",
              "  0.7209336105107337])"
            ]
          },
          "metadata": {
            "tags": []
          },
          "execution_count": 43
        }
      ]
    },
    {
      "cell_type": "code",
      "metadata": {
        "id": "AKKs8iWX570n",
        "colab_type": "code",
        "colab": {}
      },
      "source": [
        ""
      ],
      "execution_count": 0,
      "outputs": []
    },
    {
      "cell_type": "markdown",
      "metadata": {
        "id": "BaW-Uq0Kldp4",
        "colab_type": "text"
      },
      "source": [
        "## GRU attention"
      ]
    },
    {
      "cell_type": "code",
      "metadata": {
        "id": "XULscbNL6FiP",
        "colab_type": "code",
        "outputId": "aefc6565-a44d-4e46-f92d-d64b09c574e5",
        "colab": {
          "base_uri": "https://localhost:8080/",
          "height": 1000
        }
      },
      "source": [
        "kfold = StratifiedKFold(n_splits=5, shuffle=False, random_state=2020)\n",
        "atten_scores = []\n",
        "atten_test=[]\n",
        "for train, val in kfold.split(sequences_matrix, labels):\n",
        "  attn_gru_model=model_gru_attn()\n",
        "  \n",
        "  attn_gru_model.fit(sequences_matrix[train], labels[train],batch_size=64,epochs=10,verbose=2,\n",
        "            validation_data=(sequences_matrix[val],labels[val]),callbacks=[clr,])\n",
        "  y_pred = attn_gru_model.predict(sequences_matrix[val], batch_size=64, verbose=1)\n",
        "\n",
        "  atten_test.append(attn_gru_model.predict(X_test_sequences, batch_size=64, verbose=1).ravel())\n",
        "\n",
        "  y_pred = (y_pred > 0.5)\n",
        "  f1=f1_score(labels[val], y_pred, average='macro')\n",
        "  atten_scores.append(f1)\n",
        "  keras.backend.clear_session()"
      ],
      "execution_count": 44,
      "outputs": [
        {
          "output_type": "stream",
          "text": [
            "/usr/local/lib/python3.6/dist-packages/sklearn/model_selection/_split.py:296: FutureWarning: Setting a random_state has no effect since shuffle is False. This will raise an error in 0.24. You should leave random_state to its default (None), or set shuffle=True.\n",
            "  FutureWarning\n"
          ],
          "name": "stderr"
        },
        {
          "output_type": "stream",
          "text": [
            "Train on 25404 samples, validate on 6351 samples\n",
            "Epoch 1/10\n",
            " - 16s - loss: 0.1061 - acc: 0.8386 - val_loss: 0.1018 - val_acc: 0.8463\n",
            "Epoch 2/10\n",
            " - 15s - loss: 0.0957 - acc: 0.8553 - val_loss: 0.0974 - val_acc: 0.8507\n",
            "Epoch 3/10\n",
            " - 15s - loss: 0.0919 - acc: 0.8620 - val_loss: 0.0947 - val_acc: 0.8572\n",
            "Epoch 4/10\n",
            " - 15s - loss: 0.0900 - acc: 0.8642 - val_loss: 0.0944 - val_acc: 0.8570\n",
            "Epoch 5/10\n",
            " - 15s - loss: 0.0872 - acc: 0.8671 - val_loss: 0.0938 - val_acc: 0.8578\n",
            "Epoch 6/10\n",
            " - 15s - loss: 0.0851 - acc: 0.8726 - val_loss: 0.0957 - val_acc: 0.8575\n",
            "Epoch 7/10\n",
            " - 16s - loss: 0.0810 - acc: 0.8778 - val_loss: 0.0965 - val_acc: 0.8553\n",
            "Epoch 8/10\n",
            " - 16s - loss: 0.0773 - acc: 0.8830 - val_loss: 0.1003 - val_acc: 0.8501\n",
            "Epoch 9/10\n",
            " - 16s - loss: 0.0722 - acc: 0.8916 - val_loss: 0.1099 - val_acc: 0.8537\n",
            "Epoch 10/10\n",
            " - 16s - loss: 0.0671 - acc: 0.8977 - val_loss: 0.1112 - val_acc: 0.8477\n",
            "6351/6351 [==============================] - 2s 281us/step\n",
            "3528/3528 [==============================] - 1s 279us/step\n",
            "Train on 25404 samples, validate on 6351 samples\n",
            "Epoch 1/10\n",
            " - 17s - loss: 0.1056 - acc: 0.8365 - val_loss: 0.0974 - val_acc: 0.8525\n",
            "Epoch 2/10\n",
            " - 16s - loss: 0.0954 - acc: 0.8556 - val_loss: 0.0968 - val_acc: 0.8559\n",
            "Epoch 3/10\n",
            " - 16s - loss: 0.0916 - acc: 0.8609 - val_loss: 0.0948 - val_acc: 0.8597\n",
            "Epoch 4/10\n",
            " - 16s - loss: 0.0894 - acc: 0.8647 - val_loss: 0.0957 - val_acc: 0.8594\n",
            "Epoch 5/10\n",
            " - 16s - loss: 0.0880 - acc: 0.8664 - val_loss: 0.0947 - val_acc: 0.8588\n",
            "Epoch 6/10\n",
            " - 16s - loss: 0.0849 - acc: 0.8716 - val_loss: 0.0951 - val_acc: 0.8567\n",
            "Epoch 7/10\n",
            " - 15s - loss: 0.0825 - acc: 0.8755 - val_loss: 0.0957 - val_acc: 0.8607\n",
            "Epoch 8/10\n",
            " - 15s - loss: 0.0791 - acc: 0.8796 - val_loss: 0.0978 - val_acc: 0.8517\n",
            "Epoch 9/10\n",
            " - 15s - loss: 0.0754 - acc: 0.8868 - val_loss: 0.1025 - val_acc: 0.8462\n",
            "Epoch 10/10\n",
            " - 15s - loss: 0.0711 - acc: 0.8922 - val_loss: 0.1050 - val_acc: 0.8506\n",
            "6351/6351 [==============================] - 2s 272us/step\n",
            "3528/3528 [==============================] - 1s 238us/step\n",
            "Train on 25404 samples, validate on 6351 samples\n",
            "Epoch 1/10\n",
            " - 16s - loss: 0.1062 - acc: 0.8365 - val_loss: 0.0976 - val_acc: 0.8525\n",
            "Epoch 2/10\n",
            " - 15s - loss: 0.0960 - acc: 0.8550 - val_loss: 0.0942 - val_acc: 0.8584\n",
            "Epoch 3/10\n",
            " - 15s - loss: 0.0924 - acc: 0.8622 - val_loss: 0.0953 - val_acc: 0.8517\n",
            "Epoch 4/10\n",
            " - 15s - loss: 0.0896 - acc: 0.8647 - val_loss: 0.0935 - val_acc: 0.8616\n",
            "Epoch 5/10\n",
            " - 15s - loss: 0.0871 - acc: 0.8675 - val_loss: 0.0956 - val_acc: 0.8520\n",
            "Epoch 6/10\n",
            " - 15s - loss: 0.0849 - acc: 0.8705 - val_loss: 0.0942 - val_acc: 0.8603\n",
            "Epoch 7/10\n",
            " - 15s - loss: 0.0818 - acc: 0.8775 - val_loss: 0.0974 - val_acc: 0.8600\n",
            "Epoch 8/10\n",
            " - 15s - loss: 0.0787 - acc: 0.8802 - val_loss: 0.0977 - val_acc: 0.8558\n",
            "Epoch 9/10\n",
            " - 15s - loss: 0.0751 - acc: 0.8850 - val_loss: 0.1045 - val_acc: 0.8583\n",
            "Epoch 10/10\n",
            " - 15s - loss: 0.0704 - acc: 0.8948 - val_loss: 0.1026 - val_acc: 0.8468\n",
            "6351/6351 [==============================] - 2s 289us/step\n",
            "3528/3528 [==============================] - 1s 238us/step\n",
            "Train on 25404 samples, validate on 6351 samples\n",
            "Epoch 1/10\n",
            " - 16s - loss: 0.1076 - acc: 0.8350 - val_loss: 0.0964 - val_acc: 0.8493\n",
            "Epoch 2/10\n",
            " - 15s - loss: 0.0966 - acc: 0.8543 - val_loss: 0.0930 - val_acc: 0.8586\n",
            "Epoch 3/10\n",
            " - 15s - loss: 0.0936 - acc: 0.8592 - val_loss: 0.0916 - val_acc: 0.8592\n",
            "Epoch 4/10\n",
            " - 15s - loss: 0.0911 - acc: 0.8645 - val_loss: 0.0910 - val_acc: 0.8622\n",
            "Epoch 5/10\n",
            " - 15s - loss: 0.0889 - acc: 0.8676 - val_loss: 0.0907 - val_acc: 0.8627\n",
            "Epoch 6/10\n",
            " - 15s - loss: 0.0863 - acc: 0.8699 - val_loss: 0.0908 - val_acc: 0.8605\n",
            "Epoch 7/10\n",
            " - 15s - loss: 0.0837 - acc: 0.8741 - val_loss: 0.0920 - val_acc: 0.8619\n",
            "Epoch 8/10\n",
            " - 17s - loss: 0.0801 - acc: 0.8787 - val_loss: 0.0932 - val_acc: 0.8564\n",
            "Epoch 9/10\n",
            " - 16s - loss: 0.0769 - acc: 0.8832 - val_loss: 0.0946 - val_acc: 0.8580\n",
            "Epoch 10/10\n",
            " - 16s - loss: 0.0732 - acc: 0.8887 - val_loss: 0.1041 - val_acc: 0.8558\n",
            "6351/6351 [==============================] - 2s 288us/step\n",
            "3528/3528 [==============================] - 1s 263us/step\n",
            "Train on 25404 samples, validate on 6351 samples\n",
            "Epoch 1/10\n",
            " - 17s - loss: 0.1069 - acc: 0.8341 - val_loss: 0.0961 - val_acc: 0.8564\n",
            "Epoch 2/10\n",
            " - 16s - loss: 0.0962 - acc: 0.8534 - val_loss: 0.0935 - val_acc: 0.8610\n",
            "Epoch 3/10\n",
            " - 16s - loss: 0.0930 - acc: 0.8584 - val_loss: 0.0936 - val_acc: 0.8603\n",
            "Epoch 4/10\n",
            " - 16s - loss: 0.0904 - acc: 0.8629 - val_loss: 0.0965 - val_acc: 0.8611\n",
            "Epoch 5/10\n",
            " - 16s - loss: 0.0885 - acc: 0.8674 - val_loss: 0.0933 - val_acc: 0.8635\n",
            "Epoch 6/10\n",
            " - 16s - loss: 0.0860 - acc: 0.8690 - val_loss: 0.0957 - val_acc: 0.8627\n",
            "Epoch 7/10\n",
            " - 15s - loss: 0.0836 - acc: 0.8747 - val_loss: 0.0942 - val_acc: 0.8627\n",
            "Epoch 8/10\n",
            " - 15s - loss: 0.0802 - acc: 0.8788 - val_loss: 0.1028 - val_acc: 0.8605\n",
            "Epoch 9/10\n",
            " - 16s - loss: 0.0772 - acc: 0.8814 - val_loss: 0.0994 - val_acc: 0.8586\n",
            "Epoch 10/10\n",
            " - 16s - loss: 0.0739 - acc: 0.8867 - val_loss: 0.1033 - val_acc: 0.8542\n",
            "6351/6351 [==============================] - 2s 277us/step\n",
            "3528/3528 [==============================] - 1s 250us/step\n"
          ],
          "name": "stdout"
        }
      ]
    },
    {
      "cell_type": "code",
      "metadata": {
        "id": "Vo1Ec10_FbH4",
        "colab_type": "code",
        "outputId": "61ab34ed-1ac7-4bfb-8467-c2c1fc501cdd",
        "colab": {
          "base_uri": "https://localhost:8080/",
          "height": 101
        }
      },
      "source": [
        "atten_scores \n"
      ],
      "execution_count": 45,
      "outputs": [
        {
          "output_type": "execute_result",
          "data": {
            "text/plain": [
              "[0.7271683853832069,\n",
              " 0.7126559597688719,\n",
              " 0.7289190312081708,\n",
              " 0.6911069634042271,\n",
              " 0.7321550759235212]"
            ]
          },
          "metadata": {
            "tags": []
          },
          "execution_count": 45
        }
      ]
    },
    {
      "cell_type": "markdown",
      "metadata": {
        "id": "WlFNurr4T1rh",
        "colab_type": "text"
      },
      "source": [
        "##TCN"
      ]
    },
    {
      "cell_type": "code",
      "metadata": {
        "id": "xKtfxHFBT2wB",
        "colab_type": "code",
        "outputId": "31fb2e45-901f-4d9e-f309-802bc09c9280",
        "colab": {
          "base_uri": "https://localhost:8080/",
          "height": 1000
        }
      },
      "source": [
        "kfold = StratifiedKFold(n_splits=5, shuffle=False)\n",
        "tcn_scores = []\n",
        "tcn_test=[]\n",
        "for train, val in kfold.split(sequences_matrix, labels):\n",
        "  model=model_tcn(embeddings)\n",
        "  \n",
        "  model.fit(sequences_matrix[train], labels[train],batch_size=64,epochs=10,verbose=2,\n",
        "            validation_data=(sequences_matrix[val],labels[val]),callbacks=[clr,])\n",
        "  y_pred = model.predict(sequences_matrix[val], batch_size=64, verbose=1)\n",
        "\n",
        "  tcn_test.append(model.predict(X_test_sequences, batch_size=64, verbose=1).ravel())\n",
        "\n",
        "  y_pred = (y_pred > 0.5)\n",
        "  f1=f1_score(labels[val], y_pred, average='macro')\n",
        "  tcn_scores.append(f1)\n",
        "  keras.backend.clear_session()"
      ],
      "execution_count": 46,
      "outputs": [
        {
          "output_type": "stream",
          "text": [
            "Train on 25404 samples, validate on 6351 samples\n",
            "Epoch 1/10\n",
            " - 17s - loss: 0.1094 - acc: 0.8344 - val_loss: 0.0999 - val_acc: 0.8493\n",
            "Epoch 2/10\n",
            " - 11s - loss: 0.0982 - acc: 0.8551 - val_loss: 0.0994 - val_acc: 0.8465\n",
            "Epoch 3/10\n",
            " - 11s - loss: 0.0951 - acc: 0.8574 - val_loss: 0.1007 - val_acc: 0.8551\n",
            "Epoch 4/10\n",
            " - 11s - loss: 0.0931 - acc: 0.8596 - val_loss: 0.0962 - val_acc: 0.8548\n",
            "Epoch 5/10\n",
            " - 11s - loss: 0.0919 - acc: 0.8623 - val_loss: 0.0964 - val_acc: 0.8573\n",
            "Epoch 6/10\n",
            " - 11s - loss: 0.0899 - acc: 0.8662 - val_loss: 0.0996 - val_acc: 0.8547\n",
            "Epoch 7/10\n",
            " - 11s - loss: 0.0878 - acc: 0.8677 - val_loss: 0.0965 - val_acc: 0.8555\n",
            "Epoch 8/10\n",
            " - 11s - loss: 0.0852 - acc: 0.8737 - val_loss: 0.0991 - val_acc: 0.8503\n",
            "Epoch 9/10\n",
            " - 11s - loss: 0.0832 - acc: 0.8745 - val_loss: 0.0967 - val_acc: 0.8523\n",
            "Epoch 10/10\n",
            " - 11s - loss: 0.0804 - acc: 0.8788 - val_loss: 0.1006 - val_acc: 0.8499\n",
            "6351/6351 [==============================] - 1s 163us/step\n",
            "3528/3528 [==============================] - 1s 214us/step\n",
            "Train on 25404 samples, validate on 6351 samples\n",
            "Epoch 1/10\n",
            " - 12s - loss: 0.1099 - acc: 0.8326 - val_loss: 0.1015 - val_acc: 0.8544\n",
            "Epoch 2/10\n",
            " - 11s - loss: 0.0993 - acc: 0.8517 - val_loss: 0.0973 - val_acc: 0.8550\n",
            "Epoch 3/10\n",
            " - 11s - loss: 0.0959 - acc: 0.8559 - val_loss: 0.0950 - val_acc: 0.8564\n",
            "Epoch 4/10\n",
            " - 11s - loss: 0.0931 - acc: 0.8613 - val_loss: 0.0970 - val_acc: 0.8501\n",
            "Epoch 5/10\n",
            " - 11s - loss: 0.0926 - acc: 0.8614 - val_loss: 0.0950 - val_acc: 0.8595\n",
            "Epoch 6/10\n",
            " - 11s - loss: 0.0901 - acc: 0.8632 - val_loss: 0.0942 - val_acc: 0.8586\n",
            "Epoch 7/10\n",
            " - 11s - loss: 0.0890 - acc: 0.8653 - val_loss: 0.1008 - val_acc: 0.8597\n",
            "Epoch 8/10\n",
            " - 11s - loss: 0.0865 - acc: 0.8687 - val_loss: 0.1112 - val_acc: 0.8433\n",
            "Epoch 9/10\n",
            " - 11s - loss: 0.0843 - acc: 0.8727 - val_loss: 0.0979 - val_acc: 0.8583\n",
            "Epoch 10/10\n",
            " - 11s - loss: 0.0818 - acc: 0.8764 - val_loss: 0.0968 - val_acc: 0.8583\n",
            "6351/6351 [==============================] - 1s 177us/step\n",
            "3528/3528 [==============================] - 0s 133us/step\n",
            "Train on 25404 samples, validate on 6351 samples\n",
            "Epoch 1/10\n",
            " - 13s - loss: 0.1107 - acc: 0.8289 - val_loss: 0.0991 - val_acc: 0.8525\n",
            "Epoch 2/10\n",
            " - 11s - loss: 0.1003 - acc: 0.8512 - val_loss: 0.0971 - val_acc: 0.8555\n",
            "Epoch 3/10\n",
            " - 11s - loss: 0.0962 - acc: 0.8565 - val_loss: 0.0947 - val_acc: 0.8608\n",
            "Epoch 4/10\n",
            " - 11s - loss: 0.0940 - acc: 0.8595 - val_loss: 0.0980 - val_acc: 0.8520\n",
            "Epoch 5/10\n",
            " - 11s - loss: 0.0921 - acc: 0.8607 - val_loss: 0.0946 - val_acc: 0.8592\n",
            "Epoch 6/10\n",
            " - 11s - loss: 0.0908 - acc: 0.8626 - val_loss: 0.0951 - val_acc: 0.8569\n",
            "Epoch 7/10\n",
            " - 11s - loss: 0.0871 - acc: 0.8692 - val_loss: 0.0952 - val_acc: 0.8580\n",
            "Epoch 8/10\n",
            " - 11s - loss: 0.0856 - acc: 0.8717 - val_loss: 0.0970 - val_acc: 0.8573\n",
            "Epoch 9/10\n",
            " - 11s - loss: 0.0827 - acc: 0.8747 - val_loss: 0.0984 - val_acc: 0.8482\n",
            "Epoch 10/10\n",
            " - 11s - loss: 0.0797 - acc: 0.8784 - val_loss: 0.1001 - val_acc: 0.8572\n",
            "6351/6351 [==============================] - 1s 176us/step\n",
            "3528/3528 [==============================] - 0s 136us/step\n",
            "Train on 25404 samples, validate on 6351 samples\n",
            "Epoch 1/10\n",
            " - 13s - loss: 0.1109 - acc: 0.8305 - val_loss: 0.0972 - val_acc: 0.8525\n",
            "Epoch 2/10\n",
            " - 11s - loss: 0.0996 - acc: 0.8507 - val_loss: 0.0985 - val_acc: 0.8435\n",
            "Epoch 3/10\n",
            " - 11s - loss: 0.0964 - acc: 0.8555 - val_loss: 0.0935 - val_acc: 0.8597\n",
            "Epoch 4/10\n",
            " - 11s - loss: 0.0949 - acc: 0.8581 - val_loss: 0.0938 - val_acc: 0.8594\n",
            "Epoch 5/10\n",
            " - 11s - loss: 0.0921 - acc: 0.8620 - val_loss: 0.0924 - val_acc: 0.8589\n",
            "Epoch 6/10\n",
            " - 11s - loss: 0.0896 - acc: 0.8673 - val_loss: 0.0951 - val_acc: 0.8550\n",
            "Epoch 7/10\n",
            " - 11s - loss: 0.0887 - acc: 0.8662 - val_loss: 0.0954 - val_acc: 0.8599\n",
            "Epoch 8/10\n",
            " - 11s - loss: 0.0860 - acc: 0.8694 - val_loss: 0.0931 - val_acc: 0.8600\n",
            "Epoch 9/10\n",
            " - 11s - loss: 0.0834 - acc: 0.8742 - val_loss: 0.0931 - val_acc: 0.8613\n",
            "Epoch 10/10\n",
            " - 11s - loss: 0.0803 - acc: 0.8786 - val_loss: 0.0952 - val_acc: 0.8588\n",
            "6351/6351 [==============================] - 1s 176us/step\n",
            "3528/3528 [==============================] - 0s 133us/step\n",
            "Train on 25404 samples, validate on 6351 samples\n",
            "Epoch 1/10\n",
            " - 12s - loss: 0.1100 - acc: 0.8318 - val_loss: 0.0984 - val_acc: 0.8577\n",
            "Epoch 2/10\n",
            " - 11s - loss: 0.0989 - acc: 0.8522 - val_loss: 0.0959 - val_acc: 0.8572\n",
            "Epoch 3/10\n",
            " - 11s - loss: 0.0952 - acc: 0.8571 - val_loss: 0.0947 - val_acc: 0.8608\n",
            "Epoch 4/10\n",
            " - 11s - loss: 0.0936 - acc: 0.8586 - val_loss: 0.0937 - val_acc: 0.8603\n",
            "Epoch 5/10\n",
            " - 11s - loss: 0.0909 - acc: 0.8612 - val_loss: 0.0963 - val_acc: 0.8558\n",
            "Epoch 6/10\n",
            " - 11s - loss: 0.0896 - acc: 0.8646 - val_loss: 0.0963 - val_acc: 0.8583\n",
            "Epoch 7/10\n",
            " - 11s - loss: 0.0875 - acc: 0.8650 - val_loss: 0.0985 - val_acc: 0.8545\n",
            "Epoch 8/10\n",
            " - 11s - loss: 0.0850 - acc: 0.8711 - val_loss: 0.1031 - val_acc: 0.8518\n",
            "Epoch 9/10\n",
            " - 11s - loss: 0.0825 - acc: 0.8754 - val_loss: 0.0991 - val_acc: 0.8521\n",
            "Epoch 10/10\n",
            " - 11s - loss: 0.0788 - acc: 0.8804 - val_loss: 0.1023 - val_acc: 0.8575\n",
            "6351/6351 [==============================] - 1s 160us/step\n",
            "3528/3528 [==============================] - 0s 130us/step\n"
          ],
          "name": "stdout"
        }
      ]
    },
    {
      "cell_type": "markdown",
      "metadata": {
        "id": "Tr_J6FWTCYXB",
        "colab_type": "text"
      },
      "source": [
        "##KIM"
      ]
    },
    {
      "cell_type": "code",
      "metadata": {
        "id": "PgmUF8liCa4M",
        "colab_type": "code",
        "outputId": "c992653e-3ac7-4d47-e910-50aa117e7f42",
        "colab": {
          "base_uri": "https://localhost:8080/",
          "height": 1000
        }
      },
      "source": [
        "kfold = StratifiedKFold(n_splits=5, shuffle=False)\n",
        "kim_scores = []\n",
        "kim_test=[]\n",
        "for train, val in kfold.split(sequences_matrix, labels):\n",
        "  model=model_kim()\n",
        "  \n",
        "  model.fit(sequences_matrix[train], labels[train],batch_size=64,epochs=10,verbose=2,\n",
        "            validation_data=(sequences_matrix[val],labels[val]),callbacks=[clr,])\n",
        "  y_pred = model.predict(sequences_matrix[val], batch_size=64, verbose=1)\n",
        "\n",
        "  kim_test.append(model.predict(X_test_sequences, batch_size=64, verbose=1).ravel())\n",
        "\n",
        "  y_pred = (y_pred > 0.5)\n",
        "  f1=f1_score(labels[val], y_pred, average='macro')\n",
        "  kim_scores.append(f1)\n",
        "  keras.backend.clear_session()"
      ],
      "execution_count": 47,
      "outputs": [
        {
          "output_type": "stream",
          "text": [
            "Train on 25404 samples, validate on 6351 samples\n",
            "Epoch 1/10\n",
            " - 12s - loss: 0.1509 - acc: 0.7696 - val_loss: 0.1095 - val_acc: 0.8333\n",
            "Epoch 2/10\n",
            " - 10s - loss: 0.1067 - acc: 0.8372 - val_loss: 0.1017 - val_acc: 0.8411\n",
            "Epoch 3/10\n",
            " - 10s - loss: 0.0965 - acc: 0.8506 - val_loss: 0.1000 - val_acc: 0.8471\n",
            "Epoch 4/10\n",
            " - 10s - loss: 0.0891 - acc: 0.8630 - val_loss: 0.1051 - val_acc: 0.8455\n",
            "Epoch 5/10\n",
            " - 10s - loss: 0.0829 - acc: 0.8719 - val_loss: 0.0989 - val_acc: 0.8485\n",
            "Epoch 6/10\n",
            " - 10s - loss: 0.0762 - acc: 0.8810 - val_loss: 0.1007 - val_acc: 0.8430\n",
            "Epoch 7/10\n",
            " - 10s - loss: 0.0705 - acc: 0.8932 - val_loss: 0.1075 - val_acc: 0.8490\n",
            "Epoch 8/10\n",
            " - 10s - loss: 0.0637 - acc: 0.9029 - val_loss: 0.1163 - val_acc: 0.8492\n",
            "Epoch 9/10\n",
            " - 10s - loss: 0.0577 - acc: 0.9134 - val_loss: 0.1106 - val_acc: 0.8449\n",
            "Epoch 10/10\n",
            " - 10s - loss: 0.0531 - acc: 0.9200 - val_loss: 0.1178 - val_acc: 0.8252\n",
            "6351/6351 [==============================] - 1s 145us/step\n",
            "3528/3528 [==============================] - 0s 117us/step\n",
            "Train on 25404 samples, validate on 6351 samples\n",
            "Epoch 1/10\n",
            " - 11s - loss: 0.1559 - acc: 0.7597 - val_loss: 0.1034 - val_acc: 0.8422\n",
            "Epoch 2/10\n",
            " - 10s - loss: 0.1093 - acc: 0.8315 - val_loss: 0.1021 - val_acc: 0.8430\n",
            "Epoch 3/10\n",
            " - 11s - loss: 0.0968 - acc: 0.8509 - val_loss: 0.0994 - val_acc: 0.8514\n",
            "Epoch 4/10\n",
            " - 10s - loss: 0.0895 - acc: 0.8645 - val_loss: 0.0987 - val_acc: 0.8514\n",
            "Epoch 5/10\n",
            " - 10s - loss: 0.0841 - acc: 0.8714 - val_loss: 0.0987 - val_acc: 0.8526\n",
            "Epoch 6/10\n",
            " - 10s - loss: 0.0778 - acc: 0.8825 - val_loss: 0.1019 - val_acc: 0.8525\n",
            "Epoch 7/10\n",
            " - 10s - loss: 0.0715 - acc: 0.8915 - val_loss: 0.1045 - val_acc: 0.8484\n",
            "Epoch 8/10\n",
            " - 10s - loss: 0.0648 - acc: 0.9014 - val_loss: 0.1060 - val_acc: 0.8447\n",
            "Epoch 9/10\n",
            " - 10s - loss: 0.0596 - acc: 0.9109 - val_loss: 0.1166 - val_acc: 0.8447\n",
            "Epoch 10/10\n",
            " - 10s - loss: 0.0546 - acc: 0.9182 - val_loss: 0.1160 - val_acc: 0.8411\n",
            "6351/6351 [==============================] - 1s 138us/step\n",
            "3528/3528 [==============================] - 0s 106us/step\n",
            "Train on 25404 samples, validate on 6351 samples\n",
            "Epoch 1/10\n",
            " - 12s - loss: 0.1614 - acc: 0.7639 - val_loss: 0.1099 - val_acc: 0.8277\n",
            "Epoch 2/10\n",
            " - 10s - loss: 0.1135 - acc: 0.8258 - val_loss: 0.1005 - val_acc: 0.8424\n",
            "Epoch 3/10\n",
            " - 10s - loss: 0.0992 - acc: 0.8495 - val_loss: 0.1022 - val_acc: 0.8446\n",
            "Epoch 4/10\n",
            " - 10s - loss: 0.0903 - acc: 0.8613 - val_loss: 0.1003 - val_acc: 0.8471\n",
            "Epoch 5/10\n",
            " - 10s - loss: 0.0830 - acc: 0.8719 - val_loss: 0.1011 - val_acc: 0.8459\n",
            "Epoch 6/10\n",
            " - 10s - loss: 0.0776 - acc: 0.8797 - val_loss: 0.1032 - val_acc: 0.8523\n",
            "Epoch 7/10\n",
            " - 10s - loss: 0.0709 - acc: 0.8925 - val_loss: 0.1116 - val_acc: 0.8482\n",
            "Epoch 8/10\n",
            " - 10s - loss: 0.0653 - acc: 0.9019 - val_loss: 0.1049 - val_acc: 0.8537\n",
            "Epoch 9/10\n",
            " - 10s - loss: 0.0595 - acc: 0.9083 - val_loss: 0.1079 - val_acc: 0.8504\n",
            "Epoch 10/10\n",
            " - 10s - loss: 0.0543 - acc: 0.9189 - val_loss: 0.1251 - val_acc: 0.8465\n",
            "6351/6351 [==============================] - 1s 141us/step\n",
            "3528/3528 [==============================] - 0s 112us/step\n",
            "Train on 25404 samples, validate on 6351 samples\n",
            "Epoch 1/10\n",
            " - 12s - loss: 0.1499 - acc: 0.7603 - val_loss: 0.1074 - val_acc: 0.8356\n",
            "Epoch 2/10\n",
            " - 11s - loss: 0.1062 - acc: 0.8371 - val_loss: 0.0993 - val_acc: 0.8459\n",
            "Epoch 3/10\n",
            " - 10s - loss: 0.0959 - acc: 0.8499 - val_loss: 0.1049 - val_acc: 0.8410\n",
            "Epoch 4/10\n",
            " - 10s - loss: 0.0893 - acc: 0.8617 - val_loss: 0.0963 - val_acc: 0.8573\n",
            "Epoch 5/10\n",
            " - 10s - loss: 0.0837 - acc: 0.8711 - val_loss: 0.1083 - val_acc: 0.8451\n",
            "Epoch 6/10\n",
            " - 10s - loss: 0.0803 - acc: 0.8768 - val_loss: 0.1043 - val_acc: 0.8534\n",
            "Epoch 7/10\n",
            " - 10s - loss: 0.0727 - acc: 0.8886 - val_loss: 0.1037 - val_acc: 0.8358\n",
            "Epoch 8/10\n",
            " - 10s - loss: 0.0662 - acc: 0.8980 - val_loss: 0.1022 - val_acc: 0.8564\n",
            "Epoch 9/10\n",
            " - 10s - loss: 0.0600 - acc: 0.9083 - val_loss: 0.1063 - val_acc: 0.8553\n",
            "Epoch 10/10\n",
            " - 11s - loss: 0.0543 - acc: 0.9168 - val_loss: 0.1138 - val_acc: 0.8463\n",
            "6351/6351 [==============================] - 1s 150us/step\n",
            "3528/3528 [==============================] - 0s 116us/step\n",
            "Train on 25404 samples, validate on 6351 samples\n",
            "Epoch 1/10\n",
            " - 13s - loss: 0.1490 - acc: 0.7666 - val_loss: 0.1059 - val_acc: 0.8336\n",
            "Epoch 2/10\n",
            " - 11s - loss: 0.1081 - acc: 0.8330 - val_loss: 0.0989 - val_acc: 0.8499\n",
            "Epoch 3/10\n",
            " - 10s - loss: 0.0972 - acc: 0.8503 - val_loss: 0.0994 - val_acc: 0.8507\n",
            "Epoch 4/10\n",
            " - 10s - loss: 0.0894 - acc: 0.8636 - val_loss: 0.0983 - val_acc: 0.8533\n",
            "Epoch 5/10\n",
            " - 11s - loss: 0.0842 - acc: 0.8721 - val_loss: 0.1038 - val_acc: 0.8542\n",
            "Epoch 6/10\n",
            " - 11s - loss: 0.0775 - acc: 0.8817 - val_loss: 0.0993 - val_acc: 0.8548\n",
            "Epoch 7/10\n",
            " - 11s - loss: 0.0717 - acc: 0.8888 - val_loss: 0.1007 - val_acc: 0.8529\n",
            "Epoch 8/10\n",
            " - 11s - loss: 0.0659 - acc: 0.8995 - val_loss: 0.1134 - val_acc: 0.8529\n",
            "Epoch 9/10\n",
            " - 11s - loss: 0.0603 - acc: 0.9092 - val_loss: 0.1165 - val_acc: 0.8129\n",
            "Epoch 10/10\n",
            " - 11s - loss: 0.0547 - acc: 0.9156 - val_loss: 0.1161 - val_acc: 0.8314\n",
            "6351/6351 [==============================] - 1s 147us/step\n",
            "3528/3528 [==============================] - 0s 107us/step\n"
          ],
          "name": "stdout"
        }
      ]
    },
    {
      "cell_type": "markdown",
      "metadata": {
        "id": "4bXDiFxJH5Ny",
        "colab_type": "text"
      },
      "source": [
        "#**Result**"
      ]
    },
    {
      "cell_type": "markdown",
      "metadata": {
        "id": "vXd8VkdPhAq2",
        "colab_type": "text"
      },
      "source": [
        "# Result"
      ]
    },
    {
      "cell_type": "code",
      "metadata": {
        "id": "AnC41n_HRKQA",
        "colab_type": "code",
        "colab": {}
      },
      "source": [
        "gru_scores=np.average(np.array(gru_scores))\n",
        "atten_scores=np.average(np.array(atten_scores))\n",
        "tcn_scores=np.average(np.array(tcn_scores))\n",
        "kim_scores=np.average(np.array(kim_scores))"
      ],
      "execution_count": 0,
      "outputs": []
    },
    {
      "cell_type": "code",
      "metadata": {
        "id": "jBp341Qog_uv",
        "colab_type": "code",
        "outputId": "8e50b706-b9d5-47c3-f06e-4c9570ba28b8",
        "colab": {
          "base_uri": "https://localhost:8080/",
          "height": 134
        }
      },
      "source": [
        "print('f1 score of count vec' ,cv_score)\n",
        "print('f1 score of word tfidf' ,tfw_score)\n",
        "print('f1 score of char tfidf' ,tfc_score)\n",
        "\n",
        "print('f1 score of RNN' ,gru_scores)\n",
        "print('f1 score of gated attention',atten_scores )\n",
        "print('f1 score of tcn',tcn_scores)\n",
        "print('f1 score of kim',kim_scores)\n"
      ],
      "execution_count": 49,
      "outputs": [
        {
          "output_type": "stream",
          "text": [
            "f1 score of count vec 0.7118123864066545\n",
            "f1 score of word tfidf 0.687353952843696\n",
            "f1 score of char tfidf 0.7319249634827353\n",
            "f1 score of RNN 0.7218766928860645\n",
            "f1 score of gated attention 0.7184010831375996\n",
            "f1 score of tcn 0.7195472185997964\n",
            "f1 score of kim 0.709329186768878\n"
          ],
          "name": "stdout"
        }
      ]
    },
    {
      "cell_type": "code",
      "metadata": {
        "id": "ipijYwvjJPyx",
        "colab_type": "code",
        "colab": {}
      },
      "source": [
        "kim_test_avg=np.mean(np.array(kim_test),axis=0)\n",
        "gru_test_avg=np.mean(np.array(gru_test),axis=0)\n",
        "atten_test_avg=np.mean(np.array(atten_test),axis=0)\n",
        "tcn_test_avg=np.mean(np.array(tcn_test),axis=0)\n"
      ],
      "execution_count": 0,
      "outputs": []
    },
    {
      "cell_type": "code",
      "metadata": {
        "id": "ZZ8CR7s1Qe18",
        "colab_type": "code",
        "outputId": "6e39a003-dd85-484d-8844-b63bed339bfb",
        "colab": {
          "base_uri": "https://localhost:8080/",
          "height": 134
        }
      },
      "source": [
        "print(cv_test[5:15].round())\n",
        "print(tfw_test[5:15].round())\n",
        "print(tfc_test[5:15].round())\n",
        "print(gru_test_avg[5:15].round())\n",
        "print(atten_test_avg[5:15].round())\n",
        "print(kim_test_avg[5:15].round())\n",
        "print(tcn_test_avg[5:15].round())"
      ],
      "execution_count": 51,
      "outputs": [
        {
          "output_type": "stream",
          "text": [
            "[0. 1. 0. 0. 0. 0. 0. 0. 0. 0.]\n",
            "[0. 1. 0. 0. 0. 0. 0. 0. 0. 0.]\n",
            "[0. 0. 0. 0. 0. 0. 0. 0. 0. 0.]\n",
            "[0. 1. 0. 0. 0. 0. 1. 0. 0. 0.]\n",
            "[0. 1. 0. 0. 0. 0. 0. 0. 0. 0.]\n",
            "[0. 1. 0. 0. 0. 0. 0. 0. 0. 0.]\n",
            "[0. 1. 0. 0. 0. 0. 0. 0. 0. 0.]\n"
          ],
          "name": "stdout"
        }
      ]
    },
    {
      "cell_type": "markdown",
      "metadata": {
        "id": "DW1OugTMEpZg",
        "colab_type": "text"
      },
      "source": [
        "# Ensemble"
      ]
    },
    {
      "cell_type": "markdown",
      "metadata": {
        "id": "f6VT0aVcUIhm",
        "colab_type": "text"
      },
      "source": [
        "we will choose only those, having f1 greater than 0.7. Once they are selected, we will decode labels, and keep label according to mod"
      ]
    },
    {
      "cell_type": "code",
      "metadata": {
        "id": "6wmQlS5LkZLi",
        "colab_type": "code",
        "outputId": "5a0db381-2b61-4029-c1e6-212aaa0567b8",
        "colab": {
          "base_uri": "https://localhost:8080/",
          "height": 34
        }
      },
      "source": [
        "wt=gru_scores+atten_scores+cv_score+tfw_score+tfc_score+tcn_scores+kim_scores\n",
        "wt"
      ],
      "execution_count": 52,
      "outputs": [
        {
          "output_type": "execute_result",
          "data": {
            "text/plain": [
              "5.000245484125424"
            ]
          },
          "metadata": {
            "tags": []
          },
          "execution_count": 52
        }
      ]
    },
    {
      "cell_type": "code",
      "metadata": {
        "id": "AkCLYtxOcXCA",
        "colab_type": "code",
        "colab": {}
      },
      "source": [
        "y_test=gru_scores/wt * gru_test_avg + atten_scores/wt * atten_test_avg + cv_score/wt * cv_test + tfw_score/wt *tfw_test + tfc_score/wt *tfc_test +kim_scores/wt * kim_test_avg + tcn_scores/wt *tcn_test_avg"
      ],
      "execution_count": 0,
      "outputs": []
    },
    {
      "cell_type": "code",
      "metadata": {
        "id": "EzRAIebNSpMz",
        "colab_type": "code",
        "outputId": "6ab98a14-3ed0-4240-d172-89a08e21a7d7",
        "colab": {
          "base_uri": "https://localhost:8080/",
          "height": 34
        }
      },
      "source": [
        "y_test[5:15].round()"
      ],
      "execution_count": 54,
      "outputs": [
        {
          "output_type": "execute_result",
          "data": {
            "text/plain": [
              "array([0., 1., 0., 0., 0., 0., 0., 0., 0., 0.])"
            ]
          },
          "metadata": {
            "tags": []
          },
          "execution_count": 54
        }
      ]
    },
    {
      "cell_type": "code",
      "metadata": {
        "id": "V9Pu0LvuZIf8",
        "colab_type": "code",
        "colab": {}
      },
      "source": [
        "def decode(y_test):\n",
        "  y_test[y_test>0.5]=1\n",
        "  y_test[y_test<0.5]=0\n",
        "  y_test=y_test.astype('int16').ravel()\n",
        "\n",
        "  y_test=le.inverse_transform(y_test)\n",
        "  y_test=pd.DataFrame(y_test,columns=['label'])\n",
        "  y_test=pd.concat([ids, y_test['label']], axis=1)\n",
        "  return y_test"
      ],
      "execution_count": 0,
      "outputs": []
    },
    {
      "cell_type": "code",
      "metadata": {
        "id": "7PgV77IYZRGP",
        "colab_type": "code",
        "outputId": "de2697a7-b4ac-4188-c97d-fce605a69ce6",
        "colab": {
          "base_uri": "https://localhost:8080/",
          "height": 195
        }
      },
      "source": [
        "y_test=decode(y_test)\n",
        "y_test.head()\n",
        "\n"
      ],
      "execution_count": 56,
      "outputs": [
        {
          "output_type": "execute_result",
          "data": {
            "text/html": [
              "<div>\n",
              "<style scoped>\n",
              "    .dataframe tbody tr th:only-of-type {\n",
              "        vertical-align: middle;\n",
              "    }\n",
              "\n",
              "    .dataframe tbody tr th {\n",
              "        vertical-align: top;\n",
              "    }\n",
              "\n",
              "    .dataframe thead th {\n",
              "        text-align: right;\n",
              "    }\n",
              "</style>\n",
              "<table border=\"1\" class=\"dataframe\">\n",
              "  <thead>\n",
              "    <tr style=\"text-align: right;\">\n",
              "      <th></th>\n",
              "      <th>id</th>\n",
              "      <th>label</th>\n",
              "    </tr>\n",
              "  </thead>\n",
              "  <tbody>\n",
              "    <tr>\n",
              "      <th>0</th>\n",
              "      <td>41993</td>\n",
              "      <td>NOT</td>\n",
              "    </tr>\n",
              "    <tr>\n",
              "      <th>1</th>\n",
              "      <td>23000</td>\n",
              "      <td>NOT</td>\n",
              "    </tr>\n",
              "    <tr>\n",
              "      <th>2</th>\n",
              "      <td>42478</td>\n",
              "      <td>NOT</td>\n",
              "    </tr>\n",
              "    <tr>\n",
              "      <th>3</th>\n",
              "      <td>21748</td>\n",
              "      <td>NOT</td>\n",
              "    </tr>\n",
              "    <tr>\n",
              "      <th>4</th>\n",
              "      <td>13607</td>\n",
              "      <td>NOT</td>\n",
              "    </tr>\n",
              "  </tbody>\n",
              "</table>\n",
              "</div>"
            ],
            "text/plain": [
              "      id label\n",
              "0  41993   NOT\n",
              "1  23000   NOT\n",
              "2  42478   NOT\n",
              "3  21748   NOT\n",
              "4  13607   NOT"
            ]
          },
          "metadata": {
            "tags": []
          },
          "execution_count": 56
        }
      ]
    },
    {
      "cell_type": "code",
      "metadata": {
        "id": "Np7SweTsAfSl",
        "colab_type": "code",
        "outputId": "15db3cf1-08d1-4e05-ebf6-5d991178d066",
        "colab": {
          "base_uri": "https://localhost:8080/",
          "height": 343
        }
      },
      "source": [
        "y_test[5:15]"
      ],
      "execution_count": 57,
      "outputs": [
        {
          "output_type": "execute_result",
          "data": {
            "text/html": [
              "<div>\n",
              "<style scoped>\n",
              "    .dataframe tbody tr th:only-of-type {\n",
              "        vertical-align: middle;\n",
              "    }\n",
              "\n",
              "    .dataframe tbody tr th {\n",
              "        vertical-align: top;\n",
              "    }\n",
              "\n",
              "    .dataframe thead th {\n",
              "        text-align: right;\n",
              "    }\n",
              "</style>\n",
              "<table border=\"1\" class=\"dataframe\">\n",
              "  <thead>\n",
              "    <tr style=\"text-align: right;\">\n",
              "      <th></th>\n",
              "      <th>id</th>\n",
              "      <th>label</th>\n",
              "    </tr>\n",
              "  </thead>\n",
              "  <tbody>\n",
              "    <tr>\n",
              "      <th>5</th>\n",
              "      <td>28439</td>\n",
              "      <td>NOT</td>\n",
              "    </tr>\n",
              "    <tr>\n",
              "      <th>6</th>\n",
              "      <td>14664</td>\n",
              "      <td>OFF</td>\n",
              "    </tr>\n",
              "    <tr>\n",
              "      <th>7</th>\n",
              "      <td>22741</td>\n",
              "      <td>NOT</td>\n",
              "    </tr>\n",
              "    <tr>\n",
              "      <th>8</th>\n",
              "      <td>40997</td>\n",
              "      <td>NOT</td>\n",
              "    </tr>\n",
              "    <tr>\n",
              "      <th>9</th>\n",
              "      <td>15724</td>\n",
              "      <td>NOT</td>\n",
              "    </tr>\n",
              "    <tr>\n",
              "      <th>10</th>\n",
              "      <td>26615</td>\n",
              "      <td>NOT</td>\n",
              "    </tr>\n",
              "    <tr>\n",
              "      <th>11</th>\n",
              "      <td>36970</td>\n",
              "      <td>NOT</td>\n",
              "    </tr>\n",
              "    <tr>\n",
              "      <th>12</th>\n",
              "      <td>40935</td>\n",
              "      <td>NOT</td>\n",
              "    </tr>\n",
              "    <tr>\n",
              "      <th>13</th>\n",
              "      <td>23610</td>\n",
              "      <td>NOT</td>\n",
              "    </tr>\n",
              "    <tr>\n",
              "      <th>14</th>\n",
              "      <td>22870</td>\n",
              "      <td>NOT</td>\n",
              "    </tr>\n",
              "  </tbody>\n",
              "</table>\n",
              "</div>"
            ],
            "text/plain": [
              "       id label\n",
              "5   28439   NOT\n",
              "6   14664   OFF\n",
              "7   22741   NOT\n",
              "8   40997   NOT\n",
              "9   15724   NOT\n",
              "10  26615   NOT\n",
              "11  36970   NOT\n",
              "12  40935   NOT\n",
              "13  23610   NOT\n",
              "14  22870   NOT"
            ]
          },
          "metadata": {
            "tags": []
          },
          "execution_count": 57
        }
      ]
    },
    {
      "cell_type": "code",
      "metadata": {
        "id": "8avMmBQvb_IR",
        "colab_type": "code",
        "colab": {}
      },
      "source": [
        ""
      ],
      "execution_count": 0,
      "outputs": []
    },
    {
      "cell_type": "markdown",
      "metadata": {
        "id": "Dl57zICXM4c6",
        "colab_type": "text"
      },
      "source": [
        "# Submit file"
      ]
    },
    {
      "cell_type": "code",
      "metadata": {
        "id": "3LkCxvtfEnpl",
        "colab_type": "code",
        "colab": {}
      },
      "source": [
        ""
      ],
      "execution_count": 0,
      "outputs": []
    },
    {
      "cell_type": "code",
      "metadata": {
        "id": "GHTCw4_jP_tr",
        "colab_type": "code",
        "colab": {}
      },
      "source": [
        "y_test.to_csv('/content/final.csv',index=False,header=None)\n"
      ],
      "execution_count": 0,
      "outputs": []
    },
    {
      "cell_type": "code",
      "metadata": {
        "id": "2tPo96DUz_EZ",
        "colab_type": "code",
        "colab": {}
      },
      "source": [
        ""
      ],
      "execution_count": 0,
      "outputs": []
    },
    {
      "cell_type": "markdown",
      "metadata": {
        "id": "FwKb7_NBWjAv",
        "colab_type": "text"
      },
      "source": [
        "# Reset"
      ]
    },
    {
      "cell_type": "code",
      "metadata": {
        "id": "R0Xi3s2KWlKi",
        "colab_type": "code",
        "colab": {}
      },
      "source": [
        "# import keras\n",
        "# keras.backend.clear_session()"
      ],
      "execution_count": 0,
      "outputs": []
    },
    {
      "cell_type": "code",
      "metadata": {
        "id": "T39YK5rbQBoT",
        "colab_type": "code",
        "colab": {}
      },
      "source": [
        ""
      ],
      "execution_count": 0,
      "outputs": []
    }
  ]
}