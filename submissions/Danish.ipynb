{
  "nbformat": 4,
  "nbformat_minor": 0,
  "metadata": {
    "colab": {
      "name": "Danish.ipynb",
      "provenance": [],
      "collapsed_sections": [
        "FwKb7_NBWjAv"
      ],
      "authorship_tag": "ABX9TyOeCzE8/Qe7aggXWSk8OqMx",
      "include_colab_link": true
    },
    "kernelspec": {
      "name": "python3",
      "display_name": "Python 3"
    },
    "accelerator": "GPU"
  },
  "cells": [
    {
      "cell_type": "markdown",
      "metadata": {
        "id": "view-in-github",
        "colab_type": "text"
      },
      "source": [
        "<a href=\"https://colab.research.google.com/github/talhaanwarch/OffenseEval2020/blob/master/submissions/Danish.ipynb\" target=\"_parent\"><img src=\"https://colab.research.google.com/assets/colab-badge.svg\" alt=\"Open In Colab\"/></a>"
      ]
    },
    {
      "cell_type": "code",
      "metadata": {
        "id": "_uqG7k8lK3xz",
        "colab_type": "code",
        "colab": {
          "base_uri": "https://localhost:8080/",
          "height": 306
        },
        "outputId": "64e2190a-7f63-48f3-ad7f-27e8d5980a6d"
      },
      "source": [
        "!pip install focal-loss\n",
        "!pip install keras-tcn==2.8.3"
      ],
      "execution_count": 1,
      "outputs": [
        {
          "output_type": "stream",
          "text": [
            "Collecting focal-loss\n",
            "  Downloading https://files.pythonhosted.org/packages/66/ed/17450291228192ad8595de4514c8ec28a587697b03c707d12d4af5b7f331/focal_loss-0.0.2-py3-none-any.whl\n",
            "Installing collected packages: focal-loss\n",
            "Successfully installed focal-loss-0.0.2\n",
            "Collecting keras-tcn==2.8.3\n",
            "  Downloading https://files.pythonhosted.org/packages/d4/c4/438c86b27ab11a79cc659d8d6878682c4eb80caa0c0b3d620740cef762f5/keras_tcn-2.8.3-py3-none-any.whl\n",
            "Requirement already satisfied: numpy in /usr/local/lib/python3.6/dist-packages (from keras-tcn==2.8.3) (1.17.5)\n",
            "Requirement already satisfied: keras in /usr/local/lib/python3.6/dist-packages (from keras-tcn==2.8.3) (2.2.5)\n",
            "Requirement already satisfied: keras-preprocessing>=1.1.0 in /usr/local/lib/python3.6/dist-packages (from keras->keras-tcn==2.8.3) (1.1.0)\n",
            "Requirement already satisfied: six>=1.9.0 in /usr/local/lib/python3.6/dist-packages (from keras->keras-tcn==2.8.3) (1.12.0)\n",
            "Requirement already satisfied: pyyaml in /usr/local/lib/python3.6/dist-packages (from keras->keras-tcn==2.8.3) (3.13)\n",
            "Requirement already satisfied: keras-applications>=1.0.8 in /usr/local/lib/python3.6/dist-packages (from keras->keras-tcn==2.8.3) (1.0.8)\n",
            "Requirement already satisfied: scipy>=0.14 in /usr/local/lib/python3.6/dist-packages (from keras->keras-tcn==2.8.3) (1.4.1)\n",
            "Requirement already satisfied: h5py in /usr/local/lib/python3.6/dist-packages (from keras->keras-tcn==2.8.3) (2.8.0)\n",
            "Installing collected packages: keras-tcn\n",
            "Successfully installed keras-tcn-2.8.3\n"
          ],
          "name": "stdout"
        }
      ]
    },
    {
      "cell_type": "code",
      "metadata": {
        "id": "pPexfZvANVks",
        "colab_type": "code",
        "colab": {
          "base_uri": "https://localhost:8080/",
          "height": 121
        },
        "outputId": "c68b421d-32b0-4af8-d7eb-e69d92915f99"
      },
      "source": [
        "from google.colab import drive\n",
        "drive.mount('/content/drive',force_remount=True)"
      ],
      "execution_count": 2,
      "outputs": [
        {
          "output_type": "stream",
          "text": [
            "Go to this URL in a browser: https://accounts.google.com/o/oauth2/auth?client_id=947318989803-6bn6qk8qdgf4n4g3pfee6491hc0brc4i.apps.googleusercontent.com&redirect_uri=urn%3aietf%3awg%3aoauth%3a2.0%3aoob&response_type=code&scope=email%20https%3a%2f%2fwww.googleapis.com%2fauth%2fdocs.test%20https%3a%2f%2fwww.googleapis.com%2fauth%2fdrive%20https%3a%2f%2fwww.googleapis.com%2fauth%2fdrive.photos.readonly%20https%3a%2f%2fwww.googleapis.com%2fauth%2fpeopleapi.readonly\n",
            "\n",
            "Enter your authorization code:\n",
            "··········\n",
            "Mounted at /content/drive\n"
          ],
          "name": "stdout"
        }
      ]
    },
    {
      "cell_type": "markdown",
      "metadata": {
        "id": "G6Q3msMuLDpE",
        "colab_type": "text"
      },
      "source": [
        "# Import lib"
      ]
    },
    {
      "cell_type": "code",
      "metadata": {
        "id": "MpTHlh_QLDL7",
        "colab_type": "code",
        "colab": {
          "base_uri": "https://localhost:8080/",
          "height": 79
        },
        "outputId": "588a3e08-8219-420e-dad6-549493e0c3de"
      },
      "source": [
        "import pandas as pd\n",
        "from sklearn.preprocessing import LabelEncoder\n",
        "from keras.models import Sequential,Model\n",
        "from keras.layers import Embedding,CuDNNGRU,CuDNNLSTM,Dense,Dropout,Bidirectional,BatchNormalization,GlobalMaxPooling1D,Flatten, GlobalAveragePooling1D, MaxPooling1D,SpatialDropout1D,Input,Activation,concatenate,Conv1D\n",
        "from keras.optimizers import RMSprop,Adam,Adadelta\n",
        "from keras.initializers import Constant\n",
        "from sklearn.utils import class_weight\n",
        "from sklearn.metrics import classification_report,f1_score\n",
        "import keras\n",
        "import collections\n",
        "import numpy as np\n",
        "from focal_loss import BinaryFocalLoss\n",
        "import tensorflow as tf\n",
        "tf.logging.set_verbosity(tf.logging.ERROR)\n"
      ],
      "execution_count": 3,
      "outputs": [
        {
          "output_type": "stream",
          "text": [
            "Using TensorFlow backend.\n"
          ],
          "name": "stderr"
        },
        {
          "output_type": "display_data",
          "data": {
            "text/html": [
              "<p style=\"color: red;\">\n",
              "The default version of TensorFlow in Colab will soon switch to TensorFlow 2.x.<br>\n",
              "We recommend you <a href=\"https://www.tensorflow.org/guide/migrate\" target=\"_blank\">upgrade</a> now \n",
              "or ensure your notebook will continue to use TensorFlow 1.x via the <code>%tensorflow_version 1.x</code> magic:\n",
              "<a href=\"https://colab.research.google.com/notebooks/tensorflow_version.ipynb\" target=\"_blank\">more info</a>.</p>\n"
            ],
            "text/plain": [
              "<IPython.core.display.HTML object>"
            ]
          },
          "metadata": {
            "tags": []
          }
        }
      ]
    },
    {
      "cell_type": "markdown",
      "metadata": {
        "id": "Udk8qWz-K4cx",
        "colab_type": "text"
      },
      "source": [
        "# Load data"
      ]
    },
    {
      "cell_type": "code",
      "metadata": {
        "id": "52k7345EK6kb",
        "colab_type": "code",
        "colab": {
          "base_uri": "https://localhost:8080/",
          "height": 34
        },
        "outputId": "690819b0-fe59-4610-b3d5-b3f2fdbd23a0"
      },
      "source": [
        "cd /content/drive/My Drive/dataset/OffenseEval2020/data/Danish/"
      ],
      "execution_count": 4,
      "outputs": [
        {
          "output_type": "stream",
          "text": [
            "/content/drive/My Drive/dataset/OffenseEval2020/data/Danish\n"
          ],
          "name": "stdout"
        }
      ]
    },
    {
      "cell_type": "code",
      "metadata": {
        "id": "MnI2RvjGK_Vw",
        "colab_type": "code",
        "colab": {
          "base_uri": "https://localhost:8080/",
          "height": 50
        },
        "outputId": "861f2ab4-70c6-4a80-af08-a344659efbde"
      },
      "source": [
        "ls"
      ],
      "execution_count": 5,
      "outputs": [
        {
          "output_type": "stream",
          "text": [
            "cc.da.300.vec     offenseval-da-test-v1-nolabels.tsv\n",
            "cc.da.300.vec.gz  offenseval-da-training-v1.tsv\n"
          ],
          "name": "stdout"
        }
      ]
    },
    {
      "cell_type": "code",
      "metadata": {
        "id": "Jnd4B-_5LApL",
        "colab_type": "code",
        "colab": {
          "base_uri": "https://localhost:8080/",
          "height": 212
        },
        "outputId": "beb6fc19-9bbe-49bc-aefc-63fe017e6bfc"
      },
      "source": [
        "train=pd.read_csv( 'offenseval-da-training-v1.tsv',sep=\"\\t\")\n",
        "train.drop(train.tail(n=1).index,inplace=True)\n",
        "train[\"tweet\"]= train[\"tweet\"].str.replace('@USER', \"\") \n",
        "train['tweet']=train['tweet'].str.replace('\\d+', '')\n",
        "train['tweet']=train['tweet'].str.replace('URL', '')\n",
        "train[\"tweet\"]= train[\"tweet\"].str.lower()\n",
        "train=train.sample(frac=1)\n",
        "print(len(train))\n",
        "train.head()"
      ],
      "execution_count": 6,
      "outputs": [
        {
          "output_type": "stream",
          "text": [
            "2960\n"
          ],
          "name": "stdout"
        },
        {
          "output_type": "execute_result",
          "data": {
            "text/html": [
              "<div>\n",
              "<style scoped>\n",
              "    .dataframe tbody tr th:only-of-type {\n",
              "        vertical-align: middle;\n",
              "    }\n",
              "\n",
              "    .dataframe tbody tr th {\n",
              "        vertical-align: top;\n",
              "    }\n",
              "\n",
              "    .dataframe thead th {\n",
              "        text-align: right;\n",
              "    }\n",
              "</style>\n",
              "<table border=\"1\" class=\"dataframe\">\n",
              "  <thead>\n",
              "    <tr style=\"text-align: right;\">\n",
              "      <th></th>\n",
              "      <th>id</th>\n",
              "      <th>tweet</th>\n",
              "      <th>subtask_a</th>\n",
              "    </tr>\n",
              "  </thead>\n",
              "  <tbody>\n",
              "    <tr>\n",
              "      <th>2291</th>\n",
              "      <td>3</td>\n",
              "      <td>fuck første maj. busserne kører ændret rute og...</td>\n",
              "      <td>OFF</td>\n",
              "    </tr>\n",
              "    <tr>\n",
              "      <th>1374</th>\n",
              "      <td>3356</td>\n",
              "      <td>[så los mig hårdt i bollerne](</td>\n",
              "      <td>NOT</td>\n",
              "    </tr>\n",
              "    <tr>\n",
              "      <th>544</th>\n",
              "      <td>778</td>\n",
              "      <td>hvad sker der oppe i hovedet på folk !!!</td>\n",
              "      <td>NOT</td>\n",
              "    </tr>\n",
              "    <tr>\n",
              "      <th>2134</th>\n",
              "      <td>2193</td>\n",
              "      <td>risengrøden skal have lurpark på. og kanelsukk...</td>\n",
              "      <td>NOT</td>\n",
              "    </tr>\n",
              "    <tr>\n",
              "      <th>2021</th>\n",
              "      <td>3080</td>\n",
              "      <td>amager ser godt nok spøjs ud.</td>\n",
              "      <td>NOT</td>\n",
              "    </tr>\n",
              "  </tbody>\n",
              "</table>\n",
              "</div>"
            ],
            "text/plain": [
              "        id                                              tweet subtask_a\n",
              "2291     3  fuck første maj. busserne kører ændret rute og...       OFF\n",
              "1374  3356                     [så los mig hårdt i bollerne](       NOT\n",
              "544    778           hvad sker der oppe i hovedet på folk !!!       NOT\n",
              "2134  2193  risengrøden skal have lurpark på. og kanelsukk...       NOT\n",
              "2021  3080                      amager ser godt nok spøjs ud.       NOT"
            ]
          },
          "metadata": {
            "tags": []
          },
          "execution_count": 6
        }
      ]
    },
    {
      "cell_type": "code",
      "metadata": {
        "id": "JdwHh_q_LLus",
        "colab_type": "code",
        "colab": {
          "base_uri": "https://localhost:8080/",
          "height": 118
        },
        "outputId": "f17681a6-42b8-4aac-d1da-9b29d5a165ef"
      },
      "source": [
        "test=pd.read_csv( 'offenseval-da-test-v1-nolabels.tsv',sep='\\t')\n",
        "test[\"tweet\"]= test[\"tweet   subtask_a\"].str.replace('@USER', \"\") \n",
        "test['tweet']=test['tweet'].str.replace('\\d+', '')\n",
        "test['tweet']=test['tweet'].str.replace('URL', '')\n",
        "test['tweet']=test['tweet'].str.lower()\n",
        "ids=test['id']\n",
        "test=test['tweet']\n",
        "test.head()"
      ],
      "execution_count": 7,
      "outputs": [
        {
          "output_type": "execute_result",
          "data": {
            "text/plain": [
              "0    der er syriske \"flygtninge\" som rejser til ira...\n",
              "1                               danmark = vitryssland?\n",
              "2    ja tvangsfjernelser af børn på urigtige oplysn...\n",
              "3    han kan ikke svensk og forventer et job. hvis ...\n",
              "4                                    ned med svensken!\n",
              "Name: tweet, dtype: object"
            ]
          },
          "metadata": {
            "tags": []
          },
          "execution_count": 7
        }
      ]
    },
    {
      "cell_type": "markdown",
      "metadata": {
        "id": "YUFczyikLeYO",
        "colab_type": "text"
      },
      "source": [
        "#Label Encoding"
      ]
    },
    {
      "cell_type": "code",
      "metadata": {
        "id": "CFPv0_zdLnlS",
        "colab_type": "code",
        "colab": {}
      },
      "source": [
        "labels=train['subtask_a']\n",
        "train=train['tweet']"
      ],
      "execution_count": 0,
      "outputs": []
    },
    {
      "cell_type": "code",
      "metadata": {
        "id": "w9PjbFwJLiNA",
        "colab_type": "code",
        "colab": {
          "base_uri": "https://localhost:8080/",
          "height": 34
        },
        "outputId": "be8b0c1c-920f-45c0-9615-1622fa21dcb3"
      },
      "source": [
        "le=LabelEncoder()\n",
        "labels=le.fit_transform(labels)\n",
        "print(len(labels))"
      ],
      "execution_count": 9,
      "outputs": [
        {
          "output_type": "stream",
          "text": [
            "2960\n"
          ],
          "name": "stdout"
        }
      ]
    },
    {
      "cell_type": "markdown",
      "metadata": {
        "id": "Ek_ZUjDef7ZV",
        "colab_type": "text"
      },
      "source": [
        "# Common Parameters"
      ]
    },
    {
      "cell_type": "code",
      "metadata": {
        "id": "ijjhkumKaDw7",
        "colab_type": "code",
        "colab": {}
      },
      "source": [
        "test_size=0.15\n",
        "batch_size=32\n",
        "opt=Adam()"
      ],
      "execution_count": 0,
      "outputs": []
    },
    {
      "cell_type": "markdown",
      "metadata": {
        "id": "i-IToeBciV1m",
        "colab_type": "text"
      },
      "source": [
        "## Cylic learning rate"
      ]
    },
    {
      "cell_type": "code",
      "metadata": {
        "id": "PIYW6ZAniXzU",
        "colab_type": "code",
        "colab": {}
      },
      "source": [
        "# https://www.kaggle.com/hireme/fun-api-keras-f1-metric-cyclical-learning-rate/code\n",
        "from keras.callbacks import Callback\n",
        "class CyclicLR(Callback):\n",
        "    \"\"\"This callback implements a cyclical learning rate policy (CLR).\n",
        "    The method cycles the learning rate between two boundaries with\n",
        "    some constant frequency, as detailed in this paper (https://arxiv.org/abs/1506.01186).\n",
        "    The amplitude of the cycle can be scaled on a per-iteration or \n",
        "    per-cycle basis.\n",
        "    This class has three built-in policies, as put forth in the paper.\n",
        "    \"triangular\":\n",
        "        A basic triangular cycle w/ no amplitude scaling.\n",
        "    \"triangular2\":\n",
        "        A basic triangular cycle that scales initial amplitude by half each cycle.\n",
        "    \"exp_range\":\n",
        "        A cycle that scales initial amplitude by gamma**(cycle iterations) at each \n",
        "        cycle iteration.\n",
        "    For more detail, please see paper.\n",
        "    \n",
        "    # Example\n",
        "        ```python\n",
        "            clr = CyclicLR(base_lr=0.001, max_lr=0.006,\n",
        "                                step_size=2000., mode='triangular')\n",
        "            model.fit(X_train, Y_train, callbacks=[clr])\n",
        "        ```\n",
        "    \n",
        "    Class also supports custom scaling functions:\n",
        "        ```python\n",
        "            clr_fn = lambda x: 0.5*(1+np.sin(x*np.pi/2.))\n",
        "            clr = CyclicLR(base_lr=0.001, max_lr=0.006,\n",
        "                                step_size=2000., scale_fn=clr_fn,\n",
        "                                scale_mode='cycle')\n",
        "            model.fit(X_train, Y_train, callbacks=[clr])\n",
        "        ```    \n",
        "    # Arguments\n",
        "        base_lr: initial learning rate which is the\n",
        "            lower boundary in the cycle.\n",
        "        max_lr: upper boundary in the cycle. Functionally,\n",
        "            it defines the cycle amplitude (max_lr - base_lr).\n",
        "            The lr at any cycle is the sum of base_lr\n",
        "            and some scaling of the amplitude; therefore \n",
        "            max_lr may not actually be reached depending on\n",
        "            scaling function.\n",
        "        step_size: number of training iterations per\n",
        "            half cycle. Authors suggest setting step_size\n",
        "            2-8 x training iterations in epoch.\n",
        "        mode: one of {triangular, triangular2, exp_range}.\n",
        "            Default 'triangular'.\n",
        "            Values correspond to policies detailed above.\n",
        "            If scale_fn is not None, this argument is ignored.\n",
        "        gamma: constant in 'exp_range' scaling function:\n",
        "            gamma**(cycle iterations)\n",
        "        scale_fn: Custom scaling policy defined by a single\n",
        "            argument lambda function, where \n",
        "            0 <= scale_fn(x) <= 1 for all x >= 0.\n",
        "            mode paramater is ignored \n",
        "        scale_mode: {'cycle', 'iterations'}.\n",
        "            Defines whether scale_fn is evaluated on \n",
        "            cycle number or cycle iterations (training\n",
        "            iterations since start of cycle). Default is 'cycle'.\n",
        "    \"\"\"\n",
        "\n",
        "    def __init__(self, base_lr=0.001, max_lr=0.006, step_size=2000., mode='triangular',\n",
        "                 gamma=1., scale_fn=None, scale_mode='cycle'):\n",
        "        super(CyclicLR, self).__init__()\n",
        "\n",
        "        self.base_lr = base_lr\n",
        "        self.max_lr = max_lr\n",
        "        self.step_size = step_size\n",
        "        self.mode = mode\n",
        "        self.gamma = gamma\n",
        "        if scale_fn == None:\n",
        "            if self.mode == 'triangular':\n",
        "                self.scale_fn = lambda x: 1.\n",
        "                self.scale_mode = 'cycle'\n",
        "            elif self.mode == 'triangular2':\n",
        "                self.scale_fn = lambda x: 1/(2.**(x-1))\n",
        "                self.scale_mode = 'cycle'\n",
        "            elif self.mode == 'exp_range':\n",
        "                self.scale_fn = lambda x: gamma**(x)\n",
        "                self.scale_mode = 'iterations'\n",
        "        else:\n",
        "            self.scale_fn = scale_fn\n",
        "            self.scale_mode = scale_mode\n",
        "        self.clr_iterations = 0.\n",
        "        self.trn_iterations = 0.\n",
        "        self.history = {}\n",
        "\n",
        "        self._reset()\n",
        "\n",
        "    def _reset(self, new_base_lr=None, new_max_lr=None,\n",
        "               new_step_size=None):\n",
        "        \"\"\"Resets cycle iterations.\n",
        "        Optional boundary/step size adjustment.\n",
        "        \"\"\"\n",
        "        if new_base_lr != None:\n",
        "            self.base_lr = new_base_lr\n",
        "        if new_max_lr != None:\n",
        "            self.max_lr = new_max_lr\n",
        "        if new_step_size != None:\n",
        "            self.step_size = new_step_size\n",
        "        self.clr_iterations = 0.\n",
        "        \n",
        "    def clr(self):\n",
        "        cycle = np.floor(1+self.clr_iterations/(2*self.step_size))\n",
        "        x = np.abs(self.clr_iterations/self.step_size - 2*cycle + 1)\n",
        "        if self.scale_mode == 'cycle':\n",
        "            return self.base_lr + (self.max_lr-self.base_lr)*np.maximum(0, (1-x))*self.scale_fn(cycle)\n",
        "        else:\n",
        "            return self.base_lr + (self.max_lr-self.base_lr)*np.maximum(0, (1-x))*self.scale_fn(self.clr_iterations)\n",
        "        \n",
        "    def on_train_begin(self, logs={}):\n",
        "        logs = logs or {}\n",
        "\n",
        "        if self.clr_iterations == 0:\n",
        "            K.set_value(self.model.optimizer.lr, self.base_lr)\n",
        "        else:\n",
        "            K.set_value(self.model.optimizer.lr, self.clr())        \n",
        "            \n",
        "    def on_batch_end(self, epoch, logs=None):\n",
        "        \n",
        "        logs = logs or {}\n",
        "        self.trn_iterations += 1\n",
        "        self.clr_iterations += 1\n",
        "\n",
        "        self.history.setdefault('lr', []).append(K.get_value(self.model.optimizer.lr))\n",
        "        self.history.setdefault('iterations', []).append(self.trn_iterations)\n",
        "\n",
        "        for k, v in logs.items():\n",
        "            self.history.setdefault(k, []).append(v)\n",
        "        \n",
        "        K.set_value(self.model.optimizer.lr, self.clr())"
      ],
      "execution_count": 0,
      "outputs": []
    },
    {
      "cell_type": "code",
      "metadata": {
        "id": "DIcxIjeYjHyo",
        "colab_type": "code",
        "colab": {}
      },
      "source": [
        "clr = CyclicLR(base_lr=0.001, max_lr=0.005,\n",
        "                        step_size=4., mode='exp_range',\n",
        "                        gamma=0.99994)"
      ],
      "execution_count": 0,
      "outputs": []
    },
    {
      "cell_type": "markdown",
      "metadata": {
        "id": "NAv_EEaQLXtY",
        "colab_type": "text"
      },
      "source": [
        "# Tokenize data"
      ]
    },
    {
      "cell_type": "code",
      "metadata": {
        "id": "QomCkNlRLHPG",
        "colab_type": "code",
        "colab": {}
      },
      "source": [
        "from keras.preprocessing.text import Tokenizer\n",
        "from keras.preprocessing import sequence\n",
        "max_words = 10000 #frequency of words to be kept\n",
        "max_len = 200\n",
        "\n",
        "tokenize = Tokenizer(num_words=max_words)\n",
        "tokenize.fit_on_texts(train)\n",
        "sequences = tokenize.texts_to_sequences(train)\n",
        "word_index = tokenize.word_index\n",
        "sequences_matrix = sequence.pad_sequences(sequences,maxlen=max_len,padding='post')"
      ],
      "execution_count": 0,
      "outputs": []
    },
    {
      "cell_type": "code",
      "metadata": {
        "id": "Og1W2rCOLs4w",
        "colab_type": "code",
        "colab": {
          "base_uri": "https://localhost:8080/",
          "height": 34
        },
        "outputId": "ccb1f6f9-0833-47eb-8685-2e58de3f0fd7"
      },
      "source": [
        "len(sequences_matrix),len(labels)"
      ],
      "execution_count": 14,
      "outputs": [
        {
          "output_type": "execute_result",
          "data": {
            "text/plain": [
              "(2960, 2960)"
            ]
          },
          "metadata": {
            "tags": []
          },
          "execution_count": 14
        }
      ]
    },
    {
      "cell_type": "code",
      "metadata": {
        "id": "I4kzu1RxLyGk",
        "colab_type": "code",
        "colab": {
          "base_uri": "https://localhost:8080/",
          "height": 34
        },
        "outputId": "952d4bd1-0a99-4282-bf56-a3824f1087ba"
      },
      "source": [
        "num_words = min(max_words, len(word_index)) + 1\n",
        "print(num_words)"
      ],
      "execution_count": 15,
      "outputs": [
        {
          "output_type": "stream",
          "text": [
            "9802\n"
          ],
          "name": "stdout"
        }
      ]
    },
    {
      "cell_type": "code",
      "metadata": {
        "id": "4i7WSY3lMmdp",
        "colab_type": "code",
        "colab": {}
      },
      "source": [
        "test_sequences = tokenize.texts_to_sequences(test)\n",
        "X_test_sequences = sequence.pad_sequences(test_sequences,maxlen=max_len,padding='post')"
      ],
      "execution_count": 0,
      "outputs": []
    },
    {
      "cell_type": "code",
      "metadata": {
        "id": "nRZxav1WNle-",
        "colab_type": "code",
        "colab": {
          "base_uri": "https://localhost:8080/",
          "height": 34
        },
        "outputId": "5abbda9f-fa54-47cf-eb83-c0557c0db4fa"
      },
      "source": [
        "len(X_test_sequences)"
      ],
      "execution_count": 17,
      "outputs": [
        {
          "output_type": "execute_result",
          "data": {
            "text/plain": [
              "329"
            ]
          },
          "metadata": {
            "tags": []
          },
          "execution_count": 17
        }
      ]
    },
    {
      "cell_type": "markdown",
      "metadata": {
        "id": "iwYC3x9tG35A",
        "colab_type": "text"
      },
      "source": [
        "# CharLevel Tokenization"
      ]
    },
    {
      "cell_type": "code",
      "metadata": {
        "id": "EQLA4CfIPIBF",
        "colab_type": "code",
        "colab": {}
      },
      "source": [
        "#https://github.com/BrambleXu/nlp-beginner-guide-keras/blob/master/char-level-cnn/char_cnn.py\n",
        "from keras.preprocessing.text import Tokenizer\n",
        "from keras.preprocessing import sequence\n",
        "from keras.preprocessing.sequence import pad_sequences\n",
        "\n",
        "max_words = 10000 #frequency of words to be kept\n",
        "max_len = 200\n",
        "#a\tb\tc\td\te\tf\tg\th\ti\tj\tk\tl\tm\tn\to\tp\tq\tr\ts\tt\tu\tv\tw\tx\ty\tz\tæ\tø\tå\n",
        "ch_tokenize = Tokenizer(num_words=None, char_level=True, oov_token='UNK')\n",
        "ch_tokenize.fit_on_texts(train)\n",
        "\n",
        "alphabet = \"abcdefghijklmnopqrstuvwxyzæøå,;.!?:'\\\"/\\\\|_@#$%^&*~`+-=<>()[]{}\"\n",
        "char_dict = {}\n",
        "for i, char in enumerate(alphabet):\n",
        "    char_dict[char] = i + 1\n",
        "\n",
        "# Use char_dict to replace the ch_tokenize.word_index\n",
        "ch_tokenize.word_index = char_dict.copy()\n",
        "# Add 'UNK' to the vocabulary\n",
        "ch_tokenize.word_index[ch_tokenize.oov_token] = max(char_dict.values()) + 1\n",
        "\n",
        "train_sequences = ch_tokenize.texts_to_sequences(train)\n",
        "text_sequences = ch_tokenize.texts_to_sequences(test)\n",
        "\n",
        "# Padding\n",
        "train_data = pad_sequences(train_sequences, maxlen=max_len, padding='post')\n",
        "test_data = pad_sequences(text_sequences, maxlen=max_len, padding='post')"
      ],
      "execution_count": 0,
      "outputs": []
    },
    {
      "cell_type": "markdown",
      "metadata": {
        "id": "SpzUIu4iL0PO",
        "colab_type": "text"
      },
      "source": [
        "# Embeddings"
      ]
    },
    {
      "cell_type": "code",
      "metadata": {
        "id": "o3UFPJAWL10_",
        "colab_type": "code",
        "colab": {}
      },
      "source": [
        "embed_size=300\n",
        "def get_coefs(word,*arr):\n",
        "    return word, np.asarray(arr, dtype='float32')\n",
        "\n",
        "def build_matrix(embedding_path, word_index):\n",
        "    embedding_index = dict(get_coefs(*o.strip().split(\" \")) for o in open(embedding_path))\n",
        "\n",
        "    nb_words = min(max_words, len(word_index))\n",
        "    embedding_matrix = np.zeros((nb_words + 1, embed_size))\n",
        "    for word, i in word_index.items():\n",
        "        if i >= max_words:\n",
        "            continue\n",
        "        embedding_vector = embedding_index.get(word)\n",
        "        if embedding_vector is not None:\n",
        "            embedding_matrix[i] = embedding_vector\n",
        "    return embedding_matrix"
      ],
      "execution_count": 0,
      "outputs": []
    },
    {
      "cell_type": "code",
      "metadata": {
        "id": "zTviPXodLzRW",
        "colab_type": "code",
        "colab": {
          "base_uri": "https://localhost:8080/",
          "height": 34
        },
        "outputId": "31337cd0-63f0-4c84-c413-ad8215e4bb40"
      },
      "source": [
        "embeddings=build_matrix('cc.da.300.vec', word_index)\n",
        "embeddings.shape"
      ],
      "execution_count": 20,
      "outputs": [
        {
          "output_type": "execute_result",
          "data": {
            "text/plain": [
              "(9802, 300)"
            ]
          },
          "metadata": {
            "tags": []
          },
          "execution_count": 20
        }
      ]
    },
    {
      "cell_type": "code",
      "metadata": {
        "id": "DaShFhtgJ_Ef",
        "colab_type": "code",
        "colab": {}
      },
      "source": [
        ""
      ],
      "execution_count": 0,
      "outputs": []
    },
    {
      "cell_type": "markdown",
      "metadata": {
        "id": "e8_AdRhffkS3",
        "colab_type": "text"
      },
      "source": [
        "# Base Models"
      ]
    },
    {
      "cell_type": "code",
      "metadata": {
        "id": "b8BPz34Tgsr_",
        "colab_type": "code",
        "colab": {}
      },
      "source": [
        "from sklearn.model_selection import train_test_split\n",
        "x_train,x_val,y_train,y_val=train_test_split(train,labels,test_size=test_size,stratify=labels,shuffle=True,random_state=2020)"
      ],
      "execution_count": 0,
      "outputs": []
    },
    {
      "cell_type": "code",
      "metadata": {
        "id": "9nFZvNcbF0m-",
        "colab_type": "code",
        "colab": {
          "base_uri": "https://localhost:8080/",
          "height": 34
        },
        "outputId": "cf298723-70c5-4809-f9ce-0c01b64ead55"
      },
      "source": [
        "collections.Counter(y_val)"
      ],
      "execution_count": 22,
      "outputs": [
        {
          "output_type": "execute_result",
          "data": {
            "text/plain": [
              "Counter({0: 386, 1: 58})"
            ]
          },
          "metadata": {
            "tags": []
          },
          "execution_count": 22
        }
      ]
    },
    {
      "cell_type": "markdown",
      "metadata": {
        "id": "jvXD0v5mfm7M",
        "colab_type": "text"
      },
      "source": [
        "## Count Vectorizer"
      ]
    },
    {
      "cell_type": "code",
      "metadata": {
        "id": "YwPQNqimfo68",
        "colab_type": "code",
        "colab": {}
      },
      "source": [
        "from sklearn.feature_extraction.text import CountVectorizer\n",
        "count_vectorizer = CountVectorizer()\n",
        "count_vectorizer.fit(x_train)\n",
        "X_train_cv = count_vectorizer.transform(x_train)\n",
        "X_val_cv  = count_vectorizer.transform(x_val)\n",
        "X_test_cv=  count_vectorizer.transform(test)"
      ],
      "execution_count": 0,
      "outputs": []
    },
    {
      "cell_type": "code",
      "metadata": {
        "id": "dBKYCrdiuD-O",
        "colab_type": "code",
        "colab": {
          "base_uri": "https://localhost:8080/",
          "height": 50
        },
        "outputId": "47d19e67-ea0d-445b-dad5-4c4f799a3089"
      },
      "source": [
        "from sklearn.model_selection import GridSearchCV\n",
        "from sklearn.linear_model import LogisticRegression\n",
        "def logistic_param_selection(X, y, nfolds):\n",
        "    C= [0.1, 1,3,5,8, 10,12,15]\n",
        "    param_grid = {'C': C}\n",
        "    grid_search = GridSearchCV(LogisticRegression(max_iter=1000), param_grid, cv=nfolds,scoring='f1_macro')\n",
        "    grid_search.fit(X, y)\n",
        "    print(grid_search.best_params_)\n",
        "    return grid_search.best_score_\n",
        "count_vectorizer.fit(train)\n",
        "train_cv = count_vectorizer.transform(train)\n",
        "logistic_param_selection(train_cv,labels,5)"
      ],
      "execution_count": 24,
      "outputs": [
        {
          "output_type": "stream",
          "text": [
            "{'C': 15}\n"
          ],
          "name": "stdout"
        },
        {
          "output_type": "execute_result",
          "data": {
            "text/plain": [
              "0.7111039764583682"
            ]
          },
          "metadata": {
            "tags": []
          },
          "execution_count": 24
        }
      ]
    },
    {
      "cell_type": "code",
      "metadata": {
        "id": "pA6nF9kLuGoI",
        "colab_type": "code",
        "colab": {}
      },
      "source": [
        ""
      ],
      "execution_count": 0,
      "outputs": []
    },
    {
      "cell_type": "code",
      "metadata": {
        "id": "f7DrfvLqf9GB",
        "colab_type": "code",
        "colab": {
          "base_uri": "https://localhost:8080/",
          "height": 168
        },
        "outputId": "42f68eb9-d3ec-48d3-eea3-70b2ad942cb5"
      },
      "source": [
        "from sklearn.linear_model import LogisticRegression\n",
        "cv_classifier = LogisticRegression(solver='lbfgs',C=15,max_iter=500,class_weight='balance')\n",
        "cv_classifier.fit(X_train_cv, y_train)\n",
        "y_pred = cv_classifier.predict(X_val_cv)\n",
        "print(classification_report(y_val, y_pred))\n",
        "cv_f1=f1_score(y_val, y_pred,average='macro')"
      ],
      "execution_count": 25,
      "outputs": [
        {
          "output_type": "stream",
          "text": [
            "              precision    recall  f1-score   support\n",
            "\n",
            "           0       0.92      0.97      0.95       386\n",
            "           1       0.73      0.47      0.57        58\n",
            "\n",
            "    accuracy                           0.91       444\n",
            "   macro avg       0.83      0.72      0.76       444\n",
            "weighted avg       0.90      0.91      0.90       444\n",
            "\n"
          ],
          "name": "stdout"
        }
      ]
    },
    {
      "cell_type": "markdown",
      "metadata": {
        "id": "hJDyK1lahqqG",
        "colab_type": "text"
      },
      "source": [
        "## TF IDF word vectorizer"
      ]
    },
    {
      "cell_type": "code",
      "metadata": {
        "id": "Gz1WZZEufmEq",
        "colab_type": "code",
        "colab": {}
      },
      "source": [
        "from sklearn.feature_extraction.text import TfidfVectorizer\n",
        "word_vectorizer = TfidfVectorizer(\n",
        "    sublinear_tf=True,\n",
        "    strip_accents='unicode',\n",
        "    analyzer='word',\n",
        "    token_pattern=r'\\w{1,}',\n",
        "    ngram_range=(1, 4),\n",
        "    max_features=10000)\n",
        "word_vectorizer.fit(x_train)\n",
        "train_word_features = word_vectorizer.transform(x_train)\n",
        "val_word_features = word_vectorizer.transform(x_val)\n",
        "test_word_features = word_vectorizer.transform(test)"
      ],
      "execution_count": 0,
      "outputs": []
    },
    {
      "cell_type": "code",
      "metadata": {
        "id": "04JmMwoEh4-d",
        "colab_type": "code",
        "colab": {
          "base_uri": "https://localhost:8080/",
          "height": 168
        },
        "outputId": "dfd65343-e8aa-4d82-9bcd-c1d19204fa0e"
      },
      "source": [
        "from sklearn.linear_model import LogisticRegression\n",
        "tfw_classifier = LogisticRegression(solver='lbfgs',max_iter=500)\n",
        "tfw_classifier.fit(train_word_features, y_train)\n",
        "y_pred = tfw_classifier.predict(val_word_features)\n",
        "print(classification_report(y_val, y_pred))\n",
        "tfw_f1=f1_score(y_val, y_pred,average='macro')"
      ],
      "execution_count": 27,
      "outputs": [
        {
          "output_type": "stream",
          "text": [
            "              precision    recall  f1-score   support\n",
            "\n",
            "           0       0.88      1.00      0.93       386\n",
            "           1       1.00      0.05      0.10        58\n",
            "\n",
            "    accuracy                           0.88       444\n",
            "   macro avg       0.94      0.53      0.52       444\n",
            "weighted avg       0.89      0.88      0.82       444\n",
            "\n"
          ],
          "name": "stdout"
        }
      ]
    },
    {
      "cell_type": "markdown",
      "metadata": {
        "id": "fNSvwaG1ioq0",
        "colab_type": "text"
      },
      "source": [
        "## TF IDF char vectorizer"
      ]
    },
    {
      "cell_type": "code",
      "metadata": {
        "id": "a_kqct6jiBq1",
        "colab_type": "code",
        "colab": {}
      },
      "source": [
        "char_vectorizer = TfidfVectorizer(\n",
        "    sublinear_tf=True,\n",
        "    strip_accents='unicode',\n",
        "    analyzer='char',\n",
        "    ngram_range=(1, 6),\n",
        "    max_features=30000)\n",
        "char_vectorizer.fit(x_train)\n",
        "train_char_features = char_vectorizer.transform(x_train)\n",
        "val_char_features = char_vectorizer.transform(x_val)\n",
        "test_char_features = char_vectorizer.transform(test)"
      ],
      "execution_count": 0,
      "outputs": []
    },
    {
      "cell_type": "code",
      "metadata": {
        "id": "cYhzRPO0iRMb",
        "colab_type": "code",
        "colab": {
          "base_uri": "https://localhost:8080/",
          "height": 168
        },
        "outputId": "b97a455b-be71-432c-8117-faae9c0e3f9d"
      },
      "source": [
        "tfc_classifier = LogisticRegression(solver='lbfgs',max_iter=500)\n",
        "tfc_classifier.fit(train_char_features, y_train)\n",
        "y_pred = tfc_classifier.predict(val_char_features)\n",
        "print(classification_report(y_val, y_pred))\n",
        "tfc_f1=f1_score(y_val, y_pred,average='macro')"
      ],
      "execution_count": 29,
      "outputs": [
        {
          "output_type": "stream",
          "text": [
            "              precision    recall  f1-score   support\n",
            "\n",
            "           0       0.88      1.00      0.93       386\n",
            "           1       1.00      0.07      0.13        58\n",
            "\n",
            "    accuracy                           0.88       444\n",
            "   macro avg       0.94      0.53      0.53       444\n",
            "weighted avg       0.89      0.88      0.83       444\n",
            "\n"
          ],
          "name": "stdout"
        }
      ]
    },
    {
      "cell_type": "code",
      "metadata": {
        "id": "tpkjinLBXX7j",
        "colab_type": "code",
        "colab": {}
      },
      "source": [
        ""
      ],
      "execution_count": 0,
      "outputs": []
    },
    {
      "cell_type": "markdown",
      "metadata": {
        "id": "I6sOo5OtMQnL",
        "colab_type": "text"
      },
      "source": [
        "# Models"
      ]
    },
    {
      "cell_type": "code",
      "metadata": {
        "id": "G71gBUQ0MNDM",
        "colab_type": "code",
        "colab": {}
      },
      "source": [
        "from sklearn.model_selection import train_test_split\n",
        "x_train,x_val,y_train,y_val=train_test_split(sequences_matrix,labels,test_size=test_size,stratify=labels,shuffle=True,random_state=2020)"
      ],
      "execution_count": 0,
      "outputs": []
    },
    {
      "cell_type": "markdown",
      "metadata": {
        "id": "jv2yPgQWL9de",
        "colab_type": "text"
      },
      "source": [
        "##GRU"
      ]
    },
    {
      "cell_type": "code",
      "metadata": {
        "id": "XXvqlGD0L-sx",
        "colab_type": "code",
        "colab": {}
      },
      "source": [
        "def model_gru():\n",
        "  inp = Input(shape=(max_len,))\n",
        "  x = Embedding(num_words,embed_size,embeddings_initializer=Constant(embeddings),input_length=max_len,trainable=False)(inp)\n",
        "  x = SpatialDropout1D(0.1)(x)\n",
        "  x = Bidirectional(CuDNNLSTM(50, return_sequences=True))(x)\n",
        "  x, x_h, x_c = Bidirectional(CuDNNGRU(50, return_sequences=True, return_state = True))(x)\n",
        "  avg_pool = GlobalAveragePooling1D()(x)\n",
        "  max_pool = GlobalMaxPooling1D()(x)\n",
        "  conc = concatenate([avg_pool, x_h, max_pool])\n",
        "  outp = Dense(1, activation=\"sigmoid\")(conc)    \n",
        "  model = Model(inputs=inp, outputs=outp)\n",
        "  model.compile(loss=BinaryFocalLoss(gamma=2), optimizer=opt, metrics=['accuracy'])\n",
        "  return model"
      ],
      "execution_count": 0,
      "outputs": []
    },
    {
      "cell_type": "markdown",
      "metadata": {
        "id": "7t_Ph6qafOQK",
        "colab_type": "text"
      },
      "source": [
        "## GRU attention"
      ]
    },
    {
      "cell_type": "code",
      "metadata": {
        "id": "KyKea_xMkrmP",
        "colab_type": "code",
        "colab": {}
      },
      "source": [
        "#https://github.com/zake7749/DeepToxic\n",
        "from keras.layers import Layer,Lambda\n",
        "from keras import initializers\n",
        "from keras.engine import InputSpec, Layer\n",
        "from keras import backend as K\n",
        "\n",
        "class AttentionWeightedAverage(Layer):\n",
        "    \"\"\"\n",
        "    Computes a weighted average of the different channels across timesteps.\n",
        "    Uses 1 parameter pr. channel to compute the attention value for a single timestep.\n",
        "    \"\"\"\n",
        "\n",
        "    def __init__(self, return_attention=False, **kwargs):\n",
        "        self.init = initializers.get('uniform')\n",
        "        self.supports_masking = True\n",
        "        self.return_attention = return_attention\n",
        "        super(AttentionWeightedAverage, self).__init__(** kwargs)\n",
        "\n",
        "    def build(self, input_shape):\n",
        "        self.input_spec = [InputSpec(ndim=3)]\n",
        "        assert len(input_shape) == 3\n",
        "\n",
        "        self.W = self.add_weight(shape=(input_shape[2], 1),\n",
        "                                 name='{}_W'.format(self.name),\n",
        "                                 initializer=self.init)\n",
        "        self.trainable_weights = [self.W]\n",
        "        super(AttentionWeightedAverage, self).build(input_shape)\n",
        "\n",
        "    def call(self, x, mask=None):\n",
        "        # computes a probability distribution over the timesteps\n",
        "        # uses 'max trick' for numerical stability\n",
        "        # reshape is done to avoid issue with Tensorflow\n",
        "        # and 1-dimensional weights\n",
        "        logits = K.dot(x, self.W)\n",
        "        x_shape = K.shape(x)\n",
        "        logits = K.reshape(logits, (x_shape[0], x_shape[1]))\n",
        "        ai = K.exp(logits - K.max(logits, axis=-1, keepdims=True))\n",
        "\n",
        "        # masked timesteps have zero weight\n",
        "        if mask is not None:\n",
        "            mask = K.cast(mask, K.floatx())\n",
        "            ai = ai * mask\n",
        "        att_weights = ai / (K.sum(ai, axis=1, keepdims=True) + K.epsilon())\n",
        "        weighted_input = x * K.expand_dims(att_weights)\n",
        "        result = K.sum(weighted_input, axis=1)\n",
        "        if self.return_attention:\n",
        "            return [result, att_weights]\n",
        "        return result\n",
        "\n",
        "    def get_output_shape_for(self, input_shape):\n",
        "        return self.compute_output_shape(input_shape)\n",
        "\n",
        "    def compute_output_shape(self, input_shape):\n",
        "        output_len = input_shape[2]\n",
        "        if self.return_attention:\n",
        "            return [(input_shape[0], output_len), (input_shape[0], input_shape[1])]\n",
        "        return (input_shape[0], output_len)\n",
        "\n",
        "    def compute_mask(self, input, input_mask=None):\n",
        "        if isinstance(input_mask, list):\n",
        "            return [None] * len(input_mask)\n",
        "        else:\n",
        "            return None"
      ],
      "execution_count": 0,
      "outputs": []
    },
    {
      "cell_type": "code",
      "metadata": {
        "id": "hovBxS5jfRbn",
        "colab_type": "code",
        "colab": {}
      },
      "source": [
        "def model_gru_attn():\n",
        "  inp = Input(shape=(max_len,))\n",
        "  x = Embedding(num_words,embed_size,embeddings_initializer=Constant(embeddings),input_length=max_len,trainable=False)(inp)\n",
        "  x = SpatialDropout1D(0.1)(x)\n",
        "  x = Bidirectional(CuDNNLSTM(50, return_sequences=True))(x)\n",
        "  x = Bidirectional(CuDNNGRU(50, return_sequences=True))(x)\n",
        "  avg_pool = GlobalAveragePooling1D()(x)\n",
        "  max_pool = GlobalMaxPooling1D()(x)\n",
        "  last = Lambda(lambda t: t[:, -1])(x)\n",
        "  attn = AttentionWeightedAverage()(x)\n",
        "  conc = concatenate([avg_pool,  max_pool,last,attn])\n",
        "  outp = Dense(1, activation=\"sigmoid\")(conc)    \n",
        "  model = Model(inputs=inp, outputs=outp)\n",
        "  model.compile(loss=BinaryFocalLoss(gamma=2), optimizer=opt, metrics=['accuracy'])\n",
        "  return model"
      ],
      "execution_count": 0,
      "outputs": []
    },
    {
      "cell_type": "markdown",
      "metadata": {
        "id": "I34DRPLqTVru",
        "colab_type": "text"
      },
      "source": [
        "##TCN"
      ]
    },
    {
      "cell_type": "code",
      "metadata": {
        "id": "e-euqTedTWjY",
        "colab_type": "code",
        "colab": {}
      },
      "source": [
        "from tcn import TCN\n",
        "\n",
        "def wave_net_activation(x):\n",
        "    # type: (Layer) -> Layer\n",
        "    \"\"\"This method defines the activation used for WaveNet\n",
        "    described in https://deepmind.com/blog/wavenet-generative-model-raw-audio/\n",
        "    Args:\n",
        "        x: The layer we want to apply the activation to\n",
        "    Returns:\n",
        "        A new layer with the wavenet activation applied\n",
        "    \"\"\"\n",
        "    tanh_out = Activation('tanh')(x)\n",
        "    sigm_out = Activation('sigmoid')(x)\n",
        "    return keras.layers.multiply([tanh_out, sigm_out])\n",
        "\n",
        "def model_tcn(embedding_matrix):\n",
        "    \n",
        "    inp = Input(shape=(max_len,))\n",
        "    x = Embedding(num_words,embed_size,embeddings_initializer=Constant(embeddings),input_length=max_len,trainable=False)(inp)\n",
        "    x = SpatialDropout1D(0.1)(x)\n",
        "    x = TCN(128,dilations = [1, 2, 4], return_sequences=True ,name = 'tnc1')(x)\n",
        "    x = wave_net_activation(x)\n",
        "    x = TCN(64,dilations = [1, 2, 4], return_sequences=True, name = 'tnc2')(x)\n",
        "    x = wave_net_activation(x)\n",
        "    #x = TCN(32,dilations = [1, 2, 4], return_sequences=True, activation = 'wavenet',name = 'tnc3')(x)\n",
        "    avg_pool = GlobalAveragePooling1D()(x)\n",
        "    max_pool = GlobalMaxPooling1D()(x)\n",
        "    \n",
        "    conc = concatenate([avg_pool, max_pool])\n",
        "    conc = Dense(64, activation=\"relu\")(conc)\n",
        "    conc = Dense(32, activation=\"relu\")(conc)\n",
        "\n",
        "    conc = Dropout(0.1)(conc)\n",
        "    outp = Dense(1, activation=\"sigmoid\")(conc)    \n",
        "    model = Model(inputs=inp, outputs=outp)\n",
        "    model.compile(loss=BinaryFocalLoss(gamma=2), optimizer=opt, metrics=['accuracy'])\n",
        "    \n",
        "    return model"
      ],
      "execution_count": 0,
      "outputs": []
    },
    {
      "cell_type": "code",
      "metadata": {
        "id": "3wLyuzTtMErl",
        "colab_type": "code",
        "colab": {}
      },
      "source": [
        "import numpy as np\n",
        "class_weights = class_weight.compute_class_weight('balanced',np.unique(labels),labels)\n",
        "class_weights=dict(enumerate(class_weights))"
      ],
      "execution_count": 0,
      "outputs": []
    },
    {
      "cell_type": "markdown",
      "metadata": {
        "id": "erHc_X1QoWaM",
        "colab_type": "text"
      },
      "source": [
        "## VDCNN"
      ]
    },
    {
      "cell_type": "code",
      "metadata": {
        "id": "IsZkJw7UoZEX",
        "colab_type": "code",
        "colab": {}
      },
      "source": [
        "#https://github.com/mukesh-mehta/VDCNN/blob/master/toxic.ipynb\n",
        "def ConvolutionalBlock(input_shape, num_filters):\n",
        "    model=Sequential()\n",
        "\n",
        "    #1st conv layer\n",
        "    model.add(Conv1D(filters = num_filters, kernel_size = 3, strides = 1, padding = \"same\", input_shape = input_shape))\n",
        "    model.add(BatchNormalization())\n",
        "    model.add(Activation(\"relu\"))\n",
        "\n",
        "    #2nd conv layer\n",
        "    model.add(Conv1D(filters = num_filters, kernel_size = 3, strides = 1, padding = \"same\"))\n",
        "    model.add(BatchNormalization())\n",
        "    model.add(Activation(\"relu\"))\n",
        "\n",
        "    return model\n",
        "\n",
        "#https://www.tensorflow.org/api_docs/python/tf/nn/top_k\n",
        "def top_kmax(x):\n",
        "    x=tf.transpose(x, [0, 2, 1])\n",
        "    k_max = tf.nn.top_k(x, k=top_k)\n",
        "    return tf.reshape(k_max[0], (-1, num_filters[-1]*top_k))\n",
        "\n",
        "def conv_shape(conv):\n",
        "    return conv.get_shape().as_list()[1:]\n"
      ],
      "execution_count": 0,
      "outputs": []
    },
    {
      "cell_type": "code",
      "metadata": {
        "id": "TnETJkW6onR9",
        "colab_type": "code",
        "colab": {}
      },
      "source": [
        "def model_vdcnn(num_filters, num_classes, sequence_max_length, num_chars, embedding_size, top_k, learning_rate=0.001):\n",
        "    \n",
        "    inputs=Input(shape=(sequence_max_length, ), dtype='int32', name='input')\n",
        "    \n",
        "    embedded_seq = Embedding(num_words,embed_size,embeddings_initializer=Constant(embeddings),input_length=max_len,trainable=False)(inputs)\n",
        "    embedded_seq = BatchNormalization()(embedded_seq)\n",
        "    #1st Layer\n",
        "    conv = Conv1D(filters=64, kernel_size=3, strides=2, padding=\"same\")(embedded_seq)\n",
        "    \n",
        "    #ConvBlocks\n",
        "    for i in range(len(num_filters)):\n",
        "        conv = ConvolutionalBlock(conv_shape(conv), num_filters[i])(conv)\n",
        "        conv = MaxPooling1D(pool_size=3, strides=2, padding=\"same\")(conv)\n",
        "        \n",
        "    def _top_k(x):\n",
        "        x = tf.transpose(x, [0, 2, 1])\n",
        "        k_max = tf.nn.top_k(x, k=top_k)\n",
        "        return tf.reshape(k_max[0], (-1, num_filters[-1] * top_k))\n",
        "    \n",
        "    k_max = Lambda(_top_k, output_shape=(num_filters[-1] * top_k,))(conv)\n",
        "    \n",
        "    #fully connected layers\n",
        "    # in original paper they didn't used dropouts\n",
        "    fc1=Dense(100, activation='relu', kernel_initializer='he_normal')(k_max)\n",
        "    fc1=Dropout(0.3)(fc1)\n",
        "    fc2=Dense(20, activation='relu', kernel_initializer='he_normal')(fc1)\n",
        "    fc2=Dropout(0.3)(fc2)\n",
        "    out=Dense(1, activation='sigmoid')(fc2)\n",
        "    \n",
        "    \n",
        "    model = Model(inputs=inputs, outputs=out)\n",
        "    model.compile(optimizer=opt, loss=BinaryFocalLoss(gamma=2), metrics=['accuracy'])\n",
        "    \n",
        "    return model"
      ],
      "execution_count": 0,
      "outputs": []
    },
    {
      "cell_type": "code",
      "metadata": {
        "id": "yuu9uY96pKYe",
        "colab_type": "code",
        "colab": {}
      },
      "source": [
        "num_filters = [64, 128, 256, 512]\n",
        "vdcnn_model=model_vdcnn(num_filters=num_filters, num_classes=1,num_chars=69, sequence_max_length=max_len,embedding_size=16,top_k=3)"
      ],
      "execution_count": 0,
      "outputs": []
    },
    {
      "cell_type": "code",
      "metadata": {
        "id": "6d55WTNmBa5w",
        "colab_type": "code",
        "colab": {}
      },
      "source": [
        ""
      ],
      "execution_count": 0,
      "outputs": []
    },
    {
      "cell_type": "markdown",
      "metadata": {
        "id": "mNc6xxspBcTG",
        "colab_type": "text"
      },
      "source": [
        "##KIM"
      ]
    },
    {
      "cell_type": "code",
      "metadata": {
        "id": "nAgtTt9IBfMQ",
        "colab_type": "code",
        "colab": {}
      },
      "source": [
        "conv_filters=128\n",
        "def model_kim():\n",
        "  inp = Input(shape=(max_len,))\n",
        "  emb = Embedding(num_words,embed_size,embeddings_initializer=Constant(embeddings),input_length=max_len,trainable=False)(inp)\n",
        "  # Specify each convolution layer and their kernel siz i.e. n-grams \n",
        "  conv1_1 = Conv1D(filters=conv_filters, kernel_size=3)(emb)\n",
        "  btch1_1 = BatchNormalization()(conv1_1)\n",
        "  drp1_1  = Dropout(0.2)(btch1_1)\n",
        "  actv1_1 = Activation('relu')(drp1_1)\n",
        "  glmp1_1 = GlobalMaxPooling1D()(actv1_1)\n",
        "\n",
        "  conv1_2 = Conv1D(filters=conv_filters, kernel_size=4)(emb)\n",
        "  btch1_2 = BatchNormalization()(conv1_2)\n",
        "  drp1_2  = Dropout(0.2)(btch1_2)\n",
        "  actv1_2 = Activation('relu')(drp1_2)\n",
        "  glmp1_2 = GlobalMaxPooling1D()(actv1_2)\n",
        "\n",
        "  conv1_3 = Conv1D(filters=conv_filters, kernel_size=5)(emb)\n",
        "  btch1_3 = BatchNormalization()(conv1_3)\n",
        "  drp1_3  = Dropout(0.2)(btch1_3)\n",
        "  actv1_3 = Activation('relu')(drp1_3)\n",
        "  glmp1_3 = GlobalMaxPooling1D()(actv1_3)\n",
        "\n",
        "  conv1_4 = Conv1D(filters=conv_filters, kernel_size=6)(emb)\n",
        "  btch1_4 = BatchNormalization()(conv1_4)\n",
        "  drp1_4  = Dropout(0.2)(btch1_4)\n",
        "  actv1_4 = Activation('relu')(drp1_4)\n",
        "  glmp1_4 = GlobalMaxPooling1D()(actv1_4)\n",
        "\n",
        "  # Gather all convolution layers\n",
        "  cnct = concatenate([glmp1_1, glmp1_2, glmp1_3, glmp1_4], axis=1)\n",
        "  drp1 = Dropout(0.2)(cnct)\n",
        "\n",
        "  dns1  = Dense(32, activation='relu')(drp1)\n",
        "  btch1 = BatchNormalization()(dns1)\n",
        "  drp2  = Dropout(0.2)(btch1)\n",
        "\n",
        "  out = Dense(1, activation='sigmoid')(drp2)   \n",
        "  model = Model(inputs=inp, outputs=out)\n",
        "  model.compile(loss=BinaryFocalLoss(gamma=2), optimizer=opt, metrics=['accuracy'])\n",
        "  return model\n"
      ],
      "execution_count": 0,
      "outputs": []
    },
    {
      "cell_type": "markdown",
      "metadata": {
        "id": "lAwx2rL7QhFR",
        "colab_type": "text"
      },
      "source": [
        "## CharCNN"
      ]
    },
    {
      "cell_type": "code",
      "metadata": {
        "id": "cFjdlonYQipo",
        "colab_type": "code",
        "colab": {
          "base_uri": "https://localhost:8080/",
          "height": 34
        },
        "outputId": "4ef9a1eb-446a-44e0-a416-4a38a2d6a522"
      },
      "source": [
        "\n",
        "# parameter\n",
        "input_size = 200\n",
        "vocab_size = len(ch_tokenize.word_index)\n",
        "embedding_size = len(alphabet)+1\n",
        "conv_layers = [[256, 7, 3],\n",
        "               [256, 7, 3],\n",
        "               [256, 3, -1],\n",
        "               [256, 3, -1],\n",
        "               [256, 3, -1],\n",
        "               [256, 3, 3]]\n",
        "\n",
        "fully_connected_layers = [1024, 1024]\n",
        "dropout_p = 0.5\n",
        "\n",
        "\n",
        "# Embedding weights\n",
        "embedding_weights = []  \n",
        "embedding_weights.append(np.zeros(vocab_size))  \n",
        "\n",
        "for char, i in ch_tokenize.word_index.items():  \n",
        "    onehot = np.zeros(vocab_size)\n",
        "    onehot[i - 1] = 1\n",
        "    embedding_weights.append(onehot)\n",
        "\n",
        "embedding_weights = np.array(embedding_weights)\n",
        "print('Load')\n",
        "\n",
        "# Embedding layer Initialization\n",
        "embedding_layer = Embedding(vocab_size + 1,\n",
        "                            embedding_size,\n",
        "                            input_length=input_size,\n",
        "                            weights=[embedding_weights])\n",
        "\n",
        "# Model Construction\n",
        "# Input\n",
        "inputs = Input(shape=(input_size,), name='input', dtype='int64')  # shape=(?, 1014)\n",
        "# Embedding\n",
        "x = embedding_layer(inputs)\n",
        "# Conv\n",
        "for filter_num, filter_size, pooling_size in conv_layers:\n",
        "    x = Conv1D(filter_num, filter_size)(x)\n",
        "    x = Activation('relu')(x)\n",
        "    if pooling_size != -1:\n",
        "        x = MaxPooling1D(pool_size=pooling_size)(x)  # Final shape=(None, 34, 256)\n",
        "x = Flatten()(x)  # (None, 8704)\n",
        "# Fully connected layers\n",
        "for dense_size in fully_connected_layers:\n",
        "    x = Dense(dense_size, activation='relu')(x)  # dense_size == 1024\n",
        "    x = Dropout(dropout_p)(x)\n",
        "# Output Layer\n",
        "predictions = Dense(1, activation='sigmoid')(x)\n",
        "# Build model\n",
        "char_model = Model(inputs=inputs, outputs=predictions)\n",
        "char_model.compile(loss=BinaryFocalLoss(gamma=2), optimizer=opt, metrics=['accuracy'])  # Adam, categorical_crossentropy"
      ],
      "execution_count": 40,
      "outputs": [
        {
          "output_type": "stream",
          "text": [
            "Load\n"
          ],
          "name": "stdout"
        }
      ]
    },
    {
      "cell_type": "markdown",
      "metadata": {
        "id": "nJCuBpqkNx8L",
        "colab_type": "text"
      },
      "source": [
        "# Train model"
      ]
    },
    {
      "cell_type": "markdown",
      "metadata": {
        "id": "oUygUis5N2yN",
        "colab_type": "text"
      },
      "source": [
        "##GRU"
      ]
    },
    {
      "cell_type": "code",
      "metadata": {
        "id": "YyLDrkoXMGoi",
        "colab_type": "code",
        "colab": {
          "base_uri": "https://localhost:8080/",
          "height": 386
        },
        "outputId": "6194fe9a-b954-4dfb-e23a-6d1906de8285"
      },
      "source": [
        "gru_model=model_gru()\n",
        "gru_model.fit(x_train,y_train,batch_size=batch_size,epochs=10,verbose=2,class_weight=class_weights,validation_data=(x_val,y_val),callbacks= [clr,])"
      ],
      "execution_count": 41,
      "outputs": [
        {
          "output_type": "stream",
          "text": [
            "Train on 2516 samples, validate on 444 samples\n",
            "Epoch 1/10\n",
            " - 10s - loss: 0.1124 - acc: 0.8645 - val_loss: 0.0992 - val_acc: 0.8694\n",
            "Epoch 2/10\n",
            " - 3s - loss: 0.0938 - acc: 0.8824 - val_loss: 0.0757 - val_acc: 0.9032\n",
            "Epoch 3/10\n",
            " - 3s - loss: 0.0774 - acc: 0.9046 - val_loss: 0.0746 - val_acc: 0.9077\n",
            "Epoch 4/10\n",
            " - 3s - loss: 0.0714 - acc: 0.9138 - val_loss: 0.0738 - val_acc: 0.9054\n",
            "Epoch 5/10\n",
            " - 3s - loss: 0.0671 - acc: 0.9169 - val_loss: 0.0758 - val_acc: 0.9032\n",
            "Epoch 6/10\n",
            " - 3s - loss: 0.0582 - acc: 0.9285 - val_loss: 0.0818 - val_acc: 0.9077\n",
            "Epoch 7/10\n",
            " - 3s - loss: 0.0503 - acc: 0.9368 - val_loss: 0.0878 - val_acc: 0.8941\n",
            "Epoch 8/10\n",
            " - 3s - loss: 0.0430 - acc: 0.9479 - val_loss: 0.0874 - val_acc: 0.9144\n",
            "Epoch 9/10\n",
            " - 3s - loss: 0.0349 - acc: 0.9587 - val_loss: 0.1437 - val_acc: 0.8986\n",
            "Epoch 10/10\n",
            " - 3s - loss: 0.0317 - acc: 0.9603 - val_loss: 0.1125 - val_acc: 0.8896\n"
          ],
          "name": "stdout"
        },
        {
          "output_type": "execute_result",
          "data": {
            "text/plain": [
              "<keras.callbacks.History at 0x7fa8aa2239e8>"
            ]
          },
          "metadata": {
            "tags": []
          },
          "execution_count": 41
        }
      ]
    },
    {
      "cell_type": "markdown",
      "metadata": {
        "id": "BaW-Uq0Kldp4",
        "colab_type": "text"
      },
      "source": [
        "## GRU attention"
      ]
    },
    {
      "cell_type": "code",
      "metadata": {
        "id": "tjPFYBWZlf23",
        "colab_type": "code",
        "colab": {
          "base_uri": "https://localhost:8080/",
          "height": 386
        },
        "outputId": "08225fc2-dad0-491d-b42d-aa43faa3d34f"
      },
      "source": [
        "attn_gru_model=model_gru_attn()\n",
        "attn_gru_model.fit(x_train,y_train,batch_size=batch_size,epochs=10,verbose=2,class_weight=class_weights,validation_data=(x_val,y_val),callbacks= [clr,])"
      ],
      "execution_count": 42,
      "outputs": [
        {
          "output_type": "stream",
          "text": [
            "Train on 2516 samples, validate on 444 samples\n",
            "Epoch 1/10\n",
            " - 4s - loss: 0.0996 - acc: 0.8748 - val_loss: 0.0765 - val_acc: 0.8986\n",
            "Epoch 2/10\n",
            " - 3s - loss: 0.0804 - acc: 0.9066 - val_loss: 0.0741 - val_acc: 0.9144\n",
            "Epoch 3/10\n",
            " - 3s - loss: 0.0693 - acc: 0.9205 - val_loss: 0.0750 - val_acc: 0.9122\n",
            "Epoch 4/10\n",
            " - 3s - loss: 0.0602 - acc: 0.9281 - val_loss: 0.0777 - val_acc: 0.9122\n",
            "Epoch 5/10\n",
            " - 3s - loss: 0.0522 - acc: 0.9352 - val_loss: 0.0864 - val_acc: 0.9099\n",
            "Epoch 6/10\n",
            " - 3s - loss: 0.0419 - acc: 0.9471 - val_loss: 0.1056 - val_acc: 0.8446\n",
            "Epoch 7/10\n",
            " - 3s - loss: 0.0339 - acc: 0.9575 - val_loss: 0.1092 - val_acc: 0.9009\n",
            "Epoch 8/10\n",
            " - 3s - loss: 0.0235 - acc: 0.9730 - val_loss: 0.1251 - val_acc: 0.9009\n",
            "Epoch 9/10\n",
            " - 3s - loss: 0.0179 - acc: 0.9813 - val_loss: 0.1492 - val_acc: 0.8874\n",
            "Epoch 10/10\n",
            " - 3s - loss: 0.0162 - acc: 0.9781 - val_loss: 0.1385 - val_acc: 0.8986\n"
          ],
          "name": "stdout"
        },
        {
          "output_type": "execute_result",
          "data": {
            "text/plain": [
              "<keras.callbacks.History at 0x7fa82c7ab6d8>"
            ]
          },
          "metadata": {
            "tags": []
          },
          "execution_count": 42
        }
      ]
    },
    {
      "cell_type": "markdown",
      "metadata": {
        "id": "WlFNurr4T1rh",
        "colab_type": "text"
      },
      "source": [
        "##TCN"
      ]
    },
    {
      "cell_type": "code",
      "metadata": {
        "id": "xKtfxHFBT2wB",
        "colab_type": "code",
        "colab": {
          "base_uri": "https://localhost:8080/",
          "height": 386
        },
        "outputId": "0e593b4f-fae0-4fec-abe2-22f9bee7fefb"
      },
      "source": [
        "tcn_model=model_tcn(embeddings)\n",
        "tcn_model.fit(x_train,y_train,batch_size=batch_size,epochs=10,verbose=2,class_weight=class_weights,validation_data=(x_val,y_val),callbacks= [clr,])"
      ],
      "execution_count": 43,
      "outputs": [
        {
          "output_type": "stream",
          "text": [
            "Train on 2516 samples, validate on 444 samples\n",
            "Epoch 1/10\n",
            " - 4s - loss: 0.1361 - acc: 0.8581 - val_loss: 0.1046 - val_acc: 0.8694\n",
            "Epoch 2/10\n",
            " - 1s - loss: 0.1106 - acc: 0.8704 - val_loss: 0.1030 - val_acc: 0.8694\n",
            "Epoch 3/10\n",
            " - 1s - loss: 0.1089 - acc: 0.8704 - val_loss: 0.1029 - val_acc: 0.8694\n",
            "Epoch 4/10\n",
            " - 1s - loss: 0.1105 - acc: 0.8704 - val_loss: 0.1029 - val_acc: 0.8694\n",
            "Epoch 5/10\n",
            " - 1s - loss: 0.1074 - acc: 0.8704 - val_loss: 0.1031 - val_acc: 0.8694\n",
            "Epoch 6/10\n",
            " - 1s - loss: 0.1090 - acc: 0.8704 - val_loss: 0.1043 - val_acc: 0.8694\n",
            "Epoch 7/10\n",
            " - 1s - loss: 0.1073 - acc: 0.8704 - val_loss: 0.1032 - val_acc: 0.8694\n",
            "Epoch 8/10\n",
            " - 1s - loss: 0.1099 - acc: 0.8704 - val_loss: 0.1029 - val_acc: 0.8694\n",
            "Epoch 9/10\n",
            " - 1s - loss: 0.1089 - acc: 0.8704 - val_loss: 0.1038 - val_acc: 0.8694\n",
            "Epoch 10/10\n",
            " - 1s - loss: 0.1066 - acc: 0.8704 - val_loss: 0.1031 - val_acc: 0.8694\n"
          ],
          "name": "stdout"
        },
        {
          "output_type": "execute_result",
          "data": {
            "text/plain": [
              "<keras.callbacks.History at 0x7fa82c0cdba8>"
            ]
          },
          "metadata": {
            "tags": []
          },
          "execution_count": 43
        }
      ]
    },
    {
      "cell_type": "markdown",
      "metadata": {
        "id": "TNJpZFJbp5mP",
        "colab_type": "text"
      },
      "source": [
        "##VDCNN"
      ]
    },
    {
      "cell_type": "code",
      "metadata": {
        "id": "Lqcj8gZhp7hA",
        "colab_type": "code",
        "colab": {
          "base_uri": "https://localhost:8080/",
          "height": 386
        },
        "outputId": "6660f83d-c453-4732-9a0d-96b23da9d68a"
      },
      "source": [
        "vdcnn_model.fit(x_train,y_train,batch_size=batch_size,epochs=10,verbose=2,class_weight=class_weights,validation_data=(x_val,y_val),callbacks= [clr,])"
      ],
      "execution_count": 44,
      "outputs": [
        {
          "output_type": "stream",
          "text": [
            "Train on 2516 samples, validate on 444 samples\n",
            "Epoch 1/10\n",
            " - 5s - loss: 2.3038 - acc: 0.8637 - val_loss: 2.1055 - val_acc: 0.8694\n",
            "Epoch 2/10\n",
            " - 3s - loss: 2.2828 - acc: 0.8704 - val_loss: 2.1055 - val_acc: 0.8694\n",
            "Epoch 3/10\n",
            " - 3s - loss: 2.2559 - acc: 0.8704 - val_loss: 2.1055 - val_acc: 0.8694\n",
            "Epoch 4/10\n",
            " - 3s - loss: 2.2403 - acc: 0.8704 - val_loss: 2.1055 - val_acc: 0.8694\n",
            "Epoch 5/10\n",
            " - 3s - loss: 2.2718 - acc: 0.8704 - val_loss: 2.1055 - val_acc: 0.8694\n",
            "Epoch 6/10\n",
            " - 3s - loss: 2.3294 - acc: 0.8704 - val_loss: 2.1055 - val_acc: 0.8694\n",
            "Epoch 7/10\n",
            " - 3s - loss: 0.6020 - acc: 0.8676 - val_loss: 0.1223 - val_acc: 0.8694\n",
            "Epoch 8/10\n",
            " - 3s - loss: 0.1109 - acc: 0.8700 - val_loss: 0.1033 - val_acc: 0.8694\n",
            "Epoch 9/10\n",
            " - 3s - loss: 0.1074 - acc: 0.8704 - val_loss: 0.1032 - val_acc: 0.8694\n",
            "Epoch 10/10\n",
            " - 3s - loss: 0.1072 - acc: 0.8704 - val_loss: 0.1030 - val_acc: 0.8694\n"
          ],
          "name": "stdout"
        },
        {
          "output_type": "execute_result",
          "data": {
            "text/plain": [
              "<keras.callbacks.History at 0x7fa817803e80>"
            ]
          },
          "metadata": {
            "tags": []
          },
          "execution_count": 44
        }
      ]
    },
    {
      "cell_type": "markdown",
      "metadata": {
        "id": "Tr_J6FWTCYXB",
        "colab_type": "text"
      },
      "source": [
        "##KIM"
      ]
    },
    {
      "cell_type": "code",
      "metadata": {
        "id": "PgmUF8liCa4M",
        "colab_type": "code",
        "colab": {
          "base_uri": "https://localhost:8080/",
          "height": 386
        },
        "outputId": "5703b418-a12f-404e-bbfa-cb0e5b5c0be6"
      },
      "source": [
        "kim_model=model_kim()\n",
        "kim_model.fit(x_train,y_train,batch_size=batch_size,epochs=10,verbose=2,class_weight=class_weights,validation_data=(x_val,y_val),callbacks= [clr,])"
      ],
      "execution_count": 45,
      "outputs": [
        {
          "output_type": "stream",
          "text": [
            "Train on 2516 samples, validate on 444 samples\n",
            "Epoch 1/10\n",
            " - 3s - loss: 0.1258 - acc: 0.8450 - val_loss: 0.1210 - val_acc: 0.8491\n",
            "Epoch 2/10\n",
            " - 1s - loss: 0.1050 - acc: 0.8653 - val_loss: 0.1041 - val_acc: 0.8694\n",
            "Epoch 3/10\n",
            " - 1s - loss: 0.0971 - acc: 0.8696 - val_loss: 0.1098 - val_acc: 0.8694\n",
            "Epoch 4/10\n",
            " - 1s - loss: 0.0801 - acc: 0.8859 - val_loss: 0.1134 - val_acc: 0.8694\n",
            "Epoch 5/10\n",
            " - 1s - loss: 0.0762 - acc: 0.8986 - val_loss: 0.1004 - val_acc: 0.8761\n",
            "Epoch 6/10\n",
            " - 1s - loss: 0.0627 - acc: 0.9141 - val_loss: 0.1112 - val_acc: 0.8761\n",
            "Epoch 7/10\n",
            " - 1s - loss: 0.0514 - acc: 0.9277 - val_loss: 0.0882 - val_acc: 0.8919\n",
            "Epoch 8/10\n",
            " - 1s - loss: 0.0497 - acc: 0.9348 - val_loss: 0.1003 - val_acc: 0.8941\n",
            "Epoch 9/10\n",
            " - 1s - loss: 0.0419 - acc: 0.9444 - val_loss: 0.1082 - val_acc: 0.8874\n",
            "Epoch 10/10\n",
            " - 1s - loss: 0.0363 - acc: 0.9535 - val_loss: 0.1015 - val_acc: 0.8874\n"
          ],
          "name": "stdout"
        },
        {
          "output_type": "execute_result",
          "data": {
            "text/plain": [
              "<keras.callbacks.History at 0x7fa816f6ecf8>"
            ]
          },
          "metadata": {
            "tags": []
          },
          "execution_count": 45
        }
      ]
    },
    {
      "cell_type": "markdown",
      "metadata": {
        "id": "TxFTRuRBPV2f",
        "colab_type": "text"
      },
      "source": [
        "## CharCNN"
      ]
    },
    {
      "cell_type": "code",
      "metadata": {
        "id": "xXGoedazPQh7",
        "colab_type": "code",
        "colab": {
          "base_uri": "https://localhost:8080/",
          "height": 386
        },
        "outputId": "1d94b887-aabe-4fdc-9fdc-2a4f350b9aae"
      },
      "source": [
        "x_train_char,x_val_char,y_train_char,y_val_char=train_test_split(train_data,labels,test_size=test_size,stratify=labels,shuffle=True,random_state=2020)\n",
        "char_model.fit(x_train_char,y_train_char,batch_size=batch_size,epochs=10,verbose=2,class_weight=class_weights,validation_data=(x_val_char,y_val_char),callbacks= [clr,])"
      ],
      "execution_count": 46,
      "outputs": [
        {
          "output_type": "stream",
          "text": [
            "Train on 2516 samples, validate on 444 samples\n",
            "Epoch 1/10\n",
            " - 2s - loss: 2.2919 - acc: 0.8688 - val_loss: 2.1055 - val_acc: 0.8694\n",
            "Epoch 2/10\n",
            " - 1s - loss: 2.3498 - acc: 0.8704 - val_loss: 2.1055 - val_acc: 0.8694\n",
            "Epoch 3/10\n",
            " - 1s - loss: 2.2986 - acc: 0.8704 - val_loss: 2.1055 - val_acc: 0.8694\n",
            "Epoch 4/10\n",
            " - 1s - loss: 2.2757 - acc: 0.8704 - val_loss: 2.1055 - val_acc: 0.8694\n",
            "Epoch 5/10\n",
            " - 1s - loss: 2.2422 - acc: 0.8704 - val_loss: 2.1055 - val_acc: 0.8694\n",
            "Epoch 6/10\n",
            " - 1s - loss: 2.2815 - acc: 0.8704 - val_loss: 2.1055 - val_acc: 0.8694\n",
            "Epoch 7/10\n",
            " - 1s - loss: 2.2835 - acc: 0.8704 - val_loss: 2.1055 - val_acc: 0.8694\n",
            "Epoch 8/10\n",
            " - 1s - loss: 2.2977 - acc: 0.8704 - val_loss: 2.1055 - val_acc: 0.8694\n",
            "Epoch 9/10\n",
            " - 1s - loss: 2.2688 - acc: 0.8704 - val_loss: 2.1055 - val_acc: 0.8694\n",
            "Epoch 10/10\n",
            " - 1s - loss: 2.3092 - acc: 0.8704 - val_loss: 2.1055 - val_acc: 0.8694\n"
          ],
          "name": "stdout"
        },
        {
          "output_type": "execute_result",
          "data": {
            "text/plain": [
              "<keras.callbacks.History at 0x7fa8a9c7ea90>"
            ]
          },
          "metadata": {
            "tags": []
          },
          "execution_count": 46
        }
      ]
    },
    {
      "cell_type": "markdown",
      "metadata": {
        "id": "YRW2JWbBMfkb",
        "colab_type": "text"
      },
      "source": [
        "# Validate Models"
      ]
    },
    {
      "cell_type": "markdown",
      "metadata": {
        "id": "b7BVpvPJOH5x",
        "colab_type": "text"
      },
      "source": [
        "##GRU"
      ]
    },
    {
      "cell_type": "code",
      "metadata": {
        "id": "gd85B8kuMWU1",
        "colab_type": "code",
        "colab": {
          "base_uri": "https://localhost:8080/",
          "height": 185
        },
        "outputId": "a6baa228-7df6-4fad-e175-3772d5ad498a"
      },
      "source": [
        "y_pred = gru_model.predict(x_val, batch_size=batch_size, verbose=1)\n",
        "y_pred = (y_pred > 0.5)\n",
        "print(classification_report(y_val, y_pred))\n",
        "gru_f1=f1_score(y_val, y_pred,average='macro')"
      ],
      "execution_count": 47,
      "outputs": [
        {
          "output_type": "stream",
          "text": [
            "444/444 [==============================] - 1s 2ms/step\n",
            "              precision    recall  f1-score   support\n",
            "\n",
            "           0       0.92      0.95      0.94       386\n",
            "           1       0.60      0.47      0.52        58\n",
            "\n",
            "    accuracy                           0.89       444\n",
            "   macro avg       0.76      0.71      0.73       444\n",
            "weighted avg       0.88      0.89      0.88       444\n",
            "\n"
          ],
          "name": "stdout"
        }
      ]
    },
    {
      "cell_type": "markdown",
      "metadata": {
        "id": "uQQUnhy-ljKa",
        "colab_type": "text"
      },
      "source": [
        "## GRU attention"
      ]
    },
    {
      "cell_type": "code",
      "metadata": {
        "id": "RJvhOCgEllGM",
        "colab_type": "code",
        "colab": {
          "base_uri": "https://localhost:8080/",
          "height": 185
        },
        "outputId": "c5631623-a0a9-4b0c-a9a4-cb495092e8c5"
      },
      "source": [
        "y_pred = attn_gru_model.predict(x_val, batch_size=batch_size, verbose=1)\n",
        "y_pred = (y_pred > 0.5)\n",
        "print(classification_report(y_val, y_pred))\n",
        "gru_atten_f1=f1_score(y_val, y_pred,average='macro')"
      ],
      "execution_count": 48,
      "outputs": [
        {
          "output_type": "stream",
          "text": [
            "444/444 [==============================] - 1s 2ms/step\n",
            "              precision    recall  f1-score   support\n",
            "\n",
            "           0       0.92      0.96      0.94       386\n",
            "           1       0.66      0.47      0.55        58\n",
            "\n",
            "    accuracy                           0.90       444\n",
            "   macro avg       0.79      0.71      0.74       444\n",
            "weighted avg       0.89      0.90      0.89       444\n",
            "\n"
          ],
          "name": "stdout"
        }
      ]
    },
    {
      "cell_type": "markdown",
      "metadata": {
        "id": "1PmqHy-HWeuQ",
        "colab_type": "text"
      },
      "source": [
        "##TCN"
      ]
    },
    {
      "cell_type": "code",
      "metadata": {
        "id": "i8SxnEBRWf-R",
        "colab_type": "code",
        "colab": {
          "base_uri": "https://localhost:8080/",
          "height": 238
        },
        "outputId": "8720d56b-78d0-448a-e7c4-a95b276dd719"
      },
      "source": [
        "y_pred = tcn_model.predict(x_val, batch_size=batch_size, verbose=1)\n",
        "y_pred = (y_pred > 0.5)\n",
        "print(classification_report(y_val, y_pred))\n",
        "tcn_f1=f1_score(y_val, y_pred,average='macro')"
      ],
      "execution_count": 49,
      "outputs": [
        {
          "output_type": "stream",
          "text": [
            "444/444 [==============================] - 1s 2ms/step\n",
            "              precision    recall  f1-score   support\n",
            "\n",
            "           0       0.87      1.00      0.93       386\n",
            "           1       0.00      0.00      0.00        58\n",
            "\n",
            "    accuracy                           0.87       444\n",
            "   macro avg       0.43      0.50      0.47       444\n",
            "weighted avg       0.76      0.87      0.81       444\n",
            "\n"
          ],
          "name": "stdout"
        },
        {
          "output_type": "stream",
          "text": [
            "/usr/local/lib/python3.6/dist-packages/sklearn/metrics/_classification.py:1272: UndefinedMetricWarning: Precision and F-score are ill-defined and being set to 0.0 in labels with no predicted samples. Use `zero_division` parameter to control this behavior.\n",
            "  _warn_prf(average, modifier, msg_start, len(result))\n"
          ],
          "name": "stderr"
        }
      ]
    },
    {
      "cell_type": "markdown",
      "metadata": {
        "id": "qQlsCQyrqX0j",
        "colab_type": "text"
      },
      "source": [
        "## VDCNN"
      ]
    },
    {
      "cell_type": "code",
      "metadata": {
        "id": "0M7HGbRJqUzn",
        "colab_type": "code",
        "colab": {
          "base_uri": "https://localhost:8080/",
          "height": 238
        },
        "outputId": "6a92635e-aa0e-49db-9869-892e69596de6"
      },
      "source": [
        "y_pred = vdcnn_model.predict(x_val, batch_size=batch_size, verbose=1)\n",
        "y_pred = (y_pred > 0.5)\n",
        "print(classification_report(y_val, y_pred))\n",
        "vdcnn_f1=f1_score(y_val, y_pred,average='macro')"
      ],
      "execution_count": 50,
      "outputs": [
        {
          "output_type": "stream",
          "text": [
            "444/444 [==============================] - 1s 2ms/step\n",
            "              precision    recall  f1-score   support\n",
            "\n",
            "           0       0.87      1.00      0.93       386\n",
            "           1       0.00      0.00      0.00        58\n",
            "\n",
            "    accuracy                           0.87       444\n",
            "   macro avg       0.43      0.50      0.47       444\n",
            "weighted avg       0.76      0.87      0.81       444\n",
            "\n"
          ],
          "name": "stdout"
        },
        {
          "output_type": "stream",
          "text": [
            "/usr/local/lib/python3.6/dist-packages/sklearn/metrics/_classification.py:1272: UndefinedMetricWarning: Precision and F-score are ill-defined and being set to 0.0 in labels with no predicted samples. Use `zero_division` parameter to control this behavior.\n",
            "  _warn_prf(average, modifier, msg_start, len(result))\n"
          ],
          "name": "stderr"
        }
      ]
    },
    {
      "cell_type": "markdown",
      "metadata": {
        "id": "ix_QKjbbC7ub",
        "colab_type": "text"
      },
      "source": [
        "##KIM"
      ]
    },
    {
      "cell_type": "code",
      "metadata": {
        "id": "0McQOe5pC8oQ",
        "colab_type": "code",
        "colab": {
          "base_uri": "https://localhost:8080/",
          "height": 185
        },
        "outputId": "7a50431a-a044-4db5-f318-cf817c759813"
      },
      "source": [
        "y_pred = kim_model.predict(x_val, batch_size=batch_size, verbose=1)\n",
        "y_pred = (y_pred > 0.5)\n",
        "print(classification_report(y_val, y_pred))\n",
        "kim_f1=f1_score(y_val, y_pred,average='macro')"
      ],
      "execution_count": 51,
      "outputs": [
        {
          "output_type": "stream",
          "text": [
            "444/444 [==============================] - 1s 2ms/step\n",
            "              precision    recall  f1-score   support\n",
            "\n",
            "           0       0.90      0.97      0.94       386\n",
            "           1       0.64      0.31      0.42        58\n",
            "\n",
            "    accuracy                           0.89       444\n",
            "   macro avg       0.77      0.64      0.68       444\n",
            "weighted avg       0.87      0.89      0.87       444\n",
            "\n"
          ],
          "name": "stdout"
        }
      ]
    },
    {
      "cell_type": "markdown",
      "metadata": {
        "id": "9J3D3dhxPpRu",
        "colab_type": "text"
      },
      "source": [
        "## CharCNN"
      ]
    },
    {
      "cell_type": "code",
      "metadata": {
        "id": "1U3UDhBzR3Jx",
        "colab_type": "code",
        "colab": {
          "base_uri": "https://localhost:8080/",
          "height": 238
        },
        "outputId": "58c40ce2-86a0-479b-c52c-93e2baa4e312"
      },
      "source": [
        "y_pred = char_model.predict(x_val_char, batch_size=batch_size, verbose=1)\n",
        "y_pred = (y_pred > 0.5)\n",
        "print(classification_report(y_val_char, y_pred))\n",
        "char_f1=f1_score(y_val, y_pred,average='macro')"
      ],
      "execution_count": 52,
      "outputs": [
        {
          "output_type": "stream",
          "text": [
            "444/444 [==============================] - 1s 2ms/step\n",
            "              precision    recall  f1-score   support\n",
            "\n",
            "           0       0.87      1.00      0.93       386\n",
            "           1       0.00      0.00      0.00        58\n",
            "\n",
            "    accuracy                           0.87       444\n",
            "   macro avg       0.43      0.50      0.47       444\n",
            "weighted avg       0.76      0.87      0.81       444\n",
            "\n"
          ],
          "name": "stdout"
        },
        {
          "output_type": "stream",
          "text": [
            "/usr/local/lib/python3.6/dist-packages/sklearn/metrics/_classification.py:1272: UndefinedMetricWarning: Precision and F-score are ill-defined and being set to 0.0 in labels with no predicted samples. Use `zero_division` parameter to control this behavior.\n",
            "  _warn_prf(average, modifier, msg_start, len(result))\n"
          ],
          "name": "stderr"
        }
      ]
    },
    {
      "cell_type": "code",
      "metadata": {
        "id": "CFxd_0Jbg95C",
        "colab_type": "code",
        "colab": {}
      },
      "source": [
        ""
      ],
      "execution_count": 0,
      "outputs": []
    },
    {
      "cell_type": "code",
      "metadata": {
        "id": "0XP-W9arzp3H",
        "colab_type": "code",
        "colab": {}
      },
      "source": [
        ""
      ],
      "execution_count": 0,
      "outputs": []
    },
    {
      "cell_type": "markdown",
      "metadata": {
        "id": "vXd8VkdPhAq2",
        "colab_type": "text"
      },
      "source": [
        "# Result"
      ]
    },
    {
      "cell_type": "code",
      "metadata": {
        "id": "jBp341Qog_uv",
        "colab_type": "code",
        "colab": {
          "base_uri": "https://localhost:8080/",
          "height": 168
        },
        "outputId": "e3093208-a7f4-4ea7-8817-021a5ed99837"
      },
      "source": [
        "print('f1 score of count vec' ,cv_f1)\n",
        "print('f1 score of word tfidf' ,tfw_f1)\n",
        "print('f1 score of char tfidf' ,tfc_f1)\n",
        "\n",
        "print('f1 score of RNN' ,gru_f1)\n",
        "print('f1 score of gated attention', gru_atten_f1)\n",
        "print('f1 score of tcn',tcn_f1)\n",
        "print('f1 score of vdcnn', vdcnn_f1)\n",
        "print('f1 score of kim',kim_f1)\n",
        "print('f1 score of char cnn',char_f1)"
      ],
      "execution_count": 53,
      "outputs": [
        {
          "output_type": "stream",
          "text": [
            "f1 score of count vec 0.7583593283334439\n",
            "f1 score of word tfidf 0.5159276071917062\n",
            "f1 score of char tfidf 0.5318284777005389\n",
            "f1 score of RNN 0.7309257312472945\n",
            "f1 score of gated attention 0.744210162461113\n",
            "f1 score of tcn 0.4650602409638554\n",
            "f1 score of vdcnn 0.4650602409638554\n",
            "f1 score of kim 0.678130255755959\n",
            "f1 score of char cnn 0.4650602409638554\n"
          ],
          "name": "stdout"
        }
      ]
    },
    {
      "cell_type": "markdown",
      "metadata": {
        "id": "DW1OugTMEpZg",
        "colab_type": "text"
      },
      "source": [
        "# Ensemble"
      ]
    },
    {
      "cell_type": "markdown",
      "metadata": {
        "id": "f6VT0aVcUIhm",
        "colab_type": "text"
      },
      "source": [
        "we will choose only those, having f1 greater than 0.7. Once they are selected, we will decode labels, and keep label according to mod"
      ]
    },
    {
      "cell_type": "code",
      "metadata": {
        "id": "d0lFlc4nY70O",
        "colab_type": "code",
        "colab": {
          "base_uri": "https://localhost:8080/",
          "height": 67
        },
        "outputId": "6643b06b-4d5e-4709-c96c-54425c6f126f"
      },
      "source": [
        "y_test_cv = cv_classifier.predict_proba(X_test_cv)[:,1]\n",
        "# y_test_tfw = tfw_classifier.predict_proba(test_word_features)[:,1]\n",
        "# y_test_tfc = tfc_classifier.predict_proba(test_char_features)[:,1]\n",
        "\n",
        "y_test_gru = gru_model.predict(X_test_sequences, batch_size=batch_size, verbose=1).ravel()\n",
        "y_test_gru_atten = attn_gru_model.predict(X_test_sequences, batch_size=batch_size, verbose=1).ravel()\n",
        "# y_test_tcn = tcn_model.predict(X_test_sequences, batch_size=batch_size, verbose=1).ravel()\n",
        "# y_test_vdcnn = vdcnn_model.predict(X_test_sequences, batch_size=batch_size, verbose=1).ravel()\n",
        "y_test_kim = kim_model.predict(X_test_sequences, batch_size=batch_size, verbose=1).ravel()\n",
        "# y_test_char = char_model.predict(X_test_sequences, batch_size=batch_size, verbose=1).ravel()\n",
        "# # # "
      ],
      "execution_count": 54,
      "outputs": [
        {
          "output_type": "stream",
          "text": [
            "329/329 [==============================] - 0s 449us/step\n",
            "329/329 [==============================] - 0s 423us/step\n",
            "329/329 [==============================] - 0s 152us/step\n"
          ],
          "name": "stdout"
        }
      ]
    },
    {
      "cell_type": "code",
      "metadata": {
        "id": "6wmQlS5LkZLi",
        "colab_type": "code",
        "colab": {
          "base_uri": "https://localhost:8080/",
          "height": 34
        },
        "outputId": "722fe77e-57dd-4fd5-c956-a32a6241c22c"
      },
      "source": [
        "f=np.array([0.75,0.73,0.74,0.67])\n",
        "f/np.sum(f)"
      ],
      "execution_count": 60,
      "outputs": [
        {
          "output_type": "execute_result",
          "data": {
            "text/plain": [
              "array([0.25951557, 0.25259516, 0.25605536, 0.23183391])"
            ]
          },
          "metadata": {
            "tags": []
          },
          "execution_count": 60
        }
      ]
    },
    {
      "cell_type": "code",
      "metadata": {
        "id": "AkCLYtxOcXCA",
        "colab_type": "code",
        "colab": {}
      },
      "source": [
        "#i am bit changing the distribution in order to give more weightage to ml than dl\n",
        "y_test=0.3*y_test_cv+0.25*y_test_gru+0.25*y_test_gru_atten+0.2*y_test_kim"
      ],
      "execution_count": 0,
      "outputs": []
    },
    {
      "cell_type": "code",
      "metadata": {
        "id": "V9Pu0LvuZIf8",
        "colab_type": "code",
        "colab": {}
      },
      "source": [
        "def decode(y_test):\n",
        "  y_test[y_test>0.5]=1\n",
        "  y_test[y_test<0.5]=0\n",
        "  y_test=y_test.astype('int16').ravel()\n",
        "\n",
        "  y_test=le.inverse_transform(y_test)\n",
        "  y_test=pd.DataFrame(y_test,columns=['label'])\n",
        "  y_test=pd.concat([ids, y_test['label']], axis=1)\n",
        "  return y_test"
      ],
      "execution_count": 0,
      "outputs": []
    },
    {
      "cell_type": "code",
      "metadata": {
        "id": "7PgV77IYZRGP",
        "colab_type": "code",
        "colab": {
          "base_uri": "https://localhost:8080/",
          "height": 195
        },
        "outputId": "257c23a7-d167-4cca-c729-1d6a0214a8a8"
      },
      "source": [
        "y_test=decode(y_test)\n",
        "y_test.head()\n",
        "\n"
      ],
      "execution_count": 64,
      "outputs": [
        {
          "output_type": "execute_result",
          "data": {
            "text/html": [
              "<div>\n",
              "<style scoped>\n",
              "    .dataframe tbody tr th:only-of-type {\n",
              "        vertical-align: middle;\n",
              "    }\n",
              "\n",
              "    .dataframe tbody tr th {\n",
              "        vertical-align: top;\n",
              "    }\n",
              "\n",
              "    .dataframe thead th {\n",
              "        text-align: right;\n",
              "    }\n",
              "</style>\n",
              "<table border=\"1\" class=\"dataframe\">\n",
              "  <thead>\n",
              "    <tr style=\"text-align: right;\">\n",
              "      <th></th>\n",
              "      <th>id</th>\n",
              "      <th>label</th>\n",
              "    </tr>\n",
              "  </thead>\n",
              "  <tbody>\n",
              "    <tr>\n",
              "      <th>0</th>\n",
              "      <td>1382</td>\n",
              "      <td>NOT</td>\n",
              "    </tr>\n",
              "    <tr>\n",
              "      <th>1</th>\n",
              "      <td>1384</td>\n",
              "      <td>NOT</td>\n",
              "    </tr>\n",
              "    <tr>\n",
              "      <th>2</th>\n",
              "      <td>547</td>\n",
              "      <td>NOT</td>\n",
              "    </tr>\n",
              "    <tr>\n",
              "      <th>3</th>\n",
              "      <td>1269</td>\n",
              "      <td>NOT</td>\n",
              "    </tr>\n",
              "    <tr>\n",
              "      <th>4</th>\n",
              "      <td>1695</td>\n",
              "      <td>NOT</td>\n",
              "    </tr>\n",
              "  </tbody>\n",
              "</table>\n",
              "</div>"
            ],
            "text/plain": [
              "     id label\n",
              "0  1382   NOT\n",
              "1  1384   NOT\n",
              "2   547   NOT\n",
              "3  1269   NOT\n",
              "4  1695   NOT"
            ]
          },
          "metadata": {
            "tags": []
          },
          "execution_count": 64
        }
      ]
    },
    {
      "cell_type": "code",
      "metadata": {
        "id": "8avMmBQvb_IR",
        "colab_type": "code",
        "colab": {}
      },
      "source": [
        ""
      ],
      "execution_count": 0,
      "outputs": []
    },
    {
      "cell_type": "markdown",
      "metadata": {
        "id": "Dl57zICXM4c6",
        "colab_type": "text"
      },
      "source": [
        "# Submit file"
      ]
    },
    {
      "cell_type": "code",
      "metadata": {
        "id": "3LkCxvtfEnpl",
        "colab_type": "code",
        "colab": {}
      },
      "source": [
        ""
      ],
      "execution_count": 0,
      "outputs": []
    },
    {
      "cell_type": "code",
      "metadata": {
        "id": "GHTCw4_jP_tr",
        "colab_type": "code",
        "colab": {}
      },
      "source": [
        "y_test.to_csv('/content/weighted.csv',index=False,header=None)\n"
      ],
      "execution_count": 0,
      "outputs": []
    },
    {
      "cell_type": "code",
      "metadata": {
        "id": "2tPo96DUz_EZ",
        "colab_type": "code",
        "colab": {}
      },
      "source": [
        ""
      ],
      "execution_count": 0,
      "outputs": []
    },
    {
      "cell_type": "markdown",
      "metadata": {
        "id": "FwKb7_NBWjAv",
        "colab_type": "text"
      },
      "source": [
        "# Reset"
      ]
    },
    {
      "cell_type": "code",
      "metadata": {
        "id": "R0Xi3s2KWlKi",
        "colab_type": "code",
        "colab": {}
      },
      "source": [
        "# import keras\n",
        "# keras.backend.clear_session()"
      ],
      "execution_count": 0,
      "outputs": []
    },
    {
      "cell_type": "code",
      "metadata": {
        "id": "T39YK5rbQBoT",
        "colab_type": "code",
        "colab": {}
      },
      "source": [
        ""
      ],
      "execution_count": 0,
      "outputs": []
    }
  ]
}