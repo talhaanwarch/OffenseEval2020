{
  "nbformat": 4,
  "nbformat_minor": 0,
  "metadata": {
    "colab": {
      "name": "Turkish.ipynb",
      "provenance": [],
      "collapsed_sections": [
        "FwKb7_NBWjAv"
      ],
      "toc_visible": true,
      "authorship_tag": "ABX9TyPuo+02yv2VeOt8qxF70apZ",
      "include_colab_link": true
    },
    "kernelspec": {
      "name": "python3",
      "display_name": "Python 3"
    },
    "accelerator": "GPU"
  },
  "cells": [
    {
      "cell_type": "markdown",
      "metadata": {
        "id": "view-in-github",
        "colab_type": "text"
      },
      "source": [
        "<a href=\"https://colab.research.google.com/github/talhaanwarch/OffenseEval2020/blob/master/submissions/Turkish.ipynb\" target=\"_parent\"><img src=\"https://colab.research.google.com/assets/colab-badge.svg\" alt=\"Open In Colab\"/></a>"
      ]
    },
    {
      "cell_type": "code",
      "metadata": {
        "id": "_uqG7k8lK3xz",
        "colab_type": "code",
        "outputId": "5ca4ba21-21ee-48dc-eee7-71329434be83",
        "colab": {
          "base_uri": "https://localhost:8080/",
          "height": 306
        }
      },
      "source": [
        "!pip install focal-loss\n",
        "!pip install keras-tcn==2.8.3"
      ],
      "execution_count": 1,
      "outputs": [
        {
          "output_type": "stream",
          "text": [
            "Collecting focal-loss\n",
            "  Downloading https://files.pythonhosted.org/packages/66/ed/17450291228192ad8595de4514c8ec28a587697b03c707d12d4af5b7f331/focal_loss-0.0.2-py3-none-any.whl\n",
            "Installing collected packages: focal-loss\n",
            "Successfully installed focal-loss-0.0.2\n",
            "Collecting keras-tcn==2.8.3\n",
            "  Downloading https://files.pythonhosted.org/packages/d4/c4/438c86b27ab11a79cc659d8d6878682c4eb80caa0c0b3d620740cef762f5/keras_tcn-2.8.3-py3-none-any.whl\n",
            "Requirement already satisfied: keras in /usr/local/lib/python3.6/dist-packages (from keras-tcn==2.8.3) (2.2.5)\n",
            "Requirement already satisfied: numpy in /usr/local/lib/python3.6/dist-packages (from keras-tcn==2.8.3) (1.17.5)\n",
            "Requirement already satisfied: pyyaml in /usr/local/lib/python3.6/dist-packages (from keras->keras-tcn==2.8.3) (3.13)\n",
            "Requirement already satisfied: keras-preprocessing>=1.1.0 in /usr/local/lib/python3.6/dist-packages (from keras->keras-tcn==2.8.3) (1.1.0)\n",
            "Requirement already satisfied: six>=1.9.0 in /usr/local/lib/python3.6/dist-packages (from keras->keras-tcn==2.8.3) (1.12.0)\n",
            "Requirement already satisfied: h5py in /usr/local/lib/python3.6/dist-packages (from keras->keras-tcn==2.8.3) (2.8.0)\n",
            "Requirement already satisfied: scipy>=0.14 in /usr/local/lib/python3.6/dist-packages (from keras->keras-tcn==2.8.3) (1.4.1)\n",
            "Requirement already satisfied: keras-applications>=1.0.8 in /usr/local/lib/python3.6/dist-packages (from keras->keras-tcn==2.8.3) (1.0.8)\n",
            "Installing collected packages: keras-tcn\n",
            "Successfully installed keras-tcn-2.8.3\n"
          ],
          "name": "stdout"
        }
      ]
    },
    {
      "cell_type": "code",
      "metadata": {
        "id": "pPexfZvANVks",
        "colab_type": "code",
        "outputId": "a2f42abe-8ccd-46a9-9ee8-6ff7de9dd82d",
        "colab": {
          "base_uri": "https://localhost:8080/",
          "height": 121
        }
      },
      "source": [
        "from google.colab import drive\n",
        "drive.mount('/content/drive',force_remount=True)"
      ],
      "execution_count": 2,
      "outputs": [
        {
          "output_type": "stream",
          "text": [
            "Go to this URL in a browser: https://accounts.google.com/o/oauth2/auth?client_id=947318989803-6bn6qk8qdgf4n4g3pfee6491hc0brc4i.apps.googleusercontent.com&redirect_uri=urn%3aietf%3awg%3aoauth%3a2.0%3aoob&response_type=code&scope=email%20https%3a%2f%2fwww.googleapis.com%2fauth%2fdocs.test%20https%3a%2f%2fwww.googleapis.com%2fauth%2fdrive%20https%3a%2f%2fwww.googleapis.com%2fauth%2fdrive.photos.readonly%20https%3a%2f%2fwww.googleapis.com%2fauth%2fpeopleapi.readonly\n",
            "\n",
            "Enter your authorization code:\n",
            "··········\n",
            "Mounted at /content/drive\n"
          ],
          "name": "stdout"
        }
      ]
    },
    {
      "cell_type": "markdown",
      "metadata": {
        "id": "G6Q3msMuLDpE",
        "colab_type": "text"
      },
      "source": [
        "# Import lib"
      ]
    },
    {
      "cell_type": "code",
      "metadata": {
        "id": "MpTHlh_QLDL7",
        "colab_type": "code",
        "colab": {}
      },
      "source": [
        "import pandas as pd\n",
        "from sklearn.preprocessing import LabelEncoder\n",
        "from keras.models import Sequential,Model\n",
        "from keras.layers import Embedding,CuDNNGRU,CuDNNLSTM,Dense,Dropout,Bidirectional,BatchNormalization,GlobalMaxPooling1D,Flatten, GlobalAveragePooling1D, MaxPooling1D,SpatialDropout1D,Input,Activation,concatenate,Conv1D\n",
        "from keras.optimizers import RMSprop,Adam,Adadelta\n",
        "from keras.initializers import Constant\n",
        "from sklearn.utils import class_weight\n",
        "from sklearn.metrics import classification_report,f1_score\n",
        "import keras\n",
        "import csv\n",
        "import collections\n",
        "import numpy as np\n",
        "from focal_loss import BinaryFocalLoss\n",
        "import tensorflow as tf\n",
        "tf.logging.set_verbosity(tf.logging.ERROR)\n"
      ],
      "execution_count": 0,
      "outputs": []
    },
    {
      "cell_type": "markdown",
      "metadata": {
        "id": "Udk8qWz-K4cx",
        "colab_type": "text"
      },
      "source": [
        "# Load data"
      ]
    },
    {
      "cell_type": "code",
      "metadata": {
        "id": "52k7345EK6kb",
        "colab_type": "code",
        "outputId": "a61e0f16-5fca-4511-f831-21893d51c0a8",
        "colab": {
          "base_uri": "https://localhost:8080/",
          "height": 34
        }
      },
      "source": [
        "cd /content/drive/My Drive/dataset/OffenseEval2020/data/Turkish/"
      ],
      "execution_count": 4,
      "outputs": [
        {
          "output_type": "stream",
          "text": [
            "/content/drive/My Drive/dataset/OffenseEval2020/data/Turkish\n"
          ],
          "name": "stdout"
        }
      ]
    },
    {
      "cell_type": "code",
      "metadata": {
        "id": "MnI2RvjGK_Vw",
        "colab_type": "code",
        "outputId": "d10a3acd-1a3d-4058-a3fa-49982bb08ced",
        "colab": {
          "base_uri": "https://localhost:8080/",
          "height": 67
        }
      },
      "source": [
        "ls"
      ],
      "execution_count": 5,
      "outputs": [
        {
          "output_type": "stream",
          "text": [
            "cc.tr.300.vec              offenseval-tr-testset-v1.tsv   tcn.npy\n",
            "cc.tr.300.vec.gz           offenseval-tr-training-v1.tsv\n",
            "offenseval-annotation.txt  readme-trainingset-tr.txt\n"
          ],
          "name": "stdout"
        }
      ]
    },
    {
      "cell_type": "code",
      "metadata": {
        "id": "Jnd4B-_5LApL",
        "colab_type": "code",
        "outputId": "979f517a-de1e-4076-dabb-1af5fa9ef9a6",
        "colab": {
          "base_uri": "https://localhost:8080/",
          "height": 212
        }
      },
      "source": [
        "train=pd.read_csv( 'offenseval-tr-training-v1.tsv',sep='\\t',quoting=csv.QUOTE_NONE,encoding='utf-8')\n",
        "train.drop(train.tail(n=1).index,inplace=True)\n",
        "train[\"tweet\"]= train[\"tweet\"].str.replace('@USER', \"\") \n",
        "train['tweet']=train['tweet'].str.replace('\\d+', '')\n",
        "train['tweet']=train['tweet'].str.replace('URL', '')\n",
        "train[\"tweet\"]= train[\"tweet\"].str.lower()\n",
        "train=train.sample(frac=1)\n",
        "print(len(train))\n",
        "train.head()"
      ],
      "execution_count": 8,
      "outputs": [
        {
          "output_type": "stream",
          "text": [
            "31755\n"
          ],
          "name": "stdout"
        },
        {
          "output_type": "execute_result",
          "data": {
            "text/html": [
              "<div>\n",
              "<style scoped>\n",
              "    .dataframe tbody tr th:only-of-type {\n",
              "        vertical-align: middle;\n",
              "    }\n",
              "\n",
              "    .dataframe tbody tr th {\n",
              "        vertical-align: top;\n",
              "    }\n",
              "\n",
              "    .dataframe thead th {\n",
              "        text-align: right;\n",
              "    }\n",
              "</style>\n",
              "<table border=\"1\" class=\"dataframe\">\n",
              "  <thead>\n",
              "    <tr style=\"text-align: right;\">\n",
              "      <th></th>\n",
              "      <th>id</th>\n",
              "      <th>tweet</th>\n",
              "      <th>subtask_a</th>\n",
              "    </tr>\n",
              "  </thead>\n",
              "  <tbody>\n",
              "    <tr>\n",
              "      <th>26537</th>\n",
              "      <td>40962</td>\n",
              "      <td>tc halkı irade gösterirse şu sikko fikrin hiçb...</td>\n",
              "      <td>OFF</td>\n",
              "    </tr>\n",
              "    <tr>\n",
              "      <th>25033</th>\n",
              "      <td>27055</td>\n",
              "      <td>sokakta yatan insanlar ve sokak hayvanlarının ...</td>\n",
              "      <td>NOT</td>\n",
              "    </tr>\n",
              "    <tr>\n",
              "      <th>3025</th>\n",
              "      <td>34395</td>\n",
              "      <td>merhaba tanisabilirmiyiz seninle ozelden yaza...</td>\n",
              "      <td>NOT</td>\n",
              "    </tr>\n",
              "    <tr>\n",
              "      <th>31063</th>\n",
              "      <td>40546</td>\n",
              "      <td>i̇çerken yiyebilme ihtimalimiz var mı? ama dü...</td>\n",
              "      <td>NOT</td>\n",
              "    </tr>\n",
              "    <tr>\n",
              "      <th>6172</th>\n",
              "      <td>12320</td>\n",
              "      <td>güzel bir gün oldu güzel</td>\n",
              "      <td>NOT</td>\n",
              "    </tr>\n",
              "  </tbody>\n",
              "</table>\n",
              "</div>"
            ],
            "text/plain": [
              "          id                                              tweet subtask_a\n",
              "26537  40962  tc halkı irade gösterirse şu sikko fikrin hiçb...       OFF\n",
              "25033  27055  sokakta yatan insanlar ve sokak hayvanlarının ...       NOT\n",
              "3025   34395   merhaba tanisabilirmiyiz seninle ozelden yaza...       NOT\n",
              "31063  40546   i̇çerken yiyebilme ihtimalimiz var mı? ama dü...       NOT\n",
              "6172   12320                           güzel bir gün oldu güzel       NOT"
            ]
          },
          "metadata": {
            "tags": []
          },
          "execution_count": 8
        }
      ]
    },
    {
      "cell_type": "code",
      "metadata": {
        "id": "JdwHh_q_LLus",
        "colab_type": "code",
        "outputId": "59b2d996-2c0d-4a59-cf62-c1ee2d25dd3a",
        "colab": {
          "base_uri": "https://localhost:8080/",
          "height": 118
        }
      },
      "source": [
        "test=pd.read_csv( 'offenseval-tr-testset-v1.tsv',sep='\\t',quoting=csv.QUOTE_NONE,encoding='utf-8')\n",
        "test[\"tweet\"]= test[\"tweet\"].str.replace('@USER', \"\") \n",
        "test['tweet']=test['tweet'].str.replace('\\d+', '')\n",
        "test['tweet']=test['tweet'].str.replace('URL', '')\n",
        "test['tweet']=test['tweet'].str.lower()\n",
        "ids=test['id']\n",
        "test=test['tweet']\n",
        "test.head()"
      ],
      "execution_count": 12,
      "outputs": [
        {
          "output_type": "execute_result",
          "data": {
            "text/plain": [
              "0            sayın başkanım bu şekilde devam inşallah👏\n",
              "1    herkes gevşekliği kadar duyar kasıyor,hayat bö...\n",
              "2    olgun ilişkisi olan arkadaş size en güzel hedi...\n",
              "3      burada atıp tutacağına o kötü koşullarda  ku...\n",
              "4          i̇şte o onur dediğin sende yok sorun o işte\n",
              "Name: tweet, dtype: object"
            ]
          },
          "metadata": {
            "tags": []
          },
          "execution_count": 12
        }
      ]
    },
    {
      "cell_type": "markdown",
      "metadata": {
        "id": "YUFczyikLeYO",
        "colab_type": "text"
      },
      "source": [
        "#Label Encoding"
      ]
    },
    {
      "cell_type": "code",
      "metadata": {
        "id": "CFPv0_zdLnlS",
        "colab_type": "code",
        "colab": {}
      },
      "source": [
        "labels=train['subtask_a']\n",
        "train=train['tweet']"
      ],
      "execution_count": 0,
      "outputs": []
    },
    {
      "cell_type": "code",
      "metadata": {
        "id": "w9PjbFwJLiNA",
        "colab_type": "code",
        "outputId": "6ec6c490-160a-4f1e-b878-b7e91edb6354",
        "colab": {
          "base_uri": "https://localhost:8080/",
          "height": 34
        }
      },
      "source": [
        "le=LabelEncoder()\n",
        "labels=le.fit_transform(labels)\n",
        "print(len(labels))"
      ],
      "execution_count": 14,
      "outputs": [
        {
          "output_type": "stream",
          "text": [
            "31755\n"
          ],
          "name": "stdout"
        }
      ]
    },
    {
      "cell_type": "markdown",
      "metadata": {
        "id": "Ek_ZUjDef7ZV",
        "colab_type": "text"
      },
      "source": [
        "# Common Parameters"
      ]
    },
    {
      "cell_type": "code",
      "metadata": {
        "id": "ijjhkumKaDw7",
        "colab_type": "code",
        "colab": {}
      },
      "source": [
        "test_size=0.15\n",
        "batch_size=64\n",
        "opt=Adam()"
      ],
      "execution_count": 0,
      "outputs": []
    },
    {
      "cell_type": "markdown",
      "metadata": {
        "id": "i-IToeBciV1m",
        "colab_type": "text"
      },
      "source": [
        "## Cylic learning rate"
      ]
    },
    {
      "cell_type": "code",
      "metadata": {
        "id": "PIYW6ZAniXzU",
        "colab_type": "code",
        "colab": {}
      },
      "source": [
        "# https://www.kaggle.com/hireme/fun-api-keras-f1-metric-cyclical-learning-rate/code\n",
        "from keras.callbacks import Callback\n",
        "class CyclicLR(Callback):\n",
        "    \"\"\"This callback implements a cyclical learning rate policy (CLR).\n",
        "    The method cycles the learning rate between two boundaries with\n",
        "    some constant frequency, as detailed in this paper (https://arxiv.org/abs/1506.01186).\n",
        "    The amplitude of the cycle can be scaled on a per-iteration or \n",
        "    per-cycle basis.\n",
        "    This class has three built-in policies, as put forth in the paper.\n",
        "    \"triangular\":\n",
        "        A basic triangular cycle w/ no amplitude scaling.\n",
        "    \"triangular2\":\n",
        "        A basic triangular cycle that scales initial amplitude by half each cycle.\n",
        "    \"exp_range\":\n",
        "        A cycle that scales initial amplitude by gamma**(cycle iterations) at each \n",
        "        cycle iteration.\n",
        "    For more detail, please see paper.\n",
        "    \n",
        "    # Example\n",
        "        ```python\n",
        "            clr = CyclicLR(base_lr=0.001, max_lr=0.006,\n",
        "                                step_size=2000., mode='triangular')\n",
        "            model.fit(X_train, Y_train, callbacks=[clr])\n",
        "        ```\n",
        "    \n",
        "    Class also supports custom scaling functions:\n",
        "        ```python\n",
        "            clr_fn = lambda x: 0.5*(1+np.sin(x*np.pi/2.))\n",
        "            clr = CyclicLR(base_lr=0.001, max_lr=0.006,\n",
        "                                step_size=2000., scale_fn=clr_fn,\n",
        "                                scale_mode='cycle')\n",
        "            model.fit(X_train, Y_train, callbacks=[clr])\n",
        "        ```    \n",
        "    # Arguments\n",
        "        base_lr: initial learning rate which is the\n",
        "            lower boundary in the cycle.\n",
        "        max_lr: upper boundary in the cycle. Functionally,\n",
        "            it defines the cycle amplitude (max_lr - base_lr).\n",
        "            The lr at any cycle is the sum of base_lr\n",
        "            and some scaling of the amplitude; therefore \n",
        "            max_lr may not actually be reached depending on\n",
        "            scaling function.\n",
        "        step_size: number of training iterations per\n",
        "            half cycle. Authors suggest setting step_size\n",
        "            2-8 x training iterations in epoch.\n",
        "        mode: one of {triangular, triangular2, exp_range}.\n",
        "            Default 'triangular'.\n",
        "            Values correspond to policies detailed above.\n",
        "            If scale_fn is not None, this argument is ignored.\n",
        "        gamma: constant in 'exp_range' scaling function:\n",
        "            gamma**(cycle iterations)\n",
        "        scale_fn: Custom scaling policy defined by a single\n",
        "            argument lambda function, where \n",
        "            0 <= scale_fn(x) <= 1 for all x >= 0.\n",
        "            mode paramater is ignored \n",
        "        scale_mode: {'cycle', 'iterations'}.\n",
        "            Defines whether scale_fn is evaluated on \n",
        "            cycle number or cycle iterations (training\n",
        "            iterations since start of cycle). Default is 'cycle'.\n",
        "    \"\"\"\n",
        "\n",
        "    def __init__(self, base_lr=0.001, max_lr=0.006, step_size=2000., mode='triangular',\n",
        "                 gamma=1., scale_fn=None, scale_mode='cycle'):\n",
        "        super(CyclicLR, self).__init__()\n",
        "\n",
        "        self.base_lr = base_lr\n",
        "        self.max_lr = max_lr\n",
        "        self.step_size = step_size\n",
        "        self.mode = mode\n",
        "        self.gamma = gamma\n",
        "        if scale_fn == None:\n",
        "            if self.mode == 'triangular':\n",
        "                self.scale_fn = lambda x: 1.\n",
        "                self.scale_mode = 'cycle'\n",
        "            elif self.mode == 'triangular2':\n",
        "                self.scale_fn = lambda x: 1/(2.**(x-1))\n",
        "                self.scale_mode = 'cycle'\n",
        "            elif self.mode == 'exp_range':\n",
        "                self.scale_fn = lambda x: gamma**(x)\n",
        "                self.scale_mode = 'iterations'\n",
        "        else:\n",
        "            self.scale_fn = scale_fn\n",
        "            self.scale_mode = scale_mode\n",
        "        self.clr_iterations = 0.\n",
        "        self.trn_iterations = 0.\n",
        "        self.history = {}\n",
        "\n",
        "        self._reset()\n",
        "\n",
        "    def _reset(self, new_base_lr=None, new_max_lr=None,\n",
        "               new_step_size=None):\n",
        "        \"\"\"Resets cycle iterations.\n",
        "        Optional boundary/step size adjustment.\n",
        "        \"\"\"\n",
        "        if new_base_lr != None:\n",
        "            self.base_lr = new_base_lr\n",
        "        if new_max_lr != None:\n",
        "            self.max_lr = new_max_lr\n",
        "        if new_step_size != None:\n",
        "            self.step_size = new_step_size\n",
        "        self.clr_iterations = 0.\n",
        "        \n",
        "    def clr(self):\n",
        "        cycle = np.floor(1+self.clr_iterations/(2*self.step_size))\n",
        "        x = np.abs(self.clr_iterations/self.step_size - 2*cycle + 1)\n",
        "        if self.scale_mode == 'cycle':\n",
        "            return self.base_lr + (self.max_lr-self.base_lr)*np.maximum(0, (1-x))*self.scale_fn(cycle)\n",
        "        else:\n",
        "            return self.base_lr + (self.max_lr-self.base_lr)*np.maximum(0, (1-x))*self.scale_fn(self.clr_iterations)\n",
        "        \n",
        "    def on_train_begin(self, logs={}):\n",
        "        logs = logs or {}\n",
        "\n",
        "        if self.clr_iterations == 0:\n",
        "            K.set_value(self.model.optimizer.lr, self.base_lr)\n",
        "        else:\n",
        "            K.set_value(self.model.optimizer.lr, self.clr())        \n",
        "            \n",
        "    def on_batch_end(self, epoch, logs=None):\n",
        "        \n",
        "        logs = logs or {}\n",
        "        self.trn_iterations += 1\n",
        "        self.clr_iterations += 1\n",
        "\n",
        "        self.history.setdefault('lr', []).append(K.get_value(self.model.optimizer.lr))\n",
        "        self.history.setdefault('iterations', []).append(self.trn_iterations)\n",
        "\n",
        "        for k, v in logs.items():\n",
        "            self.history.setdefault(k, []).append(v)\n",
        "        \n",
        "        K.set_value(self.model.optimizer.lr, self.clr())"
      ],
      "execution_count": 0,
      "outputs": []
    },
    {
      "cell_type": "code",
      "metadata": {
        "id": "DIcxIjeYjHyo",
        "colab_type": "code",
        "colab": {}
      },
      "source": [
        "clr = CyclicLR(base_lr=0.001, max_lr=0.005,\n",
        "                        step_size=4., mode='exp_range',\n",
        "                        gamma=0.99994)"
      ],
      "execution_count": 0,
      "outputs": []
    },
    {
      "cell_type": "markdown",
      "metadata": {
        "id": "NAv_EEaQLXtY",
        "colab_type": "text"
      },
      "source": [
        "# Tokenize data"
      ]
    },
    {
      "cell_type": "code",
      "metadata": {
        "id": "QomCkNlRLHPG",
        "colab_type": "code",
        "colab": {}
      },
      "source": [
        "from keras.preprocessing.text import Tokenizer\n",
        "from keras.preprocessing import sequence\n",
        "max_words = 10000 #frequency of words to be kept\n",
        "max_len = 200\n",
        "\n",
        "tokenize = Tokenizer(num_words=max_words)\n",
        "tokenize.fit_on_texts(train)\n",
        "sequences = tokenize.texts_to_sequences(train)\n",
        "word_index = tokenize.word_index\n",
        "sequences_matrix = sequence.pad_sequences(sequences,maxlen=max_len,padding='post')"
      ],
      "execution_count": 0,
      "outputs": []
    },
    {
      "cell_type": "code",
      "metadata": {
        "id": "Og1W2rCOLs4w",
        "colab_type": "code",
        "outputId": "a75ec12d-6a5e-4ffa-c00a-bc7e58a69649",
        "colab": {
          "base_uri": "https://localhost:8080/",
          "height": 34
        }
      },
      "source": [
        "len(sequences_matrix),len(labels)"
      ],
      "execution_count": 18,
      "outputs": [
        {
          "output_type": "execute_result",
          "data": {
            "text/plain": [
              "(31755, 31755)"
            ]
          },
          "metadata": {
            "tags": []
          },
          "execution_count": 18
        }
      ]
    },
    {
      "cell_type": "code",
      "metadata": {
        "id": "I4kzu1RxLyGk",
        "colab_type": "code",
        "outputId": "c999328c-0449-4208-e048-725e1399129e",
        "colab": {
          "base_uri": "https://localhost:8080/",
          "height": 34
        }
      },
      "source": [
        "num_words = min(max_words, len(word_index)) + 1\n",
        "print(num_words)"
      ],
      "execution_count": 19,
      "outputs": [
        {
          "output_type": "stream",
          "text": [
            "10001\n"
          ],
          "name": "stdout"
        }
      ]
    },
    {
      "cell_type": "code",
      "metadata": {
        "id": "4i7WSY3lMmdp",
        "colab_type": "code",
        "colab": {}
      },
      "source": [
        "test_sequences = tokenize.texts_to_sequences(test)\n",
        "X_test_sequences = sequence.pad_sequences(test_sequences,maxlen=max_len,padding='post')"
      ],
      "execution_count": 0,
      "outputs": []
    },
    {
      "cell_type": "code",
      "metadata": {
        "id": "nRZxav1WNle-",
        "colab_type": "code",
        "outputId": "44156fdd-b3bc-463f-966e-719269a438d8",
        "colab": {
          "base_uri": "https://localhost:8080/",
          "height": 34
        }
      },
      "source": [
        "len(X_test_sequences)"
      ],
      "execution_count": 21,
      "outputs": [
        {
          "output_type": "execute_result",
          "data": {
            "text/plain": [
              "3528"
            ]
          },
          "metadata": {
            "tags": []
          },
          "execution_count": 21
        }
      ]
    },
    {
      "cell_type": "markdown",
      "metadata": {
        "id": "iwYC3x9tG35A",
        "colab_type": "text"
      },
      "source": [
        "# CharLevel Tokenization"
      ]
    },
    {
      "cell_type": "code",
      "metadata": {
        "id": "EQLA4CfIPIBF",
        "colab_type": "code",
        "colab": {}
      },
      "source": [
        "#https://github.com/BrambleXu/nlp-beginner-guide-keras/blob/master/char-level-cnn/char_cnn.py\n",
        "from keras.preprocessing.text import Tokenizer\n",
        "from keras.preprocessing import sequence\n",
        "from keras.preprocessing.sequence import pad_sequences\n",
        "\n",
        "max_words = 10000 #frequency of words to be kept\n",
        "max_len = 200\n",
        "#abcçdefgğhıijklmnoöprsştuüvyz\n",
        "ch_tokenize = Tokenizer(num_words=None, char_level=True, oov_token='UNK')\n",
        "ch_tokenize.fit_on_texts(train)\n",
        "\n",
        "alphabet = \"abcçdefgğhıijklmnoöprsştuüvyz,;.!?:'\\\"/\\\\|_@#$%^&*~`+-=<>()[]{}\"\n",
        "char_dict = {}\n",
        "for i, char in enumerate(alphabet):\n",
        "    char_dict[char] = i + 1\n",
        "\n",
        "# Use char_dict to replace the ch_tokenize.word_index\n",
        "ch_tokenize.word_index = char_dict.copy()\n",
        "# Add 'UNK' to the vocabulary\n",
        "ch_tokenize.word_index[ch_tokenize.oov_token] = max(char_dict.values()) + 1\n",
        "\n",
        "train_sequences = ch_tokenize.texts_to_sequences(train)\n",
        "text_sequences = ch_tokenize.texts_to_sequences(test)\n",
        "\n",
        "# Padding\n",
        "train_data = pad_sequences(train_sequences, maxlen=max_len, padding='post')\n",
        "test_data = pad_sequences(text_sequences, maxlen=max_len, padding='post')"
      ],
      "execution_count": 0,
      "outputs": []
    },
    {
      "cell_type": "markdown",
      "metadata": {
        "id": "SpzUIu4iL0PO",
        "colab_type": "text"
      },
      "source": [
        "# Embeddings"
      ]
    },
    {
      "cell_type": "code",
      "metadata": {
        "id": "o3UFPJAWL10_",
        "colab_type": "code",
        "colab": {}
      },
      "source": [
        "embed_size=300\n",
        "def get_coefs(word,*arr):\n",
        "    return word, np.asarray(arr, dtype='float32')\n",
        "\n",
        "def build_matrix(embedding_path, word_index):\n",
        "    embedding_index = dict(get_coefs(*o.strip().split(\" \")) for o in open(embedding_path))\n",
        "\n",
        "    nb_words = min(max_words, len(word_index))\n",
        "    embedding_matrix = np.zeros((nb_words + 1, embed_size))\n",
        "    for word, i in word_index.items():\n",
        "        if i >= max_words:\n",
        "            continue\n",
        "        embedding_vector = embedding_index.get(word)\n",
        "        if embedding_vector is not None:\n",
        "            embedding_matrix[i] = embedding_vector\n",
        "    return embedding_matrix"
      ],
      "execution_count": 0,
      "outputs": []
    },
    {
      "cell_type": "code",
      "metadata": {
        "id": "zTviPXodLzRW",
        "colab_type": "code",
        "outputId": "581f64eb-c3c6-4144-9cfa-4f3873c653db",
        "colab": {
          "base_uri": "https://localhost:8080/",
          "height": 34
        }
      },
      "source": [
        "embeddings=build_matrix('cc.tr.300.vec', word_index)\n",
        "embeddings.shape"
      ],
      "execution_count": 24,
      "outputs": [
        {
          "output_type": "execute_result",
          "data": {
            "text/plain": [
              "(10001, 300)"
            ]
          },
          "metadata": {
            "tags": []
          },
          "execution_count": 24
        }
      ]
    },
    {
      "cell_type": "code",
      "metadata": {
        "id": "DaShFhtgJ_Ef",
        "colab_type": "code",
        "colab": {}
      },
      "source": [
        ""
      ],
      "execution_count": 0,
      "outputs": []
    },
    {
      "cell_type": "markdown",
      "metadata": {
        "id": "e8_AdRhffkS3",
        "colab_type": "text"
      },
      "source": [
        "# Base Models"
      ]
    },
    {
      "cell_type": "code",
      "metadata": {
        "id": "b8BPz34Tgsr_",
        "colab_type": "code",
        "colab": {}
      },
      "source": [
        "from sklearn.model_selection import train_test_split\n",
        "x_train,x_val,y_train,y_val=train_test_split(train,labels,test_size=test_size,stratify=labels,shuffle=True,random_state=2020)"
      ],
      "execution_count": 0,
      "outputs": []
    },
    {
      "cell_type": "code",
      "metadata": {
        "id": "9nFZvNcbF0m-",
        "colab_type": "code",
        "outputId": "5b896fa8-3824-4ffd-f4ac-1253817f6976",
        "colab": {
          "base_uri": "https://localhost:8080/",
          "height": 34
        }
      },
      "source": [
        "collections.Counter(y_val)"
      ],
      "execution_count": 26,
      "outputs": [
        {
          "output_type": "execute_result",
          "data": {
            "text/plain": [
              "Counter({0: 3844, 1: 920})"
            ]
          },
          "metadata": {
            "tags": []
          },
          "execution_count": 26
        }
      ]
    },
    {
      "cell_type": "markdown",
      "metadata": {
        "id": "jvXD0v5mfm7M",
        "colab_type": "text"
      },
      "source": [
        "## Count Vectorizer"
      ]
    },
    {
      "cell_type": "code",
      "metadata": {
        "id": "YwPQNqimfo68",
        "colab_type": "code",
        "colab": {}
      },
      "source": [
        "from sklearn.feature_extraction.text import CountVectorizer\n",
        "count_vectorizer = CountVectorizer()\n",
        "count_vectorizer.fit(x_train)\n",
        "X_train_cv = count_vectorizer.transform(x_train)\n",
        "X_val_cv  = count_vectorizer.transform(x_val)\n",
        "X_test_cv=  count_vectorizer.transform(test)"
      ],
      "execution_count": 0,
      "outputs": []
    },
    {
      "cell_type": "code",
      "metadata": {
        "id": "dBKYCrdiuD-O",
        "colab_type": "code",
        "outputId": "5da0cfed-425d-4c57-f6bc-fc7d251bd7c7",
        "colab": {
          "base_uri": "https://localhost:8080/",
          "height": 50
        }
      },
      "source": [
        "from sklearn.model_selection import GridSearchCV\n",
        "from sklearn.linear_model import LogisticRegression\n",
        "def logistic_param_selection(X, y, nfolds):\n",
        "    C= [0.1, 1,3,5,8, 10,12,15]\n",
        "    param_grid = {'C': C}\n",
        "    grid_search = GridSearchCV(LogisticRegression(max_iter=1000), param_grid, cv=nfolds,scoring='f1_macro')\n",
        "    grid_search.fit(X, y)\n",
        "    print(grid_search.best_params_)\n",
        "    return grid_search.best_score_\n",
        "count_vectorizer.fit(train)\n",
        "train_cv = count_vectorizer.transform(train)\n",
        "logistic_param_selection(train_cv,labels,5)"
      ],
      "execution_count": 28,
      "outputs": [
        {
          "output_type": "stream",
          "text": [
            "{'C': 15}\n"
          ],
          "name": "stdout"
        },
        {
          "output_type": "execute_result",
          "data": {
            "text/plain": [
              "0.7072854012184214"
            ]
          },
          "metadata": {
            "tags": []
          },
          "execution_count": 28
        }
      ]
    },
    {
      "cell_type": "code",
      "metadata": {
        "id": "pA6nF9kLuGoI",
        "colab_type": "code",
        "colab": {}
      },
      "source": [
        ""
      ],
      "execution_count": 0,
      "outputs": []
    },
    {
      "cell_type": "code",
      "metadata": {
        "id": "f7DrfvLqf9GB",
        "colab_type": "code",
        "outputId": "63bd6286-74ce-4519-c78e-6f4e03b7fbe0",
        "colab": {
          "base_uri": "https://localhost:8080/",
          "height": 168
        }
      },
      "source": [
        "from sklearn.linear_model import LogisticRegression\n",
        "cv_classifier = LogisticRegression(solver='lbfgs',C=15,max_iter=500,class_weight='balance')\n",
        "cv_classifier.fit(X_train_cv, y_train)\n",
        "y_pred = cv_classifier.predict(X_val_cv)\n",
        "print(classification_report(y_val, y_pred))\n",
        "cv_f1=f1_score(y_val, y_pred,average='macro')"
      ],
      "execution_count": 29,
      "outputs": [
        {
          "output_type": "stream",
          "text": [
            "              precision    recall  f1-score   support\n",
            "\n",
            "           0       0.87      0.95      0.91      3844\n",
            "           1       0.69      0.43      0.53       920\n",
            "\n",
            "    accuracy                           0.85      4764\n",
            "   macro avg       0.78      0.69      0.72      4764\n",
            "weighted avg       0.84      0.85      0.84      4764\n",
            "\n"
          ],
          "name": "stdout"
        }
      ]
    },
    {
      "cell_type": "markdown",
      "metadata": {
        "id": "hJDyK1lahqqG",
        "colab_type": "text"
      },
      "source": [
        "## TF IDF word vectorizer"
      ]
    },
    {
      "cell_type": "code",
      "metadata": {
        "id": "Gz1WZZEufmEq",
        "colab_type": "code",
        "colab": {}
      },
      "source": [
        "from sklearn.feature_extraction.text import TfidfVectorizer\n",
        "word_vectorizer = TfidfVectorizer(\n",
        "    sublinear_tf=True,\n",
        "    strip_accents='unicode',\n",
        "    analyzer='word',\n",
        "    token_pattern=r'\\w{1,}',\n",
        "    ngram_range=(1, 4),\n",
        "    max_features=10000)\n",
        "word_vectorizer.fit(x_train)\n",
        "train_word_features = word_vectorizer.transform(x_train)\n",
        "val_word_features = word_vectorizer.transform(x_val)\n",
        "test_word_features = word_vectorizer.transform(test)"
      ],
      "execution_count": 0,
      "outputs": []
    },
    {
      "cell_type": "code",
      "metadata": {
        "id": "04JmMwoEh4-d",
        "colab_type": "code",
        "outputId": "9c9513fd-e9eb-4b65-fe2b-9c45b46df957",
        "colab": {
          "base_uri": "https://localhost:8080/",
          "height": 168
        }
      },
      "source": [
        "from sklearn.linear_model import LogisticRegression\n",
        "tfw_classifier = LogisticRegression(solver='lbfgs',max_iter=500)\n",
        "tfw_classifier.fit(train_word_features, y_train)\n",
        "y_pred = tfw_classifier.predict(val_word_features)\n",
        "print(classification_report(y_val, y_pred))\n",
        "tfw_f1=f1_score(y_val, y_pred,average='macro')"
      ],
      "execution_count": 31,
      "outputs": [
        {
          "output_type": "stream",
          "text": [
            "              precision    recall  f1-score   support\n",
            "\n",
            "           0       0.84      0.99      0.91      3844\n",
            "           1       0.84      0.23      0.36       920\n",
            "\n",
            "    accuracy                           0.84      4764\n",
            "   macro avg       0.84      0.61      0.64      4764\n",
            "weighted avg       0.84      0.84      0.80      4764\n",
            "\n"
          ],
          "name": "stdout"
        }
      ]
    },
    {
      "cell_type": "markdown",
      "metadata": {
        "id": "fNSvwaG1ioq0",
        "colab_type": "text"
      },
      "source": [
        "## TF IDF char vectorizer"
      ]
    },
    {
      "cell_type": "code",
      "metadata": {
        "id": "a_kqct6jiBq1",
        "colab_type": "code",
        "colab": {}
      },
      "source": [
        "char_vectorizer = TfidfVectorizer(\n",
        "    sublinear_tf=True,\n",
        "    strip_accents='unicode',\n",
        "    analyzer='char',\n",
        "    ngram_range=(1, 6),\n",
        "    max_features=30000)\n",
        "char_vectorizer.fit(x_train)\n",
        "train_char_features = char_vectorizer.transform(x_train)\n",
        "val_char_features = char_vectorizer.transform(x_val)\n",
        "test_char_features = char_vectorizer.transform(test)"
      ],
      "execution_count": 0,
      "outputs": []
    },
    {
      "cell_type": "code",
      "metadata": {
        "id": "cYhzRPO0iRMb",
        "colab_type": "code",
        "outputId": "8927b334-e65a-4ce2-af7e-8429d6b48549",
        "colab": {
          "base_uri": "https://localhost:8080/",
          "height": 168
        }
      },
      "source": [
        "tfc_classifier = LogisticRegression(solver='lbfgs',max_iter=500)\n",
        "tfc_classifier.fit(train_char_features, y_train)\n",
        "y_pred = tfc_classifier.predict(val_char_features)\n",
        "print(classification_report(y_val, y_pred))\n",
        "tfc_f1=f1_score(y_val, y_pred,average='macro')"
      ],
      "execution_count": 33,
      "outputs": [
        {
          "output_type": "stream",
          "text": [
            "              precision    recall  f1-score   support\n",
            "\n",
            "           0       0.86      0.98      0.92      3844\n",
            "           1       0.83      0.32      0.47       920\n",
            "\n",
            "    accuracy                           0.86      4764\n",
            "   macro avg       0.85      0.65      0.69      4764\n",
            "weighted avg       0.85      0.86      0.83      4764\n",
            "\n"
          ],
          "name": "stdout"
        }
      ]
    },
    {
      "cell_type": "code",
      "metadata": {
        "id": "tpkjinLBXX7j",
        "colab_type": "code",
        "colab": {}
      },
      "source": [
        ""
      ],
      "execution_count": 0,
      "outputs": []
    },
    {
      "cell_type": "markdown",
      "metadata": {
        "id": "I6sOo5OtMQnL",
        "colab_type": "text"
      },
      "source": [
        "# Models"
      ]
    },
    {
      "cell_type": "code",
      "metadata": {
        "id": "G71gBUQ0MNDM",
        "colab_type": "code",
        "colab": {}
      },
      "source": [
        "from sklearn.model_selection import train_test_split\n",
        "x_train,x_val,y_train,y_val=train_test_split(sequences_matrix,labels,test_size=test_size,stratify=labels,shuffle=True,random_state=2020)"
      ],
      "execution_count": 0,
      "outputs": []
    },
    {
      "cell_type": "markdown",
      "metadata": {
        "id": "jv2yPgQWL9de",
        "colab_type": "text"
      },
      "source": [
        "##GRU"
      ]
    },
    {
      "cell_type": "code",
      "metadata": {
        "id": "XXvqlGD0L-sx",
        "colab_type": "code",
        "colab": {}
      },
      "source": [
        "def model_gru():\n",
        "  inp = Input(shape=(max_len,))\n",
        "  x = Embedding(num_words,embed_size,embeddings_initializer=Constant(embeddings),input_length=max_len,trainable=False)(inp)\n",
        "  x = SpatialDropout1D(0.1)(x)\n",
        "  x = Bidirectional(CuDNNLSTM(50, return_sequences=True))(x)\n",
        "  x, x_h, x_c = Bidirectional(CuDNNGRU(50, return_sequences=True, return_state = True))(x)\n",
        "  avg_pool = GlobalAveragePooling1D()(x)\n",
        "  max_pool = GlobalMaxPooling1D()(x)\n",
        "  conc = concatenate([avg_pool, x_h, max_pool])\n",
        "  outp = Dense(1, activation=\"sigmoid\")(conc)    \n",
        "  model = Model(inputs=inp, outputs=outp)\n",
        "  model.compile(loss=BinaryFocalLoss(gamma=2), optimizer=opt, metrics=['accuracy'])\n",
        "  return model"
      ],
      "execution_count": 0,
      "outputs": []
    },
    {
      "cell_type": "markdown",
      "metadata": {
        "id": "7t_Ph6qafOQK",
        "colab_type": "text"
      },
      "source": [
        "## GRU attention"
      ]
    },
    {
      "cell_type": "code",
      "metadata": {
        "id": "KyKea_xMkrmP",
        "colab_type": "code",
        "colab": {}
      },
      "source": [
        "#https://github.com/zake7749/DeepToxic\n",
        "from keras.layers import Layer,Lambda\n",
        "from keras import initializers\n",
        "from keras.engine import InputSpec, Layer\n",
        "from keras import backend as K\n",
        "\n",
        "class AttentionWeightedAverage(Layer):\n",
        "    \"\"\"\n",
        "    Computes a weighted average of the different channels across timesteps.\n",
        "    Uses 1 parameter pr. channel to compute the attention value for a single timestep.\n",
        "    \"\"\"\n",
        "\n",
        "    def __init__(self, return_attention=False, **kwargs):\n",
        "        self.init = initializers.get('uniform')\n",
        "        self.supports_masking = True\n",
        "        self.return_attention = return_attention\n",
        "        super(AttentionWeightedAverage, self).__init__(** kwargs)\n",
        "\n",
        "    def build(self, input_shape):\n",
        "        self.input_spec = [InputSpec(ndim=3)]\n",
        "        assert len(input_shape) == 3\n",
        "\n",
        "        self.W = self.add_weight(shape=(input_shape[2], 1),\n",
        "                                 name='{}_W'.format(self.name),\n",
        "                                 initializer=self.init)\n",
        "        self.trainable_weights = [self.W]\n",
        "        super(AttentionWeightedAverage, self).build(input_shape)\n",
        "\n",
        "    def call(self, x, mask=None):\n",
        "        # computes a probability distribution over the timesteps\n",
        "        # uses 'max trick' for numerical stability\n",
        "        # reshape is done to avoid issue with Tensorflow\n",
        "        # and 1-dimensional weights\n",
        "        logits = K.dot(x, self.W)\n",
        "        x_shape = K.shape(x)\n",
        "        logits = K.reshape(logits, (x_shape[0], x_shape[1]))\n",
        "        ai = K.exp(logits - K.max(logits, axis=-1, keepdims=True))\n",
        "\n",
        "        # masked timesteps have zero weight\n",
        "        if mask is not None:\n",
        "            mask = K.cast(mask, K.floatx())\n",
        "            ai = ai * mask\n",
        "        att_weights = ai / (K.sum(ai, axis=1, keepdims=True) + K.epsilon())\n",
        "        weighted_input = x * K.expand_dims(att_weights)\n",
        "        result = K.sum(weighted_input, axis=1)\n",
        "        if self.return_attention:\n",
        "            return [result, att_weights]\n",
        "        return result\n",
        "\n",
        "    def get_output_shape_for(self, input_shape):\n",
        "        return self.compute_output_shape(input_shape)\n",
        "\n",
        "    def compute_output_shape(self, input_shape):\n",
        "        output_len = input_shape[2]\n",
        "        if self.return_attention:\n",
        "            return [(input_shape[0], output_len), (input_shape[0], input_shape[1])]\n",
        "        return (input_shape[0], output_len)\n",
        "\n",
        "    def compute_mask(self, input, input_mask=None):\n",
        "        if isinstance(input_mask, list):\n",
        "            return [None] * len(input_mask)\n",
        "        else:\n",
        "            return None"
      ],
      "execution_count": 0,
      "outputs": []
    },
    {
      "cell_type": "code",
      "metadata": {
        "id": "hovBxS5jfRbn",
        "colab_type": "code",
        "colab": {}
      },
      "source": [
        "def model_gru_attn():\n",
        "  inp = Input(shape=(max_len,))\n",
        "  x = Embedding(num_words,embed_size,embeddings_initializer=Constant(embeddings),input_length=max_len,trainable=False)(inp)\n",
        "  x = SpatialDropout1D(0.1)(x)\n",
        "  x = Bidirectional(CuDNNLSTM(50, return_sequences=True))(x)\n",
        "  x = Bidirectional(CuDNNGRU(50, return_sequences=True))(x)\n",
        "  avg_pool = GlobalAveragePooling1D()(x)\n",
        "  max_pool = GlobalMaxPooling1D()(x)\n",
        "  last = Lambda(lambda t: t[:, -1])(x)\n",
        "  attn = AttentionWeightedAverage()(x)\n",
        "  conc = concatenate([avg_pool,  max_pool,last,attn])\n",
        "  outp = Dense(1, activation=\"sigmoid\")(conc)    \n",
        "  model = Model(inputs=inp, outputs=outp)\n",
        "  model.compile(loss=BinaryFocalLoss(gamma=2), optimizer=opt, metrics=['accuracy'])\n",
        "  return model"
      ],
      "execution_count": 0,
      "outputs": []
    },
    {
      "cell_type": "markdown",
      "metadata": {
        "id": "I34DRPLqTVru",
        "colab_type": "text"
      },
      "source": [
        "##TCN"
      ]
    },
    {
      "cell_type": "code",
      "metadata": {
        "id": "e-euqTedTWjY",
        "colab_type": "code",
        "colab": {}
      },
      "source": [
        "from tcn import TCN\n",
        "\n",
        "def wave_net_activation(x):\n",
        "    # type: (Layer) -> Layer\n",
        "    \"\"\"This method defines the activation used for WaveNet\n",
        "    described in https://deepmind.com/blog/wavenet-generative-model-raw-audio/\n",
        "    Args:\n",
        "        x: The layer we want to apply the activation to\n",
        "    Returns:\n",
        "        A new layer with the wavenet activation applied\n",
        "    \"\"\"\n",
        "    tanh_out = Activation('tanh')(x)\n",
        "    sigm_out = Activation('sigmoid')(x)\n",
        "    return keras.layers.multiply([tanh_out, sigm_out])\n",
        "\n",
        "def model_tcn(embedding_matrix):\n",
        "    \n",
        "    inp = Input(shape=(max_len,))\n",
        "    x = Embedding(num_words,embed_size,embeddings_initializer=Constant(embeddings),input_length=max_len,trainable=False)(inp)\n",
        "    x = SpatialDropout1D(0.1)(x)\n",
        "    x = TCN(128,dilations = [1, 2, 4], return_sequences=True ,name = 'tnc1')(x)\n",
        "    x = wave_net_activation(x)\n",
        "    x = TCN(64,dilations = [1, 2, 4], return_sequences=True, name = 'tnc2')(x)\n",
        "    x = wave_net_activation(x)\n",
        "    #x = TCN(32,dilations = [1, 2, 4], return_sequences=True, activation = 'wavenet',name = 'tnc3')(x)\n",
        "    avg_pool = GlobalAveragePooling1D()(x)\n",
        "    max_pool = GlobalMaxPooling1D()(x)\n",
        "    \n",
        "    conc = concatenate([avg_pool, max_pool])\n",
        "    conc = Dense(64, activation=\"relu\")(conc)\n",
        "    conc = Dense(32, activation=\"relu\")(conc)\n",
        "\n",
        "    conc = Dropout(0.1)(conc)\n",
        "    outp = Dense(1, activation=\"sigmoid\")(conc)    \n",
        "    model = Model(inputs=inp, outputs=outp)\n",
        "    model.compile(loss=BinaryFocalLoss(gamma=2), optimizer=opt, metrics=['accuracy'])\n",
        "    \n",
        "    return model"
      ],
      "execution_count": 0,
      "outputs": []
    },
    {
      "cell_type": "code",
      "metadata": {
        "id": "3wLyuzTtMErl",
        "colab_type": "code",
        "colab": {}
      },
      "source": [
        "import numpy as np\n",
        "class_weights = class_weight.compute_class_weight('balanced',np.unique(labels),labels)\n",
        "class_weights=dict(enumerate(class_weights))"
      ],
      "execution_count": 0,
      "outputs": []
    },
    {
      "cell_type": "markdown",
      "metadata": {
        "id": "erHc_X1QoWaM",
        "colab_type": "text"
      },
      "source": [
        "## VDCNN"
      ]
    },
    {
      "cell_type": "code",
      "metadata": {
        "id": "IsZkJw7UoZEX",
        "colab_type": "code",
        "colab": {}
      },
      "source": [
        "#https://github.com/mukesh-mehta/VDCNN/blob/master/toxic.ipynb\n",
        "def ConvolutionalBlock(input_shape, num_filters):\n",
        "    model=Sequential()\n",
        "\n",
        "    #1st conv layer\n",
        "    model.add(Conv1D(filters = num_filters, kernel_size = 3, strides = 1, padding = \"same\", input_shape = input_shape))\n",
        "    model.add(BatchNormalization())\n",
        "    model.add(Activation(\"relu\"))\n",
        "\n",
        "    #2nd conv layer\n",
        "    model.add(Conv1D(filters = num_filters, kernel_size = 3, strides = 1, padding = \"same\"))\n",
        "    model.add(BatchNormalization())\n",
        "    model.add(Activation(\"relu\"))\n",
        "\n",
        "    return model\n",
        "\n",
        "#https://www.tensorflow.org/api_docs/python/tf/nn/top_k\n",
        "def top_kmax(x):\n",
        "    x=tf.transpose(x, [0, 2, 1])\n",
        "    k_max = tf.nn.top_k(x, k=top_k)\n",
        "    return tf.reshape(k_max[0], (-1, num_filters[-1]*top_k))\n",
        "\n",
        "def conv_shape(conv):\n",
        "    return conv.get_shape().as_list()[1:]\n"
      ],
      "execution_count": 0,
      "outputs": []
    },
    {
      "cell_type": "code",
      "metadata": {
        "id": "TnETJkW6onR9",
        "colab_type": "code",
        "colab": {}
      },
      "source": [
        "def model_vdcnn(num_filters, num_classes, sequence_max_length, num_chars, embedding_size, top_k, learning_rate=0.001):\n",
        "    \n",
        "    inputs=Input(shape=(sequence_max_length, ), dtype='int32', name='input')\n",
        "    \n",
        "    embedded_seq = Embedding(num_words,embed_size,embeddings_initializer=Constant(embeddings),input_length=max_len,trainable=False)(inputs)\n",
        "    embedded_seq = BatchNormalization()(embedded_seq)\n",
        "    #1st Layer\n",
        "    conv = Conv1D(filters=64, kernel_size=3, strides=2, padding=\"same\")(embedded_seq)\n",
        "    \n",
        "    #ConvBlocks\n",
        "    for i in range(len(num_filters)):\n",
        "        conv = ConvolutionalBlock(conv_shape(conv), num_filters[i])(conv)\n",
        "        conv = MaxPooling1D(pool_size=3, strides=2, padding=\"same\")(conv)\n",
        "        \n",
        "    def _top_k(x):\n",
        "        x = tf.transpose(x, [0, 2, 1])\n",
        "        k_max = tf.nn.top_k(x, k=top_k)\n",
        "        return tf.reshape(k_max[0], (-1, num_filters[-1] * top_k))\n",
        "    \n",
        "    k_max = Lambda(_top_k, output_shape=(num_filters[-1] * top_k,))(conv)\n",
        "    \n",
        "    #fully connected layers\n",
        "    # in original paper they didn't used dropouts\n",
        "    fc1=Dense(100, activation='relu', kernel_initializer='he_normal')(k_max)\n",
        "    fc1=Dropout(0.3)(fc1)\n",
        "    fc2=Dense(20, activation='relu', kernel_initializer='he_normal')(fc1)\n",
        "    fc2=Dropout(0.3)(fc2)\n",
        "    out=Dense(1, activation='sigmoid')(fc2)\n",
        "    \n",
        "    \n",
        "    model = Model(inputs=inputs, outputs=out)\n",
        "    model.compile(optimizer=opt, loss=BinaryFocalLoss(gamma=2), metrics=['accuracy'])\n",
        "    \n",
        "    return model"
      ],
      "execution_count": 0,
      "outputs": []
    },
    {
      "cell_type": "code",
      "metadata": {
        "id": "yuu9uY96pKYe",
        "colab_type": "code",
        "colab": {}
      },
      "source": [
        "num_filters = [64, 128, 256, 512]\n",
        "vdcnn_model=model_vdcnn(num_filters=num_filters, num_classes=1,num_chars=69, sequence_max_length=max_len,embedding_size=16,top_k=3)"
      ],
      "execution_count": 0,
      "outputs": []
    },
    {
      "cell_type": "code",
      "metadata": {
        "id": "6d55WTNmBa5w",
        "colab_type": "code",
        "colab": {}
      },
      "source": [
        ""
      ],
      "execution_count": 0,
      "outputs": []
    },
    {
      "cell_type": "markdown",
      "metadata": {
        "id": "mNc6xxspBcTG",
        "colab_type": "text"
      },
      "source": [
        "##KIM"
      ]
    },
    {
      "cell_type": "code",
      "metadata": {
        "id": "nAgtTt9IBfMQ",
        "colab_type": "code",
        "colab": {}
      },
      "source": [
        "conv_filters=128\n",
        "def model_kim():\n",
        "  inp = Input(shape=(max_len,))\n",
        "  emb = Embedding(num_words,embed_size,embeddings_initializer=Constant(embeddings),input_length=max_len,trainable=False)(inp)\n",
        "  # Specify each convolution layer and their kernel siz i.e. n-grams \n",
        "  conv1_1 = Conv1D(filters=conv_filters, kernel_size=3)(emb)\n",
        "  btch1_1 = BatchNormalization()(conv1_1)\n",
        "  drp1_1  = Dropout(0.2)(btch1_1)\n",
        "  actv1_1 = Activation('relu')(drp1_1)\n",
        "  glmp1_1 = GlobalMaxPooling1D()(actv1_1)\n",
        "\n",
        "  conv1_2 = Conv1D(filters=conv_filters, kernel_size=4)(emb)\n",
        "  btch1_2 = BatchNormalization()(conv1_2)\n",
        "  drp1_2  = Dropout(0.2)(btch1_2)\n",
        "  actv1_2 = Activation('relu')(drp1_2)\n",
        "  glmp1_2 = GlobalMaxPooling1D()(actv1_2)\n",
        "\n",
        "  conv1_3 = Conv1D(filters=conv_filters, kernel_size=5)(emb)\n",
        "  btch1_3 = BatchNormalization()(conv1_3)\n",
        "  drp1_3  = Dropout(0.2)(btch1_3)\n",
        "  actv1_3 = Activation('relu')(drp1_3)\n",
        "  glmp1_3 = GlobalMaxPooling1D()(actv1_3)\n",
        "\n",
        "  conv1_4 = Conv1D(filters=conv_filters, kernel_size=6)(emb)\n",
        "  btch1_4 = BatchNormalization()(conv1_4)\n",
        "  drp1_4  = Dropout(0.2)(btch1_4)\n",
        "  actv1_4 = Activation('relu')(drp1_4)\n",
        "  glmp1_4 = GlobalMaxPooling1D()(actv1_4)\n",
        "\n",
        "  # Gather all convolution layers\n",
        "  cnct = concatenate([glmp1_1, glmp1_2, glmp1_3, glmp1_4], axis=1)\n",
        "  drp1 = Dropout(0.2)(cnct)\n",
        "\n",
        "  dns1  = Dense(32, activation='relu')(drp1)\n",
        "  btch1 = BatchNormalization()(dns1)\n",
        "  drp2  = Dropout(0.2)(btch1)\n",
        "\n",
        "  out = Dense(1, activation='sigmoid')(drp2)   \n",
        "  model = Model(inputs=inp, outputs=out)\n",
        "  model.compile(loss=BinaryFocalLoss(gamma=2), optimizer=opt, metrics=['accuracy'])\n",
        "  return model\n"
      ],
      "execution_count": 0,
      "outputs": []
    },
    {
      "cell_type": "markdown",
      "metadata": {
        "id": "lAwx2rL7QhFR",
        "colab_type": "text"
      },
      "source": [
        "## CharCNN"
      ]
    },
    {
      "cell_type": "code",
      "metadata": {
        "id": "cFjdlonYQipo",
        "colab_type": "code",
        "outputId": "6c94c4ce-cbea-4a5d-f7a2-26578229c7dd",
        "colab": {
          "base_uri": "https://localhost:8080/",
          "height": 34
        }
      },
      "source": [
        "\n",
        "# parameter\n",
        "input_size = 200\n",
        "vocab_size = len(ch_tokenize.word_index)\n",
        "embedding_size = len(alphabet)+1\n",
        "conv_layers = [[256, 7, 3],\n",
        "               [256, 7, 3],\n",
        "               [256, 3, -1],\n",
        "               [256, 3, -1],\n",
        "               [256, 3, -1],\n",
        "               [256, 3, 3]]\n",
        "\n",
        "fully_connected_layers = [1024, 1024]\n",
        "dropout_p = 0.5\n",
        "\n",
        "\n",
        "# Embedding weights\n",
        "embedding_weights = []  \n",
        "embedding_weights.append(np.zeros(vocab_size))  \n",
        "\n",
        "for char, i in ch_tokenize.word_index.items():  \n",
        "    onehot = np.zeros(vocab_size)\n",
        "    onehot[i - 1] = 1\n",
        "    embedding_weights.append(onehot)\n",
        "\n",
        "embedding_weights = np.array(embedding_weights)\n",
        "print('Load')\n",
        "\n",
        "# Embedding layer Initialization\n",
        "embedding_layer = Embedding(vocab_size + 1,\n",
        "                            embedding_size,\n",
        "                            input_length=input_size,\n",
        "                            weights=[embedding_weights])\n",
        "\n",
        "# Model Construction\n",
        "# Input\n",
        "inputs = Input(shape=(input_size,), name='input', dtype='int64')  # shape=(?, 1014)\n",
        "# Embedding\n",
        "x = embedding_layer(inputs)\n",
        "# Conv\n",
        "for filter_num, filter_size, pooling_size in conv_layers:\n",
        "    x = Conv1D(filter_num, filter_size)(x)\n",
        "    x = Activation('relu')(x)\n",
        "    if pooling_size != -1:\n",
        "        x = MaxPooling1D(pool_size=pooling_size)(x)  # Final shape=(None, 34, 256)\n",
        "x = Flatten()(x)  # (None, 8704)\n",
        "# Fully connected layers\n",
        "for dense_size in fully_connected_layers:\n",
        "    x = Dense(dense_size, activation='relu')(x)  # dense_size == 1024\n",
        "    x = Dropout(dropout_p)(x)\n",
        "# Output Layer\n",
        "predictions = Dense(1, activation='sigmoid')(x)\n",
        "# Build model\n",
        "char_model = Model(inputs=inputs, outputs=predictions)\n",
        "char_model.compile(loss=BinaryFocalLoss(gamma=2), optimizer=opt, metrics=['accuracy'])  # Adam, categorical_crossentropy"
      ],
      "execution_count": 44,
      "outputs": [
        {
          "output_type": "stream",
          "text": [
            "Load\n"
          ],
          "name": "stdout"
        }
      ]
    },
    {
      "cell_type": "markdown",
      "metadata": {
        "id": "nJCuBpqkNx8L",
        "colab_type": "text"
      },
      "source": [
        "# Train model"
      ]
    },
    {
      "cell_type": "markdown",
      "metadata": {
        "id": "oUygUis5N2yN",
        "colab_type": "text"
      },
      "source": [
        "##GRU"
      ]
    },
    {
      "cell_type": "code",
      "metadata": {
        "id": "YyLDrkoXMGoi",
        "colab_type": "code",
        "outputId": "82b9424b-9d84-44b6-d3be-c62bc7c9cc91",
        "colab": {
          "base_uri": "https://localhost:8080/",
          "height": 386
        }
      },
      "source": [
        "gru_model=model_gru()\n",
        "gru_model.fit(x_train,y_train,batch_size=batch_size,epochs=10,verbose=2,class_weight=class_weights,validation_data=(x_val,y_val),callbacks= [clr,])"
      ],
      "execution_count": 45,
      "outputs": [
        {
          "output_type": "stream",
          "text": [
            "Train on 26991 samples, validate on 4764 samples\n",
            "Epoch 1/10\n",
            " - 34s - loss: 0.1063 - acc: 0.8401 - val_loss: 0.0977 - val_acc: 0.8589\n",
            "Epoch 2/10\n",
            " - 27s - loss: 0.0954 - acc: 0.8573 - val_loss: 0.0913 - val_acc: 0.8650\n",
            "Epoch 3/10\n",
            " - 27s - loss: 0.0922 - acc: 0.8635 - val_loss: 0.0904 - val_acc: 0.8669\n",
            "Epoch 4/10\n",
            " - 27s - loss: 0.0895 - acc: 0.8663 - val_loss: 0.0934 - val_acc: 0.8587\n",
            "Epoch 5/10\n",
            " - 27s - loss: 0.0862 - acc: 0.8716 - val_loss: 0.0938 - val_acc: 0.8667\n",
            "Epoch 6/10\n",
            " - 27s - loss: 0.0822 - acc: 0.8776 - val_loss: 0.0935 - val_acc: 0.8615\n",
            "Epoch 7/10\n",
            " - 27s - loss: 0.0767 - acc: 0.8841 - val_loss: 0.0950 - val_acc: 0.8566\n",
            "Epoch 8/10\n",
            " - 27s - loss: 0.0701 - acc: 0.8946 - val_loss: 0.1055 - val_acc: 0.8566\n",
            "Epoch 9/10\n",
            " - 28s - loss: 0.0631 - acc: 0.9038 - val_loss: 0.1140 - val_acc: 0.8579\n",
            "Epoch 10/10\n",
            " - 28s - loss: 0.0551 - acc: 0.9167 - val_loss: 0.1259 - val_acc: 0.8440\n"
          ],
          "name": "stdout"
        },
        {
          "output_type": "execute_result",
          "data": {
            "text/plain": [
              "<keras.callbacks.History at 0x7fb4789c3b70>"
            ]
          },
          "metadata": {
            "tags": []
          },
          "execution_count": 45
        }
      ]
    },
    {
      "cell_type": "markdown",
      "metadata": {
        "id": "BaW-Uq0Kldp4",
        "colab_type": "text"
      },
      "source": [
        "## GRU attention"
      ]
    },
    {
      "cell_type": "code",
      "metadata": {
        "id": "tjPFYBWZlf23",
        "colab_type": "code",
        "outputId": "e3279880-4fae-4bac-eec6-74db9338e459",
        "colab": {
          "base_uri": "https://localhost:8080/",
          "height": 386
        }
      },
      "source": [
        "attn_gru_model=model_gru_attn()\n",
        "attn_gru_model.fit(x_train,y_train,batch_size=batch_size,epochs=10,verbose=2,class_weight=class_weights,validation_data=(x_val,y_val),callbacks= [clr,])"
      ],
      "execution_count": 46,
      "outputs": [
        {
          "output_type": "stream",
          "text": [
            "Train on 26991 samples, validate on 4764 samples\n",
            "Epoch 1/10\n",
            " - 29s - loss: 0.1029 - acc: 0.8441 - val_loss: 0.0944 - val_acc: 0.8652\n",
            "Epoch 2/10\n",
            " - 28s - loss: 0.0935 - acc: 0.8614 - val_loss: 0.0913 - val_acc: 0.8665\n",
            "Epoch 3/10\n",
            " - 28s - loss: 0.0894 - acc: 0.8670 - val_loss: 0.0908 - val_acc: 0.8667\n",
            "Epoch 4/10\n",
            " - 28s - loss: 0.0858 - acc: 0.8712 - val_loss: 0.0911 - val_acc: 0.8652\n",
            "Epoch 5/10\n",
            " - 28s - loss: 0.0817 - acc: 0.8783 - val_loss: 0.0921 - val_acc: 0.8575\n",
            "Epoch 6/10\n",
            " - 28s - loss: 0.0769 - acc: 0.8843 - val_loss: 0.0959 - val_acc: 0.8497\n",
            "Epoch 7/10\n",
            " - 28s - loss: 0.0714 - acc: 0.8918 - val_loss: 0.0994 - val_acc: 0.8459\n",
            "Epoch 8/10\n",
            " - 28s - loss: 0.0646 - acc: 0.9020 - val_loss: 0.1069 - val_acc: 0.8526\n",
            "Epoch 9/10\n",
            " - 28s - loss: 0.0584 - acc: 0.9126 - val_loss: 0.1110 - val_acc: 0.8508\n",
            "Epoch 10/10\n",
            " - 28s - loss: 0.0502 - acc: 0.9246 - val_loss: 0.1193 - val_acc: 0.8277\n"
          ],
          "name": "stdout"
        },
        {
          "output_type": "execute_result",
          "data": {
            "text/plain": [
              "<keras.callbacks.History at 0x7fb472e48940>"
            ]
          },
          "metadata": {
            "tags": []
          },
          "execution_count": 46
        }
      ]
    },
    {
      "cell_type": "markdown",
      "metadata": {
        "id": "WlFNurr4T1rh",
        "colab_type": "text"
      },
      "source": [
        "##TCN"
      ]
    },
    {
      "cell_type": "code",
      "metadata": {
        "id": "xKtfxHFBT2wB",
        "colab_type": "code",
        "colab": {
          "base_uri": "https://localhost:8080/",
          "height": 386
        },
        "outputId": "369e17d3-ac20-49d3-d62e-597516620e11"
      },
      "source": [
        "tcn_model=model_tcn(embeddings)\n",
        "tcn_model.fit(x_train,y_train,batch_size=batch_size,epochs=10,verbose=2,class_weight=class_weights,validation_data=(x_val,y_val),callbacks= [clr,])"
      ],
      "execution_count": 47,
      "outputs": [
        {
          "output_type": "stream",
          "text": [
            "Train on 26991 samples, validate on 4764 samples\n",
            "Epoch 1/10\n",
            " - 21s - loss: 0.1308 - acc: 0.8013 - val_loss: 0.1273 - val_acc: 0.8069\n",
            "Epoch 2/10\n",
            " - 16s - loss: 0.1291 - acc: 0.8069 - val_loss: 0.1273 - val_acc: 0.8069\n",
            "Epoch 3/10\n",
            " - 16s - loss: 0.1289 - acc: 0.8069 - val_loss: 0.1272 - val_acc: 0.8069\n",
            "Epoch 4/10\n",
            " - 16s - loss: 0.1289 - acc: 0.8069 - val_loss: 0.1273 - val_acc: 0.8069\n",
            "Epoch 5/10\n",
            " - 16s - loss: 0.1289 - acc: 0.8069 - val_loss: 0.1273 - val_acc: 0.8069\n",
            "Epoch 6/10\n",
            " - 16s - loss: 0.1290 - acc: 0.8069 - val_loss: 0.1272 - val_acc: 0.8069\n",
            "Epoch 7/10\n",
            " - 16s - loss: 0.1289 - acc: 0.8069 - val_loss: 0.1272 - val_acc: 0.8069\n",
            "Epoch 8/10\n",
            " - 16s - loss: 0.1288 - acc: 0.8069 - val_loss: 0.1273 - val_acc: 0.8069\n",
            "Epoch 9/10\n",
            " - 16s - loss: 0.1288 - acc: 0.8069 - val_loss: 0.1273 - val_acc: 0.8069\n",
            "Epoch 10/10\n",
            " - 16s - loss: 0.1287 - acc: 0.8069 - val_loss: 0.1272 - val_acc: 0.8069\n"
          ],
          "name": "stdout"
        },
        {
          "output_type": "execute_result",
          "data": {
            "text/plain": [
              "<keras.callbacks.History at 0x7fb46e381828>"
            ]
          },
          "metadata": {
            "tags": []
          },
          "execution_count": 47
        }
      ]
    },
    {
      "cell_type": "markdown",
      "metadata": {
        "id": "TNJpZFJbp5mP",
        "colab_type": "text"
      },
      "source": [
        "##VDCNN"
      ]
    },
    {
      "cell_type": "code",
      "metadata": {
        "id": "Lqcj8gZhp7hA",
        "colab_type": "code",
        "colab": {
          "base_uri": "https://localhost:8080/",
          "height": 386
        },
        "outputId": "b26bf52f-48a6-4a69-8f2e-6824d5b09121"
      },
      "source": [
        "vdcnn_model.fit(x_train,y_train,batch_size=batch_size,epochs=10,verbose=2,class_weight=class_weights,validation_data=(x_val,y_val),callbacks= [clr,])"
      ],
      "execution_count": 48,
      "outputs": [
        {
          "output_type": "stream",
          "text": [
            "Train on 26991 samples, validate on 4764 samples\n",
            "Epoch 1/10\n",
            " - 56s - loss: 0.1783 - acc: 0.7997 - val_loss: 0.1246 - val_acc: 0.8069\n",
            "Epoch 2/10\n",
            " - 53s - loss: 0.1289 - acc: 0.8069 - val_loss: 0.1241 - val_acc: 0.8069\n",
            "Epoch 3/10\n",
            " - 53s - loss: 0.1255 - acc: 0.8069 - val_loss: 0.1211 - val_acc: 0.8069\n",
            "Epoch 4/10\n",
            " - 53s - loss: 0.1225 - acc: 0.8068 - val_loss: 0.1209 - val_acc: 0.8069\n",
            "Epoch 5/10\n",
            " - 53s - loss: 0.1174 - acc: 0.8069 - val_loss: 0.1150 - val_acc: 0.8069\n",
            "Epoch 6/10\n",
            " - 53s - loss: 0.1130 - acc: 0.8069 - val_loss: 0.1077 - val_acc: 0.8069\n",
            "Epoch 7/10\n",
            " - 53s - loss: 0.1116 - acc: 0.8069 - val_loss: 0.1066 - val_acc: 0.8069\n",
            "Epoch 8/10\n",
            " - 53s - loss: 0.1114 - acc: 0.8069 - val_loss: 0.1049 - val_acc: 0.8069\n",
            "Epoch 9/10\n",
            " - 53s - loss: 0.1091 - acc: 0.8069 - val_loss: 0.1052 - val_acc: 0.8069\n",
            "Epoch 10/10\n",
            " - 53s - loss: 0.1079 - acc: 0.8069 - val_loss: 0.1052 - val_acc: 0.8069\n"
          ],
          "name": "stdout"
        },
        {
          "output_type": "execute_result",
          "data": {
            "text/plain": [
              "<keras.callbacks.History at 0x7fb465f53048>"
            ]
          },
          "metadata": {
            "tags": []
          },
          "execution_count": 48
        }
      ]
    },
    {
      "cell_type": "markdown",
      "metadata": {
        "id": "Tr_J6FWTCYXB",
        "colab_type": "text"
      },
      "source": [
        "##KIM"
      ]
    },
    {
      "cell_type": "code",
      "metadata": {
        "id": "PgmUF8liCa4M",
        "colab_type": "code",
        "colab": {
          "base_uri": "https://localhost:8080/",
          "height": 386
        },
        "outputId": "1c53ce8c-6449-42c5-9773-cb57b1e19eae"
      },
      "source": [
        "kim_model=model_kim()\n",
        "kim_model.fit(x_train,y_train,batch_size=batch_size,epochs=10,verbose=2,class_weight=class_weights,validation_data=(x_val,y_val),callbacks= [clr,])"
      ],
      "execution_count": 49,
      "outputs": [
        {
          "output_type": "stream",
          "text": [
            "Train on 26991 samples, validate on 4764 samples\n",
            "Epoch 1/10\n",
            " - 16s - loss: 0.1263 - acc: 0.8092 - val_loss: 0.1070 - val_acc: 0.8298\n",
            "Epoch 2/10\n",
            " - 14s - loss: 0.1057 - acc: 0.8395 - val_loss: 0.0980 - val_acc: 0.8487\n",
            "Epoch 3/10\n",
            " - 14s - loss: 0.0989 - acc: 0.8510 - val_loss: 0.0985 - val_acc: 0.8560\n",
            "Epoch 4/10\n",
            " - 14s - loss: 0.0950 - acc: 0.8569 - val_loss: 0.0989 - val_acc: 0.8463\n",
            "Epoch 5/10\n",
            " - 14s - loss: 0.0898 - acc: 0.8637 - val_loss: 0.0949 - val_acc: 0.8608\n",
            "Epoch 6/10\n",
            " - 14s - loss: 0.0845 - acc: 0.8721 - val_loss: 0.0956 - val_acc: 0.8581\n",
            "Epoch 7/10\n",
            " - 14s - loss: 0.0797 - acc: 0.8763 - val_loss: 0.0967 - val_acc: 0.8577\n",
            "Epoch 8/10\n",
            " - 14s - loss: 0.0736 - acc: 0.8877 - val_loss: 0.0984 - val_acc: 0.8531\n",
            "Epoch 9/10\n",
            " - 14s - loss: 0.0673 - acc: 0.8985 - val_loss: 0.1032 - val_acc: 0.8377\n",
            "Epoch 10/10\n",
            " - 14s - loss: 0.0617 - acc: 0.9090 - val_loss: 0.1050 - val_acc: 0.8484\n"
          ],
          "name": "stdout"
        },
        {
          "output_type": "execute_result",
          "data": {
            "text/plain": [
              "<keras.callbacks.History at 0x7fb469c38710>"
            ]
          },
          "metadata": {
            "tags": []
          },
          "execution_count": 49
        }
      ]
    },
    {
      "cell_type": "markdown",
      "metadata": {
        "id": "TxFTRuRBPV2f",
        "colab_type": "text"
      },
      "source": [
        "## CharCNN"
      ]
    },
    {
      "cell_type": "code",
      "metadata": {
        "id": "xXGoedazPQh7",
        "colab_type": "code",
        "colab": {
          "base_uri": "https://localhost:8080/",
          "height": 386
        },
        "outputId": "797e932c-5974-47db-fe5c-e82da2446834"
      },
      "source": [
        "x_train_char,x_val_char,y_train_char,y_val_char=train_test_split(train_data,labels,test_size=test_size,stratify=labels,shuffle=True,random_state=2020)\n",
        "char_model.fit(x_train_char,y_train_char,batch_size=batch_size,epochs=10,verbose=2,class_weight=class_weights,validation_data=(x_val_char,y_val_char),callbacks= [clr,])"
      ],
      "execution_count": 50,
      "outputs": [
        {
          "output_type": "stream",
          "text": [
            "Train on 26991 samples, validate on 4764 samples\n",
            "Epoch 1/10\n",
            " - 11s - loss: 3.1806 - acc: 0.8066 - val_loss: 3.1126 - val_acc: 0.8069\n",
            "Epoch 2/10\n",
            " - 9s - loss: 3.1938 - acc: 0.8069 - val_loss: 3.1126 - val_acc: 0.8069\n",
            "Epoch 3/10\n",
            " - 9s - loss: 3.1926 - acc: 0.8069 - val_loss: 3.1126 - val_acc: 0.8069\n",
            "Epoch 4/10\n",
            " - 9s - loss: 3.1799 - acc: 0.8069 - val_loss: 3.1126 - val_acc: 0.8069\n",
            "Epoch 5/10\n",
            " - 9s - loss: 3.1776 - acc: 0.8069 - val_loss: 3.1126 - val_acc: 0.8069\n",
            "Epoch 6/10\n",
            " - 9s - loss: 3.1918 - acc: 0.8069 - val_loss: 3.1126 - val_acc: 0.8069\n",
            "Epoch 7/10\n",
            " - 9s - loss: 3.1857 - acc: 0.8069 - val_loss: 3.1126 - val_acc: 0.8069\n",
            "Epoch 8/10\n",
            " - 9s - loss: 3.1965 - acc: 0.8069 - val_loss: 3.1126 - val_acc: 0.8069\n",
            "Epoch 9/10\n",
            " - 9s - loss: 3.1897 - acc: 0.8069 - val_loss: 3.1126 - val_acc: 0.8069\n",
            "Epoch 10/10\n",
            " - 9s - loss: 3.1942 - acc: 0.8069 - val_loss: 3.1126 - val_acc: 0.8069\n"
          ],
          "name": "stdout"
        },
        {
          "output_type": "execute_result",
          "data": {
            "text/plain": [
              "<keras.callbacks.History at 0x7fb4693086a0>"
            ]
          },
          "metadata": {
            "tags": []
          },
          "execution_count": 50
        }
      ]
    },
    {
      "cell_type": "markdown",
      "metadata": {
        "id": "YRW2JWbBMfkb",
        "colab_type": "text"
      },
      "source": [
        "# Validate Models"
      ]
    },
    {
      "cell_type": "markdown",
      "metadata": {
        "id": "b7BVpvPJOH5x",
        "colab_type": "text"
      },
      "source": [
        "##GRU"
      ]
    },
    {
      "cell_type": "code",
      "metadata": {
        "id": "gd85B8kuMWU1",
        "colab_type": "code",
        "colab": {
          "base_uri": "https://localhost:8080/",
          "height": 185
        },
        "outputId": "912372aa-2f60-4ddb-bc51-340271a6ce96"
      },
      "source": [
        "y_pred = gru_model.predict(x_val, batch_size=batch_size, verbose=1)\n",
        "y_pred = (y_pred > 0.5)\n",
        "print(classification_report(y_val, y_pred))\n",
        "gru_f1=f1_score(y_val, y_pred,average='macro')"
      ],
      "execution_count": 51,
      "outputs": [
        {
          "output_type": "stream",
          "text": [
            "4764/4764 [==============================] - 2s 502us/step\n",
            "              precision    recall  f1-score   support\n",
            "\n",
            "           0       0.89      0.93      0.91      3844\n",
            "           1       0.62      0.50      0.55       920\n",
            "\n",
            "    accuracy                           0.84      4764\n",
            "   macro avg       0.75      0.71      0.73      4764\n",
            "weighted avg       0.83      0.84      0.84      4764\n",
            "\n"
          ],
          "name": "stdout"
        }
      ]
    },
    {
      "cell_type": "markdown",
      "metadata": {
        "id": "uQQUnhy-ljKa",
        "colab_type": "text"
      },
      "source": [
        "## GRU attention"
      ]
    },
    {
      "cell_type": "code",
      "metadata": {
        "id": "RJvhOCgEllGM",
        "colab_type": "code",
        "colab": {
          "base_uri": "https://localhost:8080/",
          "height": 185
        },
        "outputId": "f946f8e9-567d-43a6-a68c-b8a3d8d14e14"
      },
      "source": [
        "y_pred = attn_gru_model.predict(x_val, batch_size=batch_size, verbose=1)\n",
        "y_pred = (y_pred > 0.5)\n",
        "print(classification_report(y_val, y_pred))\n",
        "gru_atten_f1=f1_score(y_val, y_pred,average='macro')"
      ],
      "execution_count": 52,
      "outputs": [
        {
          "output_type": "stream",
          "text": [
            "4764/4764 [==============================] - 2s 504us/step\n",
            "              precision    recall  f1-score   support\n",
            "\n",
            "           0       0.90      0.89      0.89      3844\n",
            "           1       0.55      0.57      0.56       920\n",
            "\n",
            "    accuracy                           0.83      4764\n",
            "   macro avg       0.72      0.73      0.73      4764\n",
            "weighted avg       0.83      0.83      0.83      4764\n",
            "\n"
          ],
          "name": "stdout"
        }
      ]
    },
    {
      "cell_type": "markdown",
      "metadata": {
        "id": "1PmqHy-HWeuQ",
        "colab_type": "text"
      },
      "source": [
        "##TCN"
      ]
    },
    {
      "cell_type": "code",
      "metadata": {
        "id": "i8SxnEBRWf-R",
        "colab_type": "code",
        "colab": {
          "base_uri": "https://localhost:8080/",
          "height": 238
        },
        "outputId": "aca6d720-88b2-4885-e1c1-9ae75a83934e"
      },
      "source": [
        "y_pred = tcn_model.predict(x_val, batch_size=batch_size, verbose=1)\n",
        "y_pred = (y_pred > 0.5)\n",
        "print(classification_report(y_val, y_pred))\n",
        "tcn_f1=f1_score(y_val, y_pred,average='macro')"
      ],
      "execution_count": 53,
      "outputs": [
        {
          "output_type": "stream",
          "text": [
            "4764/4764 [==============================] - 2s 367us/step\n",
            "              precision    recall  f1-score   support\n",
            "\n",
            "           0       0.81      1.00      0.89      3844\n",
            "           1       0.00      0.00      0.00       920\n",
            "\n",
            "    accuracy                           0.81      4764\n",
            "   macro avg       0.40      0.50      0.45      4764\n",
            "weighted avg       0.65      0.81      0.72      4764\n",
            "\n"
          ],
          "name": "stdout"
        },
        {
          "output_type": "stream",
          "text": [
            "/usr/local/lib/python3.6/dist-packages/sklearn/metrics/_classification.py:1272: UndefinedMetricWarning: Precision and F-score are ill-defined and being set to 0.0 in labels with no predicted samples. Use `zero_division` parameter to control this behavior.\n",
            "  _warn_prf(average, modifier, msg_start, len(result))\n"
          ],
          "name": "stderr"
        }
      ]
    },
    {
      "cell_type": "markdown",
      "metadata": {
        "id": "qQlsCQyrqX0j",
        "colab_type": "text"
      },
      "source": [
        "## VDCNN"
      ]
    },
    {
      "cell_type": "code",
      "metadata": {
        "id": "0M7HGbRJqUzn",
        "colab_type": "code",
        "colab": {
          "base_uri": "https://localhost:8080/",
          "height": 238
        },
        "outputId": "f4917f79-8624-40dc-d430-06b20c074c92"
      },
      "source": [
        "y_pred = vdcnn_model.predict(x_val, batch_size=batch_size, verbose=1)\n",
        "y_pred = (y_pred > 0.5)\n",
        "print(classification_report(y_val, y_pred))\n",
        "vdcnn_f1=f1_score(y_val, y_pred,average='macro')"
      ],
      "execution_count": 54,
      "outputs": [
        {
          "output_type": "stream",
          "text": [
            "4764/4764 [==============================] - 8s 2ms/step\n",
            "              precision    recall  f1-score   support\n",
            "\n",
            "           0       0.81      1.00      0.89      3844\n",
            "           1       0.00      0.00      0.00       920\n",
            "\n",
            "    accuracy                           0.81      4764\n",
            "   macro avg       0.40      0.50      0.45      4764\n",
            "weighted avg       0.65      0.81      0.72      4764\n",
            "\n"
          ],
          "name": "stdout"
        },
        {
          "output_type": "stream",
          "text": [
            "/usr/local/lib/python3.6/dist-packages/sklearn/metrics/_classification.py:1272: UndefinedMetricWarning: Precision and F-score are ill-defined and being set to 0.0 in labels with no predicted samples. Use `zero_division` parameter to control this behavior.\n",
            "  _warn_prf(average, modifier, msg_start, len(result))\n"
          ],
          "name": "stderr"
        }
      ]
    },
    {
      "cell_type": "markdown",
      "metadata": {
        "id": "ix_QKjbbC7ub",
        "colab_type": "text"
      },
      "source": [
        "##KIM"
      ]
    },
    {
      "cell_type": "code",
      "metadata": {
        "id": "0McQOe5pC8oQ",
        "colab_type": "code",
        "colab": {
          "base_uri": "https://localhost:8080/",
          "height": 185
        },
        "outputId": "10663772-e6ff-4046-9799-ef3646bb7c2f"
      },
      "source": [
        "y_pred = kim_model.predict(x_val, batch_size=batch_size, verbose=1)\n",
        "y_pred = (y_pred > 0.5)\n",
        "print(classification_report(y_val, y_pred))\n",
        "kim_f1=f1_score(y_val, y_pred,average='macro')"
      ],
      "execution_count": 55,
      "outputs": [
        {
          "output_type": "stream",
          "text": [
            "4764/4764 [==============================] - 1s 309us/step\n",
            "              precision    recall  f1-score   support\n",
            "\n",
            "           0       0.88      0.94      0.91      3844\n",
            "           1       0.64      0.48      0.55       920\n",
            "\n",
            "    accuracy                           0.85      4764\n",
            "   macro avg       0.76      0.71      0.73      4764\n",
            "weighted avg       0.84      0.85      0.84      4764\n",
            "\n"
          ],
          "name": "stdout"
        }
      ]
    },
    {
      "cell_type": "markdown",
      "metadata": {
        "id": "9J3D3dhxPpRu",
        "colab_type": "text"
      },
      "source": [
        "## CharCNN"
      ]
    },
    {
      "cell_type": "code",
      "metadata": {
        "id": "1U3UDhBzR3Jx",
        "colab_type": "code",
        "colab": {
          "base_uri": "https://localhost:8080/",
          "height": 238
        },
        "outputId": "59d1b75a-c806-40b8-e09a-1ccc0f72175a"
      },
      "source": [
        "y_pred = char_model.predict(x_val_char, batch_size=batch_size, verbose=1)\n",
        "y_pred = (y_pred > 0.5)\n",
        "print(classification_report(y_val_char, y_pred))\n",
        "char_f1=f1_score(y_val, y_pred,average='macro')"
      ],
      "execution_count": 56,
      "outputs": [
        {
          "output_type": "stream",
          "text": [
            "4764/4764 [==============================] - 1s 233us/step\n",
            "              precision    recall  f1-score   support\n",
            "\n",
            "           0       0.81      1.00      0.89      3844\n",
            "           1       0.00      0.00      0.00       920\n",
            "\n",
            "    accuracy                           0.81      4764\n",
            "   macro avg       0.40      0.50      0.45      4764\n",
            "weighted avg       0.65      0.81      0.72      4764\n",
            "\n"
          ],
          "name": "stdout"
        },
        {
          "output_type": "stream",
          "text": [
            "/usr/local/lib/python3.6/dist-packages/sklearn/metrics/_classification.py:1272: UndefinedMetricWarning: Precision and F-score are ill-defined and being set to 0.0 in labels with no predicted samples. Use `zero_division` parameter to control this behavior.\n",
            "  _warn_prf(average, modifier, msg_start, len(result))\n"
          ],
          "name": "stderr"
        }
      ]
    },
    {
      "cell_type": "code",
      "metadata": {
        "id": "CFxd_0Jbg95C",
        "colab_type": "code",
        "colab": {}
      },
      "source": [
        ""
      ],
      "execution_count": 0,
      "outputs": []
    },
    {
      "cell_type": "code",
      "metadata": {
        "id": "0XP-W9arzp3H",
        "colab_type": "code",
        "colab": {}
      },
      "source": [
        ""
      ],
      "execution_count": 0,
      "outputs": []
    },
    {
      "cell_type": "markdown",
      "metadata": {
        "id": "vXd8VkdPhAq2",
        "colab_type": "text"
      },
      "source": [
        "# Result"
      ]
    },
    {
      "cell_type": "code",
      "metadata": {
        "id": "jBp341Qog_uv",
        "colab_type": "code",
        "colab": {
          "base_uri": "https://localhost:8080/",
          "height": 168
        },
        "outputId": "a39b0ca8-0e2b-4245-ff5b-1ea4bd635ccf"
      },
      "source": [
        "print('f1 score of count vec' ,cv_f1)\n",
        "print('f1 score of word tfidf' ,tfw_f1)\n",
        "print('f1 score of char tfidf' ,tfc_f1)\n",
        "\n",
        "print('f1 score of RNN' ,gru_f1)\n",
        "print('f1 score of gated attention', gru_atten_f1)\n",
        "print('f1 score of tcn',tcn_f1)\n",
        "print('f1 score of vdcnn', vdcnn_f1)\n",
        "print('f1 score of kim',kim_f1)\n",
        "print('f1 score of char cnn',char_f1)"
      ],
      "execution_count": 57,
      "outputs": [
        {
          "output_type": "stream",
          "text": [
            "f1 score of count vec 0.7203947971571993\n",
            "f1 score of word tfidf 0.6368819075518741\n",
            "f1 score of char tfidf 0.6911874282673978\n",
            "f1 score of RNN 0.7298859525894084\n",
            "f1 score of gated attention 0.725878516461016\n",
            "f1 score of tcn 0.44656133828996286\n",
            "f1 score of vdcnn 0.44656133828996286\n",
            "f1 score of kim 0.7307167290003223\n",
            "f1 score of char cnn 0.44656133828996286\n"
          ],
          "name": "stdout"
        }
      ]
    },
    {
      "cell_type": "markdown",
      "metadata": {
        "id": "DW1OugTMEpZg",
        "colab_type": "text"
      },
      "source": [
        "# Ensemble"
      ]
    },
    {
      "cell_type": "markdown",
      "metadata": {
        "id": "f6VT0aVcUIhm",
        "colab_type": "text"
      },
      "source": [
        "we will choose only those, having f1 greater than 0.7. Once they are selected, we will decode labels, and keep label according to mod"
      ]
    },
    {
      "cell_type": "code",
      "metadata": {
        "id": "d0lFlc4nY70O",
        "colab_type": "code",
        "colab": {
          "base_uri": "https://localhost:8080/",
          "height": 67
        },
        "outputId": "60f7fe58-cf68-4224-92dc-a1f2c9a0a77f"
      },
      "source": [
        "y_test_cv = cv_classifier.predict_proba(X_test_cv)[:,1]\n",
        "# y_test_tfw = tfw_classifier.predict_proba(test_word_features)[:,1]\n",
        "# y_test_tfc = tfc_classifier.predict_proba(test_char_features)[:,1]\n",
        "\n",
        "y_test_gru = gru_model.predict(X_test_sequences, batch_size=batch_size, verbose=1).ravel()\n",
        "y_test_gru_atten = attn_gru_model.predict(X_test_sequences, batch_size=batch_size, verbose=1).ravel()\n",
        "# y_test_tcn = tcn_model.predict(X_test_sequences, batch_size=batch_size, verbose=1).ravel()\n",
        "# y_test_vdcnn = vdcnn_model.predict(X_test_sequences, batch_size=batch_size, verbose=1).ravel()\n",
        "y_test_kim = kim_model.predict(X_test_sequences, batch_size=batch_size, verbose=1).ravel()\n",
        "# y_test_char = char_model.predict(X_test_sequences, batch_size=batch_size, verbose=1).ravel()\n",
        "# # # "
      ],
      "execution_count": 64,
      "outputs": [
        {
          "output_type": "stream",
          "text": [
            "3528/3528 [==============================] - 1s 384us/step\n",
            "3528/3528 [==============================] - 1s 358us/step\n",
            "3528/3528 [==============================] - 1s 163us/step\n"
          ],
          "name": "stdout"
        }
      ]
    },
    {
      "cell_type": "code",
      "metadata": {
        "id": "AkCLYtxOcXCA",
        "colab_type": "code",
        "colab": {
          "base_uri": "https://localhost:8080/",
          "height": 34
        },
        "outputId": "e4f58cc4-2975-42a4-f39b-27955c0ef03a"
      },
      "source": [
        "f=np.array([0.72,0.73,0.72,0.73])\n",
        "f/np.sum(f)"
      ],
      "execution_count": 65,
      "outputs": [
        {
          "output_type": "execute_result",
          "data": {
            "text/plain": [
              "array([0.24827586, 0.25172414, 0.24827586, 0.25172414])"
            ]
          },
          "metadata": {
            "tags": []
          },
          "execution_count": 65
        }
      ]
    },
    {
      "cell_type": "code",
      "metadata": {
        "id": "kW8D8kqLo651",
        "colab_type": "code",
        "colab": {}
      },
      "source": [
        "#i am bit changing the distribution in order to give more weightage to ml than dl\n",
        "y_test=0.31*y_test_cv+0.23*y_test_gru+0.23*y_test_gru_atten+0.23*y_test_kim"
      ],
      "execution_count": 0,
      "outputs": []
    },
    {
      "cell_type": "code",
      "metadata": {
        "id": "V9Pu0LvuZIf8",
        "colab_type": "code",
        "colab": {}
      },
      "source": [
        "def decode(y_test):\n",
        "  y_test[y_test>0.5]=1\n",
        "  y_test[y_test<0.5]=0\n",
        "  y_test=y_test.astype('int16').ravel()\n",
        "\n",
        "  y_test=le.inverse_transform(y_test)\n",
        "  y_test=pd.DataFrame(y_test,columns=['label'])\n",
        "  y_test=pd.concat([ids, y_test['label']], axis=1)\n",
        "  return y_test"
      ],
      "execution_count": 0,
      "outputs": []
    },
    {
      "cell_type": "code",
      "metadata": {
        "id": "7PgV77IYZRGP",
        "colab_type": "code",
        "colab": {
          "base_uri": "https://localhost:8080/",
          "height": 195
        },
        "outputId": "e2a135f9-bf02-4d83-ff5e-ab07da669872"
      },
      "source": [
        "y_test=decode(y_test)\n",
        "y_test.head()\n",
        "\n"
      ],
      "execution_count": 68,
      "outputs": [
        {
          "output_type": "execute_result",
          "data": {
            "text/html": [
              "<div>\n",
              "<style scoped>\n",
              "    .dataframe tbody tr th:only-of-type {\n",
              "        vertical-align: middle;\n",
              "    }\n",
              "\n",
              "    .dataframe tbody tr th {\n",
              "        vertical-align: top;\n",
              "    }\n",
              "\n",
              "    .dataframe thead th {\n",
              "        text-align: right;\n",
              "    }\n",
              "</style>\n",
              "<table border=\"1\" class=\"dataframe\">\n",
              "  <thead>\n",
              "    <tr style=\"text-align: right;\">\n",
              "      <th></th>\n",
              "      <th>id</th>\n",
              "      <th>label</th>\n",
              "    </tr>\n",
              "  </thead>\n",
              "  <tbody>\n",
              "    <tr>\n",
              "      <th>0</th>\n",
              "      <td>41993</td>\n",
              "      <td>NOT</td>\n",
              "    </tr>\n",
              "    <tr>\n",
              "      <th>1</th>\n",
              "      <td>23000</td>\n",
              "      <td>NOT</td>\n",
              "    </tr>\n",
              "    <tr>\n",
              "      <th>2</th>\n",
              "      <td>42478</td>\n",
              "      <td>NOT</td>\n",
              "    </tr>\n",
              "    <tr>\n",
              "      <th>3</th>\n",
              "      <td>21748</td>\n",
              "      <td>NOT</td>\n",
              "    </tr>\n",
              "    <tr>\n",
              "      <th>4</th>\n",
              "      <td>13607</td>\n",
              "      <td>NOT</td>\n",
              "    </tr>\n",
              "  </tbody>\n",
              "</table>\n",
              "</div>"
            ],
            "text/plain": [
              "      id label\n",
              "0  41993   NOT\n",
              "1  23000   NOT\n",
              "2  42478   NOT\n",
              "3  21748   NOT\n",
              "4  13607   NOT"
            ]
          },
          "metadata": {
            "tags": []
          },
          "execution_count": 68
        }
      ]
    },
    {
      "cell_type": "code",
      "metadata": {
        "id": "8avMmBQvb_IR",
        "colab_type": "code",
        "colab": {}
      },
      "source": [
        ""
      ],
      "execution_count": 0,
      "outputs": []
    },
    {
      "cell_type": "markdown",
      "metadata": {
        "id": "Dl57zICXM4c6",
        "colab_type": "text"
      },
      "source": [
        "# Submit file"
      ]
    },
    {
      "cell_type": "code",
      "metadata": {
        "id": "3LkCxvtfEnpl",
        "colab_type": "code",
        "colab": {}
      },
      "source": [
        ""
      ],
      "execution_count": 0,
      "outputs": []
    },
    {
      "cell_type": "code",
      "metadata": {
        "id": "GHTCw4_jP_tr",
        "colab_type": "code",
        "colab": {}
      },
      "source": [
        "y_test.to_csv('/content/weighted.csv',index=False,header=None)\n"
      ],
      "execution_count": 0,
      "outputs": []
    },
    {
      "cell_type": "code",
      "metadata": {
        "id": "2tPo96DUz_EZ",
        "colab_type": "code",
        "colab": {}
      },
      "source": [
        ""
      ],
      "execution_count": 0,
      "outputs": []
    },
    {
      "cell_type": "markdown",
      "metadata": {
        "id": "FwKb7_NBWjAv",
        "colab_type": "text"
      },
      "source": [
        "# Reset"
      ]
    },
    {
      "cell_type": "code",
      "metadata": {
        "id": "R0Xi3s2KWlKi",
        "colab_type": "code",
        "colab": {}
      },
      "source": [
        "# import keras\n",
        "# keras.backend.clear_session()"
      ],
      "execution_count": 0,
      "outputs": []
    },
    {
      "cell_type": "code",
      "metadata": {
        "id": "T39YK5rbQBoT",
        "colab_type": "code",
        "colab": {}
      },
      "source": [
        ""
      ],
      "execution_count": 0,
      "outputs": []
    }
  ]
}