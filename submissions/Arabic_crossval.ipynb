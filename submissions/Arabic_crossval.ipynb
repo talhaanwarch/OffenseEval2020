{
  "nbformat": 4,
  "nbformat_minor": 0,
  "metadata": {
    "colab": {
      "name": "Arabic.ipynb",
      "provenance": [],
      "collapsed_sections": [
        "FwKb7_NBWjAv"
      ],
      "include_colab_link": true
    },
    "kernelspec": {
      "name": "python3",
      "display_name": "Python 3"
    },
    "accelerator": "GPU"
  },
  "cells": [
    {
      "cell_type": "markdown",
      "metadata": {
        "id": "view-in-github",
        "colab_type": "text"
      },
      "source": [
        "<a href=\"https://colab.research.google.com/github/talhaanwarch/OffenseEval2020/blob/master/submissions/Arabic_crossval.ipynb\" target=\"_parent\"><img src=\"https://colab.research.google.com/assets/colab-badge.svg\" alt=\"Open In Colab\"/></a>"
      ]
    },
    {
      "cell_type": "code",
      "metadata": {
        "id": "_uqG7k8lK3xz",
        "colab_type": "code",
        "outputId": "2e000463-b113-4828-a489-43614e7105cc",
        "colab": {
          "base_uri": "https://localhost:8080/",
          "height": 286
        }
      },
      "source": [
        "!pip install focal-loss\n",
        "!pip install keras-tcn==2.8.3"
      ],
      "execution_count": 1,
      "outputs": [
        {
          "output_type": "stream",
          "text": [
            "Collecting focal-loss\n",
            "  Downloading https://files.pythonhosted.org/packages/66/ed/17450291228192ad8595de4514c8ec28a587697b03c707d12d4af5b7f331/focal_loss-0.0.2-py3-none-any.whl\n",
            "Installing collected packages: focal-loss\n",
            "Successfully installed focal-loss-0.0.2\n",
            "Collecting keras-tcn==2.8.3\n",
            "  Downloading https://files.pythonhosted.org/packages/d4/c4/438c86b27ab11a79cc659d8d6878682c4eb80caa0c0b3d620740cef762f5/keras_tcn-2.8.3-py3-none-any.whl\n",
            "Requirement already satisfied: numpy in /usr/local/lib/python3.6/dist-packages (from keras-tcn==2.8.3) (1.17.5)\n",
            "Requirement already satisfied: keras in /usr/local/lib/python3.6/dist-packages (from keras-tcn==2.8.3) (2.2.5)\n",
            "Requirement already satisfied: six>=1.9.0 in /usr/local/lib/python3.6/dist-packages (from keras->keras-tcn==2.8.3) (1.12.0)\n",
            "Requirement already satisfied: keras-applications>=1.0.8 in /usr/local/lib/python3.6/dist-packages (from keras->keras-tcn==2.8.3) (1.0.8)\n",
            "Requirement already satisfied: h5py in /usr/local/lib/python3.6/dist-packages (from keras->keras-tcn==2.8.3) (2.8.0)\n",
            "Requirement already satisfied: keras-preprocessing>=1.1.0 in /usr/local/lib/python3.6/dist-packages (from keras->keras-tcn==2.8.3) (1.1.0)\n",
            "Requirement already satisfied: pyyaml in /usr/local/lib/python3.6/dist-packages (from keras->keras-tcn==2.8.3) (3.13)\n",
            "Requirement already satisfied: scipy>=0.14 in /usr/local/lib/python3.6/dist-packages (from keras->keras-tcn==2.8.3) (1.4.1)\n",
            "Installing collected packages: keras-tcn\n",
            "Successfully installed keras-tcn-2.8.3\n"
          ],
          "name": "stdout"
        }
      ]
    },
    {
      "cell_type": "code",
      "metadata": {
        "id": "pPexfZvANVks",
        "colab_type": "code",
        "outputId": "e9c7d590-3d23-4da1-cfaf-6f781ace325b",
        "colab": {
          "base_uri": "https://localhost:8080/",
          "height": 121
        }
      },
      "source": [
        "from google.colab import drive\n",
        "drive.mount('/content/drive',force_remount=True)"
      ],
      "execution_count": 2,
      "outputs": [
        {
          "output_type": "stream",
          "text": [
            "Go to this URL in a browser: https://accounts.google.com/o/oauth2/auth?client_id=947318989803-6bn6qk8qdgf4n4g3pfee6491hc0brc4i.apps.googleusercontent.com&redirect_uri=urn%3aietf%3awg%3aoauth%3a2.0%3aoob&response_type=code&scope=email%20https%3a%2f%2fwww.googleapis.com%2fauth%2fdocs.test%20https%3a%2f%2fwww.googleapis.com%2fauth%2fdrive%20https%3a%2f%2fwww.googleapis.com%2fauth%2fdrive.photos.readonly%20https%3a%2f%2fwww.googleapis.com%2fauth%2fpeopleapi.readonly\n",
            "\n",
            "Enter your authorization code:\n",
            "··········\n",
            "Mounted at /content/drive\n"
          ],
          "name": "stdout"
        }
      ]
    },
    {
      "cell_type": "markdown",
      "metadata": {
        "id": "G6Q3msMuLDpE",
        "colab_type": "text"
      },
      "source": [
        "# Import lib"
      ]
    },
    {
      "cell_type": "code",
      "metadata": {
        "id": "MpTHlh_QLDL7",
        "colab_type": "code",
        "outputId": "a5984267-7942-42d3-af70-2cf8b419b4c5",
        "colab": {
          "base_uri": "https://localhost:8080/",
          "height": 79
        }
      },
      "source": [
        "import pandas as pd\n",
        "from sklearn.preprocessing import LabelEncoder\n",
        "from keras.models import Sequential,Model\n",
        "from keras.layers import Embedding,CuDNNGRU,CuDNNLSTM,Dense,Dropout,Bidirectional,BatchNormalization,GlobalMaxPooling1D,Flatten, GlobalAveragePooling1D, MaxPooling1D,SpatialDropout1D,Input,Activation,concatenate,Conv1D\n",
        "from keras.optimizers import RMSprop,Adam,Adadelta\n",
        "from keras.initializers import Constant\n",
        "from sklearn.utils import class_weight\n",
        "from sklearn.metrics import classification_report,f1_score\n",
        "import keras\n",
        "import csv\n",
        "import collections\n",
        "import numpy as np\n",
        "from focal_loss import BinaryFocalLoss\n",
        "from sklearn.model_selection import StratifiedKFold\n",
        "from sklearn.model_selection import GridSearchCV\n",
        "from sklearn.linear_model import LogisticRegression\n",
        "from sklearn.feature_extraction.text import CountVectorizer\n",
        "from sklearn.pipeline import make_pipeline\n",
        "from keras import backend as K\n",
        "import tensorflow as tf\n",
        "tf.logging.set_verbosity(tf.logging.ERROR)\n"
      ],
      "execution_count": 3,
      "outputs": [
        {
          "output_type": "stream",
          "text": [
            "Using TensorFlow backend.\n"
          ],
          "name": "stderr"
        },
        {
          "output_type": "display_data",
          "data": {
            "text/html": [
              "<p style=\"color: red;\">\n",
              "The default version of TensorFlow in Colab will soon switch to TensorFlow 2.x.<br>\n",
              "We recommend you <a href=\"https://www.tensorflow.org/guide/migrate\" target=\"_blank\">upgrade</a> now \n",
              "or ensure your notebook will continue to use TensorFlow 1.x via the <code>%tensorflow_version 1.x</code> magic:\n",
              "<a href=\"https://colab.research.google.com/notebooks/tensorflow_version.ipynb\" target=\"_blank\">more info</a>.</p>\n"
            ],
            "text/plain": [
              "<IPython.core.display.HTML object>"
            ]
          },
          "metadata": {
            "tags": []
          }
        }
      ]
    },
    {
      "cell_type": "markdown",
      "metadata": {
        "id": "Udk8qWz-K4cx",
        "colab_type": "text"
      },
      "source": [
        "# Load data"
      ]
    },
    {
      "cell_type": "code",
      "metadata": {
        "id": "52k7345EK6kb",
        "colab_type": "code",
        "outputId": "e3443303-db2f-4ae6-e5ff-79292bde9525",
        "colab": {
          "base_uri": "https://localhost:8080/",
          "height": 34
        }
      },
      "source": [
        "cd /content/drive/My Drive/dataset/OffenseEval2020/data/Arabic/"
      ],
      "execution_count": 4,
      "outputs": [
        {
          "output_type": "stream",
          "text": [
            "/content/drive/My Drive/dataset/OffenseEval2020/data/Arabic\n"
          ],
          "name": "stdout"
        }
      ]
    },
    {
      "cell_type": "code",
      "metadata": {
        "id": "MnI2RvjGK_Vw",
        "colab_type": "code",
        "outputId": "9c75b11b-832e-4355-b63b-24651d262036",
        "colab": {
          "base_uri": "https://localhost:8080/",
          "height": 67
        }
      },
      "source": [
        "ls"
      ],
      "execution_count": 5,
      "outputs": [
        {
          "output_type": "stream",
          "text": [
            "cc.ar.300.vec             offenseval-ar-test-tweets-v1.tsv\n",
            "cc.ar.300.vec.gz          offenseval-ar-training-v1.tsv\n",
            "offenseval-ar-dev-v1.tsv  readme-data-ar.txt\n"
          ],
          "name": "stdout"
        }
      ]
    },
    {
      "cell_type": "code",
      "metadata": {
        "id": "Jnd4B-_5LApL",
        "colab_type": "code",
        "outputId": "ac0598fa-d94d-4935-a04a-e4f9b1b44919",
        "colab": {
          "base_uri": "https://localhost:8080/",
          "height": 212
        }
      },
      "source": [
        "train=pd.read_csv( 'offenseval-ar-training-v1.tsv',sep='\\t',quoting=csv.QUOTE_NONE,encoding='utf-8')\n",
        "train.drop(train.tail(n=1).index,inplace=True)\n",
        "train[\"tweet\"]= train[\"tweet\"].str.replace('@USER', \"\") \n",
        "train['tweet']=train['tweet'].str.replace('\\d+', '')\n",
        "train['tweet']=train['tweet'].str.replace('URL', '')\n",
        "train['tweet']=train['tweet'].str.replace('RT :', '')\n",
        "train['tweet']=train['tweet'].str.replace('<LF>', '')\n",
        "train=train.sample(frac=1)\n",
        "print(len(train))\n",
        "train.head()"
      ],
      "execution_count": 7,
      "outputs": [
        {
          "output_type": "stream",
          "text": [
            "6999\n"
          ],
          "name": "stdout"
        },
        {
          "output_type": "execute_result",
          "data": {
            "text/html": [
              "<div>\n",
              "<style scoped>\n",
              "    .dataframe tbody tr th:only-of-type {\n",
              "        vertical-align: middle;\n",
              "    }\n",
              "\n",
              "    .dataframe tbody tr th {\n",
              "        vertical-align: top;\n",
              "    }\n",
              "\n",
              "    .dataframe thead th {\n",
              "        text-align: right;\n",
              "    }\n",
              "</style>\n",
              "<table border=\"1\" class=\"dataframe\">\n",
              "  <thead>\n",
              "    <tr style=\"text-align: right;\">\n",
              "      <th></th>\n",
              "      <th>id</th>\n",
              "      <th>tweet</th>\n",
              "      <th>subtask_a</th>\n",
              "    </tr>\n",
              "  </thead>\n",
              "  <tbody>\n",
              "    <tr>\n",
              "      <th>6590</th>\n",
              "      <td>6591</td>\n",
              "      <td>يا غداره يا غداره تركتي قلبي في ناره 😔</td>\n",
              "      <td>NOT</td>\n",
              "    </tr>\n",
              "    <tr>\n",
              "      <th>4082</th>\n",
              "      <td>4083</td>\n",
              "      <td>الاخوة والاخوات نسألكم الدعاء 🙏اللهم يا حنان ...</td>\n",
              "      <td>NOT</td>\n",
              "    </tr>\n",
              "    <tr>\n",
              "      <th>5716</th>\n",
              "      <td>5717</td>\n",
              "      <td>اﻻخوان ضحكوا علينا فى مصر يا سمير يا طويل الع...</td>\n",
              "      <td>OFF</td>\n",
              "    </tr>\n",
              "    <tr>\n",
              "      <th>4972</th>\n",
              "      <td>4973</td>\n",
              "      <td>يا بسمتك يا رمشك يا كل اللي أحب.</td>\n",
              "      <td>NOT</td>\n",
              "    </tr>\n",
              "    <tr>\n",
              "      <th>2081</th>\n",
              "      <td>2082</td>\n",
              "      <td>اللللققققم يا زوران القققم يا محمد بن فيصل ال...</td>\n",
              "      <td>NOT</td>\n",
              "    </tr>\n",
              "  </tbody>\n",
              "</table>\n",
              "</div>"
            ],
            "text/plain": [
              "        id                                              tweet subtask_a\n",
              "6590  6591             يا غداره يا غداره تركتي قلبي في ناره 😔       NOT\n",
              "4082  4083   الاخوة والاخوات نسألكم الدعاء 🙏اللهم يا حنان ...       NOT\n",
              "5716  5717   اﻻخوان ضحكوا علينا فى مصر يا سمير يا طويل الع...       OFF\n",
              "4972  4973                   يا بسمتك يا رمشك يا كل اللي أحب.       NOT\n",
              "2081  2082   اللللققققم يا زوران القققم يا محمد بن فيصل ال...       NOT"
            ]
          },
          "metadata": {
            "tags": []
          },
          "execution_count": 7
        }
      ]
    },
    {
      "cell_type": "code",
      "metadata": {
        "id": "h0KUWm8h5weS",
        "colab_type": "code",
        "colab": {
          "base_uri": "https://localhost:8080/",
          "height": 195
        },
        "outputId": "e734ed3b-6d73-4ea0-f369-e63e20bee02e"
      },
      "source": [
        "val=pd.read_csv( 'offenseval-ar-dev-v1.tsv',sep='\\t',quoting=csv.QUOTE_NONE,encoding='utf-8')\n",
        "val[\"tweet\"]= val[\"tweet\"].str.replace('@USER', \"\") \n",
        "val['tweet']=val['tweet'].str.replace('\\d+', '')\n",
        "val['tweet']=val['tweet'].str.replace('URL', '')\n",
        "val['tweet']=val['tweet'].str.replace('RT :', '')\n",
        "val['tweet']=val['tweet'].str.replace('<LF>', '')\n",
        "val.head()"
      ],
      "execution_count": 11,
      "outputs": [
        {
          "output_type": "execute_result",
          "data": {
            "text/html": [
              "<div>\n",
              "<style scoped>\n",
              "    .dataframe tbody tr th:only-of-type {\n",
              "        vertical-align: middle;\n",
              "    }\n",
              "\n",
              "    .dataframe tbody tr th {\n",
              "        vertical-align: top;\n",
              "    }\n",
              "\n",
              "    .dataframe thead th {\n",
              "        text-align: right;\n",
              "    }\n",
              "</style>\n",
              "<table border=\"1\" class=\"dataframe\">\n",
              "  <thead>\n",
              "    <tr style=\"text-align: right;\">\n",
              "      <th></th>\n",
              "      <th>id</th>\n",
              "      <th>tweet</th>\n",
              "      <th>subtask_a</th>\n",
              "    </tr>\n",
              "  </thead>\n",
              "  <tbody>\n",
              "    <tr>\n",
              "      <th>0</th>\n",
              "      <td>7001</td>\n",
              "      <td>فى حاجات مينفعش نلفت نظركوا ليها زى الاصول كده...</td>\n",
              "      <td>NOT</td>\n",
              "    </tr>\n",
              "    <tr>\n",
              "      <th>1</th>\n",
              "      <td>7002</td>\n",
              "      <td>وعيون تنادينا تحايل فينا و نقول يا عيونه يا ا...</td>\n",
              "      <td>NOT</td>\n",
              "    </tr>\n",
              "    <tr>\n",
              "      <th>2</th>\n",
              "      <td>7003</td>\n",
              "      <td>يا بلادي يا أم البلاد يا بلادي بحبك يا مصر بحب...</td>\n",
              "      <td>NOT</td>\n",
              "    </tr>\n",
              "    <tr>\n",
              "      <th>3</th>\n",
              "      <td>7004</td>\n",
              "      <td>يا رب يا قوي يا معين مدّني بالقوة و العون و ا...</td>\n",
              "      <td>NOT</td>\n",
              "    </tr>\n",
              "    <tr>\n",
              "      <th>4</th>\n",
              "      <td>7005</td>\n",
              "      <td>رحمك الله يا صدام يا بطل ومقدام.</td>\n",
              "      <td>NOT</td>\n",
              "    </tr>\n",
              "  </tbody>\n",
              "</table>\n",
              "</div>"
            ],
            "text/plain": [
              "     id                                              tweet subtask_a\n",
              "0  7001  فى حاجات مينفعش نلفت نظركوا ليها زى الاصول كده...       NOT\n",
              "1  7002   وعيون تنادينا تحايل فينا و نقول يا عيونه يا ا...       NOT\n",
              "2  7003  يا بلادي يا أم البلاد يا بلادي بحبك يا مصر بحب...       NOT\n",
              "3  7004   يا رب يا قوي يا معين مدّني بالقوة و العون و ا...       NOT\n",
              "4  7005                  رحمك الله يا صدام يا بطل ومقدام.        NOT"
            ]
          },
          "metadata": {
            "tags": []
          },
          "execution_count": 11
        }
      ]
    },
    {
      "cell_type": "code",
      "metadata": {
        "id": "AiLe-LQp6AUR",
        "colab_type": "code",
        "colab": {
          "base_uri": "https://localhost:8080/",
          "height": 195
        },
        "outputId": "b9c65113-d694-4948-d7e5-a0815f83f8bb"
      },
      "source": [
        "train=pd.concat([train,val])\n",
        "train.head()"
      ],
      "execution_count": 12,
      "outputs": [
        {
          "output_type": "execute_result",
          "data": {
            "text/html": [
              "<div>\n",
              "<style scoped>\n",
              "    .dataframe tbody tr th:only-of-type {\n",
              "        vertical-align: middle;\n",
              "    }\n",
              "\n",
              "    .dataframe tbody tr th {\n",
              "        vertical-align: top;\n",
              "    }\n",
              "\n",
              "    .dataframe thead th {\n",
              "        text-align: right;\n",
              "    }\n",
              "</style>\n",
              "<table border=\"1\" class=\"dataframe\">\n",
              "  <thead>\n",
              "    <tr style=\"text-align: right;\">\n",
              "      <th></th>\n",
              "      <th>id</th>\n",
              "      <th>tweet</th>\n",
              "      <th>subtask_a</th>\n",
              "    </tr>\n",
              "  </thead>\n",
              "  <tbody>\n",
              "    <tr>\n",
              "      <th>6590</th>\n",
              "      <td>6591</td>\n",
              "      <td>يا غداره يا غداره تركتي قلبي في ناره 😔</td>\n",
              "      <td>NOT</td>\n",
              "    </tr>\n",
              "    <tr>\n",
              "      <th>4082</th>\n",
              "      <td>4083</td>\n",
              "      <td>الاخوة والاخوات نسألكم الدعاء 🙏اللهم يا حنان ...</td>\n",
              "      <td>NOT</td>\n",
              "    </tr>\n",
              "    <tr>\n",
              "      <th>5716</th>\n",
              "      <td>5717</td>\n",
              "      <td>اﻻخوان ضحكوا علينا فى مصر يا سمير يا طويل الع...</td>\n",
              "      <td>OFF</td>\n",
              "    </tr>\n",
              "    <tr>\n",
              "      <th>4972</th>\n",
              "      <td>4973</td>\n",
              "      <td>يا بسمتك يا رمشك يا كل اللي أحب.</td>\n",
              "      <td>NOT</td>\n",
              "    </tr>\n",
              "    <tr>\n",
              "      <th>2081</th>\n",
              "      <td>2082</td>\n",
              "      <td>اللللققققم يا زوران القققم يا محمد بن فيصل ال...</td>\n",
              "      <td>NOT</td>\n",
              "    </tr>\n",
              "  </tbody>\n",
              "</table>\n",
              "</div>"
            ],
            "text/plain": [
              "        id                                              tweet subtask_a\n",
              "6590  6591             يا غداره يا غداره تركتي قلبي في ناره 😔       NOT\n",
              "4082  4083   الاخوة والاخوات نسألكم الدعاء 🙏اللهم يا حنان ...       NOT\n",
              "5716  5717   اﻻخوان ضحكوا علينا فى مصر يا سمير يا طويل الع...       OFF\n",
              "4972  4973                   يا بسمتك يا رمشك يا كل اللي أحب.       NOT\n",
              "2081  2082   اللللققققم يا زوران القققم يا محمد بن فيصل ال...       NOT"
            ]
          },
          "metadata": {
            "tags": []
          },
          "execution_count": 12
        }
      ]
    },
    {
      "cell_type": "code",
      "metadata": {
        "id": "JdwHh_q_LLus",
        "colab_type": "code",
        "outputId": "c2395ada-59e6-4802-c7d2-a13592063abb",
        "colab": {
          "base_uri": "https://localhost:8080/",
          "height": 118
        }
      },
      "source": [
        "test=pd.read_csv( 'offenseval-ar-dev-v1.tsv',sep='\\t',quoting=csv.QUOTE_NONE,encoding='utf-8')\n",
        "test[\"tweet\"]= test[\"tweet\"].str.replace('@USER', \"\") \n",
        "test['tweet']=test['tweet'].str.replace('\\d+', '')\n",
        "test['tweet']=test['tweet'].str.replace('URL', '')\n",
        "test['tweet']=test['tweet'].str.replace('RT :', '')\n",
        "test['tweet']=test['tweet'].str.replace('<LF>', '')\n",
        "ids=test['id']\n",
        "test=test['tweet']\n",
        "test.head()"
      ],
      "execution_count": 14,
      "outputs": [
        {
          "output_type": "execute_result",
          "data": {
            "text/plain": [
              "0    فى حاجات مينفعش نلفت نظركوا ليها زى الاصول كده...\n",
              "1     وعيون تنادينا تحايل فينا و نقول يا عيونه يا ا...\n",
              "2    يا بلادي يا أم البلاد يا بلادي بحبك يا مصر بحب...\n",
              "3     يا رب يا قوي يا معين مدّني بالقوة و العون و ا...\n",
              "4                    رحمك الله يا صدام يا بطل ومقدام. \n",
              "Name: tweet, dtype: object"
            ]
          },
          "metadata": {
            "tags": []
          },
          "execution_count": 14
        }
      ]
    },
    {
      "cell_type": "code",
      "metadata": {
        "id": "a9osi-kx50sv",
        "colab_type": "code",
        "colab": {}
      },
      "source": [
        ""
      ],
      "execution_count": 0,
      "outputs": []
    },
    {
      "cell_type": "markdown",
      "metadata": {
        "id": "YUFczyikLeYO",
        "colab_type": "text"
      },
      "source": [
        "#Label Encoding"
      ]
    },
    {
      "cell_type": "code",
      "metadata": {
        "id": "CFPv0_zdLnlS",
        "colab_type": "code",
        "colab": {}
      },
      "source": [
        "labels=train['subtask_a']\n",
        "train=train['tweet']"
      ],
      "execution_count": 0,
      "outputs": []
    },
    {
      "cell_type": "code",
      "metadata": {
        "id": "w9PjbFwJLiNA",
        "colab_type": "code",
        "outputId": "8e970a36-8424-4190-fb54-966dee3b0f9e",
        "colab": {
          "base_uri": "https://localhost:8080/",
          "height": 34
        }
      },
      "source": [
        "le=LabelEncoder()\n",
        "labels=le.fit_transform(labels)\n",
        "print(len(labels))"
      ],
      "execution_count": 16,
      "outputs": [
        {
          "output_type": "stream",
          "text": [
            "7999\n"
          ],
          "name": "stdout"
        }
      ]
    },
    {
      "cell_type": "markdown",
      "metadata": {
        "id": "Ek_ZUjDef7ZV",
        "colab_type": "text"
      },
      "source": [
        "# Common Parameters"
      ]
    },
    {
      "cell_type": "code",
      "metadata": {
        "id": "vdtjDLnOACbK",
        "colab_type": "code",
        "colab": {}
      },
      "source": [
        "import numpy as np\n",
        "class_weights = class_weight.compute_class_weight('balanced',np.unique(labels),labels)\n",
        "class_weights=dict(enumerate(class_weights))"
      ],
      "execution_count": 0,
      "outputs": []
    },
    {
      "cell_type": "markdown",
      "metadata": {
        "id": "i-IToeBciV1m",
        "colab_type": "text"
      },
      "source": [
        "## Cylic learning rate"
      ]
    },
    {
      "cell_type": "code",
      "metadata": {
        "id": "PIYW6ZAniXzU",
        "colab_type": "code",
        "colab": {}
      },
      "source": [
        "# https://www.kaggle.com/hireme/fun-api-keras-f1-metric-cyclical-learning-rate/code\n",
        "from keras.callbacks import Callback\n",
        "class CyclicLR(Callback):\n",
        "    \"\"\"This callback implements a cyclical learning rate policy (CLR).\n",
        "    The method cycles the learning rate between two boundaries with\n",
        "    some constant frequency, as detailed in this paper (https://arxiv.org/abs/1506.01186).\n",
        "    The amplitude of the cycle can be scaled on a per-iteration or \n",
        "    per-cycle basis.\n",
        "    This class has three built-in policies, as put forth in the paper.\n",
        "    \"triangular\":\n",
        "        A basic triangular cycle w/ no amplitude scaling.\n",
        "    \"triangular2\":\n",
        "        A basic triangular cycle that scales initial amplitude by half each cycle.\n",
        "    \"exp_range\":\n",
        "        A cycle that scales initial amplitude by gamma**(cycle iterations) at each \n",
        "        cycle iteration.\n",
        "    For more detail, please see paper.\n",
        "    \n",
        "    # Example\n",
        "        ```python\n",
        "            clr = CyclicLR(base_lr=0.001, max_lr=0.006,\n",
        "                                step_size=2000., mode='triangular')\n",
        "            model.fit(X_train, Y_train, callbacks=[clr])\n",
        "        ```\n",
        "    \n",
        "    Class also supports custom scaling functions:\n",
        "        ```python\n",
        "            clr_fn = lambda x: 0.5*(1+np.sin(x*np.pi/2.))\n",
        "            clr = CyclicLR(base_lr=0.001, max_lr=0.006,\n",
        "                                step_size=2000., scale_fn=clr_fn,\n",
        "                                scale_mode='cycle')\n",
        "            model.fit(X_train, Y_train, callbacks=[clr])\n",
        "        ```    \n",
        "    # Arguments\n",
        "        base_lr: initial learning rate which is the\n",
        "            lower boundary in the cycle.\n",
        "        max_lr: upper boundary in the cycle. Functionally,\n",
        "            it defines the cycle amplitude (max_lr - base_lr).\n",
        "            The lr at any cycle is the sum of base_lr\n",
        "            and some scaling of the amplitude; therefore \n",
        "            max_lr may not actually be reached depending on\n",
        "            scaling function.\n",
        "        step_size: number of training iterations per\n",
        "            half cycle. Authors suggest setting step_size\n",
        "            2-8 x training iterations in epoch.\n",
        "        mode: one of {triangular, triangular2, exp_range}.\n",
        "            Default 'triangular'.\n",
        "            Values correspond to policies detailed above.\n",
        "            If scale_fn is not None, this argument is ignored.\n",
        "        gamma: constant in 'exp_range' scaling function:\n",
        "            gamma**(cycle iterations)\n",
        "        scale_fn: Custom scaling policy defined by a single\n",
        "            argument lambda function, where \n",
        "            0 <= scale_fn(x) <= 1 for all x >= 0.\n",
        "            mode paramater is ignored \n",
        "        scale_mode: {'cycle', 'iterations'}.\n",
        "            Defines whether scale_fn is evaluated on \n",
        "            cycle number or cycle iterations (training\n",
        "            iterations since start of cycle). Default is 'cycle'.\n",
        "    \"\"\"\n",
        "\n",
        "    def __init__(self, base_lr=0.001, max_lr=0.006, step_size=2000., mode='triangular',\n",
        "                 gamma=1., scale_fn=None, scale_mode='cycle'):\n",
        "        super(CyclicLR, self).__init__()\n",
        "\n",
        "        self.base_lr = base_lr\n",
        "        self.max_lr = max_lr\n",
        "        self.step_size = step_size\n",
        "        self.mode = mode\n",
        "        self.gamma = gamma\n",
        "        if scale_fn == None:\n",
        "            if self.mode == 'triangular':\n",
        "                self.scale_fn = lambda x: 1.\n",
        "                self.scale_mode = 'cycle'\n",
        "            elif self.mode == 'triangular2':\n",
        "                self.scale_fn = lambda x: 1/(2.**(x-1))\n",
        "                self.scale_mode = 'cycle'\n",
        "            elif self.mode == 'exp_range':\n",
        "                self.scale_fn = lambda x: gamma**(x)\n",
        "                self.scale_mode = 'iterations'\n",
        "        else:\n",
        "            self.scale_fn = scale_fn\n",
        "            self.scale_mode = scale_mode\n",
        "        self.clr_iterations = 0.\n",
        "        self.trn_iterations = 0.\n",
        "        self.history = {}\n",
        "\n",
        "        self._reset()\n",
        "\n",
        "    def _reset(self, new_base_lr=None, new_max_lr=None,\n",
        "               new_step_size=None):\n",
        "        \"\"\"Resets cycle iterations.\n",
        "        Optional boundary/step size adjustment.\n",
        "        \"\"\"\n",
        "        if new_base_lr != None:\n",
        "            self.base_lr = new_base_lr\n",
        "        if new_max_lr != None:\n",
        "            self.max_lr = new_max_lr\n",
        "        if new_step_size != None:\n",
        "            self.step_size = new_step_size\n",
        "        self.clr_iterations = 0.\n",
        "        \n",
        "    def clr(self):\n",
        "        cycle = np.floor(1+self.clr_iterations/(2*self.step_size))\n",
        "        x = np.abs(self.clr_iterations/self.step_size - 2*cycle + 1)\n",
        "        if self.scale_mode == 'cycle':\n",
        "            return self.base_lr + (self.max_lr-self.base_lr)*np.maximum(0, (1-x))*self.scale_fn(cycle)\n",
        "        else:\n",
        "            return self.base_lr + (self.max_lr-self.base_lr)*np.maximum(0, (1-x))*self.scale_fn(self.clr_iterations)\n",
        "        \n",
        "    def on_train_begin(self, logs={}):\n",
        "        logs = logs or {}\n",
        "\n",
        "        if self.clr_iterations == 0:\n",
        "            K.set_value(self.model.optimizer.lr, self.base_lr)\n",
        "        else:\n",
        "            K.set_value(self.model.optimizer.lr, self.clr())        \n",
        "            \n",
        "    def on_batch_end(self, epoch, logs=None):\n",
        "        \n",
        "        logs = logs or {}\n",
        "        self.trn_iterations += 1\n",
        "        self.clr_iterations += 1\n",
        "\n",
        "        self.history.setdefault('lr', []).append(K.get_value(self.model.optimizer.lr))\n",
        "        self.history.setdefault('iterations', []).append(self.trn_iterations)\n",
        "\n",
        "        for k, v in logs.items():\n",
        "            self.history.setdefault(k, []).append(v)\n",
        "        \n",
        "        K.set_value(self.model.optimizer.lr, self.clr())"
      ],
      "execution_count": 0,
      "outputs": []
    },
    {
      "cell_type": "code",
      "metadata": {
        "id": "DIcxIjeYjHyo",
        "colab_type": "code",
        "colab": {}
      },
      "source": [
        "clr = CyclicLR(base_lr=0.001, max_lr=0.005,\n",
        "                        step_size=4., mode='exp_range',\n",
        "                        gamma=0.99994)"
      ],
      "execution_count": 0,
      "outputs": []
    },
    {
      "cell_type": "markdown",
      "metadata": {
        "id": "NAv_EEaQLXtY",
        "colab_type": "text"
      },
      "source": [
        "# Tokenize data"
      ]
    },
    {
      "cell_type": "code",
      "metadata": {
        "id": "QomCkNlRLHPG",
        "colab_type": "code",
        "colab": {}
      },
      "source": [
        "from keras.preprocessing.text import Tokenizer\n",
        "from keras.preprocessing import sequence\n",
        "max_words = 10000 #frequency of words to be kept\n",
        "max_len = 200\n",
        "\n",
        "tokenize = Tokenizer(num_words=max_words)\n",
        "tokenize.fit_on_texts(train)\n",
        "sequences = tokenize.texts_to_sequences(train)\n",
        "word_index = tokenize.word_index\n",
        "sequences_matrix = sequence.pad_sequences(sequences,maxlen=max_len,padding='post')"
      ],
      "execution_count": 0,
      "outputs": []
    },
    {
      "cell_type": "code",
      "metadata": {
        "id": "Og1W2rCOLs4w",
        "colab_type": "code",
        "outputId": "005581ae-b7f5-4dbc-b7f2-a6cd11bdc529",
        "colab": {
          "base_uri": "https://localhost:8080/",
          "height": 34
        }
      },
      "source": [
        "len(sequences_matrix),len(labels)"
      ],
      "execution_count": 21,
      "outputs": [
        {
          "output_type": "execute_result",
          "data": {
            "text/plain": [
              "(7999, 7999)"
            ]
          },
          "metadata": {
            "tags": []
          },
          "execution_count": 21
        }
      ]
    },
    {
      "cell_type": "code",
      "metadata": {
        "id": "I4kzu1RxLyGk",
        "colab_type": "code",
        "outputId": "405bd5ad-db12-4c99-a82b-c68c316268f8",
        "colab": {
          "base_uri": "https://localhost:8080/",
          "height": 34
        }
      },
      "source": [
        "num_words = min(max_words, len(word_index)) + 1\n",
        "print(num_words)"
      ],
      "execution_count": 22,
      "outputs": [
        {
          "output_type": "stream",
          "text": [
            "10001\n"
          ],
          "name": "stdout"
        }
      ]
    },
    {
      "cell_type": "code",
      "metadata": {
        "id": "4i7WSY3lMmdp",
        "colab_type": "code",
        "colab": {}
      },
      "source": [
        "test_sequences = tokenize.texts_to_sequences(test)\n",
        "X_test_sequences = sequence.pad_sequences(test_sequences,maxlen=max_len,padding='post')"
      ],
      "execution_count": 0,
      "outputs": []
    },
    {
      "cell_type": "code",
      "metadata": {
        "id": "nRZxav1WNle-",
        "colab_type": "code",
        "outputId": "9d7e570e-3fe1-47a6-89e7-a630bc7c03ce",
        "colab": {
          "base_uri": "https://localhost:8080/",
          "height": 34
        }
      },
      "source": [
        "len(X_test_sequences)"
      ],
      "execution_count": 24,
      "outputs": [
        {
          "output_type": "execute_result",
          "data": {
            "text/plain": [
              "1000"
            ]
          },
          "metadata": {
            "tags": []
          },
          "execution_count": 24
        }
      ]
    },
    {
      "cell_type": "markdown",
      "metadata": {
        "id": "SpzUIu4iL0PO",
        "colab_type": "text"
      },
      "source": [
        "# Embeddings"
      ]
    },
    {
      "cell_type": "code",
      "metadata": {
        "id": "o3UFPJAWL10_",
        "colab_type": "code",
        "colab": {}
      },
      "source": [
        "embed_size=300\n",
        "def get_coefs(word,*arr):\n",
        "    return word, np.asarray(arr, dtype='float32')\n",
        "\n",
        "def build_matrix(embedding_path, word_index):\n",
        "    embedding_index = dict(get_coefs(*o.strip().split(\" \")) for o in open(embedding_path))\n",
        "\n",
        "    nb_words = min(max_words, len(word_index))\n",
        "    embedding_matrix = np.zeros((nb_words + 1, embed_size))\n",
        "    for word, i in word_index.items():\n",
        "        if i >= max_words:\n",
        "            continue\n",
        "        embedding_vector = embedding_index.get(word)\n",
        "        if embedding_vector is not None:\n",
        "            embedding_matrix[i] = embedding_vector\n",
        "    return embedding_matrix"
      ],
      "execution_count": 0,
      "outputs": []
    },
    {
      "cell_type": "code",
      "metadata": {
        "id": "zTviPXodLzRW",
        "colab_type": "code",
        "outputId": "ca2ce9ce-71c6-40f2-ff04-00b414504691",
        "colab": {
          "base_uri": "https://localhost:8080/",
          "height": 34
        }
      },
      "source": [
        "embeddings=build_matrix('cc.ar.300.vec', word_index)\n",
        "embeddings.shape"
      ],
      "execution_count": 27,
      "outputs": [
        {
          "output_type": "execute_result",
          "data": {
            "text/plain": [
              "(10001, 300)"
            ]
          },
          "metadata": {
            "tags": []
          },
          "execution_count": 27
        }
      ]
    },
    {
      "cell_type": "markdown",
      "metadata": {
        "id": "e8_AdRhffkS3",
        "colab_type": "text"
      },
      "source": [
        "# Base Models"
      ]
    },
    {
      "cell_type": "code",
      "metadata": {
        "id": "DaShFhtgJ_Ef",
        "colab_type": "code",
        "colab": {}
      },
      "source": [
        "train.shape,labels.shape"
      ],
      "execution_count": 0,
      "outputs": []
    },
    {
      "cell_type": "markdown",
      "metadata": {
        "id": "jvXD0v5mfm7M",
        "colab_type": "text"
      },
      "source": [
        "## Count Vectorizer"
      ]
    },
    {
      "cell_type": "code",
      "metadata": {
        "id": "7blhzyaD-xvK",
        "colab_type": "code",
        "colab": {}
      },
      "source": [
        "\n",
        "def logistic_param_selection(X, y, func,nfolds):\n",
        "    C= [7,8,9,10,12,15,20,25]\n",
        "    param_grid = {'C': C}\n",
        "    grid_search = GridSearchCV(make_pipeline(func, LogisticRegression(solver='lbfgs',max_iter=500,class_weight=class_weights)),\n",
        "                    param_grid={'logisticregression__C':[10,12,15,20,25]}, cv=nfolds,scoring='f1_macro')\n",
        "    grid_search.fit(X, y)\n",
        "    return grid_search.best_score_,grid_search.best_params_\n",
        "\n"
      ],
      "execution_count": 0,
      "outputs": []
    },
    {
      "cell_type": "code",
      "metadata": {
        "id": "lHFZoqkGI79e",
        "colab_type": "code",
        "outputId": "12e04ace-094c-46f4-c0d5-1f7003a58e48",
        "colab": {
          "base_uri": "https://localhost:8080/",
          "height": 34
        }
      },
      "source": [
        "cv_score,c=logistic_param_selection(train,labels,CountVectorizer(),5)\n",
        "cv_score"
      ],
      "execution_count": 29,
      "outputs": [
        {
          "output_type": "execute_result",
          "data": {
            "text/plain": [
              "0.8001269271333449"
            ]
          },
          "metadata": {
            "tags": []
          },
          "execution_count": 29
        }
      ]
    },
    {
      "cell_type": "code",
      "metadata": {
        "id": "FiDB13I898UU",
        "colab_type": "code",
        "colab": {}
      },
      "source": [
        "count_vectorizer = CountVectorizer()\n",
        "count_vectorizer.fit(train)\n",
        "X_train_cv = count_vectorizer.transform(train)\n",
        "X_test_cv=  count_vectorizer.transform(test)"
      ],
      "execution_count": 0,
      "outputs": []
    },
    {
      "cell_type": "code",
      "metadata": {
        "id": "bwXHpKqo-cFB",
        "colab_type": "code",
        "outputId": "c7b2a6c9-844a-43a6-e79a-e902ae0a3863",
        "colab": {
          "base_uri": "https://localhost:8080/",
          "height": 118
        }
      },
      "source": [
        "cv_classifier = LogisticRegression(solver='lbfgs',C=c['logisticregression__C'],max_iter=500,class_weight=class_weights)\n",
        "cv_classifier.fit(X_train_cv, labels)"
      ],
      "execution_count": 31,
      "outputs": [
        {
          "output_type": "execute_result",
          "data": {
            "text/plain": [
              "LogisticRegression(C=25,\n",
              "                   class_weight={0: 0.6239469578783151, 1: 2.516991818753933},\n",
              "                   dual=False, fit_intercept=True, intercept_scaling=1,\n",
              "                   l1_ratio=None, max_iter=500, multi_class='auto', n_jobs=None,\n",
              "                   penalty='l2', random_state=None, solver='lbfgs', tol=0.0001,\n",
              "                   verbose=0, warm_start=False)"
            ]
          },
          "metadata": {
            "tags": []
          },
          "execution_count": 31
        }
      ]
    },
    {
      "cell_type": "code",
      "metadata": {
        "id": "fBx50ckVP6iP",
        "colab_type": "code",
        "colab": {}
      },
      "source": [
        "cv_test=cv_classifier.predict_proba(X_test_cv)[:,1]"
      ],
      "execution_count": 0,
      "outputs": []
    },
    {
      "cell_type": "markdown",
      "metadata": {
        "id": "hJDyK1lahqqG",
        "colab_type": "text"
      },
      "source": [
        "## TF IDF word vectorizer"
      ]
    },
    {
      "cell_type": "code",
      "metadata": {
        "id": "Gz1WZZEufmEq",
        "colab_type": "code",
        "colab": {}
      },
      "source": [
        "from sklearn.feature_extraction.text import TfidfVectorizer\n",
        "word_vectorizer = TfidfVectorizer(\n",
        "    sublinear_tf=True,\n",
        "    strip_accents='unicode',\n",
        "    analyzer='word',\n",
        "    token_pattern=r'\\w{1,}',\n",
        "    ngram_range=(1, 4),\n",
        "    max_features=10000)\n",
        "word_vectorizer.fit(train)\n",
        "train_word_features = word_vectorizer.transform(train)\n",
        "test_word_features = word_vectorizer.transform(test)"
      ],
      "execution_count": 0,
      "outputs": []
    },
    {
      "cell_type": "code",
      "metadata": {
        "id": "M8hxtqPQ_KxI",
        "colab_type": "code",
        "outputId": "4bee3517-ff81-4786-c3e1-3fdbfbfe8013",
        "colab": {
          "base_uri": "https://localhost:8080/",
          "height": 34
        }
      },
      "source": [
        "tfw_score,c=logistic_param_selection(train,labels,word_vectorizer,5)\n",
        "tfw_score"
      ],
      "execution_count": 34,
      "outputs": [
        {
          "output_type": "execute_result",
          "data": {
            "text/plain": [
              "0.7910694857114109"
            ]
          },
          "metadata": {
            "tags": []
          },
          "execution_count": 34
        }
      ]
    },
    {
      "cell_type": "code",
      "metadata": {
        "id": "04JmMwoEh4-d",
        "colab_type": "code",
        "outputId": "838edaa4-004e-4a26-9bae-48c29ed6b5a1",
        "colab": {
          "base_uri": "https://localhost:8080/",
          "height": 101
        }
      },
      "source": [
        "tfw_classifier = LogisticRegression(solver='lbfgs',C=c['logisticregression__C'],max_iter=500)\n",
        "tfw_classifier.fit(train_word_features, labels)\n"
      ],
      "execution_count": 35,
      "outputs": [
        {
          "output_type": "execute_result",
          "data": {
            "text/plain": [
              "LogisticRegression(C=12, class_weight=None, dual=False, fit_intercept=True,\n",
              "                   intercept_scaling=1, l1_ratio=None, max_iter=500,\n",
              "                   multi_class='auto', n_jobs=None, penalty='l2',\n",
              "                   random_state=None, solver='lbfgs', tol=0.0001, verbose=0,\n",
              "                   warm_start=False)"
            ]
          },
          "metadata": {
            "tags": []
          },
          "execution_count": 35
        }
      ]
    },
    {
      "cell_type": "code",
      "metadata": {
        "id": "nQRy9oaBQIfV",
        "colab_type": "code",
        "colab": {}
      },
      "source": [
        "tfw_test = tfw_classifier.predict_proba(test_word_features)[:,1]"
      ],
      "execution_count": 0,
      "outputs": []
    },
    {
      "cell_type": "markdown",
      "metadata": {
        "id": "fNSvwaG1ioq0",
        "colab_type": "text"
      },
      "source": [
        "## TF IDF char vectorizer"
      ]
    },
    {
      "cell_type": "code",
      "metadata": {
        "id": "a_kqct6jiBq1",
        "colab_type": "code",
        "colab": {}
      },
      "source": [
        "char_vectorizer = TfidfVectorizer(\n",
        "    sublinear_tf=True,\n",
        "    strip_accents='unicode',\n",
        "    analyzer='char',\n",
        "    ngram_range=(1, 6),\n",
        "    max_features=30000)\n",
        "char_vectorizer.fit(train)\n",
        "train_char_features = char_vectorizer.transform(train)\n",
        "test_char_features = char_vectorizer.transform(test)"
      ],
      "execution_count": 0,
      "outputs": []
    },
    {
      "cell_type": "code",
      "metadata": {
        "id": "rBU8cBQVCiAI",
        "colab_type": "code",
        "outputId": "1dc20de0-3cf0-443d-d163-3d84b0892149",
        "colab": {
          "base_uri": "https://localhost:8080/",
          "height": 34
        }
      },
      "source": [
        "tfc_score,c=logistic_param_selection(train,labels,char_vectorizer,5)\n",
        "tfc_score"
      ],
      "execution_count": 38,
      "outputs": [
        {
          "output_type": "execute_result",
          "data": {
            "text/plain": [
              "0.8506830624955339"
            ]
          },
          "metadata": {
            "tags": []
          },
          "execution_count": 38
        }
      ]
    },
    {
      "cell_type": "code",
      "metadata": {
        "id": "cYhzRPO0iRMb",
        "colab_type": "code",
        "outputId": "6a36642e-6613-4f9c-907f-a21bc675fcbf",
        "colab": {
          "base_uri": "https://localhost:8080/",
          "height": 101
        }
      },
      "source": [
        "tfc_classifier = LogisticRegression(solver='lbfgs',C=c['logisticregression__C'],max_iter=500)\n",
        "tfc_classifier.fit(train_char_features, labels)\n"
      ],
      "execution_count": 39,
      "outputs": [
        {
          "output_type": "execute_result",
          "data": {
            "text/plain": [
              "LogisticRegression(C=20, class_weight=None, dual=False, fit_intercept=True,\n",
              "                   intercept_scaling=1, l1_ratio=None, max_iter=500,\n",
              "                   multi_class='auto', n_jobs=None, penalty='l2',\n",
              "                   random_state=None, solver='lbfgs', tol=0.0001, verbose=0,\n",
              "                   warm_start=False)"
            ]
          },
          "metadata": {
            "tags": []
          },
          "execution_count": 39
        }
      ]
    },
    {
      "cell_type": "code",
      "metadata": {
        "id": "tpkjinLBXX7j",
        "colab_type": "code",
        "colab": {}
      },
      "source": [
        "tfc_test = tfc_classifier.predict_proba(test_char_features)[:,1]"
      ],
      "execution_count": 0,
      "outputs": []
    },
    {
      "cell_type": "markdown",
      "metadata": {
        "id": "I6sOo5OtMQnL",
        "colab_type": "text"
      },
      "source": [
        "# Models"
      ]
    },
    {
      "cell_type": "markdown",
      "metadata": {
        "id": "jv2yPgQWL9de",
        "colab_type": "text"
      },
      "source": [
        "##GRU"
      ]
    },
    {
      "cell_type": "code",
      "metadata": {
        "id": "XXvqlGD0L-sx",
        "colab_type": "code",
        "colab": {}
      },
      "source": [
        "def model_gru():\n",
        "  inp = Input(shape=(max_len,))\n",
        "  x = Embedding(num_words,embed_size,embeddings_initializer=Constant(embeddings),input_length=max_len,trainable=False)(inp)\n",
        "  x = SpatialDropout1D(0.1)(x)\n",
        "  x = Bidirectional(CuDNNLSTM(50, return_sequences=True))(x)\n",
        "  x, x_h, x_c = Bidirectional(CuDNNGRU(50, return_sequences=True, return_state = True))(x)\n",
        "  avg_pool = GlobalAveragePooling1D()(x)\n",
        "  max_pool = GlobalMaxPooling1D()(x)\n",
        "  conc = concatenate([avg_pool, x_h, max_pool])\n",
        "  outp = Dense(1, activation=\"sigmoid\")(conc)    \n",
        "  model = Model(inputs=inp, outputs=outp)\n",
        "  model.compile(loss=BinaryFocalLoss(gamma=2), optimizer='adam', metrics=['accuracy'])\n",
        "  return model"
      ],
      "execution_count": 0,
      "outputs": []
    },
    {
      "cell_type": "markdown",
      "metadata": {
        "id": "7t_Ph6qafOQK",
        "colab_type": "text"
      },
      "source": [
        "## GRU attention"
      ]
    },
    {
      "cell_type": "code",
      "metadata": {
        "id": "KyKea_xMkrmP",
        "colab_type": "code",
        "colab": {}
      },
      "source": [
        "#https://github.com/zake7749/DeepToxic\n",
        "from keras.layers import Layer,Lambda\n",
        "from keras import initializers\n",
        "from keras.engine import InputSpec, Layer\n",
        "from keras import backend as K\n",
        "\n",
        "class AttentionWeightedAverage(Layer):\n",
        "    \"\"\"\n",
        "    Computes a weighted average of the different channels across timesteps.\n",
        "    Uses 1 parameter pr. channel to compute the attention value for a single timestep.\n",
        "    \"\"\"\n",
        "\n",
        "    def __init__(self, return_attention=False, **kwargs):\n",
        "        self.init = initializers.get('uniform')\n",
        "        self.supports_masking = True\n",
        "        self.return_attention = return_attention\n",
        "        super(AttentionWeightedAverage, self).__init__(** kwargs)\n",
        "\n",
        "    def build(self, input_shape):\n",
        "        self.input_spec = [InputSpec(ndim=3)]\n",
        "        assert len(input_shape) == 3\n",
        "\n",
        "        self.W = self.add_weight(shape=(input_shape[2], 1),\n",
        "                                 name='{}_W'.format(self.name),\n",
        "                                 initializer=self.init)\n",
        "        self.trainable_weights = [self.W]\n",
        "        super(AttentionWeightedAverage, self).build(input_shape)\n",
        "\n",
        "    def call(self, x, mask=None):\n",
        "        # computes a probability distribution over the timesteps\n",
        "        # uses 'max trick' for numerical stability\n",
        "        # reshape is done to avoid issue with Tensorflow\n",
        "        # and 1-dimensional weights\n",
        "        logits = K.dot(x, self.W)\n",
        "        x_shape = K.shape(x)\n",
        "        logits = K.reshape(logits, (x_shape[0], x_shape[1]))\n",
        "        ai = K.exp(logits - K.max(logits, axis=-1, keepdims=True))\n",
        "\n",
        "        # masked timesteps have zero weight\n",
        "        if mask is not None:\n",
        "            mask = K.cast(mask, K.floatx())\n",
        "            ai = ai * mask\n",
        "        att_weights = ai / (K.sum(ai, axis=1, keepdims=True) + K.epsilon())\n",
        "        weighted_input = x * K.expand_dims(att_weights)\n",
        "        result = K.sum(weighted_input, axis=1)\n",
        "        if self.return_attention:\n",
        "            return [result, att_weights]\n",
        "        return result\n",
        "\n",
        "    def get_output_shape_for(self, input_shape):\n",
        "        return self.compute_output_shape(input_shape)\n",
        "\n",
        "    def compute_output_shape(self, input_shape):\n",
        "        output_len = input_shape[2]\n",
        "        if self.return_attention:\n",
        "            return [(input_shape[0], output_len), (input_shape[0], input_shape[1])]\n",
        "        return (input_shape[0], output_len)\n",
        "\n",
        "    def compute_mask(self, input, input_mask=None):\n",
        "        if isinstance(input_mask, list):\n",
        "            return [None] * len(input_mask)\n",
        "        else:\n",
        "            return None"
      ],
      "execution_count": 0,
      "outputs": []
    },
    {
      "cell_type": "code",
      "metadata": {
        "id": "hovBxS5jfRbn",
        "colab_type": "code",
        "colab": {}
      },
      "source": [
        "def model_gru_attn():\n",
        "  inp = Input(shape=(max_len,))\n",
        "  x = Embedding(num_words,embed_size,embeddings_initializer=Constant(embeddings),input_length=max_len,trainable=False)(inp)\n",
        "  x = SpatialDropout1D(0.1)(x)\n",
        "  x = Bidirectional(CuDNNLSTM(50, return_sequences=True))(x)\n",
        "  x = Bidirectional(CuDNNGRU(50, return_sequences=True))(x)\n",
        "  avg_pool = GlobalAveragePooling1D()(x)\n",
        "  max_pool = GlobalMaxPooling1D()(x)\n",
        "  last = Lambda(lambda t: t[:, -1])(x)\n",
        "  attn = AttentionWeightedAverage()(x)\n",
        "  conc = concatenate([avg_pool,  max_pool,last,attn])\n",
        "  outp = Dense(1, activation=\"sigmoid\")(conc)    \n",
        "  model = Model(inputs=inp, outputs=outp)\n",
        "  model.compile(loss=BinaryFocalLoss(gamma=2), optimizer='adam', metrics=['accuracy'])\n",
        "  return model"
      ],
      "execution_count": 0,
      "outputs": []
    },
    {
      "cell_type": "markdown",
      "metadata": {
        "id": "I34DRPLqTVru",
        "colab_type": "text"
      },
      "source": [
        "##TCN"
      ]
    },
    {
      "cell_type": "code",
      "metadata": {
        "id": "e-euqTedTWjY",
        "colab_type": "code",
        "colab": {}
      },
      "source": [
        "from tcn import TCN\n",
        "\n",
        "def wave_net_activation(x):\n",
        "    # type: (Layer) -> Layer\n",
        "    \"\"\"This method defines the activation used for WaveNet\n",
        "    described in https://deepmind.com/blog/wavenet-generative-model-raw-audio/\n",
        "    Args:\n",
        "        x: The layer we want to apply the activation to\n",
        "    Returns:\n",
        "        A new layer with the wavenet activation applied\n",
        "    \"\"\"\n",
        "    tanh_out = Activation('tanh')(x)\n",
        "    sigm_out = Activation('sigmoid')(x)\n",
        "    return keras.layers.multiply([tanh_out, sigm_out])\n",
        "\n",
        "def model_tcn(embedding_matrix):\n",
        "    \n",
        "    inp = Input(shape=(max_len,))\n",
        "    x = Embedding(num_words,embed_size,embeddings_initializer=Constant(embeddings),input_length=max_len,trainable=False)(inp)\n",
        "    x = SpatialDropout1D(0.1)(x)\n",
        "    x = TCN(128,dilations = [1, 2, 4], return_sequences=True ,name = 'tnc1')(x)\n",
        "    x = wave_net_activation(x)\n",
        "    x = TCN(64,dilations = [1, 2, 4], return_sequences=True, name = 'tnc2')(x)\n",
        "    x = wave_net_activation(x)\n",
        "    #x = TCN(32,dilations = [1, 2, 4], return_sequences=True, activation = 'wavenet',name = 'tnc3')(x)\n",
        "    avg_pool = GlobalAveragePooling1D()(x)\n",
        "    max_pool = GlobalMaxPooling1D()(x)\n",
        "    \n",
        "    conc = concatenate([avg_pool, max_pool])\n",
        "    conc = Dense(64, activation=\"relu\")(conc)\n",
        "    conc = Dense(32, activation=\"relu\")(conc)\n",
        "\n",
        "    conc = Dropout(0.1)(conc)\n",
        "    outp = Dense(1, activation=\"sigmoid\")(conc)    \n",
        "    model = Model(inputs=inp, outputs=outp)\n",
        "    model.compile(loss=BinaryFocalLoss(gamma=2), optimizer='adam', metrics=['accuracy'])\n",
        "    \n",
        "    return model"
      ],
      "execution_count": 0,
      "outputs": []
    },
    {
      "cell_type": "code",
      "metadata": {
        "id": "3wLyuzTtMErl",
        "colab_type": "code",
        "colab": {}
      },
      "source": [
        ""
      ],
      "execution_count": 0,
      "outputs": []
    },
    {
      "cell_type": "code",
      "metadata": {
        "id": "6d55WTNmBa5w",
        "colab_type": "code",
        "colab": {}
      },
      "source": [
        ""
      ],
      "execution_count": 0,
      "outputs": []
    },
    {
      "cell_type": "markdown",
      "metadata": {
        "id": "mNc6xxspBcTG",
        "colab_type": "text"
      },
      "source": [
        "##KIM"
      ]
    },
    {
      "cell_type": "code",
      "metadata": {
        "id": "nAgtTt9IBfMQ",
        "colab_type": "code",
        "colab": {}
      },
      "source": [
        "conv_filters=128\n",
        "def model_kim():\n",
        "  inp = Input(shape=(max_len,))\n",
        "  emb = Embedding(num_words,embed_size,embeddings_initializer=Constant(embeddings),input_length=max_len,trainable=False)(inp)\n",
        "  # Specify each convolution layer and their kernel siz i.e. n-grams \n",
        "  conv1_1 = Conv1D(filters=conv_filters, kernel_size=3)(emb)\n",
        "  btch1_1 = BatchNormalization()(conv1_1)\n",
        "  drp1_1  = Dropout(0.2)(btch1_1)\n",
        "  actv1_1 = Activation('relu')(drp1_1)\n",
        "  glmp1_1 = GlobalMaxPooling1D()(actv1_1)\n",
        "\n",
        "  conv1_2 = Conv1D(filters=conv_filters, kernel_size=4)(emb)\n",
        "  btch1_2 = BatchNormalization()(conv1_2)\n",
        "  drp1_2  = Dropout(0.2)(btch1_2)\n",
        "  actv1_2 = Activation('relu')(drp1_2)\n",
        "  glmp1_2 = GlobalMaxPooling1D()(actv1_2)\n",
        "\n",
        "  conv1_3 = Conv1D(filters=conv_filters, kernel_size=5)(emb)\n",
        "  btch1_3 = BatchNormalization()(conv1_3)\n",
        "  drp1_3  = Dropout(0.2)(btch1_3)\n",
        "  actv1_3 = Activation('relu')(drp1_3)\n",
        "  glmp1_3 = GlobalMaxPooling1D()(actv1_3)\n",
        "\n",
        "  conv1_4 = Conv1D(filters=conv_filters, kernel_size=6)(emb)\n",
        "  btch1_4 = BatchNormalization()(conv1_4)\n",
        "  drp1_4  = Dropout(0.2)(btch1_4)\n",
        "  actv1_4 = Activation('relu')(drp1_4)\n",
        "  glmp1_4 = GlobalMaxPooling1D()(actv1_4)\n",
        "\n",
        "  # Gather all convolution layers\n",
        "  cnct = concatenate([glmp1_1, glmp1_2, glmp1_3, glmp1_4], axis=1)\n",
        "  drp1 = Dropout(0.2)(cnct)\n",
        "\n",
        "  dns1  = Dense(32, activation='relu')(drp1)\n",
        "  btch1 = BatchNormalization()(dns1)\n",
        "  drp2  = Dropout(0.2)(btch1)\n",
        "\n",
        "  out = Dense(1, activation='sigmoid')(drp2)   \n",
        "  model = Model(inputs=inp, outputs=out)\n",
        "  model.compile(loss=BinaryFocalLoss(gamma=2), optimizer='adam', metrics=['accuracy'])\n",
        "  return model\n"
      ],
      "execution_count": 0,
      "outputs": []
    },
    {
      "cell_type": "markdown",
      "metadata": {
        "id": "nJCuBpqkNx8L",
        "colab_type": "text"
      },
      "source": [
        "# Train model"
      ]
    },
    {
      "cell_type": "markdown",
      "metadata": {
        "id": "oUygUis5N2yN",
        "colab_type": "text"
      },
      "source": [
        "##GRU"
      ]
    },
    {
      "cell_type": "code",
      "metadata": {
        "id": "OdwYL0fG3kQo",
        "colab_type": "code",
        "outputId": "f0620a67-75df-42cf-8655-37ec67b4b570",
        "colab": {
          "base_uri": "https://localhost:8080/",
          "height": 1000
        }
      },
      "source": [
        "kfold = StratifiedKFold(n_splits=5, shuffle=False, random_state=2020)\n",
        "gru_scores = []\n",
        "gru_test=[]\n",
        "for train, val in kfold.split(sequences_matrix, labels):\n",
        "  gru_model=model_gru()\n",
        "  \n",
        "  gru_model.fit(sequences_matrix[train], labels[train],batch_size=64,epochs=10,verbose=2,\n",
        "            validation_data=(sequences_matrix[val],labels[val]),callbacks=[clr,])\n",
        "  y_pred = gru_model.predict(sequences_matrix[val], batch_size=64, verbose=1)\n",
        "\n",
        "  gru_test.append(gru_model.predict(X_test_sequences, batch_size=64, verbose=1).ravel())\n",
        "\n",
        "  y_pred = (y_pred > 0.5)\n",
        "  f1=f1_score(labels[val], y_pred, average='macro')\n",
        "  gru_scores.append(f1)\n",
        "  keras.backend.clear_session()"
      ],
      "execution_count": 46,
      "outputs": [
        {
          "output_type": "stream",
          "text": [
            "/usr/local/lib/python3.6/dist-packages/sklearn/model_selection/_split.py:296: FutureWarning: Setting a random_state has no effect since shuffle is False. This will raise an error in 0.24. You should leave random_state to its default (None), or set shuffle=True.\n",
            "  FutureWarning\n"
          ],
          "name": "stderr"
        },
        {
          "output_type": "stream",
          "text": [
            "Train on 6399 samples, validate on 1600 samples\n",
            "Epoch 1/10\n",
            " - 11s - loss: 0.1081 - acc: 0.8304 - val_loss: 0.0675 - val_acc: 0.9012\n",
            "Epoch 2/10\n",
            " - 5s - loss: 0.0701 - acc: 0.8998 - val_loss: 0.0709 - val_acc: 0.8894\n",
            "Epoch 3/10\n",
            " - 5s - loss: 0.0600 - acc: 0.9131 - val_loss: 0.0582 - val_acc: 0.9194\n",
            "Epoch 4/10\n",
            " - 5s - loss: 0.0541 - acc: 0.9234 - val_loss: 0.0556 - val_acc: 0.9269\n",
            "Epoch 5/10\n",
            " - 5s - loss: 0.0495 - acc: 0.9284 - val_loss: 0.0552 - val_acc: 0.9244\n",
            "Epoch 6/10\n",
            " - 5s - loss: 0.0459 - acc: 0.9317 - val_loss: 0.0659 - val_acc: 0.9038\n",
            "Epoch 7/10\n",
            " - 5s - loss: 0.0395 - acc: 0.9428 - val_loss: 0.0618 - val_acc: 0.9225\n",
            "Epoch 8/10\n",
            " - 5s - loss: 0.0317 - acc: 0.9541 - val_loss: 0.0687 - val_acc: 0.9269\n",
            "Epoch 9/10\n",
            " - 5s - loss: 0.0261 - acc: 0.9642 - val_loss: 0.0760 - val_acc: 0.9169\n",
            "Epoch 10/10\n",
            " - 5s - loss: 0.0240 - acc: 0.9650 - val_loss: 0.0801 - val_acc: 0.9225\n",
            "1600/1600 [==============================] - 1s 326us/step\n",
            "1000/1000 [==============================] - 0s 230us/step\n",
            "Train on 6399 samples, validate on 1600 samples\n",
            "Epoch 1/10\n",
            " - 6s - loss: 0.0978 - acc: 0.8440 - val_loss: 0.0769 - val_acc: 0.8819\n",
            "Epoch 2/10\n",
            " - 5s - loss: 0.0718 - acc: 0.8909 - val_loss: 0.0654 - val_acc: 0.9044\n",
            "Epoch 3/10\n",
            " - 5s - loss: 0.0599 - acc: 0.9144 - val_loss: 0.0631 - val_acc: 0.9000\n",
            "Epoch 4/10\n",
            " - 5s - loss: 0.0557 - acc: 0.9203 - val_loss: 0.0685 - val_acc: 0.9000\n",
            "Epoch 5/10\n",
            " - 5s - loss: 0.0512 - acc: 0.9280 - val_loss: 0.0627 - val_acc: 0.9056\n",
            "Epoch 6/10\n",
            " - 5s - loss: 0.0421 - acc: 0.9405 - val_loss: 0.0636 - val_acc: 0.9156\n",
            "Epoch 7/10\n",
            " - 5s - loss: 0.0372 - acc: 0.9447 - val_loss: 0.0681 - val_acc: 0.9150\n",
            "Epoch 8/10\n",
            " - 5s - loss: 0.0330 - acc: 0.9512 - val_loss: 0.0727 - val_acc: 0.8988\n",
            "Epoch 9/10\n",
            " - 5s - loss: 0.0271 - acc: 0.9622 - val_loss: 0.0897 - val_acc: 0.9038\n",
            "Epoch 10/10\n",
            " - 5s - loss: 0.0223 - acc: 0.9697 - val_loss: 0.1064 - val_acc: 0.9056\n",
            "1600/1600 [==============================] - 1s 334us/step\n",
            "1000/1000 [==============================] - 0s 233us/step\n",
            "Train on 6399 samples, validate on 1600 samples\n",
            "Epoch 1/10\n",
            " - 6s - loss: 0.0994 - acc: 0.8433 - val_loss: 0.0781 - val_acc: 0.8825\n",
            "Epoch 2/10\n",
            " - 5s - loss: 0.0670 - acc: 0.9030 - val_loss: 0.0676 - val_acc: 0.8994\n",
            "Epoch 3/10\n",
            " - 5s - loss: 0.0604 - acc: 0.9148 - val_loss: 0.0679 - val_acc: 0.9006\n",
            "Epoch 4/10\n",
            " - 5s - loss: 0.0540 - acc: 0.9220 - val_loss: 0.0691 - val_acc: 0.9044\n",
            "Epoch 5/10\n",
            " - 5s - loss: 0.0492 - acc: 0.9253 - val_loss: 0.0704 - val_acc: 0.8988\n",
            "Epoch 6/10\n",
            " - 5s - loss: 0.0466 - acc: 0.9337 - val_loss: 0.0758 - val_acc: 0.9031\n",
            "Epoch 7/10\n",
            " - 5s - loss: 0.0400 - acc: 0.9417 - val_loss: 0.0675 - val_acc: 0.9069\n",
            "Epoch 8/10\n",
            " - 5s - loss: 0.0314 - acc: 0.9536 - val_loss: 0.0871 - val_acc: 0.8994\n",
            "Epoch 9/10\n",
            " - 5s - loss: 0.0242 - acc: 0.9661 - val_loss: 0.0915 - val_acc: 0.8981\n",
            "Epoch 10/10\n",
            " - 5s - loss: 0.0219 - acc: 0.9677 - val_loss: 0.1041 - val_acc: 0.8988\n",
            "1600/1600 [==============================] - 1s 331us/step\n",
            "1000/1000 [==============================] - 0s 234us/step\n",
            "Train on 6399 samples, validate on 1600 samples\n",
            "Epoch 1/10\n",
            " - 5s - loss: 0.1006 - acc: 0.8359 - val_loss: 0.0923 - val_acc: 0.8394\n",
            "Epoch 2/10\n",
            " - 5s - loss: 0.0742 - acc: 0.8862 - val_loss: 0.0629 - val_acc: 0.9050\n",
            "Epoch 3/10\n",
            " - 5s - loss: 0.0624 - acc: 0.9094 - val_loss: 0.0594 - val_acc: 0.9150\n",
            "Epoch 4/10\n",
            " - 5s - loss: 0.0563 - acc: 0.9184 - val_loss: 0.0584 - val_acc: 0.9181\n",
            "Epoch 5/10\n",
            " - 5s - loss: 0.0504 - acc: 0.9280 - val_loss: 0.0584 - val_acc: 0.9156\n",
            "Epoch 6/10\n",
            " - 5s - loss: 0.0440 - acc: 0.9342 - val_loss: 0.0586 - val_acc: 0.9175\n",
            "Epoch 7/10\n",
            " - 5s - loss: 0.0392 - acc: 0.9428 - val_loss: 0.0612 - val_acc: 0.9150\n",
            "Epoch 8/10\n",
            " - 5s - loss: 0.0324 - acc: 0.9534 - val_loss: 0.0734 - val_acc: 0.9075\n",
            "Epoch 9/10\n",
            " - 5s - loss: 0.0287 - acc: 0.9589 - val_loss: 0.0759 - val_acc: 0.9031\n",
            "Epoch 10/10\n",
            " - 5s - loss: 0.0254 - acc: 0.9620 - val_loss: 0.0846 - val_acc: 0.9163\n",
            "1600/1600 [==============================] - 1s 321us/step\n",
            "1000/1000 [==============================] - 0s 221us/step\n",
            "Train on 6400 samples, validate on 1599 samples\n",
            "Epoch 1/10\n",
            " - 5s - loss: 0.1015 - acc: 0.8361 - val_loss: 0.0752 - val_acc: 0.8843\n",
            "Epoch 2/10\n",
            " - 5s - loss: 0.0684 - acc: 0.8977 - val_loss: 0.0751 - val_acc: 0.8856\n",
            "Epoch 3/10\n",
            " - 5s - loss: 0.0631 - acc: 0.9052 - val_loss: 0.0699 - val_acc: 0.9012\n",
            "Epoch 4/10\n",
            " - 5s - loss: 0.0537 - acc: 0.9208 - val_loss: 0.0702 - val_acc: 0.9081\n",
            "Epoch 5/10\n",
            " - 5s - loss: 0.0481 - acc: 0.9281 - val_loss: 0.0783 - val_acc: 0.9024\n",
            "Epoch 6/10\n",
            " - 5s - loss: 0.0458 - acc: 0.9328 - val_loss: 0.0731 - val_acc: 0.9012\n",
            "Epoch 7/10\n",
            " - 5s - loss: 0.0376 - acc: 0.9427 - val_loss: 0.0770 - val_acc: 0.8987\n",
            "Epoch 8/10\n",
            " - 5s - loss: 0.0340 - acc: 0.9480 - val_loss: 0.0840 - val_acc: 0.8943\n",
            "Epoch 9/10\n",
            " - 5s - loss: 0.0291 - acc: 0.9580 - val_loss: 0.0966 - val_acc: 0.9043\n",
            "Epoch 10/10\n",
            " - 5s - loss: 0.0269 - acc: 0.9608 - val_loss: 0.0988 - val_acc: 0.8999\n",
            "1599/1599 [==============================] - 1s 332us/step\n",
            "1000/1000 [==============================] - 0s 231us/step\n"
          ],
          "name": "stdout"
        }
      ]
    },
    {
      "cell_type": "code",
      "metadata": {
        "id": "ucuevMTN4VPS",
        "colab_type": "code",
        "outputId": "5b743448-143f-458d-c7ba-bef825f57e40",
        "colab": {
          "base_uri": "https://localhost:8080/",
          "height": 134
        }
      },
      "source": [
        "len(gru_test),gru_test[0].shape,gru_scores"
      ],
      "execution_count": 47,
      "outputs": [
        {
          "output_type": "execute_result",
          "data": {
            "text/plain": [
              "(5,\n",
              " (1000,),\n",
              " [0.8704795130447498,\n",
              "  0.8300400067252381,\n",
              "  0.8391384972854621,\n",
              "  0.8604035795022451,\n",
              "  0.8395424098743132])"
            ]
          },
          "metadata": {
            "tags": []
          },
          "execution_count": 47
        }
      ]
    },
    {
      "cell_type": "code",
      "metadata": {
        "id": "AKKs8iWX570n",
        "colab_type": "code",
        "colab": {}
      },
      "source": [
        ""
      ],
      "execution_count": 0,
      "outputs": []
    },
    {
      "cell_type": "markdown",
      "metadata": {
        "id": "BaW-Uq0Kldp4",
        "colab_type": "text"
      },
      "source": [
        "## GRU attention"
      ]
    },
    {
      "cell_type": "code",
      "metadata": {
        "id": "XULscbNL6FiP",
        "colab_type": "code",
        "outputId": "918ea539-b46b-413c-ef46-e5639672544f",
        "colab": {
          "base_uri": "https://localhost:8080/",
          "height": 1000
        }
      },
      "source": [
        "kfold = StratifiedKFold(n_splits=5, shuffle=False, random_state=2020)\n",
        "atten_scores = []\n",
        "atten_test=[]\n",
        "for train, val in kfold.split(sequences_matrix, labels):\n",
        "  attn_gru_model=model_gru_attn()\n",
        "  \n",
        "  attn_gru_model.fit(sequences_matrix[train], labels[train],batch_size=64,epochs=10,verbose=2,\n",
        "            validation_data=(sequences_matrix[val],labels[val]),callbacks=[clr,])\n",
        "  y_pred = attn_gru_model.predict(sequences_matrix[val], batch_size=64, verbose=1)\n",
        "\n",
        "  atten_test.append(attn_gru_model.predict(X_test_sequences, batch_size=64, verbose=1).ravel())\n",
        "\n",
        "  y_pred = (y_pred > 0.5)\n",
        "  f1=f1_score(labels[val], y_pred, average='macro')\n",
        "  atten_scores.append(f1)\n",
        "  keras.backend.clear_session()"
      ],
      "execution_count": 48,
      "outputs": [
        {
          "output_type": "stream",
          "text": [
            "/usr/local/lib/python3.6/dist-packages/sklearn/model_selection/_split.py:296: FutureWarning: Setting a random_state has no effect since shuffle is False. This will raise an error in 0.24. You should leave random_state to its default (None), or set shuffle=True.\n",
            "  FutureWarning\n"
          ],
          "name": "stderr"
        },
        {
          "output_type": "stream",
          "text": [
            "Train on 6399 samples, validate on 1600 samples\n",
            "Epoch 1/10\n",
            " - 6s - loss: 0.0969 - acc: 0.8476 - val_loss: 0.0876 - val_acc: 0.8562\n",
            "Epoch 2/10\n",
            " - 5s - loss: 0.0712 - acc: 0.8923 - val_loss: 0.0611 - val_acc: 0.9131\n",
            "Epoch 3/10\n",
            " - 5s - loss: 0.0630 - acc: 0.9086 - val_loss: 0.0619 - val_acc: 0.9031\n",
            "Epoch 4/10\n",
            " - 5s - loss: 0.0599 - acc: 0.9140 - val_loss: 0.0613 - val_acc: 0.9163\n",
            "Epoch 5/10\n",
            " - 5s - loss: 0.0527 - acc: 0.9251 - val_loss: 0.0595 - val_acc: 0.9181\n",
            "Epoch 6/10\n",
            " - 5s - loss: 0.0525 - acc: 0.9217 - val_loss: 0.0621 - val_acc: 0.9119\n",
            "Epoch 7/10\n",
            " - 5s - loss: 0.0424 - acc: 0.9369 - val_loss: 0.0603 - val_acc: 0.9225\n",
            "Epoch 8/10\n",
            " - 5s - loss: 0.0394 - acc: 0.9433 - val_loss: 0.0643 - val_acc: 0.9213\n",
            "Epoch 9/10\n",
            " - 5s - loss: 0.0321 - acc: 0.9548 - val_loss: 0.0710 - val_acc: 0.9169\n",
            "Epoch 10/10\n",
            " - 5s - loss: 0.0267 - acc: 0.9614 - val_loss: 0.0890 - val_acc: 0.9150\n",
            "1600/1600 [==============================] - 1s 336us/step\n",
            "1000/1000 [==============================] - 0s 238us/step\n",
            "Train on 6399 samples, validate on 1600 samples\n",
            "Epoch 1/10\n",
            " - 6s - loss: 0.1100 - acc: 0.8292 - val_loss: 0.0773 - val_acc: 0.8831\n",
            "Epoch 2/10\n",
            " - 5s - loss: 0.0678 - acc: 0.9003 - val_loss: 0.0759 - val_acc: 0.8950\n",
            "Epoch 3/10\n",
            " - 5s - loss: 0.0623 - acc: 0.9103 - val_loss: 0.0647 - val_acc: 0.9038\n",
            "Epoch 4/10\n",
            " - 5s - loss: 0.0566 - acc: 0.9186 - val_loss: 0.0676 - val_acc: 0.9006\n",
            "Epoch 5/10\n",
            " - 5s - loss: 0.0505 - acc: 0.9281 - val_loss: 0.0635 - val_acc: 0.9087\n",
            "Epoch 6/10\n",
            " - 5s - loss: 0.0464 - acc: 0.9301 - val_loss: 0.0737 - val_acc: 0.9044\n",
            "Epoch 7/10\n",
            " - 5s - loss: 0.0397 - acc: 0.9422 - val_loss: 0.0706 - val_acc: 0.9094\n",
            "Epoch 8/10\n",
            " - 5s - loss: 0.0341 - acc: 0.9511 - val_loss: 0.0716 - val_acc: 0.9094\n",
            "Epoch 9/10\n",
            " - 5s - loss: 0.0278 - acc: 0.9603 - val_loss: 0.0821 - val_acc: 0.9075\n",
            "Epoch 10/10\n",
            " - 5s - loss: 0.0254 - acc: 0.9634 - val_loss: 0.0948 - val_acc: 0.9000\n",
            "1600/1600 [==============================] - 1s 334us/step\n",
            "1000/1000 [==============================] - 0s 224us/step\n",
            "Train on 6399 samples, validate on 1600 samples\n",
            "Epoch 1/10\n",
            " - 5s - loss: 0.1023 - acc: 0.8301 - val_loss: 0.0831 - val_acc: 0.8650\n",
            "Epoch 2/10\n",
            " - 5s - loss: 0.0692 - acc: 0.8923 - val_loss: 0.0708 - val_acc: 0.8925\n",
            "Epoch 3/10\n",
            " - 5s - loss: 0.0613 - acc: 0.9131 - val_loss: 0.0698 - val_acc: 0.8969\n",
            "Epoch 4/10\n",
            " - 5s - loss: 0.0555 - acc: 0.9172 - val_loss: 0.0675 - val_acc: 0.9044\n",
            "Epoch 5/10\n",
            " - 5s - loss: 0.0527 - acc: 0.9223 - val_loss: 0.0658 - val_acc: 0.9012\n",
            "Epoch 6/10\n",
            " - 5s - loss: 0.0458 - acc: 0.9355 - val_loss: 0.0760 - val_acc: 0.8994\n",
            "Epoch 7/10\n",
            " - 5s - loss: 0.0393 - acc: 0.9434 - val_loss: 0.0745 - val_acc: 0.9006\n",
            "Epoch 8/10\n",
            " - 5s - loss: 0.0385 - acc: 0.9450 - val_loss: 0.0796 - val_acc: 0.8912\n",
            "Epoch 9/10\n",
            " - 5s - loss: 0.0290 - acc: 0.9589 - val_loss: 0.0858 - val_acc: 0.9019\n",
            "Epoch 10/10\n",
            " - 5s - loss: 0.0308 - acc: 0.9553 - val_loss: 0.1049 - val_acc: 0.8650\n",
            "1600/1600 [==============================] - 1s 334us/step\n",
            "1000/1000 [==============================] - 0s 230us/step\n",
            "Train on 6399 samples, validate on 1600 samples\n",
            "Epoch 1/10\n",
            " - 5s - loss: 0.1037 - acc: 0.8303 - val_loss: 0.0722 - val_acc: 0.8981\n",
            "Epoch 2/10\n",
            " - 5s - loss: 0.0715 - acc: 0.8915 - val_loss: 0.0653 - val_acc: 0.9050\n",
            "Epoch 3/10\n",
            " - 5s - loss: 0.0640 - acc: 0.9020 - val_loss: 0.0609 - val_acc: 0.9094\n",
            "Epoch 4/10\n",
            " - 5s - loss: 0.0595 - acc: 0.9122 - val_loss: 0.0650 - val_acc: 0.8969\n",
            "Epoch 5/10\n",
            " - 5s - loss: 0.0563 - acc: 0.9156 - val_loss: 0.0582 - val_acc: 0.9131\n",
            "Epoch 6/10\n",
            " - 5s - loss: 0.0486 - acc: 0.9309 - val_loss: 0.0602 - val_acc: 0.9062\n",
            "Epoch 7/10\n",
            " - 5s - loss: 0.0508 - acc: 0.9262 - val_loss: 0.0636 - val_acc: 0.9075\n",
            "Epoch 8/10\n",
            " - 5s - loss: 0.0416 - acc: 0.9389 - val_loss: 0.0631 - val_acc: 0.9144\n",
            "Epoch 9/10\n",
            " - 5s - loss: 0.0350 - acc: 0.9514 - val_loss: 0.0698 - val_acc: 0.9081\n",
            "Epoch 10/10\n",
            " - 5s - loss: 0.0354 - acc: 0.9497 - val_loss: 0.0676 - val_acc: 0.9100\n",
            "1600/1600 [==============================] - 1s 343us/step\n",
            "1000/1000 [==============================] - 0s 226us/step\n",
            "Train on 6400 samples, validate on 1599 samples\n",
            "Epoch 1/10\n",
            " - 5s - loss: 0.1063 - acc: 0.8312 - val_loss: 0.0751 - val_acc: 0.8949\n",
            "Epoch 2/10\n",
            " - 5s - loss: 0.0690 - acc: 0.8962 - val_loss: 0.0694 - val_acc: 0.8993\n",
            "Epoch 3/10\n",
            " - 5s - loss: 0.0604 - acc: 0.9105 - val_loss: 0.0673 - val_acc: 0.9062\n",
            "Epoch 4/10\n",
            " - 5s - loss: 0.0579 - acc: 0.9137 - val_loss: 0.0698 - val_acc: 0.9024\n",
            "Epoch 5/10\n",
            " - 5s - loss: 0.0510 - acc: 0.9237 - val_loss: 0.0765 - val_acc: 0.9006\n",
            "Epoch 6/10\n",
            " - 5s - loss: 0.0468 - acc: 0.9292 - val_loss: 0.0778 - val_acc: 0.9018\n",
            "Epoch 7/10\n",
            " - 5s - loss: 0.0382 - acc: 0.9439 - val_loss: 0.0760 - val_acc: 0.9024\n",
            "Epoch 8/10\n",
            " - 5s - loss: 0.0330 - acc: 0.9531 - val_loss: 0.0996 - val_acc: 0.8862\n",
            "Epoch 9/10\n",
            " - 5s - loss: 0.0310 - acc: 0.9541 - val_loss: 0.0989 - val_acc: 0.8924\n",
            "Epoch 10/10\n",
            " - 5s - loss: 0.0240 - acc: 0.9642 - val_loss: 0.1308 - val_acc: 0.8912\n",
            "1599/1599 [==============================] - 1s 331us/step\n",
            "1000/1000 [==============================] - 0s 236us/step\n"
          ],
          "name": "stdout"
        }
      ]
    },
    {
      "cell_type": "code",
      "metadata": {
        "id": "Vo1Ec10_FbH4",
        "colab_type": "code",
        "colab": {
          "base_uri": "https://localhost:8080/",
          "height": 101
        },
        "outputId": "5b882dde-49c7-41c5-c63e-c4119df3f574"
      },
      "source": [
        "atten_scores \n"
      ],
      "execution_count": 49,
      "outputs": [
        {
          "output_type": "execute_result",
          "data": {
            "text/plain": [
              "[0.8544458238794469,\n",
              " 0.8179910189943436,\n",
              " 0.8090654149843872,\n",
              " 0.8487867499389634,\n",
              " 0.8026430030643514]"
            ]
          },
          "metadata": {
            "tags": []
          },
          "execution_count": 49
        }
      ]
    },
    {
      "cell_type": "markdown",
      "metadata": {
        "id": "WlFNurr4T1rh",
        "colab_type": "text"
      },
      "source": [
        "##TCN"
      ]
    },
    {
      "cell_type": "code",
      "metadata": {
        "id": "xKtfxHFBT2wB",
        "colab_type": "code",
        "colab": {
          "base_uri": "https://localhost:8080/",
          "height": 1000
        },
        "outputId": "72057caa-83f7-4e12-a2c6-4b12ff15613f"
      },
      "source": [
        "kfold = StratifiedKFold(n_splits=5, shuffle=False)\n",
        "tcn_scores = []\n",
        "tcn_test=[]\n",
        "for train, val in kfold.split(sequences_matrix, labels):\n",
        "  model=model_tcn(embeddings)\n",
        "  \n",
        "  model.fit(sequences_matrix[train], labels[train],batch_size=64,epochs=10,verbose=2,\n",
        "            validation_data=(sequences_matrix[val],labels[val]),callbacks=[clr,])\n",
        "  y_pred = model.predict(sequences_matrix[val], batch_size=64, verbose=1)\n",
        "\n",
        "  tcn_test.append(model.predict(X_test_sequences, batch_size=64, verbose=1).ravel())\n",
        "\n",
        "  y_pred = (y_pred > 0.5)\n",
        "  f1=f1_score(labels[val], y_pred, average='macro')\n",
        "  tcn_scores.append(f1)\n",
        "  keras.backend.clear_session()"
      ],
      "execution_count": 50,
      "outputs": [
        {
          "output_type": "stream",
          "text": [
            "Train on 6399 samples, validate on 1600 samples\n",
            "Epoch 1/10\n",
            " - 4s - loss: 0.1301 - acc: 0.8006 - val_loss: 0.1260 - val_acc: 0.8013\n",
            "Epoch 2/10\n",
            " - 2s - loss: 0.1090 - acc: 0.8140 - val_loss: 0.0818 - val_acc: 0.8819\n",
            "Epoch 3/10\n",
            " - 2s - loss: 0.0823 - acc: 0.8772 - val_loss: 0.0734 - val_acc: 0.8994\n",
            "Epoch 4/10\n",
            " - 2s - loss: 0.0738 - acc: 0.8937 - val_loss: 0.0709 - val_acc: 0.9069\n",
            "Epoch 5/10\n",
            " - 2s - loss: 0.0672 - acc: 0.9026 - val_loss: 0.0630 - val_acc: 0.9081\n",
            "Epoch 6/10\n",
            " - 2s - loss: 0.0645 - acc: 0.9089 - val_loss: 0.0682 - val_acc: 0.9094\n",
            "Epoch 7/10\n",
            " - 2s - loss: 0.0638 - acc: 0.9111 - val_loss: 0.0618 - val_acc: 0.9150\n",
            "Epoch 8/10\n",
            " - 2s - loss: 0.0598 - acc: 0.9136 - val_loss: 0.0705 - val_acc: 0.8925\n",
            "Epoch 9/10\n",
            " - 2s - loss: 0.0576 - acc: 0.9181 - val_loss: 0.0594 - val_acc: 0.9100\n",
            "Epoch 10/10\n",
            " - 2s - loss: 0.0544 - acc: 0.9197 - val_loss: 0.0597 - val_acc: 0.9137\n",
            "1600/1600 [==============================] - 0s 249us/step\n",
            "1000/1000 [==============================] - 0s 320us/step\n",
            "Train on 6399 samples, validate on 1600 samples\n",
            "Epoch 1/10\n",
            " - 3s - loss: 0.1311 - acc: 0.7878 - val_loss: 0.1004 - val_acc: 0.8013\n",
            "Epoch 2/10\n",
            " - 2s - loss: 0.0903 - acc: 0.8422 - val_loss: 0.0765 - val_acc: 0.8931\n",
            "Epoch 3/10\n",
            " - 2s - loss: 0.0717 - acc: 0.8953 - val_loss: 0.0676 - val_acc: 0.9038\n",
            "Epoch 4/10\n",
            " - 2s - loss: 0.0648 - acc: 0.9111 - val_loss: 0.0630 - val_acc: 0.9056\n",
            "Epoch 5/10\n",
            " - 2s - loss: 0.0601 - acc: 0.9194 - val_loss: 0.0636 - val_acc: 0.9106\n",
            "Epoch 6/10\n",
            " - 2s - loss: 0.0562 - acc: 0.9203 - val_loss: 0.0739 - val_acc: 0.9087\n",
            "Epoch 7/10\n",
            " - 2s - loss: 0.0566 - acc: 0.9245 - val_loss: 0.0685 - val_acc: 0.9094\n",
            "Epoch 8/10\n",
            " - 2s - loss: 0.0505 - acc: 0.9284 - val_loss: 0.0616 - val_acc: 0.9100\n",
            "Epoch 9/10\n",
            " - 2s - loss: 0.0480 - acc: 0.9333 - val_loss: 0.0654 - val_acc: 0.8962\n",
            "Epoch 10/10\n",
            " - 2s - loss: 0.0446 - acc: 0.9336 - val_loss: 0.0720 - val_acc: 0.9137\n",
            "1600/1600 [==============================] - 0s 234us/step\n",
            "1000/1000 [==============================] - 0s 95us/step\n",
            "Train on 6399 samples, validate on 1600 samples\n",
            "Epoch 1/10\n",
            " - 3s - loss: 0.1319 - acc: 0.8008 - val_loss: 0.1264 - val_acc: 0.8013\n",
            "Epoch 2/10\n",
            " - 2s - loss: 0.1211 - acc: 0.8023 - val_loss: 0.0952 - val_acc: 0.8350\n",
            "Epoch 3/10\n",
            " - 2s - loss: 0.0926 - acc: 0.8489 - val_loss: 0.0789 - val_acc: 0.8812\n",
            "Epoch 4/10\n",
            " - 2s - loss: 0.0775 - acc: 0.8864 - val_loss: 0.0714 - val_acc: 0.8944\n",
            "Epoch 5/10\n",
            " - 2s - loss: 0.0700 - acc: 0.8983 - val_loss: 0.0745 - val_acc: 0.8881\n",
            "Epoch 6/10\n",
            " - 2s - loss: 0.0663 - acc: 0.9092 - val_loss: 0.0742 - val_acc: 0.9012\n",
            "Epoch 7/10\n",
            " - 2s - loss: 0.0618 - acc: 0.9169 - val_loss: 0.0734 - val_acc: 0.9006\n",
            "Epoch 8/10\n",
            " - 2s - loss: 0.0611 - acc: 0.9173 - val_loss: 0.0701 - val_acc: 0.9006\n",
            "Epoch 9/10\n",
            " - 2s - loss: 0.0564 - acc: 0.9247 - val_loss: 0.0677 - val_acc: 0.9050\n",
            "Epoch 10/10\n",
            " - 2s - loss: 0.0545 - acc: 0.9241 - val_loss: 0.0724 - val_acc: 0.9056\n",
            "1600/1600 [==============================] - 0s 238us/step\n",
            "1000/1000 [==============================] - 0s 92us/step\n",
            "Train on 6399 samples, validate on 1600 samples\n",
            "Epoch 1/10\n",
            " - 3s - loss: 0.1313 - acc: 0.7939 - val_loss: 0.1241 - val_acc: 0.8013\n",
            "Epoch 2/10\n",
            " - 2s - loss: 0.1234 - acc: 0.8001 - val_loss: 0.1160 - val_acc: 0.8013\n",
            "Epoch 3/10\n",
            " - 2s - loss: 0.1027 - acc: 0.8251 - val_loss: 0.0802 - val_acc: 0.8956\n",
            "Epoch 4/10\n",
            " - 2s - loss: 0.0825 - acc: 0.8726 - val_loss: 0.0761 - val_acc: 0.9062\n",
            "Epoch 5/10\n",
            " - 2s - loss: 0.0756 - acc: 0.8942 - val_loss: 0.0720 - val_acc: 0.9056\n",
            "Epoch 6/10\n",
            " - 2s - loss: 0.0737 - acc: 0.8969 - val_loss: 0.0707 - val_acc: 0.9069\n",
            "Epoch 7/10\n",
            " - 2s - loss: 0.0769 - acc: 0.8956 - val_loss: 0.0742 - val_acc: 0.8919\n",
            "Epoch 8/10\n",
            " - 2s - loss: 0.0682 - acc: 0.9030 - val_loss: 0.0689 - val_acc: 0.9106\n",
            "Epoch 9/10\n",
            " - 2s - loss: 0.0642 - acc: 0.9144 - val_loss: 0.0674 - val_acc: 0.9019\n",
            "Epoch 10/10\n",
            " - 2s - loss: 0.0628 - acc: 0.9128 - val_loss: 0.0629 - val_acc: 0.9075\n",
            "1600/1600 [==============================] - 0s 230us/step\n",
            "1000/1000 [==============================] - 0s 97us/step\n",
            "Train on 6400 samples, validate on 1599 samples\n",
            "Epoch 1/10\n",
            " - 3s - loss: 0.1303 - acc: 0.7977 - val_loss: 0.1210 - val_acc: 0.8018\n",
            "Epoch 2/10\n",
            " - 2s - loss: 0.1101 - acc: 0.8142 - val_loss: 0.0895 - val_acc: 0.8474\n",
            "Epoch 3/10\n",
            " - 2s - loss: 0.0836 - acc: 0.8686 - val_loss: 0.0764 - val_acc: 0.8887\n",
            "Epoch 4/10\n",
            " - 2s - loss: 0.0708 - acc: 0.9019 - val_loss: 0.0756 - val_acc: 0.8849\n",
            "Epoch 5/10\n",
            " - 2s - loss: 0.0650 - acc: 0.9072 - val_loss: 0.0732 - val_acc: 0.8962\n",
            "Epoch 6/10\n",
            " - 2s - loss: 0.0622 - acc: 0.9145 - val_loss: 0.0797 - val_acc: 0.8968\n",
            "Epoch 7/10\n",
            " - 2s - loss: 0.0586 - acc: 0.9178 - val_loss: 0.0761 - val_acc: 0.8993\n",
            "Epoch 8/10\n",
            " - 2s - loss: 0.0576 - acc: 0.9216 - val_loss: 0.0795 - val_acc: 0.9043\n",
            "Epoch 9/10\n",
            " - 2s - loss: 0.0568 - acc: 0.9228 - val_loss: 0.0763 - val_acc: 0.9018\n",
            "Epoch 10/10\n",
            " - 2s - loss: 0.0549 - acc: 0.9252 - val_loss: 0.0703 - val_acc: 0.9081\n",
            "1599/1599 [==============================] - 0s 230us/step\n",
            "1000/1000 [==============================] - 0s 96us/step\n"
          ],
          "name": "stdout"
        }
      ]
    },
    {
      "cell_type": "markdown",
      "metadata": {
        "id": "Tr_J6FWTCYXB",
        "colab_type": "text"
      },
      "source": [
        "##KIM"
      ]
    },
    {
      "cell_type": "code",
      "metadata": {
        "id": "PgmUF8liCa4M",
        "colab_type": "code",
        "colab": {
          "base_uri": "https://localhost:8080/",
          "height": 1000
        },
        "outputId": "02a04fd2-872b-4dc5-ec5a-b5aac8c222f4"
      },
      "source": [
        "kfold = StratifiedKFold(n_splits=5, shuffle=False)\n",
        "kim_scores = []\n",
        "kim_test=[]\n",
        "for train, val in kfold.split(sequences_matrix, labels):\n",
        "  model=model_kim()\n",
        "  \n",
        "  model.fit(sequences_matrix[train], labels[train],batch_size=64,epochs=10,verbose=2,\n",
        "            validation_data=(sequences_matrix[val],labels[val]),callbacks=[clr,])\n",
        "  y_pred = model.predict(sequences_matrix[val], batch_size=64, verbose=1)\n",
        "\n",
        "  kim_test.append(model.predict(X_test_sequences, batch_size=64, verbose=1).ravel())\n",
        "\n",
        "  y_pred = (y_pred > 0.5)\n",
        "  f1=f1_score(labels[val], y_pred, average='macro')\n",
        "  kim_scores.append(f1)\n",
        "  keras.backend.clear_session()"
      ],
      "execution_count": 51,
      "outputs": [
        {
          "output_type": "stream",
          "text": [
            "Train on 6399 samples, validate on 1600 samples\n",
            "Epoch 1/10\n",
            " - 3s - loss: 0.1854 - acc: 0.7281 - val_loss: 0.0803 - val_acc: 0.8638\n",
            "Epoch 2/10\n",
            " - 2s - loss: 0.0903 - acc: 0.8569 - val_loss: 0.1061 - val_acc: 0.8075\n",
            "Epoch 3/10\n",
            " - 2s - loss: 0.0733 - acc: 0.8928 - val_loss: 0.0667 - val_acc: 0.9038\n",
            "Epoch 4/10\n",
            " - 2s - loss: 0.0632 - acc: 0.9065 - val_loss: 0.0726 - val_acc: 0.8900\n",
            "Epoch 5/10\n",
            " - 2s - loss: 0.0544 - acc: 0.9165 - val_loss: 0.0795 - val_acc: 0.8888\n",
            "Epoch 6/10\n",
            " - 2s - loss: 0.0462 - acc: 0.9301 - val_loss: 0.0748 - val_acc: 0.8981\n",
            "Epoch 7/10\n",
            " - 2s - loss: 0.0499 - acc: 0.9250 - val_loss: 0.0643 - val_acc: 0.9075\n",
            "Epoch 8/10\n",
            " - 2s - loss: 0.0483 - acc: 0.9259 - val_loss: 0.0969 - val_acc: 0.8875\n",
            "Epoch 9/10\n",
            " - 2s - loss: 0.0393 - acc: 0.9436 - val_loss: 0.0716 - val_acc: 0.9094\n",
            "Epoch 10/10\n",
            " - 2s - loss: 0.0337 - acc: 0.9545 - val_loss: 0.0662 - val_acc: 0.9137\n",
            "1600/1600 [==============================] - 0s 215us/step\n",
            "1000/1000 [==============================] - 0s 100us/step\n",
            "Train on 6399 samples, validate on 1600 samples\n",
            "Epoch 1/10\n",
            " - 3s - loss: 0.1871 - acc: 0.7171 - val_loss: 0.0841 - val_acc: 0.8519\n",
            "Epoch 2/10\n",
            " - 2s - loss: 0.0965 - acc: 0.8509 - val_loss: 0.0847 - val_acc: 0.8700\n",
            "Epoch 3/10\n",
            " - 2s - loss: 0.0761 - acc: 0.8851 - val_loss: 0.0642 - val_acc: 0.9044\n",
            "Epoch 4/10\n",
            " - 2s - loss: 0.0611 - acc: 0.9100 - val_loss: 0.0665 - val_acc: 0.8956\n",
            "Epoch 5/10\n",
            " - 2s - loss: 0.0537 - acc: 0.9198 - val_loss: 0.0779 - val_acc: 0.8944\n",
            "Epoch 6/10\n",
            " - 2s - loss: 0.0449 - acc: 0.9331 - val_loss: 0.0840 - val_acc: 0.8588\n",
            "Epoch 7/10\n",
            " - 2s - loss: 0.0424 - acc: 0.9394 - val_loss: 0.1081 - val_acc: 0.8875\n",
            "Epoch 8/10\n",
            " - 2s - loss: 0.0360 - acc: 0.9483 - val_loss: 0.1150 - val_acc: 0.8844\n",
            "Epoch 9/10\n",
            " - 2s - loss: 0.0301 - acc: 0.9583 - val_loss: 0.1363 - val_acc: 0.8831\n",
            "Epoch 10/10\n",
            " - 2s - loss: 0.0301 - acc: 0.9578 - val_loss: 0.0844 - val_acc: 0.8988\n",
            "1600/1600 [==============================] - 0s 221us/step\n",
            "1000/1000 [==============================] - 0s 80us/step\n",
            "Train on 6399 samples, validate on 1600 samples\n",
            "Epoch 1/10\n",
            " - 3s - loss: 0.1633 - acc: 0.7278 - val_loss: 0.0861 - val_acc: 0.8444\n",
            "Epoch 2/10\n",
            " - 2s - loss: 0.0850 - acc: 0.8631 - val_loss: 0.0883 - val_acc: 0.8506\n",
            "Epoch 3/10\n",
            " - 2s - loss: 0.0701 - acc: 0.8940 - val_loss: 0.0728 - val_acc: 0.8850\n",
            "Epoch 4/10\n",
            " - 2s - loss: 0.0578 - acc: 0.9101 - val_loss: 0.0868 - val_acc: 0.8744\n",
            "Epoch 5/10\n",
            " - 2s - loss: 0.0504 - acc: 0.9270 - val_loss: 0.0714 - val_acc: 0.8969\n",
            "Epoch 6/10\n",
            " - 2s - loss: 0.0483 - acc: 0.9294 - val_loss: 0.0873 - val_acc: 0.8706\n",
            "Epoch 7/10\n",
            " - 2s - loss: 0.0386 - acc: 0.9455 - val_loss: 0.0943 - val_acc: 0.8869\n",
            "Epoch 8/10\n",
            " - 2s - loss: 0.0325 - acc: 0.9516 - val_loss: 0.0793 - val_acc: 0.8975\n",
            "Epoch 9/10\n",
            " - 2s - loss: 0.0293 - acc: 0.9564 - val_loss: 0.0765 - val_acc: 0.9019\n",
            "Epoch 10/10\n",
            " - 2s - loss: 0.0283 - acc: 0.9631 - val_loss: 0.0829 - val_acc: 0.8856\n",
            "1600/1600 [==============================] - 0s 220us/step\n",
            "1000/1000 [==============================] - 0s 75us/step\n",
            "Train on 6399 samples, validate on 1600 samples\n",
            "Epoch 1/10\n",
            " - 3s - loss: 0.1909 - acc: 0.7165 - val_loss: 0.0813 - val_acc: 0.8644\n",
            "Epoch 2/10\n",
            " - 2s - loss: 0.0967 - acc: 0.8481 - val_loss: 0.0824 - val_acc: 0.8606\n",
            "Epoch 3/10\n",
            " - 2s - loss: 0.0752 - acc: 0.8834 - val_loss: 0.0729 - val_acc: 0.8919\n",
            "Epoch 4/10\n",
            " - 2s - loss: 0.0663 - acc: 0.9033 - val_loss: 0.0650 - val_acc: 0.9069\n",
            "Epoch 5/10\n",
            " - 2s - loss: 0.0545 - acc: 0.9208 - val_loss: 0.0659 - val_acc: 0.9075\n",
            "Epoch 6/10\n",
            " - 2s - loss: 0.0449 - acc: 0.9350 - val_loss: 0.0642 - val_acc: 0.9125\n",
            "Epoch 7/10\n",
            " - 2s - loss: 0.0401 - acc: 0.9423 - val_loss: 0.0662 - val_acc: 0.8981\n",
            "Epoch 8/10\n",
            " - 2s - loss: 0.0377 - acc: 0.9456 - val_loss: 0.0744 - val_acc: 0.8931\n",
            "Epoch 9/10\n",
            " - 2s - loss: 0.0326 - acc: 0.9536 - val_loss: 0.0769 - val_acc: 0.9062\n",
            "Epoch 10/10\n",
            " - 2s - loss: 0.0284 - acc: 0.9583 - val_loss: 0.1016 - val_acc: 0.8956\n",
            "1600/1600 [==============================] - 0s 210us/step\n",
            "1000/1000 [==============================] - 0s 80us/step\n",
            "Train on 6400 samples, validate on 1599 samples\n",
            "Epoch 1/10\n",
            " - 3s - loss: 0.1581 - acc: 0.7372 - val_loss: 0.0996 - val_acc: 0.8299\n",
            "Epoch 2/10\n",
            " - 2s - loss: 0.0865 - acc: 0.8656 - val_loss: 0.0895 - val_acc: 0.8643\n",
            "Epoch 3/10\n",
            " - 2s - loss: 0.0668 - acc: 0.8994 - val_loss: 0.0969 - val_acc: 0.8668\n",
            "Epoch 4/10\n",
            " - 2s - loss: 0.0570 - acc: 0.9122 - val_loss: 0.0675 - val_acc: 0.8931\n",
            "Epoch 5/10\n",
            " - 2s - loss: 0.0479 - acc: 0.9252 - val_loss: 0.0714 - val_acc: 0.8968\n",
            "Epoch 6/10\n",
            " - 2s - loss: 0.0452 - acc: 0.9331 - val_loss: 0.0776 - val_acc: 0.8899\n",
            "Epoch 7/10\n",
            " - 2s - loss: 0.0372 - acc: 0.9453 - val_loss: 0.0923 - val_acc: 0.8893\n",
            "Epoch 8/10\n",
            " - 2s - loss: 0.0350 - acc: 0.9491 - val_loss: 0.0792 - val_acc: 0.8924\n",
            "Epoch 9/10\n",
            " - 2s - loss: 0.0270 - acc: 0.9623 - val_loss: 0.0855 - val_acc: 0.8931\n",
            "Epoch 10/10\n",
            " - 2s - loss: 0.0268 - acc: 0.9602 - val_loss: 0.0991 - val_acc: 0.8924\n",
            "1599/1599 [==============================] - 0s 204us/step\n",
            "1000/1000 [==============================] - 0s 77us/step\n"
          ],
          "name": "stdout"
        }
      ]
    },
    {
      "cell_type": "markdown",
      "metadata": {
        "id": "4bXDiFxJH5Ny",
        "colab_type": "text"
      },
      "source": [
        "#**Result**"
      ]
    },
    {
      "cell_type": "markdown",
      "metadata": {
        "id": "vXd8VkdPhAq2",
        "colab_type": "text"
      },
      "source": [
        "# Result"
      ]
    },
    {
      "cell_type": "code",
      "metadata": {
        "id": "AnC41n_HRKQA",
        "colab_type": "code",
        "colab": {}
      },
      "source": [
        "gru_scores=np.average(np.array(gru_scores))\n",
        "atten_scores=np.average(np.array(atten_scores))\n",
        "tcn_scores=np.average(np.array(tcn_scores))\n",
        "kim_scores=np.average(np.array(kim_scores))"
      ],
      "execution_count": 0,
      "outputs": []
    },
    {
      "cell_type": "code",
      "metadata": {
        "id": "jBp341Qog_uv",
        "colab_type": "code",
        "colab": {
          "base_uri": "https://localhost:8080/",
          "height": 134
        },
        "outputId": "e36ede21-3423-4d55-c511-842895c9a29a"
      },
      "source": [
        "print('f1 score of count vec' ,cv_score)\n",
        "print('f1 score of word tfidf' ,tfw_score)\n",
        "print('f1 score of char tfidf' ,tfc_score)\n",
        "\n",
        "print('f1 score of RNN' ,gru_scores)\n",
        "print('f1 score of gated attention',atten_scores )\n",
        "print('f1 score of tcn',tcn_scores)\n",
        "print('f1 score of kim',kim_scores)\n"
      ],
      "execution_count": 53,
      "outputs": [
        {
          "output_type": "stream",
          "text": [
            "f1 score of count vec 0.8001269271333449\n",
            "f1 score of word tfidf 0.7910694857114109\n",
            "f1 score of char tfidf 0.8506830624955339\n",
            "f1 score of RNN 0.8479208012864016\n",
            "f1 score of gated attention 0.8265864021722985\n",
            "f1 score of tcn 0.8431063543492273\n",
            "f1 score of kim 0.8193174650907015\n"
          ],
          "name": "stdout"
        }
      ]
    },
    {
      "cell_type": "code",
      "metadata": {
        "id": "ipijYwvjJPyx",
        "colab_type": "code",
        "colab": {}
      },
      "source": [
        "kim_test_avg=np.mean(np.array(kim_test),axis=0)\n",
        "gru_test_avg=np.mean(np.array(gru_test),axis=0)\n",
        "atten_test_avg=np.mean(np.array(atten_test),axis=0)\n",
        "tcn_test_avg=np.mean(np.array(tcn_test),axis=0)\n"
      ],
      "execution_count": 0,
      "outputs": []
    },
    {
      "cell_type": "code",
      "metadata": {
        "id": "ZZ8CR7s1Qe18",
        "colab_type": "code",
        "outputId": "a2c60202-fa41-44cb-8489-281da6255c41",
        "colab": {
          "base_uri": "https://localhost:8080/",
          "height": 134
        }
      },
      "source": [
        "print(cv_test[5:15].round())\n",
        "print(tfw_test[5:15].round())\n",
        "print(tfc_test[5:15].round())\n",
        "print(gru_test_avg[5:15].round())\n",
        "print(atten_test_avg[5:15].round())\n",
        "print(kim_test_avg[5:15].round())\n",
        "print(tcn_test_avg[5:15].round())"
      ],
      "execution_count": 55,
      "outputs": [
        {
          "output_type": "stream",
          "text": [
            "[1. 0. 1. 1. 0. 1. 0. 1. 0. 0.]\n",
            "[1. 0. 1. 1. 0. 1. 0. 1. 0. 0.]\n",
            "[1. 0. 1. 1. 0. 1. 0. 1. 0. 0.]\n",
            "[1. 0. 1. 1. 0. 1. 0. 1. 0. 0.]\n",
            "[1. 0. 1. 1. 0. 1. 0. 1. 0. 0.]\n",
            "[1. 0. 1. 1. 0. 1. 0. 1. 0. 0.]\n",
            "[1. 0. 1. 1. 0. 1. 0. 1. 0. 0.]\n"
          ],
          "name": "stdout"
        }
      ]
    },
    {
      "cell_type": "markdown",
      "metadata": {
        "id": "DW1OugTMEpZg",
        "colab_type": "text"
      },
      "source": [
        "# Ensemble"
      ]
    },
    {
      "cell_type": "markdown",
      "metadata": {
        "id": "f6VT0aVcUIhm",
        "colab_type": "text"
      },
      "source": [
        "we will choose only those, having f1 greater than 0.7. Once they are selected, we will decode labels, and keep label according to mod"
      ]
    },
    {
      "cell_type": "code",
      "metadata": {
        "id": "6wmQlS5LkZLi",
        "colab_type": "code",
        "outputId": "08a1637a-248a-4da8-94f4-e4b5515ee3ea",
        "colab": {
          "base_uri": "https://localhost:8080/",
          "height": 34
        }
      },
      "source": [
        "wt=gru_scores+atten_scores+cv_score+tfw_score+tfc_score+tcn_scores+kim_scores\n",
        "wt"
      ],
      "execution_count": 56,
      "outputs": [
        {
          "output_type": "execute_result",
          "data": {
            "text/plain": [
              "5.778810498238919"
            ]
          },
          "metadata": {
            "tags": []
          },
          "execution_count": 56
        }
      ]
    },
    {
      "cell_type": "code",
      "metadata": {
        "id": "AkCLYtxOcXCA",
        "colab_type": "code",
        "colab": {}
      },
      "source": [
        "y_test=gru_scores/wt * gru_test_avg + atten_scores/wt * atten_test_avg + cv_score/wt * cv_test + tfw_score/wt *tfw_test + tfc_score/wt *tfc_test +kim_scores/wt * kim_test_avg + tcn_scores/wt *tcn_test_avg"
      ],
      "execution_count": 0,
      "outputs": []
    },
    {
      "cell_type": "code",
      "metadata": {
        "id": "EzRAIebNSpMz",
        "colab_type": "code",
        "outputId": "4e85e620-f152-4639-8dfa-4174444fb7e3",
        "colab": {
          "base_uri": "https://localhost:8080/",
          "height": 34
        }
      },
      "source": [
        "y_test[5:15].round()"
      ],
      "execution_count": 59,
      "outputs": [
        {
          "output_type": "execute_result",
          "data": {
            "text/plain": [
              "array([1., 0., 1., 1., 0., 1., 0., 1., 0., 0.])"
            ]
          },
          "metadata": {
            "tags": []
          },
          "execution_count": 59
        }
      ]
    },
    {
      "cell_type": "code",
      "metadata": {
        "id": "V9Pu0LvuZIf8",
        "colab_type": "code",
        "colab": {}
      },
      "source": [
        "def decode(y_test):\n",
        "  y_test[y_test>0.5]=1\n",
        "  y_test[y_test<0.5]=0\n",
        "  y_test=y_test.astype('int16').ravel()\n",
        "\n",
        "  y_test=le.inverse_transform(y_test)\n",
        "  y_test=pd.DataFrame(y_test,columns=['label'])\n",
        "  y_test=pd.concat([ids, y_test['label']], axis=1)\n",
        "  return y_test"
      ],
      "execution_count": 0,
      "outputs": []
    },
    {
      "cell_type": "code",
      "metadata": {
        "id": "7PgV77IYZRGP",
        "colab_type": "code",
        "outputId": "7febf0c0-879e-40b9-de4a-469f688d554d",
        "colab": {
          "base_uri": "https://localhost:8080/",
          "height": 195
        }
      },
      "source": [
        "y_test=decode(y_test)\n",
        "y_test.head()\n",
        "\n"
      ],
      "execution_count": 61,
      "outputs": [
        {
          "output_type": "execute_result",
          "data": {
            "text/html": [
              "<div>\n",
              "<style scoped>\n",
              "    .dataframe tbody tr th:only-of-type {\n",
              "        vertical-align: middle;\n",
              "    }\n",
              "\n",
              "    .dataframe tbody tr th {\n",
              "        vertical-align: top;\n",
              "    }\n",
              "\n",
              "    .dataframe thead th {\n",
              "        text-align: right;\n",
              "    }\n",
              "</style>\n",
              "<table border=\"1\" class=\"dataframe\">\n",
              "  <thead>\n",
              "    <tr style=\"text-align: right;\">\n",
              "      <th></th>\n",
              "      <th>id</th>\n",
              "      <th>label</th>\n",
              "    </tr>\n",
              "  </thead>\n",
              "  <tbody>\n",
              "    <tr>\n",
              "      <th>0</th>\n",
              "      <td>7001</td>\n",
              "      <td>NOT</td>\n",
              "    </tr>\n",
              "    <tr>\n",
              "      <th>1</th>\n",
              "      <td>7002</td>\n",
              "      <td>NOT</td>\n",
              "    </tr>\n",
              "    <tr>\n",
              "      <th>2</th>\n",
              "      <td>7003</td>\n",
              "      <td>NOT</td>\n",
              "    </tr>\n",
              "    <tr>\n",
              "      <th>3</th>\n",
              "      <td>7004</td>\n",
              "      <td>NOT</td>\n",
              "    </tr>\n",
              "    <tr>\n",
              "      <th>4</th>\n",
              "      <td>7005</td>\n",
              "      <td>NOT</td>\n",
              "    </tr>\n",
              "  </tbody>\n",
              "</table>\n",
              "</div>"
            ],
            "text/plain": [
              "     id label\n",
              "0  7001   NOT\n",
              "1  7002   NOT\n",
              "2  7003   NOT\n",
              "3  7004   NOT\n",
              "4  7005   NOT"
            ]
          },
          "metadata": {
            "tags": []
          },
          "execution_count": 61
        }
      ]
    },
    {
      "cell_type": "code",
      "metadata": {
        "id": "8avMmBQvb_IR",
        "colab_type": "code",
        "colab": {}
      },
      "source": [
        ""
      ],
      "execution_count": 0,
      "outputs": []
    },
    {
      "cell_type": "markdown",
      "metadata": {
        "id": "Dl57zICXM4c6",
        "colab_type": "text"
      },
      "source": [
        "# Submit file"
      ]
    },
    {
      "cell_type": "code",
      "metadata": {
        "id": "3LkCxvtfEnpl",
        "colab_type": "code",
        "colab": {}
      },
      "source": [
        ""
      ],
      "execution_count": 0,
      "outputs": []
    },
    {
      "cell_type": "code",
      "metadata": {
        "id": "GHTCw4_jP_tr",
        "colab_type": "code",
        "colab": {}
      },
      "source": [
        "y_test.to_csv('/content/final.csv',index=False,header=None)\n"
      ],
      "execution_count": 0,
      "outputs": []
    },
    {
      "cell_type": "code",
      "metadata": {
        "id": "2tPo96DUz_EZ",
        "colab_type": "code",
        "colab": {}
      },
      "source": [
        ""
      ],
      "execution_count": 0,
      "outputs": []
    },
    {
      "cell_type": "markdown",
      "metadata": {
        "id": "FwKb7_NBWjAv",
        "colab_type": "text"
      },
      "source": [
        "# Reset"
      ]
    },
    {
      "cell_type": "code",
      "metadata": {
        "id": "R0Xi3s2KWlKi",
        "colab_type": "code",
        "colab": {}
      },
      "source": [
        "# import keras\n",
        "# keras.backend.clear_session()"
      ],
      "execution_count": 0,
      "outputs": []
    },
    {
      "cell_type": "code",
      "metadata": {
        "id": "T39YK5rbQBoT",
        "colab_type": "code",
        "colab": {}
      },
      "source": [
        ""
      ],
      "execution_count": 0,
      "outputs": []
    }
  ]
}