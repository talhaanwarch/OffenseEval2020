{
  "nbformat": 4,
  "nbformat_minor": 0,
  "metadata": {
    "colab": {
      "name": "Danish_crossval.ipynb",
      "provenance": [],
      "collapsed_sections": [
        "FwKb7_NBWjAv"
      ],
      "include_colab_link": true
    },
    "kernelspec": {
      "name": "python3",
      "display_name": "Python 3"
    },
    "accelerator": "GPU"
  },
  "cells": [
    {
      "cell_type": "markdown",
      "metadata": {
        "id": "view-in-github",
        "colab_type": "text"
      },
      "source": [
        "<a href=\"https://colab.research.google.com/github/talhaanwarch/OffenseEval2020/blob/master/submissions/Danish_crossval.ipynb\" target=\"_parent\"><img src=\"https://colab.research.google.com/assets/colab-badge.svg\" alt=\"Open In Colab\"/></a>"
      ]
    },
    {
      "cell_type": "code",
      "metadata": {
        "id": "_uqG7k8lK3xz",
        "colab_type": "code",
        "outputId": "9a7c7e6a-3e4a-44c6-a3c4-4ba68839f14e",
        "colab": {
          "base_uri": "https://localhost:8080/",
          "height": 286
        }
      },
      "source": [
        "!pip install focal-loss\n",
        "!pip install keras-tcn==2.8.3"
      ],
      "execution_count": 1,
      "outputs": [
        {
          "output_type": "stream",
          "text": [
            "Collecting focal-loss\n",
            "  Downloading https://files.pythonhosted.org/packages/66/ed/17450291228192ad8595de4514c8ec28a587697b03c707d12d4af5b7f331/focal_loss-0.0.2-py3-none-any.whl\n",
            "Installing collected packages: focal-loss\n",
            "Successfully installed focal-loss-0.0.2\n",
            "Collecting keras-tcn==2.8.3\n",
            "  Downloading https://files.pythonhosted.org/packages/d4/c4/438c86b27ab11a79cc659d8d6878682c4eb80caa0c0b3d620740cef762f5/keras_tcn-2.8.3-py3-none-any.whl\n",
            "Requirement already satisfied: keras in /usr/local/lib/python3.6/dist-packages (from keras-tcn==2.8.3) (2.2.5)\n",
            "Requirement already satisfied: numpy in /usr/local/lib/python3.6/dist-packages (from keras-tcn==2.8.3) (1.17.5)\n",
            "Requirement already satisfied: six>=1.9.0 in /usr/local/lib/python3.6/dist-packages (from keras->keras-tcn==2.8.3) (1.12.0)\n",
            "Requirement already satisfied: h5py in /usr/local/lib/python3.6/dist-packages (from keras->keras-tcn==2.8.3) (2.8.0)\n",
            "Requirement already satisfied: keras-preprocessing>=1.1.0 in /usr/local/lib/python3.6/dist-packages (from keras->keras-tcn==2.8.3) (1.1.0)\n",
            "Requirement already satisfied: pyyaml in /usr/local/lib/python3.6/dist-packages (from keras->keras-tcn==2.8.3) (3.13)\n",
            "Requirement already satisfied: keras-applications>=1.0.8 in /usr/local/lib/python3.6/dist-packages (from keras->keras-tcn==2.8.3) (1.0.8)\n",
            "Requirement already satisfied: scipy>=0.14 in /usr/local/lib/python3.6/dist-packages (from keras->keras-tcn==2.8.3) (1.4.1)\n",
            "Installing collected packages: keras-tcn\n",
            "Successfully installed keras-tcn-2.8.3\n"
          ],
          "name": "stdout"
        }
      ]
    },
    {
      "cell_type": "code",
      "metadata": {
        "id": "pPexfZvANVks",
        "colab_type": "code",
        "outputId": "e8056a17-6c44-43cb-dcd4-12b370d7512d",
        "colab": {
          "base_uri": "https://localhost:8080/",
          "height": 121
        }
      },
      "source": [
        "from google.colab import drive\n",
        "drive.mount('/content/drive',force_remount=True)"
      ],
      "execution_count": 2,
      "outputs": [
        {
          "output_type": "stream",
          "text": [
            "Go to this URL in a browser: https://accounts.google.com/o/oauth2/auth?client_id=947318989803-6bn6qk8qdgf4n4g3pfee6491hc0brc4i.apps.googleusercontent.com&redirect_uri=urn%3aietf%3awg%3aoauth%3a2.0%3aoob&response_type=code&scope=email%20https%3a%2f%2fwww.googleapis.com%2fauth%2fdocs.test%20https%3a%2f%2fwww.googleapis.com%2fauth%2fdrive%20https%3a%2f%2fwww.googleapis.com%2fauth%2fdrive.photos.readonly%20https%3a%2f%2fwww.googleapis.com%2fauth%2fpeopleapi.readonly\n",
            "\n",
            "Enter your authorization code:\n",
            "··········\n",
            "Mounted at /content/drive\n"
          ],
          "name": "stdout"
        }
      ]
    },
    {
      "cell_type": "markdown",
      "metadata": {
        "id": "G6Q3msMuLDpE",
        "colab_type": "text"
      },
      "source": [
        "# Import lib"
      ]
    },
    {
      "cell_type": "code",
      "metadata": {
        "id": "MpTHlh_QLDL7",
        "colab_type": "code",
        "outputId": "e18eef78-5e64-44db-b9e6-1ba88f249b44",
        "colab": {
          "base_uri": "https://localhost:8080/",
          "height": 79
        }
      },
      "source": [
        "import pandas as pd\n",
        "from sklearn.preprocessing import LabelEncoder\n",
        "from keras.models import Sequential,Model\n",
        "from keras.layers import Embedding,CuDNNGRU,CuDNNLSTM,Dense,Dropout,Bidirectional,BatchNormalization,GlobalMaxPooling1D,Flatten, GlobalAveragePooling1D, MaxPooling1D,SpatialDropout1D,Input,Activation,concatenate,Conv1D\n",
        "from keras.optimizers import RMSprop,Adam,Adadelta\n",
        "from keras.initializers import Constant\n",
        "from sklearn.utils import class_weight\n",
        "from sklearn.metrics import classification_report,f1_score\n",
        "import keras\n",
        "import collections\n",
        "import numpy as np\n",
        "from focal_loss import BinaryFocalLoss\n",
        "from sklearn.model_selection import StratifiedKFold\n",
        "from sklearn.model_selection import GridSearchCV\n",
        "from sklearn.linear_model import LogisticRegression\n",
        "from sklearn.feature_extraction.text import CountVectorizer\n",
        "from sklearn.pipeline import make_pipeline\n",
        "from keras import backend as K\n",
        "import tensorflow as tf\n",
        "tf.logging.set_verbosity(tf.logging.ERROR)\n"
      ],
      "execution_count": 3,
      "outputs": [
        {
          "output_type": "stream",
          "text": [
            "Using TensorFlow backend.\n"
          ],
          "name": "stderr"
        },
        {
          "output_type": "display_data",
          "data": {
            "text/html": [
              "<p style=\"color: red;\">\n",
              "The default version of TensorFlow in Colab will soon switch to TensorFlow 2.x.<br>\n",
              "We recommend you <a href=\"https://www.tensorflow.org/guide/migrate\" target=\"_blank\">upgrade</a> now \n",
              "or ensure your notebook will continue to use TensorFlow 1.x via the <code>%tensorflow_version 1.x</code> magic:\n",
              "<a href=\"https://colab.research.google.com/notebooks/tensorflow_version.ipynb\" target=\"_blank\">more info</a>.</p>\n"
            ],
            "text/plain": [
              "<IPython.core.display.HTML object>"
            ]
          },
          "metadata": {
            "tags": []
          }
        }
      ]
    },
    {
      "cell_type": "markdown",
      "metadata": {
        "id": "Udk8qWz-K4cx",
        "colab_type": "text"
      },
      "source": [
        "# Load data"
      ]
    },
    {
      "cell_type": "code",
      "metadata": {
        "id": "52k7345EK6kb",
        "colab_type": "code",
        "outputId": "27f375b6-6fb0-41a8-e623-8e2b680c3d50",
        "colab": {
          "base_uri": "https://localhost:8080/",
          "height": 34
        }
      },
      "source": [
        "cd /content/drive/My Drive/dataset/OffenseEval2020/data/Danish/"
      ],
      "execution_count": 4,
      "outputs": [
        {
          "output_type": "stream",
          "text": [
            "/content/drive/My Drive/dataset/OffenseEval2020/data/Danish\n"
          ],
          "name": "stdout"
        }
      ]
    },
    {
      "cell_type": "code",
      "metadata": {
        "id": "MnI2RvjGK_Vw",
        "colab_type": "code",
        "outputId": "675fae67-fbed-4af6-dc7c-524d4cc9aaf9",
        "colab": {
          "base_uri": "https://localhost:8080/",
          "height": 50
        }
      },
      "source": [
        "ls"
      ],
      "execution_count": 5,
      "outputs": [
        {
          "output_type": "stream",
          "text": [
            "cc.da.300.vec     offenseval-da-test-v1-nolabels.tsv\n",
            "cc.da.300.vec.gz  offenseval-da-training-v1.tsv\n"
          ],
          "name": "stdout"
        }
      ]
    },
    {
      "cell_type": "code",
      "metadata": {
        "id": "Jnd4B-_5LApL",
        "colab_type": "code",
        "outputId": "8f74c9bb-29d0-4154-9a4c-b21a6c57788f",
        "colab": {
          "base_uri": "https://localhost:8080/",
          "height": 212
        }
      },
      "source": [
        "train=pd.read_csv( 'offenseval-da-training-v1.tsv',sep=\"\\t\")\n",
        "train.drop(train.tail(n=1).index,inplace=True)\n",
        "train[\"tweet\"]= train[\"tweet\"].str.replace('@USER', \"\") \n",
        "train['tweet']=train['tweet'].str.replace('\\d+', '')\n",
        "train['tweet']=train['tweet'].str.replace('URL', '')\n",
        "train[\"tweet\"]= train[\"tweet\"].str.lower()\n",
        "train=train.sample(frac=1)\n",
        "print(len(train))\n",
        "train.head()"
      ],
      "execution_count": 6,
      "outputs": [
        {
          "output_type": "stream",
          "text": [
            "2960\n"
          ],
          "name": "stdout"
        },
        {
          "output_type": "execute_result",
          "data": {
            "text/html": [
              "<div>\n",
              "<style scoped>\n",
              "    .dataframe tbody tr th:only-of-type {\n",
              "        vertical-align: middle;\n",
              "    }\n",
              "\n",
              "    .dataframe tbody tr th {\n",
              "        vertical-align: top;\n",
              "    }\n",
              "\n",
              "    .dataframe thead th {\n",
              "        text-align: right;\n",
              "    }\n",
              "</style>\n",
              "<table border=\"1\" class=\"dataframe\">\n",
              "  <thead>\n",
              "    <tr style=\"text-align: right;\">\n",
              "      <th></th>\n",
              "      <th>id</th>\n",
              "      <th>tweet</th>\n",
              "      <th>subtask_a</th>\n",
              "    </tr>\n",
              "  </thead>\n",
              "  <tbody>\n",
              "    <tr>\n",
              "      <th>1932</th>\n",
              "      <td>2659</td>\n",
              "      <td>but....boobs</td>\n",
              "      <td>NOT</td>\n",
              "    </tr>\n",
              "    <tr>\n",
              "      <th>899</th>\n",
              "      <td>1570</td>\n",
              "      <td>vi taler dog bedre jysk end de ovennævnte land...</td>\n",
              "      <td>NOT</td>\n",
              "    </tr>\n",
              "    <tr>\n",
              "      <th>172</th>\n",
              "      <td>2556</td>\n",
              "      <td>jeg er ikke specielt meget royalist, for ikke ...</td>\n",
              "      <td>NOT</td>\n",
              "    </tr>\n",
              "    <tr>\n",
              "      <th>228</th>\n",
              "      <td>875</td>\n",
              "      <td>jeg havde umiddelbart tænkt lørdag formiddag/m...</td>\n",
              "      <td>OFF</td>\n",
              "    </tr>\n",
              "    <tr>\n",
              "      <th>998</th>\n",
              "      <td>2920</td>\n",
              "      <td>jeg ser det nu ligesom godwin's law. hvis du h...</td>\n",
              "      <td>NOT</td>\n",
              "    </tr>\n",
              "  </tbody>\n",
              "</table>\n",
              "</div>"
            ],
            "text/plain": [
              "        id                                              tweet subtask_a\n",
              "1932  2659                                       but....boobs       NOT\n",
              "899   1570  vi taler dog bedre jysk end de ovennævnte land...       NOT\n",
              "172   2556  jeg er ikke specielt meget royalist, for ikke ...       NOT\n",
              "228    875  jeg havde umiddelbart tænkt lørdag formiddag/m...       OFF\n",
              "998   2920  jeg ser det nu ligesom godwin's law. hvis du h...       NOT"
            ]
          },
          "metadata": {
            "tags": []
          },
          "execution_count": 6
        }
      ]
    },
    {
      "cell_type": "code",
      "metadata": {
        "id": "JdwHh_q_LLus",
        "colab_type": "code",
        "outputId": "c0989524-1578-4f37-a25c-cacc5b3aee78",
        "colab": {
          "base_uri": "https://localhost:8080/",
          "height": 118
        }
      },
      "source": [
        "test=pd.read_csv( 'offenseval-da-test-v1-nolabels.tsv',sep='\\t')\n",
        "test[\"tweet\"]= test[\"tweet   subtask_a\"].str.replace('@USER', \"\") \n",
        "test['tweet']=test['tweet'].str.replace('\\d+', '')\n",
        "test['tweet']=test['tweet'].str.replace('URL', '')\n",
        "test['tweet']=test['tweet'].str.lower()\n",
        "ids=test['id']\n",
        "test=test['tweet']\n",
        "test.head()"
      ],
      "execution_count": 7,
      "outputs": [
        {
          "output_type": "execute_result",
          "data": {
            "text/plain": [
              "0    der er syriske \"flygtninge\" som rejser til ira...\n",
              "1                               danmark = vitryssland?\n",
              "2    ja tvangsfjernelser af børn på urigtige oplysn...\n",
              "3    han kan ikke svensk og forventer et job. hvis ...\n",
              "4                                    ned med svensken!\n",
              "Name: tweet, dtype: object"
            ]
          },
          "metadata": {
            "tags": []
          },
          "execution_count": 7
        }
      ]
    },
    {
      "cell_type": "markdown",
      "metadata": {
        "id": "YUFczyikLeYO",
        "colab_type": "text"
      },
      "source": [
        "#Label Encoding"
      ]
    },
    {
      "cell_type": "code",
      "metadata": {
        "id": "CFPv0_zdLnlS",
        "colab_type": "code",
        "colab": {}
      },
      "source": [
        "labels=train['subtask_a']\n",
        "train=train['tweet']"
      ],
      "execution_count": 0,
      "outputs": []
    },
    {
      "cell_type": "code",
      "metadata": {
        "id": "w9PjbFwJLiNA",
        "colab_type": "code",
        "outputId": "d96c6cc2-0341-4d7c-87d6-9415df17bb46",
        "colab": {
          "base_uri": "https://localhost:8080/",
          "height": 34
        }
      },
      "source": [
        "le=LabelEncoder()\n",
        "labels=le.fit_transform(labels)\n",
        "print(len(labels))"
      ],
      "execution_count": 9,
      "outputs": [
        {
          "output_type": "stream",
          "text": [
            "2960\n"
          ],
          "name": "stdout"
        }
      ]
    },
    {
      "cell_type": "markdown",
      "metadata": {
        "id": "Ek_ZUjDef7ZV",
        "colab_type": "text"
      },
      "source": [
        "# Common Parameters"
      ]
    },
    {
      "cell_type": "code",
      "metadata": {
        "id": "vdtjDLnOACbK",
        "colab_type": "code",
        "colab": {}
      },
      "source": [
        "import numpy as np\n",
        "class_weights = class_weight.compute_class_weight('balanced',np.unique(labels),labels)\n",
        "class_weights=dict(enumerate(class_weights))"
      ],
      "execution_count": 0,
      "outputs": []
    },
    {
      "cell_type": "markdown",
      "metadata": {
        "id": "i-IToeBciV1m",
        "colab_type": "text"
      },
      "source": [
        "## Cylic learning rate"
      ]
    },
    {
      "cell_type": "code",
      "metadata": {
        "id": "PIYW6ZAniXzU",
        "colab_type": "code",
        "colab": {}
      },
      "source": [
        "# https://www.kaggle.com/hireme/fun-api-keras-f1-metric-cyclical-learning-rate/code\n",
        "from keras.callbacks import Callback\n",
        "class CyclicLR(Callback):\n",
        "    \"\"\"This callback implements a cyclical learning rate policy (CLR).\n",
        "    The method cycles the learning rate between two boundaries with\n",
        "    some constant frequency, as detailed in this paper (https://arxiv.org/abs/1506.01186).\n",
        "    The amplitude of the cycle can be scaled on a per-iteration or \n",
        "    per-cycle basis.\n",
        "    This class has three built-in policies, as put forth in the paper.\n",
        "    \"triangular\":\n",
        "        A basic triangular cycle w/ no amplitude scaling.\n",
        "    \"triangular2\":\n",
        "        A basic triangular cycle that scales initial amplitude by half each cycle.\n",
        "    \"exp_range\":\n",
        "        A cycle that scales initial amplitude by gamma**(cycle iterations) at each \n",
        "        cycle iteration.\n",
        "    For more detail, please see paper.\n",
        "    \n",
        "    # Example\n",
        "        ```python\n",
        "            clr = CyclicLR(base_lr=0.001, max_lr=0.006,\n",
        "                                step_size=2000., mode='triangular')\n",
        "            model.fit(X_train, Y_train, callbacks=[clr])\n",
        "        ```\n",
        "    \n",
        "    Class also supports custom scaling functions:\n",
        "        ```python\n",
        "            clr_fn = lambda x: 0.5*(1+np.sin(x*np.pi/2.))\n",
        "            clr = CyclicLR(base_lr=0.001, max_lr=0.006,\n",
        "                                step_size=2000., scale_fn=clr_fn,\n",
        "                                scale_mode='cycle')\n",
        "            model.fit(X_train, Y_train, callbacks=[clr])\n",
        "        ```    \n",
        "    # Arguments\n",
        "        base_lr: initial learning rate which is the\n",
        "            lower boundary in the cycle.\n",
        "        max_lr: upper boundary in the cycle. Functionally,\n",
        "            it defines the cycle amplitude (max_lr - base_lr).\n",
        "            The lr at any cycle is the sum of base_lr\n",
        "            and some scaling of the amplitude; therefore \n",
        "            max_lr may not actually be reached depending on\n",
        "            scaling function.\n",
        "        step_size: number of training iterations per\n",
        "            half cycle. Authors suggest setting step_size\n",
        "            2-8 x training iterations in epoch.\n",
        "        mode: one of {triangular, triangular2, exp_range}.\n",
        "            Default 'triangular'.\n",
        "            Values correspond to policies detailed above.\n",
        "            If scale_fn is not None, this argument is ignored.\n",
        "        gamma: constant in 'exp_range' scaling function:\n",
        "            gamma**(cycle iterations)\n",
        "        scale_fn: Custom scaling policy defined by a single\n",
        "            argument lambda function, where \n",
        "            0 <= scale_fn(x) <= 1 for all x >= 0.\n",
        "            mode paramater is ignored \n",
        "        scale_mode: {'cycle', 'iterations'}.\n",
        "            Defines whether scale_fn is evaluated on \n",
        "            cycle number or cycle iterations (training\n",
        "            iterations since start of cycle). Default is 'cycle'.\n",
        "    \"\"\"\n",
        "\n",
        "    def __init__(self, base_lr=0.001, max_lr=0.006, step_size=2000., mode='triangular',\n",
        "                 gamma=1., scale_fn=None, scale_mode='cycle'):\n",
        "        super(CyclicLR, self).__init__()\n",
        "\n",
        "        self.base_lr = base_lr\n",
        "        self.max_lr = max_lr\n",
        "        self.step_size = step_size\n",
        "        self.mode = mode\n",
        "        self.gamma = gamma\n",
        "        if scale_fn == None:\n",
        "            if self.mode == 'triangular':\n",
        "                self.scale_fn = lambda x: 1.\n",
        "                self.scale_mode = 'cycle'\n",
        "            elif self.mode == 'triangular2':\n",
        "                self.scale_fn = lambda x: 1/(2.**(x-1))\n",
        "                self.scale_mode = 'cycle'\n",
        "            elif self.mode == 'exp_range':\n",
        "                self.scale_fn = lambda x: gamma**(x)\n",
        "                self.scale_mode = 'iterations'\n",
        "        else:\n",
        "            self.scale_fn = scale_fn\n",
        "            self.scale_mode = scale_mode\n",
        "        self.clr_iterations = 0.\n",
        "        self.trn_iterations = 0.\n",
        "        self.history = {}\n",
        "\n",
        "        self._reset()\n",
        "\n",
        "    def _reset(self, new_base_lr=None, new_max_lr=None,\n",
        "               new_step_size=None):\n",
        "        \"\"\"Resets cycle iterations.\n",
        "        Optional boundary/step size adjustment.\n",
        "        \"\"\"\n",
        "        if new_base_lr != None:\n",
        "            self.base_lr = new_base_lr\n",
        "        if new_max_lr != None:\n",
        "            self.max_lr = new_max_lr\n",
        "        if new_step_size != None:\n",
        "            self.step_size = new_step_size\n",
        "        self.clr_iterations = 0.\n",
        "        \n",
        "    def clr(self):\n",
        "        cycle = np.floor(1+self.clr_iterations/(2*self.step_size))\n",
        "        x = np.abs(self.clr_iterations/self.step_size - 2*cycle + 1)\n",
        "        if self.scale_mode == 'cycle':\n",
        "            return self.base_lr + (self.max_lr-self.base_lr)*np.maximum(0, (1-x))*self.scale_fn(cycle)\n",
        "        else:\n",
        "            return self.base_lr + (self.max_lr-self.base_lr)*np.maximum(0, (1-x))*self.scale_fn(self.clr_iterations)\n",
        "        \n",
        "    def on_train_begin(self, logs={}):\n",
        "        logs = logs or {}\n",
        "\n",
        "        if self.clr_iterations == 0:\n",
        "            K.set_value(self.model.optimizer.lr, self.base_lr)\n",
        "        else:\n",
        "            K.set_value(self.model.optimizer.lr, self.clr())        \n",
        "            \n",
        "    def on_batch_end(self, epoch, logs=None):\n",
        "        \n",
        "        logs = logs or {}\n",
        "        self.trn_iterations += 1\n",
        "        self.clr_iterations += 1\n",
        "\n",
        "        self.history.setdefault('lr', []).append(K.get_value(self.model.optimizer.lr))\n",
        "        self.history.setdefault('iterations', []).append(self.trn_iterations)\n",
        "\n",
        "        for k, v in logs.items():\n",
        "            self.history.setdefault(k, []).append(v)\n",
        "        \n",
        "        K.set_value(self.model.optimizer.lr, self.clr())"
      ],
      "execution_count": 0,
      "outputs": []
    },
    {
      "cell_type": "code",
      "metadata": {
        "id": "DIcxIjeYjHyo",
        "colab_type": "code",
        "colab": {}
      },
      "source": [
        "clr = CyclicLR(base_lr=0.001, max_lr=0.005,\n",
        "                        step_size=4., mode='exp_range',\n",
        "                        gamma=0.99994)"
      ],
      "execution_count": 0,
      "outputs": []
    },
    {
      "cell_type": "markdown",
      "metadata": {
        "id": "NAv_EEaQLXtY",
        "colab_type": "text"
      },
      "source": [
        "# Tokenize data"
      ]
    },
    {
      "cell_type": "code",
      "metadata": {
        "id": "QomCkNlRLHPG",
        "colab_type": "code",
        "colab": {}
      },
      "source": [
        "from keras.preprocessing.text import Tokenizer\n",
        "from keras.preprocessing import sequence\n",
        "max_words = 10000 #frequency of words to be kept\n",
        "max_len = 200\n",
        "\n",
        "tokenize = Tokenizer(num_words=max_words)\n",
        "tokenize.fit_on_texts(train)\n",
        "sequences = tokenize.texts_to_sequences(train)\n",
        "word_index = tokenize.word_index\n",
        "sequences_matrix = sequence.pad_sequences(sequences,maxlen=max_len,padding='post')"
      ],
      "execution_count": 0,
      "outputs": []
    },
    {
      "cell_type": "code",
      "metadata": {
        "id": "Og1W2rCOLs4w",
        "colab_type": "code",
        "outputId": "186f5165-85de-4907-d0a8-1462243714f2",
        "colab": {
          "base_uri": "https://localhost:8080/",
          "height": 34
        }
      },
      "source": [
        "len(sequences_matrix),len(labels)"
      ],
      "execution_count": 14,
      "outputs": [
        {
          "output_type": "execute_result",
          "data": {
            "text/plain": [
              "(2960, 2960)"
            ]
          },
          "metadata": {
            "tags": []
          },
          "execution_count": 14
        }
      ]
    },
    {
      "cell_type": "code",
      "metadata": {
        "id": "I4kzu1RxLyGk",
        "colab_type": "code",
        "outputId": "62177034-cf09-49cd-b9d4-66717fd5e770",
        "colab": {
          "base_uri": "https://localhost:8080/",
          "height": 34
        }
      },
      "source": [
        "num_words = min(max_words, len(word_index)) + 1\n",
        "print(num_words)"
      ],
      "execution_count": 15,
      "outputs": [
        {
          "output_type": "stream",
          "text": [
            "9802\n"
          ],
          "name": "stdout"
        }
      ]
    },
    {
      "cell_type": "code",
      "metadata": {
        "id": "4i7WSY3lMmdp",
        "colab_type": "code",
        "colab": {}
      },
      "source": [
        "test_sequences = tokenize.texts_to_sequences(test)\n",
        "X_test_sequences = sequence.pad_sequences(test_sequences,maxlen=max_len,padding='post')"
      ],
      "execution_count": 0,
      "outputs": []
    },
    {
      "cell_type": "code",
      "metadata": {
        "id": "nRZxav1WNle-",
        "colab_type": "code",
        "outputId": "f1378600-11e3-42d7-e543-60b79d7e6e03",
        "colab": {
          "base_uri": "https://localhost:8080/",
          "height": 34
        }
      },
      "source": [
        "len(X_test_sequences)"
      ],
      "execution_count": 17,
      "outputs": [
        {
          "output_type": "execute_result",
          "data": {
            "text/plain": [
              "329"
            ]
          },
          "metadata": {
            "tags": []
          },
          "execution_count": 17
        }
      ]
    },
    {
      "cell_type": "markdown",
      "metadata": {
        "id": "SpzUIu4iL0PO",
        "colab_type": "text"
      },
      "source": [
        "# Embeddings"
      ]
    },
    {
      "cell_type": "code",
      "metadata": {
        "id": "o3UFPJAWL10_",
        "colab_type": "code",
        "colab": {}
      },
      "source": [
        "embed_size=300\n",
        "def get_coefs(word,*arr):\n",
        "    return word, np.asarray(arr, dtype='float32')\n",
        "\n",
        "def build_matrix(embedding_path, word_index):\n",
        "    embedding_index = dict(get_coefs(*o.strip().split(\" \")) for o in open(embedding_path))\n",
        "\n",
        "    nb_words = min(max_words, len(word_index))\n",
        "    embedding_matrix = np.zeros((nb_words + 1, embed_size))\n",
        "    for word, i in word_index.items():\n",
        "        if i >= max_words:\n",
        "            continue\n",
        "        embedding_vector = embedding_index.get(word)\n",
        "        if embedding_vector is not None:\n",
        "            embedding_matrix[i] = embedding_vector\n",
        "    return embedding_matrix"
      ],
      "execution_count": 0,
      "outputs": []
    },
    {
      "cell_type": "code",
      "metadata": {
        "id": "zTviPXodLzRW",
        "colab_type": "code",
        "outputId": "cd41e363-3891-4c64-ed3b-a6fe8266e7d5",
        "colab": {
          "base_uri": "https://localhost:8080/",
          "height": 34
        }
      },
      "source": [
        "embeddings=build_matrix('cc.da.300.vec', word_index)\n",
        "embeddings.shape"
      ],
      "execution_count": 19,
      "outputs": [
        {
          "output_type": "execute_result",
          "data": {
            "text/plain": [
              "(9802, 300)"
            ]
          },
          "metadata": {
            "tags": []
          },
          "execution_count": 19
        }
      ]
    },
    {
      "cell_type": "markdown",
      "metadata": {
        "id": "e8_AdRhffkS3",
        "colab_type": "text"
      },
      "source": [
        "# Base Models"
      ]
    },
    {
      "cell_type": "code",
      "metadata": {
        "id": "DaShFhtgJ_Ef",
        "colab_type": "code",
        "colab": {
          "base_uri": "https://localhost:8080/",
          "height": 34
        },
        "outputId": "8d716c4f-8399-4303-d60e-21400bf55910"
      },
      "source": [
        "train.shape,labels.shape"
      ],
      "execution_count": 20,
      "outputs": [
        {
          "output_type": "execute_result",
          "data": {
            "text/plain": [
              "((2960,), (2960,))"
            ]
          },
          "metadata": {
            "tags": []
          },
          "execution_count": 20
        }
      ]
    },
    {
      "cell_type": "markdown",
      "metadata": {
        "id": "jvXD0v5mfm7M",
        "colab_type": "text"
      },
      "source": [
        "## Count Vectorizer"
      ]
    },
    {
      "cell_type": "code",
      "metadata": {
        "id": "7blhzyaD-xvK",
        "colab_type": "code",
        "colab": {}
      },
      "source": [
        "\n",
        "def logistic_param_selection(X, y, func,nfolds):\n",
        "    C= [7,8,9,10,12,15,20,25]\n",
        "    param_grid = {'C': C}\n",
        "    grid_search = GridSearchCV(make_pipeline(func, LogisticRegression(solver='lbfgs',max_iter=500,class_weight=class_weights)),\n",
        "                    param_grid={'logisticregression__C':[10,12,15,20,25]}, cv=nfolds,scoring='f1_macro')\n",
        "    grid_search.fit(X, y)\n",
        "    return grid_search.best_score_,grid_search.best_params_\n",
        "\n"
      ],
      "execution_count": 0,
      "outputs": []
    },
    {
      "cell_type": "code",
      "metadata": {
        "id": "lHFZoqkGI79e",
        "colab_type": "code",
        "colab": {
          "base_uri": "https://localhost:8080/",
          "height": 34
        },
        "outputId": "d29f4b16-d056-4d65-e098-51c98a9d980a"
      },
      "source": [
        "cv_score,c=logistic_param_selection(train,labels,CountVectorizer(),5)\n",
        "cv_score"
      ],
      "execution_count": 22,
      "outputs": [
        {
          "output_type": "execute_result",
          "data": {
            "text/plain": [
              "0.746470164161414"
            ]
          },
          "metadata": {
            "tags": []
          },
          "execution_count": 22
        }
      ]
    },
    {
      "cell_type": "code",
      "metadata": {
        "id": "FiDB13I898UU",
        "colab_type": "code",
        "colab": {}
      },
      "source": [
        "count_vectorizer = CountVectorizer()\n",
        "count_vectorizer.fit(train)\n",
        "X_train_cv = count_vectorizer.transform(train)\n",
        "X_test_cv=  count_vectorizer.transform(test)"
      ],
      "execution_count": 0,
      "outputs": []
    },
    {
      "cell_type": "code",
      "metadata": {
        "id": "bwXHpKqo-cFB",
        "colab_type": "code",
        "colab": {
          "base_uri": "https://localhost:8080/",
          "height": 118
        },
        "outputId": "cc314e73-b81e-48f2-f375-b26a21c95ea5"
      },
      "source": [
        "cv_classifier = LogisticRegression(solver='lbfgs',C=c['logisticregression__C'],max_iter=500,class_weight=class_weights)\n",
        "cv_classifier.fit(X_train_cv, labels)"
      ],
      "execution_count": 24,
      "outputs": [
        {
          "output_type": "execute_result",
          "data": {
            "text/plain": [
              "LogisticRegression(C=25,\n",
              "                   class_weight={0: 0.5745341614906833, 1: 3.8541666666666665},\n",
              "                   dual=False, fit_intercept=True, intercept_scaling=1,\n",
              "                   l1_ratio=None, max_iter=500, multi_class='auto', n_jobs=None,\n",
              "                   penalty='l2', random_state=None, solver='lbfgs', tol=0.0001,\n",
              "                   verbose=0, warm_start=False)"
            ]
          },
          "metadata": {
            "tags": []
          },
          "execution_count": 24
        }
      ]
    },
    {
      "cell_type": "code",
      "metadata": {
        "id": "fBx50ckVP6iP",
        "colab_type": "code",
        "colab": {}
      },
      "source": [
        "cv_test=cv_classifier.predict_proba(X_test_cv)[:,1]"
      ],
      "execution_count": 0,
      "outputs": []
    },
    {
      "cell_type": "markdown",
      "metadata": {
        "id": "hJDyK1lahqqG",
        "colab_type": "text"
      },
      "source": [
        "## TF IDF word vectorizer"
      ]
    },
    {
      "cell_type": "code",
      "metadata": {
        "id": "Gz1WZZEufmEq",
        "colab_type": "code",
        "colab": {}
      },
      "source": [
        "from sklearn.feature_extraction.text import TfidfVectorizer\n",
        "word_vectorizer = TfidfVectorizer(\n",
        "    sublinear_tf=True,\n",
        "    strip_accents='unicode',\n",
        "    analyzer='word',\n",
        "    token_pattern=r'\\w{1,}',\n",
        "    ngram_range=(1, 4),\n",
        "    max_features=10000)\n",
        "word_vectorizer.fit(train)\n",
        "train_word_features = word_vectorizer.transform(train)\n",
        "test_word_features = word_vectorizer.transform(test)"
      ],
      "execution_count": 0,
      "outputs": []
    },
    {
      "cell_type": "code",
      "metadata": {
        "id": "M8hxtqPQ_KxI",
        "colab_type": "code",
        "colab": {
          "base_uri": "https://localhost:8080/",
          "height": 34
        },
        "outputId": "8aeaf7fb-70a4-46af-b503-eef0c8187931"
      },
      "source": [
        "tfw_score,c=logistic_param_selection(train,labels,word_vectorizer,5)\n",
        "tfw_score"
      ],
      "execution_count": 26,
      "outputs": [
        {
          "output_type": "execute_result",
          "data": {
            "text/plain": [
              "0.7094192943546225"
            ]
          },
          "metadata": {
            "tags": []
          },
          "execution_count": 26
        }
      ]
    },
    {
      "cell_type": "code",
      "metadata": {
        "id": "04JmMwoEh4-d",
        "colab_type": "code",
        "outputId": "6d82827e-9e9b-4b4a-ad21-d182fd089d5a",
        "colab": {
          "base_uri": "https://localhost:8080/",
          "height": 101
        }
      },
      "source": [
        "tfw_classifier = LogisticRegression(solver='lbfgs',C=c['logisticregression__C'],max_iter=500)\n",
        "tfw_classifier.fit(train_word_features, labels)\n"
      ],
      "execution_count": 27,
      "outputs": [
        {
          "output_type": "execute_result",
          "data": {
            "text/plain": [
              "LogisticRegression(C=10, class_weight=None, dual=False, fit_intercept=True,\n",
              "                   intercept_scaling=1, l1_ratio=None, max_iter=500,\n",
              "                   multi_class='auto', n_jobs=None, penalty='l2',\n",
              "                   random_state=None, solver='lbfgs', tol=0.0001, verbose=0,\n",
              "                   warm_start=False)"
            ]
          },
          "metadata": {
            "tags": []
          },
          "execution_count": 27
        }
      ]
    },
    {
      "cell_type": "code",
      "metadata": {
        "id": "nQRy9oaBQIfV",
        "colab_type": "code",
        "colab": {}
      },
      "source": [
        "tfw_test = tfw_classifier.predict_proba(test_word_features)[:,1]"
      ],
      "execution_count": 0,
      "outputs": []
    },
    {
      "cell_type": "markdown",
      "metadata": {
        "id": "fNSvwaG1ioq0",
        "colab_type": "text"
      },
      "source": [
        "## TF IDF char vectorizer"
      ]
    },
    {
      "cell_type": "code",
      "metadata": {
        "id": "a_kqct6jiBq1",
        "colab_type": "code",
        "colab": {}
      },
      "source": [
        "char_vectorizer = TfidfVectorizer(\n",
        "    sublinear_tf=True,\n",
        "    strip_accents='unicode',\n",
        "    analyzer='char',\n",
        "    ngram_range=(1, 6),\n",
        "    max_features=30000)\n",
        "char_vectorizer.fit(train)\n",
        "train_char_features = char_vectorizer.transform(train)\n",
        "test_char_features = char_vectorizer.transform(test)"
      ],
      "execution_count": 0,
      "outputs": []
    },
    {
      "cell_type": "code",
      "metadata": {
        "id": "rBU8cBQVCiAI",
        "colab_type": "code",
        "colab": {
          "base_uri": "https://localhost:8080/",
          "height": 34
        },
        "outputId": "b2c6ebf8-b67a-4667-80db-c01e3c68f173"
      },
      "source": [
        "tfc_score,c=logistic_param_selection(train,labels,char_vectorizer,5)\n",
        "tfc_score"
      ],
      "execution_count": 29,
      "outputs": [
        {
          "output_type": "execute_result",
          "data": {
            "text/plain": [
              "0.7640716931405663"
            ]
          },
          "metadata": {
            "tags": []
          },
          "execution_count": 29
        }
      ]
    },
    {
      "cell_type": "code",
      "metadata": {
        "id": "cYhzRPO0iRMb",
        "colab_type": "code",
        "outputId": "e6193b23-b8ca-43b4-ae62-d301abb2952d",
        "colab": {
          "base_uri": "https://localhost:8080/",
          "height": 101
        }
      },
      "source": [
        "tfc_classifier = LogisticRegression(solver='lbfgs',C=c['logisticregression__C'],max_iter=500)\n",
        "tfc_classifier.fit(train_char_features, labels)\n"
      ],
      "execution_count": 30,
      "outputs": [
        {
          "output_type": "execute_result",
          "data": {
            "text/plain": [
              "LogisticRegression(C=10, class_weight=None, dual=False, fit_intercept=True,\n",
              "                   intercept_scaling=1, l1_ratio=None, max_iter=500,\n",
              "                   multi_class='auto', n_jobs=None, penalty='l2',\n",
              "                   random_state=None, solver='lbfgs', tol=0.0001, verbose=0,\n",
              "                   warm_start=False)"
            ]
          },
          "metadata": {
            "tags": []
          },
          "execution_count": 30
        }
      ]
    },
    {
      "cell_type": "code",
      "metadata": {
        "id": "tpkjinLBXX7j",
        "colab_type": "code",
        "colab": {}
      },
      "source": [
        "tfc_test = tfc_classifier.predict_proba(test_char_features)[:,1]"
      ],
      "execution_count": 0,
      "outputs": []
    },
    {
      "cell_type": "markdown",
      "metadata": {
        "id": "I6sOo5OtMQnL",
        "colab_type": "text"
      },
      "source": [
        "# Models"
      ]
    },
    {
      "cell_type": "markdown",
      "metadata": {
        "id": "jv2yPgQWL9de",
        "colab_type": "text"
      },
      "source": [
        "##GRU"
      ]
    },
    {
      "cell_type": "code",
      "metadata": {
        "id": "XXvqlGD0L-sx",
        "colab_type": "code",
        "colab": {}
      },
      "source": [
        "def model_gru():\n",
        "  inp = Input(shape=(max_len,))\n",
        "  x = Embedding(num_words,embed_size,embeddings_initializer=Constant(embeddings),input_length=max_len,trainable=False)(inp)\n",
        "  x = SpatialDropout1D(0.1)(x)\n",
        "  x = Bidirectional(CuDNNLSTM(50, return_sequences=True))(x)\n",
        "  x, x_h, x_c = Bidirectional(CuDNNGRU(50, return_sequences=True, return_state = True))(x)\n",
        "  avg_pool = GlobalAveragePooling1D()(x)\n",
        "  max_pool = GlobalMaxPooling1D()(x)\n",
        "  conc = concatenate([avg_pool, x_h, max_pool])\n",
        "  outp = Dense(1, activation=\"sigmoid\")(conc)    \n",
        "  model = Model(inputs=inp, outputs=outp)\n",
        "  model.compile(loss=BinaryFocalLoss(gamma=2), optimizer='adam', metrics=['accuracy'])\n",
        "  return model"
      ],
      "execution_count": 0,
      "outputs": []
    },
    {
      "cell_type": "markdown",
      "metadata": {
        "id": "7t_Ph6qafOQK",
        "colab_type": "text"
      },
      "source": [
        "## GRU attention"
      ]
    },
    {
      "cell_type": "code",
      "metadata": {
        "id": "KyKea_xMkrmP",
        "colab_type": "code",
        "colab": {}
      },
      "source": [
        "#https://github.com/zake7749/DeepToxic\n",
        "from keras.layers import Layer,Lambda\n",
        "from keras import initializers\n",
        "from keras.engine import InputSpec, Layer\n",
        "from keras import backend as K\n",
        "\n",
        "class AttentionWeightedAverage(Layer):\n",
        "    \"\"\"\n",
        "    Computes a weighted average of the different channels across timesteps.\n",
        "    Uses 1 parameter pr. channel to compute the attention value for a single timestep.\n",
        "    \"\"\"\n",
        "\n",
        "    def __init__(self, return_attention=False, **kwargs):\n",
        "        self.init = initializers.get('uniform')\n",
        "        self.supports_masking = True\n",
        "        self.return_attention = return_attention\n",
        "        super(AttentionWeightedAverage, self).__init__(** kwargs)\n",
        "\n",
        "    def build(self, input_shape):\n",
        "        self.input_spec = [InputSpec(ndim=3)]\n",
        "        assert len(input_shape) == 3\n",
        "\n",
        "        self.W = self.add_weight(shape=(input_shape[2], 1),\n",
        "                                 name='{}_W'.format(self.name),\n",
        "                                 initializer=self.init)\n",
        "        self.trainable_weights = [self.W]\n",
        "        super(AttentionWeightedAverage, self).build(input_shape)\n",
        "\n",
        "    def call(self, x, mask=None):\n",
        "        # computes a probability distribution over the timesteps\n",
        "        # uses 'max trick' for numerical stability\n",
        "        # reshape is done to avoid issue with Tensorflow\n",
        "        # and 1-dimensional weights\n",
        "        logits = K.dot(x, self.W)\n",
        "        x_shape = K.shape(x)\n",
        "        logits = K.reshape(logits, (x_shape[0], x_shape[1]))\n",
        "        ai = K.exp(logits - K.max(logits, axis=-1, keepdims=True))\n",
        "\n",
        "        # masked timesteps have zero weight\n",
        "        if mask is not None:\n",
        "            mask = K.cast(mask, K.floatx())\n",
        "            ai = ai * mask\n",
        "        att_weights = ai / (K.sum(ai, axis=1, keepdims=True) + K.epsilon())\n",
        "        weighted_input = x * K.expand_dims(att_weights)\n",
        "        result = K.sum(weighted_input, axis=1)\n",
        "        if self.return_attention:\n",
        "            return [result, att_weights]\n",
        "        return result\n",
        "\n",
        "    def get_output_shape_for(self, input_shape):\n",
        "        return self.compute_output_shape(input_shape)\n",
        "\n",
        "    def compute_output_shape(self, input_shape):\n",
        "        output_len = input_shape[2]\n",
        "        if self.return_attention:\n",
        "            return [(input_shape[0], output_len), (input_shape[0], input_shape[1])]\n",
        "        return (input_shape[0], output_len)\n",
        "\n",
        "    def compute_mask(self, input, input_mask=None):\n",
        "        if isinstance(input_mask, list):\n",
        "            return [None] * len(input_mask)\n",
        "        else:\n",
        "            return None"
      ],
      "execution_count": 0,
      "outputs": []
    },
    {
      "cell_type": "code",
      "metadata": {
        "id": "hovBxS5jfRbn",
        "colab_type": "code",
        "colab": {}
      },
      "source": [
        "def model_gru_attn():\n",
        "  inp = Input(shape=(max_len,))\n",
        "  x = Embedding(num_words,embed_size,embeddings_initializer=Constant(embeddings),input_length=max_len,trainable=False)(inp)\n",
        "  x = SpatialDropout1D(0.1)(x)\n",
        "  x = Bidirectional(CuDNNLSTM(50, return_sequences=True))(x)\n",
        "  x = Bidirectional(CuDNNGRU(50, return_sequences=True))(x)\n",
        "  avg_pool = GlobalAveragePooling1D()(x)\n",
        "  max_pool = GlobalMaxPooling1D()(x)\n",
        "  last = Lambda(lambda t: t[:, -1])(x)\n",
        "  attn = AttentionWeightedAverage()(x)\n",
        "  conc = concatenate([avg_pool,  max_pool,last,attn])\n",
        "  outp = Dense(1, activation=\"sigmoid\")(conc)    \n",
        "  model = Model(inputs=inp, outputs=outp)\n",
        "  model.compile(loss=BinaryFocalLoss(gamma=2), optimizer='adam', metrics=['accuracy'])\n",
        "  return model"
      ],
      "execution_count": 0,
      "outputs": []
    },
    {
      "cell_type": "markdown",
      "metadata": {
        "id": "I34DRPLqTVru",
        "colab_type": "text"
      },
      "source": [
        "##TCN"
      ]
    },
    {
      "cell_type": "code",
      "metadata": {
        "id": "e-euqTedTWjY",
        "colab_type": "code",
        "colab": {}
      },
      "source": [
        "from tcn import TCN\n",
        "\n",
        "def wave_net_activation(x):\n",
        "    # type: (Layer) -> Layer\n",
        "    \"\"\"This method defines the activation used for WaveNet\n",
        "    described in https://deepmind.com/blog/wavenet-generative-model-raw-audio/\n",
        "    Args:\n",
        "        x: The layer we want to apply the activation to\n",
        "    Returns:\n",
        "        A new layer with the wavenet activation applied\n",
        "    \"\"\"\n",
        "    tanh_out = Activation('tanh')(x)\n",
        "    sigm_out = Activation('sigmoid')(x)\n",
        "    return keras.layers.multiply([tanh_out, sigm_out])\n",
        "\n",
        "def model_tcn(embedding_matrix):\n",
        "    \n",
        "    inp = Input(shape=(max_len,))\n",
        "    x = Embedding(num_words,embed_size,embeddings_initializer=Constant(embeddings),input_length=max_len,trainable=False)(inp)\n",
        "    x = SpatialDropout1D(0.1)(x)\n",
        "    x = TCN(128,dilations = [1, 2, 4], return_sequences=True ,name = 'tnc1')(x)\n",
        "    x = wave_net_activation(x)\n",
        "    x = TCN(64,dilations = [1, 2, 4], return_sequences=True, name = 'tnc2')(x)\n",
        "    x = wave_net_activation(x)\n",
        "    #x = TCN(32,dilations = [1, 2, 4], return_sequences=True, activation = 'wavenet',name = 'tnc3')(x)\n",
        "    avg_pool = GlobalAveragePooling1D()(x)\n",
        "    max_pool = GlobalMaxPooling1D()(x)\n",
        "    \n",
        "    conc = concatenate([avg_pool, max_pool])\n",
        "    conc = Dense(64, activation=\"relu\")(conc)\n",
        "    conc = Dense(32, activation=\"relu\")(conc)\n",
        "\n",
        "    conc = Dropout(0.1)(conc)\n",
        "    outp = Dense(1, activation=\"sigmoid\")(conc)    \n",
        "    model = Model(inputs=inp, outputs=outp)\n",
        "    model.compile(loss=BinaryFocalLoss(gamma=2), optimizer='adam', metrics=['accuracy'])\n",
        "    \n",
        "    return model"
      ],
      "execution_count": 0,
      "outputs": []
    },
    {
      "cell_type": "code",
      "metadata": {
        "id": "3wLyuzTtMErl",
        "colab_type": "code",
        "colab": {}
      },
      "source": [
        ""
      ],
      "execution_count": 0,
      "outputs": []
    },
    {
      "cell_type": "code",
      "metadata": {
        "id": "6d55WTNmBa5w",
        "colab_type": "code",
        "colab": {}
      },
      "source": [
        ""
      ],
      "execution_count": 0,
      "outputs": []
    },
    {
      "cell_type": "markdown",
      "metadata": {
        "id": "mNc6xxspBcTG",
        "colab_type": "text"
      },
      "source": [
        "##KIM"
      ]
    },
    {
      "cell_type": "code",
      "metadata": {
        "id": "nAgtTt9IBfMQ",
        "colab_type": "code",
        "colab": {}
      },
      "source": [
        "conv_filters=128\n",
        "def model_kim():\n",
        "  inp = Input(shape=(max_len,))\n",
        "  emb = Embedding(num_words,embed_size,embeddings_initializer=Constant(embeddings),input_length=max_len,trainable=False)(inp)\n",
        "  # Specify each convolution layer and their kernel siz i.e. n-grams \n",
        "  conv1_1 = Conv1D(filters=conv_filters, kernel_size=3)(emb)\n",
        "  btch1_1 = BatchNormalization()(conv1_1)\n",
        "  drp1_1  = Dropout(0.2)(btch1_1)\n",
        "  actv1_1 = Activation('relu')(drp1_1)\n",
        "  glmp1_1 = GlobalMaxPooling1D()(actv1_1)\n",
        "\n",
        "  conv1_2 = Conv1D(filters=conv_filters, kernel_size=4)(emb)\n",
        "  btch1_2 = BatchNormalization()(conv1_2)\n",
        "  drp1_2  = Dropout(0.2)(btch1_2)\n",
        "  actv1_2 = Activation('relu')(drp1_2)\n",
        "  glmp1_2 = GlobalMaxPooling1D()(actv1_2)\n",
        "\n",
        "  conv1_3 = Conv1D(filters=conv_filters, kernel_size=5)(emb)\n",
        "  btch1_3 = BatchNormalization()(conv1_3)\n",
        "  drp1_3  = Dropout(0.2)(btch1_3)\n",
        "  actv1_3 = Activation('relu')(drp1_3)\n",
        "  glmp1_3 = GlobalMaxPooling1D()(actv1_3)\n",
        "\n",
        "  conv1_4 = Conv1D(filters=conv_filters, kernel_size=6)(emb)\n",
        "  btch1_4 = BatchNormalization()(conv1_4)\n",
        "  drp1_4  = Dropout(0.2)(btch1_4)\n",
        "  actv1_4 = Activation('relu')(drp1_4)\n",
        "  glmp1_4 = GlobalMaxPooling1D()(actv1_4)\n",
        "\n",
        "  # Gather all convolution layers\n",
        "  cnct = concatenate([glmp1_1, glmp1_2, glmp1_3, glmp1_4], axis=1)\n",
        "  drp1 = Dropout(0.2)(cnct)\n",
        "\n",
        "  dns1  = Dense(32, activation='relu')(drp1)\n",
        "  btch1 = BatchNormalization()(dns1)\n",
        "  drp2  = Dropout(0.2)(btch1)\n",
        "\n",
        "  out = Dense(1, activation='sigmoid')(drp2)   \n",
        "  model = Model(inputs=inp, outputs=out)\n",
        "  model.compile(loss=BinaryFocalLoss(gamma=2), optimizer='adam', metrics=['accuracy'])\n",
        "  return model\n"
      ],
      "execution_count": 0,
      "outputs": []
    },
    {
      "cell_type": "markdown",
      "metadata": {
        "id": "nJCuBpqkNx8L",
        "colab_type": "text"
      },
      "source": [
        "# Train model"
      ]
    },
    {
      "cell_type": "markdown",
      "metadata": {
        "id": "oUygUis5N2yN",
        "colab_type": "text"
      },
      "source": [
        "##GRU"
      ]
    },
    {
      "cell_type": "code",
      "metadata": {
        "id": "OdwYL0fG3kQo",
        "colab_type": "code",
        "colab": {
          "base_uri": "https://localhost:8080/",
          "height": 1000
        },
        "outputId": "4d3de2e4-c17f-44b8-8834-878cbf88efd2"
      },
      "source": [
        "kfold = StratifiedKFold(n_splits=5, shuffle=False, random_state=2020)\n",
        "gru_scores = []\n",
        "gru_test=[]\n",
        "for train, val in kfold.split(sequences_matrix, labels):\n",
        "  gru_model=model_gru()\n",
        "  \n",
        "  gru_model.fit(sequences_matrix[train], labels[train],batch_size=64,epochs=10,verbose=2,\n",
        "            validation_data=(sequences_matrix[val],labels[val]),callbacks=[clr,])\n",
        "  y_pred = gru_model.predict(sequences_matrix[val], batch_size=64, verbose=1)\n",
        "\n",
        "  gru_test.append(gru_model.predict(X_test_sequences, batch_size=64, verbose=1).ravel())\n",
        "\n",
        "  y_pred = (y_pred > 0.5)\n",
        "  f1=f1_score(labels[val], y_pred, average='macro')\n",
        "  gru_scores.append(f1)\n",
        "  keras.backend.clear_session()"
      ],
      "execution_count": 36,
      "outputs": [
        {
          "output_type": "stream",
          "text": [
            "/usr/local/lib/python3.6/dist-packages/sklearn/model_selection/_split.py:296: FutureWarning: Setting a random_state has no effect since shuffle is False. This will raise an error in 0.24. You should leave random_state to its default (None), or set shuffle=True.\n",
            "  FutureWarning\n"
          ],
          "name": "stderr"
        },
        {
          "output_type": "stream",
          "text": [
            "Train on 2368 samples, validate on 592 samples\n",
            "Epoch 1/10\n",
            " - 9s - loss: 0.1102 - acc: 0.8636 - val_loss: 0.1000 - val_acc: 0.8716\n",
            "Epoch 2/10\n",
            " - 2s - loss: 0.0945 - acc: 0.8691 - val_loss: 0.0831 - val_acc: 0.8902\n",
            "Epoch 3/10\n",
            " - 2s - loss: 0.0804 - acc: 0.8923 - val_loss: 0.0776 - val_acc: 0.8970\n",
            "Epoch 4/10\n",
            " - 2s - loss: 0.0716 - acc: 0.9067 - val_loss: 0.0732 - val_acc: 0.9020\n",
            "Epoch 5/10\n",
            " - 2s - loss: 0.0672 - acc: 0.9084 - val_loss: 0.0735 - val_acc: 0.9105\n",
            "Epoch 6/10\n",
            " - 2s - loss: 0.0596 - acc: 0.9210 - val_loss: 0.0745 - val_acc: 0.9122\n",
            "Epoch 7/10\n",
            " - 2s - loss: 0.0582 - acc: 0.9227 - val_loss: 0.0716 - val_acc: 0.9139\n",
            "Epoch 8/10\n",
            " - 2s - loss: 0.0508 - acc: 0.9358 - val_loss: 0.0856 - val_acc: 0.9139\n",
            "Epoch 9/10\n",
            " - 2s - loss: 0.0434 - acc: 0.9413 - val_loss: 0.1053 - val_acc: 0.9037\n",
            "Epoch 10/10\n",
            " - 2s - loss: 0.0392 - acc: 0.9485 - val_loss: 0.0932 - val_acc: 0.9105\n",
            "592/592 [==============================] - 0s 514us/step\n",
            "329/329 [==============================] - 0s 293us/step\n",
            "Train on 2368 samples, validate on 592 samples\n",
            "Epoch 1/10\n",
            " - 3s - loss: 0.1057 - acc: 0.8632 - val_loss: 0.1001 - val_acc: 0.8649\n",
            "Epoch 2/10\n",
            " - 2s - loss: 0.0962 - acc: 0.8737 - val_loss: 0.0929 - val_acc: 0.8733\n",
            "Epoch 3/10\n",
            " - 2s - loss: 0.0872 - acc: 0.8885 - val_loss: 0.0875 - val_acc: 0.8851\n",
            "Epoch 4/10\n",
            " - 2s - loss: 0.0723 - acc: 0.9122 - val_loss: 0.0829 - val_acc: 0.8919\n",
            "Epoch 5/10\n",
            " - 2s - loss: 0.0697 - acc: 0.9130 - val_loss: 0.0790 - val_acc: 0.8936\n",
            "Epoch 6/10\n",
            " - 2s - loss: 0.0627 - acc: 0.9185 - val_loss: 0.0855 - val_acc: 0.8818\n",
            "Epoch 7/10\n",
            " - 2s - loss: 0.0589 - acc: 0.9240 - val_loss: 0.0850 - val_acc: 0.8986\n",
            "Epoch 8/10\n",
            " - 2s - loss: 0.0503 - acc: 0.9320 - val_loss: 0.1035 - val_acc: 0.8970\n",
            "Epoch 9/10\n",
            " - 2s - loss: 0.0464 - acc: 0.9396 - val_loss: 0.0902 - val_acc: 0.8868\n",
            "Epoch 10/10\n",
            " - 2s - loss: 0.0360 - acc: 0.9531 - val_loss: 0.1283 - val_acc: 0.8784\n",
            "592/592 [==============================] - 0s 550us/step\n",
            "329/329 [==============================] - 0s 268us/step\n",
            "Train on 2368 samples, validate on 592 samples\n",
            "Epoch 1/10\n",
            " - 3s - loss: 0.1093 - acc: 0.8661 - val_loss: 0.1032 - val_acc: 0.8699\n",
            "Epoch 2/10\n",
            " - 2s - loss: 0.0992 - acc: 0.8699 - val_loss: 0.0888 - val_acc: 0.8733\n",
            "Epoch 3/10\n",
            " - 2s - loss: 0.0835 - acc: 0.8839 - val_loss: 0.0765 - val_acc: 0.8953\n",
            "Epoch 4/10\n",
            " - 2s - loss: 0.0707 - acc: 0.9084 - val_loss: 0.0750 - val_acc: 0.8936\n",
            "Epoch 5/10\n",
            " - 2s - loss: 0.0640 - acc: 0.9181 - val_loss: 0.0779 - val_acc: 0.8986\n",
            "Epoch 6/10\n",
            " - 2s - loss: 0.0590 - acc: 0.9261 - val_loss: 0.0764 - val_acc: 0.8970\n",
            "Epoch 7/10\n",
            " - 2s - loss: 0.0496 - acc: 0.9367 - val_loss: 0.0875 - val_acc: 0.8953\n",
            "Epoch 8/10\n",
            " - 2s - loss: 0.0489 - acc: 0.9354 - val_loss: 0.0912 - val_acc: 0.8902\n",
            "Epoch 9/10\n",
            " - 2s - loss: 0.0416 - acc: 0.9472 - val_loss: 0.0925 - val_acc: 0.9003\n",
            "Epoch 10/10\n",
            " - 2s - loss: 0.0338 - acc: 0.9552 - val_loss: 0.1038 - val_acc: 0.8834\n",
            "592/592 [==============================] - 0s 546us/step\n",
            "329/329 [==============================] - 0s 326us/step\n",
            "Train on 2368 samples, validate on 592 samples\n",
            "Epoch 1/10\n",
            " - 3s - loss: 0.1090 - acc: 0.8543 - val_loss: 0.1021 - val_acc: 0.8699\n",
            "Epoch 2/10\n",
            " - 2s - loss: 0.0970 - acc: 0.8716 - val_loss: 0.0878 - val_acc: 0.8834\n",
            "Epoch 3/10\n",
            " - 2s - loss: 0.0808 - acc: 0.8877 - val_loss: 0.0768 - val_acc: 0.9071\n",
            "Epoch 4/10\n",
            " - 2s - loss: 0.0719 - acc: 0.9041 - val_loss: 0.0769 - val_acc: 0.9122\n",
            "Epoch 5/10\n",
            " - 2s - loss: 0.0699 - acc: 0.9084 - val_loss: 0.0870 - val_acc: 0.9139\n",
            "Epoch 6/10\n",
            " - 2s - loss: 0.0658 - acc: 0.9155 - val_loss: 0.0802 - val_acc: 0.8953\n",
            "Epoch 7/10\n",
            " - 2s - loss: 0.0551 - acc: 0.9278 - val_loss: 0.0813 - val_acc: 0.9088\n",
            "Epoch 8/10\n",
            " - 2s - loss: 0.0492 - acc: 0.9354 - val_loss: 0.0926 - val_acc: 0.9020\n",
            "Epoch 9/10\n",
            " - 2s - loss: 0.0438 - acc: 0.9430 - val_loss: 0.0913 - val_acc: 0.8970\n",
            "Epoch 10/10\n",
            " - 2s - loss: 0.0411 - acc: 0.9493 - val_loss: 0.1049 - val_acc: 0.9054\n",
            "592/592 [==============================] - 0s 570us/step\n",
            "329/329 [==============================] - 0s 287us/step\n",
            "Train on 2368 samples, validate on 592 samples\n",
            "Epoch 1/10\n",
            " - 3s - loss: 0.1104 - acc: 0.8598 - val_loss: 0.1047 - val_acc: 0.8699\n",
            "Epoch 2/10\n",
            " - 2s - loss: 0.0997 - acc: 0.8704 - val_loss: 0.0947 - val_acc: 0.8699\n",
            "Epoch 3/10\n",
            " - 2s - loss: 0.0840 - acc: 0.8843 - val_loss: 0.0799 - val_acc: 0.8970\n",
            "Epoch 4/10\n",
            " - 2s - loss: 0.0745 - acc: 0.8986 - val_loss: 0.0804 - val_acc: 0.9037\n",
            "Epoch 5/10\n",
            " - 2s - loss: 0.0654 - acc: 0.9177 - val_loss: 0.0777 - val_acc: 0.9122\n",
            "Epoch 6/10\n",
            " - 2s - loss: 0.0625 - acc: 0.9231 - val_loss: 0.0761 - val_acc: 0.9139\n",
            "Epoch 7/10\n",
            " - 2s - loss: 0.0546 - acc: 0.9244 - val_loss: 0.0855 - val_acc: 0.9020\n",
            "Epoch 8/10\n",
            " - 2s - loss: 0.0518 - acc: 0.9295 - val_loss: 0.0952 - val_acc: 0.9088\n",
            "Epoch 9/10\n",
            " - 2s - loss: 0.0429 - acc: 0.9417 - val_loss: 0.0955 - val_acc: 0.9071\n",
            "Epoch 10/10\n",
            " - 2s - loss: 0.0347 - acc: 0.9557 - val_loss: 0.1052 - val_acc: 0.9054\n",
            "592/592 [==============================] - 0s 546us/step\n",
            "329/329 [==============================] - 0s 277us/step\n"
          ],
          "name": "stdout"
        }
      ]
    },
    {
      "cell_type": "code",
      "metadata": {
        "id": "ucuevMTN4VPS",
        "colab_type": "code",
        "colab": {
          "base_uri": "https://localhost:8080/",
          "height": 134
        },
        "outputId": "1c9a43d0-7719-4859-89b1-8aebd0def7f4"
      },
      "source": [
        "len(gru_test),gru_test[0].shape,gru_scores"
      ],
      "execution_count": 37,
      "outputs": [
        {
          "output_type": "execute_result",
          "data": {
            "text/plain": [
              "(5,\n",
              " (329,),\n",
              " [0.7595764082051754,\n",
              "  0.6559473072452537,\n",
              "  0.7152238930834711,\n",
              "  0.7364454478964607,\n",
              "  0.7477784540474741])"
            ]
          },
          "metadata": {
            "tags": []
          },
          "execution_count": 37
        }
      ]
    },
    {
      "cell_type": "code",
      "metadata": {
        "id": "AKKs8iWX570n",
        "colab_type": "code",
        "colab": {}
      },
      "source": [
        ""
      ],
      "execution_count": 0,
      "outputs": []
    },
    {
      "cell_type": "markdown",
      "metadata": {
        "id": "BaW-Uq0Kldp4",
        "colab_type": "text"
      },
      "source": [
        "## GRU attention"
      ]
    },
    {
      "cell_type": "code",
      "metadata": {
        "id": "XULscbNL6FiP",
        "colab_type": "code",
        "colab": {
          "base_uri": "https://localhost:8080/",
          "height": 1000
        },
        "outputId": "0567e05e-db05-4daa-e37e-536c0b0d6de8"
      },
      "source": [
        "kfold = StratifiedKFold(n_splits=5, shuffle=False, random_state=2020)\n",
        "atten_scores = []\n",
        "atten_test=[]\n",
        "for train, val in kfold.split(sequences_matrix, labels):\n",
        "  attn_gru_model=model_gru_attn()\n",
        "  \n",
        "  attn_gru_model.fit(sequences_matrix[train], labels[train],batch_size=64,epochs=10,verbose=2,\n",
        "            validation_data=(sequences_matrix[val],labels[val]),callbacks=[clr,])\n",
        "  y_pred = attn_gru_model.predict(sequences_matrix[val], batch_size=64, verbose=1)\n",
        "\n",
        "  atten_test.append(attn_gru_model.predict(X_test_sequences, batch_size=64, verbose=1).ravel())\n",
        "\n",
        "  y_pred = (y_pred > 0.5)\n",
        "  f1=f1_score(labels[val], y_pred, average='macro')\n",
        "  atten_scores.append(f1)\n",
        "  keras.backend.clear_session()"
      ],
      "execution_count": 38,
      "outputs": [
        {
          "output_type": "stream",
          "text": [
            "/usr/local/lib/python3.6/dist-packages/sklearn/model_selection/_split.py:296: FutureWarning: Setting a random_state has no effect since shuffle is False. This will raise an error in 0.24. You should leave random_state to its default (None), or set shuffle=True.\n",
            "  FutureWarning\n"
          ],
          "name": "stderr"
        },
        {
          "output_type": "stream",
          "text": [
            "Train on 2368 samples, validate on 592 samples\n",
            "Epoch 1/10\n",
            " - 3s - loss: 0.1064 - acc: 0.8602 - val_loss: 0.1044 - val_acc: 0.8716\n",
            "Epoch 2/10\n",
            " - 2s - loss: 0.0967 - acc: 0.8708 - val_loss: 0.0844 - val_acc: 0.8801\n",
            "Epoch 3/10\n",
            " - 2s - loss: 0.0815 - acc: 0.8910 - val_loss: 0.0813 - val_acc: 0.8919\n",
            "Epoch 4/10\n",
            " - 2s - loss: 0.0751 - acc: 0.9029 - val_loss: 0.0749 - val_acc: 0.9088\n",
            "Epoch 5/10\n",
            " - 2s - loss: 0.0663 - acc: 0.9092 - val_loss: 0.0724 - val_acc: 0.9088\n",
            "Epoch 6/10\n",
            " - 2s - loss: 0.0611 - acc: 0.9164 - val_loss: 0.0748 - val_acc: 0.9105\n",
            "Epoch 7/10\n",
            " - 2s - loss: 0.0567 - acc: 0.9253 - val_loss: 0.0733 - val_acc: 0.9122\n",
            "Epoch 8/10\n",
            " - 2s - loss: 0.0481 - acc: 0.9371 - val_loss: 0.0783 - val_acc: 0.9020\n",
            "Epoch 9/10\n",
            " - 2s - loss: 0.0448 - acc: 0.9447 - val_loss: 0.0789 - val_acc: 0.9037\n",
            "Epoch 10/10\n",
            " - 2s - loss: 0.0376 - acc: 0.9497 - val_loss: 0.0880 - val_acc: 0.9054\n",
            "592/592 [==============================] - 0s 597us/step\n",
            "329/329 [==============================] - 0s 278us/step\n",
            "Train on 2368 samples, validate on 592 samples\n",
            "Epoch 1/10\n",
            " - 3s - loss: 0.1058 - acc: 0.8661 - val_loss: 0.1024 - val_acc: 0.8666\n",
            "Epoch 2/10\n",
            " - 2s - loss: 0.0919 - acc: 0.8750 - val_loss: 0.0974 - val_acc: 0.8514\n",
            "Epoch 3/10\n",
            " - 2s - loss: 0.0835 - acc: 0.8986 - val_loss: 0.0855 - val_acc: 0.8868\n",
            "Epoch 4/10\n",
            " - 2s - loss: 0.0757 - acc: 0.9084 - val_loss: 0.0865 - val_acc: 0.8902\n",
            "Epoch 5/10\n",
            " - 2s - loss: 0.0654 - acc: 0.9189 - val_loss: 0.0827 - val_acc: 0.8902\n",
            "Epoch 6/10\n",
            " - 2s - loss: 0.0626 - acc: 0.9248 - val_loss: 0.0805 - val_acc: 0.9003\n",
            "Epoch 7/10\n",
            " - 2s - loss: 0.0576 - acc: 0.9282 - val_loss: 0.0825 - val_acc: 0.8885\n",
            "Epoch 8/10\n",
            " - 2s - loss: 0.0483 - acc: 0.9413 - val_loss: 0.0998 - val_acc: 0.8851\n",
            "Epoch 9/10\n",
            " - 2s - loss: 0.0416 - acc: 0.9481 - val_loss: 0.1095 - val_acc: 0.8868\n",
            "Epoch 10/10\n",
            " - 2s - loss: 0.0352 - acc: 0.9565 - val_loss: 0.1151 - val_acc: 0.8767\n",
            "592/592 [==============================] - 0s 604us/step\n",
            "329/329 [==============================] - 0s 284us/step\n",
            "Train on 2368 samples, validate on 592 samples\n",
            "Epoch 1/10\n",
            " - 3s - loss: 0.1093 - acc: 0.8691 - val_loss: 0.1006 - val_acc: 0.8699\n",
            "Epoch 2/10\n",
            " - 2s - loss: 0.1011 - acc: 0.8708 - val_loss: 0.0925 - val_acc: 0.8699\n",
            "Epoch 3/10\n",
            " - 2s - loss: 0.0840 - acc: 0.8898 - val_loss: 0.0799 - val_acc: 0.8902\n",
            "Epoch 4/10\n",
            " - 2s - loss: 0.0720 - acc: 0.9117 - val_loss: 0.0854 - val_acc: 0.8868\n",
            "Epoch 5/10\n",
            " - 2s - loss: 0.0659 - acc: 0.9172 - val_loss: 0.0787 - val_acc: 0.8919\n",
            "Epoch 6/10\n",
            " - 2s - loss: 0.0626 - acc: 0.9231 - val_loss: 0.0927 - val_acc: 0.8902\n",
            "Epoch 7/10\n",
            " - 2s - loss: 0.0568 - acc: 0.9282 - val_loss: 0.0965 - val_acc: 0.8936\n",
            "Epoch 8/10\n",
            " - 2s - loss: 0.0493 - acc: 0.9299 - val_loss: 0.0853 - val_acc: 0.8936\n",
            "Epoch 9/10\n",
            " - 2s - loss: 0.0445 - acc: 0.9396 - val_loss: 0.0915 - val_acc: 0.8834\n",
            "Epoch 10/10\n",
            " - 2s - loss: 0.0376 - acc: 0.9447 - val_loss: 0.0915 - val_acc: 0.9020\n",
            "592/592 [==============================] - 0s 597us/step\n",
            "329/329 [==============================] - 0s 282us/step\n",
            "Train on 2368 samples, validate on 592 samples\n",
            "Epoch 1/10\n",
            " - 3s - loss: 0.1106 - acc: 0.8522 - val_loss: 0.1017 - val_acc: 0.8699\n",
            "Epoch 2/10\n",
            " - 2s - loss: 0.0933 - acc: 0.8695 - val_loss: 0.0856 - val_acc: 0.8902\n",
            "Epoch 3/10\n",
            " - 2s - loss: 0.0803 - acc: 0.8818 - val_loss: 0.0890 - val_acc: 0.9071\n",
            "Epoch 4/10\n",
            " - 2s - loss: 0.0728 - acc: 0.9020 - val_loss: 0.0756 - val_acc: 0.9223\n",
            "Epoch 5/10\n",
            " - 2s - loss: 0.0672 - acc: 0.9143 - val_loss: 0.0745 - val_acc: 0.9172\n",
            "Epoch 6/10\n",
            " - 2s - loss: 0.0616 - acc: 0.9160 - val_loss: 0.0849 - val_acc: 0.8784\n",
            "Epoch 7/10\n",
            " - 2s - loss: 0.0579 - acc: 0.9286 - val_loss: 0.0861 - val_acc: 0.9139\n",
            "Epoch 8/10\n",
            " - 2s - loss: 0.0509 - acc: 0.9307 - val_loss: 0.0933 - val_acc: 0.8986\n",
            "Epoch 9/10\n",
            " - 2s - loss: 0.0463 - acc: 0.9367 - val_loss: 0.0913 - val_acc: 0.8885\n",
            "Epoch 10/10\n",
            " - 2s - loss: 0.0434 - acc: 0.9426 - val_loss: 0.0919 - val_acc: 0.8970\n",
            "592/592 [==============================] - 0s 607us/step\n",
            "329/329 [==============================] - 0s 287us/step\n",
            "Train on 2368 samples, validate on 592 samples\n",
            "Epoch 1/10\n",
            " - 3s - loss: 0.1083 - acc: 0.8564 - val_loss: 0.1011 - val_acc: 0.8716\n",
            "Epoch 2/10\n",
            " - 2s - loss: 0.0983 - acc: 0.8712 - val_loss: 0.0932 - val_acc: 0.8699\n",
            "Epoch 3/10\n",
            " - 2s - loss: 0.0835 - acc: 0.8898 - val_loss: 0.0810 - val_acc: 0.8986\n",
            "Epoch 4/10\n",
            " - 2s - loss: 0.0736 - acc: 0.9016 - val_loss: 0.0752 - val_acc: 0.9054\n",
            "Epoch 5/10\n",
            " - 2s - loss: 0.0706 - acc: 0.9109 - val_loss: 0.0782 - val_acc: 0.9122\n",
            "Epoch 6/10\n",
            " - 2s - loss: 0.0647 - acc: 0.9172 - val_loss: 0.0765 - val_acc: 0.9139\n",
            "Epoch 7/10\n",
            " - 2s - loss: 0.0582 - acc: 0.9261 - val_loss: 0.1010 - val_acc: 0.9037\n",
            "Epoch 8/10\n",
            " - 2s - loss: 0.0544 - acc: 0.9299 - val_loss: 0.0823 - val_acc: 0.9122\n",
            "Epoch 9/10\n",
            " - 2s - loss: 0.0474 - acc: 0.9383 - val_loss: 0.0923 - val_acc: 0.9037\n",
            "Epoch 10/10\n",
            " - 2s - loss: 0.0393 - acc: 0.9531 - val_loss: 0.0997 - val_acc: 0.9139\n",
            "592/592 [==============================] - 0s 629us/step\n",
            "329/329 [==============================] - 0s 292us/step\n"
          ],
          "name": "stdout"
        }
      ]
    },
    {
      "cell_type": "code",
      "metadata": {
        "id": "Vo1Ec10_FbH4",
        "colab_type": "code",
        "colab": {
          "base_uri": "https://localhost:8080/",
          "height": 101
        },
        "outputId": "558fbb65-d9e0-45ca-fd8d-9695a1548616"
      },
      "source": [
        "atten_scores \n"
      ],
      "execution_count": 39,
      "outputs": [
        {
          "output_type": "execute_result",
          "data": {
            "text/plain": [
              "[0.7513127494223901,\n",
              " 0.6590050104548861,\n",
              " 0.7590929501571622,\n",
              " 0.7513889366975319,\n",
              " 0.7465051258154707]"
            ]
          },
          "metadata": {
            "tags": []
          },
          "execution_count": 39
        }
      ]
    },
    {
      "cell_type": "markdown",
      "metadata": {
        "id": "WlFNurr4T1rh",
        "colab_type": "text"
      },
      "source": [
        "##TCN"
      ]
    },
    {
      "cell_type": "code",
      "metadata": {
        "id": "xKtfxHFBT2wB",
        "colab_type": "code",
        "outputId": "8f8e1b61-e0a0-4e86-97c0-aa5d030567e1",
        "colab": {
          "base_uri": "https://localhost:8080/",
          "height": 1000
        }
      },
      "source": [
        "kfold = StratifiedKFold(n_splits=5, shuffle=False)\n",
        "tcn_scores = []\n",
        "tcn_test=[]\n",
        "for train, val in kfold.split(sequences_matrix, labels):\n",
        "  model=model_tcn(embeddings)\n",
        "  \n",
        "  model.fit(sequences_matrix[train], labels[train],batch_size=64,epochs=10,verbose=2,\n",
        "            validation_data=(sequences_matrix[val],labels[val]),callbacks=[clr,])\n",
        "  y_pred = model.predict(sequences_matrix[val], batch_size=64, verbose=1)\n",
        "\n",
        "  tcn_test.append(model.predict(X_test_sequences, batch_size=64, verbose=1).ravel())\n",
        "\n",
        "  y_pred = (y_pred > 0.5)\n",
        "  f1=f1_score(labels[val], y_pred, average='macro')\n",
        "  tcn_scores.append(f1)\n",
        "  keras.backend.clear_session()"
      ],
      "execution_count": 40,
      "outputs": [
        {
          "output_type": "stream",
          "text": [
            "Train on 2368 samples, validate on 592 samples\n",
            "Epoch 1/10\n",
            " - 3s - loss: 0.1103 - acc: 0.8678 - val_loss: 0.1064 - val_acc: 0.8716\n",
            "Epoch 2/10\n",
            " - 1s - loss: 0.1060 - acc: 0.8699 - val_loss: 0.1025 - val_acc: 0.8716\n",
            "Epoch 3/10\n",
            " - 1s - loss: 0.1047 - acc: 0.8699 - val_loss: 0.1023 - val_acc: 0.8716\n",
            "Epoch 4/10\n",
            " - 1s - loss: 0.1055 - acc: 0.8699 - val_loss: 0.1020 - val_acc: 0.8716\n",
            "Epoch 5/10\n",
            " - 1s - loss: 0.1041 - acc: 0.8691 - val_loss: 0.1010 - val_acc: 0.8716\n",
            "Epoch 6/10\n",
            " - 1s - loss: 0.1022 - acc: 0.8699 - val_loss: 0.0998 - val_acc: 0.8716\n",
            "Epoch 7/10\n",
            " - 1s - loss: 0.1015 - acc: 0.8691 - val_loss: 0.1005 - val_acc: 0.8716\n",
            "Epoch 8/10\n",
            " - 1s - loss: 0.1015 - acc: 0.8699 - val_loss: 0.0947 - val_acc: 0.8716\n",
            "Epoch 9/10\n",
            " - 1s - loss: 0.0996 - acc: 0.8699 - val_loss: 0.1033 - val_acc: 0.8716\n",
            "Epoch 10/10\n",
            " - 1s - loss: 0.1047 - acc: 0.8699 - val_loss: 0.0998 - val_acc: 0.8716\n",
            "592/592 [==============================] - 0s 520us/step\n",
            "329/329 [==============================] - 0s 414us/step\n",
            "Train on 2368 samples, validate on 592 samples\n",
            "Epoch 1/10\n",
            " - 2s - loss: 0.1113 - acc: 0.8535 - val_loss: 0.1027 - val_acc: 0.8699\n",
            "Epoch 2/10\n",
            " - 1s - loss: 0.1052 - acc: 0.8704 - val_loss: 0.1026 - val_acc: 0.8699\n",
            "Epoch 3/10\n",
            " - 1s - loss: 0.1022 - acc: 0.8704 - val_loss: 0.0994 - val_acc: 0.8699\n",
            "Epoch 4/10\n",
            " - 1s - loss: 0.0979 - acc: 0.8704 - val_loss: 0.0983 - val_acc: 0.8699\n",
            "Epoch 5/10\n",
            " - 1s - loss: 0.0936 - acc: 0.8708 - val_loss: 0.0886 - val_acc: 0.8699\n",
            "Epoch 6/10\n",
            " - 1s - loss: 0.0814 - acc: 0.8788 - val_loss: 0.0981 - val_acc: 0.8699\n",
            "Epoch 7/10\n",
            " - 1s - loss: 0.0793 - acc: 0.8974 - val_loss: 0.0845 - val_acc: 0.8936\n",
            "Epoch 8/10\n",
            " - 1s - loss: 0.0701 - acc: 0.9122 - val_loss: 0.1014 - val_acc: 0.8902\n",
            "Epoch 9/10\n",
            " - 1s - loss: 0.0638 - acc: 0.9193 - val_loss: 0.0882 - val_acc: 0.8885\n",
            "Epoch 10/10\n",
            " - 1s - loss: 0.0624 - acc: 0.9236 - val_loss: 0.0896 - val_acc: 0.8936\n",
            "592/592 [==============================] - 0s 490us/step\n",
            "329/329 [==============================] - 0s 102us/step\n",
            "Train on 2368 samples, validate on 592 samples\n",
            "Epoch 1/10\n",
            " - 2s - loss: 0.1072 - acc: 0.8670 - val_loss: 0.1126 - val_acc: 0.8699\n",
            "Epoch 2/10\n",
            " - 1s - loss: 0.1052 - acc: 0.8704 - val_loss: 0.1027 - val_acc: 0.8699\n",
            "Epoch 3/10\n",
            " - 1s - loss: 0.1058 - acc: 0.8704 - val_loss: 0.1080 - val_acc: 0.8699\n",
            "Epoch 4/10\n",
            " - 1s - loss: 0.1070 - acc: 0.8704 - val_loss: 0.1027 - val_acc: 0.8699\n",
            "Epoch 5/10\n",
            " - 1s - loss: 0.1047 - acc: 0.8704 - val_loss: 0.1022 - val_acc: 0.8699\n",
            "Epoch 6/10\n",
            " - 1s - loss: 0.1027 - acc: 0.8704 - val_loss: 0.1018 - val_acc: 0.8699\n",
            "Epoch 7/10\n",
            " - 1s - loss: 0.1070 - acc: 0.8704 - val_loss: 0.1035 - val_acc: 0.8699\n",
            "Epoch 8/10\n",
            " - 1s - loss: 0.1029 - acc: 0.8704 - val_loss: 0.1037 - val_acc: 0.8699\n",
            "Epoch 9/10\n",
            " - 1s - loss: 0.1015 - acc: 0.8704 - val_loss: 0.1012 - val_acc: 0.8699\n",
            "Epoch 10/10\n",
            " - 1s - loss: 0.1004 - acc: 0.8704 - val_loss: 0.0963 - val_acc: 0.8699\n",
            "592/592 [==============================] - 0s 529us/step\n",
            "329/329 [==============================] - 0s 104us/step\n",
            "Train on 2368 samples, validate on 592 samples\n",
            "Epoch 1/10\n",
            " - 2s - loss: 0.1179 - acc: 0.8471 - val_loss: 0.1033 - val_acc: 0.8699\n",
            "Epoch 2/10\n",
            " - 1s - loss: 0.1041 - acc: 0.8699 - val_loss: 0.1032 - val_acc: 0.8699\n",
            "Epoch 3/10\n",
            " - 1s - loss: 0.1019 - acc: 0.8704 - val_loss: 0.1072 - val_acc: 0.8699\n",
            "Epoch 4/10\n",
            " - 1s - loss: 0.0985 - acc: 0.8699 - val_loss: 0.0897 - val_acc: 0.8716\n",
            "Epoch 5/10\n",
            " - 1s - loss: 0.0837 - acc: 0.8784 - val_loss: 0.0812 - val_acc: 0.8851\n",
            "Epoch 6/10\n",
            " - 1s - loss: 0.0772 - acc: 0.8822 - val_loss: 0.0809 - val_acc: 0.8834\n",
            "Epoch 7/10\n",
            " - 1s - loss: 0.0707 - acc: 0.9012 - val_loss: 0.0809 - val_acc: 0.9105\n",
            "Epoch 8/10\n",
            " - 1s - loss: 0.0744 - acc: 0.9033 - val_loss: 0.0788 - val_acc: 0.8936\n",
            "Epoch 9/10\n",
            " - 1s - loss: 0.0712 - acc: 0.9008 - val_loss: 0.0842 - val_acc: 0.8953\n",
            "Epoch 10/10\n",
            " - 1s - loss: 0.0676 - acc: 0.9058 - val_loss: 0.1027 - val_acc: 0.8328\n",
            "592/592 [==============================] - 0s 506us/step\n",
            "329/329 [==============================] - 0s 107us/step\n",
            "Train on 2368 samples, validate on 592 samples\n",
            "Epoch 1/10\n",
            " - 2s - loss: 0.1110 - acc: 0.8619 - val_loss: 0.1017 - val_acc: 0.8699\n",
            "Epoch 2/10\n",
            " - 1s - loss: 0.1041 - acc: 0.8704 - val_loss: 0.1073 - val_acc: 0.8699\n",
            "Epoch 3/10\n",
            " - 1s - loss: 0.1055 - acc: 0.8704 - val_loss: 0.1009 - val_acc: 0.8699\n",
            "Epoch 4/10\n",
            " - 1s - loss: 0.1013 - acc: 0.8704 - val_loss: 0.0995 - val_acc: 0.8699\n",
            "Epoch 5/10\n",
            " - 1s - loss: 0.0922 - acc: 0.8725 - val_loss: 0.0857 - val_acc: 0.8902\n",
            "Epoch 6/10\n",
            " - 1s - loss: 0.0868 - acc: 0.8839 - val_loss: 0.0875 - val_acc: 0.8784\n",
            "Epoch 7/10\n",
            " - 1s - loss: 0.0792 - acc: 0.8919 - val_loss: 0.0811 - val_acc: 0.8868\n",
            "Epoch 8/10\n",
            " - 1s - loss: 0.0807 - acc: 0.8830 - val_loss: 0.0875 - val_acc: 0.8902\n",
            "Epoch 9/10\n",
            " - 1s - loss: 0.0742 - acc: 0.8974 - val_loss: 0.0772 - val_acc: 0.9122\n",
            "Epoch 10/10\n",
            " - 1s - loss: 0.0742 - acc: 0.8940 - val_loss: 0.0786 - val_acc: 0.9003\n",
            "592/592 [==============================] - 0s 503us/step\n",
            "329/329 [==============================] - 0s 115us/step\n"
          ],
          "name": "stdout"
        }
      ]
    },
    {
      "cell_type": "markdown",
      "metadata": {
        "id": "Tr_J6FWTCYXB",
        "colab_type": "text"
      },
      "source": [
        "##KIM"
      ]
    },
    {
      "cell_type": "code",
      "metadata": {
        "id": "PgmUF8liCa4M",
        "colab_type": "code",
        "outputId": "e74cf6e5-cfda-4f9e-e74c-ef17bbf6e7da",
        "colab": {
          "base_uri": "https://localhost:8080/",
          "height": 1000
        }
      },
      "source": [
        "kfold = StratifiedKFold(n_splits=5, shuffle=False)\n",
        "kim_scores = []\n",
        "kim_test=[]\n",
        "for train, val in kfold.split(sequences_matrix, labels):\n",
        "  model=model_kim()\n",
        "  \n",
        "  model.fit(sequences_matrix[train], labels[train],batch_size=64,epochs=10,verbose=2,\n",
        "            validation_data=(sequences_matrix[val],labels[val]),callbacks=[clr,])\n",
        "  y_pred = model.predict(sequences_matrix[val], batch_size=64, verbose=1)\n",
        "\n",
        "  kim_test.append(model.predict(X_test_sequences, batch_size=64, verbose=1).ravel())\n",
        "\n",
        "  y_pred = (y_pred > 0.5)\n",
        "  f1=f1_score(labels[val], y_pred, average='macro')\n",
        "  kim_scores.append(f1)\n",
        "  keras.backend.clear_session()"
      ],
      "execution_count": 41,
      "outputs": [
        {
          "output_type": "stream",
          "text": [
            "Train on 2368 samples, validate on 592 samples\n",
            "Epoch 1/10\n",
            " - 2s - loss: 0.2550 - acc: 0.6427 - val_loss: 0.1237 - val_acc: 0.8463\n",
            "Epoch 2/10\n",
            " - 1s - loss: 0.1251 - acc: 0.8125 - val_loss: 0.0975 - val_acc: 0.8767\n",
            "Epoch 3/10\n",
            " - 1s - loss: 0.1014 - acc: 0.8568 - val_loss: 0.0972 - val_acc: 0.8784\n",
            "Epoch 4/10\n",
            " - 1s - loss: 0.0839 - acc: 0.8818 - val_loss: 0.0930 - val_acc: 0.8818\n",
            "Epoch 5/10\n",
            " - 1s - loss: 0.0691 - acc: 0.9050 - val_loss: 0.1206 - val_acc: 0.8818\n",
            "Epoch 6/10\n",
            " - 1s - loss: 0.0540 - acc: 0.9307 - val_loss: 0.1097 - val_acc: 0.8902\n",
            "Epoch 7/10\n",
            " - 1s - loss: 0.0498 - acc: 0.9333 - val_loss: 0.0987 - val_acc: 0.8851\n",
            "Epoch 8/10\n",
            " - 1s - loss: 0.0460 - acc: 0.9392 - val_loss: 0.1269 - val_acc: 0.8902\n",
            "Epoch 9/10\n",
            " - 1s - loss: 0.0386 - acc: 0.9531 - val_loss: 0.1158 - val_acc: 0.8970\n",
            "Epoch 10/10\n",
            " - 1s - loss: 0.0342 - acc: 0.9552 - val_loss: 0.1752 - val_acc: 0.8834\n",
            "592/592 [==============================] - 0s 466us/step\n",
            "329/329 [==============================] - 0s 129us/step\n",
            "Train on 2368 samples, validate on 592 samples\n",
            "Epoch 1/10\n",
            " - 2s - loss: 0.2526 - acc: 0.6474 - val_loss: 0.1262 - val_acc: 0.8041\n",
            "Epoch 2/10\n",
            " - 1s - loss: 0.1249 - acc: 0.8281 - val_loss: 0.0938 - val_acc: 0.8666\n",
            "Epoch 3/10\n",
            " - 1s - loss: 0.0994 - acc: 0.8644 - val_loss: 0.1016 - val_acc: 0.8716\n",
            "Epoch 4/10\n",
            " - 1s - loss: 0.0829 - acc: 0.8834 - val_loss: 0.1239 - val_acc: 0.8750\n",
            "Epoch 5/10\n",
            " - 1s - loss: 0.0775 - acc: 0.8953 - val_loss: 0.1294 - val_acc: 0.8716\n",
            "Epoch 6/10\n",
            " - 1s - loss: 0.0578 - acc: 0.9248 - val_loss: 0.1023 - val_acc: 0.8818\n",
            "Epoch 7/10\n",
            " - 1s - loss: 0.0487 - acc: 0.9409 - val_loss: 0.1397 - val_acc: 0.8767\n",
            "Epoch 8/10\n",
            " - 1s - loss: 0.0388 - acc: 0.9455 - val_loss: 0.1512 - val_acc: 0.8784\n",
            "Epoch 9/10\n",
            " - 1s - loss: 0.0320 - acc: 0.9616 - val_loss: 0.1277 - val_acc: 0.8784\n",
            "Epoch 10/10\n",
            " - 1s - loss: 0.0291 - acc: 0.9654 - val_loss: 0.1687 - val_acc: 0.8818\n",
            "592/592 [==============================] - 0s 491us/step\n",
            "329/329 [==============================] - 0s 86us/step\n",
            "Train on 2368 samples, validate on 592 samples\n",
            "Epoch 1/10\n",
            " - 2s - loss: 0.2403 - acc: 0.6491 - val_loss: 0.1301 - val_acc: 0.7787\n",
            "Epoch 2/10\n",
            " - 1s - loss: 0.1224 - acc: 0.8104 - val_loss: 0.1020 - val_acc: 0.8615\n",
            "Epoch 3/10\n",
            " - 1s - loss: 0.1021 - acc: 0.8543 - val_loss: 0.1062 - val_acc: 0.8716\n",
            "Epoch 4/10\n",
            " - 1s - loss: 0.0803 - acc: 0.8843 - val_loss: 0.0946 - val_acc: 0.8733\n",
            "Epoch 5/10\n",
            " - 1s - loss: 0.0708 - acc: 0.8953 - val_loss: 0.1230 - val_acc: 0.8767\n",
            "Epoch 6/10\n",
            " - 1s - loss: 0.0593 - acc: 0.9177 - val_loss: 0.1350 - val_acc: 0.8767\n",
            "Epoch 7/10\n",
            " - 1s - loss: 0.0518 - acc: 0.9333 - val_loss: 0.1145 - val_acc: 0.8818\n",
            "Epoch 8/10\n",
            " - 1s - loss: 0.0400 - acc: 0.9413 - val_loss: 0.1411 - val_acc: 0.8818\n",
            "Epoch 9/10\n",
            " - 1s - loss: 0.0387 - acc: 0.9548 - val_loss: 0.1225 - val_acc: 0.8834\n",
            "Epoch 10/10\n",
            " - 1s - loss: 0.0324 - acc: 0.9620 - val_loss: 0.1136 - val_acc: 0.8834\n",
            "592/592 [==============================] - 0s 478us/step\n",
            "329/329 [==============================] - 0s 92us/step\n",
            "Train on 2368 samples, validate on 592 samples\n",
            "Epoch 1/10\n",
            " - 2s - loss: 0.2124 - acc: 0.6930 - val_loss: 0.1017 - val_acc: 0.8733\n",
            "Epoch 2/10\n",
            " - 1s - loss: 0.1127 - acc: 0.8501 - val_loss: 0.1019 - val_acc: 0.8699\n",
            "Epoch 3/10\n",
            " - 1s - loss: 0.0950 - acc: 0.8763 - val_loss: 0.0945 - val_acc: 0.8716\n",
            "Epoch 4/10\n",
            " - 1s - loss: 0.0841 - acc: 0.8885 - val_loss: 0.1199 - val_acc: 0.8699\n",
            "Epoch 5/10\n",
            " - 1s - loss: 0.0694 - acc: 0.8978 - val_loss: 0.0991 - val_acc: 0.8750\n",
            "Epoch 6/10\n",
            " - 1s - loss: 0.0553 - acc: 0.9261 - val_loss: 0.1256 - val_acc: 0.8716\n",
            "Epoch 7/10\n",
            " - 1s - loss: 0.0543 - acc: 0.9253 - val_loss: 0.1252 - val_acc: 0.8784\n",
            "Epoch 8/10\n",
            " - 1s - loss: 0.0483 - acc: 0.9358 - val_loss: 0.1271 - val_acc: 0.8784\n",
            "Epoch 9/10\n",
            " - 1s - loss: 0.0402 - acc: 0.9506 - val_loss: 0.0919 - val_acc: 0.8919\n",
            "Epoch 10/10\n",
            " - 1s - loss: 0.0313 - acc: 0.9603 - val_loss: 0.1040 - val_acc: 0.8902\n",
            "592/592 [==============================] - 0s 483us/step\n",
            "329/329 [==============================] - 0s 105us/step\n",
            "Train on 2368 samples, validate on 592 samples\n",
            "Epoch 1/10\n",
            " - 2s - loss: 0.2379 - acc: 0.6613 - val_loss: 0.2162 - val_acc: 0.4797\n",
            "Epoch 2/10\n",
            " - 1s - loss: 0.1109 - acc: 0.8366 - val_loss: 0.0975 - val_acc: 0.8699\n",
            "Epoch 3/10\n",
            " - 1s - loss: 0.1014 - acc: 0.8594 - val_loss: 0.1097 - val_acc: 0.8699\n",
            "Epoch 4/10\n",
            " - 1s - loss: 0.0853 - acc: 0.8856 - val_loss: 0.1054 - val_acc: 0.8733\n",
            "Epoch 5/10\n",
            " - 1s - loss: 0.0748 - acc: 0.9024 - val_loss: 0.1195 - val_acc: 0.8682\n",
            "Epoch 6/10\n",
            " - 1s - loss: 0.0570 - acc: 0.9257 - val_loss: 0.1365 - val_acc: 0.8733\n",
            "Epoch 7/10\n",
            " - 1s - loss: 0.0491 - acc: 0.9362 - val_loss: 0.1018 - val_acc: 0.8818\n",
            "Epoch 8/10\n",
            " - 1s - loss: 0.0460 - acc: 0.9405 - val_loss: 0.1020 - val_acc: 0.8868\n",
            "Epoch 9/10\n",
            " - 1s - loss: 0.0396 - acc: 0.9421 - val_loss: 0.1176 - val_acc: 0.8902\n",
            "Epoch 10/10\n",
            " - 1s - loss: 0.0325 - acc: 0.9578 - val_loss: 0.1217 - val_acc: 0.8851\n",
            "592/592 [==============================] - 0s 481us/step\n",
            "329/329 [==============================] - 0s 87us/step\n"
          ],
          "name": "stdout"
        }
      ]
    },
    {
      "cell_type": "markdown",
      "metadata": {
        "id": "4bXDiFxJH5Ny",
        "colab_type": "text"
      },
      "source": [
        "#**Result**"
      ]
    },
    {
      "cell_type": "markdown",
      "metadata": {
        "id": "vXd8VkdPhAq2",
        "colab_type": "text"
      },
      "source": [
        "# Result"
      ]
    },
    {
      "cell_type": "code",
      "metadata": {
        "id": "AnC41n_HRKQA",
        "colab_type": "code",
        "colab": {}
      },
      "source": [
        "gru_scores=np.average(np.array(gru_scores))\n",
        "atten_scores=np.average(np.array(atten_scores))\n",
        "tcn_scores=np.average(np.array(tcn_scores))\n",
        "kim_scores=np.average(np.array(kim_scores))"
      ],
      "execution_count": 0,
      "outputs": []
    },
    {
      "cell_type": "code",
      "metadata": {
        "id": "jBp341Qog_uv",
        "colab_type": "code",
        "outputId": "6f4618a9-eadf-4644-da32-73213a9f80a4",
        "colab": {
          "base_uri": "https://localhost:8080/",
          "height": 134
        }
      },
      "source": [
        "print('f1 score of count vec' ,cv_score)\n",
        "print('f1 score of word tfidf' ,tfw_score)\n",
        "print('f1 score of char tfidf' ,tfc_score)\n",
        "\n",
        "print('f1 score of RNN' ,gru_scores)\n",
        "print('f1 score of gated attention',atten_scores )\n",
        "print('f1 score of tcn',tcn_scores)\n",
        "print('f1 score of kim',kim_scores)\n"
      ],
      "execution_count": 59,
      "outputs": [
        {
          "output_type": "stream",
          "text": [
            "f1 score of count vec 0.746470164161414\n",
            "f1 score of word tfidf 0.7094192943546225\n",
            "f1 score of char tfidf 0.7640716931405663\n",
            "f1 score of RNN 0.7229943020955669\n",
            "f1 score of gated attention 0.7334609545094881\n",
            "f1 score of tcn 0.6200046173973031\n",
            "f1 score of kim 0.5883616990571042\n"
          ],
          "name": "stdout"
        }
      ]
    },
    {
      "cell_type": "code",
      "metadata": {
        "id": "ipijYwvjJPyx",
        "colab_type": "code",
        "colab": {}
      },
      "source": [
        "kim_test=np.mean(np.array(kim_test),axis=0)\n",
        "gru_test=np.mean(np.array(gru_test),axis=0)\n",
        "atten_test=np.mean(np.array(atten_test),axis=0)\n",
        "tcn_test=np.mean(np.array(tcn_test),axis=0)\n"
      ],
      "execution_count": 0,
      "outputs": []
    },
    {
      "cell_type": "code",
      "metadata": {
        "id": "ZZ8CR7s1Qe18",
        "colab_type": "code",
        "colab": {
          "base_uri": "https://localhost:8080/",
          "height": 101
        },
        "outputId": "7c2f8e69-4158-4446-b37f-00ae2c24672c"
      },
      "source": [
        "print(cv_test[0:5])\n",
        "print(tfw_test[0:5])\n",
        "print(gru_test[0:5])\n",
        "print(atten_test[0:5])\n",
        "print(tfc_test[0:5])"
      ],
      "execution_count": 64,
      "outputs": [
        {
          "output_type": "stream",
          "text": [
            "[0.00167826 0.01403657 0.04797171 0.00761199 0.05458202]\n",
            "[0.04674092 0.01631201 0.09372079 0.05624946 0.074367  ]\n",
            "[0.11961484 0.2694491  0.3133277  0.20338055 0.19011267]\n",
            "[0.14282338 0.25532937 0.3678596  0.17812736 0.18316135]\n",
            "[0.03971918 0.01602381 0.07197786 0.06477233 0.12175395]\n"
          ],
          "name": "stdout"
        }
      ]
    },
    {
      "cell_type": "markdown",
      "metadata": {
        "id": "DW1OugTMEpZg",
        "colab_type": "text"
      },
      "source": [
        "# Ensemble"
      ]
    },
    {
      "cell_type": "markdown",
      "metadata": {
        "id": "f6VT0aVcUIhm",
        "colab_type": "text"
      },
      "source": [
        "we will choose only those, having f1 greater than 0.7. Once they are selected, we will decode labels, and keep label according to mod"
      ]
    },
    {
      "cell_type": "code",
      "metadata": {
        "id": "6wmQlS5LkZLi",
        "colab_type": "code",
        "outputId": "15a8f8f6-be10-4b87-dd4d-72fc571e877d",
        "colab": {
          "base_uri": "https://localhost:8080/",
          "height": 34
        }
      },
      "source": [
        "wt=gru_scores+atten_scores+cv_score+tfw_score+tfc_score\n",
        "wt"
      ],
      "execution_count": 61,
      "outputs": [
        {
          "output_type": "execute_result",
          "data": {
            "text/plain": [
              "3.676416408261658"
            ]
          },
          "metadata": {
            "tags": []
          },
          "execution_count": 61
        }
      ]
    },
    {
      "cell_type": "code",
      "metadata": {
        "id": "AkCLYtxOcXCA",
        "colab_type": "code",
        "colab": {}
      },
      "source": [
        "#i am bit changing the distribution in order to give more weightage to ml than dl\n",
        "y_test=gru_scores/wt * gru_test + atten_scores/wt * atten_test + cv_score/wt * cv_test + tfw_score/wt *tfw_test + tfc_score/wt *tfc_test"
      ],
      "execution_count": 0,
      "outputs": []
    },
    {
      "cell_type": "code",
      "metadata": {
        "id": "EzRAIebNSpMz",
        "colab_type": "code",
        "colab": {
          "base_uri": "https://localhost:8080/",
          "height": 34
        },
        "outputId": "5ca879c7-959e-445a-d537-27bbb87d1087"
      },
      "source": [
        "y_test[0:5]"
      ],
      "execution_count": 63,
      "outputs": [
        {
          "output_type": "execute_result",
          "data": {
            "text/plain": [
              "array([0.06963199, 0.11325637, 0.1777921 , 0.10139486, 0.12466544])"
            ]
          },
          "metadata": {
            "tags": []
          },
          "execution_count": 63
        }
      ]
    },
    {
      "cell_type": "code",
      "metadata": {
        "id": "V9Pu0LvuZIf8",
        "colab_type": "code",
        "colab": {}
      },
      "source": [
        "def decode(y_test):\n",
        "  y_test[y_test>0.5]=1\n",
        "  y_test[y_test<0.5]=0\n",
        "  y_test=y_test.astype('int16').ravel()\n",
        "\n",
        "  y_test=le.inverse_transform(y_test)\n",
        "  y_test=pd.DataFrame(y_test,columns=['label'])\n",
        "  y_test=pd.concat([ids, y_test['label']], axis=1)\n",
        "  return y_test"
      ],
      "execution_count": 0,
      "outputs": []
    },
    {
      "cell_type": "code",
      "metadata": {
        "id": "7PgV77IYZRGP",
        "colab_type": "code",
        "outputId": "66c39ae1-767b-4c3d-9adf-1a41d127effc",
        "colab": {
          "base_uri": "https://localhost:8080/",
          "height": 195
        }
      },
      "source": [
        "y_test=decode(y_test)\n",
        "y_test.head()\n",
        "\n"
      ],
      "execution_count": 66,
      "outputs": [
        {
          "output_type": "execute_result",
          "data": {
            "text/html": [
              "<div>\n",
              "<style scoped>\n",
              "    .dataframe tbody tr th:only-of-type {\n",
              "        vertical-align: middle;\n",
              "    }\n",
              "\n",
              "    .dataframe tbody tr th {\n",
              "        vertical-align: top;\n",
              "    }\n",
              "\n",
              "    .dataframe thead th {\n",
              "        text-align: right;\n",
              "    }\n",
              "</style>\n",
              "<table border=\"1\" class=\"dataframe\">\n",
              "  <thead>\n",
              "    <tr style=\"text-align: right;\">\n",
              "      <th></th>\n",
              "      <th>id</th>\n",
              "      <th>label</th>\n",
              "    </tr>\n",
              "  </thead>\n",
              "  <tbody>\n",
              "    <tr>\n",
              "      <th>0</th>\n",
              "      <td>1382</td>\n",
              "      <td>NOT</td>\n",
              "    </tr>\n",
              "    <tr>\n",
              "      <th>1</th>\n",
              "      <td>1384</td>\n",
              "      <td>NOT</td>\n",
              "    </tr>\n",
              "    <tr>\n",
              "      <th>2</th>\n",
              "      <td>547</td>\n",
              "      <td>NOT</td>\n",
              "    </tr>\n",
              "    <tr>\n",
              "      <th>3</th>\n",
              "      <td>1269</td>\n",
              "      <td>NOT</td>\n",
              "    </tr>\n",
              "    <tr>\n",
              "      <th>4</th>\n",
              "      <td>1695</td>\n",
              "      <td>NOT</td>\n",
              "    </tr>\n",
              "  </tbody>\n",
              "</table>\n",
              "</div>"
            ],
            "text/plain": [
              "     id label\n",
              "0  1382   NOT\n",
              "1  1384   NOT\n",
              "2   547   NOT\n",
              "3  1269   NOT\n",
              "4  1695   NOT"
            ]
          },
          "metadata": {
            "tags": []
          },
          "execution_count": 66
        }
      ]
    },
    {
      "cell_type": "code",
      "metadata": {
        "id": "8avMmBQvb_IR",
        "colab_type": "code",
        "colab": {}
      },
      "source": [
        ""
      ],
      "execution_count": 0,
      "outputs": []
    },
    {
      "cell_type": "markdown",
      "metadata": {
        "id": "Dl57zICXM4c6",
        "colab_type": "text"
      },
      "source": [
        "# Submit file"
      ]
    },
    {
      "cell_type": "code",
      "metadata": {
        "id": "3LkCxvtfEnpl",
        "colab_type": "code",
        "colab": {}
      },
      "source": [
        ""
      ],
      "execution_count": 0,
      "outputs": []
    },
    {
      "cell_type": "code",
      "metadata": {
        "id": "GHTCw4_jP_tr",
        "colab_type": "code",
        "colab": {}
      },
      "source": [
        "y_test.to_csv('/content/weighted.csv',index=False,header=None)\n"
      ],
      "execution_count": 0,
      "outputs": []
    },
    {
      "cell_type": "code",
      "metadata": {
        "id": "2tPo96DUz_EZ",
        "colab_type": "code",
        "colab": {}
      },
      "source": [
        ""
      ],
      "execution_count": 0,
      "outputs": []
    },
    {
      "cell_type": "markdown",
      "metadata": {
        "id": "FwKb7_NBWjAv",
        "colab_type": "text"
      },
      "source": [
        "# Reset"
      ]
    },
    {
      "cell_type": "code",
      "metadata": {
        "id": "R0Xi3s2KWlKi",
        "colab_type": "code",
        "colab": {}
      },
      "source": [
        "# import keras\n",
        "# keras.backend.clear_session()"
      ],
      "execution_count": 0,
      "outputs": []
    },
    {
      "cell_type": "code",
      "metadata": {
        "id": "T39YK5rbQBoT",
        "colab_type": "code",
        "colab": {}
      },
      "source": [
        ""
      ],
      "execution_count": 0,
      "outputs": []
    }
  ]
}