{
  "nbformat": 4,
  "nbformat_minor": 0,
  "metadata": {
    "colab": {
      "name": "Greek.ipynb",
      "provenance": [],
      "collapsed_sections": [
        "FwKb7_NBWjAv"
      ],
      "include_colab_link": true
    },
    "kernelspec": {
      "name": "python3",
      "display_name": "Python 3"
    },
    "accelerator": "GPU"
  },
  "cells": [
    {
      "cell_type": "markdown",
      "metadata": {
        "id": "view-in-github",
        "colab_type": "text"
      },
      "source": [
        "<a href=\"https://colab.research.google.com/github/talhaanwarch/OffenseEval2020/blob/master/submissions/Greek_crossval.ipynb\" target=\"_parent\"><img src=\"https://colab.research.google.com/assets/colab-badge.svg\" alt=\"Open In Colab\"/></a>"
      ]
    },
    {
      "cell_type": "code",
      "metadata": {
        "id": "_uqG7k8lK3xz",
        "colab_type": "code",
        "outputId": "9b0513ec-9b26-499c-eddb-72e65a13caec",
        "colab": {
          "base_uri": "https://localhost:8080/",
          "height": 286
        }
      },
      "source": [
        "!pip install focal-loss\n",
        "!pip install keras-tcn==2.8.3"
      ],
      "execution_count": 1,
      "outputs": [
        {
          "output_type": "stream",
          "text": [
            "Collecting focal-loss\n",
            "  Downloading https://files.pythonhosted.org/packages/66/ed/17450291228192ad8595de4514c8ec28a587697b03c707d12d4af5b7f331/focal_loss-0.0.2-py3-none-any.whl\n",
            "Installing collected packages: focal-loss\n",
            "Successfully installed focal-loss-0.0.2\n",
            "Collecting keras-tcn==2.8.3\n",
            "  Downloading https://files.pythonhosted.org/packages/d4/c4/438c86b27ab11a79cc659d8d6878682c4eb80caa0c0b3d620740cef762f5/keras_tcn-2.8.3-py3-none-any.whl\n",
            "Requirement already satisfied: keras in /usr/local/lib/python3.6/dist-packages (from keras-tcn==2.8.3) (2.2.5)\n",
            "Requirement already satisfied: numpy in /usr/local/lib/python3.6/dist-packages (from keras-tcn==2.8.3) (1.17.5)\n",
            "Requirement already satisfied: pyyaml in /usr/local/lib/python3.6/dist-packages (from keras->keras-tcn==2.8.3) (3.13)\n",
            "Requirement already satisfied: h5py in /usr/local/lib/python3.6/dist-packages (from keras->keras-tcn==2.8.3) (2.8.0)\n",
            "Requirement already satisfied: keras-applications>=1.0.8 in /usr/local/lib/python3.6/dist-packages (from keras->keras-tcn==2.8.3) (1.0.8)\n",
            "Requirement already satisfied: six>=1.9.0 in /usr/local/lib/python3.6/dist-packages (from keras->keras-tcn==2.8.3) (1.12.0)\n",
            "Requirement already satisfied: scipy>=0.14 in /usr/local/lib/python3.6/dist-packages (from keras->keras-tcn==2.8.3) (1.4.1)\n",
            "Requirement already satisfied: keras-preprocessing>=1.1.0 in /usr/local/lib/python3.6/dist-packages (from keras->keras-tcn==2.8.3) (1.1.0)\n",
            "Installing collected packages: keras-tcn\n",
            "Successfully installed keras-tcn-2.8.3\n"
          ],
          "name": "stdout"
        }
      ]
    },
    {
      "cell_type": "code",
      "metadata": {
        "id": "pPexfZvANVks",
        "colab_type": "code",
        "outputId": "4600e0fe-d727-413b-f418-f499865d756d",
        "colab": {
          "base_uri": "https://localhost:8080/",
          "height": 121
        }
      },
      "source": [
        "from google.colab import drive\n",
        "drive.mount('/content/drive',force_remount=True)"
      ],
      "execution_count": 2,
      "outputs": [
        {
          "output_type": "stream",
          "text": [
            "Go to this URL in a browser: https://accounts.google.com/o/oauth2/auth?client_id=947318989803-6bn6qk8qdgf4n4g3pfee6491hc0brc4i.apps.googleusercontent.com&redirect_uri=urn%3aietf%3awg%3aoauth%3a2.0%3aoob&response_type=code&scope=email%20https%3a%2f%2fwww.googleapis.com%2fauth%2fdocs.test%20https%3a%2f%2fwww.googleapis.com%2fauth%2fdrive%20https%3a%2f%2fwww.googleapis.com%2fauth%2fdrive.photos.readonly%20https%3a%2f%2fwww.googleapis.com%2fauth%2fpeopleapi.readonly\n",
            "\n",
            "Enter your authorization code:\n",
            "··········\n",
            "Mounted at /content/drive\n"
          ],
          "name": "stdout"
        }
      ]
    },
    {
      "cell_type": "markdown",
      "metadata": {
        "id": "G6Q3msMuLDpE",
        "colab_type": "text"
      },
      "source": [
        "# Import lib"
      ]
    },
    {
      "cell_type": "code",
      "metadata": {
        "id": "MpTHlh_QLDL7",
        "colab_type": "code",
        "outputId": "b443744e-2d6f-4d19-cd78-039709ed1af9",
        "colab": {
          "base_uri": "https://localhost:8080/",
          "height": 79
        }
      },
      "source": [
        "import pandas as pd\n",
        "from sklearn.preprocessing import LabelEncoder\n",
        "from keras.models import Sequential,Model\n",
        "from keras.layers import Embedding,CuDNNGRU,CuDNNLSTM,Dense,Dropout,Bidirectional,BatchNormalization,GlobalMaxPooling1D,Flatten, GlobalAveragePooling1D, MaxPooling1D,SpatialDropout1D,Input,Activation,concatenate,Conv1D\n",
        "from keras.optimizers import RMSprop,Adam,Adadelta\n",
        "from keras.initializers import Constant\n",
        "from sklearn.utils import class_weight\n",
        "from sklearn.metrics import classification_report,f1_score\n",
        "import keras\n",
        "import collections\n",
        "import numpy as np\n",
        "from focal_loss import BinaryFocalLoss\n",
        "from sklearn.model_selection import StratifiedKFold\n",
        "from sklearn.model_selection import GridSearchCV\n",
        "from sklearn.linear_model import LogisticRegression\n",
        "from sklearn.feature_extraction.text import CountVectorizer\n",
        "from sklearn.pipeline import make_pipeline\n",
        "from keras import backend as K\n",
        "import tensorflow as tf\n",
        "tf.logging.set_verbosity(tf.logging.ERROR)\n"
      ],
      "execution_count": 3,
      "outputs": [
        {
          "output_type": "stream",
          "text": [
            "Using TensorFlow backend.\n"
          ],
          "name": "stderr"
        },
        {
          "output_type": "display_data",
          "data": {
            "text/html": [
              "<p style=\"color: red;\">\n",
              "The default version of TensorFlow in Colab will soon switch to TensorFlow 2.x.<br>\n",
              "We recommend you <a href=\"https://www.tensorflow.org/guide/migrate\" target=\"_blank\">upgrade</a> now \n",
              "or ensure your notebook will continue to use TensorFlow 1.x via the <code>%tensorflow_version 1.x</code> magic:\n",
              "<a href=\"https://colab.research.google.com/notebooks/tensorflow_version.ipynb\" target=\"_blank\">more info</a>.</p>\n"
            ],
            "text/plain": [
              "<IPython.core.display.HTML object>"
            ]
          },
          "metadata": {
            "tags": []
          }
        }
      ]
    },
    {
      "cell_type": "markdown",
      "metadata": {
        "id": "Udk8qWz-K4cx",
        "colab_type": "text"
      },
      "source": [
        "# Load data"
      ]
    },
    {
      "cell_type": "code",
      "metadata": {
        "id": "52k7345EK6kb",
        "colab_type": "code",
        "outputId": "ab1d7321-0261-4946-fc4b-f7af90203c2a",
        "colab": {
          "base_uri": "https://localhost:8080/",
          "height": 34
        }
      },
      "source": [
        "cd /content/drive/My Drive/dataset/OffenseEval2020/data/Greek/"
      ],
      "execution_count": 4,
      "outputs": [
        {
          "output_type": "stream",
          "text": [
            "/content/drive/My Drive/dataset/OffenseEval2020/data/Greek\n"
          ],
          "name": "stdout"
        }
      ]
    },
    {
      "cell_type": "code",
      "metadata": {
        "id": "MnI2RvjGK_Vw",
        "colab_type": "code",
        "outputId": "75709222-457f-4845-c263-44a101c26bbf",
        "colab": {
          "base_uri": "https://localhost:8080/",
          "height": 50
        }
      },
      "source": [
        "ls"
      ],
      "execution_count": 5,
      "outputs": [
        {
          "output_type": "stream",
          "text": [
            "cc.el.300.vec     offenseval-greek-training-v1.tsv  testset_taska.tsv\n",
            "cc.el.300.vec.gz  readme-trainingset-greek.txt\n"
          ],
          "name": "stdout"
        }
      ]
    },
    {
      "cell_type": "code",
      "metadata": {
        "id": "Jnd4B-_5LApL",
        "colab_type": "code",
        "outputId": "b079c770-7777-4c8b-c8e7-ed6082adb2a0",
        "colab": {
          "base_uri": "https://localhost:8080/",
          "height": 212
        }
      },
      "source": [
        "train=pd.read_csv( 'offenseval-greek-training-v1.tsv',sep=\"\\t\")\n",
        "train.drop(train.tail(n=1).index,inplace=True)\n",
        "train[\"tweet\"]= train[\"tweet\"].str.replace('@USER', \"\") \n",
        "train['tweet']=train['tweet'].str.replace('\\d+', '')\n",
        "train['tweet']=train['tweet'].str.replace('URL', '')\n",
        "train[\"tweet\"]= train[\"tweet\"].str.lower()\n",
        "train=train.sample(frac=1)\n",
        "print(len(train))\n",
        "train.head()"
      ],
      "execution_count": 6,
      "outputs": [
        {
          "output_type": "stream",
          "text": [
            "8742\n"
          ],
          "name": "stdout"
        },
        {
          "output_type": "execute_result",
          "data": {
            "text/html": [
              "<div>\n",
              "<style scoped>\n",
              "    .dataframe tbody tr th:only-of-type {\n",
              "        vertical-align: middle;\n",
              "    }\n",
              "\n",
              "    .dataframe tbody tr th {\n",
              "        vertical-align: top;\n",
              "    }\n",
              "\n",
              "    .dataframe thead th {\n",
              "        text-align: right;\n",
              "    }\n",
              "</style>\n",
              "<table border=\"1\" class=\"dataframe\">\n",
              "  <thead>\n",
              "    <tr style=\"text-align: right;\">\n",
              "      <th></th>\n",
              "      <th>id</th>\n",
              "      <th>tweet</th>\n",
              "      <th>subtask_a</th>\n",
              "    </tr>\n",
              "  </thead>\n",
              "  <tbody>\n",
              "    <tr>\n",
              "      <th>7836</th>\n",
              "      <td>9178</td>\n",
              "      <td>παίρνεις συνέντευξη από τον μαμαλάκη και τον ρ...</td>\n",
              "      <td>NOT</td>\n",
              "    </tr>\n",
              "    <tr>\n",
              "      <th>2749</th>\n",
              "      <td>4623</td>\n",
              "      <td>αν το πρόβλημα σου είναι οι ξένοι κι όχι όσοι ...</td>\n",
              "      <td>NOT</td>\n",
              "    </tr>\n",
              "    <tr>\n",
              "      <th>7184</th>\n",
              "      <td>3824</td>\n",
              "      <td>δεν μας φτάνει η στεναχώρια για τα γκομενικά έ...</td>\n",
              "      <td>OFF</td>\n",
              "    </tr>\n",
              "    <tr>\n",
              "      <th>8075</th>\n",
              "      <td>3891</td>\n",
              "      <td>τσίπρα, σιγά μην είσαι και ο λένιν γράφει ο λε...</td>\n",
              "      <td>NOT</td>\n",
              "    </tr>\n",
              "    <tr>\n",
              "      <th>4047</th>\n",
              "      <td>327</td>\n",
              "      <td>το να είσαι άθεος ή ομοφυλόφιλος ή και τα δύο,...</td>\n",
              "      <td>NOT</td>\n",
              "    </tr>\n",
              "  </tbody>\n",
              "</table>\n",
              "</div>"
            ],
            "text/plain": [
              "        id                                              tweet subtask_a\n",
              "7836  9178  παίρνεις συνέντευξη από τον μαμαλάκη και τον ρ...       NOT\n",
              "2749  4623  αν το πρόβλημα σου είναι οι ξένοι κι όχι όσοι ...       NOT\n",
              "7184  3824  δεν μας φτάνει η στεναχώρια για τα γκομενικά έ...       OFF\n",
              "8075  3891  τσίπρα, σιγά μην είσαι και ο λένιν γράφει ο λε...       NOT\n",
              "4047   327  το να είσαι άθεος ή ομοφυλόφιλος ή και τα δύο,...       NOT"
            ]
          },
          "metadata": {
            "tags": []
          },
          "execution_count": 6
        }
      ]
    },
    {
      "cell_type": "code",
      "metadata": {
        "id": "JdwHh_q_LLus",
        "colab_type": "code",
        "outputId": "3aaeb2eb-0fc1-4504-cfed-51c72e558a55",
        "colab": {
          "base_uri": "https://localhost:8080/",
          "height": 118
        }
      },
      "source": [
        "test=pd.read_csv( 'testset_taska.tsv',sep='\\t')\n",
        "test[\"tweet\"]= test[\"tweet\"].str.replace('@USER', \"\") \n",
        "test['tweet']=test['tweet'].str.replace('\\d+', '')\n",
        "test['tweet']=test['tweet'].str.replace('URL', '')\n",
        "test['tweet']=test['tweet'].str.lower()\n",
        "ids=test['id']\n",
        "test=test['tweet']\n",
        "test.head()"
      ],
      "execution_count": 7,
      "outputs": [
        {
          "output_type": "execute_result",
          "data": {
            "text/plain": [
              "0     θέλω να των δω από εδώ και εμπρός αν δεν κάνε...\n",
              "1    #survivorgr α και  φορές και με διαφορετικούς....\n",
              "2    και μου έλεγε η γυναίκα μου το πρωί πάρε την τ...\n",
              "3                     κατω τα χερια απο τον #κυρανακης\n",
              "4     μην μας το παιζεις πονοψυχη,κρυφορατσιστρια τ...\n",
              "Name: tweet, dtype: object"
            ]
          },
          "metadata": {
            "tags": []
          },
          "execution_count": 7
        }
      ]
    },
    {
      "cell_type": "markdown",
      "metadata": {
        "id": "YUFczyikLeYO",
        "colab_type": "text"
      },
      "source": [
        "#Label Encoding"
      ]
    },
    {
      "cell_type": "code",
      "metadata": {
        "id": "CFPv0_zdLnlS",
        "colab_type": "code",
        "colab": {}
      },
      "source": [
        "labels=train['subtask_a']\n",
        "train=train['tweet']"
      ],
      "execution_count": 0,
      "outputs": []
    },
    {
      "cell_type": "code",
      "metadata": {
        "id": "w9PjbFwJLiNA",
        "colab_type": "code",
        "outputId": "6e83e5e8-4fa6-4a13-e5c5-0bde86fc3042",
        "colab": {
          "base_uri": "https://localhost:8080/",
          "height": 34
        }
      },
      "source": [
        "le=LabelEncoder()\n",
        "labels=le.fit_transform(labels)\n",
        "print(len(labels))"
      ],
      "execution_count": 9,
      "outputs": [
        {
          "output_type": "stream",
          "text": [
            "8742\n"
          ],
          "name": "stdout"
        }
      ]
    },
    {
      "cell_type": "markdown",
      "metadata": {
        "id": "Ek_ZUjDef7ZV",
        "colab_type": "text"
      },
      "source": [
        "# Common Parameters"
      ]
    },
    {
      "cell_type": "code",
      "metadata": {
        "id": "vdtjDLnOACbK",
        "colab_type": "code",
        "colab": {}
      },
      "source": [
        "import numpy as np\n",
        "class_weights = class_weight.compute_class_weight('balanced',np.unique(labels),labels)\n",
        "class_weights=dict(enumerate(class_weights))"
      ],
      "execution_count": 0,
      "outputs": []
    },
    {
      "cell_type": "markdown",
      "metadata": {
        "id": "i-IToeBciV1m",
        "colab_type": "text"
      },
      "source": [
        "## Cylic learning rate"
      ]
    },
    {
      "cell_type": "code",
      "metadata": {
        "id": "PIYW6ZAniXzU",
        "colab_type": "code",
        "colab": {}
      },
      "source": [
        "# https://www.kaggle.com/hireme/fun-api-keras-f1-metric-cyclical-learning-rate/code\n",
        "from keras.callbacks import Callback\n",
        "class CyclicLR(Callback):\n",
        "    \"\"\"This callback implements a cyclical learning rate policy (CLR).\n",
        "    The method cycles the learning rate between two boundaries with\n",
        "    some constant frequency, as detailed in this paper (https://arxiv.org/abs/1506.01186).\n",
        "    The amplitude of the cycle can be scaled on a per-iteration or \n",
        "    per-cycle basis.\n",
        "    This class has three built-in policies, as put forth in the paper.\n",
        "    \"triangular\":\n",
        "        A basic triangular cycle w/ no amplitude scaling.\n",
        "    \"triangular2\":\n",
        "        A basic triangular cycle that scales initial amplitude by half each cycle.\n",
        "    \"exp_range\":\n",
        "        A cycle that scales initial amplitude by gamma**(cycle iterations) at each \n",
        "        cycle iteration.\n",
        "    For more detail, please see paper.\n",
        "    \n",
        "    # Example\n",
        "        ```python\n",
        "            clr = CyclicLR(base_lr=0.001, max_lr=0.006,\n",
        "                                step_size=2000., mode='triangular')\n",
        "            model.fit(X_train, Y_train, callbacks=[clr])\n",
        "        ```\n",
        "    \n",
        "    Class also supports custom scaling functions:\n",
        "        ```python\n",
        "            clr_fn = lambda x: 0.5*(1+np.sin(x*np.pi/2.))\n",
        "            clr = CyclicLR(base_lr=0.001, max_lr=0.006,\n",
        "                                step_size=2000., scale_fn=clr_fn,\n",
        "                                scale_mode='cycle')\n",
        "            model.fit(X_train, Y_train, callbacks=[clr])\n",
        "        ```    \n",
        "    # Arguments\n",
        "        base_lr: initial learning rate which is the\n",
        "            lower boundary in the cycle.\n",
        "        max_lr: upper boundary in the cycle. Functionally,\n",
        "            it defines the cycle amplitude (max_lr - base_lr).\n",
        "            The lr at any cycle is the sum of base_lr\n",
        "            and some scaling of the amplitude; therefore \n",
        "            max_lr may not actually be reached depending on\n",
        "            scaling function.\n",
        "        step_size: number of training iterations per\n",
        "            half cycle. Authors suggest setting step_size\n",
        "            2-8 x training iterations in epoch.\n",
        "        mode: one of {triangular, triangular2, exp_range}.\n",
        "            Default 'triangular'.\n",
        "            Values correspond to policies detailed above.\n",
        "            If scale_fn is not None, this argument is ignored.\n",
        "        gamma: constant in 'exp_range' scaling function:\n",
        "            gamma**(cycle iterations)\n",
        "        scale_fn: Custom scaling policy defined by a single\n",
        "            argument lambda function, where \n",
        "            0 <= scale_fn(x) <= 1 for all x >= 0.\n",
        "            mode paramater is ignored \n",
        "        scale_mode: {'cycle', 'iterations'}.\n",
        "            Defines whether scale_fn is evaluated on \n",
        "            cycle number or cycle iterations (training\n",
        "            iterations since start of cycle). Default is 'cycle'.\n",
        "    \"\"\"\n",
        "\n",
        "    def __init__(self, base_lr=0.001, max_lr=0.006, step_size=2000., mode='triangular',\n",
        "                 gamma=1., scale_fn=None, scale_mode='cycle'):\n",
        "        super(CyclicLR, self).__init__()\n",
        "\n",
        "        self.base_lr = base_lr\n",
        "        self.max_lr = max_lr\n",
        "        self.step_size = step_size\n",
        "        self.mode = mode\n",
        "        self.gamma = gamma\n",
        "        if scale_fn == None:\n",
        "            if self.mode == 'triangular':\n",
        "                self.scale_fn = lambda x: 1.\n",
        "                self.scale_mode = 'cycle'\n",
        "            elif self.mode == 'triangular2':\n",
        "                self.scale_fn = lambda x: 1/(2.**(x-1))\n",
        "                self.scale_mode = 'cycle'\n",
        "            elif self.mode == 'exp_range':\n",
        "                self.scale_fn = lambda x: gamma**(x)\n",
        "                self.scale_mode = 'iterations'\n",
        "        else:\n",
        "            self.scale_fn = scale_fn\n",
        "            self.scale_mode = scale_mode\n",
        "        self.clr_iterations = 0.\n",
        "        self.trn_iterations = 0.\n",
        "        self.history = {}\n",
        "\n",
        "        self._reset()\n",
        "\n",
        "    def _reset(self, new_base_lr=None, new_max_lr=None,\n",
        "               new_step_size=None):\n",
        "        \"\"\"Resets cycle iterations.\n",
        "        Optional boundary/step size adjustment.\n",
        "        \"\"\"\n",
        "        if new_base_lr != None:\n",
        "            self.base_lr = new_base_lr\n",
        "        if new_max_lr != None:\n",
        "            self.max_lr = new_max_lr\n",
        "        if new_step_size != None:\n",
        "            self.step_size = new_step_size\n",
        "        self.clr_iterations = 0.\n",
        "        \n",
        "    def clr(self):\n",
        "        cycle = np.floor(1+self.clr_iterations/(2*self.step_size))\n",
        "        x = np.abs(self.clr_iterations/self.step_size - 2*cycle + 1)\n",
        "        if self.scale_mode == 'cycle':\n",
        "            return self.base_lr + (self.max_lr-self.base_lr)*np.maximum(0, (1-x))*self.scale_fn(cycle)\n",
        "        else:\n",
        "            return self.base_lr + (self.max_lr-self.base_lr)*np.maximum(0, (1-x))*self.scale_fn(self.clr_iterations)\n",
        "        \n",
        "    def on_train_begin(self, logs={}):\n",
        "        logs = logs or {}\n",
        "\n",
        "        if self.clr_iterations == 0:\n",
        "            K.set_value(self.model.optimizer.lr, self.base_lr)\n",
        "        else:\n",
        "            K.set_value(self.model.optimizer.lr, self.clr())        \n",
        "            \n",
        "    def on_batch_end(self, epoch, logs=None):\n",
        "        \n",
        "        logs = logs or {}\n",
        "        self.trn_iterations += 1\n",
        "        self.clr_iterations += 1\n",
        "\n",
        "        self.history.setdefault('lr', []).append(K.get_value(self.model.optimizer.lr))\n",
        "        self.history.setdefault('iterations', []).append(self.trn_iterations)\n",
        "\n",
        "        for k, v in logs.items():\n",
        "            self.history.setdefault(k, []).append(v)\n",
        "        \n",
        "        K.set_value(self.model.optimizer.lr, self.clr())"
      ],
      "execution_count": 0,
      "outputs": []
    },
    {
      "cell_type": "code",
      "metadata": {
        "id": "DIcxIjeYjHyo",
        "colab_type": "code",
        "colab": {}
      },
      "source": [
        "clr = CyclicLR(base_lr=0.001, max_lr=0.005,\n",
        "                        step_size=4., mode='exp_range',\n",
        "                        gamma=0.99994)"
      ],
      "execution_count": 0,
      "outputs": []
    },
    {
      "cell_type": "markdown",
      "metadata": {
        "id": "NAv_EEaQLXtY",
        "colab_type": "text"
      },
      "source": [
        "# Tokenize data"
      ]
    },
    {
      "cell_type": "code",
      "metadata": {
        "id": "QomCkNlRLHPG",
        "colab_type": "code",
        "colab": {}
      },
      "source": [
        "from keras.preprocessing.text import Tokenizer\n",
        "from keras.preprocessing import sequence\n",
        "max_words = 10000 #frequency of words to be kept\n",
        "max_len = 200\n",
        "\n",
        "tokenize = Tokenizer(num_words=max_words)\n",
        "tokenize.fit_on_texts(train)\n",
        "sequences = tokenize.texts_to_sequences(train)\n",
        "word_index = tokenize.word_index\n",
        "sequences_matrix = sequence.pad_sequences(sequences,maxlen=max_len,padding='post')"
      ],
      "execution_count": 0,
      "outputs": []
    },
    {
      "cell_type": "code",
      "metadata": {
        "id": "Og1W2rCOLs4w",
        "colab_type": "code",
        "outputId": "94597f2c-5e8b-48c4-d434-4ad61b4f6fd5",
        "colab": {
          "base_uri": "https://localhost:8080/",
          "height": 34
        }
      },
      "source": [
        "len(sequences_matrix),len(labels)"
      ],
      "execution_count": 14,
      "outputs": [
        {
          "output_type": "execute_result",
          "data": {
            "text/plain": [
              "(8742, 8742)"
            ]
          },
          "metadata": {
            "tags": []
          },
          "execution_count": 14
        }
      ]
    },
    {
      "cell_type": "code",
      "metadata": {
        "id": "I4kzu1RxLyGk",
        "colab_type": "code",
        "outputId": "b46c4ad4-413d-4f9a-f82e-010b108dafc2",
        "colab": {
          "base_uri": "https://localhost:8080/",
          "height": 34
        }
      },
      "source": [
        "num_words = min(max_words, len(word_index)) + 1\n",
        "print(num_words)"
      ],
      "execution_count": 15,
      "outputs": [
        {
          "output_type": "stream",
          "text": [
            "10001\n"
          ],
          "name": "stdout"
        }
      ]
    },
    {
      "cell_type": "code",
      "metadata": {
        "id": "4i7WSY3lMmdp",
        "colab_type": "code",
        "colab": {}
      },
      "source": [
        "test_sequences = tokenize.texts_to_sequences(test)\n",
        "X_test_sequences = sequence.pad_sequences(test_sequences,maxlen=max_len,padding='post')"
      ],
      "execution_count": 0,
      "outputs": []
    },
    {
      "cell_type": "code",
      "metadata": {
        "id": "nRZxav1WNle-",
        "colab_type": "code",
        "outputId": "8678d449-e2ea-4f3f-8b0f-39e760296fcb",
        "colab": {
          "base_uri": "https://localhost:8080/",
          "height": 34
        }
      },
      "source": [
        "len(X_test_sequences)"
      ],
      "execution_count": 17,
      "outputs": [
        {
          "output_type": "execute_result",
          "data": {
            "text/plain": [
              "1544"
            ]
          },
          "metadata": {
            "tags": []
          },
          "execution_count": 17
        }
      ]
    },
    {
      "cell_type": "markdown",
      "metadata": {
        "id": "SpzUIu4iL0PO",
        "colab_type": "text"
      },
      "source": [
        "# Embeddings"
      ]
    },
    {
      "cell_type": "code",
      "metadata": {
        "id": "o3UFPJAWL10_",
        "colab_type": "code",
        "colab": {}
      },
      "source": [
        "embed_size=300\n",
        "def get_coefs(word,*arr):\n",
        "    return word, np.asarray(arr, dtype='float32')\n",
        "\n",
        "def build_matrix(embedding_path, word_index):\n",
        "    embedding_index = dict(get_coefs(*o.strip().split(\" \")) for o in open(embedding_path))\n",
        "\n",
        "    nb_words = min(max_words, len(word_index))\n",
        "    embedding_matrix = np.zeros((nb_words + 1, embed_size))\n",
        "    for word, i in word_index.items():\n",
        "        if i >= max_words:\n",
        "            continue\n",
        "        embedding_vector = embedding_index.get(word)\n",
        "        if embedding_vector is not None:\n",
        "            embedding_matrix[i] = embedding_vector\n",
        "    return embedding_matrix"
      ],
      "execution_count": 0,
      "outputs": []
    },
    {
      "cell_type": "code",
      "metadata": {
        "id": "zTviPXodLzRW",
        "colab_type": "code",
        "outputId": "99914534-947e-4e45-9220-148401d3a15d",
        "colab": {
          "base_uri": "https://localhost:8080/",
          "height": 34
        }
      },
      "source": [
        "embeddings=build_matrix('cc.el.300.vec', word_index)\n",
        "embeddings.shape"
      ],
      "execution_count": 19,
      "outputs": [
        {
          "output_type": "execute_result",
          "data": {
            "text/plain": [
              "(10001, 300)"
            ]
          },
          "metadata": {
            "tags": []
          },
          "execution_count": 19
        }
      ]
    },
    {
      "cell_type": "markdown",
      "metadata": {
        "id": "e8_AdRhffkS3",
        "colab_type": "text"
      },
      "source": [
        "# Base Models"
      ]
    },
    {
      "cell_type": "code",
      "metadata": {
        "id": "DaShFhtgJ_Ef",
        "colab_type": "code",
        "outputId": "711ecff7-6f16-4a7b-9c75-1a252ae4b431",
        "colab": {
          "base_uri": "https://localhost:8080/",
          "height": 34
        }
      },
      "source": [
        "train.shape,labels.shape"
      ],
      "execution_count": 20,
      "outputs": [
        {
          "output_type": "execute_result",
          "data": {
            "text/plain": [
              "((8742,), (8742,))"
            ]
          },
          "metadata": {
            "tags": []
          },
          "execution_count": 20
        }
      ]
    },
    {
      "cell_type": "markdown",
      "metadata": {
        "id": "jvXD0v5mfm7M",
        "colab_type": "text"
      },
      "source": [
        "## Count Vectorizer"
      ]
    },
    {
      "cell_type": "code",
      "metadata": {
        "id": "7blhzyaD-xvK",
        "colab_type": "code",
        "colab": {}
      },
      "source": [
        "\n",
        "def logistic_param_selection(X, y, func,nfolds):\n",
        "    C= [7,8,9,10,12,15,20,25]\n",
        "    param_grid = {'C': C}\n",
        "    grid_search = GridSearchCV(make_pipeline(func, LogisticRegression(solver='lbfgs',max_iter=500,class_weight=class_weights)),\n",
        "                    param_grid={'logisticregression__C':[10,12,15,20,25]}, cv=nfolds,scoring='f1_macro')\n",
        "    grid_search.fit(X, y)\n",
        "    return grid_search.best_score_,grid_search.best_params_\n",
        "\n"
      ],
      "execution_count": 0,
      "outputs": []
    },
    {
      "cell_type": "code",
      "metadata": {
        "id": "lHFZoqkGI79e",
        "colab_type": "code",
        "outputId": "60287725-0852-45ef-84de-60065ab4be7a",
        "colab": {
          "base_uri": "https://localhost:8080/",
          "height": 34
        }
      },
      "source": [
        "cv_score,c=logistic_param_selection(train,labels,CountVectorizer(),5)\n",
        "cv_score"
      ],
      "execution_count": 22,
      "outputs": [
        {
          "output_type": "execute_result",
          "data": {
            "text/plain": [
              "0.7610888141381092"
            ]
          },
          "metadata": {
            "tags": []
          },
          "execution_count": 22
        }
      ]
    },
    {
      "cell_type": "code",
      "metadata": {
        "id": "FiDB13I898UU",
        "colab_type": "code",
        "colab": {}
      },
      "source": [
        "count_vectorizer = CountVectorizer()\n",
        "count_vectorizer.fit(train)\n",
        "X_train_cv = count_vectorizer.transform(train)\n",
        "X_test_cv=  count_vectorizer.transform(test)"
      ],
      "execution_count": 0,
      "outputs": []
    },
    {
      "cell_type": "code",
      "metadata": {
        "id": "bwXHpKqo-cFB",
        "colab_type": "code",
        "outputId": "b20b493e-a7ca-4dc8-936c-478d5b1647f1",
        "colab": {
          "base_uri": "https://localhost:8080/",
          "height": 118
        }
      },
      "source": [
        "cv_classifier = LogisticRegression(solver='lbfgs',C=c['logisticregression__C'],max_iter=500,class_weight=class_weights)\n",
        "cv_classifier.fit(X_train_cv, labels)"
      ],
      "execution_count": 24,
      "outputs": [
        {
          "output_type": "execute_result",
          "data": {
            "text/plain": [
              "LogisticRegression(C=10,\n",
              "                   class_weight={0: 0.6986892583120204, 1: 1.7582461786001609},\n",
              "                   dual=False, fit_intercept=True, intercept_scaling=1,\n",
              "                   l1_ratio=None, max_iter=500, multi_class='auto', n_jobs=None,\n",
              "                   penalty='l2', random_state=None, solver='lbfgs', tol=0.0001,\n",
              "                   verbose=0, warm_start=False)"
            ]
          },
          "metadata": {
            "tags": []
          },
          "execution_count": 24
        }
      ]
    },
    {
      "cell_type": "code",
      "metadata": {
        "id": "fBx50ckVP6iP",
        "colab_type": "code",
        "colab": {}
      },
      "source": [
        "cv_test=cv_classifier.predict_proba(X_test_cv)[:,1]"
      ],
      "execution_count": 0,
      "outputs": []
    },
    {
      "cell_type": "markdown",
      "metadata": {
        "id": "hJDyK1lahqqG",
        "colab_type": "text"
      },
      "source": [
        "## TF IDF word vectorizer"
      ]
    },
    {
      "cell_type": "code",
      "metadata": {
        "id": "Gz1WZZEufmEq",
        "colab_type": "code",
        "colab": {}
      },
      "source": [
        "from sklearn.feature_extraction.text import TfidfVectorizer\n",
        "word_vectorizer = TfidfVectorizer(\n",
        "    sublinear_tf=True,\n",
        "    strip_accents='unicode',\n",
        "    analyzer='word',\n",
        "    token_pattern=r'\\w{1,}',\n",
        "    ngram_range=(1, 4),\n",
        "    max_features=10000)\n",
        "word_vectorizer.fit(train)\n",
        "train_word_features = word_vectorizer.transform(train)\n",
        "test_word_features = word_vectorizer.transform(test)"
      ],
      "execution_count": 0,
      "outputs": []
    },
    {
      "cell_type": "code",
      "metadata": {
        "id": "M8hxtqPQ_KxI",
        "colab_type": "code",
        "outputId": "3ca0b63d-c168-42ae-8d24-7b6b2aa8edbd",
        "colab": {
          "base_uri": "https://localhost:8080/",
          "height": 34
        }
      },
      "source": [
        "tfw_score,c=logistic_param_selection(train,labels,word_vectorizer,5)\n",
        "tfw_score"
      ],
      "execution_count": 27,
      "outputs": [
        {
          "output_type": "execute_result",
          "data": {
            "text/plain": [
              "0.7517944000467675"
            ]
          },
          "metadata": {
            "tags": []
          },
          "execution_count": 27
        }
      ]
    },
    {
      "cell_type": "code",
      "metadata": {
        "id": "04JmMwoEh4-d",
        "colab_type": "code",
        "outputId": "d768b482-ba84-4ff3-80a8-3281a87cda67",
        "colab": {
          "base_uri": "https://localhost:8080/",
          "height": 101
        }
      },
      "source": [
        "tfw_classifier = LogisticRegression(solver='lbfgs',C=c['logisticregression__C'],max_iter=500)\n",
        "tfw_classifier.fit(train_word_features, labels)\n"
      ],
      "execution_count": 28,
      "outputs": [
        {
          "output_type": "execute_result",
          "data": {
            "text/plain": [
              "LogisticRegression(C=10, class_weight=None, dual=False, fit_intercept=True,\n",
              "                   intercept_scaling=1, l1_ratio=None, max_iter=500,\n",
              "                   multi_class='auto', n_jobs=None, penalty='l2',\n",
              "                   random_state=None, solver='lbfgs', tol=0.0001, verbose=0,\n",
              "                   warm_start=False)"
            ]
          },
          "metadata": {
            "tags": []
          },
          "execution_count": 28
        }
      ]
    },
    {
      "cell_type": "code",
      "metadata": {
        "id": "nQRy9oaBQIfV",
        "colab_type": "code",
        "colab": {}
      },
      "source": [
        "tfw_test = tfw_classifier.predict_proba(test_word_features)[:,1]"
      ],
      "execution_count": 0,
      "outputs": []
    },
    {
      "cell_type": "markdown",
      "metadata": {
        "id": "fNSvwaG1ioq0",
        "colab_type": "text"
      },
      "source": [
        "## TF IDF char vectorizer"
      ]
    },
    {
      "cell_type": "code",
      "metadata": {
        "id": "a_kqct6jiBq1",
        "colab_type": "code",
        "colab": {}
      },
      "source": [
        "char_vectorizer = TfidfVectorizer(\n",
        "    sublinear_tf=True,\n",
        "    strip_accents='unicode',\n",
        "    analyzer='char',\n",
        "    ngram_range=(1, 6),\n",
        "    max_features=30000)\n",
        "char_vectorizer.fit(train)\n",
        "train_char_features = char_vectorizer.transform(train)\n",
        "test_char_features = char_vectorizer.transform(test)"
      ],
      "execution_count": 0,
      "outputs": []
    },
    {
      "cell_type": "code",
      "metadata": {
        "id": "rBU8cBQVCiAI",
        "colab_type": "code",
        "outputId": "1a8d32d9-219b-4ab5-8b89-6b0a9dfe884d",
        "colab": {
          "base_uri": "https://localhost:8080/",
          "height": 34
        }
      },
      "source": [
        "tfc_score,c=logistic_param_selection(train,labels,char_vectorizer,5)\n",
        "tfc_score"
      ],
      "execution_count": 31,
      "outputs": [
        {
          "output_type": "execute_result",
          "data": {
            "text/plain": [
              "0.7996681902699987"
            ]
          },
          "metadata": {
            "tags": []
          },
          "execution_count": 31
        }
      ]
    },
    {
      "cell_type": "code",
      "metadata": {
        "id": "cYhzRPO0iRMb",
        "colab_type": "code",
        "outputId": "9e71a621-533c-42e8-c548-2d507d515589",
        "colab": {
          "base_uri": "https://localhost:8080/",
          "height": 101
        }
      },
      "source": [
        "tfc_classifier = LogisticRegression(solver='lbfgs',C=c['logisticregression__C'],max_iter=500)\n",
        "tfc_classifier.fit(train_char_features, labels)\n"
      ],
      "execution_count": 32,
      "outputs": [
        {
          "output_type": "execute_result",
          "data": {
            "text/plain": [
              "LogisticRegression(C=10, class_weight=None, dual=False, fit_intercept=True,\n",
              "                   intercept_scaling=1, l1_ratio=None, max_iter=500,\n",
              "                   multi_class='auto', n_jobs=None, penalty='l2',\n",
              "                   random_state=None, solver='lbfgs', tol=0.0001, verbose=0,\n",
              "                   warm_start=False)"
            ]
          },
          "metadata": {
            "tags": []
          },
          "execution_count": 32
        }
      ]
    },
    {
      "cell_type": "code",
      "metadata": {
        "id": "tpkjinLBXX7j",
        "colab_type": "code",
        "colab": {}
      },
      "source": [
        "tfc_test = tfc_classifier.predict_proba(test_char_features)[:,1]"
      ],
      "execution_count": 0,
      "outputs": []
    },
    {
      "cell_type": "markdown",
      "metadata": {
        "id": "I6sOo5OtMQnL",
        "colab_type": "text"
      },
      "source": [
        "# Models"
      ]
    },
    {
      "cell_type": "markdown",
      "metadata": {
        "id": "jv2yPgQWL9de",
        "colab_type": "text"
      },
      "source": [
        "##GRU"
      ]
    },
    {
      "cell_type": "code",
      "metadata": {
        "id": "XXvqlGD0L-sx",
        "colab_type": "code",
        "colab": {}
      },
      "source": [
        "def model_gru():\n",
        "  inp = Input(shape=(max_len,))\n",
        "  x = Embedding(num_words,embed_size,embeddings_initializer=Constant(embeddings),input_length=max_len,trainable=False)(inp)\n",
        "  x = SpatialDropout1D(0.1)(x)\n",
        "  x = Bidirectional(CuDNNLSTM(50, return_sequences=True))(x)\n",
        "  x, x_h, x_c = Bidirectional(CuDNNGRU(50, return_sequences=True, return_state = True))(x)\n",
        "  avg_pool = GlobalAveragePooling1D()(x)\n",
        "  max_pool = GlobalMaxPooling1D()(x)\n",
        "  conc = concatenate([avg_pool, x_h, max_pool])\n",
        "  outp = Dense(1, activation=\"sigmoid\")(conc)    \n",
        "  model = Model(inputs=inp, outputs=outp)\n",
        "  model.compile(loss=BinaryFocalLoss(gamma=2), optimizer='adam', metrics=['accuracy'])\n",
        "  return model"
      ],
      "execution_count": 0,
      "outputs": []
    },
    {
      "cell_type": "markdown",
      "metadata": {
        "id": "7t_Ph6qafOQK",
        "colab_type": "text"
      },
      "source": [
        "## GRU attention"
      ]
    },
    {
      "cell_type": "code",
      "metadata": {
        "id": "KyKea_xMkrmP",
        "colab_type": "code",
        "colab": {}
      },
      "source": [
        "#https://github.com/zake7749/DeepToxic\n",
        "from keras.layers import Layer,Lambda\n",
        "from keras import initializers\n",
        "from keras.engine import InputSpec, Layer\n",
        "from keras import backend as K\n",
        "\n",
        "class AttentionWeightedAverage(Layer):\n",
        "    \"\"\"\n",
        "    Computes a weighted average of the different channels across timesteps.\n",
        "    Uses 1 parameter pr. channel to compute the attention value for a single timestep.\n",
        "    \"\"\"\n",
        "\n",
        "    def __init__(self, return_attention=False, **kwargs):\n",
        "        self.init = initializers.get('uniform')\n",
        "        self.supports_masking = True\n",
        "        self.return_attention = return_attention\n",
        "        super(AttentionWeightedAverage, self).__init__(** kwargs)\n",
        "\n",
        "    def build(self, input_shape):\n",
        "        self.input_spec = [InputSpec(ndim=3)]\n",
        "        assert len(input_shape) == 3\n",
        "\n",
        "        self.W = self.add_weight(shape=(input_shape[2], 1),\n",
        "                                 name='{}_W'.format(self.name),\n",
        "                                 initializer=self.init)\n",
        "        self.trainable_weights = [self.W]\n",
        "        super(AttentionWeightedAverage, self).build(input_shape)\n",
        "\n",
        "    def call(self, x, mask=None):\n",
        "        # computes a probability distribution over the timesteps\n",
        "        # uses 'max trick' for numerical stability\n",
        "        # reshape is done to avoid issue with Tensorflow\n",
        "        # and 1-dimensional weights\n",
        "        logits = K.dot(x, self.W)\n",
        "        x_shape = K.shape(x)\n",
        "        logits = K.reshape(logits, (x_shape[0], x_shape[1]))\n",
        "        ai = K.exp(logits - K.max(logits, axis=-1, keepdims=True))\n",
        "\n",
        "        # masked timesteps have zero weight\n",
        "        if mask is not None:\n",
        "            mask = K.cast(mask, K.floatx())\n",
        "            ai = ai * mask\n",
        "        att_weights = ai / (K.sum(ai, axis=1, keepdims=True) + K.epsilon())\n",
        "        weighted_input = x * K.expand_dims(att_weights)\n",
        "        result = K.sum(weighted_input, axis=1)\n",
        "        if self.return_attention:\n",
        "            return [result, att_weights]\n",
        "        return result\n",
        "\n",
        "    def get_output_shape_for(self, input_shape):\n",
        "        return self.compute_output_shape(input_shape)\n",
        "\n",
        "    def compute_output_shape(self, input_shape):\n",
        "        output_len = input_shape[2]\n",
        "        if self.return_attention:\n",
        "            return [(input_shape[0], output_len), (input_shape[0], input_shape[1])]\n",
        "        return (input_shape[0], output_len)\n",
        "\n",
        "    def compute_mask(self, input, input_mask=None):\n",
        "        if isinstance(input_mask, list):\n",
        "            return [None] * len(input_mask)\n",
        "        else:\n",
        "            return None"
      ],
      "execution_count": 0,
      "outputs": []
    },
    {
      "cell_type": "code",
      "metadata": {
        "id": "hovBxS5jfRbn",
        "colab_type": "code",
        "colab": {}
      },
      "source": [
        "def model_gru_attn():\n",
        "  inp = Input(shape=(max_len,))\n",
        "  x = Embedding(num_words,embed_size,embeddings_initializer=Constant(embeddings),input_length=max_len,trainable=False)(inp)\n",
        "  x = SpatialDropout1D(0.1)(x)\n",
        "  x = Bidirectional(CuDNNLSTM(50, return_sequences=True))(x)\n",
        "  x = Bidirectional(CuDNNGRU(50, return_sequences=True))(x)\n",
        "  avg_pool = GlobalAveragePooling1D()(x)\n",
        "  max_pool = GlobalMaxPooling1D()(x)\n",
        "  last = Lambda(lambda t: t[:, -1])(x)\n",
        "  attn = AttentionWeightedAverage()(x)\n",
        "  conc = concatenate([avg_pool,  max_pool,last,attn])\n",
        "  outp = Dense(1, activation=\"sigmoid\")(conc)    \n",
        "  model = Model(inputs=inp, outputs=outp)\n",
        "  model.compile(loss=BinaryFocalLoss(gamma=2), optimizer='adam', metrics=['accuracy'])\n",
        "  return model"
      ],
      "execution_count": 0,
      "outputs": []
    },
    {
      "cell_type": "markdown",
      "metadata": {
        "id": "I34DRPLqTVru",
        "colab_type": "text"
      },
      "source": [
        "##TCN"
      ]
    },
    {
      "cell_type": "code",
      "metadata": {
        "id": "e-euqTedTWjY",
        "colab_type": "code",
        "colab": {}
      },
      "source": [
        "from tcn import TCN\n",
        "\n",
        "def wave_net_activation(x):\n",
        "    # type: (Layer) -> Layer\n",
        "    \"\"\"This method defines the activation used for WaveNet\n",
        "    described in https://deepmind.com/blog/wavenet-generative-model-raw-audio/\n",
        "    Args:\n",
        "        x: The layer we want to apply the activation to\n",
        "    Returns:\n",
        "        A new layer with the wavenet activation applied\n",
        "    \"\"\"\n",
        "    tanh_out = Activation('tanh')(x)\n",
        "    sigm_out = Activation('sigmoid')(x)\n",
        "    return keras.layers.multiply([tanh_out, sigm_out])\n",
        "\n",
        "def model_tcn(embedding_matrix):\n",
        "    \n",
        "    inp = Input(shape=(max_len,))\n",
        "    x = Embedding(num_words,embed_size,embeddings_initializer=Constant(embeddings),input_length=max_len,trainable=False)(inp)\n",
        "    x = SpatialDropout1D(0.1)(x)\n",
        "    x = TCN(128,dilations = [1, 2, 4], return_sequences=True ,name = 'tnc1')(x)\n",
        "    x = wave_net_activation(x)\n",
        "    x = TCN(64,dilations = [1, 2, 4], return_sequences=True, name = 'tnc2')(x)\n",
        "    x = wave_net_activation(x)\n",
        "    #x = TCN(32,dilations = [1, 2, 4], return_sequences=True, activation = 'wavenet',name = 'tnc3')(x)\n",
        "    avg_pool = GlobalAveragePooling1D()(x)\n",
        "    max_pool = GlobalMaxPooling1D()(x)\n",
        "    \n",
        "    conc = concatenate([avg_pool, max_pool])\n",
        "    conc = Dense(64, activation=\"relu\")(conc)\n",
        "    conc = Dense(32, activation=\"relu\")(conc)\n",
        "\n",
        "    conc = Dropout(0.1)(conc)\n",
        "    outp = Dense(1, activation=\"sigmoid\")(conc)    \n",
        "    model = Model(inputs=inp, outputs=outp)\n",
        "    model.compile(loss=BinaryFocalLoss(gamma=2), optimizer='adam', metrics=['accuracy'])\n",
        "    \n",
        "    return model"
      ],
      "execution_count": 0,
      "outputs": []
    },
    {
      "cell_type": "code",
      "metadata": {
        "id": "3wLyuzTtMErl",
        "colab_type": "code",
        "colab": {}
      },
      "source": [
        ""
      ],
      "execution_count": 0,
      "outputs": []
    },
    {
      "cell_type": "code",
      "metadata": {
        "id": "6d55WTNmBa5w",
        "colab_type": "code",
        "colab": {}
      },
      "source": [
        ""
      ],
      "execution_count": 0,
      "outputs": []
    },
    {
      "cell_type": "markdown",
      "metadata": {
        "id": "mNc6xxspBcTG",
        "colab_type": "text"
      },
      "source": [
        "##KIM"
      ]
    },
    {
      "cell_type": "code",
      "metadata": {
        "id": "nAgtTt9IBfMQ",
        "colab_type": "code",
        "colab": {}
      },
      "source": [
        "conv_filters=128\n",
        "def model_kim():\n",
        "  inp = Input(shape=(max_len,))\n",
        "  emb = Embedding(num_words,embed_size,embeddings_initializer=Constant(embeddings),input_length=max_len,trainable=False)(inp)\n",
        "  # Specify each convolution layer and their kernel siz i.e. n-grams \n",
        "  conv1_1 = Conv1D(filters=conv_filters, kernel_size=3)(emb)\n",
        "  btch1_1 = BatchNormalization()(conv1_1)\n",
        "  drp1_1  = Dropout(0.2)(btch1_1)\n",
        "  actv1_1 = Activation('relu')(drp1_1)\n",
        "  glmp1_1 = GlobalMaxPooling1D()(actv1_1)\n",
        "\n",
        "  conv1_2 = Conv1D(filters=conv_filters, kernel_size=4)(emb)\n",
        "  btch1_2 = BatchNormalization()(conv1_2)\n",
        "  drp1_2  = Dropout(0.2)(btch1_2)\n",
        "  actv1_2 = Activation('relu')(drp1_2)\n",
        "  glmp1_2 = GlobalMaxPooling1D()(actv1_2)\n",
        "\n",
        "  conv1_3 = Conv1D(filters=conv_filters, kernel_size=5)(emb)\n",
        "  btch1_3 = BatchNormalization()(conv1_3)\n",
        "  drp1_3  = Dropout(0.2)(btch1_3)\n",
        "  actv1_3 = Activation('relu')(drp1_3)\n",
        "  glmp1_3 = GlobalMaxPooling1D()(actv1_3)\n",
        "\n",
        "  conv1_4 = Conv1D(filters=conv_filters, kernel_size=6)(emb)\n",
        "  btch1_4 = BatchNormalization()(conv1_4)\n",
        "  drp1_4  = Dropout(0.2)(btch1_4)\n",
        "  actv1_4 = Activation('relu')(drp1_4)\n",
        "  glmp1_4 = GlobalMaxPooling1D()(actv1_4)\n",
        "\n",
        "  # Gather all convolution layers\n",
        "  cnct = concatenate([glmp1_1, glmp1_2, glmp1_3, glmp1_4], axis=1)\n",
        "  drp1 = Dropout(0.2)(cnct)\n",
        "\n",
        "  dns1  = Dense(32, activation='relu')(drp1)\n",
        "  btch1 = BatchNormalization()(dns1)\n",
        "  drp2  = Dropout(0.2)(btch1)\n",
        "\n",
        "  out = Dense(1, activation='sigmoid')(drp2)   \n",
        "  model = Model(inputs=inp, outputs=out)\n",
        "  model.compile(loss=BinaryFocalLoss(gamma=2), optimizer='adam', metrics=['accuracy'])\n",
        "  return model\n"
      ],
      "execution_count": 0,
      "outputs": []
    },
    {
      "cell_type": "markdown",
      "metadata": {
        "id": "nJCuBpqkNx8L",
        "colab_type": "text"
      },
      "source": [
        "# Train model"
      ]
    },
    {
      "cell_type": "markdown",
      "metadata": {
        "id": "oUygUis5N2yN",
        "colab_type": "text"
      },
      "source": [
        "##GRU"
      ]
    },
    {
      "cell_type": "code",
      "metadata": {
        "id": "OdwYL0fG3kQo",
        "colab_type": "code",
        "outputId": "297f2e8d-f1ba-4086-af63-faab9c8b754c",
        "colab": {
          "base_uri": "https://localhost:8080/",
          "height": 1000
        }
      },
      "source": [
        "kfold = StratifiedKFold(n_splits=5, shuffle=False, random_state=2020)\n",
        "gru_scores = []\n",
        "gru_test=[]\n",
        "for train, val in kfold.split(sequences_matrix, labels):\n",
        "  gru_model=model_gru()\n",
        "  \n",
        "  gru_model.fit(sequences_matrix[train], labels[train],batch_size=64,epochs=10,verbose=2,\n",
        "            validation_data=(sequences_matrix[val],labels[val]),callbacks=[clr,])\n",
        "  y_pred = gru_model.predict(sequences_matrix[val], batch_size=64, verbose=1)\n",
        "\n",
        "  gru_test.append(gru_model.predict(X_test_sequences, batch_size=64, verbose=1).ravel())\n",
        "\n",
        "  y_pred = (y_pred > 0.5)\n",
        "  f1=f1_score(labels[val], y_pred, average='macro')\n",
        "  gru_scores.append(f1)\n",
        "  keras.backend.clear_session()"
      ],
      "execution_count": 39,
      "outputs": [
        {
          "output_type": "stream",
          "text": [
            "/usr/local/lib/python3.6/dist-packages/sklearn/model_selection/_split.py:296: FutureWarning: Setting a random_state has no effect since shuffle is False. This will raise an error in 0.24. You should leave random_state to its default (None), or set shuffle=True.\n",
            "  FutureWarning\n"
          ],
          "name": "stderr"
        },
        {
          "output_type": "stream",
          "text": [
            "Train on 6993 samples, validate on 1749 samples\n",
            "Epoch 1/10\n",
            " - 14s - loss: 0.1409 - acc: 0.7270 - val_loss: 0.1220 - val_acc: 0.7936\n",
            "Epoch 2/10\n",
            " - 7s - loss: 0.1135 - acc: 0.8145 - val_loss: 0.1129 - val_acc: 0.8330\n",
            "Epoch 3/10\n",
            " - 7s - loss: 0.1045 - acc: 0.8397 - val_loss: 0.1103 - val_acc: 0.8313\n",
            "Epoch 4/10\n",
            " - 7s - loss: 0.1022 - acc: 0.8431 - val_loss: 0.1085 - val_acc: 0.8382\n",
            "Epoch 5/10\n",
            " - 7s - loss: 0.0946 - acc: 0.8543 - val_loss: 0.1128 - val_acc: 0.8399\n",
            "Epoch 6/10\n",
            " - 7s - loss: 0.0886 - acc: 0.8649 - val_loss: 0.1142 - val_acc: 0.8336\n",
            "Epoch 7/10\n",
            " - 7s - loss: 0.0823 - acc: 0.8732 - val_loss: 0.1213 - val_acc: 0.8262\n",
            "Epoch 8/10\n",
            " - 7s - loss: 0.0752 - acc: 0.8873 - val_loss: 0.1277 - val_acc: 0.8107\n",
            "Epoch 9/10\n",
            " - 7s - loss: 0.0688 - acc: 0.8969 - val_loss: 0.1360 - val_acc: 0.8062\n",
            "Epoch 10/10\n",
            " - 7s - loss: 0.0612 - acc: 0.9098 - val_loss: 0.1456 - val_acc: 0.8222\n",
            "1749/1749 [==============================] - 1s 435us/step\n",
            "1544/1544 [==============================] - 1s 349us/step\n",
            "Train on 6993 samples, validate on 1749 samples\n",
            "Epoch 1/10\n",
            " - 8s - loss: 0.1409 - acc: 0.7324 - val_loss: 0.1238 - val_acc: 0.8027\n",
            "Epoch 2/10\n",
            " - 7s - loss: 0.1153 - acc: 0.8085 - val_loss: 0.1069 - val_acc: 0.8336\n",
            "Epoch 3/10\n",
            " - 7s - loss: 0.1074 - acc: 0.8337 - val_loss: 0.1116 - val_acc: 0.8165\n",
            "Epoch 4/10\n",
            " - 7s - loss: 0.1005 - acc: 0.8463 - val_loss: 0.1038 - val_acc: 0.8519\n",
            "Epoch 5/10\n",
            " - 7s - loss: 0.0982 - acc: 0.8491 - val_loss: 0.1042 - val_acc: 0.8416\n",
            "Epoch 6/10\n",
            " - 7s - loss: 0.0924 - acc: 0.8593 - val_loss: 0.1108 - val_acc: 0.8428\n",
            "Epoch 7/10\n",
            " - 7s - loss: 0.0903 - acc: 0.8621 - val_loss: 0.1125 - val_acc: 0.8336\n",
            "Epoch 8/10\n",
            " - 7s - loss: 0.0805 - acc: 0.8795 - val_loss: 0.1167 - val_acc: 0.8313\n",
            "Epoch 9/10\n",
            " - 7s - loss: 0.0762 - acc: 0.8822 - val_loss: 0.1176 - val_acc: 0.8210\n",
            "Epoch 10/10\n",
            " - 7s - loss: 0.0657 - acc: 0.9005 - val_loss: 0.1312 - val_acc: 0.8239\n",
            "1749/1749 [==============================] - 1s 437us/step\n",
            "1544/1544 [==============================] - 1s 350us/step\n",
            "Train on 6994 samples, validate on 1748 samples\n",
            "Epoch 1/10\n",
            " - 8s - loss: 0.1435 - acc: 0.7285 - val_loss: 0.1255 - val_acc: 0.7918\n",
            "Epoch 2/10\n",
            " - 7s - loss: 0.1138 - acc: 0.8160 - val_loss: 0.1121 - val_acc: 0.8232\n",
            "Epoch 3/10\n",
            " - 7s - loss: 0.1040 - acc: 0.8437 - val_loss: 0.1044 - val_acc: 0.8347\n",
            "Epoch 4/10\n",
            " - 7s - loss: 0.1015 - acc: 0.8440 - val_loss: 0.1072 - val_acc: 0.8358\n",
            "Epoch 5/10\n",
            " - 7s - loss: 0.0995 - acc: 0.8482 - val_loss: 0.1190 - val_acc: 0.8141\n",
            "Epoch 6/10\n",
            " - 7s - loss: 0.0936 - acc: 0.8576 - val_loss: 0.1057 - val_acc: 0.8352\n",
            "Epoch 7/10\n",
            " - 7s - loss: 0.0871 - acc: 0.8676 - val_loss: 0.1049 - val_acc: 0.8370\n",
            "Epoch 8/10\n",
            " - 7s - loss: 0.0835 - acc: 0.8709 - val_loss: 0.1112 - val_acc: 0.8341\n",
            "Epoch 9/10\n",
            " - 7s - loss: 0.0734 - acc: 0.8909 - val_loss: 0.1209 - val_acc: 0.8249\n",
            "Epoch 10/10\n",
            " - 7s - loss: 0.0726 - acc: 0.8903 - val_loss: 0.1264 - val_acc: 0.8227\n",
            "1748/1748 [==============================] - 1s 431us/step\n",
            "1544/1544 [==============================] - 1s 358us/step\n",
            "Train on 6994 samples, validate on 1748 samples\n",
            "Epoch 1/10\n",
            " - 8s - loss: 0.1438 - acc: 0.7278 - val_loss: 0.1211 - val_acc: 0.8003\n",
            "Epoch 2/10\n",
            " - 7s - loss: 0.1186 - acc: 0.8007 - val_loss: 0.1155 - val_acc: 0.7797\n",
            "Epoch 3/10\n",
            " - 7s - loss: 0.1069 - acc: 0.8367 - val_loss: 0.1064 - val_acc: 0.8347\n",
            "Epoch 4/10\n",
            " - 7s - loss: 0.1055 - acc: 0.8357 - val_loss: 0.1004 - val_acc: 0.8381\n",
            "Epoch 5/10\n",
            " - 7s - loss: 0.1003 - acc: 0.8462 - val_loss: 0.0978 - val_acc: 0.8455\n",
            "Epoch 6/10\n",
            " - 7s - loss: 0.0931 - acc: 0.8612 - val_loss: 0.1048 - val_acc: 0.8404\n",
            "Epoch 7/10\n",
            " - 7s - loss: 0.0879 - acc: 0.8693 - val_loss: 0.1016 - val_acc: 0.8478\n",
            "Epoch 8/10\n",
            " - 7s - loss: 0.0832 - acc: 0.8732 - val_loss: 0.1027 - val_acc: 0.8478\n",
            "Epoch 9/10\n",
            " - 7s - loss: 0.0790 - acc: 0.8803 - val_loss: 0.1090 - val_acc: 0.8381\n",
            "Epoch 10/10\n",
            " - 7s - loss: 0.0679 - acc: 0.8995 - val_loss: 0.1181 - val_acc: 0.8358\n",
            "1748/1748 [==============================] - 1s 439us/step\n",
            "1544/1544 [==============================] - 1s 363us/step\n",
            "Train on 6994 samples, validate on 1748 samples\n",
            "Epoch 1/10\n",
            " - 8s - loss: 0.1429 - acc: 0.7322 - val_loss: 0.1463 - val_acc: 0.7317\n",
            "Epoch 2/10\n",
            " - 7s - loss: 0.1196 - acc: 0.7977 - val_loss: 0.1117 - val_acc: 0.8307\n",
            "Epoch 3/10\n",
            " - 7s - loss: 0.1078 - acc: 0.8306 - val_loss: 0.1150 - val_acc: 0.8232\n",
            "Epoch 4/10\n",
            " - 7s - loss: 0.1006 - acc: 0.8423 - val_loss: 0.1072 - val_acc: 0.8427\n",
            "Epoch 5/10\n",
            " - 7s - loss: 0.0984 - acc: 0.8506 - val_loss: 0.1106 - val_acc: 0.8249\n",
            "Epoch 6/10\n",
            " - 7s - loss: 0.0915 - acc: 0.8627 - val_loss: 0.1127 - val_acc: 0.8330\n",
            "Epoch 7/10\n",
            " - 7s - loss: 0.0872 - acc: 0.8712 - val_loss: 0.1078 - val_acc: 0.8352\n",
            "Epoch 8/10\n",
            " - 7s - loss: 0.0810 - acc: 0.8808 - val_loss: 0.1163 - val_acc: 0.8289\n",
            "Epoch 9/10\n",
            " - 7s - loss: 0.0774 - acc: 0.8828 - val_loss: 0.1225 - val_acc: 0.8095\n",
            "Epoch 10/10\n",
            " - 7s - loss: 0.0684 - acc: 0.8983 - val_loss: 0.1307 - val_acc: 0.8141\n",
            "1748/1748 [==============================] - 1s 445us/step\n",
            "1544/1544 [==============================] - 1s 354us/step\n"
          ],
          "name": "stdout"
        }
      ]
    },
    {
      "cell_type": "code",
      "metadata": {
        "id": "ucuevMTN4VPS",
        "colab_type": "code",
        "outputId": "ae7a130a-08c1-49b4-ef7a-f48eee6861f0",
        "colab": {
          "base_uri": "https://localhost:8080/",
          "height": 134
        }
      },
      "source": [
        "len(gru_test),gru_test[0].shape,gru_scores"
      ],
      "execution_count": 40,
      "outputs": [
        {
          "output_type": "execute_result",
          "data": {
            "text/plain": [
              "(5,\n",
              " (1544,),\n",
              " [0.7654829846154244,\n",
              "  0.7777482556258953,\n",
              "  0.7794032636006429,\n",
              "  0.796915247225111,\n",
              "  0.7703101278233639])"
            ]
          },
          "metadata": {
            "tags": []
          },
          "execution_count": 40
        }
      ]
    },
    {
      "cell_type": "code",
      "metadata": {
        "id": "AKKs8iWX570n",
        "colab_type": "code",
        "colab": {
          "base_uri": "https://localhost:8080/",
          "height": 34
        },
        "outputId": "10f2b3e3-5e62-432c-a846-e8041757086e"
      },
      "source": [
        "np.mean(np.array(gru_test),axis=0).shape"
      ],
      "execution_count": 42,
      "outputs": [
        {
          "output_type": "execute_result",
          "data": {
            "text/plain": [
              "(1544,)"
            ]
          },
          "metadata": {
            "tags": []
          },
          "execution_count": 42
        }
      ]
    },
    {
      "cell_type": "markdown",
      "metadata": {
        "id": "BaW-Uq0Kldp4",
        "colab_type": "text"
      },
      "source": [
        "## GRU attention"
      ]
    },
    {
      "cell_type": "code",
      "metadata": {
        "id": "XULscbNL6FiP",
        "colab_type": "code",
        "outputId": "75ea906b-69dc-4505-9a2a-dfa4d845c8d5",
        "colab": {
          "base_uri": "https://localhost:8080/",
          "height": 1000
        }
      },
      "source": [
        "kfold = StratifiedKFold(n_splits=5, shuffle=False, random_state=2020)\n",
        "atten_scores = []\n",
        "atten_test=[]\n",
        "for train, val in kfold.split(sequences_matrix, labels):\n",
        "  attn_gru_model=model_gru_attn()\n",
        "  \n",
        "  attn_gru_model.fit(sequences_matrix[train], labels[train],batch_size=64,epochs=10,verbose=2,\n",
        "            validation_data=(sequences_matrix[val],labels[val]),callbacks=[clr,])\n",
        "  y_pred = attn_gru_model.predict(sequences_matrix[val], batch_size=64, verbose=1)\n",
        "\n",
        "  atten_test.append(attn_gru_model.predict(X_test_sequences, batch_size=64, verbose=1).ravel())\n",
        "\n",
        "  y_pred = (y_pred > 0.5)\n",
        "  f1=f1_score(labels[val], y_pred, average='macro')\n",
        "  atten_scores.append(f1)\n",
        "  keras.backend.clear_session()"
      ],
      "execution_count": 43,
      "outputs": [
        {
          "output_type": "stream",
          "text": [
            "/usr/local/lib/python3.6/dist-packages/sklearn/model_selection/_split.py:296: FutureWarning: Setting a random_state has no effect since shuffle is False. This will raise an error in 0.24. You should leave random_state to its default (None), or set shuffle=True.\n",
            "  FutureWarning\n"
          ],
          "name": "stderr"
        },
        {
          "output_type": "stream",
          "text": [
            "Train on 6993 samples, validate on 1749 samples\n",
            "Epoch 1/10\n",
            " - 8s - loss: 0.1457 - acc: 0.7226 - val_loss: 0.1370 - val_acc: 0.7616\n",
            "Epoch 2/10\n",
            " - 7s - loss: 0.1191 - acc: 0.7979 - val_loss: 0.1127 - val_acc: 0.8296\n",
            "Epoch 3/10\n",
            " - 7s - loss: 0.1046 - acc: 0.8413 - val_loss: 0.1202 - val_acc: 0.8130\n",
            "Epoch 4/10\n",
            " - 7s - loss: 0.1013 - acc: 0.8396 - val_loss: 0.1136 - val_acc: 0.8370\n",
            "Epoch 5/10\n",
            " - 7s - loss: 0.0943 - acc: 0.8551 - val_loss: 0.1175 - val_acc: 0.8302\n",
            "Epoch 6/10\n",
            " - 7s - loss: 0.0908 - acc: 0.8624 - val_loss: 0.1163 - val_acc: 0.8302\n",
            "Epoch 7/10\n",
            " - 7s - loss: 0.0836 - acc: 0.8714 - val_loss: 0.1155 - val_acc: 0.8399\n",
            "Epoch 8/10\n",
            " - 7s - loss: 0.0764 - acc: 0.8849 - val_loss: 0.1222 - val_acc: 0.8233\n",
            "Epoch 9/10\n",
            " - 7s - loss: 0.0694 - acc: 0.8958 - val_loss: 0.1343 - val_acc: 0.8290\n",
            "Epoch 10/10\n",
            " - 7s - loss: 0.0633 - acc: 0.9039 - val_loss: 0.1408 - val_acc: 0.8205\n",
            "1749/1749 [==============================] - 1s 455us/step\n",
            "1544/1544 [==============================] - 1s 352us/step\n",
            "Train on 6993 samples, validate on 1749 samples\n",
            "Epoch 1/10\n",
            " - 8s - loss: 0.1430 - acc: 0.7284 - val_loss: 0.1352 - val_acc: 0.7621\n",
            "Epoch 2/10\n",
            " - 7s - loss: 0.1160 - acc: 0.8082 - val_loss: 0.1106 - val_acc: 0.8176\n",
            "Epoch 3/10\n",
            " - 7s - loss: 0.1069 - acc: 0.8341 - val_loss: 0.1038 - val_acc: 0.8428\n",
            "Epoch 4/10\n",
            " - 7s - loss: 0.1010 - acc: 0.8446 - val_loss: 0.1050 - val_acc: 0.8451\n",
            "Epoch 5/10\n",
            " - 7s - loss: 0.0961 - acc: 0.8546 - val_loss: 0.1051 - val_acc: 0.8445\n",
            "Epoch 6/10\n",
            " - 7s - loss: 0.0926 - acc: 0.8584 - val_loss: 0.1049 - val_acc: 0.8382\n",
            "Epoch 7/10\n",
            " - 7s - loss: 0.0869 - acc: 0.8662 - val_loss: 0.1077 - val_acc: 0.8376\n",
            "Epoch 8/10\n",
            " - 7s - loss: 0.0860 - acc: 0.8670 - val_loss: 0.1475 - val_acc: 0.8073\n",
            "Epoch 9/10\n",
            " - 7s - loss: 0.0782 - acc: 0.8853 - val_loss: 0.1169 - val_acc: 0.8250\n",
            "Epoch 10/10\n",
            " - 7s - loss: 0.0674 - acc: 0.8995 - val_loss: 0.1207 - val_acc: 0.8302\n",
            "1749/1749 [==============================] - 1s 451us/step\n",
            "1544/1544 [==============================] - 1s 349us/step\n",
            "Train on 6994 samples, validate on 1748 samples\n",
            "Epoch 1/10\n",
            " - 8s - loss: 0.1472 - acc: 0.7238 - val_loss: 0.1335 - val_acc: 0.7363\n",
            "Epoch 2/10\n",
            " - 7s - loss: 0.1196 - acc: 0.7978 - val_loss: 0.1235 - val_acc: 0.7923\n",
            "Epoch 3/10\n",
            " - 7s - loss: 0.1069 - acc: 0.8341 - val_loss: 0.1124 - val_acc: 0.8186\n",
            "Epoch 4/10\n",
            " - 7s - loss: 0.1043 - acc: 0.8393 - val_loss: 0.1074 - val_acc: 0.8341\n",
            "Epoch 5/10\n",
            " - 7s - loss: 0.0992 - acc: 0.8492 - val_loss: 0.1056 - val_acc: 0.8318\n",
            "Epoch 6/10\n",
            " - 7s - loss: 0.0935 - acc: 0.8573 - val_loss: 0.1044 - val_acc: 0.8501\n",
            "Epoch 7/10\n",
            " - 7s - loss: 0.0901 - acc: 0.8622 - val_loss: 0.1169 - val_acc: 0.8204\n",
            "Epoch 8/10\n",
            " - 7s - loss: 0.0864 - acc: 0.8696 - val_loss: 0.1091 - val_acc: 0.8352\n",
            "Epoch 9/10\n",
            " - 7s - loss: 0.0784 - acc: 0.8810 - val_loss: 0.1100 - val_acc: 0.8387\n",
            "Epoch 10/10\n",
            " - 7s - loss: 0.0735 - acc: 0.8875 - val_loss: 0.1147 - val_acc: 0.8289\n",
            "1748/1748 [==============================] - 1s 457us/step\n",
            "1544/1544 [==============================] - 1s 351us/step\n",
            "Train on 6994 samples, validate on 1748 samples\n",
            "Epoch 1/10\n",
            " - 8s - loss: 0.1453 - acc: 0.7228 - val_loss: 0.1228 - val_acc: 0.7935\n",
            "Epoch 2/10\n",
            " - 7s - loss: 0.1222 - acc: 0.7923 - val_loss: 0.1047 - val_acc: 0.8312\n",
            "Epoch 3/10\n",
            " - 7s - loss: 0.1086 - acc: 0.8289 - val_loss: 0.1019 - val_acc: 0.8392\n",
            "Epoch 4/10\n",
            " - 7s - loss: 0.1039 - acc: 0.8443 - val_loss: 0.1096 - val_acc: 0.8249\n",
            "Epoch 5/10\n",
            " - 7s - loss: 0.0984 - acc: 0.8503 - val_loss: 0.0991 - val_acc: 0.8450\n",
            "Epoch 6/10\n",
            " - 7s - loss: 0.0952 - acc: 0.8592 - val_loss: 0.0993 - val_acc: 0.8490\n",
            "Epoch 7/10\n",
            " - 7s - loss: 0.0879 - acc: 0.8705 - val_loss: 0.1021 - val_acc: 0.8410\n",
            "Epoch 8/10\n",
            " - 7s - loss: 0.0838 - acc: 0.8737 - val_loss: 0.1071 - val_acc: 0.8364\n",
            "Epoch 9/10\n",
            " - 7s - loss: 0.0761 - acc: 0.8862 - val_loss: 0.1127 - val_acc: 0.8312\n",
            "Epoch 10/10\n",
            " - 7s - loss: 0.0718 - acc: 0.8941 - val_loss: 0.1124 - val_acc: 0.8375\n",
            "1748/1748 [==============================] - 1s 447us/step\n",
            "1544/1544 [==============================] - 1s 358us/step\n",
            "Train on 6994 samples, validate on 1748 samples\n",
            "Epoch 1/10\n",
            " - 8s - loss: 0.1467 - acc: 0.7188 - val_loss: 0.1338 - val_acc: 0.7431\n",
            "Epoch 2/10\n",
            " - 7s - loss: 0.1181 - acc: 0.7988 - val_loss: 0.1156 - val_acc: 0.8192\n",
            "Epoch 3/10\n",
            " - 7s - loss: 0.1066 - acc: 0.8346 - val_loss: 0.1083 - val_acc: 0.8341\n",
            "Epoch 4/10\n",
            " - 7s - loss: 0.1006 - acc: 0.8474 - val_loss: 0.1090 - val_acc: 0.8272\n",
            "Epoch 5/10\n",
            " - 7s - loss: 0.0988 - acc: 0.8493 - val_loss: 0.1076 - val_acc: 0.8370\n",
            "Epoch 6/10\n",
            " - 7s - loss: 0.0934 - acc: 0.8552 - val_loss: 0.1083 - val_acc: 0.8421\n",
            "Epoch 7/10\n",
            " - 7s - loss: 0.0875 - acc: 0.8655 - val_loss: 0.1118 - val_acc: 0.8387\n",
            "Epoch 8/10\n",
            " - 7s - loss: 0.0816 - acc: 0.8746 - val_loss: 0.1153 - val_acc: 0.8387\n",
            "Epoch 9/10\n",
            " - 7s - loss: 0.0780 - acc: 0.8818 - val_loss: 0.1169 - val_acc: 0.8272\n",
            "Epoch 10/10\n",
            " - 7s - loss: 0.0684 - acc: 0.8968 - val_loss: 0.1349 - val_acc: 0.8284\n",
            "1748/1748 [==============================] - 1s 457us/step\n",
            "1544/1544 [==============================] - 1s 352us/step\n"
          ],
          "name": "stdout"
        }
      ]
    },
    {
      "cell_type": "code",
      "metadata": {
        "id": "Vo1Ec10_FbH4",
        "colab_type": "code",
        "outputId": "a75c9997-6673-4c93-da33-0367184d0f46",
        "colab": {
          "base_uri": "https://localhost:8080/",
          "height": 101
        }
      },
      "source": [
        "atten_scores \n"
      ],
      "execution_count": 44,
      "outputs": [
        {
          "output_type": "execute_result",
          "data": {
            "text/plain": [
              "[0.7601673805348071,\n",
              " 0.7715691038498156,\n",
              " 0.7764624619615541,\n",
              " 0.7902344456444762,\n",
              " 0.7660912618760872]"
            ]
          },
          "metadata": {
            "tags": []
          },
          "execution_count": 44
        }
      ]
    },
    {
      "cell_type": "markdown",
      "metadata": {
        "id": "WlFNurr4T1rh",
        "colab_type": "text"
      },
      "source": [
        "##TCN"
      ]
    },
    {
      "cell_type": "code",
      "metadata": {
        "id": "xKtfxHFBT2wB",
        "colab_type": "code",
        "outputId": "d7083349-e804-4c2a-c793-c6e3cfecd199",
        "colab": {
          "base_uri": "https://localhost:8080/",
          "height": 1000
        }
      },
      "source": [
        "kfold = StratifiedKFold(n_splits=5, shuffle=False)\n",
        "tcn_scores = []\n",
        "tcn_test=[]\n",
        "for train, val in kfold.split(sequences_matrix, labels):\n",
        "  model=model_tcn(embeddings)\n",
        "  \n",
        "  model.fit(sequences_matrix[train], labels[train],batch_size=64,epochs=10,verbose=2,\n",
        "            validation_data=(sequences_matrix[val],labels[val]),callbacks=[clr,])\n",
        "  y_pred = model.predict(sequences_matrix[val], batch_size=64, verbose=1)\n",
        "\n",
        "  tcn_test.append(model.predict(X_test_sequences, batch_size=64, verbose=1).ravel())\n",
        "\n",
        "  y_pred = (y_pred > 0.5)\n",
        "  f1=f1_score(labels[val], y_pred, average='macro')\n",
        "  tcn_scores.append(f1)\n",
        "  keras.backend.clear_session()"
      ],
      "execution_count": 45,
      "outputs": [
        {
          "output_type": "stream",
          "text": [
            "Train on 6993 samples, validate on 1749 samples\n",
            "Epoch 1/10\n",
            " - 8s - loss: 0.1535 - acc: 0.7131 - val_loss: 0.1432 - val_acc: 0.7238\n",
            "Epoch 2/10\n",
            " - 4s - loss: 0.1296 - acc: 0.7433 - val_loss: 0.1258 - val_acc: 0.7850\n",
            "Epoch 3/10\n",
            " - 4s - loss: 0.1190 - acc: 0.8048 - val_loss: 0.1217 - val_acc: 0.8119\n",
            "Epoch 4/10\n",
            " - 4s - loss: 0.1126 - acc: 0.8204 - val_loss: 0.1141 - val_acc: 0.8325\n",
            "Epoch 5/10\n",
            " - 4s - loss: 0.1070 - acc: 0.8456 - val_loss: 0.1212 - val_acc: 0.7987\n",
            "Epoch 6/10\n",
            " - 4s - loss: 0.1065 - acc: 0.8448 - val_loss: 0.1150 - val_acc: 0.8205\n",
            "Epoch 7/10\n",
            " - 4s - loss: 0.1010 - acc: 0.8544 - val_loss: 0.1109 - val_acc: 0.8416\n",
            "Epoch 8/10\n",
            " - 4s - loss: 0.0973 - acc: 0.8627 - val_loss: 0.1159 - val_acc: 0.8382\n",
            "Epoch 9/10\n",
            " - 4s - loss: 0.0980 - acc: 0.8591 - val_loss: 0.1245 - val_acc: 0.8056\n",
            "Epoch 10/10\n",
            " - 4s - loss: 0.0977 - acc: 0.8569 - val_loss: 0.1098 - val_acc: 0.8319\n",
            "1749/1749 [==============================] - 1s 338us/step\n",
            "1544/1544 [==============================] - 1s 339us/step\n",
            "Train on 6993 samples, validate on 1749 samples\n",
            "Epoch 1/10\n",
            " - 5s - loss: 0.1499 - acc: 0.7119 - val_loss: 0.1304 - val_acc: 0.7570\n",
            "Epoch 2/10\n",
            " - 4s - loss: 0.1182 - acc: 0.8080 - val_loss: 0.1128 - val_acc: 0.8330\n",
            "Epoch 3/10\n",
            " - 4s - loss: 0.1156 - acc: 0.8181 - val_loss: 0.1114 - val_acc: 0.8256\n",
            "Epoch 4/10\n",
            " - 4s - loss: 0.1105 - acc: 0.8363 - val_loss: 0.1120 - val_acc: 0.8245\n",
            "Epoch 5/10\n",
            " - 4s - loss: 0.1074 - acc: 0.8436 - val_loss: 0.1198 - val_acc: 0.7873\n",
            "Epoch 6/10\n",
            " - 4s - loss: 0.1086 - acc: 0.8446 - val_loss: 0.1058 - val_acc: 0.8479\n",
            "Epoch 7/10\n",
            " - 4s - loss: 0.1028 - acc: 0.8539 - val_loss: 0.1114 - val_acc: 0.8422\n",
            "Epoch 8/10\n",
            " - 4s - loss: 0.1005 - acc: 0.8563 - val_loss: 0.1075 - val_acc: 0.8439\n",
            "Epoch 9/10\n",
            " - 4s - loss: 0.1035 - acc: 0.8526 - val_loss: 0.1021 - val_acc: 0.8468\n",
            "Epoch 10/10\n",
            " - 4s - loss: 0.1005 - acc: 0.8560 - val_loss: 0.1074 - val_acc: 0.8399\n",
            "1749/1749 [==============================] - 1s 322us/step\n",
            "1544/1544 [==============================] - 0s 211us/step\n",
            "Train on 6994 samples, validate on 1748 samples\n",
            "Epoch 1/10\n",
            " - 7s - loss: 0.1503 - acc: 0.7129 - val_loss: 0.1300 - val_acc: 0.7775\n",
            "Epoch 2/10\n",
            " - 4s - loss: 0.1254 - acc: 0.7791 - val_loss: 0.1297 - val_acc: 0.7431\n",
            "Epoch 3/10\n",
            " - 4s - loss: 0.1158 - acc: 0.8100 - val_loss: 0.1110 - val_acc: 0.8267\n",
            "Epoch 4/10\n",
            " - 4s - loss: 0.1118 - acc: 0.8350 - val_loss: 0.1070 - val_acc: 0.8312\n",
            "Epoch 5/10\n",
            " - 4s - loss: 0.1049 - acc: 0.8464 - val_loss: 0.1062 - val_acc: 0.8438\n",
            "Epoch 6/10\n",
            " - 4s - loss: 0.1027 - acc: 0.8514 - val_loss: 0.1047 - val_acc: 0.8381\n",
            "Epoch 7/10\n",
            " - 4s - loss: 0.0994 - acc: 0.8566 - val_loss: 0.1045 - val_acc: 0.8427\n",
            "Epoch 8/10\n",
            " - 4s - loss: 0.0976 - acc: 0.8649 - val_loss: 0.1101 - val_acc: 0.8392\n",
            "Epoch 9/10\n",
            " - 4s - loss: 0.0963 - acc: 0.8647 - val_loss: 0.1063 - val_acc: 0.8330\n",
            "Epoch 10/10\n",
            " - 4s - loss: 0.0924 - acc: 0.8730 - val_loss: 0.1039 - val_acc: 0.8352\n",
            "1748/1748 [==============================] - 1s 334us/step\n",
            "1544/1544 [==============================] - 0s 208us/step\n",
            "Train on 6994 samples, validate on 1748 samples\n",
            "Epoch 1/10\n",
            " - 5s - loss: 0.1497 - acc: 0.7146 - val_loss: 0.1234 - val_acc: 0.8003\n",
            "Epoch 2/10\n",
            " - 4s - loss: 0.1235 - acc: 0.7888 - val_loss: 0.1086 - val_acc: 0.8347\n",
            "Epoch 3/10\n",
            " - 4s - loss: 0.1167 - acc: 0.8183 - val_loss: 0.1066 - val_acc: 0.8427\n",
            "Epoch 4/10\n",
            " - 4s - loss: 0.1121 - acc: 0.8317 - val_loss: 0.1098 - val_acc: 0.8576\n",
            "Epoch 5/10\n",
            " - 4s - loss: 0.1075 - acc: 0.8464 - val_loss: 0.1049 - val_acc: 0.8484\n",
            "Epoch 6/10\n",
            " - 4s - loss: 0.1055 - acc: 0.8502 - val_loss: 0.1026 - val_acc: 0.8398\n",
            "Epoch 7/10\n",
            " - 4s - loss: 0.1033 - acc: 0.8534 - val_loss: 0.1016 - val_acc: 0.8461\n",
            "Epoch 8/10\n",
            " - 4s - loss: 0.1016 - acc: 0.8569 - val_loss: 0.1052 - val_acc: 0.8461\n",
            "Epoch 9/10\n",
            " - 4s - loss: 0.1008 - acc: 0.8554 - val_loss: 0.1069 - val_acc: 0.8427\n",
            "Epoch 10/10\n",
            " - 4s - loss: 0.1007 - acc: 0.8597 - val_loss: 0.1045 - val_acc: 0.8392\n",
            "1748/1748 [==============================] - 1s 330us/step\n",
            "1544/1544 [==============================] - 0s 209us/step\n",
            "Train on 6994 samples, validate on 1748 samples\n",
            "Epoch 1/10\n",
            " - 5s - loss: 0.1462 - acc: 0.7205 - val_loss: 0.1272 - val_acc: 0.7849\n",
            "Epoch 2/10\n",
            " - 4s - loss: 0.1233 - acc: 0.7973 - val_loss: 0.1216 - val_acc: 0.8084\n",
            "Epoch 3/10\n",
            " - 4s - loss: 0.1145 - acc: 0.8167 - val_loss: 0.1192 - val_acc: 0.8238\n",
            "Epoch 4/10\n",
            " - 4s - loss: 0.1123 - acc: 0.8220 - val_loss: 0.1144 - val_acc: 0.8301\n",
            "Epoch 5/10\n",
            " - 4s - loss: 0.1102 - acc: 0.8340 - val_loss: 0.1109 - val_acc: 0.8347\n",
            "Epoch 6/10\n",
            " - 4s - loss: 0.1033 - acc: 0.8523 - val_loss: 0.1157 - val_acc: 0.8267\n",
            "Epoch 7/10\n",
            " - 4s - loss: 0.1029 - acc: 0.8467 - val_loss: 0.1109 - val_acc: 0.8358\n",
            "Epoch 8/10\n",
            " - 4s - loss: 0.1011 - acc: 0.8540 - val_loss: 0.1099 - val_acc: 0.8289\n",
            "Epoch 9/10\n",
            " - 4s - loss: 0.0968 - acc: 0.8582 - val_loss: 0.1139 - val_acc: 0.8370\n",
            "Epoch 10/10\n",
            " - 4s - loss: 0.0969 - acc: 0.8605 - val_loss: 0.1083 - val_acc: 0.8392\n",
            "1748/1748 [==============================] - 1s 325us/step\n",
            "1544/1544 [==============================] - 0s 209us/step\n"
          ],
          "name": "stdout"
        }
      ]
    },
    {
      "cell_type": "markdown",
      "metadata": {
        "id": "Tr_J6FWTCYXB",
        "colab_type": "text"
      },
      "source": [
        "##KIM"
      ]
    },
    {
      "cell_type": "code",
      "metadata": {
        "id": "PgmUF8liCa4M",
        "colab_type": "code",
        "outputId": "0f697a91-d78e-468f-f348-cdfe5e43a0f8",
        "colab": {
          "base_uri": "https://localhost:8080/",
          "height": 1000
        }
      },
      "source": [
        "kfold = StratifiedKFold(n_splits=5, shuffle=False)\n",
        "kim_scores = []\n",
        "kim_test=[]\n",
        "for train, val in kfold.split(sequences_matrix, labels):\n",
        "  model=model_kim()\n",
        "  \n",
        "  model.fit(sequences_matrix[train], labels[train],batch_size=64,epochs=10,verbose=2,\n",
        "            validation_data=(sequences_matrix[val],labels[val]),callbacks=[clr,])\n",
        "  y_pred = model.predict(sequences_matrix[val], batch_size=64, verbose=1)\n",
        "\n",
        "  kim_test.append(model.predict(X_test_sequences, batch_size=64, verbose=1).ravel())\n",
        "\n",
        "  y_pred = (y_pred > 0.5)\n",
        "  f1=f1_score(labels[val], y_pred, average='macro')\n",
        "  kim_scores.append(f1)\n",
        "  keras.backend.clear_session()"
      ],
      "execution_count": 46,
      "outputs": [
        {
          "output_type": "stream",
          "text": [
            "Train on 6993 samples, validate on 1749 samples\n",
            "Epoch 1/10\n",
            " - 5s - loss: 0.2132 - acc: 0.6444 - val_loss: 0.1483 - val_acc: 0.7198\n",
            "Epoch 2/10\n",
            " - 4s - loss: 0.1514 - acc: 0.7243 - val_loss: 0.1594 - val_acc: 0.7238\n",
            "Epoch 3/10\n",
            " - 4s - loss: 0.1339 - acc: 0.7610 - val_loss: 0.1380 - val_acc: 0.7581\n",
            "Epoch 4/10\n",
            " - 4s - loss: 0.1157 - acc: 0.8014 - val_loss: 0.1496 - val_acc: 0.7570\n",
            "Epoch 5/10\n",
            " - 4s - loss: 0.1048 - acc: 0.8251 - val_loss: 0.1231 - val_acc: 0.8056\n",
            "Epoch 6/10\n",
            " - 4s - loss: 0.0940 - acc: 0.8467 - val_loss: 0.1269 - val_acc: 0.7936\n",
            "Epoch 7/10\n",
            " - 4s - loss: 0.0840 - acc: 0.8639 - val_loss: 0.1208 - val_acc: 0.8073\n",
            "Epoch 8/10\n",
            " - 4s - loss: 0.0757 - acc: 0.8823 - val_loss: 0.1321 - val_acc: 0.7822\n",
            "Epoch 9/10\n",
            " - 4s - loss: 0.0696 - acc: 0.8936 - val_loss: 0.1240 - val_acc: 0.8045\n",
            "Epoch 10/10\n",
            " - 4s - loss: 0.0652 - acc: 0.8946 - val_loss: 0.1492 - val_acc: 0.8233\n",
            "1749/1749 [==============================] - 0s 261us/step\n",
            "1544/1544 [==============================] - 0s 163us/step\n",
            "Train on 6993 samples, validate on 1749 samples\n",
            "Epoch 1/10\n",
            " - 5s - loss: 0.2077 - acc: 0.6488 - val_loss: 0.1559 - val_acc: 0.6701\n",
            "Epoch 2/10\n",
            " - 4s - loss: 0.1517 - acc: 0.7227 - val_loss: 0.1373 - val_acc: 0.7307\n",
            "Epoch 3/10\n",
            " - 4s - loss: 0.1341 - acc: 0.7630 - val_loss: 0.1306 - val_acc: 0.7530\n",
            "Epoch 4/10\n",
            " - 4s - loss: 0.1180 - acc: 0.7948 - val_loss: 0.1211 - val_acc: 0.7850\n",
            "Epoch 5/10\n",
            " - 4s - loss: 0.1093 - acc: 0.8144 - val_loss: 0.1236 - val_acc: 0.7810\n",
            "Epoch 6/10\n",
            " - 4s - loss: 0.0986 - acc: 0.8401 - val_loss: 0.1331 - val_acc: 0.7753\n",
            "Epoch 7/10\n",
            " - 4s - loss: 0.0898 - acc: 0.8539 - val_loss: 0.1197 - val_acc: 0.8010\n",
            "Epoch 8/10\n",
            " - 4s - loss: 0.0865 - acc: 0.8650 - val_loss: 0.1283 - val_acc: 0.7970\n",
            "Epoch 9/10\n",
            " - 4s - loss: 0.0786 - acc: 0.8764 - val_loss: 0.1274 - val_acc: 0.7993\n",
            "Epoch 10/10\n",
            " - 4s - loss: 0.0685 - acc: 0.8936 - val_loss: 0.1276 - val_acc: 0.8016\n",
            "1749/1749 [==============================] - 0s 267us/step\n",
            "1544/1544 [==============================] - 0s 150us/step\n",
            "Train on 6994 samples, validate on 1748 samples\n",
            "Epoch 1/10\n",
            " - 5s - loss: 0.2132 - acc: 0.6428 - val_loss: 0.1390 - val_acc: 0.7443\n",
            "Epoch 2/10\n",
            " - 4s - loss: 0.1588 - acc: 0.7165 - val_loss: 0.1312 - val_acc: 0.7563\n",
            "Epoch 3/10\n",
            " - 4s - loss: 0.1347 - acc: 0.7744 - val_loss: 0.1300 - val_acc: 0.7500\n",
            "Epoch 4/10\n",
            " - 4s - loss: 0.1183 - acc: 0.8013 - val_loss: 0.1170 - val_acc: 0.7998\n",
            "Epoch 5/10\n",
            " - 4s - loss: 0.1054 - acc: 0.8280 - val_loss: 0.1151 - val_acc: 0.8221\n",
            "Epoch 6/10\n",
            " - 4s - loss: 0.0939 - acc: 0.8487 - val_loss: 0.1263 - val_acc: 0.7952\n",
            "Epoch 7/10\n",
            " - 4s - loss: 0.0853 - acc: 0.8683 - val_loss: 0.1177 - val_acc: 0.8129\n",
            "Epoch 8/10\n",
            " - 4s - loss: 0.0788 - acc: 0.8795 - val_loss: 0.1199 - val_acc: 0.7969\n",
            "Epoch 9/10\n",
            " - 4s - loss: 0.0720 - acc: 0.8889 - val_loss: 0.1165 - val_acc: 0.8181\n",
            "Epoch 10/10\n",
            " - 4s - loss: 0.0626 - acc: 0.9056 - val_loss: 0.1221 - val_acc: 0.8118\n",
            "1748/1748 [==============================] - 1s 299us/step\n",
            "1544/1544 [==============================] - 0s 154us/step\n",
            "Train on 6994 samples, validate on 1748 samples\n",
            "Epoch 1/10\n",
            " - 5s - loss: 0.2315 - acc: 0.6311 - val_loss: 0.1504 - val_acc: 0.7265\n",
            "Epoch 2/10\n",
            " - 4s - loss: 0.1598 - acc: 0.7146 - val_loss: 0.1251 - val_acc: 0.7706\n",
            "Epoch 3/10\n",
            " - 4s - loss: 0.1364 - acc: 0.7574 - val_loss: 0.1222 - val_acc: 0.7740\n",
            "Epoch 4/10\n",
            " - 4s - loss: 0.1200 - acc: 0.7904 - val_loss: 0.1130 - val_acc: 0.8084\n",
            "Epoch 5/10\n",
            " - 4s - loss: 0.1090 - acc: 0.8191 - val_loss: 0.1263 - val_acc: 0.7775\n",
            "Epoch 6/10\n",
            " - 4s - loss: 0.0974 - acc: 0.8443 - val_loss: 0.1200 - val_acc: 0.8015\n",
            "Epoch 7/10\n",
            " - 4s - loss: 0.0850 - acc: 0.8663 - val_loss: 0.1146 - val_acc: 0.8112\n",
            "Epoch 8/10\n",
            " - 4s - loss: 0.0786 - acc: 0.8796 - val_loss: 0.1323 - val_acc: 0.7740\n",
            "Epoch 9/10\n",
            " - 4s - loss: 0.0703 - acc: 0.8921 - val_loss: 0.1698 - val_acc: 0.7809\n",
            "Epoch 10/10\n",
            " - 4s - loss: 0.0660 - acc: 0.9006 - val_loss: 0.1283 - val_acc: 0.8066\n",
            "1748/1748 [==============================] - 0s 277us/step\n",
            "1544/1544 [==============================] - 0s 151us/step\n",
            "Train on 6994 samples, validate on 1748 samples\n",
            "Epoch 1/10\n",
            " - 5s - loss: 0.2184 - acc: 0.6504 - val_loss: 0.1418 - val_acc: 0.7414\n",
            "Epoch 2/10\n",
            " - 4s - loss: 0.1579 - acc: 0.7159 - val_loss: 0.1340 - val_acc: 0.7603\n",
            "Epoch 3/10\n",
            " - 4s - loss: 0.1350 - acc: 0.7677 - val_loss: 0.1308 - val_acc: 0.7620\n",
            "Epoch 4/10\n",
            " - 4s - loss: 0.1183 - acc: 0.7951 - val_loss: 0.1277 - val_acc: 0.7746\n",
            "Epoch 5/10\n",
            " - 4s - loss: 0.1041 - acc: 0.8283 - val_loss: 0.1213 - val_acc: 0.8038\n",
            "Epoch 6/10\n",
            " - 4s - loss: 0.0959 - acc: 0.8444 - val_loss: 0.1240 - val_acc: 0.7969\n",
            "Epoch 7/10\n",
            " - 4s - loss: 0.0847 - acc: 0.8636 - val_loss: 0.1216 - val_acc: 0.8135\n",
            "Epoch 8/10\n",
            " - 4s - loss: 0.0799 - acc: 0.8730 - val_loss: 0.1405 - val_acc: 0.7946\n",
            "Epoch 9/10\n",
            " - 4s - loss: 0.0716 - acc: 0.8873 - val_loss: 0.1283 - val_acc: 0.8089\n",
            "Epoch 10/10\n",
            " - 4s - loss: 0.0648 - acc: 0.8992 - val_loss: 0.1220 - val_acc: 0.8146\n",
            "1748/1748 [==============================] - 0s 284us/step\n",
            "1544/1544 [==============================] - 0s 154us/step\n"
          ],
          "name": "stdout"
        }
      ]
    },
    {
      "cell_type": "markdown",
      "metadata": {
        "id": "4bXDiFxJH5Ny",
        "colab_type": "text"
      },
      "source": [
        "#**Result**"
      ]
    },
    {
      "cell_type": "markdown",
      "metadata": {
        "id": "vXd8VkdPhAq2",
        "colab_type": "text"
      },
      "source": [
        "# Result"
      ]
    },
    {
      "cell_type": "code",
      "metadata": {
        "id": "AnC41n_HRKQA",
        "colab_type": "code",
        "colab": {}
      },
      "source": [
        "gru_scores=np.average(np.array(gru_scores))\n",
        "atten_scores=np.average(np.array(atten_scores))\n",
        "tcn_scores=np.average(np.array(tcn_scores))\n",
        "kim_scores=np.average(np.array(kim_scores))"
      ],
      "execution_count": 0,
      "outputs": []
    },
    {
      "cell_type": "code",
      "metadata": {
        "id": "jBp341Qog_uv",
        "colab_type": "code",
        "outputId": "3d19a586-90a5-42fd-b20d-975da9f33130",
        "colab": {
          "base_uri": "https://localhost:8080/",
          "height": 134
        }
      },
      "source": [
        "print('f1 score of count vec' ,cv_score)\n",
        "print('f1 score of word tfidf' ,tfw_score)\n",
        "print('f1 score of char tfidf' ,tfc_score)\n",
        "\n",
        "print('f1 score of RNN' ,gru_scores)\n",
        "print('f1 score of gated attention',atten_scores )\n",
        "print('f1 score of tcn',tcn_scores)\n",
        "print('f1 score of kim',kim_scores)\n"
      ],
      "execution_count": 64,
      "outputs": [
        {
          "output_type": "stream",
          "text": [
            "f1 score of count vec 0.7610888141381092\n",
            "f1 score of word tfidf 0.7517944000467675\n",
            "f1 score of char tfidf 0.7996681902699987\n",
            "f1 score of RNN 0.7779719757780874\n",
            "f1 score of gated attention 0.772904930773348\n",
            "f1 score of tcn 0.7892431790150655\n",
            "f1 score of kim 0.7447085574431405\n"
          ],
          "name": "stdout"
        }
      ]
    },
    {
      "cell_type": "code",
      "metadata": {
        "id": "ipijYwvjJPyx",
        "colab_type": "code",
        "colab": {}
      },
      "source": [
        "kim_test_avg=np.mean(np.array(kim_test),axis=0)\n",
        "gru_test_avg=np.mean(np.array(gru_test),axis=0)\n",
        "atten_test_avg=np.mean(np.array(atten_test),axis=0)\n",
        "tcn_test_avg=np.mean(np.array(tcn_test),axis=0)\n"
      ],
      "execution_count": 0,
      "outputs": []
    },
    {
      "cell_type": "code",
      "metadata": {
        "id": "EAMx_NI2jltK",
        "colab_type": "code",
        "outputId": "6380086d-f177-461e-ec7b-55129b4e21c5",
        "colab": {
          "base_uri": "https://localhost:8080/",
          "height": 34
        }
      },
      "source": [
        "kim_test[0].shape,cv_test.shape,kim_test_avg.shape"
      ],
      "execution_count": 55,
      "outputs": [
        {
          "output_type": "execute_result",
          "data": {
            "text/plain": [
              "((1544,), (1544,), (1544,))"
            ]
          },
          "metadata": {
            "tags": []
          },
          "execution_count": 55
        }
      ]
    },
    {
      "cell_type": "code",
      "metadata": {
        "id": "ZZ8CR7s1Qe18",
        "colab_type": "code",
        "outputId": "a27ce4ce-47d7-4367-817f-e131e7236039",
        "colab": {
          "base_uri": "https://localhost:8080/",
          "height": 134
        }
      },
      "source": [
        "print(cv_test[5:15].round())\n",
        "print(tfw_test[5:15].round())\n",
        "print(tfc_test[5:15].round())\n",
        "print(gru_test_avg[5:15].round())\n",
        "print(atten_test_avg[5:15].round())\n",
        "print(kim_test_avg[5:15].round())\n",
        "print(tcn_test_avg[5:15].round())\n"
      ],
      "execution_count": 69,
      "outputs": [
        {
          "output_type": "stream",
          "text": [
            "[0. 0. 1. 0. 1. 0. 0. 0. 0. 1.]\n",
            "[0. 0. 1. 0. 1. 0. 0. 0. 0. 1.]\n",
            "[0. 0. 1. 0. 1. 0. 0. 0. 0. 1.]\n",
            "[0. 0. 1. 0. 1. 0. 0. 0. 0. 1.]\n",
            "[0. 0. 1. 0. 1. 0. 0. 0. 0. 1.]\n",
            "[0. 0. 1. 1. 1. 0. 0. 0. 0. 1.]\n",
            "[0. 0. 1. 0. 1. 0. 0. 0. 0. 1.]\n"
          ],
          "name": "stdout"
        }
      ]
    },
    {
      "cell_type": "markdown",
      "metadata": {
        "id": "DW1OugTMEpZg",
        "colab_type": "text"
      },
      "source": [
        "# Ensemble"
      ]
    },
    {
      "cell_type": "markdown",
      "metadata": {
        "id": "f6VT0aVcUIhm",
        "colab_type": "text"
      },
      "source": [
        "we will choose only those, having f1 greater than 0.7. Once they are selected, we will decode labels, and keep label according to mod"
      ]
    },
    {
      "cell_type": "code",
      "metadata": {
        "id": "6wmQlS5LkZLi",
        "colab_type": "code",
        "outputId": "55a32218-3444-421b-9c34-1df94dacfb91",
        "colab": {
          "base_uri": "https://localhost:8080/",
          "height": 34
        }
      },
      "source": [
        "wt=gru_scores+atten_scores+cv_score+tfw_score+tfc_score+tcn_scores+kim_scores\n",
        "wt"
      ],
      "execution_count": 59,
      "outputs": [
        {
          "output_type": "execute_result",
          "data": {
            "text/plain": [
              "5.397380047464518"
            ]
          },
          "metadata": {
            "tags": []
          },
          "execution_count": 59
        }
      ]
    },
    {
      "cell_type": "code",
      "metadata": {
        "id": "AkCLYtxOcXCA",
        "colab_type": "code",
        "colab": {}
      },
      "source": [
        "#i am bit changing the distribution in order to give more weightage to ml than dl\n",
        "y_test=gru_scores/wt * gru_test_avg + atten_scores/wt * atten_test_avg + cv_score/wt * cv_test + tfw_score/wt *tfw_test + tfc_score/wt *tfc_test +kim_scores/wt * kim_test_avg + tcn_scores/wt *tcn_test_avg"
      ],
      "execution_count": 0,
      "outputs": []
    },
    {
      "cell_type": "code",
      "metadata": {
        "id": "EzRAIebNSpMz",
        "colab_type": "code",
        "outputId": "5f13bcfc-ac63-4a0e-fbd6-d0c10f3db154",
        "colab": {
          "base_uri": "https://localhost:8080/",
          "height": 34
        }
      },
      "source": [
        "y_test[5:15].round()"
      ],
      "execution_count": 70,
      "outputs": [
        {
          "output_type": "execute_result",
          "data": {
            "text/plain": [
              "array([0., 0., 1., 0., 1., 0., 0., 0., 0., 1.])"
            ]
          },
          "metadata": {
            "tags": []
          },
          "execution_count": 70
        }
      ]
    },
    {
      "cell_type": "code",
      "metadata": {
        "id": "V9Pu0LvuZIf8",
        "colab_type": "code",
        "colab": {}
      },
      "source": [
        "def decode(y_test):\n",
        "  y_test[y_test>0.5]=1\n",
        "  y_test[y_test<0.5]=0\n",
        "  y_test=y_test.astype('int16').ravel()\n",
        "\n",
        "  y_test=le.inverse_transform(y_test)\n",
        "  y_test=pd.DataFrame(y_test,columns=['label'])\n",
        "  y_test=pd.concat([ids, y_test['label']], axis=1)\n",
        "  return y_test"
      ],
      "execution_count": 0,
      "outputs": []
    },
    {
      "cell_type": "code",
      "metadata": {
        "id": "7PgV77IYZRGP",
        "colab_type": "code",
        "outputId": "ff00f04b-26ad-48b8-f8d2-96fad4d76202",
        "colab": {
          "base_uri": "https://localhost:8080/",
          "height": 195
        }
      },
      "source": [
        "y_test=decode(y_test)\n",
        "y_test.head()\n",
        "\n"
      ],
      "execution_count": 72,
      "outputs": [
        {
          "output_type": "execute_result",
          "data": {
            "text/html": [
              "<div>\n",
              "<style scoped>\n",
              "    .dataframe tbody tr th:only-of-type {\n",
              "        vertical-align: middle;\n",
              "    }\n",
              "\n",
              "    .dataframe tbody tr th {\n",
              "        vertical-align: top;\n",
              "    }\n",
              "\n",
              "    .dataframe thead th {\n",
              "        text-align: right;\n",
              "    }\n",
              "</style>\n",
              "<table border=\"1\" class=\"dataframe\">\n",
              "  <thead>\n",
              "    <tr style=\"text-align: right;\">\n",
              "      <th></th>\n",
              "      <th>id</th>\n",
              "      <th>label</th>\n",
              "    </tr>\n",
              "  </thead>\n",
              "  <tbody>\n",
              "    <tr>\n",
              "      <th>0</th>\n",
              "      <td>2707</td>\n",
              "      <td>NOT</td>\n",
              "    </tr>\n",
              "    <tr>\n",
              "      <th>1</th>\n",
              "      <td>2251</td>\n",
              "      <td>NOT</td>\n",
              "    </tr>\n",
              "    <tr>\n",
              "      <th>2</th>\n",
              "      <td>9814</td>\n",
              "      <td>NOT</td>\n",
              "    </tr>\n",
              "    <tr>\n",
              "      <th>3</th>\n",
              "      <td>8949</td>\n",
              "      <td>NOT</td>\n",
              "    </tr>\n",
              "    <tr>\n",
              "      <th>4</th>\n",
              "      <td>6913</td>\n",
              "      <td>OFF</td>\n",
              "    </tr>\n",
              "  </tbody>\n",
              "</table>\n",
              "</div>"
            ],
            "text/plain": [
              "     id label\n",
              "0  2707   NOT\n",
              "1  2251   NOT\n",
              "2  9814   NOT\n",
              "3  8949   NOT\n",
              "4  6913   OFF"
            ]
          },
          "metadata": {
            "tags": []
          },
          "execution_count": 72
        }
      ]
    },
    {
      "cell_type": "code",
      "metadata": {
        "id": "8avMmBQvb_IR",
        "colab_type": "code",
        "colab": {}
      },
      "source": [
        ""
      ],
      "execution_count": 0,
      "outputs": []
    },
    {
      "cell_type": "markdown",
      "metadata": {
        "id": "Dl57zICXM4c6",
        "colab_type": "text"
      },
      "source": [
        "# Submit file"
      ]
    },
    {
      "cell_type": "code",
      "metadata": {
        "id": "3LkCxvtfEnpl",
        "colab_type": "code",
        "colab": {}
      },
      "source": [
        ""
      ],
      "execution_count": 0,
      "outputs": []
    },
    {
      "cell_type": "code",
      "metadata": {
        "id": "GHTCw4_jP_tr",
        "colab_type": "code",
        "colab": {}
      },
      "source": [
        "y_test.to_csv('/content/final.csv',index=False,header=None)\n"
      ],
      "execution_count": 0,
      "outputs": []
    },
    {
      "cell_type": "code",
      "metadata": {
        "id": "2tPo96DUz_EZ",
        "colab_type": "code",
        "colab": {}
      },
      "source": [
        ""
      ],
      "execution_count": 0,
      "outputs": []
    },
    {
      "cell_type": "markdown",
      "metadata": {
        "id": "FwKb7_NBWjAv",
        "colab_type": "text"
      },
      "source": [
        "# Reset"
      ]
    },
    {
      "cell_type": "code",
      "metadata": {
        "id": "R0Xi3s2KWlKi",
        "colab_type": "code",
        "colab": {}
      },
      "source": [
        "# import keras\n",
        "# keras.backend.clear_session()"
      ],
      "execution_count": 0,
      "outputs": []
    },
    {
      "cell_type": "code",
      "metadata": {
        "id": "T39YK5rbQBoT",
        "colab_type": "code",
        "colab": {}
      },
      "source": [
        ""
      ],
      "execution_count": 0,
      "outputs": []
    }
  ]
}