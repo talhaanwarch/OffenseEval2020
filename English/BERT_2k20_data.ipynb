{
  "nbformat": 4,
  "nbformat_minor": 0,
  "metadata": {
    "colab": {
      "name": "BERT.ipynb",
      "provenance": [],
      "private_outputs": true,
      "collapsed_sections": [],
      "machine_shape": "hm",
      "include_colab_link": true
    },
    "kernelspec": {
      "name": "python3",
      "display_name": "Python 3"
    },
    "accelerator": "GPU"
  },
  "cells": [
    {
      "cell_type": "markdown",
      "metadata": {
        "id": "view-in-github",
        "colab_type": "text"
      },
      "source": [
        "<a href=\"https://colab.research.google.com/github/talhaanwarch/OffenseEval2020/blob/master/English/BERT_2k20_data.ipynb\" target=\"_parent\"><img src=\"https://colab.research.google.com/assets/colab-badge.svg\" alt=\"Open In Colab\"/></a>"
      ]
    },
    {
      "cell_type": "code",
      "metadata": {
        "id": "5-8AMV4HJOgL",
        "colab_type": "code",
        "colab": {}
      },
      "source": [
        "# d=[]\n",
        "# while(1):\n",
        "#   d.append('1111111111111111111111111111')"
      ],
      "execution_count": 0,
      "outputs": []
    },
    {
      "cell_type": "code",
      "metadata": {
        "id": "IgeDkfvzGxhr",
        "colab_type": "code",
        "colab": {}
      },
      "source": [
        "!pip install focal-loss"
      ],
      "execution_count": 0,
      "outputs": []
    },
    {
      "cell_type": "code",
      "metadata": {
        "id": "xoyxXaG6mW83",
        "colab_type": "code",
        "colab": {}
      },
      "source": [
        "!pip install ktrain"
      ],
      "execution_count": 0,
      "outputs": []
    },
    {
      "cell_type": "code",
      "metadata": {
        "id": "jc0iaFqSmIWk",
        "colab_type": "code",
        "colab": {}
      },
      "source": [
        "!pip install \"tensorflow_gpu>=2.0.0\""
      ],
      "execution_count": 0,
      "outputs": []
    },
    {
      "cell_type": "code",
      "metadata": {
        "id": "kFQZ1ugyFikK",
        "colab_type": "code",
        "colab": {}
      },
      "source": [
        "!pip install tensorflow-addons"
      ],
      "execution_count": 0,
      "outputs": []
    },
    {
      "cell_type": "code",
      "metadata": {
        "id": "K8-30C5TmQKN",
        "colab_type": "code",
        "colab": {}
      },
      "source": [
        "from google.colab import drive\n",
        "drive.mount('/content/drive',force_remount=True)"
      ],
      "execution_count": 0,
      "outputs": []
    },
    {
      "cell_type": "code",
      "metadata": {
        "id": "VkVwbeQbOAPe",
        "colab_type": "code",
        "colab": {}
      },
      "source": [
        "import ktrain\n",
        "import pandas as pd\n",
        "import numpy as np\n",
        "# import tensorflow as tf\n",
        "from sklearn.preprocessing import LabelEncoder\n",
        "# from tensorflow.keras.models import Sequential,Model\n",
        "# from tensorflow.keras.layers import Embedding,Dense,Dropout,Flatten, Input\n",
        "# from tensorflow.keras.optimizers import RMSprop,Adam,Adadelta"
      ],
      "execution_count": 0,
      "outputs": []
    },
    {
      "cell_type": "markdown",
      "metadata": {
        "id": "Udk8qWz-K4cx",
        "colab_type": "text"
      },
      "source": [
        "# Load data"
      ]
    },
    {
      "cell_type": "code",
      "metadata": {
        "id": "Lx-1BQaY6rkq",
        "colab_type": "code",
        "colab": {}
      },
      "source": [
        "train=pd.read_csv( '/content/drive/My Drive/dataset/OffenseEval2020/data/English/task_a_distant.tsv',sep=\"\\t\")\n"
      ],
      "execution_count": 0,
      "outputs": []
    },
    {
      "cell_type": "code",
      "metadata": {
        "id": "xsX7vr_77Kbb",
        "colab_type": "code",
        "colab": {}
      },
      "source": [
        "len(train)"
      ],
      "execution_count": 0,
      "outputs": []
    },
    {
      "cell_type": "code",
      "metadata": {
        "id": "a06DrxWQ7GKE",
        "colab_type": "code",
        "colab": {}
      },
      "source": [
        "train=train.iloc[0:int(len(train)/3),:]\n",
        "len(train)"
      ],
      "execution_count": 0,
      "outputs": []
    },
    {
      "cell_type": "code",
      "metadata": {
        "id": "SsyaJHD98Fdn",
        "colab_type": "code",
        "colab": {}
      },
      "source": [
        "val=pd.read_csv( '/content/drive/My Drive/dataset/OLID/data/olid-training-v1.0.tsv',sep=\"\\t\")\n",
        "\n",
        "val.head()"
      ],
      "execution_count": 0,
      "outputs": []
    },
    {
      "cell_type": "code",
      "metadata": {
        "id": "AB2cAnnkCsSc",
        "colab_type": "code",
        "colab": {}
      },
      "source": [
        "test=pd.read_csv( '/content/drive/My Drive/dataset/OffenseEval2020/data/English/test_a_tweets.tsv',sep=\"\\t\")\n",
        "test.head()"
      ],
      "execution_count": 0,
      "outputs": []
    },
    {
      "cell_type": "code",
      "metadata": {
        "id": "Mv31K9V2h41l",
        "colab_type": "code",
        "colab": {}
      },
      "source": [
        "y_train=train['average'].values\n",
        "y_train[y_train>0.5]=1\n",
        "y_train[y_train<0.5]=0\n",
        "y_train=y_train.astype('int')\n"
      ],
      "execution_count": 0,
      "outputs": []
    },
    {
      "cell_type": "code",
      "metadata": {
        "id": "M8DfX-GgC1_U",
        "colab_type": "code",
        "colab": {}
      },
      "source": [
        "train=train['text']\n",
        "train.head()"
      ],
      "execution_count": 0,
      "outputs": []
    },
    {
      "cell_type": "code",
      "metadata": {
        "id": "H0BPiqo2DBlA",
        "colab_type": "code",
        "colab": {}
      },
      "source": [
        "y_val=val['subtask_a']\n",
        "val=val['tweet']\n",
        "val.head()"
      ],
      "execution_count": 0,
      "outputs": []
    },
    {
      "cell_type": "code",
      "metadata": {
        "id": "s3W2HZTADScQ",
        "colab_type": "code",
        "colab": {}
      },
      "source": [
        "ids=test['id']\n",
        "test=test['tweet']\n",
        "test.head()"
      ],
      "execution_count": 0,
      "outputs": []
    },
    {
      "cell_type": "code",
      "metadata": {
        "id": "YY8MVlxhggiD",
        "colab_type": "code",
        "colab": {}
      },
      "source": [
        "\n",
        "train=train.str.replace('\\d+', '')\n",
        "train=train.str.replace('@USER', \"\") \n",
        "train=train.str.replace('URL', '')\n",
        "train= train.str.lower()\n",
        "\n",
        "train.head()"
      ],
      "execution_count": 0,
      "outputs": []
    },
    {
      "cell_type": "code",
      "metadata": {
        "id": "WQJxAYq7DqL1",
        "colab_type": "code",
        "colab": {}
      },
      "source": [
        "\n",
        "val=val.str.replace('\\d+', '')\n",
        "val=val.str.replace('@USER', \"\") \n",
        "val=val.str.replace('URL', '')\n",
        "val= val.str.lower()\n",
        "val.head()"
      ],
      "execution_count": 0,
      "outputs": []
    },
    {
      "cell_type": "code",
      "metadata": {
        "id": "kuznAeznDjSs",
        "colab_type": "code",
        "colab": {}
      },
      "source": [
        "\n",
        "test=test.str.replace('\\d+', '')\n",
        "test=test.str.replace('@USER', \"\") \n",
        "test=test.str.replace('URL', '')\n",
        "test= test.str.lower()\n",
        "test.head()"
      ],
      "execution_count": 0,
      "outputs": []
    },
    {
      "cell_type": "markdown",
      "metadata": {
        "id": "YUFczyikLeYO",
        "colab_type": "text"
      },
      "source": [
        "#Label Encoding"
      ]
    },
    {
      "cell_type": "code",
      "metadata": {
        "id": "_m_lLBjunbaQ",
        "colab_type": "code",
        "colab": {}
      },
      "source": [
        "len(train),len(val),len(test)"
      ],
      "execution_count": 0,
      "outputs": []
    },
    {
      "cell_type": "code",
      "metadata": {
        "colab_type": "code",
        "id": "LZ3N1d1PEMc7",
        "colab": {}
      },
      "source": [
        "le=LabelEncoder()\n",
        "y_val=le.fit_transform(y_val)\n",
        "print(len(y_val))"
      ],
      "execution_count": 0,
      "outputs": []
    },
    {
      "cell_type": "code",
      "metadata": {
        "id": "EI-g-MfaNNMd",
        "colab_type": "code",
        "colab": {}
      },
      "source": [
        "import gc\n",
        "gc.collect()"
      ],
      "execution_count": 0,
      "outputs": []
    },
    {
      "cell_type": "markdown",
      "metadata": {
        "id": "tbQNqrW_jsSM",
        "colab_type": "text"
      },
      "source": [
        "#BERT"
      ]
    },
    {
      "cell_type": "code",
      "metadata": {
        "id": "RW24v9owLzGO",
        "colab_type": "code",
        "colab": {}
      },
      "source": [
        "from focal_loss import BinaryFocalLoss"
      ],
      "execution_count": 0,
      "outputs": []
    },
    {
      "cell_type": "code",
      "metadata": {
        "id": "fxEmg2GsmYEg",
        "colab_type": "code",
        "colab": {}
      },
      "source": [
        "\n",
        "import ktrain\n",
        "from ktrain import text\n",
        "MODEL_NAME = 'bert-base-uncased'\n",
        "t = text.Transformer(MODEL_NAME, maxlen=100,classes=[0,1])\n",
        "trn = t.preprocess_train(train, y_train)\n",
        "val = t.preprocess_test(val, y_val)\n",
        "model = t.get_classifier()\n"
      ],
      "execution_count": 0,
      "outputs": []
    },
    {
      "cell_type": "code",
      "metadata": {
        "id": "zrA4Ye0MMGKg",
        "colab_type": "code",
        "colab": {}
      },
      "source": [
        "import tensorflow_addons as tfa\n",
        "opt=tfa.optimizers.LAMB()\t"
      ],
      "execution_count": 0,
      "outputs": []
    },
    {
      "cell_type": "code",
      "metadata": {
        "id": "4migVkY5GHRM",
        "colab_type": "code",
        "colab": {}
      },
      "source": [
        "model.compile(loss=BinaryFocalLoss(gamma=2), optimizer=opt, metrics=['accuracy'])"
      ],
      "execution_count": 0,
      "outputs": []
    },
    {
      "cell_type": "code",
      "metadata": {
        "id": "5D839Nk5GBrd",
        "colab_type": "code",
        "colab": {}
      },
      "source": [
        "learner = ktrain.get_learner(model, train_data=trn, val_data=val, batch_size=64)"
      ],
      "execution_count": 0,
      "outputs": []
    },
    {
      "cell_type": "code",
      "metadata": {
        "id": "a6DZmS-knwEO",
        "colab_type": "code",
        "colab": {}
      },
      "source": [
        "# learner.lr_find(show_plot=True, max_epochs=2)"
      ],
      "execution_count": 0,
      "outputs": []
    },
    {
      "cell_type": "code",
      "metadata": {
        "id": "Qy7kRnl3ogzC",
        "colab_type": "code",
        "colab": {}
      },
      "source": [
        "learner.fit_onecycle(10e-5, 1)\n",
        "#learner.autofit(10e-4, 10)\n"
      ],
      "execution_count": 0,
      "outputs": []
    },
    {
      "cell_type": "code",
      "metadata": {
        "id": "_VqbUADo9hAk",
        "colab_type": "code",
        "colab": {}
      },
      "source": [
        "# learner.validate(class_names=t.get_classes())"
      ],
      "execution_count": 0,
      "outputs": []
    },
    {
      "cell_type": "code",
      "metadata": {
        "id": "NUmKnJmvxmym",
        "colab_type": "code",
        "colab": {}
      },
      "source": [
        ""
      ],
      "execution_count": 0,
      "outputs": []
    },
    {
      "cell_type": "code",
      "metadata": {
        "id": "RSC6l_3jo8V0",
        "colab_type": "code",
        "colab": {}
      },
      "source": [
        "# from sklearn.metrics import f1_score\n",
        "# predictor = ktrain.get_predictor(learner.model, preproc=t)\n",
        "# y_pred=predictor.predict(x_val.tolist(),return_proba=True)\n",
        "\n",
        "# #y_pred = learner.model.predict(x_test, verbose=0)\n"
      ],
      "execution_count": 0,
      "outputs": []
    },
    {
      "cell_type": "code",
      "metadata": {
        "id": "JIx09Nw0u1iq",
        "colab_type": "code",
        "colab": {}
      },
      "source": [
        "# f1_score = f1_score(y_val, y_pred,average='macro')"
      ],
      "execution_count": 0,
      "outputs": []
    },
    {
      "cell_type": "code",
      "metadata": {
        "id": "1ykE-TxaHMZn",
        "colab_type": "code",
        "colab": {}
      },
      "source": [
        ""
      ],
      "execution_count": 0,
      "outputs": []
    }
  ]
}