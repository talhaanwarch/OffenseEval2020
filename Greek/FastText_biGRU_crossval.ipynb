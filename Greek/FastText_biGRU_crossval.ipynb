{
  "nbformat": 4,
  "nbformat_minor": 0,
  "metadata": {
    "colab": {
      "name": "Copy of biGRU.ipynb",
      "provenance": [],
      "collapsed_sections": [],
      "include_colab_link": true
    },
    "kernelspec": {
      "name": "python3",
      "display_name": "Python 3"
    },
    "accelerator": "GPU"
  },
  "cells": [
    {
      "cell_type": "markdown",
      "metadata": {
        "id": "view-in-github",
        "colab_type": "text"
      },
      "source": [
        "<a href=\"https://colab.research.google.com/github/talhaanwarch/OffenseEval2020/blob/master/Greek/FastText_biGRU_crossval.ipynb\" target=\"_parent\"><img src=\"https://colab.research.google.com/assets/colab-badge.svg\" alt=\"Open In Colab\"/></a>"
      ]
    },
    {
      "cell_type": "markdown",
      "metadata": {
        "id": "U_tja7FDUpcC",
        "colab_type": "text"
      },
      "source": [
        "# Greek Language"
      ]
    },
    {
      "cell_type": "code",
      "metadata": {
        "id": "B8yyBcABHgE8",
        "colab_type": "code",
        "outputId": "42198ed7-6538-41c3-c022-59565c26e0d9",
        "colab": {
          "base_uri": "https://localhost:8080/",
          "height": 121
        }
      },
      "source": [
        "from google.colab import drive\n",
        "drive.mount('/content/drive',force_remount=True)"
      ],
      "execution_count": 1,
      "outputs": [
        {
          "output_type": "stream",
          "text": [
            "Go to this URL in a browser: https://accounts.google.com/o/oauth2/auth?client_id=947318989803-6bn6qk8qdgf4n4g3pfee6491hc0brc4i.apps.googleusercontent.com&redirect_uri=urn%3aietf%3awg%3aoauth%3a2.0%3aoob&response_type=code&scope=email%20https%3a%2f%2fwww.googleapis.com%2fauth%2fdocs.test%20https%3a%2f%2fwww.googleapis.com%2fauth%2fdrive%20https%3a%2f%2fwww.googleapis.com%2fauth%2fdrive.photos.readonly%20https%3a%2f%2fwww.googleapis.com%2fauth%2fpeopleapi.readonly\n",
            "\n",
            "Enter your authorization code:\n",
            "··········\n",
            "Mounted at /content/drive\n"
          ],
          "name": "stdout"
        }
      ]
    },
    {
      "cell_type": "code",
      "metadata": {
        "id": "XzpBLLtl6MXy",
        "colab_type": "code",
        "outputId": "2e8113e3-1a14-4a89-efe5-ece3c314b1e5",
        "colab": {
          "base_uri": "https://localhost:8080/",
          "height": 370
        }
      },
      "source": [
        "!pip install focal-loss\n",
        "!pip install keras-radam"
      ],
      "execution_count": 2,
      "outputs": [
        {
          "output_type": "stream",
          "text": [
            "Collecting focal-loss\n",
            "  Downloading https://files.pythonhosted.org/packages/66/ed/17450291228192ad8595de4514c8ec28a587697b03c707d12d4af5b7f331/focal_loss-0.0.2-py3-none-any.whl\n",
            "Installing collected packages: focal-loss\n",
            "Successfully installed focal-loss-0.0.2\n",
            "Collecting keras-radam\n",
            "  Downloading https://files.pythonhosted.org/packages/46/8d/b83ccaa94253fbc920b21981f038393041d92236bb541751b98a66a2ac1d/keras-radam-0.15.0.tar.gz\n",
            "Requirement already satisfied: numpy in /usr/local/lib/python3.6/dist-packages (from keras-radam) (1.17.5)\n",
            "Requirement already satisfied: Keras in /usr/local/lib/python3.6/dist-packages (from keras-radam) (2.2.5)\n",
            "Requirement already satisfied: h5py in /usr/local/lib/python3.6/dist-packages (from Keras->keras-radam) (2.8.0)\n",
            "Requirement already satisfied: keras-applications>=1.0.8 in /usr/local/lib/python3.6/dist-packages (from Keras->keras-radam) (1.0.8)\n",
            "Requirement already satisfied: keras-preprocessing>=1.1.0 in /usr/local/lib/python3.6/dist-packages (from Keras->keras-radam) (1.1.0)\n",
            "Requirement already satisfied: pyyaml in /usr/local/lib/python3.6/dist-packages (from Keras->keras-radam) (3.13)\n",
            "Requirement already satisfied: scipy>=0.14 in /usr/local/lib/python3.6/dist-packages (from Keras->keras-radam) (1.4.1)\n",
            "Requirement already satisfied: six>=1.9.0 in /usr/local/lib/python3.6/dist-packages (from Keras->keras-radam) (1.12.0)\n",
            "Building wheels for collected packages: keras-radam\n",
            "  Building wheel for keras-radam (setup.py) ... \u001b[?25l\u001b[?25hdone\n",
            "  Created wheel for keras-radam: filename=keras_radam-0.15.0-cp36-none-any.whl size=14685 sha256=f3ffe981a84a33f55b7ac7dc96d74f5e2b3de91796bc76527bc8762be3675c8a\n",
            "  Stored in directory: /root/.cache/pip/wheels/79/a0/c0/670b0a118e8f078539fafec7bd02eba0af921f745660c7f83f\n",
            "Successfully built keras-radam\n",
            "Installing collected packages: keras-radam\n",
            "Successfully installed keras-radam-0.15.0\n"
          ],
          "name": "stdout"
        }
      ]
    },
    {
      "cell_type": "code",
      "metadata": {
        "id": "Y0Yzi-0oHqTD",
        "colab_type": "code",
        "outputId": "716ea5c7-2dcd-4b2b-f901-d8e147978aa6",
        "colab": {
          "base_uri": "https://localhost:8080/",
          "height": 34
        }
      },
      "source": [
        "cd /content/drive/My Drive/dataset/OffenseEval2020/data/Greek/"
      ],
      "execution_count": 3,
      "outputs": [
        {
          "output_type": "stream",
          "text": [
            "/content/drive/My Drive/dataset/OffenseEval2020/data/Greek\n"
          ],
          "name": "stdout"
        }
      ]
    },
    {
      "cell_type": "code",
      "metadata": {
        "id": "4fN7zvpdTOdo",
        "colab_type": "code",
        "outputId": "4acc684e-5c19-4ee1-8aae-ef8668d477e0",
        "colab": {
          "base_uri": "https://localhost:8080/",
          "height": 34
        }
      },
      "source": [
        "ls"
      ],
      "execution_count": 4,
      "outputs": [
        {
          "output_type": "stream",
          "text": [
            "offenseval-greek-training-v1.tsv  readme-trainingset-greek.txt\n"
          ],
          "name": "stdout"
        }
      ]
    },
    {
      "cell_type": "code",
      "metadata": {
        "id": "04n7RsXqIBlz",
        "colab_type": "code",
        "colab": {}
      },
      "source": [
        "import pandas as pd\n",
        "train=pd.read_csv( 'offenseval-greek-training-v1.tsv',sep=\"\\t\")\n",
        "train=train.sample(frac=1)"
      ],
      "execution_count": 0,
      "outputs": []
    },
    {
      "cell_type": "code",
      "metadata": {
        "id": "mqmIsFmsIFPY",
        "colab_type": "code",
        "outputId": "eec47c9e-16f5-495e-f075-c5007b426f15",
        "colab": {
          "base_uri": "https://localhost:8080/",
          "height": 195
        }
      },
      "source": [
        "train.head()"
      ],
      "execution_count": 6,
      "outputs": [
        {
          "output_type": "execute_result",
          "data": {
            "text/html": [
              "<div>\n",
              "<style scoped>\n",
              "    .dataframe tbody tr th:only-of-type {\n",
              "        vertical-align: middle;\n",
              "    }\n",
              "\n",
              "    .dataframe tbody tr th {\n",
              "        vertical-align: top;\n",
              "    }\n",
              "\n",
              "    .dataframe thead th {\n",
              "        text-align: right;\n",
              "    }\n",
              "</style>\n",
              "<table border=\"1\" class=\"dataframe\">\n",
              "  <thead>\n",
              "    <tr style=\"text-align: right;\">\n",
              "      <th></th>\n",
              "      <th>id</th>\n",
              "      <th>tweet</th>\n",
              "      <th>subtask_a</th>\n",
              "    </tr>\n",
              "  </thead>\n",
              "  <tbody>\n",
              "    <tr>\n",
              "      <th>11</th>\n",
              "      <td>7287</td>\n",
              "      <td>Όταν δεν έχεις που να βάλεις το drone #gntmgr</td>\n",
              "      <td>NOT</td>\n",
              "    </tr>\n",
              "    <tr>\n",
              "      <th>2369</th>\n",
              "      <td>447</td>\n",
              "      <td>Είσαι τ' άγγιγμα του ανέμου που μου ξαφνιάζει ...</td>\n",
              "      <td>NOT</td>\n",
              "    </tr>\n",
              "    <tr>\n",
              "      <th>2061</th>\n",
              "      <td>7520</td>\n",
              "      <td>Τράβα κόψε κάνα εισιτήριο μωρή #TheVoiceGR</td>\n",
              "      <td>OFF</td>\n",
              "    </tr>\n",
              "    <tr>\n",
              "      <th>2160</th>\n",
              "      <td>7997</td>\n",
              "      <td>Ποιος ξέρει τι μαναφούκι θα γίνει με τη Μαρίνα...</td>\n",
              "      <td>NOT</td>\n",
              "    </tr>\n",
              "    <tr>\n",
              "      <th>6751</th>\n",
              "      <td>5415</td>\n",
              "      <td>Παλι καλα που το παραδεχεται κιολας ,Κακο σκυλ...</td>\n",
              "      <td>OFF</td>\n",
              "    </tr>\n",
              "  </tbody>\n",
              "</table>\n",
              "</div>"
            ],
            "text/plain": [
              "        id                                              tweet subtask_a\n",
              "11    7287      Όταν δεν έχεις που να βάλεις το drone #gntmgr       NOT\n",
              "2369   447  Είσαι τ' άγγιγμα του ανέμου που μου ξαφνιάζει ...       NOT\n",
              "2061  7520         Τράβα κόψε κάνα εισιτήριο μωρή #TheVoiceGR       OFF\n",
              "2160  7997  Ποιος ξέρει τι μαναφούκι θα γίνει με τη Μαρίνα...       NOT\n",
              "6751  5415  Παλι καλα που το παραδεχεται κιολας ,Κακο σκυλ...       OFF"
            ]
          },
          "metadata": {
            "tags": []
          },
          "execution_count": 6
        }
      ]
    },
    {
      "cell_type": "code",
      "metadata": {
        "id": "-ptkGujpIwMH",
        "colab_type": "code",
        "outputId": "ccb467a8-88ff-4526-d7dd-c92e3acc16dd",
        "colab": {
          "base_uri": "https://localhost:8080/",
          "height": 195
        }
      },
      "source": [
        "train.tail()"
      ],
      "execution_count": 7,
      "outputs": [
        {
          "output_type": "execute_result",
          "data": {
            "text/html": [
              "<div>\n",
              "<style scoped>\n",
              "    .dataframe tbody tr th:only-of-type {\n",
              "        vertical-align: middle;\n",
              "    }\n",
              "\n",
              "    .dataframe tbody tr th {\n",
              "        vertical-align: top;\n",
              "    }\n",
              "\n",
              "    .dataframe thead th {\n",
              "        text-align: right;\n",
              "    }\n",
              "</style>\n",
              "<table border=\"1\" class=\"dataframe\">\n",
              "  <thead>\n",
              "    <tr style=\"text-align: right;\">\n",
              "      <th></th>\n",
              "      <th>id</th>\n",
              "      <th>tweet</th>\n",
              "      <th>subtask_a</th>\n",
              "    </tr>\n",
              "  </thead>\n",
              "  <tbody>\n",
              "    <tr>\n",
              "      <th>5626</th>\n",
              "      <td>7716</td>\n",
              "      <td>@USER Σπρωξανε γυναίκα κ μωρο από σκάλες οι φί...</td>\n",
              "      <td>NOT</td>\n",
              "    </tr>\n",
              "    <tr>\n",
              "      <th>4681</th>\n",
              "      <td>1502</td>\n",
              "      <td>@USER Εισαι εκλογικός ;</td>\n",
              "      <td>NOT</td>\n",
              "    </tr>\n",
              "    <tr>\n",
              "      <th>5197</th>\n",
              "      <td>5091</td>\n",
              "      <td>Γιατί αυτές οι ff νομίζουν όλες ότι είναι δυνα...</td>\n",
              "      <td>NOT</td>\n",
              "    </tr>\n",
              "    <tr>\n",
              "      <th>4664</th>\n",
              "      <td>3503</td>\n",
              "      <td>@USER Είσαι</td>\n",
              "      <td>NOT</td>\n",
              "    </tr>\n",
              "    <tr>\n",
              "      <th>3348</th>\n",
              "      <td>901</td>\n",
              "      <td>@USER εισαι αγπημενο ακκαου,αλλα εδω δε θα σου...</td>\n",
              "      <td>NOT</td>\n",
              "    </tr>\n",
              "  </tbody>\n",
              "</table>\n",
              "</div>"
            ],
            "text/plain": [
              "        id                                              tweet subtask_a\n",
              "5626  7716  @USER Σπρωξανε γυναίκα κ μωρο από σκάλες οι φί...       NOT\n",
              "4681  1502                            @USER Εισαι εκλογικός ;       NOT\n",
              "5197  5091  Γιατί αυτές οι ff νομίζουν όλες ότι είναι δυνα...       NOT\n",
              "4664  3503                                        @USER Είσαι       NOT\n",
              "3348   901  @USER εισαι αγπημενο ακκαου,αλλα εδω δε θα σου...       NOT"
            ]
          },
          "metadata": {
            "tags": []
          },
          "execution_count": 7
        }
      ]
    },
    {
      "cell_type": "code",
      "metadata": {
        "id": "8TYe8X52IGha",
        "colab_type": "code",
        "colab": {}
      },
      "source": [
        "labels=train['subtask_a']\n",
        "train=train['tweet']\n",
        "labels=pd.factorize(labels)[0]"
      ],
      "execution_count": 0,
      "outputs": []
    },
    {
      "cell_type": "code",
      "metadata": {
        "id": "KVmlJvlfIP9k",
        "colab_type": "code",
        "outputId": "91a3f8dc-6dae-491e-8bb9-0ab22dd3c161",
        "colab": {
          "base_uri": "https://localhost:8080/",
          "height": 34
        }
      },
      "source": [
        "import collections\n",
        "collections.Counter(labels)"
      ],
      "execution_count": 9,
      "outputs": [
        {
          "output_type": "execute_result",
          "data": {
            "text/plain": [
              "Counter({0: 6257, 1: 2486})"
            ]
          },
          "metadata": {
            "tags": []
          },
          "execution_count": 9
        }
      ]
    },
    {
      "cell_type": "code",
      "metadata": {
        "id": "xRZItSB-IogR",
        "colab_type": "code",
        "outputId": "49206e6b-1a94-4494-d62d-6df548ee441c",
        "colab": {
          "base_uri": "https://localhost:8080/",
          "height": 79
        }
      },
      "source": [
        "from keras.preprocessing.text import Tokenizer\n",
        "from keras.preprocessing import sequence\n",
        "max_words = 10000 #frequency of words to be kept\n",
        "max_len = 200\n",
        "\n",
        "tokenize = Tokenizer(num_words=max_words)\n",
        "tokenize.fit_on_texts(train)\n",
        "sequences = tokenize.texts_to_sequences(train)\n",
        "word_index = tokenize.word_index\n",
        "sequences_matrix = sequence.pad_sequences(sequences,maxlen=max_len)"
      ],
      "execution_count": 10,
      "outputs": [
        {
          "output_type": "stream",
          "text": [
            "Using TensorFlow backend.\n"
          ],
          "name": "stderr"
        },
        {
          "output_type": "display_data",
          "data": {
            "text/html": [
              "<p style=\"color: red;\">\n",
              "The default version of TensorFlow in Colab will soon switch to TensorFlow 2.x.<br>\n",
              "We recommend you <a href=\"https://www.tensorflow.org/guide/migrate\" target=\"_blank\">upgrade</a> now \n",
              "or ensure your notebook will continue to use TensorFlow 1.x via the <code>%tensorflow_version 1.x</code> magic:\n",
              "<a href=\"https://colab.research.google.com/notebooks/tensorflow_version.ipynb\" target=\"_blank\">more info</a>.</p>\n"
            ],
            "text/plain": [
              "<IPython.core.display.HTML object>"
            ]
          },
          "metadata": {
            "tags": []
          }
        }
      ]
    },
    {
      "cell_type": "code",
      "metadata": {
        "id": "rsBKuk1UOu4W",
        "colab_type": "code",
        "outputId": "355b8af5-748d-4cf6-e754-98635d977b93",
        "colab": {
          "base_uri": "https://localhost:8080/",
          "height": 34
        }
      },
      "source": [
        "len(sequences_matrix),len(labels)"
      ],
      "execution_count": 11,
      "outputs": [
        {
          "output_type": "execute_result",
          "data": {
            "text/plain": [
              "(8743, 8743)"
            ]
          },
          "metadata": {
            "tags": []
          },
          "execution_count": 11
        }
      ]
    },
    {
      "cell_type": "code",
      "metadata": {
        "id": "j_CbYz9jJ1Bc",
        "colab_type": "code",
        "colab": {}
      },
      "source": [
        "from keras.models import Sequential\n",
        "from keras.layers import Embedding,CuDNNGRU,GRU,Dense,Dropout,Bidirectional,GlobalMaxPool1D,GlobalAveragePooling1D, SpatialDropout1D\n",
        "from keras.optimizers import RMSprop\n",
        "from keras.initializers import Constant\n",
        "from sklearn.utils import class_weight\n",
        "from sklearn.metrics import classification_report,f1_score\n",
        "import keras\n",
        "import numpy as np\n",
        "from sklearn.model_selection import StratifiedKFold\n",
        "from focal_loss import BinaryFocalLoss\n",
        "import tensorflow as tf\n",
        "tf.logging.set_verbosity(tf.logging.ERROR)"
      ],
      "execution_count": 0,
      "outputs": []
    },
    {
      "cell_type": "code",
      "metadata": {
        "id": "EUpgHo7nCE3C",
        "colab_type": "code",
        "outputId": "b1e443a2-7f37-48b0-f9ec-ec6f6e3ac201",
        "colab": {
          "base_uri": "https://localhost:8080/",
          "height": 34
        }
      },
      "source": [
        "num_words = min(max_words, len(word_index)) + 1\n",
        "print(num_words)"
      ],
      "execution_count": 13,
      "outputs": [
        {
          "output_type": "stream",
          "text": [
            "10001\n"
          ],
          "name": "stdout"
        }
      ]
    },
    {
      "cell_type": "code",
      "metadata": {
        "colab_type": "code",
        "id": "NdNYG_SM_s98",
        "colab": {
          "base_uri": "https://localhost:8080/",
          "height": 202
        },
        "outputId": "8f8671d8-b334-40a3-e853-f73257194dde"
      },
      "source": [
        "# !wget https://dl.fbaipublicfiles.com/fasttext/vectors-crawl/cc.el.300.vec.gz"
      ],
      "execution_count": 14,
      "outputs": [
        {
          "output_type": "stream",
          "text": [
            "--2020-02-16 17:17:22--  https://dl.fbaipublicfiles.com/fasttext/vectors-crawl/cc.el.300.vec.gz\n",
            "Resolving dl.fbaipublicfiles.com (dl.fbaipublicfiles.com)... 104.20.22.166, 104.20.6.166, 2606:4700:10::6814:6a6, ...\n",
            "Connecting to dl.fbaipublicfiles.com (dl.fbaipublicfiles.com)|104.20.22.166|:443... connected.\n",
            "HTTP request sent, awaiting response... 200 OK\n",
            "Length: 1256281783 (1.2G) [binary/octet-stream]\n",
            "Saving to: ‘cc.el.300.vec.gz’\n",
            "\n",
            "cc.el.300.vec.gz    100%[===================>]   1.17G  21.0MB/s    in 48s     \n",
            "\n",
            "2020-02-16 17:18:11 (24.9 MB/s) - ‘cc.el.300.vec.gz’ saved [1256281783/1256281783]\n",
            "\n"
          ],
          "name": "stdout"
        }
      ]
    },
    {
      "cell_type": "code",
      "metadata": {
        "colab_type": "code",
        "id": "OAAtXRaw_sNX",
        "colab": {}
      },
      "source": [
        "# import gzip\n",
        "# import shutil\n",
        "# with gzip.open('cc.el.300.vec.gz', 'rb') as f_in:\n",
        "#     with open('cc.el.300.vec', 'wb') as f_out:\n",
        "#         shutil.copyfileobj(f_in, f_out)"
      ],
      "execution_count": 0,
      "outputs": []
    },
    {
      "cell_type": "code",
      "metadata": {
        "id": "Hohu_6rE-Z6s",
        "colab_type": "code",
        "colab": {}
      },
      "source": [
        "embed_size=300\n",
        "def get_coefs(word,*arr):\n",
        "    return word, np.asarray(arr, dtype='float32')\n",
        "\n",
        "def build_matrix(embedding_path, word_index):\n",
        "    embedding_index = dict(get_coefs(*o.strip().split(\" \")) for o in open(embedding_path))\n",
        "\n",
        "    nb_words = min(max_words, len(word_index))\n",
        "    embedding_matrix = np.zeros((nb_words + 1, embed_size))\n",
        "    for word, i in word_index.items():\n",
        "        if i >= max_words:\n",
        "            continue\n",
        "        embedding_vector = embedding_index.get(word)\n",
        "        if embedding_vector is not None:\n",
        "            embedding_matrix[i] = embedding_vector\n",
        "    return embedding_matrix"
      ],
      "execution_count": 0,
      "outputs": []
    },
    {
      "cell_type": "code",
      "metadata": {
        "id": "faZVMLbw-cN-",
        "colab_type": "code",
        "colab": {}
      },
      "source": [
        "embeddings=build_matrix('cc.el.300.vec', word_index)\n"
      ],
      "execution_count": 0,
      "outputs": []
    },
    {
      "cell_type": "code",
      "metadata": {
        "id": "et7AvsISBjZP",
        "colab_type": "code",
        "outputId": "5d2dca59-63f2-4487-ea83-79b670fbe837",
        "colab": {
          "base_uri": "https://localhost:8080/",
          "height": 34
        }
      },
      "source": [
        "embeddings.shape"
      ],
      "execution_count": 18,
      "outputs": [
        {
          "output_type": "execute_result",
          "data": {
            "text/plain": [
              "(10001, 300)"
            ]
          },
          "metadata": {
            "tags": []
          },
          "execution_count": 18
        }
      ]
    },
    {
      "cell_type": "code",
      "metadata": {
        "id": "gPExMeUk6Zrx",
        "colab_type": "code",
        "colab": {}
      },
      "source": [
        ""
      ],
      "execution_count": 0,
      "outputs": []
    },
    {
      "cell_type": "code",
      "metadata": {
        "id": "sTLZ31tIJ4Js",
        "colab_type": "code",
        "colab": {}
      },
      "source": [
        "def model_func():\n",
        "  model = Sequential()\n",
        "  model.add(Embedding(num_words,embed_size,embeddings_initializer=Constant(embeddings),input_length=max_len,trainable=False))\n",
        "  model.add(Bidirectional(CuDNNGRU(100, return_sequences = True)))\n",
        "  #model.add(Bidirectional(CuDNNGRU(32, return_sequences = True)))\n",
        "  model.add(GlobalMaxPool1D())\n",
        "  model.add(Dense(50, activation=\"relu\"))\n",
        "  model.add(Dense(20, activation=\"relu\"))\n",
        "  model.add(Dense(10, activation=\"relu\"))\n",
        "\n",
        "  model.add(Dropout(0.05))\n",
        "  model.add(Dense(1, activation=\"sigmoid\"))\n",
        "  model.compile(loss=BinaryFocalLoss(gamma=3), optimizer='adam', metrics=['accuracy'])\n",
        "  return model"
      ],
      "execution_count": 0,
      "outputs": []
    },
    {
      "cell_type": "code",
      "metadata": {
        "id": "g9qM_Y38hWEu",
        "colab_type": "code",
        "colab": {}
      },
      "source": [
        "import numpy as np\n",
        "class_weights = class_weight.compute_class_weight('balanced',np.unique(labels),labels)\n",
        "class_weights=dict(enumerate(class_weights))"
      ],
      "execution_count": 0,
      "outputs": []
    },
    {
      "cell_type": "code",
      "metadata": {
        "id": "VHE3OFWz3DTk",
        "colab_type": "code",
        "colab": {}
      },
      "source": [
        "from keras.callbacks import ReduceLROnPlateau\n",
        "reduce_lr = ReduceLROnPlateau(monitor='val_loss', factor=0.2,\n",
        "                              patience=2, min_lr=0.000001, verbose=1)"
      ],
      "execution_count": 0,
      "outputs": []
    },
    {
      "cell_type": "code",
      "metadata": {
        "id": "f-6ga8jGg5Pj",
        "colab_type": "code",
        "outputId": "ee816397-a02c-4a3e-c375-081219a7d0b1",
        "colab": {
          "base_uri": "https://localhost:8080/",
          "height": 1000
        }
      },
      "source": [
        "kfold = StratifiedKFold(n_splits=10, shuffle=False, random_state=2020)\n",
        "cvscores = []\n",
        "\n",
        "for train, test in kfold.split(sequences_matrix, labels):\n",
        "  model=model_func()\n",
        "  \n",
        "  model.fit(sequences_matrix[train], labels[train],batch_size=256,epochs=10,verbose=2,class_weight=class_weights,\n",
        "            validation_data=(sequences_matrix[test],labels[test]),callbacks=[reduce_lr])\n",
        "  y_pred = model.predict(sequences_matrix[test], batch_size=128, verbose=1)\n",
        "  y_pred_bool = np.argmax(y_pred, axis=1)\n",
        "  y_pred = (y_pred > 0.5)\n",
        "  f1=f1_score(labels[test], y_pred, average='macro')\n",
        "  cvscores.append(f1)\n",
        "  keras.backend.clear_session()"
      ],
      "execution_count": 22,
      "outputs": [
        {
          "output_type": "stream",
          "text": [
            "/usr/local/lib/python3.6/dist-packages/sklearn/model_selection/_split.py:296: FutureWarning: Setting a random_state has no effect since shuffle is False. This will raise an error in 0.24. You should leave random_state to its default (None), or set shuffle=True.\n",
            "  FutureWarning\n"
          ],
          "name": "stderr"
        },
        {
          "output_type": "stream",
          "text": [
            "Train on 7868 samples, validate on 875 samples\n",
            "Epoch 1/10\n",
            " - 17s - loss: 0.0755 - acc: 0.7143 - val_loss: 0.0717 - val_acc: 0.7154\n",
            "Epoch 2/10\n",
            " - 2s - loss: 0.0693 - acc: 0.7157 - val_loss: 0.0667 - val_acc: 0.7154\n",
            "Epoch 3/10\n",
            " - 2s - loss: 0.0644 - acc: 0.7173 - val_loss: 0.0635 - val_acc: 0.7371\n",
            "Epoch 4/10\n",
            " - 2s - loss: 0.0600 - acc: 0.7869 - val_loss: 0.0624 - val_acc: 0.7817\n",
            "Epoch 5/10\n",
            " - 1s - loss: 0.0575 - acc: 0.8129 - val_loss: 0.0618 - val_acc: 0.7874\n",
            "Epoch 6/10\n",
            " - 2s - loss: 0.0551 - acc: 0.8263 - val_loss: 0.0639 - val_acc: 0.7966\n",
            "Epoch 7/10\n",
            " - 2s - loss: 0.0519 - acc: 0.8474 - val_loss: 0.0649 - val_acc: 0.8103\n",
            "\n",
            "Epoch 00007: ReduceLROnPlateau reducing learning rate to 0.00020000000949949026.\n",
            "Epoch 8/10\n",
            " - 2s - loss: 0.0479 - acc: 0.8578 - val_loss: 0.0653 - val_acc: 0.8103\n",
            "Epoch 9/10\n",
            " - 2s - loss: 0.0466 - acc: 0.8616 - val_loss: 0.0643 - val_acc: 0.8091\n",
            "\n",
            "Epoch 00009: ReduceLROnPlateau reducing learning rate to 4.0000001899898055e-05.\n",
            "Epoch 10/10\n",
            " - 2s - loss: 0.0453 - acc: 0.8688 - val_loss: 0.0655 - val_acc: 0.8114\n",
            "875/875 [==============================] - 0s 222us/step\n",
            "Train on 7868 samples, validate on 875 samples\n",
            "Epoch 1/10\n",
            " - 3s - loss: 0.0776 - acc: 0.6910 - val_loss: 0.0740 - val_acc: 0.7211\n",
            "Epoch 2/10\n",
            " - 2s - loss: 0.0716 - acc: 0.7196 - val_loss: 0.0708 - val_acc: 0.7246\n",
            "Epoch 3/10\n",
            " - 2s - loss: 0.0650 - acc: 0.7651 - val_loss: 0.0636 - val_acc: 0.7989\n",
            "Epoch 4/10\n",
            " - 2s - loss: 0.0590 - acc: 0.8040 - val_loss: 0.0616 - val_acc: 0.7851\n",
            "Epoch 5/10\n",
            " - 2s - loss: 0.0553 - acc: 0.8237 - val_loss: 0.0571 - val_acc: 0.8274\n",
            "Epoch 6/10\n",
            " - 2s - loss: 0.0523 - acc: 0.8364 - val_loss: 0.0566 - val_acc: 0.8263\n",
            "Epoch 7/10\n",
            " - 2s - loss: 0.0503 - acc: 0.8498 - val_loss: 0.0553 - val_acc: 0.8251\n",
            "Epoch 8/10\n",
            " - 2s - loss: 0.0478 - acc: 0.8585 - val_loss: 0.0553 - val_acc: 0.8229\n",
            "Epoch 9/10\n",
            " - 2s - loss: 0.0443 - acc: 0.8704 - val_loss: 0.0607 - val_acc: 0.7851\n",
            "\n",
            "Epoch 00009: ReduceLROnPlateau reducing learning rate to 0.00020000000949949026.\n",
            "Epoch 10/10\n",
            " - 2s - loss: 0.0403 - acc: 0.8860 - val_loss: 0.0561 - val_acc: 0.8183\n",
            "875/875 [==============================] - 0s 194us/step\n",
            "Train on 7868 samples, validate on 875 samples\n",
            "Epoch 1/10\n",
            " - 3s - loss: 0.0769 - acc: 0.7098 - val_loss: 0.0738 - val_acc: 0.7086\n",
            "Epoch 2/10\n",
            " - 2s - loss: 0.0709 - acc: 0.7260 - val_loss: 0.0673 - val_acc: 0.7360\n",
            "Epoch 3/10\n",
            " - 2s - loss: 0.0654 - acc: 0.7661 - val_loss: 0.0607 - val_acc: 0.8011\n",
            "Epoch 4/10\n",
            " - 2s - loss: 0.0596 - acc: 0.7941 - val_loss: 0.0575 - val_acc: 0.8171\n",
            "Epoch 5/10\n",
            " - 2s - loss: 0.0558 - acc: 0.8160 - val_loss: 0.0548 - val_acc: 0.8343\n",
            "Epoch 6/10\n",
            " - 2s - loss: 0.0520 - acc: 0.8344 - val_loss: 0.0537 - val_acc: 0.8297\n",
            "Epoch 7/10\n",
            " - 2s - loss: 0.0506 - acc: 0.8381 - val_loss: 0.0535 - val_acc: 0.8377\n",
            "Epoch 8/10\n",
            " - 2s - loss: 0.0479 - acc: 0.8462 - val_loss: 0.0532 - val_acc: 0.8343\n",
            "Epoch 9/10\n",
            " - 2s - loss: 0.0441 - acc: 0.8594 - val_loss: 0.0548 - val_acc: 0.8434\n",
            "Epoch 10/10\n",
            " - 2s - loss: 0.0405 - acc: 0.8707 - val_loss: 0.0546 - val_acc: 0.8286\n",
            "\n",
            "Epoch 00010: ReduceLROnPlateau reducing learning rate to 0.00020000000949949026.\n",
            "875/875 [==============================] - 0s 190us/step\n",
            "Train on 7869 samples, validate on 874 samples\n",
            "Epoch 1/10\n",
            " - 2s - loss: 0.0804 - acc: 0.6800 - val_loss: 0.0763 - val_acc: 0.7162\n",
            "Epoch 2/10\n",
            " - 2s - loss: 0.0751 - acc: 0.7139 - val_loss: 0.0721 - val_acc: 0.7162\n",
            "Epoch 3/10\n",
            " - 2s - loss: 0.0696 - acc: 0.7287 - val_loss: 0.0650 - val_acc: 0.7689\n",
            "Epoch 4/10\n",
            " - 2s - loss: 0.0612 - acc: 0.7946 - val_loss: 0.0578 - val_acc: 0.7986\n",
            "Epoch 5/10\n",
            " - 2s - loss: 0.0560 - acc: 0.8228 - val_loss: 0.0562 - val_acc: 0.8101\n",
            "Epoch 6/10\n",
            " - 2s - loss: 0.0523 - acc: 0.8437 - val_loss: 0.0544 - val_acc: 0.8341\n",
            "Epoch 7/10\n",
            " - 2s - loss: 0.0482 - acc: 0.8554 - val_loss: 0.0568 - val_acc: 0.8043\n",
            "Epoch 8/10\n",
            " - 2s - loss: 0.0467 - acc: 0.8559 - val_loss: 0.0537 - val_acc: 0.8352\n",
            "Epoch 9/10\n",
            " - 2s - loss: 0.0429 - acc: 0.8755 - val_loss: 0.0646 - val_acc: 0.8112\n",
            "Epoch 10/10\n",
            " - 2s - loss: 0.0400 - acc: 0.8814 - val_loss: 0.0580 - val_acc: 0.8181\n",
            "\n",
            "Epoch 00010: ReduceLROnPlateau reducing learning rate to 0.00020000000949949026.\n",
            "874/874 [==============================] - 0s 201us/step\n",
            "Train on 7869 samples, validate on 874 samples\n",
            "Epoch 1/10\n",
            " - 2s - loss: 0.0753 - acc: 0.7110 - val_loss: 0.0720 - val_acc: 0.7162\n",
            "Epoch 2/10\n",
            " - 2s - loss: 0.0696 - acc: 0.7156 - val_loss: 0.0688 - val_acc: 0.7162\n",
            "Epoch 3/10\n",
            " - 2s - loss: 0.0646 - acc: 0.7221 - val_loss: 0.0652 - val_acc: 0.7471\n",
            "Epoch 4/10\n",
            " - 2s - loss: 0.0612 - acc: 0.7817 - val_loss: 0.0637 - val_acc: 0.7780\n",
            "Epoch 5/10\n",
            " - 2s - loss: 0.0584 - acc: 0.8033 - val_loss: 0.0615 - val_acc: 0.7929\n",
            "Epoch 6/10\n",
            " - 2s - loss: 0.0558 - acc: 0.8137 - val_loss: 0.0607 - val_acc: 0.7906\n",
            "Epoch 7/10\n",
            " - 2s - loss: 0.0525 - acc: 0.8259 - val_loss: 0.0596 - val_acc: 0.8101\n",
            "Epoch 8/10\n",
            " - 2s - loss: 0.0486 - acc: 0.8517 - val_loss: 0.0613 - val_acc: 0.8124\n",
            "Epoch 9/10\n",
            " - 2s - loss: 0.0464 - acc: 0.8588 - val_loss: 0.0607 - val_acc: 0.7941\n",
            "\n",
            "Epoch 00009: ReduceLROnPlateau reducing learning rate to 0.00020000000949949026.\n",
            "Epoch 10/10\n",
            " - 2s - loss: 0.0409 - acc: 0.8874 - val_loss: 0.0629 - val_acc: 0.8066\n",
            "874/874 [==============================] - 0s 211us/step\n",
            "Train on 7869 samples, validate on 874 samples\n",
            "Epoch 1/10\n",
            " - 2s - loss: 0.0772 - acc: 0.7111 - val_loss: 0.0749 - val_acc: 0.7162\n",
            "Epoch 2/10\n",
            " - 2s - loss: 0.0726 - acc: 0.7202 - val_loss: 0.0707 - val_acc: 0.7300\n",
            "Epoch 3/10\n",
            " - 2s - loss: 0.0657 - acc: 0.7607 - val_loss: 0.0641 - val_acc: 0.7998\n",
            "Epoch 4/10\n",
            " - 2s - loss: 0.0605 - acc: 0.7971 - val_loss: 0.0635 - val_acc: 0.7883\n",
            "Epoch 5/10\n",
            " - 2s - loss: 0.0561 - acc: 0.8115 - val_loss: 0.0591 - val_acc: 0.8135\n",
            "Epoch 6/10\n",
            " - 2s - loss: 0.0530 - acc: 0.8328 - val_loss: 0.0575 - val_acc: 0.8341\n",
            "Epoch 7/10\n",
            " - 2s - loss: 0.0498 - acc: 0.8405 - val_loss: 0.0602 - val_acc: 0.8318\n",
            "Epoch 8/10\n",
            " - 2s - loss: 0.0468 - acc: 0.8553 - val_loss: 0.0579 - val_acc: 0.8272\n",
            "\n",
            "Epoch 00008: ReduceLROnPlateau reducing learning rate to 0.00020000000949949026.\n",
            "Epoch 9/10\n",
            " - 2s - loss: 0.0426 - acc: 0.8663 - val_loss: 0.0579 - val_acc: 0.8330\n",
            "Epoch 10/10\n",
            " - 2s - loss: 0.0415 - acc: 0.8727 - val_loss: 0.0587 - val_acc: 0.8341\n",
            "\n",
            "Epoch 00010: ReduceLROnPlateau reducing learning rate to 4.0000001899898055e-05.\n",
            "874/874 [==============================] - 0s 206us/step\n",
            "Train on 7869 samples, validate on 874 samples\n",
            "Epoch 1/10\n",
            " - 2s - loss: 0.0758 - acc: 0.7174 - val_loss: 0.0703 - val_acc: 0.7426\n",
            "Epoch 2/10\n",
            " - 2s - loss: 0.0691 - acc: 0.7413 - val_loss: 0.0645 - val_acc: 0.7769\n",
            "Epoch 3/10\n",
            " - 2s - loss: 0.0619 - acc: 0.7856 - val_loss: 0.0677 - val_acc: 0.7654\n",
            "Epoch 4/10\n",
            " - 2s - loss: 0.0572 - acc: 0.8113 - val_loss: 0.0592 - val_acc: 0.8215\n",
            "Epoch 5/10\n",
            " - 2s - loss: 0.0527 - acc: 0.8368 - val_loss: 0.0577 - val_acc: 0.8330\n",
            "Epoch 6/10\n",
            " - 2s - loss: 0.0493 - acc: 0.8456 - val_loss: 0.0601 - val_acc: 0.8112\n",
            "Epoch 7/10\n",
            " - 2s - loss: 0.0467 - acc: 0.8568 - val_loss: 0.0571 - val_acc: 0.8467\n",
            "Epoch 8/10\n",
            " - 2s - loss: 0.0438 - acc: 0.8611 - val_loss: 0.0597 - val_acc: 0.8364\n",
            "Epoch 9/10\n",
            " - 2s - loss: 0.0390 - acc: 0.8818 - val_loss: 0.0616 - val_acc: 0.8364\n",
            "\n",
            "Epoch 00009: ReduceLROnPlateau reducing learning rate to 0.00020000000949949026.\n",
            "Epoch 10/10\n",
            " - 2s - loss: 0.0337 - acc: 0.9001 - val_loss: 0.0625 - val_acc: 0.8444\n",
            "874/874 [==============================] - 0s 208us/step\n",
            "Train on 7869 samples, validate on 874 samples\n",
            "Epoch 1/10\n",
            " - 2s - loss: 0.0802 - acc: 0.6859 - val_loss: 0.0763 - val_acc: 0.7151\n",
            "Epoch 2/10\n",
            " - 2s - loss: 0.0750 - acc: 0.7157 - val_loss: 0.0729 - val_acc: 0.7151\n",
            "Epoch 3/10\n",
            " - 2s - loss: 0.0700 - acc: 0.7298 - val_loss: 0.0657 - val_acc: 0.7620\n",
            "Epoch 4/10\n",
            " - 2s - loss: 0.0636 - acc: 0.7739 - val_loss: 0.0596 - val_acc: 0.8009\n",
            "Epoch 5/10\n",
            " - 2s - loss: 0.0578 - acc: 0.8187 - val_loss: 0.0571 - val_acc: 0.8124\n",
            "Epoch 6/10\n",
            " - 2s - loss: 0.0542 - acc: 0.8384 - val_loss: 0.0552 - val_acc: 0.8215\n",
            "Epoch 7/10\n",
            " - 2s - loss: 0.0512 - acc: 0.8490 - val_loss: 0.0552 - val_acc: 0.8249\n",
            "Epoch 8/10\n",
            " - 2s - loss: 0.0492 - acc: 0.8533 - val_loss: 0.0561 - val_acc: 0.8261\n",
            "\n",
            "Epoch 00008: ReduceLROnPlateau reducing learning rate to 0.00020000000949949026.\n",
            "Epoch 9/10\n",
            " - 2s - loss: 0.0452 - acc: 0.8753 - val_loss: 0.0553 - val_acc: 0.8238\n",
            "Epoch 10/10\n",
            " - 2s - loss: 0.0439 - acc: 0.8771 - val_loss: 0.0553 - val_acc: 0.8330\n",
            "\n",
            "Epoch 00010: ReduceLROnPlateau reducing learning rate to 4.0000001899898055e-05.\n",
            "874/874 [==============================] - 0s 201us/step\n",
            "Train on 7869 samples, validate on 874 samples\n",
            "Epoch 1/10\n",
            " - 2s - loss: 0.0794 - acc: 0.6987 - val_loss: 0.0757 - val_acc: 0.7151\n",
            "Epoch 2/10\n",
            " - 2s - loss: 0.0739 - acc: 0.7209 - val_loss: 0.0723 - val_acc: 0.7346\n",
            "Epoch 3/10\n",
            " - 2s - loss: 0.0668 - acc: 0.7616 - val_loss: 0.0634 - val_acc: 0.7803\n",
            "Epoch 4/10\n",
            " - 2s - loss: 0.0587 - acc: 0.8099 - val_loss: 0.0595 - val_acc: 0.8078\n",
            "Epoch 5/10\n",
            " - 2s - loss: 0.0554 - acc: 0.8291 - val_loss: 0.0591 - val_acc: 0.8124\n",
            "Epoch 6/10\n",
            " - 2s - loss: 0.0513 - acc: 0.8461 - val_loss: 0.0565 - val_acc: 0.8284\n",
            "Epoch 7/10\n",
            " - 2s - loss: 0.0488 - acc: 0.8555 - val_loss: 0.0561 - val_acc: 0.8204\n",
            "Epoch 8/10\n",
            " - 2s - loss: 0.0465 - acc: 0.8673 - val_loss: 0.0644 - val_acc: 0.7746\n",
            "Epoch 9/10\n",
            " - 2s - loss: 0.0444 - acc: 0.8706 - val_loss: 0.0571 - val_acc: 0.8158\n",
            "\n",
            "Epoch 00009: ReduceLROnPlateau reducing learning rate to 0.00020000000949949026.\n",
            "Epoch 10/10\n",
            " - 2s - loss: 0.0395 - acc: 0.8920 - val_loss: 0.0568 - val_acc: 0.8249\n",
            "874/874 [==============================] - 0s 203us/step\n",
            "Train on 7869 samples, validate on 874 samples\n",
            "Epoch 1/10\n",
            " - 2s - loss: 0.0778 - acc: 0.6808 - val_loss: 0.0742 - val_acc: 0.7162\n",
            "Epoch 2/10\n",
            " - 2s - loss: 0.0708 - acc: 0.7280 - val_loss: 0.0702 - val_acc: 0.7300\n",
            "Epoch 3/10\n",
            " - 2s - loss: 0.0646 - acc: 0.7752 - val_loss: 0.0635 - val_acc: 0.7838\n",
            "Epoch 4/10\n",
            " - 2s - loss: 0.0582 - acc: 0.8110 - val_loss: 0.0595 - val_acc: 0.8021\n",
            "Epoch 5/10\n",
            " - 2s - loss: 0.0528 - acc: 0.8377 - val_loss: 0.0595 - val_acc: 0.8135\n",
            "Epoch 6/10\n",
            " - 2s - loss: 0.0512 - acc: 0.8422 - val_loss: 0.0638 - val_acc: 0.7838\n",
            "\n",
            "Epoch 00006: ReduceLROnPlateau reducing learning rate to 0.00020000000949949026.\n",
            "Epoch 7/10\n",
            " - 2s - loss: 0.0488 - acc: 0.8547 - val_loss: 0.0552 - val_acc: 0.8272\n",
            "Epoch 8/10\n",
            " - 2s - loss: 0.0461 - acc: 0.8639 - val_loss: 0.0551 - val_acc: 0.8261\n",
            "Epoch 9/10\n",
            " - 2s - loss: 0.0450 - acc: 0.8677 - val_loss: 0.0554 - val_acc: 0.8307\n",
            "\n",
            "Epoch 00009: ReduceLROnPlateau reducing learning rate to 4.0000001899898055e-05.\n",
            "Epoch 10/10\n",
            " - 2s - loss: 0.0444 - acc: 0.8714 - val_loss: 0.0554 - val_acc: 0.8284\n",
            "874/874 [==============================] - 0s 206us/step\n"
          ],
          "name": "stdout"
        }
      ]
    },
    {
      "cell_type": "code",
      "metadata": {
        "id": "NKgIrCHXJ_Gc",
        "colab_type": "code",
        "colab": {
          "base_uri": "https://localhost:8080/",
          "height": 34
        },
        "outputId": "98074ad1-815e-4490-dbdb-9d9ce9c56512"
      },
      "source": [
        "np.array(cvscores).mean()"
      ],
      "execution_count": 23,
      "outputs": [
        {
          "output_type": "execute_result",
          "data": {
            "text/plain": [
              "0.7711031039511097"
            ]
          },
          "metadata": {
            "tags": []
          },
          "execution_count": 23
        }
      ]
    },
    {
      "cell_type": "code",
      "metadata": {
        "id": "WwZrmmcPMfKm",
        "colab_type": "code",
        "colab": {}
      },
      "source": [
        ""
      ],
      "execution_count": 0,
      "outputs": []
    },
    {
      "cell_type": "code",
      "metadata": {
        "id": "sepj7fJ_REvZ",
        "colab_type": "code",
        "colab": {}
      },
      "source": [
        ""
      ],
      "execution_count": 0,
      "outputs": []
    }
  ]
}